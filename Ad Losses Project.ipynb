{
 "cells": [
  {
   "cell_type": "markdown",
   "metadata": {},
   "source": [
    "# Проектная работа\n",
    "## Описание проекта\n",
    "Несмотря на огромные вложения в рекламу, последние несколько месяцев компания терпит убытки. Ваша задача — разобраться в причинах и помочь компании выйти в плюс.\n",
    "Есть данные о пользователях, привлечённых с 1 мая по 27 октября 2019 года:\n",
    "\n",
    "   - лог сервера с данными об их посещениях,\n",
    "   - выгрузка их покупок за этот период,\n",
    "   - рекламные расходы.\n",
    "\n",
    "Вам предстоит изучить:\n",
    "\n",
    "   - откуда приходят пользователи и какими устройствами они пользуются,\n",
    "   - сколько стоит привлечение пользователей из различных рекламных каналов;\n",
    "   - сколько денег приносит каждый клиент,\n",
    "   - когда расходы на привлечение клиента окупаются,\n",
    "   - какие факторы мешают привлечению клиентов.\n",
    "\n",
    "## Описание данных\n",
    "В вашем распоряжении три датасета. Файл visits_info_short.csv хранит лог сервера с информацией о посещениях сайта, orders_info_short.csv — информацию о заказах, а costs_info_short.csv — информацию о расходах на рекламу.\n",
    "### Структура visits_info_short.csv:\n",
    "\n",
    "   - User Id — уникальный идентификатор пользователя,\n",
    "   - Region — страна пользователя,\n",
    "   - Device — тип устройства пользователя,\n",
    "   - Channel — идентификатор источника перехода,\n",
    "   - Session Start — дата и время начала сессии,\n",
    "   - Session End — дата и время окончания сессии.\n",
    "\n",
    "### Структура orders_info_short.csv:\n",
    "\n",
    "   - User Id — уникальный идентификатор пользователя,\n",
    "   - Event Dt — дата и время покупки,\n",
    "   - Revenue — сумма заказа.\n",
    "\n",
    "### Структура costs_info_short.csv:\n",
    "\n",
    "   - dt — дата проведения рекламной кампании,\n",
    "   - Channel — идентификатор рекламного источника,\n",
    "   - costs — расходы на эту кампанию."
   ]
  },
  {
   "cell_type": "markdown",
   "metadata": {
    "id": "r-BO88CnWVwe"
   },
   "source": [
    "## Загрузите данные и подготовьте их к анализу"
   ]
  },
  {
   "cell_type": "markdown",
   "metadata": {
    "id": "LCZi0P80WVwj"
   },
   "source": [
    "Загрузите данные о визитах, заказах и рекламных расходах из CSV-файлов в переменные.\n",
    "\n",
    "**Пути к файлам**\n",
    "\n",
    "- визиты: `/datasets/visits_info_short.csv`. [Скачать датасет](https://code.s3.yandex.net/datasets/visits_info_short.csv);\n",
    "- заказы: `/datasets/orders_info_short.csv`. [Скачать датасет](https://code.s3.yandex.net/datasets/orders_info_short.csv);\n",
    "- расходы: `/datasets/costs_info_short.csv`. [Скачать датасет](https://code.s3.yandex.net/datasets/costs_info_short.csv).\n",
    "\n",
    "Изучите данные и выполните предобработку. Есть ли в данных пропуски и дубликаты? Убедитесь, что типы данных во всех колонках соответствуют сохранённым в них значениям. Обратите внимание на столбцы с датой и временем."
   ]
  },
  {
   "cell_type": "code",
   "execution_count": 1,
   "metadata": {
    "id": "_vsKinGUWVwk"
   },
   "outputs": [],
   "source": [
    "# Импорт библиотек\n",
    "import pandas as pd\n",
    "import numpy as np\n",
    "import seaborn as sns\n",
    "import matplotlib.pyplot as plt\n",
    "from datetime import datetime, timedelta"
   ]
  },
  {
   "cell_type": "code",
   "execution_count": 2,
   "metadata": {},
   "outputs": [],
   "source": [
    "# Считывание данных из CSV\n",
    "visits = pd.read_csv('/datasets/visits_info_short.csv')\n",
    "orders = pd.read_csv('/datasets/orders_info_short.csv')\n",
    "costs = pd.read_csv('/datasets/costs_info_short.csv')"
   ]
  },
  {
   "cell_type": "code",
   "execution_count": 3,
   "metadata": {
    "scrolled": true
   },
   "outputs": [
    {
     "data": {
      "text/html": [
       "<div>\n",
       "<style scoped>\n",
       "    .dataframe tbody tr th:only-of-type {\n",
       "        vertical-align: middle;\n",
       "    }\n",
       "\n",
       "    .dataframe tbody tr th {\n",
       "        vertical-align: top;\n",
       "    }\n",
       "\n",
       "    .dataframe thead th {\n",
       "        text-align: right;\n",
       "    }\n",
       "</style>\n",
       "<table border=\"1\" class=\"dataframe\">\n",
       "  <thead>\n",
       "    <tr style=\"text-align: right;\">\n",
       "      <th></th>\n",
       "      <th>User Id</th>\n",
       "      <th>Region</th>\n",
       "      <th>Device</th>\n",
       "      <th>Channel</th>\n",
       "      <th>Session Start</th>\n",
       "      <th>Session End</th>\n",
       "    </tr>\n",
       "  </thead>\n",
       "  <tbody>\n",
       "    <tr>\n",
       "      <th>0</th>\n",
       "      <td>981449118918</td>\n",
       "      <td>United States</td>\n",
       "      <td>iPhone</td>\n",
       "      <td>organic</td>\n",
       "      <td>2019-05-01 02:36:01</td>\n",
       "      <td>2019-05-01 02:45:01</td>\n",
       "    </tr>\n",
       "    <tr>\n",
       "      <th>1</th>\n",
       "      <td>278965908054</td>\n",
       "      <td>United States</td>\n",
       "      <td>iPhone</td>\n",
       "      <td>organic</td>\n",
       "      <td>2019-05-01 04:46:31</td>\n",
       "      <td>2019-05-01 04:47:35</td>\n",
       "    </tr>\n",
       "    <tr>\n",
       "      <th>2</th>\n",
       "      <td>590706206550</td>\n",
       "      <td>United States</td>\n",
       "      <td>Mac</td>\n",
       "      <td>organic</td>\n",
       "      <td>2019-05-01 14:09:25</td>\n",
       "      <td>2019-05-01 15:32:08</td>\n",
       "    </tr>\n",
       "    <tr>\n",
       "      <th>3</th>\n",
       "      <td>326433527971</td>\n",
       "      <td>United States</td>\n",
       "      <td>Android</td>\n",
       "      <td>TipTop</td>\n",
       "      <td>2019-05-01 00:29:59</td>\n",
       "      <td>2019-05-01 00:54:25</td>\n",
       "    </tr>\n",
       "    <tr>\n",
       "      <th>4</th>\n",
       "      <td>349773784594</td>\n",
       "      <td>United States</td>\n",
       "      <td>Mac</td>\n",
       "      <td>organic</td>\n",
       "      <td>2019-05-01 03:33:35</td>\n",
       "      <td>2019-05-01 03:57:40</td>\n",
       "    </tr>\n",
       "  </tbody>\n",
       "</table>\n",
       "</div>"
      ],
      "text/plain": [
       "        User Id         Region   Device  Channel        Session Start  \\\n",
       "0  981449118918  United States   iPhone  organic  2019-05-01 02:36:01   \n",
       "1  278965908054  United States   iPhone  organic  2019-05-01 04:46:31   \n",
       "2  590706206550  United States      Mac  organic  2019-05-01 14:09:25   \n",
       "3  326433527971  United States  Android   TipTop  2019-05-01 00:29:59   \n",
       "4  349773784594  United States      Mac  organic  2019-05-01 03:33:35   \n",
       "\n",
       "           Session End  \n",
       "0  2019-05-01 02:45:01  \n",
       "1  2019-05-01 04:47:35  \n",
       "2  2019-05-01 15:32:08  \n",
       "3  2019-05-01 00:54:25  \n",
       "4  2019-05-01 03:57:40  "
      ]
     },
     "execution_count": 3,
     "metadata": {},
     "output_type": "execute_result"
    }
   ],
   "source": [
    "# Получим представление о visits при помощи head()\n",
    "visits.head()"
   ]
  },
  {
   "cell_type": "code",
   "execution_count": 4,
   "metadata": {},
   "outputs": [
    {
     "data": {
      "text/html": [
       "<div>\n",
       "<style scoped>\n",
       "    .dataframe tbody tr th:only-of-type {\n",
       "        vertical-align: middle;\n",
       "    }\n",
       "\n",
       "    .dataframe tbody tr th {\n",
       "        vertical-align: top;\n",
       "    }\n",
       "\n",
       "    .dataframe thead th {\n",
       "        text-align: right;\n",
       "    }\n",
       "</style>\n",
       "<table border=\"1\" class=\"dataframe\">\n",
       "  <thead>\n",
       "    <tr style=\"text-align: right;\">\n",
       "      <th></th>\n",
       "      <th>User Id</th>\n",
       "      <th>Event Dt</th>\n",
       "      <th>Revenue</th>\n",
       "    </tr>\n",
       "  </thead>\n",
       "  <tbody>\n",
       "    <tr>\n",
       "      <th>0</th>\n",
       "      <td>188246423999</td>\n",
       "      <td>2019-05-01 23:09:52</td>\n",
       "      <td>4.99</td>\n",
       "    </tr>\n",
       "    <tr>\n",
       "      <th>1</th>\n",
       "      <td>174361394180</td>\n",
       "      <td>2019-05-01 12:24:04</td>\n",
       "      <td>4.99</td>\n",
       "    </tr>\n",
       "    <tr>\n",
       "      <th>2</th>\n",
       "      <td>529610067795</td>\n",
       "      <td>2019-05-01 11:34:04</td>\n",
       "      <td>4.99</td>\n",
       "    </tr>\n",
       "    <tr>\n",
       "      <th>3</th>\n",
       "      <td>319939546352</td>\n",
       "      <td>2019-05-01 15:34:40</td>\n",
       "      <td>4.99</td>\n",
       "    </tr>\n",
       "    <tr>\n",
       "      <th>4</th>\n",
       "      <td>366000285810</td>\n",
       "      <td>2019-05-01 13:59:51</td>\n",
       "      <td>4.99</td>\n",
       "    </tr>\n",
       "  </tbody>\n",
       "</table>\n",
       "</div>"
      ],
      "text/plain": [
       "        User Id             Event Dt  Revenue\n",
       "0  188246423999  2019-05-01 23:09:52     4.99\n",
       "1  174361394180  2019-05-01 12:24:04     4.99\n",
       "2  529610067795  2019-05-01 11:34:04     4.99\n",
       "3  319939546352  2019-05-01 15:34:40     4.99\n",
       "4  366000285810  2019-05-01 13:59:51     4.99"
      ]
     },
     "execution_count": 4,
     "metadata": {},
     "output_type": "execute_result"
    }
   ],
   "source": [
    "# Получим представление об orders при помощи head()\n",
    "orders.head()"
   ]
  },
  {
   "cell_type": "code",
   "execution_count": 5,
   "metadata": {
    "scrolled": true
   },
   "outputs": [
    {
     "data": {
      "text/html": [
       "<div>\n",
       "<style scoped>\n",
       "    .dataframe tbody tr th:only-of-type {\n",
       "        vertical-align: middle;\n",
       "    }\n",
       "\n",
       "    .dataframe tbody tr th {\n",
       "        vertical-align: top;\n",
       "    }\n",
       "\n",
       "    .dataframe thead th {\n",
       "        text-align: right;\n",
       "    }\n",
       "</style>\n",
       "<table border=\"1\" class=\"dataframe\">\n",
       "  <thead>\n",
       "    <tr style=\"text-align: right;\">\n",
       "      <th></th>\n",
       "      <th>dt</th>\n",
       "      <th>Channel</th>\n",
       "      <th>costs</th>\n",
       "    </tr>\n",
       "  </thead>\n",
       "  <tbody>\n",
       "    <tr>\n",
       "      <th>0</th>\n",
       "      <td>2019-05-01</td>\n",
       "      <td>FaceBoom</td>\n",
       "      <td>113.3</td>\n",
       "    </tr>\n",
       "    <tr>\n",
       "      <th>1</th>\n",
       "      <td>2019-05-02</td>\n",
       "      <td>FaceBoom</td>\n",
       "      <td>78.1</td>\n",
       "    </tr>\n",
       "    <tr>\n",
       "      <th>2</th>\n",
       "      <td>2019-05-03</td>\n",
       "      <td>FaceBoom</td>\n",
       "      <td>85.8</td>\n",
       "    </tr>\n",
       "    <tr>\n",
       "      <th>3</th>\n",
       "      <td>2019-05-04</td>\n",
       "      <td>FaceBoom</td>\n",
       "      <td>136.4</td>\n",
       "    </tr>\n",
       "    <tr>\n",
       "      <th>4</th>\n",
       "      <td>2019-05-05</td>\n",
       "      <td>FaceBoom</td>\n",
       "      <td>122.1</td>\n",
       "    </tr>\n",
       "  </tbody>\n",
       "</table>\n",
       "</div>"
      ],
      "text/plain": [
       "           dt   Channel  costs\n",
       "0  2019-05-01  FaceBoom  113.3\n",
       "1  2019-05-02  FaceBoom   78.1\n",
       "2  2019-05-03  FaceBoom   85.8\n",
       "3  2019-05-04  FaceBoom  136.4\n",
       "4  2019-05-05  FaceBoom  122.1"
      ]
     },
     "execution_count": 5,
     "metadata": {},
     "output_type": "execute_result"
    }
   ],
   "source": [
    "# Получим представление о costs при помощи head()\n",
    "costs.head()"
   ]
  },
  {
   "cell_type": "markdown",
   "metadata": {},
   "source": []
  },
  {
   "cell_type": "markdown",
   "metadata": {},
   "source": [
    "### Предобработка данных\n",
    "Предобработка visits"
   ]
  },
  {
   "cell_type": "code",
   "execution_count": 6,
   "metadata": {},
   "outputs": [
    {
     "name": "stdout",
     "output_type": "stream",
     "text": [
      "<class 'pandas.core.frame.DataFrame'>\n",
      "RangeIndex: 309901 entries, 0 to 309900\n",
      "Data columns (total 6 columns):\n",
      " #   Column         Non-Null Count   Dtype \n",
      "---  ------         --------------   ----- \n",
      " 0   User Id        309901 non-null  int64 \n",
      " 1   Region         309901 non-null  object\n",
      " 2   Device         309901 non-null  object\n",
      " 3   Channel        309901 non-null  object\n",
      " 4   Session Start  309901 non-null  object\n",
      " 5   Session End    309901 non-null  object\n",
      "dtypes: int64(1), object(5)\n",
      "memory usage: 14.2+ MB\n"
     ]
    }
   ],
   "source": [
    "# Информация visits\n",
    "visits.info()"
   ]
  },
  {
   "cell_type": "code",
   "execution_count": 7,
   "metadata": {
    "scrolled": false
   },
   "outputs": [
    {
     "data": {
      "text/plain": [
       "0"
      ]
     },
     "execution_count": 7,
     "metadata": {},
     "output_type": "execute_result"
    }
   ],
   "source": [
    "# Проверяю visits на дубликаты\n",
    "visits.duplicated().sum()"
   ]
  },
  {
   "cell_type": "code",
   "execution_count": 8,
   "metadata": {},
   "outputs": [
    {
     "data": {
      "text/plain": [
       "User Id          0\n",
       "Region           0\n",
       "Device           0\n",
       "Channel          0\n",
       "Session Start    0\n",
       "Session End      0\n",
       "dtype: int64"
      ]
     },
     "execution_count": 8,
     "metadata": {},
     "output_type": "execute_result"
    }
   ],
   "source": [
    "# Посчитаем пропуски\n",
    "visits.isna().sum()"
   ]
  },
  {
   "cell_type": "code",
   "execution_count": 9,
   "metadata": {},
   "outputs": [
    {
     "data": {
      "text/plain": [
       "['User Id', 'Region', 'Device', 'Channel', 'Session Start', 'Session End']"
      ]
     },
     "execution_count": 9,
     "metadata": {},
     "output_type": "execute_result"
    }
   ],
   "source": [
    "# Получу имена колонок visits\n",
    "visits.columns.to_list()"
   ]
  },
  {
   "cell_type": "code",
   "execution_count": 10,
   "metadata": {},
   "outputs": [],
   "source": [
    "# Переименовываю колонки на более подходящие\n",
    "visits.columns = ['user_id', 'region','device', 'channel', 'session_start', 'session_end']"
   ]
  },
  {
   "cell_type": "code",
   "execution_count": 11,
   "metadata": {},
   "outputs": [],
   "source": [
    "# Привожу время к необходимому формату\n",
    "visits['session_start'] = pd.to_datetime(visits['session_start'], format = '%Y-%m-%d %H:%M:%S')\n",
    "visits['session_end'] = pd.to_datetime(visits['session_end'], format = '%Y-%m-%d %H:%M:%S')"
   ]
  },
  {
   "cell_type": "code",
   "execution_count": 12,
   "metadata": {
    "scrolled": true
   },
   "outputs": [
    {
     "name": "stdout",
     "output_type": "stream",
     "text": [
      "<class 'pandas.core.frame.DataFrame'>\n",
      "RangeIndex: 309901 entries, 0 to 309900\n",
      "Data columns (total 6 columns):\n",
      " #   Column         Non-Null Count   Dtype         \n",
      "---  ------         --------------   -----         \n",
      " 0   user_id        309901 non-null  int64         \n",
      " 1   region         309901 non-null  object        \n",
      " 2   device         309901 non-null  object        \n",
      " 3   channel        309901 non-null  object        \n",
      " 4   session_start  309901 non-null  datetime64[ns]\n",
      " 5   session_end    309901 non-null  datetime64[ns]\n",
      "dtypes: datetime64[ns](2), int64(1), object(3)\n",
      "memory usage: 14.2+ MB\n"
     ]
    }
   ],
   "source": [
    "# Информация visits\n",
    "visits.info()"
   ]
  },
  {
   "cell_type": "code",
   "execution_count": 13,
   "metadata": {},
   "outputs": [
    {
     "data": {
      "text/html": [
       "<div>\n",
       "<style scoped>\n",
       "    .dataframe tbody tr th:only-of-type {\n",
       "        vertical-align: middle;\n",
       "    }\n",
       "\n",
       "    .dataframe tbody tr th {\n",
       "        vertical-align: top;\n",
       "    }\n",
       "\n",
       "    .dataframe thead th {\n",
       "        text-align: right;\n",
       "    }\n",
       "</style>\n",
       "<table border=\"1\" class=\"dataframe\">\n",
       "  <thead>\n",
       "    <tr style=\"text-align: right;\">\n",
       "      <th></th>\n",
       "      <th>user_id</th>\n",
       "      <th>region</th>\n",
       "      <th>device</th>\n",
       "      <th>channel</th>\n",
       "      <th>session_start</th>\n",
       "      <th>session_end</th>\n",
       "    </tr>\n",
       "  </thead>\n",
       "  <tbody>\n",
       "    <tr>\n",
       "      <th>309896</th>\n",
       "      <td>329994900775</td>\n",
       "      <td>UK</td>\n",
       "      <td>PC</td>\n",
       "      <td>LeapBob</td>\n",
       "      <td>2019-10-31 13:28:12</td>\n",
       "      <td>2019-10-31 14:39:29</td>\n",
       "    </tr>\n",
       "    <tr>\n",
       "      <th>309897</th>\n",
       "      <td>334903592310</td>\n",
       "      <td>France</td>\n",
       "      <td>PC</td>\n",
       "      <td>lambdaMediaAds</td>\n",
       "      <td>2019-10-31 22:14:52</td>\n",
       "      <td>2019-10-31 22:39:36</td>\n",
       "    </tr>\n",
       "    <tr>\n",
       "      <th>309898</th>\n",
       "      <td>540102010126</td>\n",
       "      <td>Germany</td>\n",
       "      <td>PC</td>\n",
       "      <td>organic</td>\n",
       "      <td>2019-10-31 01:40:48</td>\n",
       "      <td>2019-10-31 01:41:31</td>\n",
       "    </tr>\n",
       "    <tr>\n",
       "      <th>309899</th>\n",
       "      <td>308736936846</td>\n",
       "      <td>Germany</td>\n",
       "      <td>Mac</td>\n",
       "      <td>organic</td>\n",
       "      <td>2019-10-31 07:37:34</td>\n",
       "      <td>2019-10-31 07:37:55</td>\n",
       "    </tr>\n",
       "    <tr>\n",
       "      <th>309900</th>\n",
       "      <td>109329042535</td>\n",
       "      <td>Germany</td>\n",
       "      <td>PC</td>\n",
       "      <td>lambdaMediaAds</td>\n",
       "      <td>2019-10-31 14:17:43</td>\n",
       "      <td>2019-10-31 15:17:04</td>\n",
       "    </tr>\n",
       "  </tbody>\n",
       "</table>\n",
       "</div>"
      ],
      "text/plain": [
       "             user_id   region device         channel       session_start  \\\n",
       "309896  329994900775       UK     PC         LeapBob 2019-10-31 13:28:12   \n",
       "309897  334903592310   France     PC  lambdaMediaAds 2019-10-31 22:14:52   \n",
       "309898  540102010126  Germany     PC         organic 2019-10-31 01:40:48   \n",
       "309899  308736936846  Germany    Mac         organic 2019-10-31 07:37:34   \n",
       "309900  109329042535  Germany     PC  lambdaMediaAds 2019-10-31 14:17:43   \n",
       "\n",
       "               session_end  \n",
       "309896 2019-10-31 14:39:29  \n",
       "309897 2019-10-31 22:39:36  \n",
       "309898 2019-10-31 01:41:31  \n",
       "309899 2019-10-31 07:37:55  \n",
       "309900 2019-10-31 15:17:04  "
      ]
     },
     "execution_count": 13,
     "metadata": {},
     "output_type": "execute_result"
    }
   ],
   "source": [
    "# Данные идущие сначала видели, посмотрим другие\n",
    "visits.tail()"
   ]
  },
  {
   "cell_type": "markdown",
   "metadata": {},
   "source": [
    "Оформил таблицу visits. Поменял названия столбцов. Привел даты к единому формату."
   ]
  },
  {
   "cell_type": "markdown",
   "metadata": {},
   "source": [
    "Предобработка orders"
   ]
  },
  {
   "cell_type": "code",
   "execution_count": 14,
   "metadata": {
    "scrolled": true
   },
   "outputs": [
    {
     "name": "stdout",
     "output_type": "stream",
     "text": [
      "<class 'pandas.core.frame.DataFrame'>\n",
      "RangeIndex: 40212 entries, 0 to 40211\n",
      "Data columns (total 3 columns):\n",
      " #   Column    Non-Null Count  Dtype  \n",
      "---  ------    --------------  -----  \n",
      " 0   User Id   40212 non-null  int64  \n",
      " 1   Event Dt  40212 non-null  object \n",
      " 2   Revenue   40212 non-null  float64\n",
      "dtypes: float64(1), int64(1), object(1)\n",
      "memory usage: 942.6+ KB\n"
     ]
    }
   ],
   "source": [
    "# Информация orders\n",
    "orders.info()"
   ]
  },
  {
   "cell_type": "code",
   "execution_count": 15,
   "metadata": {},
   "outputs": [
    {
     "data": {
      "text/plain": [
       "0"
      ]
     },
     "execution_count": 15,
     "metadata": {},
     "output_type": "execute_result"
    }
   ],
   "source": [
    "# Проверяю orders на дубликаты\n",
    "orders.duplicated().sum()"
   ]
  },
  {
   "cell_type": "code",
   "execution_count": 16,
   "metadata": {},
   "outputs": [
    {
     "data": {
      "text/plain": [
       "User Id     0\n",
       "Event Dt    0\n",
       "Revenue     0\n",
       "dtype: int64"
      ]
     },
     "execution_count": 16,
     "metadata": {},
     "output_type": "execute_result"
    }
   ],
   "source": [
    "# Посчитаем пропуски\n",
    "orders.isna().sum()"
   ]
  },
  {
   "cell_type": "code",
   "execution_count": 17,
   "metadata": {
    "scrolled": true
   },
   "outputs": [
    {
     "data": {
      "text/plain": [
       "['User Id', 'Event Dt', 'Revenue']"
      ]
     },
     "execution_count": 17,
     "metadata": {},
     "output_type": "execute_result"
    }
   ],
   "source": [
    "# Получу имена колонок orders\n",
    "orders.columns.to_list()"
   ]
  },
  {
   "cell_type": "code",
   "execution_count": 18,
   "metadata": {},
   "outputs": [],
   "source": [
    "# Переименовываю колонки на более подходящие\n",
    "orders.columns = ['user_id','event_date','revenue']"
   ]
  },
  {
   "cell_type": "code",
   "execution_count": 19,
   "metadata": {},
   "outputs": [],
   "source": [
    "# Привожу время к необходимому формату\n",
    "orders['event_dt'] = pd.to_datetime(orders['event_date'], format = '%Y-%m-%d %H:%M:%S')"
   ]
  },
  {
   "cell_type": "code",
   "execution_count": 20,
   "metadata": {
    "scrolled": true
   },
   "outputs": [
    {
     "name": "stdout",
     "output_type": "stream",
     "text": [
      "<class 'pandas.core.frame.DataFrame'>\n",
      "RangeIndex: 40212 entries, 0 to 40211\n",
      "Data columns (total 4 columns):\n",
      " #   Column      Non-Null Count  Dtype         \n",
      "---  ------      --------------  -----         \n",
      " 0   user_id     40212 non-null  int64         \n",
      " 1   event_date  40212 non-null  object        \n",
      " 2   revenue     40212 non-null  float64       \n",
      " 3   event_dt    40212 non-null  datetime64[ns]\n",
      "dtypes: datetime64[ns](1), float64(1), int64(1), object(1)\n",
      "memory usage: 1.2+ MB\n"
     ]
    }
   ],
   "source": [
    "# Информация orders\n",
    "orders.info()"
   ]
  },
  {
   "cell_type": "code",
   "execution_count": 21,
   "metadata": {},
   "outputs": [
    {
     "data": {
      "text/html": [
       "<div>\n",
       "<style scoped>\n",
       "    .dataframe tbody tr th:only-of-type {\n",
       "        vertical-align: middle;\n",
       "    }\n",
       "\n",
       "    .dataframe tbody tr th {\n",
       "        vertical-align: top;\n",
       "    }\n",
       "\n",
       "    .dataframe thead th {\n",
       "        text-align: right;\n",
       "    }\n",
       "</style>\n",
       "<table border=\"1\" class=\"dataframe\">\n",
       "  <thead>\n",
       "    <tr style=\"text-align: right;\">\n",
       "      <th></th>\n",
       "      <th>user_id</th>\n",
       "      <th>event_date</th>\n",
       "      <th>revenue</th>\n",
       "      <th>event_dt</th>\n",
       "    </tr>\n",
       "  </thead>\n",
       "  <tbody>\n",
       "    <tr>\n",
       "      <th>40207</th>\n",
       "      <td>651604369137</td>\n",
       "      <td>2019-10-31 16:19:07</td>\n",
       "      <td>4.99</td>\n",
       "      <td>2019-10-31 16:19:07</td>\n",
       "    </tr>\n",
       "    <tr>\n",
       "      <th>40208</th>\n",
       "      <td>275341387049</td>\n",
       "      <td>2019-10-31 01:17:17</td>\n",
       "      <td>4.99</td>\n",
       "      <td>2019-10-31 01:17:17</td>\n",
       "    </tr>\n",
       "    <tr>\n",
       "      <th>40209</th>\n",
       "      <td>374656616484</td>\n",
       "      <td>2019-10-31 06:17:29</td>\n",
       "      <td>4.99</td>\n",
       "      <td>2019-10-31 06:17:29</td>\n",
       "    </tr>\n",
       "    <tr>\n",
       "      <th>40210</th>\n",
       "      <td>168548862926</td>\n",
       "      <td>2019-10-31 22:46:19</td>\n",
       "      <td>4.99</td>\n",
       "      <td>2019-10-31 22:46:19</td>\n",
       "    </tr>\n",
       "    <tr>\n",
       "      <th>40211</th>\n",
       "      <td>329994900775</td>\n",
       "      <td>2019-10-31 13:29:06</td>\n",
       "      <td>4.99</td>\n",
       "      <td>2019-10-31 13:29:06</td>\n",
       "    </tr>\n",
       "  </tbody>\n",
       "</table>\n",
       "</div>"
      ],
      "text/plain": [
       "            user_id           event_date  revenue            event_dt\n",
       "40207  651604369137  2019-10-31 16:19:07     4.99 2019-10-31 16:19:07\n",
       "40208  275341387049  2019-10-31 01:17:17     4.99 2019-10-31 01:17:17\n",
       "40209  374656616484  2019-10-31 06:17:29     4.99 2019-10-31 06:17:29\n",
       "40210  168548862926  2019-10-31 22:46:19     4.99 2019-10-31 22:46:19\n",
       "40211  329994900775  2019-10-31 13:29:06     4.99 2019-10-31 13:29:06"
      ]
     },
     "execution_count": 21,
     "metadata": {},
     "output_type": "execute_result"
    }
   ],
   "source": [
    "# Данные идущие сначала видели, посмотрим другие\n",
    "orders.tail()"
   ]
  },
  {
   "cell_type": "markdown",
   "metadata": {},
   "source": [
    "Оформил таблицу orders. Поменял названия столбцов. Привел даты к единому формату."
   ]
  },
  {
   "cell_type": "markdown",
   "metadata": {},
   "source": [
    "Предобработка costs"
   ]
  },
  {
   "cell_type": "code",
   "execution_count": 22,
   "metadata": {
    "scrolled": true
   },
   "outputs": [
    {
     "name": "stdout",
     "output_type": "stream",
     "text": [
      "<class 'pandas.core.frame.DataFrame'>\n",
      "RangeIndex: 1800 entries, 0 to 1799\n",
      "Data columns (total 3 columns):\n",
      " #   Column   Non-Null Count  Dtype  \n",
      "---  ------   --------------  -----  \n",
      " 0   dt       1800 non-null   object \n",
      " 1   Channel  1800 non-null   object \n",
      " 2   costs    1800 non-null   float64\n",
      "dtypes: float64(1), object(2)\n",
      "memory usage: 42.3+ KB\n"
     ]
    }
   ],
   "source": [
    "# Информация costs\n",
    "costs.info()"
   ]
  },
  {
   "cell_type": "code",
   "execution_count": 23,
   "metadata": {},
   "outputs": [
    {
     "data": {
      "text/plain": [
       "0"
      ]
     },
     "execution_count": 23,
     "metadata": {},
     "output_type": "execute_result"
    }
   ],
   "source": [
    "# Проверяю costs на дубликаты\n",
    "costs.duplicated().sum()"
   ]
  },
  {
   "cell_type": "code",
   "execution_count": 24,
   "metadata": {},
   "outputs": [
    {
     "data": {
      "text/plain": [
       "dt         0\n",
       "Channel    0\n",
       "costs      0\n",
       "dtype: int64"
      ]
     },
     "execution_count": 24,
     "metadata": {},
     "output_type": "execute_result"
    }
   ],
   "source": [
    "# Посчитаем пропуски\n",
    "costs.isna().sum()"
   ]
  },
  {
   "cell_type": "code",
   "execution_count": 25,
   "metadata": {},
   "outputs": [
    {
     "data": {
      "text/plain": [
       "['dt', 'Channel', 'costs']"
      ]
     },
     "execution_count": 25,
     "metadata": {},
     "output_type": "execute_result"
    }
   ],
   "source": [
    "# Получу имена колонок costs\n",
    "costs.columns.to_list()"
   ]
  },
  {
   "cell_type": "code",
   "execution_count": 26,
   "metadata": {},
   "outputs": [],
   "source": [
    "# Переименовываю колонки на более подходящие\n",
    "costs.columns = ['dt', 'channel', 'costs']"
   ]
  },
  {
   "cell_type": "code",
   "execution_count": 27,
   "metadata": {},
   "outputs": [],
   "source": [
    "# Поменяю местами колонки\n",
    "costs = costs[['channel','dt','costs']]"
   ]
  },
  {
   "cell_type": "code",
   "execution_count": 28,
   "metadata": {},
   "outputs": [],
   "source": [
    "# Привожу время к необходимому формату\n",
    "costs['dt'] = pd.to_datetime(costs['dt'], format = '%Y-%m-%d')"
   ]
  },
  {
   "cell_type": "code",
   "execution_count": 29,
   "metadata": {},
   "outputs": [
    {
     "name": "stdout",
     "output_type": "stream",
     "text": [
      "<class 'pandas.core.frame.DataFrame'>\n",
      "RangeIndex: 1800 entries, 0 to 1799\n",
      "Data columns (total 3 columns):\n",
      " #   Column   Non-Null Count  Dtype         \n",
      "---  ------   --------------  -----         \n",
      " 0   channel  1800 non-null   object        \n",
      " 1   dt       1800 non-null   datetime64[ns]\n",
      " 2   costs    1800 non-null   float64       \n",
      "dtypes: datetime64[ns](1), float64(1), object(1)\n",
      "memory usage: 42.3+ KB\n"
     ]
    }
   ],
   "source": [
    "# Информация costs\n",
    "costs.info()"
   ]
  },
  {
   "cell_type": "code",
   "execution_count": 30,
   "metadata": {},
   "outputs": [
    {
     "data": {
      "text/html": [
       "<div>\n",
       "<style scoped>\n",
       "    .dataframe tbody tr th:only-of-type {\n",
       "        vertical-align: middle;\n",
       "    }\n",
       "\n",
       "    .dataframe tbody tr th {\n",
       "        vertical-align: top;\n",
       "    }\n",
       "\n",
       "    .dataframe thead th {\n",
       "        text-align: right;\n",
       "    }\n",
       "</style>\n",
       "<table border=\"1\" class=\"dataframe\">\n",
       "  <thead>\n",
       "    <tr style=\"text-align: right;\">\n",
       "      <th></th>\n",
       "      <th>channel</th>\n",
       "      <th>dt</th>\n",
       "      <th>costs</th>\n",
       "    </tr>\n",
       "  </thead>\n",
       "  <tbody>\n",
       "    <tr>\n",
       "      <th>1795</th>\n",
       "      <td>lambdaMediaAds</td>\n",
       "      <td>2019-10-23</td>\n",
       "      <td>4.0</td>\n",
       "    </tr>\n",
       "    <tr>\n",
       "      <th>1796</th>\n",
       "      <td>lambdaMediaAds</td>\n",
       "      <td>2019-10-24</td>\n",
       "      <td>6.4</td>\n",
       "    </tr>\n",
       "    <tr>\n",
       "      <th>1797</th>\n",
       "      <td>lambdaMediaAds</td>\n",
       "      <td>2019-10-25</td>\n",
       "      <td>8.8</td>\n",
       "    </tr>\n",
       "    <tr>\n",
       "      <th>1798</th>\n",
       "      <td>lambdaMediaAds</td>\n",
       "      <td>2019-10-26</td>\n",
       "      <td>8.8</td>\n",
       "    </tr>\n",
       "    <tr>\n",
       "      <th>1799</th>\n",
       "      <td>lambdaMediaAds</td>\n",
       "      <td>2019-10-27</td>\n",
       "      <td>12.0</td>\n",
       "    </tr>\n",
       "  </tbody>\n",
       "</table>\n",
       "</div>"
      ],
      "text/plain": [
       "             channel         dt  costs\n",
       "1795  lambdaMediaAds 2019-10-23    4.0\n",
       "1796  lambdaMediaAds 2019-10-24    6.4\n",
       "1797  lambdaMediaAds 2019-10-25    8.8\n",
       "1798  lambdaMediaAds 2019-10-26    8.8\n",
       "1799  lambdaMediaAds 2019-10-27   12.0"
      ]
     },
     "execution_count": 30,
     "metadata": {},
     "output_type": "execute_result"
    }
   ],
   "source": [
    "# Данные идущие сначала видели, посмотрим другие\n",
    "costs.tail()"
   ]
  },
  {
   "cell_type": "markdown",
   "metadata": {},
   "source": [
    "Оформил таблицу costs. Поменял названия столбцов. Привел даты к единому формату."
   ]
  },
  {
   "cell_type": "markdown",
   "metadata": {
    "id": "AS1eCqCpWVwk"
   },
   "source": [
    "## Функции для расчёта и анализа LTV, ROI, удержания и конверсии.\n",
    "\n",
    "Разрешается использовать функции, с которыми вы познакомились в теоретических уроках.\n",
    "\n",
    "Это функции для вычисления значений метрик:\n",
    "\n",
    "- `get_profiles()` — для создания профилей пользователей,\n",
    "- `get_retention()` — для подсчёта Retention Rate,\n",
    "- `get_conversion()` — для подсчёта конверсии,\n",
    "- `get_ltv()` — для подсчёта LTV.\n",
    "\n",
    "А также функции для построения графиков:\n",
    "\n",
    "- `filter_data()` — для сглаживания данных,\n",
    "- `plot_retention()` — для построения графика Retention Rate,\n",
    "- `plot_conversion()` — для построения графика конверсии,\n",
    "- `plot_ltv_roi` — для визуализации LTV и ROI."
   ]
  },
  {
   "cell_type": "markdown",
   "metadata": {},
   "source": [
    "Зададим функции для вычисления значений метрик:"
   ]
  },
  {
   "cell_type": "code",
   "execution_count": 31,
   "metadata": {
    "id": "igOfMgBpWVwl"
   },
   "outputs": [],
   "source": [
    "# функция для создания пользовательских профилей\n",
    "def get_profiles(sessions, orders, ad_costs):\n",
    "    \n",
    "    # сортируем сессии по ID пользователя и дате привлечения\n",
    "    # группируем по ID и находим параметры первых посещений\n",
    "    profiles = (\n",
    "        sessions.sort_values(by=['user_id', 'session_start'])\n",
    "        .groupby('user_id')\n",
    "        .agg(\n",
    "            {\n",
    "                'session_start': 'first',\n",
    "                'channel': 'first',\n",
    "                'device': 'first',\n",
    "                'region': 'first',\n",
    "            }\n",
    "        )\n",
    "         # время первого посещения назовём first_ts\n",
    "        .rename(columns={'session_start': 'first_ts'})\n",
    "        .reset_index()  # возвращаем user_id из индекса\n",
    "    )\n",
    "    \n",
    "    # для когортного анализа определяем дату первого посещения\n",
    "    # и первый день месяца, в который это посещение произошло\n",
    "    profiles['dt'] = profiles['first_ts'].astype('datetime64[D]')\n",
    "    profiles['month'] = profiles['first_ts'].astype('datetime64[M]')\n",
    "    \n",
    "    # добавляем признак платящих пользователей\n",
    "    profiles['payer'] = profiles['user_id'].isin(orders['user_id'].unique())\n",
    "    # считаем количество уникальных пользователей\n",
    "    # с одинаковыми источником и датой привлечения\n",
    "    new_users = (\n",
    "        profiles.groupby(['dt', 'channel'])\n",
    "        .agg({'user_id': 'nunique'})\n",
    "         # столбец с числом пользователей назовём unique_users\n",
    "        .rename(columns={'user_id': 'unique_users'})\n",
    "        .reset_index()  # возвращаем dt и channel из индексов\n",
    "    )\n",
    "    \n",
    "    # объединяем траты на рекламу и число привлечённых пользователей\n",
    "    # по дате и каналу привлечения\n",
    "    ad_costs = ad_costs.merge(new_users, on=['dt', 'channel'], how='left')\n",
    "    \n",
    "    # делим рекламные расходы на число привлечённых пользователей\n",
    "    # результаты сохраним в столбец acquisition_cost (CAC)\n",
    "    ad_costs['acquisition_cost'] = ad_costs['costs'] / ad_costs['unique_users']\n",
    "    \n",
    "    # добавим стоимость привлечения в профили\n",
    "    profiles = profiles.merge(\n",
    "        ad_costs[['dt', 'channel', 'acquisition_cost']],\n",
    "        on=['dt', 'channel'],\n",
    "        how='left',\n",
    "    )\n",
    "    \n",
    "    \n",
    "    \n",
    "    # органические пользователи не связаны с данными о рекламе,\n",
    "    # поэтому в столбце acquisition_cost у них значения NaN\n",
    "    # заменим их на ноль, ведь стоимость привлечения равна нулю\n",
    "    profiles['acquisition_cost'] = profiles['acquisition_cost'].fillna(0)\n",
    "    \n",
    "    return profiles  # возвращаем профили с CAC"
   ]
  },
  {
   "cell_type": "code",
   "execution_count": 32,
   "metadata": {},
   "outputs": [],
   "source": [
    "# функция для расчёта удержания\n",
    "def get_retention(\n",
    "    profiles,\n",
    "    sessions,\n",
    "    observation_date,\n",
    "    horizon_days,\n",
    "    dimensions=[],\n",
    "    ignore_horizon=False,\n",
    "):\n",
    "\n",
    "    # добавляем столбец payer в передаваемый dimensions список\n",
    "    dimensions = ['payer'] + dimensions\n",
    "\n",
    "    # исключаем пользователей, не «доживших» до горизонта анализа\n",
    "    last_suitable_acquisition_date = observation_date\n",
    "    if not ignore_horizon:\n",
    "        last_suitable_acquisition_date = observation_date - timedelta(days=horizon_days - 1)\n",
    "    result_raw = profiles.query('dt <= @last_suitable_acquisition_date')\n",
    "\n",
    "    # собираем «сырые» данные для расчёта удержания\n",
    "    result_raw = result_raw.merge(\n",
    "        sessions[['user_id', 'session_start']], on='user_id', how='left'\n",
    "    )\n",
    "    result_raw['lifetime'] = (\n",
    "        result_raw['session_start'] - result_raw['first_ts']\n",
    "    ).dt.days\n",
    "\n",
    "    # функция для группировки таблицы по желаемым признакам\n",
    "    def group_by_dimensions(df, dims, horizon_days):\n",
    "        result = df.pivot_table(\n",
    "            index=dims, columns='lifetime', values='user_id', aggfunc='nunique'\n",
    "        )\n",
    "        cohort_sizes = (\n",
    "            df.groupby(dims)\n",
    "            .agg({'user_id': 'nunique'})\n",
    "            .rename(columns={'user_id': 'cohort_size'})\n",
    "        )\n",
    "        result = cohort_sizes.merge(result, on=dims, how='left').fillna(0)\n",
    "        result = result.div(result['cohort_size'], axis=0)\n",
    "        result = result[['cohort_size'] + list(range(horizon_days))]\n",
    "        result['cohort_size'] = cohort_sizes\n",
    "        return result\n",
    "\n",
    "    # получаем таблицу удержания\n",
    "    result_grouped = group_by_dimensions(result_raw, dimensions, horizon_days)\n",
    "\n",
    "    # получаем таблицу динамики удержания\n",
    "    result_in_time = group_by_dimensions(\n",
    "        result_raw, dimensions + ['dt'], horizon_days\n",
    "    )\n",
    "\n",
    "    # возвращаем обе таблицы и сырые данные\n",
    "    return result_raw, result_grouped, result_in_time"
   ]
  },
  {
   "cell_type": "code",
   "execution_count": 33,
   "metadata": {},
   "outputs": [],
   "source": [
    "# функция для расчёта конверсии\n",
    "def get_conversion(\n",
    "    profiles,\n",
    "    purchases,\n",
    "    observation_date,\n",
    "    horizon_days,\n",
    "    dimensions=[],\n",
    "    ignore_horizon=False,\n",
    "):\n",
    "\n",
    "    # исключаем пользователей, не «доживших» до горизонта анализа\n",
    "    last_suitable_acquisition_date = observation_date\n",
    "    if not ignore_horizon:\n",
    "        last_suitable_acquisition_date = observation_date - timedelta(days=horizon_days - 1)\n",
    "    result_raw = profiles.query('dt <= @last_suitable_acquisition_date')\n",
    "\n",
    "    # определяем дату и время первой покупки для каждого пользователя\n",
    "    first_purchases = (\n",
    "        purchases.sort_values(by=['user_id', 'event_dt'])\n",
    "        .groupby('user_id')\n",
    "        .agg({'event_dt': 'first'})\n",
    "        .reset_index()\n",
    "    )\n",
    "\n",
    "    # добавляем данные о покупках в профили\n",
    "    result_raw = result_raw.merge(\n",
    "        first_purchases[['user_id', 'event_dt']], on='user_id', how='left'\n",
    "    )\n",
    "\n",
    "    # рассчитываем лайфтайм для каждой покупки\n",
    "    result_raw['lifetime'] = (\n",
    "        result_raw['event_dt'] - result_raw['first_ts']\n",
    "    ).dt.days\n",
    "\n",
    "    # группируем по cohort, если в dimensions ничего нет\n",
    "    if len(dimensions) == 0:\n",
    "        result_raw['cohort'] = 'All users' \n",
    "        dimensions = dimensions + ['cohort']\n",
    "\n",
    "    # функция для группировки таблицы по желаемым признакам\n",
    "    def group_by_dimensions(df, dims, horizon_days):\n",
    "        result = df.pivot_table(\n",
    "            index=dims, columns='lifetime', values='user_id', aggfunc='nunique'\n",
    "        )\n",
    "        result = result.fillna(0).cumsum(axis = 1)\n",
    "        cohort_sizes = (\n",
    "            df.groupby(dims)\n",
    "            .agg({'user_id': 'nunique'})\n",
    "            .rename(columns={'user_id': 'cohort_size'})\n",
    "        )\n",
    "        result = cohort_sizes.merge(result, on=dims, how='left').fillna(0)\n",
    "        # делим каждую «ячейку» в строке на размер когорты\n",
    "        # и получаем conversion rate\n",
    "        result = result.div(result['cohort_size'], axis=0)\n",
    "        result = result[['cohort_size'] + list(range(horizon_days))]\n",
    "        result['cohort_size'] = cohort_sizes\n",
    "        return result\n",
    "\n",
    "    # получаем таблицу конверсии\n",
    "    result_grouped = group_by_dimensions(result_raw, dimensions, horizon_days)\n",
    "\n",
    "    # для таблицы динамики конверсии убираем 'cohort' из dimensions\n",
    "    if 'cohort' in dimensions: \n",
    "        dimensions = []\n",
    "\n",
    "    # получаем таблицу динамики конверсии\n",
    "    result_in_time = group_by_dimensions(\n",
    "        result_raw, dimensions + ['dt'], horizon_days\n",
    "    )\n",
    "\n",
    "    # возвращаем обе таблицы и сырые данные\n",
    "    return result_raw, result_grouped, result_in_time"
   ]
  },
  {
   "cell_type": "code",
   "execution_count": 34,
   "metadata": {},
   "outputs": [],
   "source": [
    "# функция для расчёта LTV и ROI\n",
    "def get_ltv(\n",
    "    profiles,\n",
    "    purchases,\n",
    "    observation_date,\n",
    "    horizon_days,\n",
    "    dimensions=[],\n",
    "    ignore_horizon=False,\n",
    "):\n",
    "\n",
    "    # исключаем пользователей, не «доживших» до горизонта анализа\n",
    "    last_suitable_acquisition_date = observation_date\n",
    "    if not ignore_horizon:\n",
    "        last_suitable_acquisition_date = observation_date - timedelta(days=horizon_days - 1)\n",
    "    result_raw = profiles.query('dt <= @last_suitable_acquisition_date')\n",
    "    # добавляем данные о покупках в профили\n",
    "    result_raw = result_raw.merge(\n",
    "        purchases[['user_id', 'event_dt', 'revenue']], on='user_id', how='left'\n",
    "    )\n",
    "    # рассчитываем лайфтайм пользователя для каждой покупки\n",
    "    result_raw['lifetime'] = (\n",
    "        result_raw['event_dt'] - result_raw['first_ts']\n",
    "    ).dt.days\n",
    "    # группируем по cohort, если в dimensions ничего нет\n",
    "    if len(dimensions) == 0:\n",
    "        result_raw['cohort'] = 'All users'\n",
    "        dimensions = dimensions + ['cohort']\n",
    "\n",
    "    # функция группировки по желаемым признакам\n",
    "    def group_by_dimensions(df, dims, horizon_days):\n",
    "        # строим «треугольную» таблицу выручки\n",
    "        result = df.pivot_table(\n",
    "            index=dims, columns='lifetime', values='revenue', aggfunc='sum'\n",
    "        )\n",
    "        # находим сумму выручки с накоплением\n",
    "        result = result.fillna(0).cumsum(axis=1)\n",
    "        # вычисляем размеры когорт\n",
    "        cohort_sizes = (\n",
    "            df.groupby(dims)\n",
    "            .agg({'user_id': 'nunique'})\n",
    "            .rename(columns={'user_id': 'cohort_size'})\n",
    "        )\n",
    "        # объединяем размеры когорт и таблицу выручки\n",
    "        result = cohort_sizes.merge(result, on=dims, how='left').fillna(0)\n",
    "        # считаем LTV: делим каждую «ячейку» в строке на размер когорты\n",
    "        result = result.div(result['cohort_size'], axis=0)\n",
    "        # исключаем все лайфтаймы, превышающие горизонт анализа\n",
    "        result = result[['cohort_size'] + list(range(horizon_days))]\n",
    "        # восстанавливаем размеры когорт\n",
    "        result['cohort_size'] = cohort_sizes\n",
    "\n",
    "        # собираем датафрейм с данными пользователей и значениями CAC, \n",
    "        # добавляя параметры из dimensions\n",
    "        cac = df[['user_id', 'acquisition_cost'] + dims].drop_duplicates()\n",
    "\n",
    "        # считаем средний CAC по параметрам из dimensions\n",
    "        cac = (\n",
    "            cac.groupby(dims)\n",
    "            .agg({'acquisition_cost': 'mean'})\n",
    "            .rename(columns={'acquisition_cost': 'cac'})\n",
    "        )\n",
    "\n",
    "        # считаем ROI: делим LTV на CAC\n",
    "        roi = result.div(cac['cac'], axis=0)\n",
    "\n",
    "        # удаляем строки с бесконечным ROI\n",
    "        roi = roi[~roi['cohort_size'].isin([np.inf])]\n",
    "\n",
    "        # восстанавливаем размеры когорт в таблице ROI\n",
    "        roi['cohort_size'] = cohort_sizes\n",
    "\n",
    "        # добавляем CAC в таблицу ROI\n",
    "        roi['cac'] = cac['cac']\n",
    "\n",
    "        # в финальной таблице оставляем размеры когорт, CAC\n",
    "        # и ROI в лайфтаймы, не превышающие горизонт анализа\n",
    "        roi = roi[['cohort_size', 'cac'] + list(range(horizon_days))]\n",
    "\n",
    "        # возвращаем таблицы LTV и ROI\n",
    "        return result, roi\n",
    "\n",
    "    # получаем таблицы LTV и ROI\n",
    "    result_grouped, roi_grouped = group_by_dimensions(\n",
    "        result_raw, dimensions, horizon_days\n",
    "    )\n",
    "\n",
    "    # для таблиц динамики убираем 'cohort' из dimensions\n",
    "    if 'cohort' in dimensions:\n",
    "        dimensions = []\n",
    "\n",
    "    # получаем таблицы динамики LTV и ROI\n",
    "    result_in_time, roi_in_time = group_by_dimensions(\n",
    "        result_raw, dimensions + ['dt'], horizon_days\n",
    "    )\n",
    "\n",
    "    return (\n",
    "        result_raw,  # сырые данные\n",
    "        result_grouped,  # таблица LTV\n",
    "        result_in_time,  # таблица динамики LTV\n",
    "        roi_grouped,  # таблица ROI\n",
    "        roi_in_time,  # таблица динамики ROI\n",
    "    )"
   ]
  },
  {
   "cell_type": "markdown",
   "metadata": {},
   "source": [
    "Зададим функции для построения графиков:"
   ]
  },
  {
   "cell_type": "code",
   "execution_count": 35,
   "metadata": {},
   "outputs": [],
   "source": [
    "# функция для сглаживания фрейма\n",
    "def filter_data(df, window):\n",
    "    # для каждого столбца применяем скользящее среднее\n",
    "    for column in df.columns.values:\n",
    "        df[column] = df[column].rolling(window).mean() \n",
    "    return df "
   ]
  },
  {
   "cell_type": "code",
   "execution_count": 36,
   "metadata": {},
   "outputs": [],
   "source": [
    "# функция для визуализации удержания\n",
    "def plot_retention(retention, retention_history, horizon, window=7):\n",
    "\n",
    "    # задаём размер сетки для графиков\n",
    "    plt.figure(figsize=(15, 10))\n",
    "\n",
    "    # исключаем размеры когорт и удержание первого дня\n",
    "    retention = retention.drop(columns=['cohort_size', 0])\n",
    "    # в таблице динамики оставляем только нужный лайфтайм\n",
    "    retention_history = retention_history.drop(columns=['cohort_size'])[\n",
    "        [horizon - 1]\n",
    "    ]\n",
    "\n",
    "    # если в индексах таблицы удержания только payer,\n",
    "    # добавляем второй признак — cohort\n",
    "    if retention.index.nlevels == 1:\n",
    "        retention['cohort'] = 'All users'\n",
    "        retention = retention.reset_index().set_index(['cohort', 'payer'])\n",
    "\n",
    "    # в таблице графиков — два столбца и две строки, четыре ячейки\n",
    "    # в первой строим кривые удержания платящих пользователей\n",
    "    ax1 = plt.subplot(2, 2, 1)\n",
    "    retention.query('payer == True').droplevel('payer').T.plot(\n",
    "        grid=True, ax=ax1\n",
    "    )\n",
    "    plt.legend()\n",
    "    plt.xlabel('Лайфтайм')\n",
    "    plt.title('Удержание платящих пользователей')\n",
    "\n",
    "    # во второй ячейке строим кривые удержания неплатящих\n",
    "    # вертикальная ось — от графика из первой ячейки\n",
    "    ax2 = plt.subplot(2, 2, 2, sharey=ax1)\n",
    "    retention.query('payer == False').droplevel('payer').T.plot(\n",
    "        grid=True, ax=ax2\n",
    "    )\n",
    "    plt.legend()\n",
    "    plt.xlabel('Лайфтайм')\n",
    "    plt.title('Удержание неплатящих пользователей')\n",
    "\n",
    "    # в третьей ячейке — динамика удержания платящих\n",
    "    ax3 = plt.subplot(2, 2, 3)\n",
    "    # получаем названия столбцов для сводной таблицы\n",
    "    columns = [\n",
    "        name\n",
    "        for name in retention_history.index.names\n",
    "        if name not in ['dt', 'payer']\n",
    "    ]\n",
    "    # фильтруем данные и строим график\n",
    "    filtered_data = retention_history.query('payer == True').pivot_table(\n",
    "        index='dt', columns=columns, values=horizon - 1, aggfunc='mean'\n",
    "    )\n",
    "    filter_data(filtered_data, window).plot(grid=True, ax=ax3)\n",
    "    plt.xlabel('Дата привлечения')\n",
    "    plt.title(\n",
    "        'Динамика удержания платящих пользователей на {}-й день'.format(\n",
    "            horizon\n",
    "        )\n",
    "    )\n",
    "\n",
    "    # в чётвертой ячейке — динамика удержания неплатящих\n",
    "    ax4 = plt.subplot(2, 2, 4, sharey=ax3)\n",
    "    # фильтруем данные и строим график\n",
    "    filtered_data = retention_history.query('payer == False').pivot_table(\n",
    "        index='dt', columns=columns, values=horizon - 1, aggfunc='mean'\n",
    "    )\n",
    "    filter_data(filtered_data, window).plot(grid=True, ax=ax4)\n",
    "    plt.xlabel('Дата привлечения')\n",
    "    plt.title(\n",
    "        'Динамика удержания неплатящих пользователей на {}-й день'.format(\n",
    "            horizon\n",
    "        )\n",
    "    )\n",
    "    \n",
    "    plt.tight_layout()\n",
    "    plt.show()"
   ]
  },
  {
   "cell_type": "code",
   "execution_count": 37,
   "metadata": {},
   "outputs": [],
   "source": [
    "# функция для визуализации конверсии\n",
    "def plot_conversion(conversion, conversion_history, horizon, window=7):\n",
    "\n",
    "    # задаём размер сетки для графиков\n",
    "    plt.figure(figsize=(15, 5))\n",
    "\n",
    "    # исключаем размеры когорт\n",
    "    conversion = conversion.drop(columns=['cohort_size'])\n",
    "    # в таблице динамики оставляем только нужный лайфтайм\n",
    "    conversion_history = conversion_history.drop(columns=['cohort_size'])[\n",
    "        [horizon - 1]\n",
    "    ]\n",
    "\n",
    "    # первый график — кривые конверсии\n",
    "    ax1 = plt.subplot(1, 2, 1)\n",
    "    conversion.T.plot(grid=True, ax=ax1)\n",
    "    plt.legend()\n",
    "    plt.xlabel('Лайфтайм')\n",
    "    plt.title('Конверсия пользователей')\n",
    "\n",
    "    # второй график — динамика конверсии\n",
    "    ax2 = plt.subplot(1, 2, 2, sharey=ax1)\n",
    "    columns = [\n",
    "        # столбцами сводной таблицы станут все столбцы индекса, кроме даты\n",
    "        name for name in conversion_history.index.names if name not in ['dt']\n",
    "    ]\n",
    "    filtered_data = conversion_history.pivot_table(\n",
    "        index='dt', columns=columns, values=horizon - 1, aggfunc='mean'\n",
    "    )\n",
    "    filter_data(filtered_data, window).plot(grid=True, ax=ax2)\n",
    "    plt.xlabel('Дата привлечения')\n",
    "    plt.title('Динамика конверсии пользователей на {}-й день'.format(horizon))\n",
    "\n",
    "    plt.tight_layout()\n",
    "    plt.show()"
   ]
  },
  {
   "cell_type": "code",
   "execution_count": 38,
   "metadata": {},
   "outputs": [],
   "source": [
    "# функция для визуализации LTV и ROI\n",
    "\n",
    "def plot_ltv_roi(ltv, ltv_history, roi, roi_history, horizon, window=7):\n",
    "\n",
    "    # задаём сетку отрисовки графиков\n",
    "    plt.figure(figsize=(20, 10))\n",
    "\n",
    "    # из таблицы ltv исключаем размеры когорт\n",
    "    ltv = ltv.drop(columns=['cohort_size'])\n",
    "    # в таблице динамики ltv оставляем только нужный лайфтайм\n",
    "    ltv_history = ltv_history.drop(columns=['cohort_size'])[[horizon - 1]]\n",
    "\n",
    "    # стоимость привлечения запишем в отдельный фрейм\n",
    "    cac_history = roi_history[['cac']]\n",
    "\n",
    "    # из таблицы roi исключаем размеры когорт и cac\n",
    "    roi = roi.drop(columns=['cohort_size', 'cac'])\n",
    "    # в таблице динамики roi оставляем только нужный лайфтайм\n",
    "    roi_history = roi_history.drop(columns=['cohort_size', 'cac'])[\n",
    "        [horizon - 1]\n",
    "    ]\n",
    "\n",
    "    # первый график — кривые ltv\n",
    "    ax1 = plt.subplot(2, 3, 1)\n",
    "    ltv.T.plot(grid=True, ax=ax1)\n",
    "    plt.legend()\n",
    "    plt.xlabel('Лайфтайм')\n",
    "    plt.title('LTV')\n",
    "\n",
    "    # второй график — динамика ltv\n",
    "    ax2 = plt.subplot(2, 3, 2, sharey=ax1)\n",
    "    # столбцами сводной таблицы станут все столбцы индекса, кроме даты\n",
    "    columns = [name for name in ltv_history.index.names if name not in ['dt']]\n",
    "    filtered_data = ltv_history.pivot_table(\n",
    "        index='dt', columns=columns, values=horizon - 1, aggfunc='mean'\n",
    "    )\n",
    "    filter_data(filtered_data, window).plot(grid=True, ax=ax2)\n",
    "    plt.xlabel('Дата привлечения')\n",
    "    plt.title('Динамика LTV пользователей на {}-й день'.format(horizon))\n",
    "\n",
    "    # третий график — динамика cac\n",
    "    ax3 = plt.subplot(2, 3, 3, sharey=ax1)\n",
    "    # столбцами сводной таблицы станут все столбцы индекса, кроме даты\n",
    "    columns = [name for name in cac_history.index.names if name not in ['dt']]\n",
    "    filtered_data = cac_history.pivot_table(\n",
    "        index='dt', columns=columns, values='cac', aggfunc='mean'\n",
    "    )\n",
    "    filter_data(filtered_data, window).plot(grid=True, ax=ax3)\n",
    "    plt.xlabel('Дата привлечения')\n",
    "    plt.title('Динамика стоимости привлечения пользователей')\n",
    "\n",
    "    # четвёртый график — кривые roi\n",
    "    ax4 = plt.subplot(2, 3, 4)\n",
    "    roi.T.plot(grid=True, ax=ax4)\n",
    "    plt.axhline(y=1, color='red', linestyle='--', label='Уровень окупаемости')\n",
    "    plt.legend()\n",
    "    plt.xlabel('Лайфтайм')\n",
    "    plt.title('ROI')\n",
    "\n",
    "    # пятый график — динамика roi\n",
    "    ax5 = plt.subplot(2, 3, 5, sharey=ax4)\n",
    "    # столбцами сводной таблицы станут все столбцы индекса, кроме даты\n",
    "    columns = [name for name in roi_history.index.names if name not in ['dt']]\n",
    "    filtered_data = roi_history.pivot_table(\n",
    "        index='dt', columns=columns, values=horizon - 1, aggfunc='mean'\n",
    "    )\n",
    "    filter_data(filtered_data, window).plot(grid=True, ax=ax5)\n",
    "    plt.axhline(y=1, color='red', linestyle='--', label='Уровень окупаемости')\n",
    "    plt.xlabel('Дата привлечения')\n",
    "    plt.title('Динамика ROI пользователей на {}-й день'.format(horizon))\n",
    "\n",
    "    plt.tight_layout()\n",
    "    plt.show()"
   ]
  },
  {
   "cell_type": "markdown",
   "metadata": {
    "id": "V-KBT-KMWVwl"
   },
   "source": [
    "## Исследовательский анализ данных\n",
    "\n",
    "- Составьте профили пользователей. Определите минимальную и максимальную даты привлечения пользователей.\n",
    "- Выясните, из каких стран пользователи приходят в приложение и на какую страну приходится больше всего платящих пользователей. Постройте таблицу, отражающую количество пользователей и долю платящих из каждой страны.\n",
    "- Узнайте, какими устройствами пользуются клиенты и какие устройства предпочитают платящие пользователи. Постройте таблицу, отражающую количество пользователей и долю платящих для каждого устройства.\n",
    "- Изучите рекламные источники привлечения и определите каналы, из которых пришло больше всего платящих пользователей. Постройте таблицу, отражающую количество пользователей и долю платящих для каждого канала привлечения.\n",
    "\n",
    "После каждого пункта сформулируйте выводы."
   ]
  },
  {
   "cell_type": "markdown",
   "metadata": {
    "id": "oOLsbJpNWVwm"
   },
   "source": [
    "### Профили пользователей. Минимальная и максимальная даты привлечения пользователей."
   ]
  },
  {
   "cell_type": "code",
   "execution_count": 39,
   "metadata": {},
   "outputs": [],
   "source": [
    "# Привожу к datetime session_start и event_dt\n",
    "visits['session_start'] = pd.to_datetime(visits['session_start'])\n",
    "orders['event_dt'] = pd.to_datetime(orders['event_dt'])\n",
    "costs['dt'] = pd.to_datetime(costs['dt'])"
   ]
  },
  {
   "cell_type": "code",
   "execution_count": 40,
   "metadata": {
    "scrolled": false
   },
   "outputs": [
    {
     "data": {
      "text/html": [
       "<div>\n",
       "<style scoped>\n",
       "    .dataframe tbody tr th:only-of-type {\n",
       "        vertical-align: middle;\n",
       "    }\n",
       "\n",
       "    .dataframe tbody tr th {\n",
       "        vertical-align: top;\n",
       "    }\n",
       "\n",
       "    .dataframe thead th {\n",
       "        text-align: right;\n",
       "    }\n",
       "</style>\n",
       "<table border=\"1\" class=\"dataframe\">\n",
       "  <thead>\n",
       "    <tr style=\"text-align: right;\">\n",
       "      <th></th>\n",
       "      <th>user_id</th>\n",
       "      <th>first_ts</th>\n",
       "      <th>channel</th>\n",
       "      <th>device</th>\n",
       "      <th>region</th>\n",
       "      <th>dt</th>\n",
       "      <th>month</th>\n",
       "      <th>payer</th>\n",
       "      <th>acquisition_cost</th>\n",
       "    </tr>\n",
       "  </thead>\n",
       "  <tbody>\n",
       "    <tr>\n",
       "      <th>0</th>\n",
       "      <td>599326</td>\n",
       "      <td>2019-05-07 20:58:57</td>\n",
       "      <td>FaceBoom</td>\n",
       "      <td>Mac</td>\n",
       "      <td>United States</td>\n",
       "      <td>2019-05-07</td>\n",
       "      <td>2019-05-01</td>\n",
       "      <td>True</td>\n",
       "      <td>1.088172</td>\n",
       "    </tr>\n",
       "    <tr>\n",
       "      <th>1</th>\n",
       "      <td>4919697</td>\n",
       "      <td>2019-07-09 12:46:07</td>\n",
       "      <td>FaceBoom</td>\n",
       "      <td>iPhone</td>\n",
       "      <td>United States</td>\n",
       "      <td>2019-07-09</td>\n",
       "      <td>2019-07-01</td>\n",
       "      <td>False</td>\n",
       "      <td>1.107237</td>\n",
       "    </tr>\n",
       "    <tr>\n",
       "      <th>2</th>\n",
       "      <td>6085896</td>\n",
       "      <td>2019-10-01 09:58:33</td>\n",
       "      <td>organic</td>\n",
       "      <td>iPhone</td>\n",
       "      <td>France</td>\n",
       "      <td>2019-10-01</td>\n",
       "      <td>2019-10-01</td>\n",
       "      <td>False</td>\n",
       "      <td>0.000000</td>\n",
       "    </tr>\n",
       "    <tr>\n",
       "      <th>3</th>\n",
       "      <td>22593348</td>\n",
       "      <td>2019-08-22 21:35:48</td>\n",
       "      <td>AdNonSense</td>\n",
       "      <td>PC</td>\n",
       "      <td>Germany</td>\n",
       "      <td>2019-08-22</td>\n",
       "      <td>2019-08-01</td>\n",
       "      <td>False</td>\n",
       "      <td>0.988235</td>\n",
       "    </tr>\n",
       "    <tr>\n",
       "      <th>4</th>\n",
       "      <td>31989216</td>\n",
       "      <td>2019-10-02 00:07:44</td>\n",
       "      <td>YRabbit</td>\n",
       "      <td>iPhone</td>\n",
       "      <td>United States</td>\n",
       "      <td>2019-10-02</td>\n",
       "      <td>2019-10-01</td>\n",
       "      <td>False</td>\n",
       "      <td>0.230769</td>\n",
       "    </tr>\n",
       "    <tr>\n",
       "      <th>...</th>\n",
       "      <td>...</td>\n",
       "      <td>...</td>\n",
       "      <td>...</td>\n",
       "      <td>...</td>\n",
       "      <td>...</td>\n",
       "      <td>...</td>\n",
       "      <td>...</td>\n",
       "      <td>...</td>\n",
       "      <td>...</td>\n",
       "    </tr>\n",
       "    <tr>\n",
       "      <th>150003</th>\n",
       "      <td>999956196527</td>\n",
       "      <td>2019-09-28 08:33:02</td>\n",
       "      <td>TipTop</td>\n",
       "      <td>iPhone</td>\n",
       "      <td>United States</td>\n",
       "      <td>2019-09-28</td>\n",
       "      <td>2019-09-01</td>\n",
       "      <td>False</td>\n",
       "      <td>3.500000</td>\n",
       "    </tr>\n",
       "    <tr>\n",
       "      <th>150004</th>\n",
       "      <td>999975439887</td>\n",
       "      <td>2019-10-21 00:35:17</td>\n",
       "      <td>organic</td>\n",
       "      <td>PC</td>\n",
       "      <td>UK</td>\n",
       "      <td>2019-10-21</td>\n",
       "      <td>2019-10-01</td>\n",
       "      <td>False</td>\n",
       "      <td>0.000000</td>\n",
       "    </tr>\n",
       "    <tr>\n",
       "      <th>150005</th>\n",
       "      <td>999976332130</td>\n",
       "      <td>2019-07-23 02:57:06</td>\n",
       "      <td>TipTop</td>\n",
       "      <td>iPhone</td>\n",
       "      <td>United States</td>\n",
       "      <td>2019-07-23</td>\n",
       "      <td>2019-07-01</td>\n",
       "      <td>False</td>\n",
       "      <td>2.600000</td>\n",
       "    </tr>\n",
       "    <tr>\n",
       "      <th>150006</th>\n",
       "      <td>999979924135</td>\n",
       "      <td>2019-09-28 21:28:09</td>\n",
       "      <td>MediaTornado</td>\n",
       "      <td>PC</td>\n",
       "      <td>United States</td>\n",
       "      <td>2019-09-28</td>\n",
       "      <td>2019-09-01</td>\n",
       "      <td>False</td>\n",
       "      <td>0.205714</td>\n",
       "    </tr>\n",
       "    <tr>\n",
       "      <th>150007</th>\n",
       "      <td>999999563947</td>\n",
       "      <td>2019-10-18 19:57:25</td>\n",
       "      <td>organic</td>\n",
       "      <td>iPhone</td>\n",
       "      <td>United States</td>\n",
       "      <td>2019-10-18</td>\n",
       "      <td>2019-10-01</td>\n",
       "      <td>False</td>\n",
       "      <td>0.000000</td>\n",
       "    </tr>\n",
       "  </tbody>\n",
       "</table>\n",
       "<p>150008 rows × 9 columns</p>\n",
       "</div>"
      ],
      "text/plain": [
       "             user_id            first_ts       channel  device         region  \\\n",
       "0             599326 2019-05-07 20:58:57      FaceBoom     Mac  United States   \n",
       "1            4919697 2019-07-09 12:46:07      FaceBoom  iPhone  United States   \n",
       "2            6085896 2019-10-01 09:58:33       organic  iPhone         France   \n",
       "3           22593348 2019-08-22 21:35:48    AdNonSense      PC        Germany   \n",
       "4           31989216 2019-10-02 00:07:44       YRabbit  iPhone  United States   \n",
       "...              ...                 ...           ...     ...            ...   \n",
       "150003  999956196527 2019-09-28 08:33:02        TipTop  iPhone  United States   \n",
       "150004  999975439887 2019-10-21 00:35:17       organic      PC             UK   \n",
       "150005  999976332130 2019-07-23 02:57:06        TipTop  iPhone  United States   \n",
       "150006  999979924135 2019-09-28 21:28:09  MediaTornado      PC  United States   \n",
       "150007  999999563947 2019-10-18 19:57:25       organic  iPhone  United States   \n",
       "\n",
       "               dt      month  payer  acquisition_cost  \n",
       "0      2019-05-07 2019-05-01   True          1.088172  \n",
       "1      2019-07-09 2019-07-01  False          1.107237  \n",
       "2      2019-10-01 2019-10-01  False          0.000000  \n",
       "3      2019-08-22 2019-08-01  False          0.988235  \n",
       "4      2019-10-02 2019-10-01  False          0.230769  \n",
       "...           ...        ...    ...               ...  \n",
       "150003 2019-09-28 2019-09-01  False          3.500000  \n",
       "150004 2019-10-21 2019-10-01  False          0.000000  \n",
       "150005 2019-07-23 2019-07-01  False          2.600000  \n",
       "150006 2019-09-28 2019-09-01  False          0.205714  \n",
       "150007 2019-10-18 2019-10-01  False          0.000000  \n",
       "\n",
       "[150008 rows x 9 columns]"
      ]
     },
     "execution_count": 40,
     "metadata": {},
     "output_type": "execute_result"
    }
   ],
   "source": [
    "# Составляю и вывожу пользовательские профили\n",
    "profiles = get_profiles(visits, orders, costs)\n",
    "profiles"
   ]
  },
  {
   "cell_type": "code",
   "execution_count": 41,
   "metadata": {},
   "outputs": [
    {
     "data": {
      "text/plain": [
       "Timestamp('2019-05-01 00:00:41')"
      ]
     },
     "execution_count": 41,
     "metadata": {},
     "output_type": "execute_result"
    }
   ],
   "source": [
    "# Определяю минимальную дату привлечения пользователей\n",
    "visits['session_start'].min()"
   ]
  },
  {
   "cell_type": "code",
   "execution_count": 42,
   "metadata": {
    "scrolled": false
   },
   "outputs": [
    {
     "data": {
      "text/plain": [
       "Timestamp('2019-10-31 23:59:23')"
      ]
     },
     "execution_count": 42,
     "metadata": {},
     "output_type": "execute_result"
    }
   ],
   "source": [
    "# Определяю максимальную дату привлечения пользователей\n",
    "visits['session_start'].max()"
   ]
  },
  {
   "cell_type": "markdown",
   "metadata": {},
   "source": [
    "Составил профили пользователей. "
   ]
  },
  {
   "cell_type": "markdown",
   "metadata": {},
   "source": [
    "### Страны клиентов"
   ]
  },
  {
   "cell_type": "code",
   "execution_count": 43,
   "metadata": {
    "scrolled": true
   },
   "outputs": [
    {
     "data": {
      "text/plain": [
       "array(['United States', 'France', 'Germany', 'UK'], dtype=object)"
      ]
     },
     "execution_count": 43,
     "metadata": {},
     "output_type": "execute_result"
    }
   ],
   "source": [
    "profiles['region'].unique()"
   ]
  },
  {
   "cell_type": "markdown",
   "metadata": {},
   "source": [
    "Пользователи приходят из следующих регионов: США, Франция, Германия и Великобритания"
   ]
  },
  {
   "cell_type": "code",
   "execution_count": 44,
   "metadata": {
    "scrolled": true
   },
   "outputs": [],
   "source": [
    "# Создам сводную таблицу с кол-вом платящих и не платящих пользователей \n",
    "payer_regions = profiles.pivot_table(index='region', columns='payer', values='user_id', aggfunc='nunique').reset_index()"
   ]
  },
  {
   "cell_type": "code",
   "execution_count": 45,
   "metadata": {},
   "outputs": [],
   "source": [
    "# Добавлю столбец с общим кол-вом пользователей\n",
    "payer_regions['total'] = payer_regions[False]+payer_regions[True]"
   ]
  },
  {
   "cell_type": "code",
   "execution_count": 46,
   "metadata": {},
   "outputs": [],
   "source": [
    "# Добавлю столбец с процентом от общего кол-ва пользователей для каждой страны\n",
    "payer_regions['percent_from_total, %' ]= payer_regions[True] / payer_regions['total'] * 100"
   ]
  },
  {
   "cell_type": "code",
   "execution_count": 47,
   "metadata": {},
   "outputs": [
    {
     "data": {
      "text/html": [
       "<div>\n",
       "<style scoped>\n",
       "    .dataframe tbody tr th:only-of-type {\n",
       "        vertical-align: middle;\n",
       "    }\n",
       "\n",
       "    .dataframe tbody tr th {\n",
       "        vertical-align: top;\n",
       "    }\n",
       "\n",
       "    .dataframe thead th {\n",
       "        text-align: right;\n",
       "    }\n",
       "</style>\n",
       "<table border=\"1\" class=\"dataframe\">\n",
       "  <thead>\n",
       "    <tr style=\"text-align: right;\">\n",
       "      <th>payer</th>\n",
       "      <th>region</th>\n",
       "      <th>False</th>\n",
       "      <th>True</th>\n",
       "      <th>total</th>\n",
       "      <th>percent_from_total, %</th>\n",
       "    </tr>\n",
       "  </thead>\n",
       "  <tbody>\n",
       "    <tr>\n",
       "      <th>3</th>\n",
       "      <td>United States</td>\n",
       "      <td>93100</td>\n",
       "      <td>6902</td>\n",
       "      <td>100002</td>\n",
       "      <td>6.901862</td>\n",
       "    </tr>\n",
       "    <tr>\n",
       "      <th>1</th>\n",
       "      <td>Germany</td>\n",
       "      <td>14365</td>\n",
       "      <td>616</td>\n",
       "      <td>14981</td>\n",
       "      <td>4.111875</td>\n",
       "    </tr>\n",
       "    <tr>\n",
       "      <th>2</th>\n",
       "      <td>UK</td>\n",
       "      <td>16875</td>\n",
       "      <td>700</td>\n",
       "      <td>17575</td>\n",
       "      <td>3.982930</td>\n",
       "    </tr>\n",
       "    <tr>\n",
       "      <th>0</th>\n",
       "      <td>France</td>\n",
       "      <td>16787</td>\n",
       "      <td>663</td>\n",
       "      <td>17450</td>\n",
       "      <td>3.799427</td>\n",
       "    </tr>\n",
       "  </tbody>\n",
       "</table>\n",
       "</div>"
      ],
      "text/plain": [
       "payer         region  False  True   total  percent_from_total, %\n",
       "3      United States  93100  6902  100002               6.901862\n",
       "1            Germany  14365   616   14981               4.111875\n",
       "2                 UK  16875   700   17575               3.982930\n",
       "0             France  16787   663   17450               3.799427"
      ]
     },
     "execution_count": 47,
     "metadata": {},
     "output_type": "execute_result"
    }
   ],
   "source": [
    "# Выведу резульатат\n",
    "payer_regions.sort_values(by='percent_from_total, %', ascending = False)"
   ]
  },
  {
   "cell_type": "markdown",
   "metadata": {},
   "source": [
    "7% пользователей из США платящие.\n",
    "4% пользователей из Германии, Франции и Великобритании платящие.\n",
    "Можно сделать вывод, что пользователи из США более охотно делают покупки."
   ]
  },
  {
   "cell_type": "markdown",
   "metadata": {},
   "source": [
    "### Устройства клиентов"
   ]
  },
  {
   "cell_type": "code",
   "execution_count": 48,
   "metadata": {},
   "outputs": [
    {
     "data": {
      "text/plain": [
       "array(['Mac', 'iPhone', 'PC', 'Android'], dtype=object)"
      ]
     },
     "execution_count": 48,
     "metadata": {},
     "output_type": "execute_result"
    }
   ],
   "source": [
    "profiles['device'].unique()"
   ]
  },
  {
   "cell_type": "markdown",
   "metadata": {},
   "source": [
    "Пользователи пользуются следующими устройствами: Mac, iPhone, PC, Android"
   ]
  },
  {
   "cell_type": "code",
   "execution_count": 49,
   "metadata": {},
   "outputs": [],
   "source": [
    "# Создам сводную таблицу с кол-вом платящих и не платящих пользователей \n",
    "payer_devices = profiles.pivot_table(index='device', columns='payer', values='user_id', aggfunc='nunique').reset_index()"
   ]
  },
  {
   "cell_type": "code",
   "execution_count": 50,
   "metadata": {},
   "outputs": [],
   "source": [
    "# Добавлю столбец с общим кол-вом пользователей\n",
    "payer_devices['total'] = payer_devices[False] + payer_devices[True]"
   ]
  },
  {
   "cell_type": "code",
   "execution_count": 51,
   "metadata": {},
   "outputs": [],
   "source": [
    "# Добавлю столбец с процентом от общего кол-ва пользователей для каждой страны\n",
    "payer_devices['percent_from_total, %']= payer_devices[True] / payer_devices['total'] * 100"
   ]
  },
  {
   "cell_type": "code",
   "execution_count": 52,
   "metadata": {},
   "outputs": [
    {
     "data": {
      "text/html": [
       "<div>\n",
       "<style scoped>\n",
       "    .dataframe tbody tr th:only-of-type {\n",
       "        vertical-align: middle;\n",
       "    }\n",
       "\n",
       "    .dataframe tbody tr th {\n",
       "        vertical-align: top;\n",
       "    }\n",
       "\n",
       "    .dataframe thead th {\n",
       "        text-align: right;\n",
       "    }\n",
       "</style>\n",
       "<table border=\"1\" class=\"dataframe\">\n",
       "  <thead>\n",
       "    <tr style=\"text-align: right;\">\n",
       "      <th>payer</th>\n",
       "      <th>device</th>\n",
       "      <th>False</th>\n",
       "      <th>True</th>\n",
       "      <th>total</th>\n",
       "      <th>percent_from_total, %</th>\n",
       "    </tr>\n",
       "  </thead>\n",
       "  <tbody>\n",
       "    <tr>\n",
       "      <th>1</th>\n",
       "      <td>Mac</td>\n",
       "      <td>28130</td>\n",
       "      <td>1912</td>\n",
       "      <td>30042</td>\n",
       "      <td>6.364423</td>\n",
       "    </tr>\n",
       "    <tr>\n",
       "      <th>3</th>\n",
       "      <td>iPhone</td>\n",
       "      <td>51097</td>\n",
       "      <td>3382</td>\n",
       "      <td>54479</td>\n",
       "      <td>6.207897</td>\n",
       "    </tr>\n",
       "    <tr>\n",
       "      <th>0</th>\n",
       "      <td>Android</td>\n",
       "      <td>32982</td>\n",
       "      <td>2050</td>\n",
       "      <td>35032</td>\n",
       "      <td>5.851793</td>\n",
       "    </tr>\n",
       "    <tr>\n",
       "      <th>2</th>\n",
       "      <td>PC</td>\n",
       "      <td>28918</td>\n",
       "      <td>1537</td>\n",
       "      <td>30455</td>\n",
       "      <td>5.046790</td>\n",
       "    </tr>\n",
       "  </tbody>\n",
       "</table>\n",
       "</div>"
      ],
      "text/plain": [
       "payer   device  False  True  total  percent_from_total, %\n",
       "1          Mac  28130  1912  30042               6.364423\n",
       "3       iPhone  51097  3382  54479               6.207897\n",
       "0      Android  32982  2050  35032               5.851793\n",
       "2           PC  28918  1537  30455               5.046790"
      ]
     },
     "execution_count": 52,
     "metadata": {},
     "output_type": "execute_result"
    }
   ],
   "source": [
    "# Выведу резульатат\n",
    "payer_devices.sort_values(by='percent_from_total, %', ascending = False)"
   ]
  },
  {
   "cell_type": "markdown",
   "metadata": {},
   "source": [
    "5% пользователей PC платящие.\n",
    "6% пользователей остальных платформ платящие.\n",
    "Можно сделать вывод, что ощутимой разницы между платежеспособностью пользователей платформ Android, iPhone и Mac нет."
   ]
  },
  {
   "cell_type": "markdown",
   "metadata": {},
   "source": [
    "### Рекламные источники привлечения и определите каналы, из которых пришло больше всего платящих пользователей. Таблица отражающая количество пользователей и долю платящих для каждого канала привлечения"
   ]
  },
  {
   "cell_type": "code",
   "execution_count": 53,
   "metadata": {
    "scrolled": false
   },
   "outputs": [
    {
     "data": {
      "text/plain": [
       "array(['FaceBoom', 'organic', 'AdNonSense', 'YRabbit', 'MediaTornado',\n",
       "       'RocketSuperAds', 'LeapBob', 'TipTop', 'WahooNetBanner',\n",
       "       'OppleCreativeMedia', 'lambdaMediaAds'], dtype=object)"
      ]
     },
     "execution_count": 53,
     "metadata": {},
     "output_type": "execute_result"
    }
   ],
   "source": [
    "profiles['channel'].unique()"
   ]
  },
  {
   "cell_type": "markdown",
   "metadata": {},
   "source": [
    "Пользователи приходят со следующих источников: FaceBoom, organic, AdNonSense, YRabbit, MediaTornado, RocketSuperAds, LeapBob, TipTop, WahooNetBanner, OppleCreativeMedia, lambdaMediaAds"
   ]
  },
  {
   "cell_type": "code",
   "execution_count": 54,
   "metadata": {},
   "outputs": [],
   "source": [
    "# Создам сводную таблицу с кол-вом платящих и не платящих пользователей \n",
    "payer_channels = profiles.pivot_table(index='channel', columns='payer', values='user_id', aggfunc='nunique').reset_index()"
   ]
  },
  {
   "cell_type": "code",
   "execution_count": 55,
   "metadata": {},
   "outputs": [],
   "source": [
    "# Добавлю столбец с общим кол-вом пользователей\n",
    "payer_channels['total'] = payer_channels[False] + payer_channels[True]"
   ]
  },
  {
   "cell_type": "code",
   "execution_count": 56,
   "metadata": {},
   "outputs": [],
   "source": [
    "# Добавлю столбец с процентом от общего кол-ва пользователей для каждой страны\n",
    "payer_channels['percent_from_total, %']= payer_channels[True] / payer_channels['total'] * 100"
   ]
  },
  {
   "cell_type": "code",
   "execution_count": 57,
   "metadata": {},
   "outputs": [
    {
     "data": {
      "text/html": [
       "<div>\n",
       "<style scoped>\n",
       "    .dataframe tbody tr th:only-of-type {\n",
       "        vertical-align: middle;\n",
       "    }\n",
       "\n",
       "    .dataframe tbody tr th {\n",
       "        vertical-align: top;\n",
       "    }\n",
       "\n",
       "    .dataframe thead th {\n",
       "        text-align: right;\n",
       "    }\n",
       "</style>\n",
       "<table border=\"1\" class=\"dataframe\">\n",
       "  <thead>\n",
       "    <tr style=\"text-align: right;\">\n",
       "      <th>payer</th>\n",
       "      <th>channel</th>\n",
       "      <th>False</th>\n",
       "      <th>True</th>\n",
       "      <th>total</th>\n",
       "      <th>percent_from_total, %</th>\n",
       "    </tr>\n",
       "  </thead>\n",
       "  <tbody>\n",
       "    <tr>\n",
       "      <th>1</th>\n",
       "      <td>FaceBoom</td>\n",
       "      <td>25587</td>\n",
       "      <td>3557</td>\n",
       "      <td>29144</td>\n",
       "      <td>12.204914</td>\n",
       "    </tr>\n",
       "    <tr>\n",
       "      <th>0</th>\n",
       "      <td>AdNonSense</td>\n",
       "      <td>3440</td>\n",
       "      <td>440</td>\n",
       "      <td>3880</td>\n",
       "      <td>11.340206</td>\n",
       "    </tr>\n",
       "    <tr>\n",
       "      <th>9</th>\n",
       "      <td>lambdaMediaAds</td>\n",
       "      <td>1924</td>\n",
       "      <td>225</td>\n",
       "      <td>2149</td>\n",
       "      <td>10.469986</td>\n",
       "    </tr>\n",
       "    <tr>\n",
       "      <th>6</th>\n",
       "      <td>TipTop</td>\n",
       "      <td>17683</td>\n",
       "      <td>1878</td>\n",
       "      <td>19561</td>\n",
       "      <td>9.600736</td>\n",
       "    </tr>\n",
       "    <tr>\n",
       "      <th>5</th>\n",
       "      <td>RocketSuperAds</td>\n",
       "      <td>4096</td>\n",
       "      <td>352</td>\n",
       "      <td>4448</td>\n",
       "      <td>7.913669</td>\n",
       "    </tr>\n",
       "    <tr>\n",
       "      <th>7</th>\n",
       "      <td>WahooNetBanner</td>\n",
       "      <td>8100</td>\n",
       "      <td>453</td>\n",
       "      <td>8553</td>\n",
       "      <td>5.296387</td>\n",
       "    </tr>\n",
       "    <tr>\n",
       "      <th>8</th>\n",
       "      <td>YRabbit</td>\n",
       "      <td>4147</td>\n",
       "      <td>165</td>\n",
       "      <td>4312</td>\n",
       "      <td>3.826531</td>\n",
       "    </tr>\n",
       "    <tr>\n",
       "      <th>3</th>\n",
       "      <td>MediaTornado</td>\n",
       "      <td>4208</td>\n",
       "      <td>156</td>\n",
       "      <td>4364</td>\n",
       "      <td>3.574702</td>\n",
       "    </tr>\n",
       "    <tr>\n",
       "      <th>2</th>\n",
       "      <td>LeapBob</td>\n",
       "      <td>8291</td>\n",
       "      <td>262</td>\n",
       "      <td>8553</td>\n",
       "      <td>3.063253</td>\n",
       "    </tr>\n",
       "    <tr>\n",
       "      <th>4</th>\n",
       "      <td>OppleCreativeMedia</td>\n",
       "      <td>8372</td>\n",
       "      <td>233</td>\n",
       "      <td>8605</td>\n",
       "      <td>2.707728</td>\n",
       "    </tr>\n",
       "    <tr>\n",
       "      <th>10</th>\n",
       "      <td>organic</td>\n",
       "      <td>55279</td>\n",
       "      <td>1160</td>\n",
       "      <td>56439</td>\n",
       "      <td>2.055316</td>\n",
       "    </tr>\n",
       "  </tbody>\n",
       "</table>\n",
       "</div>"
      ],
      "text/plain": [
       "payer             channel  False  True  total  percent_from_total, %\n",
       "1                FaceBoom  25587  3557  29144              12.204914\n",
       "0              AdNonSense   3440   440   3880              11.340206\n",
       "9          lambdaMediaAds   1924   225   2149              10.469986\n",
       "6                  TipTop  17683  1878  19561               9.600736\n",
       "5          RocketSuperAds   4096   352   4448               7.913669\n",
       "7          WahooNetBanner   8100   453   8553               5.296387\n",
       "8                 YRabbit   4147   165   4312               3.826531\n",
       "3            MediaTornado   4208   156   4364               3.574702\n",
       "2                 LeapBob   8291   262   8553               3.063253\n",
       "4      OppleCreativeMedia   8372   233   8605               2.707728\n",
       "10                organic  55279  1160  56439               2.055316"
      ]
     },
     "execution_count": 57,
     "metadata": {},
     "output_type": "execute_result"
    }
   ],
   "source": [
    "# Выведу резульатат\n",
    "payer_channels.sort_values(by='percent_from_total, %', ascending = False)"
   ]
  },
  {
   "cell_type": "markdown",
   "metadata": {},
   "source": [
    "Каналы FaceBoom, AdNonSencse, lambdaMediaAds, TipTop приносят более платежеспособную аудиторию."
   ]
  },
  {
   "cell_type": "markdown",
   "metadata": {
    "id": "80LRB5-eWVwm"
   },
   "source": [
    "## Маркетинг\n",
    "\n",
    "- Посчитайте общую сумму расходов на маркетинг.\n",
    "- Выясните, как траты распределены по рекламным источникам, то есть сколько денег потратили на каждый источник.\n",
    "- Постройте визуализацию динамики изменения расходов во времени (по неделям и месяцам) по каждому источнику. Постарайтесь отразить это на одном графике.\n",
    "- Узнайте, сколько в среднем стоило привлечение одного пользователя (CAC) из каждого источника. Используйте профили пользователей.\n",
    "\n",
    "Напишите промежуточные выводы."
   ]
  },
  {
   "cell_type": "markdown",
   "metadata": {
    "id": "DQE9emXqWVwm"
   },
   "source": [
    "### Посчитайте общую сумму расходов на маркетинг"
   ]
  },
  {
   "cell_type": "code",
   "execution_count": 58,
   "metadata": {
    "scrolled": true
   },
   "outputs": [
    {
     "data": {
      "text/plain": [
       "105497.30000000002"
      ]
     },
     "execution_count": 58,
     "metadata": {},
     "output_type": "execute_result"
    }
   ],
   "source": [
    "# Найду общую сумму расходов при помощи sum()\n",
    "costs['costs'].sum()"
   ]
  },
  {
   "cell_type": "markdown",
   "metadata": {},
   "source": [
    "Общая сумма расходов составляет "
   ]
  },
  {
   "cell_type": "markdown",
   "metadata": {},
   "source": [
    "### Распределение трат по рекламным источникам, то есть сколько денег потратили на каждый источник"
   ]
  },
  {
   "cell_type": "code",
   "execution_count": 59,
   "metadata": {},
   "outputs": [],
   "source": [
    "# Создам costs_channels для сгрупиированных данных\n",
    "costs_channels = costs.groupby('channel')['costs'].sum().reset_index()"
   ]
  },
  {
   "cell_type": "code",
   "execution_count": 60,
   "metadata": {},
   "outputs": [],
   "source": [
    "# Так как есть еще 1 рекламный источник не найденный в costs\n",
    "costs_channels.loc[len(costs_channels.index)] = ['organic', 0]"
   ]
  },
  {
   "cell_type": "markdown",
   "metadata": {},
   "source": [
    "Источник organic отсутствует в costs. Следовательно, для его использования не понадобилось рекламных расходов, но посетителей он привлек, поэтому его нужно также включить в эту таблицу"
   ]
  },
  {
   "cell_type": "code",
   "execution_count": 61,
   "metadata": {},
   "outputs": [],
   "source": [
    "# Для удобства создам столбец с процентым отношение к общей сумме расходов\n",
    "costs_channels['percent_of_costs, %'] = costs_channels['costs'] / costs['costs'].sum()  * 100"
   ]
  },
  {
   "cell_type": "code",
   "execution_count": 62,
   "metadata": {},
   "outputs": [],
   "source": [
    "# Для большей информативности добавлю столбец с кол-вом привлеченных людей и процентом от общего кол-во\n",
    "costs_channels['attracted_people'] = payer_channels[True]\n",
    "costs_channels['percent_of_attracted_people, %'] = costs_channels['attracted_people'] / costs_channels['attracted_people'].sum() * 100"
   ]
  },
  {
   "cell_type": "code",
   "execution_count": 63,
   "metadata": {
    "scrolled": false
   },
   "outputs": [
    {
     "data": {
      "text/html": [
       "<div>\n",
       "<style scoped>\n",
       "    .dataframe tbody tr th:only-of-type {\n",
       "        vertical-align: middle;\n",
       "    }\n",
       "\n",
       "    .dataframe tbody tr th {\n",
       "        vertical-align: top;\n",
       "    }\n",
       "\n",
       "    .dataframe thead th {\n",
       "        text-align: right;\n",
       "    }\n",
       "</style>\n",
       "<table border=\"1\" class=\"dataframe\">\n",
       "  <thead>\n",
       "    <tr style=\"text-align: right;\">\n",
       "      <th></th>\n",
       "      <th>channel</th>\n",
       "      <th>costs</th>\n",
       "      <th>percent_of_costs, %</th>\n",
       "      <th>attracted_people</th>\n",
       "      <th>percent_of_attracted_people, %</th>\n",
       "    </tr>\n",
       "  </thead>\n",
       "  <tbody>\n",
       "    <tr>\n",
       "      <th>1</th>\n",
       "      <td>FaceBoom</td>\n",
       "      <td>32445.60</td>\n",
       "      <td>30.754910</td>\n",
       "      <td>3557</td>\n",
       "      <td>40.051796</td>\n",
       "    </tr>\n",
       "    <tr>\n",
       "      <th>6</th>\n",
       "      <td>TipTop</td>\n",
       "      <td>54751.30</td>\n",
       "      <td>51.898295</td>\n",
       "      <td>1878</td>\n",
       "      <td>21.146267</td>\n",
       "    </tr>\n",
       "    <tr>\n",
       "      <th>10</th>\n",
       "      <td>organic</td>\n",
       "      <td>0.00</td>\n",
       "      <td>0.000000</td>\n",
       "      <td>1160</td>\n",
       "      <td>13.061592</td>\n",
       "    </tr>\n",
       "    <tr>\n",
       "      <th>7</th>\n",
       "      <td>WahooNetBanner</td>\n",
       "      <td>5151.00</td>\n",
       "      <td>4.882589</td>\n",
       "      <td>453</td>\n",
       "      <td>5.100777</td>\n",
       "    </tr>\n",
       "    <tr>\n",
       "      <th>0</th>\n",
       "      <td>AdNonSense</td>\n",
       "      <td>3911.25</td>\n",
       "      <td>3.707441</td>\n",
       "      <td>440</td>\n",
       "      <td>4.954397</td>\n",
       "    </tr>\n",
       "    <tr>\n",
       "      <th>5</th>\n",
       "      <td>RocketSuperAds</td>\n",
       "      <td>1833.00</td>\n",
       "      <td>1.737485</td>\n",
       "      <td>352</td>\n",
       "      <td>3.963518</td>\n",
       "    </tr>\n",
       "    <tr>\n",
       "      <th>2</th>\n",
       "      <td>LeapBob</td>\n",
       "      <td>1797.60</td>\n",
       "      <td>1.703930</td>\n",
       "      <td>262</td>\n",
       "      <td>2.950118</td>\n",
       "    </tr>\n",
       "    <tr>\n",
       "      <th>4</th>\n",
       "      <td>OppleCreativeMedia</td>\n",
       "      <td>2151.25</td>\n",
       "      <td>2.039152</td>\n",
       "      <td>233</td>\n",
       "      <td>2.623578</td>\n",
       "    </tr>\n",
       "    <tr>\n",
       "      <th>9</th>\n",
       "      <td>lambdaMediaAds</td>\n",
       "      <td>1557.60</td>\n",
       "      <td>1.476436</td>\n",
       "      <td>225</td>\n",
       "      <td>2.533498</td>\n",
       "    </tr>\n",
       "    <tr>\n",
       "      <th>8</th>\n",
       "      <td>YRabbit</td>\n",
       "      <td>944.22</td>\n",
       "      <td>0.895018</td>\n",
       "      <td>165</td>\n",
       "      <td>1.857899</td>\n",
       "    </tr>\n",
       "    <tr>\n",
       "      <th>3</th>\n",
       "      <td>MediaTornado</td>\n",
       "      <td>954.48</td>\n",
       "      <td>0.904744</td>\n",
       "      <td>156</td>\n",
       "      <td>1.756559</td>\n",
       "    </tr>\n",
       "  </tbody>\n",
       "</table>\n",
       "</div>"
      ],
      "text/plain": [
       "               channel     costs  percent_of_costs, %  attracted_people  \\\n",
       "1             FaceBoom  32445.60            30.754910              3557   \n",
       "6               TipTop  54751.30            51.898295              1878   \n",
       "10             organic      0.00             0.000000              1160   \n",
       "7       WahooNetBanner   5151.00             4.882589               453   \n",
       "0           AdNonSense   3911.25             3.707441               440   \n",
       "5       RocketSuperAds   1833.00             1.737485               352   \n",
       "2              LeapBob   1797.60             1.703930               262   \n",
       "4   OppleCreativeMedia   2151.25             2.039152               233   \n",
       "9       lambdaMediaAds   1557.60             1.476436               225   \n",
       "8              YRabbit    944.22             0.895018               165   \n",
       "3         MediaTornado    954.48             0.904744               156   \n",
       "\n",
       "    percent_of_attracted_people, %  \n",
       "1                        40.051796  \n",
       "6                        21.146267  \n",
       "10                       13.061592  \n",
       "7                         5.100777  \n",
       "0                         4.954397  \n",
       "5                         3.963518  \n",
       "2                         2.950118  \n",
       "4                         2.623578  \n",
       "9                         2.533498  \n",
       "8                         1.857899  \n",
       "3                         1.756559  "
      ]
     },
     "execution_count": 63,
     "metadata": {},
     "output_type": "execute_result"
    }
   ],
   "source": [
    "# Отсортирую по убыванию процентной составляющей по источникам\n",
    "costs_channels.sort_values(by = 'attracted_people', ascending = False)"
   ]
  },
  {
   "cell_type": "markdown",
   "metadata": {},
   "source": [
    "Самый дорогостоящий рекламный источник TipTop 54751.30(почти 52%) принеся при этом 21% аудитории, также весомую долю занимает FaceBoom 32445.60(почти 31%), принесший 40% аудитории. Также хорошие показатели по привлечению клиентов имеет\n",
    "organic, принесший 13% аудитории, который не повлек никаких расходов. Остальные же занимают не более 5%. Можно заметить, что несмотря на траты TipTop принесет куда меньше платящих пользователей нежели FaceBoom, траты которого были гораздо меньше. "
   ]
  },
  {
   "cell_type": "markdown",
   "metadata": {},
   "source": [
    "### Визуализация динамики изменения расходов во времени (по неделям и месяцам) по каждому источнику. Постарайтесь отразить это на одном графике"
   ]
  },
  {
   "cell_type": "code",
   "execution_count": 64,
   "metadata": {},
   "outputs": [],
   "source": [
    "costs['month'] = costs['dt'].dt.month"
   ]
  },
  {
   "cell_type": "code",
   "execution_count": 65,
   "metadata": {},
   "outputs": [],
   "source": [
    "costs['week'] = costs['dt'].dt.isocalendar().week"
   ]
  },
  {
   "cell_type": "code",
   "execution_count": 66,
   "metadata": {
    "scrolled": true
   },
   "outputs": [
    {
     "data": {
      "text/html": [
       "<div>\n",
       "<style scoped>\n",
       "    .dataframe tbody tr th:only-of-type {\n",
       "        vertical-align: middle;\n",
       "    }\n",
       "\n",
       "    .dataframe tbody tr th {\n",
       "        vertical-align: top;\n",
       "    }\n",
       "\n",
       "    .dataframe thead th {\n",
       "        text-align: right;\n",
       "    }\n",
       "</style>\n",
       "<table border=\"1\" class=\"dataframe\">\n",
       "  <thead>\n",
       "    <tr style=\"text-align: right;\">\n",
       "      <th></th>\n",
       "      <th>channel</th>\n",
       "      <th>dt</th>\n",
       "      <th>costs</th>\n",
       "      <th>month</th>\n",
       "      <th>week</th>\n",
       "    </tr>\n",
       "  </thead>\n",
       "  <tbody>\n",
       "    <tr>\n",
       "      <th>0</th>\n",
       "      <td>FaceBoom</td>\n",
       "      <td>2019-05-01</td>\n",
       "      <td>113.3</td>\n",
       "      <td>5</td>\n",
       "      <td>18</td>\n",
       "    </tr>\n",
       "    <tr>\n",
       "      <th>1</th>\n",
       "      <td>FaceBoom</td>\n",
       "      <td>2019-05-02</td>\n",
       "      <td>78.1</td>\n",
       "      <td>5</td>\n",
       "      <td>18</td>\n",
       "    </tr>\n",
       "    <tr>\n",
       "      <th>2</th>\n",
       "      <td>FaceBoom</td>\n",
       "      <td>2019-05-03</td>\n",
       "      <td>85.8</td>\n",
       "      <td>5</td>\n",
       "      <td>18</td>\n",
       "    </tr>\n",
       "    <tr>\n",
       "      <th>3</th>\n",
       "      <td>FaceBoom</td>\n",
       "      <td>2019-05-04</td>\n",
       "      <td>136.4</td>\n",
       "      <td>5</td>\n",
       "      <td>18</td>\n",
       "    </tr>\n",
       "    <tr>\n",
       "      <th>4</th>\n",
       "      <td>FaceBoom</td>\n",
       "      <td>2019-05-05</td>\n",
       "      <td>122.1</td>\n",
       "      <td>5</td>\n",
       "      <td>18</td>\n",
       "    </tr>\n",
       "    <tr>\n",
       "      <th>...</th>\n",
       "      <td>...</td>\n",
       "      <td>...</td>\n",
       "      <td>...</td>\n",
       "      <td>...</td>\n",
       "      <td>...</td>\n",
       "    </tr>\n",
       "    <tr>\n",
       "      <th>1795</th>\n",
       "      <td>lambdaMediaAds</td>\n",
       "      <td>2019-10-23</td>\n",
       "      <td>4.0</td>\n",
       "      <td>10</td>\n",
       "      <td>43</td>\n",
       "    </tr>\n",
       "    <tr>\n",
       "      <th>1796</th>\n",
       "      <td>lambdaMediaAds</td>\n",
       "      <td>2019-10-24</td>\n",
       "      <td>6.4</td>\n",
       "      <td>10</td>\n",
       "      <td>43</td>\n",
       "    </tr>\n",
       "    <tr>\n",
       "      <th>1797</th>\n",
       "      <td>lambdaMediaAds</td>\n",
       "      <td>2019-10-25</td>\n",
       "      <td>8.8</td>\n",
       "      <td>10</td>\n",
       "      <td>43</td>\n",
       "    </tr>\n",
       "    <tr>\n",
       "      <th>1798</th>\n",
       "      <td>lambdaMediaAds</td>\n",
       "      <td>2019-10-26</td>\n",
       "      <td>8.8</td>\n",
       "      <td>10</td>\n",
       "      <td>43</td>\n",
       "    </tr>\n",
       "    <tr>\n",
       "      <th>1799</th>\n",
       "      <td>lambdaMediaAds</td>\n",
       "      <td>2019-10-27</td>\n",
       "      <td>12.0</td>\n",
       "      <td>10</td>\n",
       "      <td>43</td>\n",
       "    </tr>\n",
       "  </tbody>\n",
       "</table>\n",
       "<p>1800 rows × 5 columns</p>\n",
       "</div>"
      ],
      "text/plain": [
       "             channel         dt  costs  month  week\n",
       "0           FaceBoom 2019-05-01  113.3      5    18\n",
       "1           FaceBoom 2019-05-02   78.1      5    18\n",
       "2           FaceBoom 2019-05-03   85.8      5    18\n",
       "3           FaceBoom 2019-05-04  136.4      5    18\n",
       "4           FaceBoom 2019-05-05  122.1      5    18\n",
       "...              ...        ...    ...    ...   ...\n",
       "1795  lambdaMediaAds 2019-10-23    4.0     10    43\n",
       "1796  lambdaMediaAds 2019-10-24    6.4     10    43\n",
       "1797  lambdaMediaAds 2019-10-25    8.8     10    43\n",
       "1798  lambdaMediaAds 2019-10-26    8.8     10    43\n",
       "1799  lambdaMediaAds 2019-10-27   12.0     10    43\n",
       "\n",
       "[1800 rows x 5 columns]"
      ]
     },
     "execution_count": 66,
     "metadata": {},
     "output_type": "execute_result"
    }
   ],
   "source": [
    "costs"
   ]
  },
  {
   "cell_type": "code",
   "execution_count": 67,
   "metadata": {},
   "outputs": [
    {
     "data": {
      "image/png": "[encoded data removed]",
      "text/plain": [
       "<Figure size 1440x360 with 2 Axes>"
      ]
     },
     "metadata": {
      "needs_background": "light"
     },
     "output_type": "display_data"
    }
   ],
   "source": [
    "fig, ax = plt.subplots(1,2,figsize = (20, 5))\n",
    "costs.pivot_table(index = 'month', columns = 'channel', values = 'costs', aggfunc = 'sum').plot(ax = ax[0])\n",
    "ax[0].set_title('month')\n",
    "ax[0].grid(which='both')\n",
    "costs.pivot_table(index = 'week', columns = 'channel', values = 'costs', aggfunc = 'sum').plot(ax = ax[1])\n",
    "ax[1].set_title('week')\n",
    "ax[1].grid(which='both')"
   ]
  },
  {
   "cell_type": "markdown",
   "metadata": {},
   "source": [
    "По месячному графику видно, что расходы для TipTop неуклонно растут и в конце они уже в 4 раза больше, чем на начало периода. Расходы на FaceBoom выросли всего в 1.5 раза, что значительно меньше. Остальные источники на месячном графике не показывают каких-либо значительных изменений с течением времени.\n",
    "\n",
    "На недельном графике хорошо видно, что на цену разных рекламных источников влияют одни и те же события, только реакция у них разная. Скачки цен у TipTop гораздо сильнее, чем у других источников. Если недельный график FaceBoom после 25 недели держиться в пределах 1000-2000, показывая незначительный рост, то TipTop неуклонно растет."
   ]
  },
  {
   "cell_type": "markdown",
   "metadata": {},
   "source": [
    "### Сколько в среднем стоило привлечение одного пользователя (CAC) из каждого источника. Используйте профили пользователей"
   ]
  },
  {
   "cell_type": "code",
   "execution_count": 68,
   "metadata": {
    "scrolled": false
   },
   "outputs": [
    {
     "data": {
      "text/plain": [
       "channel\n",
       "TipTop                2.799003\n",
       "FaceBoom              1.113286\n",
       "AdNonSense            1.008054\n",
       "lambdaMediaAds        0.724802\n",
       "WahooNetBanner        0.602245\n",
       "RocketSuperAds        0.412095\n",
       "OppleCreativeMedia    0.250000\n",
       "YRabbit               0.218975\n",
       "MediaTornado          0.218717\n",
       "LeapBob               0.210172\n",
       "organic               0.000000\n",
       "Name: acquisition_cost, dtype: float64"
      ]
     },
     "execution_count": 68,
     "metadata": {},
     "output_type": "execute_result"
    }
   ],
   "source": [
    "profiles.groupby('channel')['acquisition_cost'].mean().sort_values(ascending=False)"
   ]
  },
  {
   "cell_type": "markdown",
   "metadata": {},
   "source": [
    "Cнова подтверждается теория о том, что TipTop неоправданно дорогой источник. Стоимость привлечения почти в 3 раза больше, чем у FaceBoom, AdNonSence и в 4 раза больше, чем у lambdaMediaAds, которые показывают лучшее отношение платящих пользователей к количеству привлеченных из источника"
   ]
  },
  {
   "cell_type": "markdown",
   "metadata": {
    "id": "poDjrQVHWVwn"
   },
   "source": [
    "## Оцените окупаемость рекламы\n",
    "\n",
    "Используя графики LTV, ROI и CAC, проанализируйте окупаемость рекламы. Считайте, что на календаре 1 ноября 2019 года, а в бизнес-плане заложено, что пользователи должны окупаться не позднее чем через две недели после привлечения. Необходимость включения в анализ органических пользователей определите самостоятельно.\n",
    "\n",
    "- Проанализируйте окупаемость рекламы c помощью графиков LTV и ROI, а также графики динамики LTV, CAC и ROI.\n",
    "- Проверьте конверсию пользователей и динамику её изменения. То же самое сделайте с удержанием пользователей. Постройте и изучите графики конверсии и удержания.\n",
    "- Проанализируйте окупаемость рекламы с разбивкой по устройствам. Постройте графики LTV и ROI, а также графики динамики LTV, CAC и ROI.\n",
    "- Проанализируйте окупаемость рекламы с разбивкой по странам. Постройте графики LTV и ROI, а также графики динамики LTV, CAC и ROI.\n",
    "- Проанализируйте окупаемость рекламы с разбивкой по рекламным каналам. Постройте графики LTV и ROI, а также графики динамики LTV, CAC и ROI.\n",
    "- Ответьте на такие вопросы:\n",
    "    - Окупается ли реклама, направленная на привлечение пользователей в целом?\n",
    "    - Какие устройства, страны и рекламные каналы могут оказывать негативное влияние на окупаемость рекламы?\n",
    "    - Чем могут быть вызваны проблемы окупаемости?\n",
    "\n",
    "Напишите вывод, опишите возможные причины обнаруженных проблем и промежуточные рекомендации для рекламного отдела."
   ]
  },
  {
   "cell_type": "code",
   "execution_count": 69,
   "metadata": {
    "id": "hbNu9EXeWVwo"
   },
   "outputs": [],
   "source": [
    "# Задам горизонт и дату анализа\n",
    "observation_date = datetime(2019, 11, 1).date()  # момент анализа\n",
    "horizon_days = 14  # горизонт анализа "
   ]
  },
  {
   "cell_type": "markdown",
   "metadata": {},
   "source": [
    "### Проанализируйте окупаемость рекламы c помощью графиков LTV и ROI, а также графики динамики LTV, CAC и ROI"
   ]
  },
  {
   "cell_type": "code",
   "execution_count": null,
   "metadata": {},
   "outputs": [],
   "source": [
    "# считаем LTV и ROI\n",
    "ltv_raw, ltv_grouped, ltv_history, roi_grouped, roi_history = get_ltv(\n",
    "    profiles.loc[profiles['channel'] != 'organic'], orders, observation_date, horizon_days\n",
    ")\n",
    "\n",
    "# строим графики\n",
    "plot_ltv_roi(ltv_grouped, ltv_history, roi_grouped, roi_history, horizon_days)"
   ]
  },
  {
   "cell_type": "markdown",
   "metadata": {},
   "source": [
    "LTV с течением времени растёт. Реклама не окупается(ROI не пересекает уровень окупаемости). ROI значительно ниже уровня окупаемости.\n",
    "\n",
    "Динамика LTV держится в целом на хорошем уровне с редкими положительными скачками.\n",
    "Динамика ROI к июлю падает ниже уровня окупаемости. Как и динамика стоимости.\n",
    "\n",
    "Можно сделать вывод, что к снижению окупаемости привело увеличение рекламных расходов с июня-июля."
   ]
  },
  {
   "cell_type": "markdown",
   "metadata": {},
   "source": [
    "### Конверсия пользователей и динамика её изменения. Конверсия удержания пользователей. Графики конверсии и удержания"
   ]
  },
  {
   "cell_type": "code",
   "execution_count": null,
   "metadata": {
    "scrolled": true
   },
   "outputs": [],
   "source": [
    "# смотрим конверсию\n",
    "conversion_raw, conversion_grouped, conversion_history = get_conversion(\n",
    "    profiles, orders, observation_date, horizon_days\n",
    ")\n",
    "\n",
    "plot_conversion(conversion_grouped, conversion_history, horizon_days)"
   ]
  },
  {
   "cell_type": "markdown",
   "metadata": {},
   "source": [
    "Конверсия пользователей до 6 лайфтайма быстро растёт, затем рост значительно снижается.\n",
    "\n",
    "После июня конверсия пользователей значительно увеличилась и держится на уровне 0.55 с некоторыми положительными скачками."
   ]
  },
  {
   "cell_type": "code",
   "execution_count": null,
   "metadata": {
    "scrolled": false
   },
   "outputs": [],
   "source": [
    "# смотрим удержание\n",
    "dimensions = ['region']\n",
    "\n",
    "retention_raw, retention_grouped, retention_history = get_retention(\n",
    "    profiles, visits, observation_date, horizon_days\n",
    ")\n",
    "\n",
    "plot_retention(retention_grouped, retention_history, horizon_days) "
   ]
  },
  {
   "cell_type": "markdown",
   "metadata": {},
   "source": [
    "Удержание пользователей падает с уровня 0.4 до 0.12. Удержание неплатящих пользователей падает с 0.17 до 0.\n",
    "\n",
    "Динамики удержания платящих пользователей в целом держится на одном уровне в 0.100 c некоторыми положительными скачками.\n"
   ]
  },
  {
   "cell_type": "markdown",
   "metadata": {},
   "source": [
    "### Окупаемость рекламы с разбивкой по устройствам. Графики LTV и ROI, а также графики динамики LTV, CAC и ROI"
   ]
  },
  {
   "cell_type": "code",
   "execution_count": null,
   "metadata": {
    "scrolled": true
   },
   "outputs": [],
   "source": [
    "dimensions = ['device']\n",
    "\n",
    "ltv_raw, ltv_grouped, ltv_history, roi_grouped, roi_history = get_ltv(\n",
    "    profiles, orders, observation_date, horizon_days, dimensions=dimensions\n",
    ")\n",
    "\n",
    "plot_ltv_roi(\n",
    "    ltv_grouped, ltv_history, roi_grouped, roi_history, horizon_days, window=14\n",
    ") "
   ]
  },
  {
   "cell_type": "markdown",
   "metadata": {},
   "source": [
    "LTV и динамика LTV на 14 день для Android, Mac, iPhone похожа, PC чуть ниже.\n",
    "\n",
    "Для пользователей iPhone и Mac динамика стоимости привлечения сильно идет вверх и похожа. Стоимость привлечения пользователей Android ощутимо ниже, чем для iPhone и Mac. PC обладает лучшей динамикой стоимости привлечения, показывая незначительный рост на фоне роста других платформ.\n",
    "\n",
    "Лучшие показатели ROI у PC и Android, также они смогли пересечь уровень окупаемости: PC на 7 день, а Android на 11. iPhone и Mac не смогли пересечь уровень окупаемости.\n",
    "\n",
    "Динамика ROI с мая по июнь для всех похожа. Начиная с июня ROI для Android, iPhone и Mac падает до уровня окупаемости. После Android и Mac всегда находятся ниже уровня окупаемости. Android до августа выше уровня окупаемости, затем падает ниже. Иногда редкими скачками выходит на уровень окупаемости."
   ]
  },
  {
   "cell_type": "markdown",
   "metadata": {},
   "source": [
    "### Окупаемость рекламы с разбивкой по странам. Графики LTV и ROI, а также графики динамики LTV, CAC и ROI"
   ]
  },
  {
   "cell_type": "code",
   "execution_count": null,
   "metadata": {},
   "outputs": [],
   "source": [
    "dimensions = ['region']\n",
    "\n",
    "ltv_raw, ltv_grouped, ltv_history, roi_grouped, roi_history = get_ltv(\n",
    "    profiles, orders, observation_date, horizon_days, dimensions=dimensions\n",
    ")\n",
    "\n",
    "plot_ltv_roi(\n",
    "    ltv_grouped, ltv_history, roi_grouped, roi_history, horizon_days, window=14\n",
    ") "
   ]
  },
  {
   "cell_type": "markdown",
   "metadata": {},
   "source": [
    "LTV пользователей из США(0.25-0.77) выше, чем у других стран(0.17-0.6). ROI для тех же пользователей из США(0.25-0.75) худший и не пересекает уровень окупаемости, а вот для других стран(0.5-2) уже на 4 день находится выше и продолжает расти.\n",
    "\n",
    "Динамика LTV для США стаблильней и выше, чем у других стран. У других стран периодически происходят скачки до уровня США, а так они ниже и на одном уровне для всех.\n",
    "\n",
    "Динамика ROI для США с самого начала идет вниз и к началу июля постоянно находятся ниже уровня окупаемости. Остальные страны ниже уровня 1.5 не опускаются и часто происходят положительные скачи окупаемости.\n",
    "\n",
    "Динамика стоимости привлечения пользователей для Германии, Франции и Великобритании на одном уровне в 0.3. У США резкий подъём с июня и дальнейший сильной рост стоимости привлечения пользователей."
   ]
  },
  {
   "cell_type": "markdown",
   "metadata": {},
   "source": [
    "### Окупаемость рекламы с разбивкой по рекламным каналам. Графики LTV и ROI, а также графики динамики LTV, CAC и ROI"
   ]
  },
  {
   "cell_type": "code",
   "execution_count": null,
   "metadata": {
    "scrolled": true
   },
   "outputs": [],
   "source": [
    "dimensions = ['channel']\n",
    "\n",
    "ltv_raw, ltv_grouped, ltv_history, roi_grouped, roi_history = get_ltv(\n",
    "    profiles, orders, observation_date, horizon_days, dimensions=dimensions\n",
    ")\n",
    "\n",
    "plot_ltv_roi(\n",
    "    ltv_grouped, ltv_history, roi_grouped, roi_history, horizon_days, window=14\n",
    ") "
   ]
  },
  {
   "cell_type": "markdown",
   "metadata": {},
   "source": [
    "Лучшие показатели LTV у TipTop и lambdaMediaAds. Хуже у FaceBoom, RocketSuperAds, WahooNetBanner, AdNonSense. Самые худшие показатели у organic, YRabbit, LeapBob, OppleCreativeMedia, MediaTornado.\n",
    "\n",
    "Динамика LTV лучшая у lambdaMediaAds и TipTop. Остальные на одном уровне\n",
    "\n",
    "ROI. Уровень окупаемости преодолели все источники рекламы, кроме AdNonSense, FaceBoom, TipTop.\n",
    "\n",
    "Динамика ROI у всех примерно на одном уровне где-то чуть выше. FaceBoom, TipTop так и не смогли преодолеть уровень окупаемости. \n",
    "AdNonSense периодически окупается.\n",
    "\n",
    "Динамика стоимости привлечения для всех, кроме TipTop, равномерная. У TipTop происходит рост в начале каждого месяца."
   ]
  },
  {
   "cell_type": "markdown",
   "metadata": {},
   "source": [
    "### Вопросы:"
   ]
  },
  {
   "cell_type": "markdown",
   "metadata": {},
   "source": [
    "#### Окупается ли реклама, направленная на привлечение пользователей в целом?"
   ]
  },
  {
   "cell_type": "markdown",
   "metadata": {},
   "source": [
    "Реклама, направленная на привлечение пользователей не окупается, так как компания терпит убытки. Также в п.7.1 выяснилось, что окупаемость рекламы значительно упала после роста цен на рекламу в июне-июле."
   ]
  },
  {
   "cell_type": "markdown",
   "metadata": {},
   "source": [
    "#### Какие устройства, страны и рекламные каналы могут оказывать негативное влияние на окупаемость рекламы?"
   ]
  },
  {
   "cell_type": "markdown",
   "metadata": {},
   "source": [
    "Устройства.\n",
    "Map и iPhone пользователи хоть и имеют более высокий LTV, но ROI ниже уровня окупаемости. Динамика стоимости привлечения для них выше, чем для Android и PC пользователей.\n",
    "\n",
    "Страны.\n",
    "Пользователи из США имеют болле высокий LTV, но ROI все ещё ниже уровня окупаемости. Динамика стоимости привлечения для них гораздо выше, чем для пользователей из других стран.\n",
    "\n",
    "Рекламные каналы.\n",
    "Основные рекламные средства были потрачены на рекламные каналы AdNonSense, FaceBoom, TipTop, но их ROI находится ниже уровня окупаемости. Динамика стоимости привлечения TipTop так и вовсе ударила по статье расходов на рекламу, она неуклонно растёт каждый месяц."
   ]
  },
  {
   "cell_type": "markdown",
   "metadata": {},
   "source": [
    "#### Чем могут быть вызваны проблемы окупаемости?"
   ]
  },
  {
   "cell_type": "markdown",
   "metadata": {},
   "source": [
    "Проблемы окупаемости вызваны комплексом причин. Неправильная ориентированность на регион. Слишком дорогое привлечение целевых платформ и дорогие рекламные каналы окончательно ударившие по кошельку компании."
   ]
  },
  {
   "cell_type": "markdown",
   "metadata": {
    "id": "Jn9XBfZCWVwo"
   },
   "source": [
    "## Выводы\n",
    "\n",
    "- Выделите причины неэффективности привлечения пользователей.\n",
    "- Сформулируйте рекомендации для отдела маркетинга."
   ]
  },
  {
   "cell_type": "markdown",
   "metadata": {
    "id": "Y8A6E79yWVwo"
   },
   "source": [
    "### Причины неэффективности привлечения пользователей."
   ]
  },
  {
   "cell_type": "markdown",
   "metadata": {},
   "source": [
    "Причин неэффективности пользователей несколько:\n",
    "- 1 причина: резкий рост стоимость рекламной компании\n",
    "- 2 причина: целевые платформы iPhone и Mac не окупаются и их привлечение слишком дорого обходится компании\n",
    "- 3 причина: привлечение пользователей из США слишком дорого обходится\n",
    "- 4 причина: каналы с наибольшими тратами приносят не так много пользователей.\n",
    "\n",
    "Суммируя, основная причина на мой взгляд это рекламный источник TipTop который и повлиял на стоимость привлечения пользователей с платформ iPhone и Mac из региона США, так как картинка увеличения стоимости этого рекламного канала очень сходна с графиками увеличения стоимости для платформ iPhone и Mac, и для региона США. Возможно это какая-то местная социальная сеть или ещё что-то"
   ]
  },
  {
   "cell_type": "markdown",
   "metadata": {},
   "source": [
    "### Рекомендации для отдела маркетинга."
   ]
  },
  {
   "cell_type": "markdown",
   "metadata": {},
   "source": [
    "- Перераспределить расходы на рекламные каналы\n",
    "- Обратить внимание на платформы PC и Android\n",
    "- Уделить больше внимания пользователям из стран ЕС: Германия, Франция и Великобритания\n",
    "- Снизить долю канала FaceBoom и TipTop. Обратить внимание на каналы: AdNonSense, lambdaMediaAds, WahooNetBanner, RocketSuperAds, OppleCreativeMedia, YRabbit, MediaTornado, LeapBob               "
   ]
  },
  {
   "cell_type": "code",
   "execution_count": null,
   "metadata": {},
   "outputs": [],
   "source": []
  }
 ],
 "metadata": {
  "ExecuteTimeLog": [
   {
    "duration": 1336,
    "start_time": "2022-10-23T09:44:00.384Z"
   },
   {
    "duration": 848,
    "start_time": "2022-10-23T09:44:55.483Z"
   },
   {
    "duration": 58,
    "start_time": "2022-10-23T10:00:54.845Z"
   },
   {
    "duration": 21,
    "start_time": "2022-10-23T10:01:01.376Z"
   },
   {
    "duration": 18,
    "start_time": "2022-10-23T10:01:17.135Z"
   },
   {
    "duration": 3,
    "start_time": "2022-10-23T10:05:35.455Z"
   },
   {
    "duration": 698,
    "start_time": "2022-10-23T10:05:35.460Z"
   },
   {
    "duration": 42,
    "start_time": "2022-10-23T10:05:36.160Z"
   },
   {
    "duration": 20,
    "start_time": "2022-10-23T10:05:36.203Z"
   },
   {
    "duration": 34,
    "start_time": "2022-10-23T10:05:36.225Z"
   },
   {
    "duration": 9,
    "start_time": "2022-10-23T10:09:43.681Z"
   },
   {
    "duration": 62,
    "start_time": "2022-10-23T10:09:48.345Z"
   },
   {
    "duration": 3,
    "start_time": "2022-10-23T10:54:30.619Z"
   },
   {
    "duration": 655,
    "start_time": "2022-10-23T10:54:30.624Z"
   },
   {
    "duration": 60,
    "start_time": "2022-10-23T10:54:31.281Z"
   },
   {
    "duration": 24,
    "start_time": "2022-10-23T10:54:31.342Z"
   },
   {
    "duration": 28,
    "start_time": "2022-10-23T10:54:31.369Z"
   },
   {
    "duration": 15,
    "start_time": "2022-10-23T10:54:31.399Z"
   },
   {
    "duration": 35,
    "start_time": "2022-10-23T10:54:31.416Z"
   },
   {
    "duration": 38,
    "start_time": "2022-10-23T10:54:31.453Z"
   },
   {
    "duration": 21,
    "start_time": "2022-10-23T10:54:31.493Z"
   },
   {
    "duration": 20,
    "start_time": "2022-10-23T10:54:31.517Z"
   },
   {
    "duration": 32,
    "start_time": "2022-10-23T10:54:31.540Z"
   },
   {
    "duration": 31,
    "start_time": "2022-10-23T10:54:31.574Z"
   },
   {
    "duration": 31,
    "start_time": "2022-10-23T10:54:31.607Z"
   },
   {
    "duration": 16,
    "start_time": "2022-10-23T10:54:31.641Z"
   },
   {
    "duration": 30,
    "start_time": "2022-10-23T10:54:31.659Z"
   },
   {
    "duration": 37,
    "start_time": "2022-10-23T10:54:31.691Z"
   },
   {
    "duration": 268,
    "start_time": "2022-10-23T12:29:59.720Z"
   },
   {
    "duration": 18,
    "start_time": "2022-10-23T12:32:52.218Z"
   },
   {
    "duration": 7,
    "start_time": "2022-10-23T12:32:52.238Z"
   },
   {
    "duration": 4,
    "start_time": "2022-10-23T12:37:28.325Z"
   },
   {
    "duration": 3,
    "start_time": "2022-10-23T12:37:29.225Z"
   },
   {
    "duration": 22,
    "start_time": "2022-10-23T12:37:30.494Z"
   },
   {
    "duration": 168,
    "start_time": "2022-10-23T12:37:31.145Z"
   },
   {
    "duration": 24,
    "start_time": "2022-10-23T12:37:31.912Z"
   },
   {
    "duration": 4,
    "start_time": "2022-10-23T12:38:56.744Z"
   },
   {
    "duration": 3,
    "start_time": "2022-10-23T12:39:12.600Z"
   },
   {
    "duration": 6,
    "start_time": "2022-10-23T12:39:55.869Z"
   },
   {
    "duration": 13,
    "start_time": "2022-10-23T12:39:56.856Z"
   },
   {
    "duration": 12,
    "start_time": "2022-10-23T12:40:15.621Z"
   },
   {
    "duration": 10,
    "start_time": "2022-10-23T12:40:26.787Z"
   },
   {
    "duration": 9,
    "start_time": "2022-10-23T12:41:17.929Z"
   },
   {
    "duration": 31,
    "start_time": "2022-10-23T12:47:11.646Z"
   },
   {
    "duration": 19,
    "start_time": "2022-10-23T12:47:19.112Z"
   },
   {
    "duration": 22,
    "start_time": "2022-10-23T12:47:27.065Z"
   },
   {
    "duration": 18,
    "start_time": "2022-10-23T12:47:36.919Z"
   },
   {
    "duration": 109,
    "start_time": "2022-10-23T12:55:05.534Z"
   },
   {
    "duration": 2,
    "start_time": "2022-10-23T12:56:04.709Z"
   },
   {
    "duration": 615,
    "start_time": "2022-10-23T12:56:04.713Z"
   },
   {
    "duration": 59,
    "start_time": "2022-10-23T12:56:05.330Z"
   },
   {
    "duration": 19,
    "start_time": "2022-10-23T12:56:05.390Z"
   },
   {
    "duration": 18,
    "start_time": "2022-10-23T12:56:05.411Z"
   },
   {
    "duration": 15,
    "start_time": "2022-10-23T12:56:05.430Z"
   },
   {
    "duration": 24,
    "start_time": "2022-10-23T12:56:05.447Z"
   },
   {
    "duration": 18,
    "start_time": "2022-10-23T12:56:05.473Z"
   },
   {
    "duration": 293,
    "start_time": "2022-10-23T12:56:05.492Z"
   },
   {
    "duration": 52,
    "start_time": "2022-10-23T12:56:05.787Z"
   },
   {
    "duration": 4,
    "start_time": "2022-10-23T12:56:06.534Z"
   },
   {
    "duration": 5,
    "start_time": "2022-10-23T12:56:06.540Z"
   },
   {
    "duration": 3,
    "start_time": "2022-10-23T15:11:54.069Z"
   },
   {
    "duration": 645,
    "start_time": "2022-10-23T15:11:54.086Z"
   },
   {
    "duration": 9,
    "start_time": "2022-10-23T15:11:54.733Z"
   },
   {
    "duration": 11,
    "start_time": "2022-10-23T15:11:54.743Z"
   },
   {
    "duration": 11,
    "start_time": "2022-10-23T15:11:54.756Z"
   },
   {
    "duration": 59,
    "start_time": "2022-10-23T15:11:54.769Z"
   },
   {
    "duration": 333,
    "start_time": "2022-10-23T15:11:54.830Z"
   },
   {
    "duration": 53,
    "start_time": "2022-10-23T15:11:55.165Z"
   },
   {
    "duration": 6,
    "start_time": "2022-10-23T15:11:55.220Z"
   },
   {
    "duration": 5,
    "start_time": "2022-10-23T15:11:55.228Z"
   },
   {
    "duration": 44,
    "start_time": "2022-10-23T15:11:55.235Z"
   },
   {
    "duration": 175,
    "start_time": "2022-10-23T15:11:55.282Z"
   },
   {
    "duration": 25,
    "start_time": "2022-10-23T15:11:55.459Z"
   },
   {
    "duration": 18,
    "start_time": "2022-10-23T15:11:55.485Z"
   },
   {
    "duration": 40,
    "start_time": "2022-10-23T15:11:55.507Z"
   },
   {
    "duration": 22,
    "start_time": "2022-10-23T15:11:55.549Z"
   },
   {
    "duration": 13,
    "start_time": "2022-10-23T15:11:55.573Z"
   },
   {
    "duration": 27,
    "start_time": "2022-10-23T15:11:55.588Z"
   },
   {
    "duration": 17,
    "start_time": "2022-10-23T15:11:55.617Z"
   },
   {
    "duration": 20,
    "start_time": "2022-10-23T15:11:55.636Z"
   },
   {
    "duration": 19,
    "start_time": "2022-10-23T15:11:55.657Z"
   },
   {
    "duration": 31,
    "start_time": "2022-10-23T15:11:55.678Z"
   },
   {
    "duration": 9,
    "start_time": "2022-10-23T15:11:55.711Z"
   },
   {
    "duration": 21,
    "start_time": "2022-10-23T15:11:55.722Z"
   },
   {
    "duration": 11,
    "start_time": "2022-10-23T15:11:55.745Z"
   },
   {
    "duration": 30,
    "start_time": "2022-10-23T15:11:55.757Z"
   },
   {
    "duration": 17,
    "start_time": "2022-10-23T15:11:55.789Z"
   },
   {
    "duration": 17,
    "start_time": "2022-10-23T15:11:55.808Z"
   },
   {
    "duration": 19,
    "start_time": "2022-10-23T15:11:55.827Z"
   },
   {
    "duration": 15,
    "start_time": "2022-10-23T15:11:55.848Z"
   },
   {
    "duration": 17,
    "start_time": "2022-10-23T15:11:55.865Z"
   },
   {
    "duration": 32,
    "start_time": "2022-10-23T15:11:55.883Z"
   },
   {
    "duration": 8,
    "start_time": "2022-10-23T15:11:55.916Z"
   },
   {
    "duration": 32,
    "start_time": "2022-10-23T15:11:55.926Z"
   },
   {
    "duration": 15,
    "start_time": "2022-10-23T15:11:55.960Z"
   },
   {
    "duration": 29,
    "start_time": "2022-10-23T15:11:55.977Z"
   },
   {
    "duration": 33,
    "start_time": "2022-10-23T15:11:56.008Z"
   },
   {
    "duration": 23,
    "start_time": "2022-10-23T15:11:56.043Z"
   },
   {
    "duration": 38,
    "start_time": "2022-10-23T15:11:56.068Z"
   },
   {
    "duration": 0,
    "start_time": "2022-10-23T15:11:56.108Z"
   },
   {
    "duration": 6,
    "start_time": "2022-10-23T15:13:56.526Z"
   },
   {
    "duration": 7,
    "start_time": "2022-10-23T15:15:48.685Z"
   },
   {
    "duration": 6,
    "start_time": "2022-10-23T15:18:30.981Z"
   },
   {
    "duration": 11,
    "start_time": "2022-10-23T15:18:33.279Z"
   },
   {
    "duration": 3,
    "start_time": "2022-10-23T15:23:31.851Z"
   },
   {
    "duration": 892,
    "start_time": "2022-10-23T15:23:31.856Z"
   },
   {
    "duration": 11,
    "start_time": "2022-10-23T15:23:32.818Z"
   },
   {
    "duration": 19,
    "start_time": "2022-10-23T15:23:32.831Z"
   },
   {
    "duration": 26,
    "start_time": "2022-10-23T15:23:32.852Z"
   },
   {
    "duration": 84,
    "start_time": "2022-10-23T15:23:32.879Z"
   },
   {
    "duration": 287,
    "start_time": "2022-10-23T15:23:32.967Z"
   },
   {
    "duration": 54,
    "start_time": "2022-10-23T15:23:33.256Z"
   },
   {
    "duration": 5,
    "start_time": "2022-10-23T15:23:33.311Z"
   },
   {
    "duration": 329,
    "start_time": "2022-10-23T15:23:33.318Z"
   },
   {
    "duration": 0,
    "start_time": "2022-10-23T15:23:33.650Z"
   },
   {
    "duration": 0,
    "start_time": "2022-10-23T15:23:33.652Z"
   },
   {
    "duration": 0,
    "start_time": "2022-10-23T15:23:33.653Z"
   },
   {
    "duration": 0,
    "start_time": "2022-10-23T15:23:33.654Z"
   },
   {
    "duration": 0,
    "start_time": "2022-10-23T15:23:33.655Z"
   },
   {
    "duration": 0,
    "start_time": "2022-10-23T15:23:33.656Z"
   },
   {
    "duration": 0,
    "start_time": "2022-10-23T15:23:33.657Z"
   },
   {
    "duration": 0,
    "start_time": "2022-10-23T15:23:33.659Z"
   },
   {
    "duration": 0,
    "start_time": "2022-10-23T15:23:33.660Z"
   },
   {
    "duration": 0,
    "start_time": "2022-10-23T15:23:33.661Z"
   },
   {
    "duration": 0,
    "start_time": "2022-10-23T15:23:33.662Z"
   },
   {
    "duration": 0,
    "start_time": "2022-10-23T15:23:33.665Z"
   },
   {
    "duration": 0,
    "start_time": "2022-10-23T15:23:33.666Z"
   },
   {
    "duration": 0,
    "start_time": "2022-10-23T15:23:33.667Z"
   },
   {
    "duration": 0,
    "start_time": "2022-10-23T15:23:33.669Z"
   },
   {
    "duration": 0,
    "start_time": "2022-10-23T15:23:33.670Z"
   },
   {
    "duration": 0,
    "start_time": "2022-10-23T15:23:33.670Z"
   },
   {
    "duration": 0,
    "start_time": "2022-10-23T15:23:33.671Z"
   },
   {
    "duration": 0,
    "start_time": "2022-10-23T15:23:33.673Z"
   },
   {
    "duration": 0,
    "start_time": "2022-10-23T15:23:33.674Z"
   },
   {
    "duration": 0,
    "start_time": "2022-10-23T15:23:33.675Z"
   },
   {
    "duration": 0,
    "start_time": "2022-10-23T15:23:33.677Z"
   },
   {
    "duration": 0,
    "start_time": "2022-10-23T15:23:33.678Z"
   },
   {
    "duration": 0,
    "start_time": "2022-10-23T15:23:33.679Z"
   },
   {
    "duration": 0,
    "start_time": "2022-10-23T15:23:33.681Z"
   },
   {
    "duration": 0,
    "start_time": "2022-10-23T15:23:33.682Z"
   },
   {
    "duration": 0,
    "start_time": "2022-10-23T15:23:33.684Z"
   },
   {
    "duration": 0,
    "start_time": "2022-10-23T15:23:33.685Z"
   },
   {
    "duration": 0,
    "start_time": "2022-10-23T15:23:33.687Z"
   },
   {
    "duration": 0,
    "start_time": "2022-10-23T15:23:33.689Z"
   },
   {
    "duration": 0,
    "start_time": "2022-10-23T15:23:33.690Z"
   },
   {
    "duration": 0,
    "start_time": "2022-10-23T15:23:33.754Z"
   },
   {
    "duration": 0,
    "start_time": "2022-10-23T15:23:33.755Z"
   },
   {
    "duration": 0,
    "start_time": "2022-10-23T15:23:33.757Z"
   },
   {
    "duration": 13,
    "start_time": "2022-10-23T15:27:46.293Z"
   },
   {
    "duration": 0,
    "start_time": "2022-10-23T15:27:46.308Z"
   },
   {
    "duration": 75,
    "start_time": "2022-10-23T15:27:46.760Z"
   },
   {
    "duration": 12,
    "start_time": "2022-10-23T15:27:47.528Z"
   },
   {
    "duration": 190,
    "start_time": "2022-10-23T15:28:54.359Z"
   },
   {
    "duration": 0,
    "start_time": "2022-10-23T15:28:54.552Z"
   },
   {
    "duration": 0,
    "start_time": "2022-10-23T15:28:54.553Z"
   },
   {
    "duration": 0,
    "start_time": "2022-10-23T15:28:54.554Z"
   },
   {
    "duration": 4,
    "start_time": "2022-10-23T15:29:17.645Z"
   },
   {
    "duration": 140,
    "start_time": "2022-10-23T15:29:18.426Z"
   },
   {
    "duration": 40,
    "start_time": "2022-10-23T15:29:36.781Z"
   },
   {
    "duration": 9,
    "start_time": "2022-10-23T15:29:36.823Z"
   },
   {
    "duration": 14,
    "start_time": "2022-10-23T15:29:36.834Z"
   },
   {
    "duration": 16,
    "start_time": "2022-10-23T15:29:37.108Z"
   },
   {
    "duration": 8,
    "start_time": "2022-10-23T15:29:37.126Z"
   },
   {
    "duration": 13,
    "start_time": "2022-10-23T15:29:37.135Z"
   },
   {
    "duration": 4,
    "start_time": "2022-10-23T15:32:16.504Z"
   },
   {
    "duration": 12,
    "start_time": "2022-10-23T15:32:17.300Z"
   },
   {
    "duration": 12,
    "start_time": "2022-10-23T15:32:17.804Z"
   },
   {
    "duration": 10,
    "start_time": "2022-10-23T15:32:18.465Z"
   },
   {
    "duration": 11,
    "start_time": "2022-10-23T15:33:29.040Z"
   },
   {
    "duration": 9,
    "start_time": "2022-10-23T15:33:31.497Z"
   },
   {
    "duration": 9,
    "start_time": "2022-10-23T15:33:34.360Z"
   },
   {
    "duration": 5,
    "start_time": "2022-10-23T15:33:35.759Z"
   },
   {
    "duration": 9,
    "start_time": "2022-10-23T15:33:44.170Z"
   },
   {
    "duration": 3,
    "start_time": "2022-10-23T15:34:33.000Z"
   },
   {
    "duration": 6,
    "start_time": "2022-10-23T15:42:16.571Z"
   },
   {
    "duration": 16,
    "start_time": "2022-10-23T15:42:16.579Z"
   },
   {
    "duration": 14,
    "start_time": "2022-10-23T15:42:16.597Z"
   },
   {
    "duration": 4,
    "start_time": "2022-10-23T15:48:52.768Z"
   },
   {
    "duration": 673,
    "start_time": "2022-10-23T15:48:52.774Z"
   },
   {
    "duration": 1308,
    "start_time": "2022-10-24T17:09:11.453Z"
   },
   {
    "duration": 2023,
    "start_time": "2022-10-24T17:09:12.763Z"
   },
   {
    "duration": 11,
    "start_time": "2022-10-24T17:09:14.788Z"
   },
   {
    "duration": 7,
    "start_time": "2022-10-24T17:09:14.800Z"
   },
   {
    "duration": 8,
    "start_time": "2022-10-24T17:09:14.808Z"
   },
   {
    "duration": 53,
    "start_time": "2022-10-24T17:09:14.818Z"
   },
   {
    "duration": 225,
    "start_time": "2022-10-24T17:09:14.873Z"
   },
   {
    "duration": 47,
    "start_time": "2022-10-24T17:09:15.099Z"
   },
   {
    "duration": 3,
    "start_time": "2022-10-24T17:09:15.148Z"
   },
   {
    "duration": 3,
    "start_time": "2022-10-24T17:09:15.153Z"
   },
   {
    "duration": 138,
    "start_time": "2022-10-24T17:09:15.157Z"
   },
   {
    "duration": 35,
    "start_time": "2022-10-24T17:09:15.297Z"
   },
   {
    "duration": 8,
    "start_time": "2022-10-24T17:09:15.334Z"
   },
   {
    "duration": 11,
    "start_time": "2022-10-24T17:09:15.344Z"
   },
   {
    "duration": 11,
    "start_time": "2022-10-24T17:09:15.357Z"
   },
   {
    "duration": 38,
    "start_time": "2022-10-24T17:09:15.369Z"
   },
   {
    "duration": 4,
    "start_time": "2022-10-24T17:09:15.408Z"
   },
   {
    "duration": 5,
    "start_time": "2022-10-24T17:09:15.413Z"
   },
   {
    "duration": 12,
    "start_time": "2022-10-24T17:09:15.419Z"
   },
   {
    "duration": 14,
    "start_time": "2022-10-24T17:09:15.432Z"
   },
   {
    "duration": 7,
    "start_time": "2022-10-24T17:09:15.447Z"
   },
   {
    "duration": 12,
    "start_time": "2022-10-24T17:09:15.455Z"
   },
   {
    "duration": 38,
    "start_time": "2022-10-24T17:09:15.469Z"
   },
   {
    "duration": 4,
    "start_time": "2022-10-24T17:09:15.509Z"
   },
   {
    "duration": 7,
    "start_time": "2022-10-24T17:09:15.515Z"
   },
   {
    "duration": 5,
    "start_time": "2022-10-24T17:09:15.523Z"
   },
   {
    "duration": 102,
    "start_time": "2022-10-24T17:09:15.529Z"
   },
   {
    "duration": 0,
    "start_time": "2022-10-24T17:09:15.633Z"
   },
   {
    "duration": 0,
    "start_time": "2022-10-24T17:09:15.634Z"
   },
   {
    "duration": 0,
    "start_time": "2022-10-24T17:09:15.635Z"
   },
   {
    "duration": 0,
    "start_time": "2022-10-24T17:09:15.636Z"
   },
   {
    "duration": 0,
    "start_time": "2022-10-24T17:09:15.637Z"
   },
   {
    "duration": 0,
    "start_time": "2022-10-24T17:09:15.638Z"
   },
   {
    "duration": 0,
    "start_time": "2022-10-24T17:09:15.639Z"
   },
   {
    "duration": 0,
    "start_time": "2022-10-24T17:09:15.640Z"
   },
   {
    "duration": 0,
    "start_time": "2022-10-24T17:09:15.641Z"
   },
   {
    "duration": 0,
    "start_time": "2022-10-24T17:09:15.642Z"
   },
   {
    "duration": 0,
    "start_time": "2022-10-24T17:09:15.643Z"
   },
   {
    "duration": 0,
    "start_time": "2022-10-24T17:09:15.643Z"
   },
   {
    "duration": 0,
    "start_time": "2022-10-24T17:09:15.644Z"
   },
   {
    "duration": 0,
    "start_time": "2022-10-24T17:09:15.645Z"
   },
   {
    "duration": 0,
    "start_time": "2022-10-24T17:09:15.646Z"
   },
   {
    "duration": 3,
    "start_time": "2022-10-24T17:09:32.486Z"
   },
   {
    "duration": 575,
    "start_time": "2022-10-24T17:09:32.491Z"
   },
   {
    "duration": 9,
    "start_time": "2022-10-24T17:09:36.207Z"
   },
   {
    "duration": 10,
    "start_time": "2022-10-24T17:09:36.218Z"
   },
   {
    "duration": 11,
    "start_time": "2022-10-24T17:09:36.229Z"
   },
   {
    "duration": 75,
    "start_time": "2022-10-24T17:09:36.242Z"
   },
   {
    "duration": 216,
    "start_time": "2022-10-24T17:09:36.319Z"
   },
   {
    "duration": 45,
    "start_time": "2022-10-24T17:09:36.537Z"
   },
   {
    "duration": 3,
    "start_time": "2022-10-24T17:09:36.583Z"
   },
   {
    "duration": 18,
    "start_time": "2022-10-24T17:09:36.587Z"
   },
   {
    "duration": 106,
    "start_time": "2022-10-24T17:09:36.607Z"
   },
   {
    "duration": 33,
    "start_time": "2022-10-24T17:09:36.714Z"
   },
   {
    "duration": 8,
    "start_time": "2022-10-24T17:09:36.749Z"
   },
   {
    "duration": 10,
    "start_time": "2022-10-24T17:09:36.759Z"
   },
   {
    "duration": 35,
    "start_time": "2022-10-24T17:09:36.771Z"
   },
   {
    "duration": 7,
    "start_time": "2022-10-24T17:09:36.809Z"
   },
   {
    "duration": 4,
    "start_time": "2022-10-24T17:09:36.818Z"
   },
   {
    "duration": 4,
    "start_time": "2022-10-24T17:09:36.823Z"
   },
   {
    "duration": 11,
    "start_time": "2022-10-24T17:09:36.829Z"
   },
   {
    "duration": 12,
    "start_time": "2022-10-24T17:09:36.841Z"
   },
   {
    "duration": 8,
    "start_time": "2022-10-24T17:09:36.855Z"
   },
   {
    "duration": 9,
    "start_time": "2022-10-24T17:09:36.864Z"
   },
   {
    "duration": 32,
    "start_time": "2022-10-24T17:09:36.875Z"
   },
   {
    "duration": 8,
    "start_time": "2022-10-24T17:09:36.909Z"
   },
   {
    "duration": 7,
    "start_time": "2022-10-24T17:09:36.918Z"
   },
   {
    "duration": 4,
    "start_time": "2022-10-24T17:09:36.927Z"
   },
   {
    "duration": 6,
    "start_time": "2022-10-24T17:09:36.933Z"
   },
   {
    "duration": 1105,
    "start_time": "2022-10-24T17:09:36.941Z"
   },
   {
    "duration": 0,
    "start_time": "2022-10-24T17:09:38.048Z"
   },
   {
    "duration": 0,
    "start_time": "2022-10-24T17:09:38.049Z"
   },
   {
    "duration": 0,
    "start_time": "2022-10-24T17:09:38.049Z"
   },
   {
    "duration": 0,
    "start_time": "2022-10-24T17:09:38.050Z"
   },
   {
    "duration": 0,
    "start_time": "2022-10-24T17:09:38.051Z"
   },
   {
    "duration": 0,
    "start_time": "2022-10-24T17:09:38.052Z"
   },
   {
    "duration": 0,
    "start_time": "2022-10-24T17:09:38.053Z"
   },
   {
    "duration": 0,
    "start_time": "2022-10-24T17:09:38.054Z"
   },
   {
    "duration": 0,
    "start_time": "2022-10-24T17:09:38.055Z"
   },
   {
    "duration": 0,
    "start_time": "2022-10-24T17:09:38.056Z"
   },
   {
    "duration": 1,
    "start_time": "2022-10-24T17:09:38.056Z"
   },
   {
    "duration": 0,
    "start_time": "2022-10-24T17:09:38.057Z"
   },
   {
    "duration": 0,
    "start_time": "2022-10-24T17:09:38.058Z"
   },
   {
    "duration": 0,
    "start_time": "2022-10-24T17:09:38.059Z"
   },
   {
    "duration": 2,
    "start_time": "2022-10-24T17:10:35.844Z"
   },
   {
    "duration": 644,
    "start_time": "2022-10-24T17:10:35.848Z"
   },
   {
    "duration": 20,
    "start_time": "2022-10-24T17:10:36.494Z"
   },
   {
    "duration": 45,
    "start_time": "2022-10-24T17:10:36.524Z"
   },
   {
    "duration": 15,
    "start_time": "2022-10-24T17:10:36.571Z"
   },
   {
    "duration": 68,
    "start_time": "2022-10-24T17:10:36.587Z"
   },
   {
    "duration": 225,
    "start_time": "2022-10-24T17:10:36.657Z"
   },
   {
    "duration": 67,
    "start_time": "2022-10-24T17:10:36.884Z"
   },
   {
    "duration": 11,
    "start_time": "2022-10-24T17:10:36.953Z"
   },
   {
    "duration": 8,
    "start_time": "2022-10-24T17:10:36.967Z"
   },
   {
    "duration": 134,
    "start_time": "2022-10-24T17:10:36.978Z"
   },
   {
    "duration": 40,
    "start_time": "2022-10-24T17:10:37.113Z"
   },
   {
    "duration": 11,
    "start_time": "2022-10-24T17:10:37.155Z"
   },
   {
    "duration": 37,
    "start_time": "2022-10-24T17:10:37.168Z"
   },
   {
    "duration": 15,
    "start_time": "2022-10-24T17:10:37.208Z"
   },
   {
    "duration": 12,
    "start_time": "2022-10-24T17:10:37.225Z"
   },
   {
    "duration": 10,
    "start_time": "2022-10-24T17:10:37.239Z"
   },
   {
    "duration": 8,
    "start_time": "2022-10-24T17:10:37.250Z"
   },
   {
    "duration": 14,
    "start_time": "2022-10-24T17:10:37.260Z"
   },
   {
    "duration": 36,
    "start_time": "2022-10-24T17:10:37.276Z"
   },
   {
    "duration": 16,
    "start_time": "2022-10-24T17:10:37.315Z"
   },
   {
    "duration": 38,
    "start_time": "2022-10-24T17:10:37.333Z"
   },
   {
    "duration": 12,
    "start_time": "2022-10-24T17:10:37.373Z"
   },
   {
    "duration": 10,
    "start_time": "2022-10-24T17:10:37.387Z"
   },
   {
    "duration": 6,
    "start_time": "2022-10-24T17:10:37.400Z"
   },
   {
    "duration": 42,
    "start_time": "2022-10-24T17:10:37.407Z"
   },
   {
    "duration": 15,
    "start_time": "2022-10-24T17:10:37.452Z"
   },
   {
    "duration": 13,
    "start_time": "2022-10-24T17:10:37.471Z"
   },
   {
    "duration": 20,
    "start_time": "2022-10-24T17:10:37.487Z"
   },
   {
    "duration": 44,
    "start_time": "2022-10-24T17:10:37.510Z"
   },
   {
    "duration": 12,
    "start_time": "2022-10-24T17:10:37.556Z"
   },
   {
    "duration": 12,
    "start_time": "2022-10-24T17:10:37.570Z"
   },
   {
    "duration": 18,
    "start_time": "2022-10-24T17:10:37.584Z"
   },
   {
    "duration": 43,
    "start_time": "2022-10-24T17:10:37.606Z"
   },
   {
    "duration": 8,
    "start_time": "2022-10-24T17:10:37.651Z"
   },
   {
    "duration": 10,
    "start_time": "2022-10-24T17:10:37.662Z"
   },
   {
    "duration": 14,
    "start_time": "2022-10-24T17:10:37.674Z"
   },
   {
    "duration": 0,
    "start_time": "2022-10-24T17:10:37.690Z"
   },
   {
    "duration": 0,
    "start_time": "2022-10-24T17:10:37.691Z"
   },
   {
    "duration": 0,
    "start_time": "2022-10-24T17:10:37.692Z"
   },
   {
    "duration": 0,
    "start_time": "2022-10-24T17:10:37.694Z"
   },
   {
    "duration": 0,
    "start_time": "2022-10-24T17:10:37.695Z"
   },
   {
    "duration": 2,
    "start_time": "2022-10-24T17:13:18.196Z"
   },
   {
    "duration": 559,
    "start_time": "2022-10-24T17:13:18.200Z"
   },
   {
    "duration": 8,
    "start_time": "2022-10-24T17:13:18.761Z"
   },
   {
    "duration": 10,
    "start_time": "2022-10-24T17:13:18.771Z"
   },
   {
    "duration": 11,
    "start_time": "2022-10-24T17:13:18.782Z"
   },
   {
    "duration": 52,
    "start_time": "2022-10-24T17:13:18.794Z"
   },
   {
    "duration": 201,
    "start_time": "2022-10-24T17:13:18.848Z"
   },
   {
    "duration": 54,
    "start_time": "2022-10-24T17:13:19.052Z"
   },
   {
    "duration": 3,
    "start_time": "2022-10-24T17:13:19.108Z"
   },
   {
    "duration": 5,
    "start_time": "2022-10-24T17:13:19.113Z"
   },
   {
    "duration": 110,
    "start_time": "2022-10-24T17:13:19.119Z"
   },
   {
    "duration": 48,
    "start_time": "2022-10-24T17:13:19.230Z"
   },
   {
    "duration": 9,
    "start_time": "2022-10-24T17:13:19.279Z"
   },
   {
    "duration": 26,
    "start_time": "2022-10-24T17:13:19.289Z"
   },
   {
    "duration": 11,
    "start_time": "2022-10-24T17:13:19.317Z"
   },
   {
    "duration": 6,
    "start_time": "2022-10-24T17:13:19.329Z"
   },
   {
    "duration": 6,
    "start_time": "2022-10-24T17:13:19.337Z"
   },
   {
    "duration": 4,
    "start_time": "2022-10-24T17:13:19.345Z"
   },
   {
    "duration": 12,
    "start_time": "2022-10-24T17:13:19.350Z"
   },
   {
    "duration": 11,
    "start_time": "2022-10-24T17:13:19.364Z"
   },
   {
    "duration": 35,
    "start_time": "2022-10-24T17:13:19.376Z"
   },
   {
    "duration": 13,
    "start_time": "2022-10-24T17:13:19.412Z"
   },
   {
    "duration": 6,
    "start_time": "2022-10-24T17:13:19.427Z"
   },
   {
    "duration": 5,
    "start_time": "2022-10-24T17:13:19.436Z"
   },
   {
    "duration": 8,
    "start_time": "2022-10-24T17:13:19.442Z"
   },
   {
    "duration": 4,
    "start_time": "2022-10-24T17:13:19.452Z"
   },
   {
    "duration": 5,
    "start_time": "2022-10-24T17:13:19.457Z"
   },
   {
    "duration": 6,
    "start_time": "2022-10-24T17:13:19.463Z"
   },
   {
    "duration": 35,
    "start_time": "2022-10-24T17:13:19.470Z"
   },
   {
    "duration": 11,
    "start_time": "2022-10-24T17:13:19.507Z"
   },
   {
    "duration": 6,
    "start_time": "2022-10-24T17:13:19.519Z"
   },
   {
    "duration": 11,
    "start_time": "2022-10-24T17:13:19.527Z"
   },
   {
    "duration": 14,
    "start_time": "2022-10-24T17:13:19.540Z"
   },
   {
    "duration": 17,
    "start_time": "2022-10-24T17:13:19.556Z"
   },
   {
    "duration": 9,
    "start_time": "2022-10-24T17:13:19.575Z"
   },
   {
    "duration": 6,
    "start_time": "2022-10-24T17:13:19.585Z"
   },
   {
    "duration": 8,
    "start_time": "2022-10-24T17:13:19.593Z"
   },
   {
    "duration": 9,
    "start_time": "2022-10-24T17:13:19.605Z"
   },
   {
    "duration": 9,
    "start_time": "2022-10-24T17:13:19.615Z"
   },
   {
    "duration": 6,
    "start_time": "2022-10-24T17:13:19.625Z"
   },
   {
    "duration": 6,
    "start_time": "2022-10-24T17:13:19.633Z"
   },
   {
    "duration": 8,
    "start_time": "2022-10-24T17:13:19.640Z"
   },
   {
    "duration": 6,
    "start_time": "2022-10-24T17:19:10.641Z"
   },
   {
    "duration": 4,
    "start_time": "2022-10-24T17:19:11.421Z"
   },
   {
    "duration": 8,
    "start_time": "2022-10-24T17:19:12.068Z"
   },
   {
    "duration": 10,
    "start_time": "2022-10-24T17:24:42.256Z"
   },
   {
    "duration": 6,
    "start_time": "2022-10-24T17:24:57.529Z"
   },
   {
    "duration": 5,
    "start_time": "2022-10-24T17:25:45.942Z"
   },
   {
    "duration": 4,
    "start_time": "2022-10-24T17:30:24.736Z"
   },
   {
    "duration": 7,
    "start_time": "2022-10-24T17:30:25.823Z"
   },
   {
    "duration": 6,
    "start_time": "2022-10-24T17:30:41.025Z"
   },
   {
    "duration": 16,
    "start_time": "2022-10-24T17:40:19.988Z"
   },
   {
    "duration": 4,
    "start_time": "2022-10-24T17:41:37.860Z"
   },
   {
    "duration": 6,
    "start_time": "2022-10-24T17:41:38.544Z"
   },
   {
    "duration": 21,
    "start_time": "2022-10-24T17:41:39.361Z"
   },
   {
    "duration": 6,
    "start_time": "2022-10-24T17:42:07.060Z"
   },
   {
    "duration": 705,
    "start_time": "2022-10-24T17:42:07.068Z"
   },
   {
    "duration": 10,
    "start_time": "2022-10-24T17:42:07.775Z"
   },
   {
    "duration": 32,
    "start_time": "2022-10-24T17:42:07.787Z"
   },
   {
    "duration": 21,
    "start_time": "2022-10-24T17:42:07.824Z"
   },
   {
    "duration": 79,
    "start_time": "2022-10-24T17:42:07.847Z"
   },
   {
    "duration": 252,
    "start_time": "2022-10-24T17:42:07.927Z"
   },
   {
    "duration": 61,
    "start_time": "2022-10-24T17:42:08.181Z"
   },
   {
    "duration": 12,
    "start_time": "2022-10-24T17:42:08.244Z"
   },
   {
    "duration": 11,
    "start_time": "2022-10-24T17:42:08.257Z"
   },
   {
    "duration": 165,
    "start_time": "2022-10-24T17:42:08.270Z"
   },
   {
    "duration": 59,
    "start_time": "2022-10-24T17:42:08.437Z"
   },
   {
    "duration": 26,
    "start_time": "2022-10-24T17:42:08.498Z"
   },
   {
    "duration": 30,
    "start_time": "2022-10-24T17:42:08.527Z"
   },
   {
    "duration": 16,
    "start_time": "2022-10-24T17:42:08.559Z"
   },
   {
    "duration": 7,
    "start_time": "2022-10-24T17:42:08.576Z"
   },
   {
    "duration": 19,
    "start_time": "2022-10-24T17:42:08.585Z"
   },
   {
    "duration": 23,
    "start_time": "2022-10-24T17:42:08.609Z"
   },
   {
    "duration": 24,
    "start_time": "2022-10-24T17:42:08.633Z"
   },
   {
    "duration": 20,
    "start_time": "2022-10-24T17:42:08.659Z"
   },
   {
    "duration": 11,
    "start_time": "2022-10-24T17:42:08.681Z"
   },
   {
    "duration": 28,
    "start_time": "2022-10-24T17:42:08.694Z"
   },
   {
    "duration": 19,
    "start_time": "2022-10-24T17:42:08.724Z"
   },
   {
    "duration": 7,
    "start_time": "2022-10-24T17:42:08.745Z"
   },
   {
    "duration": 5,
    "start_time": "2022-10-24T17:42:08.754Z"
   },
   {
    "duration": 5,
    "start_time": "2022-10-24T17:42:08.761Z"
   },
   {
    "duration": 6,
    "start_time": "2022-10-24T17:42:08.767Z"
   },
   {
    "duration": 6,
    "start_time": "2022-10-24T17:42:08.775Z"
   },
   {
    "duration": 12,
    "start_time": "2022-10-24T17:42:08.783Z"
   },
   {
    "duration": 22,
    "start_time": "2022-10-24T17:42:08.796Z"
   },
   {
    "duration": 16,
    "start_time": "2022-10-24T17:42:08.820Z"
   },
   {
    "duration": 13,
    "start_time": "2022-10-24T17:42:08.838Z"
   },
   {
    "duration": 9,
    "start_time": "2022-10-24T17:42:08.852Z"
   },
   {
    "duration": 18,
    "start_time": "2022-10-24T17:42:08.863Z"
   },
   {
    "duration": 7,
    "start_time": "2022-10-24T17:42:08.882Z"
   },
   {
    "duration": 8,
    "start_time": "2022-10-24T17:42:08.890Z"
   },
   {
    "duration": 15,
    "start_time": "2022-10-24T17:42:08.900Z"
   },
   {
    "duration": 24,
    "start_time": "2022-10-24T17:42:08.917Z"
   },
   {
    "duration": 9,
    "start_time": "2022-10-24T17:42:08.943Z"
   },
   {
    "duration": 7,
    "start_time": "2022-10-24T17:42:08.953Z"
   },
   {
    "duration": 4,
    "start_time": "2022-10-24T17:42:08.964Z"
   },
   {
    "duration": 18,
    "start_time": "2022-10-24T17:42:08.970Z"
   },
   {
    "duration": 10,
    "start_time": "2022-10-24T17:42:08.990Z"
   },
   {
    "duration": 12,
    "start_time": "2022-10-24T17:42:09.002Z"
   },
   {
    "duration": 31,
    "start_time": "2022-10-24T17:42:09.017Z"
   },
   {
    "duration": 14,
    "start_time": "2022-10-24T17:43:21.628Z"
   },
   {
    "duration": 4,
    "start_time": "2022-10-24T17:43:30.001Z"
   },
   {
    "duration": 469,
    "start_time": "2022-10-24T18:08:33.990Z"
   },
   {
    "duration": 179,
    "start_time": "2022-10-24T19:05:19.614Z"
   },
   {
    "duration": 472,
    "start_time": "2022-10-24T19:12:45.544Z"
   },
   {
    "duration": 8,
    "start_time": "2022-10-24T19:14:36.035Z"
   },
   {
    "duration": 3,
    "start_time": "2022-10-24T19:35:02.440Z"
   },
   {
    "duration": 548,
    "start_time": "2022-10-24T19:35:02.445Z"
   },
   {
    "duration": 8,
    "start_time": "2022-10-24T19:35:02.995Z"
   },
   {
    "duration": 11,
    "start_time": "2022-10-24T19:35:03.005Z"
   },
   {
    "duration": 10,
    "start_time": "2022-10-24T19:35:03.018Z"
   },
   {
    "duration": 51,
    "start_time": "2022-10-24T19:35:03.030Z"
   },
   {
    "duration": 203,
    "start_time": "2022-10-24T19:35:03.083Z"
   },
   {
    "duration": 47,
    "start_time": "2022-10-24T19:35:03.287Z"
   },
   {
    "duration": 4,
    "start_time": "2022-10-24T19:35:03.335Z"
   },
   {
    "duration": 7,
    "start_time": "2022-10-24T19:35:03.340Z"
   },
   {
    "duration": 113,
    "start_time": "2022-10-24T19:35:03.348Z"
   },
   {
    "duration": 42,
    "start_time": "2022-10-24T19:35:03.463Z"
   },
   {
    "duration": 8,
    "start_time": "2022-10-24T19:35:03.507Z"
   },
   {
    "duration": 12,
    "start_time": "2022-10-24T19:35:03.518Z"
   },
   {
    "duration": 11,
    "start_time": "2022-10-24T19:35:03.531Z"
   },
   {
    "duration": 7,
    "start_time": "2022-10-24T19:35:03.544Z"
   },
   {
    "duration": 4,
    "start_time": "2022-10-24T19:35:03.552Z"
   },
   {
    "duration": 5,
    "start_time": "2022-10-24T19:35:03.558Z"
   },
   {
    "duration": 11,
    "start_time": "2022-10-24T19:35:03.564Z"
   },
   {
    "duration": 11,
    "start_time": "2022-10-24T19:35:03.605Z"
   },
   {
    "duration": 12,
    "start_time": "2022-10-24T19:35:03.617Z"
   },
   {
    "duration": 18,
    "start_time": "2022-10-24T19:35:03.630Z"
   },
   {
    "duration": 6,
    "start_time": "2022-10-24T19:35:03.650Z"
   },
   {
    "duration": 5,
    "start_time": "2022-10-24T19:35:03.658Z"
   },
   {
    "duration": 7,
    "start_time": "2022-10-24T19:35:03.665Z"
   },
   {
    "duration": 7,
    "start_time": "2022-10-24T19:35:03.673Z"
   },
   {
    "duration": 8,
    "start_time": "2022-10-24T19:35:03.681Z"
   },
   {
    "duration": 4,
    "start_time": "2022-10-24T19:35:03.705Z"
   },
   {
    "duration": 13,
    "start_time": "2022-10-24T19:35:03.710Z"
   },
   {
    "duration": 7,
    "start_time": "2022-10-24T19:35:03.724Z"
   },
   {
    "duration": 6,
    "start_time": "2022-10-24T19:35:03.733Z"
   },
   {
    "duration": 9,
    "start_time": "2022-10-24T19:35:03.740Z"
   },
   {
    "duration": 9,
    "start_time": "2022-10-24T19:35:03.751Z"
   },
   {
    "duration": 8,
    "start_time": "2022-10-24T19:35:03.761Z"
   },
   {
    "duration": 9,
    "start_time": "2022-10-24T19:35:03.771Z"
   },
   {
    "duration": 26,
    "start_time": "2022-10-24T19:35:03.781Z"
   },
   {
    "duration": 6,
    "start_time": "2022-10-24T19:35:03.809Z"
   },
   {
    "duration": 7,
    "start_time": "2022-10-24T19:35:03.816Z"
   },
   {
    "duration": 8,
    "start_time": "2022-10-24T19:35:03.825Z"
   },
   {
    "duration": 9,
    "start_time": "2022-10-24T19:35:03.834Z"
   },
   {
    "duration": 5,
    "start_time": "2022-10-24T19:35:03.845Z"
   },
   {
    "duration": 14,
    "start_time": "2022-10-24T19:35:03.851Z"
   },
   {
    "duration": 8,
    "start_time": "2022-10-24T19:35:03.867Z"
   },
   {
    "duration": 10,
    "start_time": "2022-10-24T19:35:03.876Z"
   },
   {
    "duration": 30,
    "start_time": "2022-10-24T19:35:03.888Z"
   },
   {
    "duration": 470,
    "start_time": "2022-10-24T19:35:03.920Z"
   },
   {
    "duration": 8,
    "start_time": "2022-10-24T19:35:04.391Z"
   },
   {
    "duration": 7,
    "start_time": "2022-10-24T19:39:25.263Z"
   },
   {
    "duration": 9,
    "start_time": "2022-10-24T19:39:42.222Z"
   },
   {
    "duration": 9,
    "start_time": "2022-10-24T19:39:48.264Z"
   },
   {
    "duration": 1112,
    "start_time": "2022-10-24T19:47:01.264Z"
   },
   {
    "duration": 8,
    "start_time": "2022-10-24T19:47:16.056Z"
   },
   {
    "duration": 8,
    "start_time": "2022-10-24T19:47:30.994Z"
   },
   {
    "duration": 6,
    "start_time": "2022-10-24T19:53:36.175Z"
   },
   {
    "duration": 5,
    "start_time": "2022-10-24T19:54:13.681Z"
   },
   {
    "duration": 6,
    "start_time": "2022-10-24T19:54:44.864Z"
   },
   {
    "duration": 6,
    "start_time": "2022-10-24T19:57:07.642Z"
   },
   {
    "duration": 4,
    "start_time": "2022-10-24T20:04:15.217Z"
   },
   {
    "duration": 361,
    "start_time": "2022-10-24T20:05:44.800Z"
   },
   {
    "duration": 331,
    "start_time": "2022-10-24T20:07:04.997Z"
   },
   {
    "duration": 5,
    "start_time": "2022-10-24T20:09:05.629Z"
   },
   {
    "duration": 8,
    "start_time": "2022-10-24T20:09:24.713Z"
   },
   {
    "duration": 5,
    "start_time": "2022-10-24T20:10:42.532Z"
   },
   {
    "duration": 6,
    "start_time": "2022-10-24T20:10:44.787Z"
   },
   {
    "duration": 38,
    "start_time": "2022-10-24T20:12:14.121Z"
   },
   {
    "duration": 114,
    "start_time": "2022-10-24T20:15:49.639Z"
   },
   {
    "duration": 36,
    "start_time": "2022-10-24T20:15:53.398Z"
   },
   {
    "duration": 1270,
    "start_time": "2022-10-24T20:15:55.099Z"
   },
   {
    "duration": 29,
    "start_time": "2022-10-24T20:17:18.835Z"
   },
   {
    "duration": 26,
    "start_time": "2022-10-24T20:17:33.677Z"
   },
   {
    "duration": 8,
    "start_time": "2022-10-24T20:22:18.545Z"
   },
   {
    "duration": 26,
    "start_time": "2022-10-24T20:22:22.028Z"
   },
   {
    "duration": 4,
    "start_time": "2022-10-24T20:22:29.763Z"
   },
   {
    "duration": 10,
    "start_time": "2022-10-24T20:22:44.103Z"
   },
   {
    "duration": 4,
    "start_time": "2022-10-24T20:23:09.068Z"
   },
   {
    "duration": 8,
    "start_time": "2022-10-25T09:20:44.855Z"
   },
   {
    "duration": 40,
    "start_time": "2022-10-25T09:21:15.076Z"
   },
   {
    "duration": 1332,
    "start_time": "2022-10-25T09:21:20.067Z"
   },
   {
    "duration": 2355,
    "start_time": "2022-10-25T09:21:21.402Z"
   },
   {
    "duration": 16,
    "start_time": "2022-10-25T09:21:23.759Z"
   },
   {
    "duration": 10,
    "start_time": "2022-10-25T09:21:23.777Z"
   },
   {
    "duration": 10,
    "start_time": "2022-10-25T09:21:23.790Z"
   },
   {
    "duration": 60,
    "start_time": "2022-10-25T09:21:23.801Z"
   },
   {
    "duration": 242,
    "start_time": "2022-10-25T09:21:23.862Z"
   },
   {
    "duration": 50,
    "start_time": "2022-10-25T09:21:24.106Z"
   },
   {
    "duration": 4,
    "start_time": "2022-10-25T09:21:24.158Z"
   },
   {
    "duration": 28,
    "start_time": "2022-10-25T09:21:24.163Z"
   },
   {
    "duration": 138,
    "start_time": "2022-10-25T09:21:24.193Z"
   },
   {
    "duration": 39,
    "start_time": "2022-10-25T09:21:24.332Z"
   },
   {
    "duration": 21,
    "start_time": "2022-10-25T09:21:24.372Z"
   },
   {
    "duration": 12,
    "start_time": "2022-10-25T09:21:24.396Z"
   },
   {
    "duration": 16,
    "start_time": "2022-10-25T09:21:24.409Z"
   },
   {
    "duration": 8,
    "start_time": "2022-10-25T09:21:24.427Z"
   },
   {
    "duration": 4,
    "start_time": "2022-10-25T09:21:24.437Z"
   },
   {
    "duration": 8,
    "start_time": "2022-10-25T09:21:24.443Z"
   },
   {
    "duration": 54,
    "start_time": "2022-10-25T09:21:24.453Z"
   },
   {
    "duration": 22,
    "start_time": "2022-10-25T09:21:24.510Z"
   },
   {
    "duration": 10,
    "start_time": "2022-10-25T09:21:24.534Z"
   },
   {
    "duration": 11,
    "start_time": "2022-10-25T09:21:24.546Z"
   },
   {
    "duration": 6,
    "start_time": "2022-10-25T09:21:24.559Z"
   },
   {
    "duration": 29,
    "start_time": "2022-10-25T09:21:24.567Z"
   },
   {
    "duration": 7,
    "start_time": "2022-10-25T09:21:24.597Z"
   },
   {
    "duration": 4,
    "start_time": "2022-10-25T09:21:24.605Z"
   },
   {
    "duration": 5,
    "start_time": "2022-10-25T09:21:24.610Z"
   },
   {
    "duration": 12,
    "start_time": "2022-10-25T09:21:24.617Z"
   },
   {
    "duration": 13,
    "start_time": "2022-10-25T09:21:24.631Z"
   },
   {
    "duration": 10,
    "start_time": "2022-10-25T09:21:24.646Z"
   },
   {
    "duration": 6,
    "start_time": "2022-10-25T09:21:24.657Z"
   },
   {
    "duration": 7,
    "start_time": "2022-10-25T09:21:24.690Z"
   },
   {
    "duration": 8,
    "start_time": "2022-10-25T09:21:24.699Z"
   },
   {
    "duration": 10,
    "start_time": "2022-10-25T09:21:24.709Z"
   },
   {
    "duration": 6,
    "start_time": "2022-10-25T09:21:24.721Z"
   },
   {
    "duration": 9,
    "start_time": "2022-10-25T09:21:24.729Z"
   },
   {
    "duration": 11,
    "start_time": "2022-10-25T09:21:24.740Z"
   },
   {
    "duration": 8,
    "start_time": "2022-10-25T09:21:24.752Z"
   },
   {
    "duration": 46,
    "start_time": "2022-10-25T09:21:24.761Z"
   },
   {
    "duration": 362,
    "start_time": "2022-10-25T09:21:24.809Z"
   },
   {
    "duration": 5,
    "start_time": "2022-10-25T09:21:25.174Z"
   },
   {
    "duration": 14,
    "start_time": "2022-10-25T09:21:25.180Z"
   },
   {
    "duration": 5,
    "start_time": "2022-10-25T09:21:25.196Z"
   },
   {
    "duration": 6,
    "start_time": "2022-10-25T09:21:25.203Z"
   },
   {
    "duration": 10,
    "start_time": "2022-10-25T09:21:25.211Z"
   },
   {
    "duration": 13,
    "start_time": "2022-10-25T09:21:25.223Z"
   },
   {
    "duration": 6,
    "start_time": "2022-10-25T09:21:25.238Z"
   },
   {
    "duration": 7,
    "start_time": "2022-10-25T09:21:25.246Z"
   },
   {
    "duration": 41,
    "start_time": "2022-10-25T09:21:25.255Z"
   },
   {
    "duration": 562,
    "start_time": "2022-10-25T09:21:25.298Z"
   },
   {
    "duration": 62,
    "start_time": "2022-10-25T09:21:25.863Z"
   },
   {
    "duration": 388,
    "start_time": "2022-10-25T09:25:57.788Z"
   },
   {
    "duration": 11,
    "start_time": "2022-10-25T09:27:10.388Z"
   },
   {
    "duration": 26,
    "start_time": "2022-10-25T09:29:28.541Z"
   },
   {
    "duration": 19,
    "start_time": "2022-10-25T09:29:38.481Z"
   },
   {
    "duration": 7,
    "start_time": "2022-10-25T09:29:58.320Z"
   },
   {
    "duration": 13,
    "start_time": "2022-10-25T09:30:34.419Z"
   },
   {
    "duration": 7,
    "start_time": "2022-10-25T09:30:55.120Z"
   },
   {
    "duration": 11,
    "start_time": "2022-10-25T09:31:36.040Z"
   },
   {
    "duration": 11,
    "start_time": "2022-10-25T09:31:50.993Z"
   },
   {
    "duration": 7,
    "start_time": "2022-10-25T09:37:20.289Z"
   },
   {
    "duration": 13,
    "start_time": "2022-10-25T09:37:20.298Z"
   },
   {
    "duration": 8,
    "start_time": "2022-10-25T09:43:35.509Z"
   },
   {
    "duration": 12,
    "start_time": "2022-10-25T09:44:35.078Z"
   },
   {
    "duration": 7,
    "start_time": "2022-10-25T09:44:54.907Z"
   },
   {
    "duration": 19,
    "start_time": "2022-10-25T09:45:57.337Z"
   },
   {
    "duration": 9,
    "start_time": "2022-10-25T09:46:23.049Z"
   },
   {
    "duration": 7,
    "start_time": "2022-10-25T09:47:20.754Z"
   },
   {
    "duration": 6,
    "start_time": "2022-10-25T09:47:22.730Z"
   },
   {
    "duration": 15,
    "start_time": "2022-10-25T09:48:26.638Z"
   },
   {
    "duration": 7,
    "start_time": "2022-10-25T09:48:41.295Z"
   },
   {
    "duration": 853,
    "start_time": "2022-10-25T09:51:07.131Z"
   },
   {
    "duration": 4,
    "start_time": "2022-10-25T09:51:43.326Z"
   },
   {
    "duration": 4,
    "start_time": "2022-10-25T09:55:02.962Z"
   },
   {
    "duration": 10,
    "start_time": "2022-10-25T09:56:25.490Z"
   },
   {
    "duration": 7,
    "start_time": "2022-10-25T10:00:29.443Z"
   },
   {
    "duration": 71,
    "start_time": "2022-10-25T10:05:25.275Z"
   },
   {
    "duration": 5,
    "start_time": "2022-10-25T10:05:34.202Z"
   },
   {
    "duration": 4,
    "start_time": "2022-10-25T10:05:35.630Z"
   },
   {
    "duration": 7,
    "start_time": "2022-10-25T10:07:17.336Z"
   },
   {
    "duration": 10,
    "start_time": "2022-10-25T10:07:17.345Z"
   },
   {
    "duration": 5,
    "start_time": "2022-10-25T10:07:42.290Z"
   },
   {
    "duration": 6,
    "start_time": "2022-10-25T10:07:49.432Z"
   },
   {
    "duration": 20,
    "start_time": "2022-10-25T10:08:00.575Z"
   },
   {
    "duration": 4,
    "start_time": "2022-10-25T10:08:20.624Z"
   },
   {
    "duration": 7,
    "start_time": "2022-10-25T10:12:43.819Z"
   },
   {
    "duration": 6,
    "start_time": "2022-10-25T10:12:44.959Z"
   },
   {
    "duration": 8,
    "start_time": "2022-10-25T10:12:46.018Z"
   },
   {
    "duration": 7,
    "start_time": "2022-10-25T10:12:48.346Z"
   },
   {
    "duration": 27,
    "start_time": "2022-10-25T10:12:54.511Z"
   },
   {
    "duration": 7,
    "start_time": "2022-10-25T10:12:57.006Z"
   },
   {
    "duration": 12,
    "start_time": "2022-10-25T10:20:38.800Z"
   },
   {
    "duration": 8,
    "start_time": "2022-10-25T10:22:38.151Z"
   },
   {
    "duration": 23,
    "start_time": "2022-10-25T10:28:33.400Z"
   },
   {
    "duration": 351,
    "start_time": "2022-10-25T10:28:35.140Z"
   },
   {
    "duration": 5,
    "start_time": "2022-10-25T10:28:41.779Z"
   },
   {
    "duration": 4,
    "start_time": "2022-10-25T10:28:42.795Z"
   },
   {
    "duration": 11,
    "start_time": "2022-10-25T10:28:46.457Z"
   },
   {
    "duration": 34,
    "start_time": "2022-10-25T10:28:48.716Z"
   },
   {
    "duration": 8,
    "start_time": "2022-10-25T10:31:58.391Z"
   },
   {
    "duration": 7,
    "start_time": "2022-10-25T10:31:59.868Z"
   },
   {
    "duration": 8,
    "start_time": "2022-10-25T10:32:00.900Z"
   },
   {
    "duration": 12,
    "start_time": "2022-10-25T10:32:25.984Z"
   },
   {
    "duration": 7,
    "start_time": "2022-10-25T10:32:29.732Z"
   },
   {
    "duration": 12,
    "start_time": "2022-10-25T10:32:40.515Z"
   },
   {
    "duration": 9,
    "start_time": "2022-10-25T10:33:02.642Z"
   },
   {
    "duration": 9,
    "start_time": "2022-10-25T10:33:02.785Z"
   },
   {
    "duration": 69,
    "start_time": "2022-10-25T10:33:18.899Z"
   },
   {
    "duration": 17,
    "start_time": "2022-10-25T10:33:38.935Z"
   },
   {
    "duration": 6,
    "start_time": "2022-10-25T10:34:09.265Z"
   },
   {
    "duration": 6,
    "start_time": "2022-10-25T10:41:58.798Z"
   },
   {
    "duration": 8,
    "start_time": "2022-10-25T10:42:17.765Z"
   },
   {
    "duration": 8,
    "start_time": "2022-10-25T10:42:54.586Z"
   },
   {
    "duration": 8,
    "start_time": "2022-10-25T10:47:32.645Z"
   },
   {
    "duration": 18,
    "start_time": "2022-10-25T10:47:48.670Z"
   },
   {
    "duration": 8,
    "start_time": "2022-10-25T10:53:44.761Z"
   },
   {
    "duration": 7,
    "start_time": "2022-10-25T10:53:48.846Z"
   },
   {
    "duration": 6,
    "start_time": "2022-10-25T10:54:18.807Z"
   },
   {
    "duration": 8,
    "start_time": "2022-10-25T10:54:51.789Z"
   },
   {
    "duration": 43,
    "start_time": "2022-10-25T11:25:04.734Z"
   },
   {
    "duration": 45,
    "start_time": "2022-10-25T11:25:10.530Z"
   },
   {
    "duration": 47,
    "start_time": "2022-10-25T11:26:14.339Z"
   },
   {
    "duration": 115,
    "start_time": "2022-10-25T11:29:18.409Z"
   },
   {
    "duration": 45,
    "start_time": "2022-10-25T11:31:11.193Z"
   },
   {
    "duration": 40,
    "start_time": "2022-10-25T11:33:39.833Z"
   },
   {
    "duration": 4,
    "start_time": "2022-10-25T11:33:40.138Z"
   },
   {
    "duration": 8,
    "start_time": "2022-10-25T11:33:40.144Z"
   },
   {
    "duration": 8,
    "start_time": "2022-10-25T11:33:42.072Z"
   },
   {
    "duration": 43,
    "start_time": "2022-10-25T11:34:36.706Z"
   },
   {
    "duration": 38,
    "start_time": "2022-10-25T11:36:52.239Z"
   },
   {
    "duration": 4,
    "start_time": "2022-10-25T11:36:56.441Z"
   },
   {
    "duration": 5,
    "start_time": "2022-10-25T11:36:58.190Z"
   },
   {
    "duration": 8,
    "start_time": "2022-10-25T11:37:00.337Z"
   },
   {
    "duration": 41,
    "start_time": "2022-10-25T11:38:59.163Z"
   },
   {
    "duration": 11,
    "start_time": "2022-10-25T11:40:00.459Z"
   },
   {
    "duration": 0,
    "start_time": "2022-10-25T11:40:11.362Z"
   },
   {
    "duration": 8,
    "start_time": "2022-10-25T11:40:11.802Z"
   },
   {
    "duration": 0,
    "start_time": "2022-10-25T11:40:11.812Z"
   },
   {
    "duration": 0,
    "start_time": "2022-10-25T11:40:11.813Z"
   },
   {
    "duration": 40,
    "start_time": "2022-10-25T11:41:18.926Z"
   },
   {
    "duration": 4,
    "start_time": "2022-10-25T11:41:21.005Z"
   },
   {
    "duration": 7,
    "start_time": "2022-10-25T11:41:21.011Z"
   },
   {
    "duration": 8,
    "start_time": "2022-10-25T11:41:22.837Z"
   },
   {
    "duration": 9,
    "start_time": "2022-10-25T11:41:57.279Z"
   },
   {
    "duration": 11,
    "start_time": "2022-10-25T11:42:19.977Z"
   },
   {
    "duration": 39,
    "start_time": "2022-10-25T11:42:42.970Z"
   },
   {
    "duration": 4,
    "start_time": "2022-10-25T11:42:43.011Z"
   },
   {
    "duration": 8,
    "start_time": "2022-10-25T11:42:43.017Z"
   },
   {
    "duration": 22,
    "start_time": "2022-10-25T11:42:43.027Z"
   },
   {
    "duration": 42,
    "start_time": "2022-10-25T11:44:53.390Z"
   },
   {
    "duration": 4,
    "start_time": "2022-10-25T11:44:54.585Z"
   },
   {
    "duration": 5,
    "start_time": "2022-10-25T11:44:56.707Z"
   },
   {
    "duration": 10,
    "start_time": "2022-10-25T11:44:58.962Z"
   },
   {
    "duration": 50,
    "start_time": "2022-10-25T16:57:58.549Z"
   },
   {
    "duration": 6,
    "start_time": "2022-10-25T16:58:02.245Z"
   },
   {
    "duration": 1400,
    "start_time": "2022-10-25T16:58:52.139Z"
   },
   {
    "duration": 1226,
    "start_time": "2022-10-25T16:58:53.541Z"
   },
   {
    "duration": 15,
    "start_time": "2022-10-25T16:58:54.769Z"
   },
   {
    "duration": 7,
    "start_time": "2022-10-25T16:58:54.786Z"
   },
   {
    "duration": 9,
    "start_time": "2022-10-25T16:58:54.796Z"
   },
   {
    "duration": 83,
    "start_time": "2022-10-25T16:58:54.807Z"
   },
   {
    "duration": 278,
    "start_time": "2022-10-25T16:58:54.892Z"
   },
   {
    "duration": 55,
    "start_time": "2022-10-25T16:58:55.172Z"
   },
   {
    "duration": 5,
    "start_time": "2022-10-25T16:58:55.229Z"
   },
   {
    "duration": 19,
    "start_time": "2022-10-25T16:58:55.235Z"
   },
   {
    "duration": 153,
    "start_time": "2022-10-25T16:58:55.255Z"
   },
   {
    "duration": 49,
    "start_time": "2022-10-25T16:58:55.410Z"
   },
   {
    "duration": 10,
    "start_time": "2022-10-25T16:58:55.461Z"
   },
   {
    "duration": 17,
    "start_time": "2022-10-25T16:58:55.475Z"
   },
   {
    "duration": 17,
    "start_time": "2022-10-25T16:58:55.494Z"
   },
   {
    "duration": 41,
    "start_time": "2022-10-25T16:58:55.513Z"
   },
   {
    "duration": 5,
    "start_time": "2022-10-25T16:58:55.556Z"
   },
   {
    "duration": 23,
    "start_time": "2022-10-25T16:58:55.563Z"
   },
   {
    "duration": 22,
    "start_time": "2022-10-25T16:58:55.588Z"
   },
   {
    "duration": 16,
    "start_time": "2022-10-25T16:58:55.612Z"
   },
   {
    "duration": 10,
    "start_time": "2022-10-25T16:58:55.630Z"
   },
   {
    "duration": 21,
    "start_time": "2022-10-25T16:58:55.643Z"
   },
   {
    "duration": 11,
    "start_time": "2022-10-25T16:58:55.666Z"
   },
   {
    "duration": 15,
    "start_time": "2022-10-25T16:58:55.678Z"
   },
   {
    "duration": 8,
    "start_time": "2022-10-25T16:58:55.694Z"
   },
   {
    "duration": 9,
    "start_time": "2022-10-25T16:58:55.704Z"
   },
   {
    "duration": 38,
    "start_time": "2022-10-25T16:58:55.714Z"
   },
   {
    "duration": 20,
    "start_time": "2022-10-25T16:58:55.754Z"
   },
   {
    "duration": 27,
    "start_time": "2022-10-25T16:58:55.776Z"
   },
   {
    "duration": 20,
    "start_time": "2022-10-25T16:58:55.805Z"
   },
   {
    "duration": 22,
    "start_time": "2022-10-25T16:58:55.828Z"
   },
   {
    "duration": 0,
    "start_time": "2022-10-25T16:58:55.853Z"
   },
   {
    "duration": 0,
    "start_time": "2022-10-25T16:58:55.854Z"
   },
   {
    "duration": 0,
    "start_time": "2022-10-25T16:58:55.856Z"
   },
   {
    "duration": 0,
    "start_time": "2022-10-25T16:58:55.857Z"
   },
   {
    "duration": 0,
    "start_time": "2022-10-25T16:58:55.859Z"
   },
   {
    "duration": 0,
    "start_time": "2022-10-25T16:58:55.860Z"
   },
   {
    "duration": 0,
    "start_time": "2022-10-25T16:58:55.861Z"
   },
   {
    "duration": 0,
    "start_time": "2022-10-25T16:58:55.862Z"
   },
   {
    "duration": 0,
    "start_time": "2022-10-25T16:58:55.863Z"
   },
   {
    "duration": 0,
    "start_time": "2022-10-25T16:58:55.864Z"
   },
   {
    "duration": 1,
    "start_time": "2022-10-25T16:58:55.865Z"
   },
   {
    "duration": 0,
    "start_time": "2022-10-25T16:58:55.867Z"
   },
   {
    "duration": 0,
    "start_time": "2022-10-25T16:58:55.868Z"
   },
   {
    "duration": 0,
    "start_time": "2022-10-25T16:58:55.869Z"
   },
   {
    "duration": 0,
    "start_time": "2022-10-25T16:58:55.870Z"
   },
   {
    "duration": 0,
    "start_time": "2022-10-25T16:58:55.872Z"
   },
   {
    "duration": 0,
    "start_time": "2022-10-25T16:58:55.873Z"
   },
   {
    "duration": 0,
    "start_time": "2022-10-25T16:58:55.874Z"
   },
   {
    "duration": 0,
    "start_time": "2022-10-25T16:58:55.875Z"
   },
   {
    "duration": 0,
    "start_time": "2022-10-25T16:58:55.876Z"
   },
   {
    "duration": 0,
    "start_time": "2022-10-25T16:58:55.878Z"
   },
   {
    "duration": 0,
    "start_time": "2022-10-25T16:58:55.879Z"
   },
   {
    "duration": 0,
    "start_time": "2022-10-25T16:58:55.880Z"
   },
   {
    "duration": 0,
    "start_time": "2022-10-25T16:58:55.881Z"
   },
   {
    "duration": 0,
    "start_time": "2022-10-25T16:58:55.882Z"
   },
   {
    "duration": 0,
    "start_time": "2022-10-25T16:58:55.884Z"
   },
   {
    "duration": 0,
    "start_time": "2022-10-25T16:58:55.885Z"
   },
   {
    "duration": 0,
    "start_time": "2022-10-25T16:58:55.886Z"
   },
   {
    "duration": 0,
    "start_time": "2022-10-25T16:58:55.887Z"
   },
   {
    "duration": 0,
    "start_time": "2022-10-25T16:58:55.889Z"
   },
   {
    "duration": 0,
    "start_time": "2022-10-25T16:58:55.890Z"
   },
   {
    "duration": 0,
    "start_time": "2022-10-25T16:58:55.953Z"
   },
   {
    "duration": 0,
    "start_time": "2022-10-25T16:58:55.955Z"
   },
   {
    "duration": 0,
    "start_time": "2022-10-25T16:58:55.956Z"
   },
   {
    "duration": 0,
    "start_time": "2022-10-25T16:58:55.957Z"
   },
   {
    "duration": 2,
    "start_time": "2022-10-25T16:59:04.152Z"
   },
   {
    "duration": 680,
    "start_time": "2022-10-25T16:59:04.156Z"
   },
   {
    "duration": 9,
    "start_time": "2022-10-25T16:59:04.838Z"
   },
   {
    "duration": 12,
    "start_time": "2022-10-25T16:59:04.848Z"
   },
   {
    "duration": 10,
    "start_time": "2022-10-25T16:59:04.863Z"
   },
   {
    "duration": 61,
    "start_time": "2022-10-25T16:59:04.875Z"
   },
   {
    "duration": 269,
    "start_time": "2022-10-25T16:59:04.938Z"
   },
   {
    "duration": 61,
    "start_time": "2022-10-25T16:59:05.209Z"
   },
   {
    "duration": 9,
    "start_time": "2022-10-25T16:59:05.271Z"
   },
   {
    "duration": 11,
    "start_time": "2022-10-25T16:59:05.282Z"
   },
   {
    "duration": 148,
    "start_time": "2022-10-25T16:59:05.295Z"
   },
   {
    "duration": 45,
    "start_time": "2022-10-25T16:59:05.445Z"
   },
   {
    "duration": 23,
    "start_time": "2022-10-25T16:59:05.491Z"
   },
   {
    "duration": 29,
    "start_time": "2022-10-25T16:59:05.519Z"
   },
   {
    "duration": 23,
    "start_time": "2022-10-25T16:59:05.550Z"
   },
   {
    "duration": 8,
    "start_time": "2022-10-25T16:59:05.575Z"
   },
   {
    "duration": 12,
    "start_time": "2022-10-25T16:59:05.585Z"
   },
   {
    "duration": 8,
    "start_time": "2022-10-25T16:59:05.599Z"
   },
   {
    "duration": 15,
    "start_time": "2022-10-25T16:59:05.608Z"
   },
   {
    "duration": 14,
    "start_time": "2022-10-25T16:59:05.624Z"
   },
   {
    "duration": 19,
    "start_time": "2022-10-25T16:59:05.640Z"
   },
   {
    "duration": 14,
    "start_time": "2022-10-25T16:59:05.661Z"
   },
   {
    "duration": 19,
    "start_time": "2022-10-25T16:59:05.677Z"
   },
   {
    "duration": 6,
    "start_time": "2022-10-25T16:59:05.698Z"
   },
   {
    "duration": 12,
    "start_time": "2022-10-25T16:59:05.706Z"
   },
   {
    "duration": 6,
    "start_time": "2022-10-25T16:59:05.720Z"
   },
   {
    "duration": 7,
    "start_time": "2022-10-25T16:59:05.728Z"
   },
   {
    "duration": 17,
    "start_time": "2022-10-25T16:59:05.736Z"
   },
   {
    "duration": 26,
    "start_time": "2022-10-25T16:59:05.755Z"
   },
   {
    "duration": 13,
    "start_time": "2022-10-25T16:59:05.782Z"
   },
   {
    "duration": 10,
    "start_time": "2022-10-25T16:59:05.797Z"
   },
   {
    "duration": 0,
    "start_time": "2022-10-25T16:59:05.809Z"
   },
   {
    "duration": 0,
    "start_time": "2022-10-25T16:59:05.810Z"
   },
   {
    "duration": 0,
    "start_time": "2022-10-25T16:59:05.812Z"
   },
   {
    "duration": 0,
    "start_time": "2022-10-25T16:59:05.813Z"
   },
   {
    "duration": 0,
    "start_time": "2022-10-25T16:59:05.814Z"
   },
   {
    "duration": 0,
    "start_time": "2022-10-25T16:59:05.815Z"
   },
   {
    "duration": 0,
    "start_time": "2022-10-25T16:59:05.817Z"
   },
   {
    "duration": 0,
    "start_time": "2022-10-25T16:59:05.818Z"
   },
   {
    "duration": 0,
    "start_time": "2022-10-25T16:59:05.819Z"
   },
   {
    "duration": 0,
    "start_time": "2022-10-25T16:59:05.821Z"
   },
   {
    "duration": 0,
    "start_time": "2022-10-25T16:59:05.822Z"
   },
   {
    "duration": 0,
    "start_time": "2022-10-25T16:59:05.823Z"
   },
   {
    "duration": 0,
    "start_time": "2022-10-25T16:59:05.824Z"
   },
   {
    "duration": 0,
    "start_time": "2022-10-25T16:59:05.826Z"
   },
   {
    "duration": 0,
    "start_time": "2022-10-25T16:59:05.827Z"
   },
   {
    "duration": 0,
    "start_time": "2022-10-25T16:59:05.854Z"
   },
   {
    "duration": 0,
    "start_time": "2022-10-25T16:59:05.855Z"
   },
   {
    "duration": 0,
    "start_time": "2022-10-25T16:59:05.856Z"
   },
   {
    "duration": 0,
    "start_time": "2022-10-25T16:59:05.857Z"
   },
   {
    "duration": 0,
    "start_time": "2022-10-25T16:59:05.858Z"
   },
   {
    "duration": 0,
    "start_time": "2022-10-25T16:59:05.859Z"
   },
   {
    "duration": 0,
    "start_time": "2022-10-25T16:59:05.861Z"
   },
   {
    "duration": 0,
    "start_time": "2022-10-25T16:59:05.862Z"
   },
   {
    "duration": 0,
    "start_time": "2022-10-25T16:59:05.863Z"
   },
   {
    "duration": 0,
    "start_time": "2022-10-25T16:59:05.864Z"
   },
   {
    "duration": 0,
    "start_time": "2022-10-25T16:59:05.865Z"
   },
   {
    "duration": 0,
    "start_time": "2022-10-25T16:59:05.867Z"
   },
   {
    "duration": 0,
    "start_time": "2022-10-25T16:59:05.868Z"
   },
   {
    "duration": 0,
    "start_time": "2022-10-25T16:59:05.869Z"
   },
   {
    "duration": 0,
    "start_time": "2022-10-25T16:59:05.871Z"
   },
   {
    "duration": 0,
    "start_time": "2022-10-25T16:59:05.872Z"
   },
   {
    "duration": 0,
    "start_time": "2022-10-25T16:59:05.873Z"
   },
   {
    "duration": 0,
    "start_time": "2022-10-25T16:59:05.874Z"
   },
   {
    "duration": 0,
    "start_time": "2022-10-25T16:59:05.877Z"
   },
   {
    "duration": 0,
    "start_time": "2022-10-25T16:59:05.878Z"
   },
   {
    "duration": 6,
    "start_time": "2022-10-25T16:59:27.203Z"
   },
   {
    "duration": 7,
    "start_time": "2022-10-25T17:00:40.955Z"
   },
   {
    "duration": 6,
    "start_time": "2022-10-25T17:01:22.761Z"
   },
   {
    "duration": 3,
    "start_time": "2022-10-25T17:01:25.865Z"
   },
   {
    "duration": 673,
    "start_time": "2022-10-25T17:01:25.870Z"
   },
   {
    "duration": 9,
    "start_time": "2022-10-25T17:01:26.545Z"
   },
   {
    "duration": 16,
    "start_time": "2022-10-25T17:01:26.556Z"
   },
   {
    "duration": 9,
    "start_time": "2022-10-25T17:01:26.574Z"
   },
   {
    "duration": 72,
    "start_time": "2022-10-25T17:01:26.585Z"
   },
   {
    "duration": 268,
    "start_time": "2022-10-25T17:01:26.659Z"
   },
   {
    "duration": 59,
    "start_time": "2022-10-25T17:01:26.929Z"
   },
   {
    "duration": 13,
    "start_time": "2022-10-25T17:01:26.990Z"
   },
   {
    "duration": 6,
    "start_time": "2022-10-25T17:01:27.005Z"
   },
   {
    "duration": 156,
    "start_time": "2022-10-25T17:01:27.012Z"
   },
   {
    "duration": 40,
    "start_time": "2022-10-25T17:01:27.170Z"
   },
   {
    "duration": 12,
    "start_time": "2022-10-25T17:01:27.212Z"
   },
   {
    "duration": 29,
    "start_time": "2022-10-25T17:01:27.227Z"
   },
   {
    "duration": 14,
    "start_time": "2022-10-25T17:01:27.258Z"
   },
   {
    "duration": 7,
    "start_time": "2022-10-25T17:01:27.274Z"
   },
   {
    "duration": 4,
    "start_time": "2022-10-25T17:01:27.283Z"
   },
   {
    "duration": 8,
    "start_time": "2022-10-25T17:01:27.288Z"
   },
   {
    "duration": 14,
    "start_time": "2022-10-25T17:01:27.298Z"
   },
   {
    "duration": 43,
    "start_time": "2022-10-25T17:01:27.314Z"
   },
   {
    "duration": 10,
    "start_time": "2022-10-25T17:01:27.359Z"
   },
   {
    "duration": 13,
    "start_time": "2022-10-25T17:01:27.370Z"
   },
   {
    "duration": 7,
    "start_time": "2022-10-25T17:01:27.385Z"
   },
   {
    "duration": 7,
    "start_time": "2022-10-25T17:01:27.394Z"
   },
   {
    "duration": 8,
    "start_time": "2022-10-25T17:01:27.403Z"
   },
   {
    "duration": 6,
    "start_time": "2022-10-25T17:01:27.413Z"
   },
   {
    "duration": 35,
    "start_time": "2022-10-25T17:01:27.420Z"
   },
   {
    "duration": 5,
    "start_time": "2022-10-25T17:01:27.457Z"
   },
   {
    "duration": 16,
    "start_time": "2022-10-25T17:01:27.464Z"
   },
   {
    "duration": 11,
    "start_time": "2022-10-25T17:01:27.482Z"
   },
   {
    "duration": 8,
    "start_time": "2022-10-25T17:01:27.494Z"
   },
   {
    "duration": 18,
    "start_time": "2022-10-25T17:01:27.504Z"
   },
   {
    "duration": 29,
    "start_time": "2022-10-25T17:01:27.525Z"
   },
   {
    "duration": 10,
    "start_time": "2022-10-25T17:01:27.556Z"
   },
   {
    "duration": 8,
    "start_time": "2022-10-25T17:01:27.569Z"
   },
   {
    "duration": 12,
    "start_time": "2022-10-25T17:01:27.579Z"
   },
   {
    "duration": 8,
    "start_time": "2022-10-25T17:01:27.592Z"
   },
   {
    "duration": 11,
    "start_time": "2022-10-25T17:01:27.602Z"
   },
   {
    "duration": 26,
    "start_time": "2022-10-25T17:01:27.616Z"
   },
   {
    "duration": 65,
    "start_time": "2022-10-25T17:01:27.653Z"
   },
   {
    "duration": 0,
    "start_time": "2022-10-25T17:01:27.720Z"
   },
   {
    "duration": 0,
    "start_time": "2022-10-25T17:01:27.721Z"
   },
   {
    "duration": 0,
    "start_time": "2022-10-25T17:01:27.723Z"
   },
   {
    "duration": 0,
    "start_time": "2022-10-25T17:01:27.723Z"
   },
   {
    "duration": 0,
    "start_time": "2022-10-25T17:01:27.725Z"
   },
   {
    "duration": 0,
    "start_time": "2022-10-25T17:01:27.726Z"
   },
   {
    "duration": 0,
    "start_time": "2022-10-25T17:01:27.727Z"
   },
   {
    "duration": 0,
    "start_time": "2022-10-25T17:01:27.727Z"
   },
   {
    "duration": 0,
    "start_time": "2022-10-25T17:01:27.729Z"
   },
   {
    "duration": 0,
    "start_time": "2022-10-25T17:01:27.730Z"
   },
   {
    "duration": 0,
    "start_time": "2022-10-25T17:01:27.754Z"
   },
   {
    "duration": 0,
    "start_time": "2022-10-25T17:01:27.756Z"
   },
   {
    "duration": 0,
    "start_time": "2022-10-25T17:01:27.757Z"
   },
   {
    "duration": 0,
    "start_time": "2022-10-25T17:01:27.758Z"
   },
   {
    "duration": 0,
    "start_time": "2022-10-25T17:01:27.760Z"
   },
   {
    "duration": 0,
    "start_time": "2022-10-25T17:01:27.761Z"
   },
   {
    "duration": 0,
    "start_time": "2022-10-25T17:01:27.762Z"
   },
   {
    "duration": 0,
    "start_time": "2022-10-25T17:01:27.763Z"
   },
   {
    "duration": 0,
    "start_time": "2022-10-25T17:01:27.764Z"
   },
   {
    "duration": 0,
    "start_time": "2022-10-25T17:01:27.765Z"
   },
   {
    "duration": 0,
    "start_time": "2022-10-25T17:01:27.766Z"
   },
   {
    "duration": 0,
    "start_time": "2022-10-25T17:01:27.767Z"
   },
   {
    "duration": 0,
    "start_time": "2022-10-25T17:01:27.768Z"
   },
   {
    "duration": 0,
    "start_time": "2022-10-25T17:01:27.769Z"
   },
   {
    "duration": 0,
    "start_time": "2022-10-25T17:01:27.771Z"
   },
   {
    "duration": 0,
    "start_time": "2022-10-25T17:01:27.772Z"
   },
   {
    "duration": 459,
    "start_time": "2022-10-25T17:01:45.651Z"
   },
   {
    "duration": 7,
    "start_time": "2022-10-25T17:02:47.120Z"
   },
   {
    "duration": 6,
    "start_time": "2022-10-25T17:02:57.094Z"
   },
   {
    "duration": 468,
    "start_time": "2022-10-25T17:03:04.858Z"
   },
   {
    "duration": 402,
    "start_time": "2022-10-25T18:01:05.630Z"
   },
   {
    "duration": 25,
    "start_time": "2022-10-25T18:01:09.992Z"
   },
   {
    "duration": 420,
    "start_time": "2022-10-25T18:01:10.812Z"
   },
   {
    "duration": 6,
    "start_time": "2022-10-25T18:19:19.401Z"
   },
   {
    "duration": 537,
    "start_time": "2022-10-25T18:19:26.252Z"
   },
   {
    "duration": 6,
    "start_time": "2022-10-25T18:19:34.910Z"
   },
   {
    "duration": 6,
    "start_time": "2022-10-25T18:19:36.383Z"
   },
   {
    "duration": 3,
    "start_time": "2022-10-25T18:19:53.821Z"
   },
   {
    "duration": 640,
    "start_time": "2022-10-25T18:19:53.825Z"
   },
   {
    "duration": 9,
    "start_time": "2022-10-25T18:19:54.467Z"
   },
   {
    "duration": 16,
    "start_time": "2022-10-25T18:19:54.478Z"
   },
   {
    "duration": 21,
    "start_time": "2022-10-25T18:19:54.497Z"
   },
   {
    "duration": 66,
    "start_time": "2022-10-25T18:19:54.520Z"
   },
   {
    "duration": 243,
    "start_time": "2022-10-25T18:19:54.588Z"
   },
   {
    "duration": 53,
    "start_time": "2022-10-25T18:19:54.833Z"
   },
   {
    "duration": 23,
    "start_time": "2022-10-25T18:19:54.888Z"
   },
   {
    "duration": 22,
    "start_time": "2022-10-25T18:19:54.913Z"
   },
   {
    "duration": 145,
    "start_time": "2022-10-25T18:19:54.938Z"
   },
   {
    "duration": 42,
    "start_time": "2022-10-25T18:19:55.085Z"
   },
   {
    "duration": 30,
    "start_time": "2022-10-25T18:19:55.129Z"
   },
   {
    "duration": 15,
    "start_time": "2022-10-25T18:19:55.161Z"
   },
   {
    "duration": 15,
    "start_time": "2022-10-25T18:19:55.178Z"
   },
   {
    "duration": 8,
    "start_time": "2022-10-25T18:19:55.194Z"
   },
   {
    "duration": 16,
    "start_time": "2022-10-25T18:19:55.203Z"
   },
   {
    "duration": 7,
    "start_time": "2022-10-25T18:19:55.221Z"
   },
   {
    "duration": 31,
    "start_time": "2022-10-25T18:19:55.229Z"
   },
   {
    "duration": 25,
    "start_time": "2022-10-25T18:19:55.261Z"
   },
   {
    "duration": 9,
    "start_time": "2022-10-25T18:19:55.287Z"
   },
   {
    "duration": 16,
    "start_time": "2022-10-25T18:19:55.298Z"
   },
   {
    "duration": 6,
    "start_time": "2022-10-25T18:19:55.315Z"
   },
   {
    "duration": 5,
    "start_time": "2022-10-25T18:19:55.323Z"
   },
   {
    "duration": 12,
    "start_time": "2022-10-25T18:19:55.330Z"
   },
   {
    "duration": 4,
    "start_time": "2022-10-25T18:19:55.344Z"
   },
   {
    "duration": 8,
    "start_time": "2022-10-25T18:19:55.354Z"
   },
   {
    "duration": 20,
    "start_time": "2022-10-25T18:19:55.364Z"
   },
   {
    "duration": 26,
    "start_time": "2022-10-25T18:19:55.387Z"
   },
   {
    "duration": 11,
    "start_time": "2022-10-25T18:19:55.415Z"
   },
   {
    "duration": 11,
    "start_time": "2022-10-25T18:19:55.427Z"
   },
   {
    "duration": 10,
    "start_time": "2022-10-25T18:19:55.439Z"
   },
   {
    "duration": 9,
    "start_time": "2022-10-25T18:19:55.521Z"
   },
   {
    "duration": 11,
    "start_time": "2022-10-25T18:19:55.611Z"
   },
   {
    "duration": 17,
    "start_time": "2022-10-25T18:19:55.624Z"
   },
   {
    "duration": 9,
    "start_time": "2022-10-25T18:19:55.821Z"
   },
   {
    "duration": 13,
    "start_time": "2022-10-25T18:19:55.833Z"
   },
   {
    "duration": 12,
    "start_time": "2022-10-25T18:19:55.848Z"
   },
   {
    "duration": 22,
    "start_time": "2022-10-25T18:19:55.909Z"
   },
   {
    "duration": 508,
    "start_time": "2022-10-25T18:19:56.072Z"
   },
   {
    "duration": 6,
    "start_time": "2022-10-25T18:19:56.582Z"
   },
   {
    "duration": 22,
    "start_time": "2022-10-25T18:19:56.589Z"
   },
   {
    "duration": 12,
    "start_time": "2022-10-25T18:19:56.613Z"
   },
   {
    "duration": 62,
    "start_time": "2022-10-25T18:19:56.628Z"
   },
   {
    "duration": 3,
    "start_time": "2022-10-25T18:19:56.692Z"
   },
   {
    "duration": 12,
    "start_time": "2022-10-25T18:19:56.697Z"
   },
   {
    "duration": 13,
    "start_time": "2022-10-25T18:19:56.710Z"
   },
   {
    "duration": 18,
    "start_time": "2022-10-25T18:19:56.724Z"
   },
   {
    "duration": 47,
    "start_time": "2022-10-25T18:19:56.744Z"
   },
   {
    "duration": 3,
    "start_time": "2022-10-25T18:19:56.793Z"
   },
   {
    "duration": 14,
    "start_time": "2022-10-25T18:19:56.798Z"
   },
   {
    "duration": 23,
    "start_time": "2022-10-25T18:19:56.814Z"
   },
   {
    "duration": 15,
    "start_time": "2022-10-25T18:19:56.840Z"
   },
   {
    "duration": 41,
    "start_time": "2022-10-25T18:19:56.856Z"
   },
   {
    "duration": 4,
    "start_time": "2022-10-25T18:19:56.898Z"
   },
   {
    "duration": 13,
    "start_time": "2022-10-25T18:19:56.903Z"
   },
   {
    "duration": 14,
    "start_time": "2022-10-25T18:19:56.917Z"
   },
   {
    "duration": 21,
    "start_time": "2022-10-25T18:19:56.933Z"
   },
   {
    "duration": 5,
    "start_time": "2022-10-25T18:19:56.955Z"
   },
   {
    "duration": 28,
    "start_time": "2022-10-25T18:19:56.962Z"
   },
   {
    "duration": 25,
    "start_time": "2022-10-25T18:19:56.992Z"
   },
   {
    "duration": 13,
    "start_time": "2022-10-25T18:19:57.018Z"
   },
   {
    "duration": 8,
    "start_time": "2022-10-25T18:19:57.033Z"
   },
   {
    "duration": 23,
    "start_time": "2022-10-25T18:19:57.042Z"
   },
   {
    "duration": 546,
    "start_time": "2022-10-25T18:19:57.067Z"
   },
   {
    "duration": 11,
    "start_time": "2022-10-25T18:19:57.615Z"
   },
   {
    "duration": 11,
    "start_time": "2022-10-25T18:57:47.689Z"
   },
   {
    "duration": 7,
    "start_time": "2022-10-25T18:57:50.170Z"
   },
   {
    "duration": 12,
    "start_time": "2022-10-25T18:57:52.192Z"
   },
   {
    "duration": 539,
    "start_time": "2022-10-25T18:58:05.434Z"
   },
   {
    "duration": 10,
    "start_time": "2022-10-25T18:58:14.309Z"
   },
   {
    "duration": 577,
    "start_time": "2022-10-25T18:58:46.689Z"
   },
   {
    "duration": 7,
    "start_time": "2022-10-25T18:59:24.448Z"
   },
   {
    "duration": 8,
    "start_time": "2022-10-25T18:59:53.039Z"
   },
   {
    "duration": 3,
    "start_time": "2022-10-25T18:59:57.610Z"
   },
   {
    "duration": 682,
    "start_time": "2022-10-25T18:59:57.641Z"
   },
   {
    "duration": 10,
    "start_time": "2022-10-25T18:59:58.326Z"
   },
   {
    "duration": 19,
    "start_time": "2022-10-25T18:59:58.338Z"
   },
   {
    "duration": 30,
    "start_time": "2022-10-25T18:59:58.359Z"
   },
   {
    "duration": 69,
    "start_time": "2022-10-25T18:59:58.391Z"
   },
   {
    "duration": 293,
    "start_time": "2022-10-25T18:59:58.462Z"
   },
   {
    "duration": 54,
    "start_time": "2022-10-25T18:59:58.757Z"
   },
   {
    "duration": 18,
    "start_time": "2022-10-25T18:59:58.813Z"
   },
   {
    "duration": 27,
    "start_time": "2022-10-25T18:59:58.833Z"
   },
   {
    "duration": 165,
    "start_time": "2022-10-25T18:59:58.862Z"
   },
   {
    "duration": 42,
    "start_time": "2022-10-25T18:59:59.029Z"
   },
   {
    "duration": 32,
    "start_time": "2022-10-25T18:59:59.073Z"
   },
   {
    "duration": 43,
    "start_time": "2022-10-25T18:59:59.106Z"
   },
   {
    "duration": 25,
    "start_time": "2022-10-25T18:59:59.152Z"
   },
   {
    "duration": 31,
    "start_time": "2022-10-25T18:59:59.179Z"
   },
   {
    "duration": 41,
    "start_time": "2022-10-25T18:59:59.212Z"
   },
   {
    "duration": 22,
    "start_time": "2022-10-25T18:59:59.257Z"
   },
   {
    "duration": 34,
    "start_time": "2022-10-25T18:59:59.280Z"
   },
   {
    "duration": 40,
    "start_time": "2022-10-25T18:59:59.316Z"
   },
   {
    "duration": 43,
    "start_time": "2022-10-25T18:59:59.357Z"
   },
   {
    "duration": 52,
    "start_time": "2022-10-25T18:59:59.401Z"
   },
   {
    "duration": 25,
    "start_time": "2022-10-25T18:59:59.455Z"
   },
   {
    "duration": 32,
    "start_time": "2022-10-25T18:59:59.482Z"
   },
   {
    "duration": 31,
    "start_time": "2022-10-25T18:59:59.516Z"
   },
   {
    "duration": 30,
    "start_time": "2022-10-25T18:59:59.548Z"
   },
   {
    "duration": 37,
    "start_time": "2022-10-25T18:59:59.580Z"
   },
   {
    "duration": 43,
    "start_time": "2022-10-25T18:59:59.619Z"
   },
   {
    "duration": 25,
    "start_time": "2022-10-25T18:59:59.664Z"
   },
   {
    "duration": 34,
    "start_time": "2022-10-25T18:59:59.690Z"
   },
   {
    "duration": 31,
    "start_time": "2022-10-25T18:59:59.726Z"
   },
   {
    "duration": 0,
    "start_time": "2022-10-25T18:59:59.759Z"
   },
   {
    "duration": 0,
    "start_time": "2022-10-25T18:59:59.761Z"
   },
   {
    "duration": 0,
    "start_time": "2022-10-25T18:59:59.762Z"
   },
   {
    "duration": 0,
    "start_time": "2022-10-25T18:59:59.763Z"
   },
   {
    "duration": 0,
    "start_time": "2022-10-25T18:59:59.765Z"
   },
   {
    "duration": 0,
    "start_time": "2022-10-25T18:59:59.765Z"
   },
   {
    "duration": 0,
    "start_time": "2022-10-25T18:59:59.766Z"
   },
   {
    "duration": 0,
    "start_time": "2022-10-25T18:59:59.767Z"
   },
   {
    "duration": 0,
    "start_time": "2022-10-25T18:59:59.768Z"
   },
   {
    "duration": 0,
    "start_time": "2022-10-25T18:59:59.769Z"
   },
   {
    "duration": 0,
    "start_time": "2022-10-25T18:59:59.771Z"
   },
   {
    "duration": 0,
    "start_time": "2022-10-25T18:59:59.772Z"
   },
   {
    "duration": 0,
    "start_time": "2022-10-25T18:59:59.773Z"
   },
   {
    "duration": 0,
    "start_time": "2022-10-25T18:59:59.774Z"
   },
   {
    "duration": 0,
    "start_time": "2022-10-25T18:59:59.775Z"
   },
   {
    "duration": 0,
    "start_time": "2022-10-25T18:59:59.776Z"
   },
   {
    "duration": 0,
    "start_time": "2022-10-25T18:59:59.777Z"
   },
   {
    "duration": 0,
    "start_time": "2022-10-25T18:59:59.778Z"
   },
   {
    "duration": 0,
    "start_time": "2022-10-25T18:59:59.779Z"
   },
   {
    "duration": 0,
    "start_time": "2022-10-25T18:59:59.780Z"
   },
   {
    "duration": 0,
    "start_time": "2022-10-25T18:59:59.781Z"
   },
   {
    "duration": 0,
    "start_time": "2022-10-25T18:59:59.782Z"
   },
   {
    "duration": 0,
    "start_time": "2022-10-25T18:59:59.783Z"
   },
   {
    "duration": 0,
    "start_time": "2022-10-25T18:59:59.785Z"
   },
   {
    "duration": 0,
    "start_time": "2022-10-25T18:59:59.785Z"
   },
   {
    "duration": 0,
    "start_time": "2022-10-25T18:59:59.787Z"
   },
   {
    "duration": 0,
    "start_time": "2022-10-25T18:59:59.788Z"
   },
   {
    "duration": 0,
    "start_time": "2022-10-25T18:59:59.789Z"
   },
   {
    "duration": 0,
    "start_time": "2022-10-25T18:59:59.790Z"
   },
   {
    "duration": 0,
    "start_time": "2022-10-25T18:59:59.791Z"
   },
   {
    "duration": 0,
    "start_time": "2022-10-25T18:59:59.792Z"
   },
   {
    "duration": 0,
    "start_time": "2022-10-25T18:59:59.793Z"
   },
   {
    "duration": 0,
    "start_time": "2022-10-25T18:59:59.794Z"
   },
   {
    "duration": 0,
    "start_time": "2022-10-25T18:59:59.854Z"
   },
   {
    "duration": 0,
    "start_time": "2022-10-25T18:59:59.855Z"
   },
   {
    "duration": 0,
    "start_time": "2022-10-25T18:59:59.857Z"
   },
   {
    "duration": 4,
    "start_time": "2022-10-25T19:00:22.369Z"
   },
   {
    "duration": 698,
    "start_time": "2022-10-25T19:00:22.375Z"
   },
   {
    "duration": 9,
    "start_time": "2022-10-25T19:00:23.075Z"
   },
   {
    "duration": 15,
    "start_time": "2022-10-25T19:00:23.086Z"
   },
   {
    "duration": 11,
    "start_time": "2022-10-25T19:00:23.104Z"
   },
   {
    "duration": 62,
    "start_time": "2022-10-25T19:00:23.117Z"
   },
   {
    "duration": 240,
    "start_time": "2022-10-25T19:00:23.181Z"
   },
   {
    "duration": 54,
    "start_time": "2022-10-25T19:00:23.423Z"
   },
   {
    "duration": 4,
    "start_time": "2022-10-25T19:00:23.479Z"
   },
   {
    "duration": 6,
    "start_time": "2022-10-25T19:00:23.485Z"
   },
   {
    "duration": 136,
    "start_time": "2022-10-25T19:00:23.495Z"
   },
   {
    "duration": 47,
    "start_time": "2022-10-25T19:00:23.633Z"
   },
   {
    "duration": 13,
    "start_time": "2022-10-25T19:00:23.682Z"
   },
   {
    "duration": 19,
    "start_time": "2022-10-25T19:00:23.697Z"
   },
   {
    "duration": 12,
    "start_time": "2022-10-25T19:00:23.718Z"
   },
   {
    "duration": 8,
    "start_time": "2022-10-25T19:00:23.754Z"
   },
   {
    "duration": 5,
    "start_time": "2022-10-25T19:00:23.764Z"
   },
   {
    "duration": 4,
    "start_time": "2022-10-25T19:00:23.771Z"
   },
   {
    "duration": 12,
    "start_time": "2022-10-25T19:00:23.777Z"
   },
   {
    "duration": 15,
    "start_time": "2022-10-25T19:00:23.791Z"
   },
   {
    "duration": 9,
    "start_time": "2022-10-25T19:00:23.807Z"
   },
   {
    "duration": 40,
    "start_time": "2022-10-25T19:00:23.817Z"
   },
   {
    "duration": 8,
    "start_time": "2022-10-25T19:00:23.859Z"
   },
   {
    "duration": 6,
    "start_time": "2022-10-25T19:00:23.869Z"
   },
   {
    "duration": 8,
    "start_time": "2022-10-25T19:00:23.876Z"
   },
   {
    "duration": 10,
    "start_time": "2022-10-25T19:00:23.886Z"
   },
   {
    "duration": 14,
    "start_time": "2022-10-25T19:00:23.898Z"
   },
   {
    "duration": 7,
    "start_time": "2022-10-25T19:00:23.914Z"
   },
   {
    "duration": 30,
    "start_time": "2022-10-25T19:00:23.925Z"
   },
   {
    "duration": 15,
    "start_time": "2022-10-25T19:00:23.956Z"
   },
   {
    "duration": 8,
    "start_time": "2022-10-25T19:00:23.973Z"
   },
   {
    "duration": 0,
    "start_time": "2022-10-25T19:00:23.983Z"
   },
   {
    "duration": 0,
    "start_time": "2022-10-25T19:00:23.984Z"
   },
   {
    "duration": 0,
    "start_time": "2022-10-25T19:00:23.985Z"
   },
   {
    "duration": 0,
    "start_time": "2022-10-25T19:00:23.986Z"
   },
   {
    "duration": 0,
    "start_time": "2022-10-25T19:00:23.988Z"
   },
   {
    "duration": 0,
    "start_time": "2022-10-25T19:00:23.989Z"
   },
   {
    "duration": 0,
    "start_time": "2022-10-25T19:00:23.990Z"
   },
   {
    "duration": 0,
    "start_time": "2022-10-25T19:00:23.991Z"
   },
   {
    "duration": 0,
    "start_time": "2022-10-25T19:00:23.992Z"
   },
   {
    "duration": 0,
    "start_time": "2022-10-25T19:00:23.993Z"
   },
   {
    "duration": 0,
    "start_time": "2022-10-25T19:00:23.994Z"
   },
   {
    "duration": 0,
    "start_time": "2022-10-25T19:00:23.995Z"
   },
   {
    "duration": 0,
    "start_time": "2022-10-25T19:00:23.996Z"
   },
   {
    "duration": 0,
    "start_time": "2022-10-25T19:00:23.998Z"
   },
   {
    "duration": 0,
    "start_time": "2022-10-25T19:00:23.998Z"
   },
   {
    "duration": 0,
    "start_time": "2022-10-25T19:00:24.000Z"
   },
   {
    "duration": 0,
    "start_time": "2022-10-25T19:00:24.001Z"
   },
   {
    "duration": 0,
    "start_time": "2022-10-25T19:00:24.002Z"
   },
   {
    "duration": 0,
    "start_time": "2022-10-25T19:00:24.003Z"
   },
   {
    "duration": 0,
    "start_time": "2022-10-25T19:00:24.004Z"
   },
   {
    "duration": 0,
    "start_time": "2022-10-25T19:00:24.005Z"
   },
   {
    "duration": 0,
    "start_time": "2022-10-25T19:00:24.054Z"
   },
   {
    "duration": 0,
    "start_time": "2022-10-25T19:00:24.055Z"
   },
   {
    "duration": 0,
    "start_time": "2022-10-25T19:00:24.056Z"
   },
   {
    "duration": 0,
    "start_time": "2022-10-25T19:00:24.058Z"
   },
   {
    "duration": 0,
    "start_time": "2022-10-25T19:00:24.059Z"
   },
   {
    "duration": 0,
    "start_time": "2022-10-25T19:00:24.060Z"
   },
   {
    "duration": 0,
    "start_time": "2022-10-25T19:00:24.061Z"
   },
   {
    "duration": 0,
    "start_time": "2022-10-25T19:00:24.062Z"
   },
   {
    "duration": 0,
    "start_time": "2022-10-25T19:00:24.063Z"
   },
   {
    "duration": 0,
    "start_time": "2022-10-25T19:00:24.064Z"
   },
   {
    "duration": 0,
    "start_time": "2022-10-25T19:00:24.065Z"
   },
   {
    "duration": 0,
    "start_time": "2022-10-25T19:00:24.066Z"
   },
   {
    "duration": 0,
    "start_time": "2022-10-25T19:00:24.067Z"
   },
   {
    "duration": 0,
    "start_time": "2022-10-25T19:00:24.069Z"
   },
   {
    "duration": 0,
    "start_time": "2022-10-25T19:00:24.070Z"
   },
   {
    "duration": 7,
    "start_time": "2022-10-25T19:00:48.772Z"
   },
   {
    "duration": 3,
    "start_time": "2022-10-25T19:00:51.651Z"
   },
   {
    "duration": 691,
    "start_time": "2022-10-25T19:00:51.656Z"
   },
   {
    "duration": 9,
    "start_time": "2022-10-25T19:00:52.349Z"
   },
   {
    "duration": 14,
    "start_time": "2022-10-25T19:00:52.360Z"
   },
   {
    "duration": 16,
    "start_time": "2022-10-25T19:00:52.376Z"
   },
   {
    "duration": 67,
    "start_time": "2022-10-25T19:00:52.393Z"
   },
   {
    "duration": 252,
    "start_time": "2022-10-25T19:00:52.462Z"
   },
   {
    "duration": 58,
    "start_time": "2022-10-25T19:00:52.715Z"
   },
   {
    "duration": 4,
    "start_time": "2022-10-25T19:00:52.775Z"
   },
   {
    "duration": 9,
    "start_time": "2022-10-25T19:00:52.780Z"
   },
   {
    "duration": 136,
    "start_time": "2022-10-25T19:00:52.791Z"
   },
   {
    "duration": 44,
    "start_time": "2022-10-25T19:00:52.929Z"
   },
   {
    "duration": 9,
    "start_time": "2022-10-25T19:00:52.975Z"
   },
   {
    "duration": 23,
    "start_time": "2022-10-25T19:00:52.987Z"
   },
   {
    "duration": 20,
    "start_time": "2022-10-25T19:00:53.012Z"
   },
   {
    "duration": 24,
    "start_time": "2022-10-25T19:00:53.034Z"
   },
   {
    "duration": 7,
    "start_time": "2022-10-25T19:00:53.059Z"
   },
   {
    "duration": 12,
    "start_time": "2022-10-25T19:00:53.067Z"
   },
   {
    "duration": 24,
    "start_time": "2022-10-25T19:00:53.080Z"
   },
   {
    "duration": 21,
    "start_time": "2022-10-25T19:00:53.106Z"
   },
   {
    "duration": 22,
    "start_time": "2022-10-25T19:00:53.128Z"
   },
   {
    "duration": 16,
    "start_time": "2022-10-25T19:00:53.152Z"
   },
   {
    "duration": 17,
    "start_time": "2022-10-25T19:00:53.169Z"
   },
   {
    "duration": 22,
    "start_time": "2022-10-25T19:00:53.187Z"
   },
   {
    "duration": 12,
    "start_time": "2022-10-25T19:00:53.210Z"
   },
   {
    "duration": 13,
    "start_time": "2022-10-25T19:00:53.224Z"
   },
   {
    "duration": 14,
    "start_time": "2022-10-25T19:00:53.238Z"
   },
   {
    "duration": 8,
    "start_time": "2022-10-25T19:00:53.254Z"
   },
   {
    "duration": 18,
    "start_time": "2022-10-25T19:00:53.264Z"
   },
   {
    "duration": 14,
    "start_time": "2022-10-25T19:00:53.284Z"
   },
   {
    "duration": 8,
    "start_time": "2022-10-25T19:00:53.299Z"
   },
   {
    "duration": 24,
    "start_time": "2022-10-25T19:00:53.308Z"
   },
   {
    "duration": 11,
    "start_time": "2022-10-25T19:00:53.334Z"
   },
   {
    "duration": 19,
    "start_time": "2022-10-25T19:00:53.347Z"
   },
   {
    "duration": 18,
    "start_time": "2022-10-25T19:00:53.368Z"
   },
   {
    "duration": 27,
    "start_time": "2022-10-25T19:00:53.388Z"
   },
   {
    "duration": 14,
    "start_time": "2022-10-25T19:00:53.416Z"
   },
   {
    "duration": 13,
    "start_time": "2022-10-25T19:00:53.432Z"
   },
   {
    "duration": 122,
    "start_time": "2022-10-25T19:00:53.446Z"
   },
   {
    "duration": 432,
    "start_time": "2022-10-25T19:00:53.570Z"
   },
   {
    "duration": 0,
    "start_time": "2022-10-25T19:00:54.005Z"
   },
   {
    "duration": 0,
    "start_time": "2022-10-25T19:00:54.006Z"
   },
   {
    "duration": 0,
    "start_time": "2022-10-25T19:00:54.008Z"
   },
   {
    "duration": 0,
    "start_time": "2022-10-25T19:00:54.009Z"
   },
   {
    "duration": 0,
    "start_time": "2022-10-25T19:00:54.010Z"
   },
   {
    "duration": 0,
    "start_time": "2022-10-25T19:00:54.012Z"
   },
   {
    "duration": 0,
    "start_time": "2022-10-25T19:00:54.013Z"
   },
   {
    "duration": 0,
    "start_time": "2022-10-25T19:00:54.014Z"
   },
   {
    "duration": 0,
    "start_time": "2022-10-25T19:00:54.016Z"
   },
   {
    "duration": 0,
    "start_time": "2022-10-25T19:00:54.017Z"
   },
   {
    "duration": 0,
    "start_time": "2022-10-25T19:00:54.018Z"
   },
   {
    "duration": 0,
    "start_time": "2022-10-25T19:00:54.019Z"
   },
   {
    "duration": 0,
    "start_time": "2022-10-25T19:00:54.020Z"
   },
   {
    "duration": 0,
    "start_time": "2022-10-25T19:00:54.021Z"
   },
   {
    "duration": 0,
    "start_time": "2022-10-25T19:00:54.023Z"
   },
   {
    "duration": 0,
    "start_time": "2022-10-25T19:00:54.055Z"
   },
   {
    "duration": 0,
    "start_time": "2022-10-25T19:00:54.056Z"
   },
   {
    "duration": 0,
    "start_time": "2022-10-25T19:00:54.057Z"
   },
   {
    "duration": 0,
    "start_time": "2022-10-25T19:00:54.058Z"
   },
   {
    "duration": 0,
    "start_time": "2022-10-25T19:00:54.059Z"
   },
   {
    "duration": 0,
    "start_time": "2022-10-25T19:00:54.060Z"
   },
   {
    "duration": 0,
    "start_time": "2022-10-25T19:00:54.062Z"
   },
   {
    "duration": 0,
    "start_time": "2022-10-25T19:00:54.063Z"
   },
   {
    "duration": 0,
    "start_time": "2022-10-25T19:00:54.063Z"
   },
   {
    "duration": 0,
    "start_time": "2022-10-25T19:00:54.064Z"
   },
   {
    "duration": 0,
    "start_time": "2022-10-25T19:00:54.065Z"
   },
   {
    "duration": 0,
    "start_time": "2022-10-25T19:00:54.067Z"
   },
   {
    "duration": 7,
    "start_time": "2022-10-25T19:01:26.251Z"
   },
   {
    "duration": 22,
    "start_time": "2022-10-25T19:01:33.138Z"
   },
   {
    "duration": 408,
    "start_time": "2022-10-25T19:01:33.890Z"
   },
   {
    "duration": 5,
    "start_time": "2022-10-25T19:01:37.099Z"
   },
   {
    "duration": 9,
    "start_time": "2022-10-25T19:01:38.688Z"
   },
   {
    "duration": 13,
    "start_time": "2022-10-25T19:01:47.369Z"
   },
   {
    "duration": 50,
    "start_time": "2022-10-25T19:01:48.135Z"
   },
   {
    "duration": 4,
    "start_time": "2022-10-25T19:01:49.516Z"
   },
   {
    "duration": 5,
    "start_time": "2022-10-25T19:01:50.269Z"
   },
   {
    "duration": 11,
    "start_time": "2022-10-25T19:01:50.877Z"
   },
   {
    "duration": 12,
    "start_time": "2022-10-25T19:01:53.177Z"
   },
   {
    "duration": 43,
    "start_time": "2022-10-25T19:01:54.209Z"
   },
   {
    "duration": 4,
    "start_time": "2022-10-25T19:01:55.238Z"
   },
   {
    "duration": 5,
    "start_time": "2022-10-25T19:01:55.868Z"
   },
   {
    "duration": 10,
    "start_time": "2022-10-25T19:01:56.335Z"
   },
   {
    "duration": 12,
    "start_time": "2022-10-25T19:01:58.773Z"
   },
   {
    "duration": 46,
    "start_time": "2022-10-25T19:02:00.174Z"
   },
   {
    "duration": 5,
    "start_time": "2022-10-25T19:02:01.365Z"
   },
   {
    "duration": 4,
    "start_time": "2022-10-25T19:02:01.910Z"
   },
   {
    "duration": 11,
    "start_time": "2022-10-25T19:02:02.353Z"
   },
   {
    "duration": 5,
    "start_time": "2022-10-25T19:02:13.388Z"
   },
   {
    "duration": 6,
    "start_time": "2022-10-25T19:02:14.904Z"
   },
   {
    "duration": 5,
    "start_time": "2022-10-25T19:02:15.509Z"
   },
   {
    "duration": 11,
    "start_time": "2022-10-25T19:02:16.109Z"
   },
   {
    "duration": 5,
    "start_time": "2022-10-25T19:02:27.700Z"
   },
   {
    "duration": 7,
    "start_time": "2022-10-25T19:02:28.389Z"
   },
   {
    "duration": 15,
    "start_time": "2022-10-25T19:02:28.760Z"
   },
   {
    "duration": 514,
    "start_time": "2022-10-25T19:02:35.790Z"
   },
   {
    "duration": 13,
    "start_time": "2022-10-25T19:04:38.989Z"
   },
   {
    "duration": 14,
    "start_time": "2022-10-25T19:05:54.889Z"
   },
   {
    "duration": 5,
    "start_time": "2022-10-25T19:05:56.258Z"
   },
   {
    "duration": 6,
    "start_time": "2022-10-25T19:05:57.311Z"
   },
   {
    "duration": 13,
    "start_time": "2022-10-25T19:05:58.511Z"
   },
   {
    "duration": 14,
    "start_time": "2022-10-25T19:06:10.238Z"
   },
   {
    "duration": 6,
    "start_time": "2022-10-25T19:06:16.536Z"
   },
   {
    "duration": 14,
    "start_time": "2022-10-25T19:06:17.471Z"
   },
   {
    "duration": 4,
    "start_time": "2022-10-25T19:07:38.249Z"
   },
   {
    "duration": 3,
    "start_time": "2022-10-25T19:09:27.140Z"
   },
   {
    "duration": 687,
    "start_time": "2022-10-25T19:09:27.145Z"
   },
   {
    "duration": 10,
    "start_time": "2022-10-25T19:09:27.870Z"
   },
   {
    "duration": 13,
    "start_time": "2022-10-25T19:09:27.883Z"
   },
   {
    "duration": 19,
    "start_time": "2022-10-25T19:09:27.897Z"
   },
   {
    "duration": 62,
    "start_time": "2022-10-25T19:09:27.918Z"
   },
   {
    "duration": 275,
    "start_time": "2022-10-25T19:09:27.984Z"
   },
   {
    "duration": 54,
    "start_time": "2022-10-25T19:09:28.261Z"
   },
   {
    "duration": 4,
    "start_time": "2022-10-25T19:09:29.709Z"
   },
   {
    "duration": 8,
    "start_time": "2022-10-25T19:09:29.715Z"
   },
   {
    "duration": 131,
    "start_time": "2022-10-25T19:09:40.653Z"
   },
   {
    "duration": 45,
    "start_time": "2022-10-25T19:09:40.787Z"
   },
   {
    "duration": 27,
    "start_time": "2022-10-25T19:09:40.834Z"
   },
   {
    "duration": 14,
    "start_time": "2022-10-25T19:09:40.863Z"
   },
   {
    "duration": 14,
    "start_time": "2022-10-25T19:09:40.879Z"
   },
   {
    "duration": 9,
    "start_time": "2022-10-25T19:10:04.193Z"
   },
   {
    "duration": 7,
    "start_time": "2022-10-25T19:10:04.204Z"
   },
   {
    "duration": 19,
    "start_time": "2022-10-25T19:10:04.213Z"
   },
   {
    "duration": 19,
    "start_time": "2022-10-25T19:10:04.234Z"
   },
   {
    "duration": 16,
    "start_time": "2022-10-25T19:10:04.254Z"
   },
   {
    "duration": 8,
    "start_time": "2022-10-25T19:10:04.272Z"
   },
   {
    "duration": 20,
    "start_time": "2022-10-25T19:10:04.282Z"
   },
   {
    "duration": 10,
    "start_time": "2022-10-25T19:10:04.304Z"
   },
   {
    "duration": 10,
    "start_time": "2022-10-25T19:10:04.316Z"
   },
   {
    "duration": 19,
    "start_time": "2022-10-25T19:10:04.327Z"
   },
   {
    "duration": 7,
    "start_time": "2022-10-25T19:10:04.347Z"
   },
   {
    "duration": 7,
    "start_time": "2022-10-25T19:10:04.356Z"
   },
   {
    "duration": 12,
    "start_time": "2022-10-25T19:10:04.365Z"
   },
   {
    "duration": 21,
    "start_time": "2022-10-25T19:10:04.378Z"
   },
   {
    "duration": 14,
    "start_time": "2022-10-25T19:10:04.401Z"
   },
   {
    "duration": 6,
    "start_time": "2022-10-25T19:10:04.452Z"
   },
   {
    "duration": 13,
    "start_time": "2022-10-25T19:10:04.460Z"
   },
   {
    "duration": 8,
    "start_time": "2022-10-25T19:10:04.590Z"
   },
   {
    "duration": 12,
    "start_time": "2022-10-25T19:10:04.710Z"
   },
   {
    "duration": 27,
    "start_time": "2022-10-25T19:10:04.724Z"
   },
   {
    "duration": 10,
    "start_time": "2022-10-25T19:10:04.790Z"
   },
   {
    "duration": 7,
    "start_time": "2022-10-25T19:10:04.889Z"
   },
   {
    "duration": 24,
    "start_time": "2022-10-25T19:10:04.898Z"
   },
   {
    "duration": 36,
    "start_time": "2022-10-25T19:10:04.924Z"
   },
   {
    "duration": 448,
    "start_time": "2022-10-25T19:10:04.962Z"
   },
   {
    "duration": 5,
    "start_time": "2022-10-25T19:10:05.413Z"
   },
   {
    "duration": 45,
    "start_time": "2022-10-25T19:10:05.420Z"
   },
   {
    "duration": 27,
    "start_time": "2022-10-25T19:10:05.467Z"
   },
   {
    "duration": 54,
    "start_time": "2022-10-25T19:10:05.496Z"
   },
   {
    "duration": 4,
    "start_time": "2022-10-25T19:10:05.552Z"
   },
   {
    "duration": 26,
    "start_time": "2022-10-25T19:10:05.557Z"
   },
   {
    "duration": 18,
    "start_time": "2022-10-25T19:10:05.586Z"
   },
   {
    "duration": 33,
    "start_time": "2022-10-25T19:10:05.606Z"
   },
   {
    "duration": 54,
    "start_time": "2022-10-25T19:10:05.643Z"
   },
   {
    "duration": 4,
    "start_time": "2022-10-25T19:10:05.699Z"
   },
   {
    "duration": 21,
    "start_time": "2022-10-25T19:10:05.705Z"
   },
   {
    "duration": 29,
    "start_time": "2022-10-25T19:10:05.727Z"
   },
   {
    "duration": 33,
    "start_time": "2022-10-25T19:10:05.758Z"
   },
   {
    "duration": 47,
    "start_time": "2022-10-25T19:10:05.793Z"
   },
   {
    "duration": 4,
    "start_time": "2022-10-25T19:10:05.843Z"
   },
   {
    "duration": 29,
    "start_time": "2022-10-25T19:10:05.849Z"
   },
   {
    "duration": 30,
    "start_time": "2022-10-25T19:10:05.880Z"
   },
   {
    "duration": 12,
    "start_time": "2022-10-25T19:10:05.912Z"
   },
   {
    "duration": 7,
    "start_time": "2022-10-25T19:10:05.926Z"
   },
   {
    "duration": 9,
    "start_time": "2022-10-25T19:10:05.935Z"
   },
   {
    "duration": 25,
    "start_time": "2022-10-25T19:10:05.946Z"
   },
   {
    "duration": 0,
    "start_time": "2022-10-25T19:10:05.973Z"
   },
   {
    "duration": 0,
    "start_time": "2022-10-25T19:10:05.975Z"
   },
   {
    "duration": 0,
    "start_time": "2022-10-25T19:10:05.976Z"
   },
   {
    "duration": 0,
    "start_time": "2022-10-25T19:10:05.977Z"
   },
   {
    "duration": 0,
    "start_time": "2022-10-25T19:10:05.979Z"
   },
   {
    "duration": 0,
    "start_time": "2022-10-25T19:10:05.981Z"
   },
   {
    "duration": 0,
    "start_time": "2022-10-25T19:10:05.982Z"
   },
   {
    "duration": 4,
    "start_time": "2022-10-25T19:10:30.951Z"
   },
   {
    "duration": 12,
    "start_time": "2022-10-25T19:10:32.171Z"
   },
   {
    "duration": 12,
    "start_time": "2022-10-25T19:11:01.841Z"
   },
   {
    "duration": 18,
    "start_time": "2022-10-25T19:11:59.449Z"
   },
   {
    "duration": 0,
    "start_time": "2022-10-25T19:16:57.881Z"
   },
   {
    "duration": 5,
    "start_time": "2022-10-25T19:17:06.337Z"
   },
   {
    "duration": 17,
    "start_time": "2022-10-25T19:17:26.445Z"
   },
   {
    "duration": 7,
    "start_time": "2022-10-25T19:17:37.769Z"
   },
   {
    "duration": 641,
    "start_time": "2022-10-25T19:18:24.606Z"
   },
   {
    "duration": 4,
    "start_time": "2022-10-25T19:18:57.187Z"
   },
   {
    "duration": 13,
    "start_time": "2022-10-25T19:21:44.774Z"
   },
   {
    "duration": 13,
    "start_time": "2022-10-25T19:21:52.007Z"
   },
   {
    "duration": 13,
    "start_time": "2022-10-25T19:22:02.640Z"
   },
   {
    "duration": 50,
    "start_time": "2022-10-25T19:22:22.723Z"
   },
   {
    "duration": 43,
    "start_time": "2022-10-25T19:22:31.802Z"
   },
   {
    "duration": 30,
    "start_time": "2022-10-25T19:22:36.285Z"
   },
   {
    "duration": 14,
    "start_time": "2022-10-25T19:22:46.535Z"
   },
   {
    "duration": 4,
    "start_time": "2022-10-25T19:23:07.055Z"
   },
   {
    "duration": 12,
    "start_time": "2022-10-25T19:23:12.558Z"
   },
   {
    "duration": 5,
    "start_time": "2022-10-25T19:30:24.287Z"
   },
   {
    "duration": 15,
    "start_time": "2022-10-25T19:56:16.184Z"
   },
   {
    "duration": 6,
    "start_time": "2022-10-25T19:56:34.605Z"
   },
   {
    "duration": 12,
    "start_time": "2022-10-25T19:59:58.327Z"
   },
   {
    "duration": 22,
    "start_time": "2022-10-25T20:00:05.734Z"
   },
   {
    "duration": 439,
    "start_time": "2022-10-25T20:00:06.332Z"
   },
   {
    "duration": 7,
    "start_time": "2022-10-25T20:00:31.747Z"
   },
   {
    "duration": 5,
    "start_time": "2022-10-25T20:00:34.436Z"
   },
   {
    "duration": 12,
    "start_time": "2022-10-25T20:00:36.485Z"
   },
   {
    "duration": 63,
    "start_time": "2022-10-25T20:00:37.993Z"
   },
   {
    "duration": 4,
    "start_time": "2022-10-25T20:00:39.047Z"
   },
   {
    "duration": 4,
    "start_time": "2022-10-25T20:00:40.325Z"
   },
   {
    "duration": 14,
    "start_time": "2022-10-25T20:00:41.433Z"
   },
   {
    "duration": 12,
    "start_time": "2022-10-25T20:00:44.966Z"
   },
   {
    "duration": 42,
    "start_time": "2022-10-25T20:00:46.250Z"
   },
   {
    "duration": 4,
    "start_time": "2022-10-25T20:00:47.223Z"
   },
   {
    "duration": 4,
    "start_time": "2022-10-25T20:00:47.288Z"
   },
   {
    "duration": 10,
    "start_time": "2022-10-25T20:00:48.083Z"
   },
   {
    "duration": 14,
    "start_time": "2022-10-25T20:00:49.775Z"
   },
   {
    "duration": 60,
    "start_time": "2022-10-25T20:00:51.576Z"
   },
   {
    "duration": 5,
    "start_time": "2022-10-25T20:00:52.525Z"
   },
   {
    "duration": 5,
    "start_time": "2022-10-25T20:00:54.111Z"
   },
   {
    "duration": 12,
    "start_time": "2022-10-25T20:00:54.596Z"
   },
   {
    "duration": 5,
    "start_time": "2022-10-25T20:00:57.568Z"
   },
   {
    "duration": 17,
    "start_time": "2022-10-25T20:01:16.545Z"
   },
   {
    "duration": 6,
    "start_time": "2022-10-25T20:01:17.638Z"
   },
   {
    "duration": 7,
    "start_time": "2022-10-25T20:01:18.634Z"
   },
   {
    "duration": 15,
    "start_time": "2022-10-25T20:01:19.235Z"
   },
   {
    "duration": 7,
    "start_time": "2022-10-25T20:02:31.113Z"
   },
   {
    "duration": 111,
    "start_time": "2022-10-25T20:02:36.896Z"
   },
   {
    "duration": 1092,
    "start_time": "2022-10-25T20:02:37.845Z"
   },
   {
    "duration": 1064,
    "start_time": "2022-10-25T20:03:12.686Z"
   },
   {
    "duration": 8,
    "start_time": "2022-10-25T20:03:19.956Z"
   },
   {
    "duration": 22,
    "start_time": "2022-10-25T20:03:25.914Z"
   },
   {
    "duration": 437,
    "start_time": "2022-10-25T20:03:26.617Z"
   },
   {
    "duration": 6,
    "start_time": "2022-10-25T20:03:30.835Z"
   },
   {
    "duration": 6,
    "start_time": "2022-10-25T20:03:31.864Z"
   },
   {
    "duration": 12,
    "start_time": "2022-10-25T20:03:34.446Z"
   },
   {
    "duration": 61,
    "start_time": "2022-10-25T20:03:35.538Z"
   },
   {
    "duration": 4,
    "start_time": "2022-10-25T20:03:36.937Z"
   },
   {
    "duration": 4,
    "start_time": "2022-10-25T20:03:37.453Z"
   },
   {
    "duration": 10,
    "start_time": "2022-10-25T20:03:37.869Z"
   },
   {
    "duration": 13,
    "start_time": "2022-10-25T20:03:40.573Z"
   },
   {
    "duration": 59,
    "start_time": "2022-10-25T20:03:41.445Z"
   },
   {
    "duration": 5,
    "start_time": "2022-10-25T20:03:42.003Z"
   },
   {
    "duration": 6,
    "start_time": "2022-10-25T20:03:42.508Z"
   },
   {
    "duration": 14,
    "start_time": "2022-10-25T20:03:43.080Z"
   },
   {
    "duration": 20,
    "start_time": "2022-10-25T20:03:45.177Z"
   },
   {
    "duration": 60,
    "start_time": "2022-10-25T20:03:46.444Z"
   },
   {
    "duration": 4,
    "start_time": "2022-10-25T20:03:46.887Z"
   },
   {
    "duration": 5,
    "start_time": "2022-10-25T20:03:47.377Z"
   },
   {
    "duration": 11,
    "start_time": "2022-10-25T20:03:47.895Z"
   },
   {
    "duration": 4,
    "start_time": "2022-10-25T20:03:50.793Z"
   },
   {
    "duration": 15,
    "start_time": "2022-10-25T20:03:52.106Z"
   },
   {
    "duration": 5,
    "start_time": "2022-10-25T20:03:52.504Z"
   },
   {
    "duration": 4,
    "start_time": "2022-10-25T20:03:52.880Z"
   },
   {
    "duration": 12,
    "start_time": "2022-10-25T20:03:53.478Z"
   },
   {
    "duration": 439,
    "start_time": "2022-10-25T20:05:16.165Z"
   },
   {
    "duration": 3,
    "start_time": "2022-10-25T20:05:23.406Z"
   },
   {
    "duration": 670,
    "start_time": "2022-10-25T20:05:23.413Z"
   },
   {
    "duration": 10,
    "start_time": "2022-10-25T20:05:24.085Z"
   },
   {
    "duration": 29,
    "start_time": "2022-10-25T20:05:24.096Z"
   },
   {
    "duration": 38,
    "start_time": "2022-10-25T20:05:24.127Z"
   },
   {
    "duration": 87,
    "start_time": "2022-10-25T20:05:24.166Z"
   },
   {
    "duration": 255,
    "start_time": "2022-10-25T20:05:24.255Z"
   },
   {
    "duration": 61,
    "start_time": "2022-10-25T20:05:24.512Z"
   },
   {
    "duration": 16,
    "start_time": "2022-10-25T20:05:24.575Z"
   },
   {
    "duration": 23,
    "start_time": "2022-10-25T20:05:24.593Z"
   },
   {
    "duration": 141,
    "start_time": "2022-10-25T20:05:24.619Z"
   },
   {
    "duration": 40,
    "start_time": "2022-10-25T20:05:24.762Z"
   },
   {
    "duration": 30,
    "start_time": "2022-10-25T20:05:24.804Z"
   },
   {
    "duration": 32,
    "start_time": "2022-10-25T20:05:24.836Z"
   },
   {
    "duration": 38,
    "start_time": "2022-10-25T20:05:24.870Z"
   },
   {
    "duration": 16,
    "start_time": "2022-10-25T20:05:24.910Z"
   },
   {
    "duration": 14,
    "start_time": "2022-10-25T20:05:24.928Z"
   },
   {
    "duration": 12,
    "start_time": "2022-10-25T20:05:24.944Z"
   },
   {
    "duration": 14,
    "start_time": "2022-10-25T20:05:24.959Z"
   },
   {
    "duration": 17,
    "start_time": "2022-10-25T20:05:24.975Z"
   },
   {
    "duration": 10,
    "start_time": "2022-10-25T20:05:24.994Z"
   },
   {
    "duration": 26,
    "start_time": "2022-10-25T20:05:25.006Z"
   },
   {
    "duration": 18,
    "start_time": "2022-10-25T20:05:25.034Z"
   },
   {
    "duration": 8,
    "start_time": "2022-10-25T20:05:25.054Z"
   },
   {
    "duration": 19,
    "start_time": "2022-10-25T20:05:25.064Z"
   },
   {
    "duration": 5,
    "start_time": "2022-10-25T20:05:25.085Z"
   },
   {
    "duration": 7,
    "start_time": "2022-10-25T20:05:25.092Z"
   },
   {
    "duration": 9,
    "start_time": "2022-10-25T20:05:25.101Z"
   },
   {
    "duration": 16,
    "start_time": "2022-10-25T20:05:25.114Z"
   },
   {
    "duration": 28,
    "start_time": "2022-10-25T20:05:25.132Z"
   },
   {
    "duration": 9,
    "start_time": "2022-10-25T20:05:25.162Z"
   },
   {
    "duration": 8,
    "start_time": "2022-10-25T20:05:25.173Z"
   },
   {
    "duration": 11,
    "start_time": "2022-10-25T20:05:25.183Z"
   },
   {
    "duration": 15,
    "start_time": "2022-10-25T20:05:25.197Z"
   },
   {
    "duration": 40,
    "start_time": "2022-10-25T20:05:25.214Z"
   },
   {
    "duration": 9,
    "start_time": "2022-10-25T20:05:25.256Z"
   },
   {
    "duration": 20,
    "start_time": "2022-10-25T20:05:25.267Z"
   },
   {
    "duration": 9,
    "start_time": "2022-10-25T20:05:25.289Z"
   },
   {
    "duration": 26,
    "start_time": "2022-10-25T20:05:25.299Z"
   },
   {
    "duration": 475,
    "start_time": "2022-10-25T20:05:25.327Z"
   },
   {
    "duration": 6,
    "start_time": "2022-10-25T20:05:25.804Z"
   },
   {
    "duration": 13,
    "start_time": "2022-10-25T20:05:25.811Z"
   },
   {
    "duration": 34,
    "start_time": "2022-10-25T20:05:25.826Z"
   },
   {
    "duration": 60,
    "start_time": "2022-10-25T20:05:25.862Z"
   },
   {
    "duration": 4,
    "start_time": "2022-10-25T20:05:25.925Z"
   },
   {
    "duration": 30,
    "start_time": "2022-10-25T20:05:25.930Z"
   },
   {
    "duration": 34,
    "start_time": "2022-10-25T20:05:25.962Z"
   },
   {
    "duration": 17,
    "start_time": "2022-10-25T20:05:25.997Z"
   },
   {
    "duration": 53,
    "start_time": "2022-10-25T20:05:26.016Z"
   },
   {
    "duration": 38,
    "start_time": "2022-10-25T20:05:26.071Z"
   },
   {
    "duration": 17,
    "start_time": "2022-10-25T20:05:26.111Z"
   },
   {
    "duration": 14,
    "start_time": "2022-10-25T20:05:26.130Z"
   },
   {
    "duration": 27,
    "start_time": "2022-10-25T20:05:26.145Z"
   },
   {
    "duration": 46,
    "start_time": "2022-10-25T20:05:26.174Z"
   },
   {
    "duration": 3,
    "start_time": "2022-10-25T20:05:26.222Z"
   },
   {
    "duration": 8,
    "start_time": "2022-10-25T20:05:26.227Z"
   },
   {
    "duration": 27,
    "start_time": "2022-10-25T20:05:26.237Z"
   },
   {
    "duration": 16,
    "start_time": "2022-10-25T20:05:26.266Z"
   },
   {
    "duration": 19,
    "start_time": "2022-10-25T20:05:26.284Z"
   },
   {
    "duration": 0,
    "start_time": "2022-10-25T20:05:26.305Z"
   },
   {
    "duration": 0,
    "start_time": "2022-10-25T20:05:26.306Z"
   },
   {
    "duration": 0,
    "start_time": "2022-10-25T20:05:26.307Z"
   },
   {
    "duration": 0,
    "start_time": "2022-10-25T20:05:26.308Z"
   },
   {
    "duration": 1,
    "start_time": "2022-10-25T20:05:26.309Z"
   },
   {
    "duration": 0,
    "start_time": "2022-10-25T20:05:26.310Z"
   },
   {
    "duration": 0,
    "start_time": "2022-10-25T20:05:26.311Z"
   },
   {
    "duration": 0,
    "start_time": "2022-10-25T20:05:26.312Z"
   },
   {
    "duration": 0,
    "start_time": "2022-10-25T20:05:26.313Z"
   },
   {
    "duration": 0,
    "start_time": "2022-10-25T20:05:26.314Z"
   },
   {
    "duration": 449,
    "start_time": "2022-10-25T20:09:15.425Z"
   },
   {
    "duration": 454,
    "start_time": "2022-10-25T20:10:10.497Z"
   },
   {
    "duration": 492,
    "start_time": "2022-10-25T20:13:55.000Z"
   },
   {
    "duration": 436,
    "start_time": "2022-10-25T20:14:59.664Z"
   },
   {
    "duration": 454,
    "start_time": "2022-10-25T20:15:07.666Z"
   },
   {
    "duration": 6,
    "start_time": "2022-10-25T20:15:13.083Z"
   },
   {
    "duration": 7,
    "start_time": "2022-10-25T20:15:14.090Z"
   },
   {
    "duration": 15,
    "start_time": "2022-10-25T20:15:17.782Z"
   },
   {
    "duration": 53,
    "start_time": "2022-10-25T20:15:19.023Z"
   },
   {
    "duration": 4,
    "start_time": "2022-10-25T20:15:20.223Z"
   },
   {
    "duration": 5,
    "start_time": "2022-10-25T20:15:21.371Z"
   },
   {
    "duration": 11,
    "start_time": "2022-10-25T20:15:22.043Z"
   },
   {
    "duration": 11,
    "start_time": "2022-10-25T20:15:25.011Z"
   },
   {
    "duration": 52,
    "start_time": "2022-10-25T20:15:26.572Z"
   },
   {
    "duration": 6,
    "start_time": "2022-10-25T20:15:35.582Z"
   },
   {
    "duration": 5,
    "start_time": "2022-10-25T20:15:36.464Z"
   },
   {
    "duration": 10,
    "start_time": "2022-10-25T20:15:37.652Z"
   },
   {
    "duration": 13,
    "start_time": "2022-10-25T20:15:40.942Z"
   },
   {
    "duration": 43,
    "start_time": "2022-10-25T20:15:42.323Z"
   },
   {
    "duration": 4,
    "start_time": "2022-10-25T20:15:42.843Z"
   },
   {
    "duration": 5,
    "start_time": "2022-10-25T20:15:43.551Z"
   },
   {
    "duration": 11,
    "start_time": "2022-10-25T20:15:44.704Z"
   },
   {
    "duration": 7,
    "start_time": "2022-10-25T20:15:47.885Z"
   },
   {
    "duration": 12,
    "start_time": "2022-10-25T20:15:49.662Z"
   },
   {
    "duration": 10,
    "start_time": "2022-10-25T20:15:56.482Z"
   },
   {
    "duration": 5,
    "start_time": "2022-10-25T20:15:57.603Z"
   },
   {
    "duration": 5,
    "start_time": "2022-10-25T20:15:58.043Z"
   },
   {
    "duration": 12,
    "start_time": "2022-10-25T20:15:58.579Z"
   },
   {
    "duration": 5,
    "start_time": "2022-10-25T20:16:00.784Z"
   },
   {
    "duration": 14,
    "start_time": "2022-10-25T20:17:24.163Z"
   },
   {
    "duration": 707,
    "start_time": "2022-10-25T20:17:26.603Z"
   },
   {
    "duration": 11,
    "start_time": "2022-10-25T20:17:37.587Z"
   },
   {
    "duration": 11,
    "start_time": "2022-10-25T20:17:47.669Z"
   },
   {
    "duration": 12,
    "start_time": "2022-10-25T20:18:06.225Z"
   },
   {
    "duration": 676,
    "start_time": "2022-10-25T20:18:08.506Z"
   },
   {
    "duration": 5,
    "start_time": "2022-10-25T20:18:12.045Z"
   },
   {
    "duration": 11,
    "start_time": "2022-10-25T20:18:13.810Z"
   },
   {
    "duration": 7,
    "start_time": "2022-10-25T20:21:07.690Z"
   },
   {
    "duration": 22,
    "start_time": "2022-10-25T20:21:12.207Z"
   },
   {
    "duration": 373,
    "start_time": "2022-10-25T20:21:13.146Z"
   },
   {
    "duration": 7,
    "start_time": "2022-10-25T20:21:39.448Z"
   },
   {
    "duration": 374,
    "start_time": "2022-10-25T20:21:46.168Z"
   },
   {
    "duration": 11,
    "start_time": "2022-10-25T20:22:29.155Z"
   },
   {
    "duration": 98,
    "start_time": "2022-10-25T20:22:34.165Z"
   },
   {
    "duration": 438,
    "start_time": "2022-10-25T20:22:35.516Z"
   },
   {
    "duration": 6,
    "start_time": "2022-10-25T20:22:42.286Z"
   },
   {
    "duration": 6,
    "start_time": "2022-10-25T20:22:43.946Z"
   },
   {
    "duration": 12,
    "start_time": "2022-10-25T20:22:45.526Z"
   },
   {
    "duration": 47,
    "start_time": "2022-10-25T20:22:47.947Z"
   },
   {
    "duration": 4,
    "start_time": "2022-10-25T20:22:48.487Z"
   },
   {
    "duration": 4,
    "start_time": "2022-10-25T20:22:49.106Z"
   },
   {
    "duration": 10,
    "start_time": "2022-10-25T20:22:49.488Z"
   },
   {
    "duration": 12,
    "start_time": "2022-10-25T20:22:51.825Z"
   },
   {
    "duration": 50,
    "start_time": "2022-10-25T20:22:52.407Z"
   },
   {
    "duration": 4,
    "start_time": "2022-10-25T20:22:53.125Z"
   },
   {
    "duration": 5,
    "start_time": "2022-10-25T20:22:53.927Z"
   },
   {
    "duration": 10,
    "start_time": "2022-10-25T20:22:54.326Z"
   },
   {
    "duration": 13,
    "start_time": "2022-10-25T20:22:57.706Z"
   },
   {
    "duration": 46,
    "start_time": "2022-10-25T20:23:00.154Z"
   },
   {
    "duration": 5,
    "start_time": "2022-10-25T20:23:01.393Z"
   },
   {
    "duration": 5,
    "start_time": "2022-10-25T20:23:01.806Z"
   },
   {
    "duration": 11,
    "start_time": "2022-10-25T20:23:02.354Z"
   },
   {
    "duration": 5,
    "start_time": "2022-10-25T20:23:06.646Z"
   },
   {
    "duration": 17,
    "start_time": "2022-10-25T20:23:08.131Z"
   },
   {
    "duration": 7,
    "start_time": "2022-10-25T20:23:09.996Z"
   },
   {
    "duration": 5,
    "start_time": "2022-10-25T20:23:11.194Z"
   },
   {
    "duration": 13,
    "start_time": "2022-10-25T20:23:11.788Z"
   },
   {
    "duration": 5,
    "start_time": "2022-10-25T20:23:31.154Z"
   },
   {
    "duration": 11,
    "start_time": "2022-10-25T20:23:31.574Z"
   },
   {
    "duration": 18,
    "start_time": "2022-10-25T20:23:32.526Z"
   },
   {
    "duration": 542,
    "start_time": "2022-10-25T20:23:35.908Z"
   },
   {
    "duration": 454,
    "start_time": "2022-10-25T20:23:55.634Z"
   },
   {
    "duration": 8,
    "start_time": "2022-10-25T20:25:13.530Z"
   },
   {
    "duration": 23,
    "start_time": "2022-10-25T20:25:19.495Z"
   },
   {
    "duration": 485,
    "start_time": "2022-10-25T20:25:20.107Z"
   },
   {
    "duration": 7,
    "start_time": "2022-10-25T20:25:25.569Z"
   },
   {
    "duration": 6,
    "start_time": "2022-10-25T20:25:26.486Z"
   },
   {
    "duration": 13,
    "start_time": "2022-10-25T20:25:27.655Z"
   },
   {
    "duration": 51,
    "start_time": "2022-10-25T20:25:28.467Z"
   },
   {
    "duration": 5,
    "start_time": "2022-10-25T20:25:29.334Z"
   },
   {
    "duration": 6,
    "start_time": "2022-10-25T20:25:29.341Z"
   },
   {
    "duration": 10,
    "start_time": "2022-10-25T20:25:29.886Z"
   },
   {
    "duration": 11,
    "start_time": "2022-10-25T20:25:31.887Z"
   },
   {
    "duration": 46,
    "start_time": "2022-10-25T20:25:32.967Z"
   },
   {
    "duration": 4,
    "start_time": "2022-10-25T20:25:33.668Z"
   },
   {
    "duration": 4,
    "start_time": "2022-10-25T20:25:34.108Z"
   },
   {
    "duration": 11,
    "start_time": "2022-10-25T20:25:34.487Z"
   },
   {
    "duration": 12,
    "start_time": "2022-10-25T20:25:35.987Z"
   },
   {
    "duration": 44,
    "start_time": "2022-10-25T20:25:37.227Z"
   },
   {
    "duration": 5,
    "start_time": "2022-10-25T20:25:37.587Z"
   },
   {
    "duration": 5,
    "start_time": "2022-10-25T20:25:38.037Z"
   },
   {
    "duration": 11,
    "start_time": "2022-10-25T20:25:40.053Z"
   },
   {
    "duration": 5,
    "start_time": "2022-10-25T20:25:43.069Z"
   },
   {
    "duration": 15,
    "start_time": "2022-10-25T20:25:44.041Z"
   },
   {
    "duration": 5,
    "start_time": "2022-10-25T20:25:44.687Z"
   },
   {
    "duration": 4,
    "start_time": "2022-10-25T20:25:45.126Z"
   },
   {
    "duration": 13,
    "start_time": "2022-10-25T20:25:45.826Z"
   },
   {
    "duration": 486,
    "start_time": "2022-10-25T20:26:42.567Z"
   },
   {
    "duration": 18,
    "start_time": "2022-10-25T20:36:25.387Z"
   },
   {
    "duration": 12,
    "start_time": "2022-10-25T20:36:39.706Z"
   },
   {
    "duration": 3,
    "start_time": "2022-10-25T20:37:22.608Z"
   },
   {
    "duration": 745,
    "start_time": "2022-10-25T20:37:22.613Z"
   },
   {
    "duration": 10,
    "start_time": "2022-10-25T20:37:23.360Z"
   },
   {
    "duration": 14,
    "start_time": "2022-10-25T20:37:23.372Z"
   },
   {
    "duration": 11,
    "start_time": "2022-10-25T20:37:23.389Z"
   },
   {
    "duration": 70,
    "start_time": "2022-10-25T20:37:23.401Z"
   },
   {
    "duration": 267,
    "start_time": "2022-10-25T20:37:23.473Z"
   },
   {
    "duration": 56,
    "start_time": "2022-10-25T20:37:23.742Z"
   },
   {
    "duration": 7,
    "start_time": "2022-10-25T20:37:23.799Z"
   },
   {
    "duration": 12,
    "start_time": "2022-10-25T20:37:23.807Z"
   },
   {
    "duration": 133,
    "start_time": "2022-10-25T20:37:23.821Z"
   },
   {
    "duration": 39,
    "start_time": "2022-10-25T20:37:23.956Z"
   },
   {
    "duration": 17,
    "start_time": "2022-10-25T20:37:23.996Z"
   },
   {
    "duration": 22,
    "start_time": "2022-10-25T20:37:24.016Z"
   },
   {
    "duration": 23,
    "start_time": "2022-10-25T20:37:24.040Z"
   },
   {
    "duration": 7,
    "start_time": "2022-10-25T20:37:24.064Z"
   },
   {
    "duration": 19,
    "start_time": "2022-10-25T20:37:24.074Z"
   },
   {
    "duration": 10,
    "start_time": "2022-10-25T20:37:24.095Z"
   },
   {
    "duration": 23,
    "start_time": "2022-10-25T20:37:24.107Z"
   },
   {
    "duration": 17,
    "start_time": "2022-10-25T20:37:24.132Z"
   },
   {
    "duration": 12,
    "start_time": "2022-10-25T20:37:24.151Z"
   },
   {
    "duration": 29,
    "start_time": "2022-10-25T20:37:24.164Z"
   },
   {
    "duration": 29,
    "start_time": "2022-10-25T20:37:24.195Z"
   },
   {
    "duration": 28,
    "start_time": "2022-10-25T20:37:24.225Z"
   },
   {
    "duration": 21,
    "start_time": "2022-10-25T20:37:24.255Z"
   },
   {
    "duration": 20,
    "start_time": "2022-10-25T20:37:24.277Z"
   },
   {
    "duration": 32,
    "start_time": "2022-10-25T20:37:24.299Z"
   },
   {
    "duration": 20,
    "start_time": "2022-10-25T20:37:24.333Z"
   },
   {
    "duration": 25,
    "start_time": "2022-10-25T20:37:24.356Z"
   },
   {
    "duration": 30,
    "start_time": "2022-10-25T20:37:24.383Z"
   },
   {
    "duration": 28,
    "start_time": "2022-10-25T20:37:24.414Z"
   },
   {
    "duration": 26,
    "start_time": "2022-10-25T20:37:24.444Z"
   },
   {
    "duration": 24,
    "start_time": "2022-10-25T20:37:24.472Z"
   },
   {
    "duration": 15,
    "start_time": "2022-10-25T20:37:24.497Z"
   },
   {
    "duration": 22,
    "start_time": "2022-10-25T20:37:24.515Z"
   },
   {
    "duration": 10,
    "start_time": "2022-10-25T20:37:24.539Z"
   },
   {
    "duration": 37,
    "start_time": "2022-10-25T20:37:24.550Z"
   },
   {
    "duration": 13,
    "start_time": "2022-10-25T20:37:24.589Z"
   },
   {
    "duration": 42,
    "start_time": "2022-10-25T20:37:24.603Z"
   },
   {
    "duration": 430,
    "start_time": "2022-10-25T20:37:24.646Z"
   },
   {
    "duration": 6,
    "start_time": "2022-10-25T20:37:25.080Z"
   },
   {
    "duration": 11,
    "start_time": "2022-10-25T20:37:25.087Z"
   },
   {
    "duration": 15,
    "start_time": "2022-10-25T20:37:25.099Z"
   },
   {
    "duration": 71,
    "start_time": "2022-10-25T20:37:25.116Z"
   },
   {
    "duration": 4,
    "start_time": "2022-10-25T20:37:25.189Z"
   },
   {
    "duration": 17,
    "start_time": "2022-10-25T20:37:25.194Z"
   },
   {
    "duration": 20,
    "start_time": "2022-10-25T20:37:25.212Z"
   },
   {
    "duration": 15,
    "start_time": "2022-10-25T20:37:25.233Z"
   },
   {
    "duration": 45,
    "start_time": "2022-10-25T20:37:25.250Z"
   },
   {
    "duration": 4,
    "start_time": "2022-10-25T20:37:25.296Z"
   },
   {
    "duration": 9,
    "start_time": "2022-10-25T20:37:25.301Z"
   },
   {
    "duration": 13,
    "start_time": "2022-10-25T20:37:25.312Z"
   },
   {
    "duration": 15,
    "start_time": "2022-10-25T20:37:25.326Z"
   },
   {
    "duration": 54,
    "start_time": "2022-10-25T20:37:25.342Z"
   },
   {
    "duration": 4,
    "start_time": "2022-10-25T20:37:25.397Z"
   },
   {
    "duration": 26,
    "start_time": "2022-10-25T20:37:25.402Z"
   },
   {
    "duration": 17,
    "start_time": "2022-10-25T20:37:25.430Z"
   },
   {
    "duration": 7,
    "start_time": "2022-10-25T20:37:25.448Z"
   },
   {
    "duration": 36,
    "start_time": "2022-10-25T20:37:25.457Z"
   },
   {
    "duration": 53,
    "start_time": "2022-10-25T20:37:25.495Z"
   },
   {
    "duration": 0,
    "start_time": "2022-10-25T20:37:25.550Z"
   },
   {
    "duration": 0,
    "start_time": "2022-10-25T20:37:25.551Z"
   },
   {
    "duration": 0,
    "start_time": "2022-10-25T20:37:25.552Z"
   },
   {
    "duration": 0,
    "start_time": "2022-10-25T20:37:25.553Z"
   },
   {
    "duration": 0,
    "start_time": "2022-10-25T20:37:25.554Z"
   },
   {
    "duration": 0,
    "start_time": "2022-10-25T20:37:25.555Z"
   },
   {
    "duration": 0,
    "start_time": "2022-10-25T20:37:25.556Z"
   },
   {
    "duration": 0,
    "start_time": "2022-10-25T20:37:25.558Z"
   },
   {
    "duration": 4,
    "start_time": "2022-10-25T20:38:10.748Z"
   },
   {
    "duration": 5,
    "start_time": "2022-10-25T20:38:12.529Z"
   },
   {
    "duration": 12,
    "start_time": "2022-10-25T20:38:13.508Z"
   },
   {
    "duration": 5,
    "start_time": "2022-10-25T20:38:44.534Z"
   },
   {
    "duration": 3,
    "start_time": "2022-10-25T20:38:46.089Z"
   },
   {
    "duration": 14,
    "start_time": "2022-10-25T20:38:47.387Z"
   },
   {
    "duration": 16,
    "start_time": "2022-10-25T20:38:57.908Z"
   },
   {
    "duration": 5,
    "start_time": "2022-10-25T20:38:58.709Z"
   },
   {
    "duration": 5,
    "start_time": "2022-10-25T20:38:59.447Z"
   },
   {
    "duration": 13,
    "start_time": "2022-10-25T20:39:00.908Z"
   },
   {
    "duration": 5,
    "start_time": "2022-10-25T20:40:00.027Z"
   },
   {
    "duration": 5,
    "start_time": "2022-10-25T20:40:50.192Z"
   },
   {
    "duration": 4,
    "start_time": "2022-10-25T20:40:50.670Z"
   },
   {
    "duration": 12,
    "start_time": "2022-10-25T20:40:51.127Z"
   },
   {
    "duration": 7,
    "start_time": "2022-10-25T20:42:07.811Z"
   },
   {
    "duration": 3,
    "start_time": "2022-10-25T20:42:15.948Z"
   },
   {
    "duration": 749,
    "start_time": "2022-10-25T20:42:15.953Z"
   },
   {
    "duration": 12,
    "start_time": "2022-10-25T20:42:16.705Z"
   },
   {
    "duration": 11,
    "start_time": "2022-10-25T20:42:16.720Z"
   },
   {
    "duration": 12,
    "start_time": "2022-10-25T20:42:16.733Z"
   },
   {
    "duration": 72,
    "start_time": "2022-10-25T20:42:16.746Z"
   },
   {
    "duration": 258,
    "start_time": "2022-10-25T20:42:16.820Z"
   },
   {
    "duration": 56,
    "start_time": "2022-10-25T20:42:17.080Z"
   },
   {
    "duration": 24,
    "start_time": "2022-10-25T20:42:17.137Z"
   },
   {
    "duration": 4,
    "start_time": "2022-10-25T20:42:17.164Z"
   },
   {
    "duration": 170,
    "start_time": "2022-10-25T20:42:17.170Z"
   },
   {
    "duration": 48,
    "start_time": "2022-10-25T20:42:17.343Z"
   },
   {
    "duration": 11,
    "start_time": "2022-10-25T20:42:17.393Z"
   },
   {
    "duration": 23,
    "start_time": "2022-10-25T20:42:17.406Z"
   },
   {
    "duration": 31,
    "start_time": "2022-10-25T20:42:17.431Z"
   },
   {
    "duration": 10,
    "start_time": "2022-10-25T20:42:17.465Z"
   },
   {
    "duration": 6,
    "start_time": "2022-10-25T20:42:17.477Z"
   },
   {
    "duration": 11,
    "start_time": "2022-10-25T20:42:17.484Z"
   },
   {
    "duration": 19,
    "start_time": "2022-10-25T20:42:17.496Z"
   },
   {
    "duration": 22,
    "start_time": "2022-10-25T20:42:17.517Z"
   },
   {
    "duration": 19,
    "start_time": "2022-10-25T20:42:17.541Z"
   },
   {
    "duration": 17,
    "start_time": "2022-10-25T20:42:17.562Z"
   },
   {
    "duration": 9,
    "start_time": "2022-10-25T20:42:17.580Z"
   },
   {
    "duration": 28,
    "start_time": "2022-10-25T20:42:17.590Z"
   },
   {
    "duration": 8,
    "start_time": "2022-10-25T20:42:17.621Z"
   },
   {
    "duration": 6,
    "start_time": "2022-10-25T20:42:17.632Z"
   },
   {
    "duration": 14,
    "start_time": "2022-10-25T20:42:17.640Z"
   },
   {
    "duration": 8,
    "start_time": "2022-10-25T20:42:17.659Z"
   },
   {
    "duration": 25,
    "start_time": "2022-10-25T20:42:17.668Z"
   },
   {
    "duration": 30,
    "start_time": "2022-10-25T20:42:17.695Z"
   },
   {
    "duration": 16,
    "start_time": "2022-10-25T20:42:17.726Z"
   },
   {
    "duration": 22,
    "start_time": "2022-10-25T20:42:17.744Z"
   },
   {
    "duration": 32,
    "start_time": "2022-10-25T20:42:17.769Z"
   },
   {
    "duration": 38,
    "start_time": "2022-10-25T20:42:17.803Z"
   },
   {
    "duration": 28,
    "start_time": "2022-10-25T20:42:17.843Z"
   },
   {
    "duration": 15,
    "start_time": "2022-10-25T20:42:17.874Z"
   },
   {
    "duration": 31,
    "start_time": "2022-10-25T20:42:17.891Z"
   },
   {
    "duration": 25,
    "start_time": "2022-10-25T20:42:17.924Z"
   },
   {
    "duration": 133,
    "start_time": "2022-10-25T20:42:17.951Z"
   },
   {
    "duration": 1564,
    "start_time": "2022-10-25T20:42:18.086Z"
   },
   {
    "duration": 0,
    "start_time": "2022-10-25T20:42:19.651Z"
   },
   {
    "duration": 0,
    "start_time": "2022-10-25T20:42:19.653Z"
   },
   {
    "duration": 0,
    "start_time": "2022-10-25T20:42:19.654Z"
   },
   {
    "duration": 0,
    "start_time": "2022-10-25T20:42:19.656Z"
   },
   {
    "duration": 1,
    "start_time": "2022-10-25T20:42:19.657Z"
   },
   {
    "duration": 0,
    "start_time": "2022-10-25T20:42:19.659Z"
   },
   {
    "duration": 0,
    "start_time": "2022-10-25T20:42:19.660Z"
   },
   {
    "duration": 0,
    "start_time": "2022-10-25T20:42:19.662Z"
   },
   {
    "duration": 0,
    "start_time": "2022-10-25T20:42:19.663Z"
   },
   {
    "duration": 1,
    "start_time": "2022-10-25T20:42:19.664Z"
   },
   {
    "duration": 0,
    "start_time": "2022-10-25T20:42:19.666Z"
   },
   {
    "duration": 0,
    "start_time": "2022-10-25T20:42:19.668Z"
   },
   {
    "duration": 0,
    "start_time": "2022-10-25T20:42:19.669Z"
   },
   {
    "duration": 0,
    "start_time": "2022-10-25T20:42:19.670Z"
   },
   {
    "duration": 0,
    "start_time": "2022-10-25T20:42:19.671Z"
   },
   {
    "duration": 0,
    "start_time": "2022-10-25T20:42:19.672Z"
   },
   {
    "duration": 0,
    "start_time": "2022-10-25T20:42:19.673Z"
   },
   {
    "duration": 0,
    "start_time": "2022-10-25T20:42:19.674Z"
   },
   {
    "duration": 0,
    "start_time": "2022-10-25T20:42:19.675Z"
   },
   {
    "duration": 0,
    "start_time": "2022-10-25T20:42:19.677Z"
   },
   {
    "duration": 0,
    "start_time": "2022-10-25T20:42:19.679Z"
   },
   {
    "duration": 0,
    "start_time": "2022-10-25T20:42:19.680Z"
   },
   {
    "duration": 0,
    "start_time": "2022-10-25T20:42:19.681Z"
   },
   {
    "duration": 0,
    "start_time": "2022-10-25T20:42:19.683Z"
   },
   {
    "duration": 0,
    "start_time": "2022-10-25T20:42:19.684Z"
   },
   {
    "duration": 0,
    "start_time": "2022-10-25T20:42:19.685Z"
   },
   {
    "duration": 0,
    "start_time": "2022-10-25T20:42:19.687Z"
   },
   {
    "duration": 0,
    "start_time": "2022-10-25T20:42:19.688Z"
   },
   {
    "duration": 9,
    "start_time": "2022-10-25T20:43:11.487Z"
   },
   {
    "duration": 430,
    "start_time": "2022-10-25T20:43:16.469Z"
   },
   {
    "duration": 5,
    "start_time": "2022-10-25T20:43:20.889Z"
   },
   {
    "duration": 6,
    "start_time": "2022-10-25T20:43:21.735Z"
   },
   {
    "duration": 12,
    "start_time": "2022-10-25T20:43:23.128Z"
   },
   {
    "duration": 54,
    "start_time": "2022-10-25T20:43:24.094Z"
   },
   {
    "duration": 4,
    "start_time": "2022-10-25T20:43:24.952Z"
   },
   {
    "duration": 5,
    "start_time": "2022-10-25T20:43:25.389Z"
   },
   {
    "duration": 10,
    "start_time": "2022-10-25T20:43:26.089Z"
   },
   {
    "duration": 12,
    "start_time": "2022-10-25T20:43:28.470Z"
   },
   {
    "duration": 44,
    "start_time": "2022-10-25T20:43:29.842Z"
   },
   {
    "duration": 5,
    "start_time": "2022-10-25T20:43:30.807Z"
   },
   {
    "duration": 5,
    "start_time": "2022-10-25T20:43:31.289Z"
   },
   {
    "duration": 13,
    "start_time": "2022-10-25T20:43:31.708Z"
   },
   {
    "duration": 13,
    "start_time": "2022-10-25T20:43:33.808Z"
   },
   {
    "duration": 50,
    "start_time": "2022-10-25T20:43:35.390Z"
   },
   {
    "duration": 4,
    "start_time": "2022-10-25T20:43:36.586Z"
   },
   {
    "duration": 5,
    "start_time": "2022-10-25T20:43:37.297Z"
   },
   {
    "duration": 12,
    "start_time": "2022-10-25T20:43:37.888Z"
   },
   {
    "duration": 5,
    "start_time": "2022-10-25T20:43:40.382Z"
   },
   {
    "duration": 16,
    "start_time": "2022-10-25T20:43:42.455Z"
   },
   {
    "duration": 5,
    "start_time": "2022-10-25T20:43:42.968Z"
   },
   {
    "duration": 4,
    "start_time": "2022-10-25T20:43:43.437Z"
   },
   {
    "duration": 12,
    "start_time": "2022-10-25T20:43:44.035Z"
   },
   {
    "duration": 710,
    "start_time": "2022-10-25T20:45:04.287Z"
   },
   {
    "duration": 10,
    "start_time": "2022-10-25T20:45:59.976Z"
   },
   {
    "duration": 5,
    "start_time": "2022-10-25T20:46:08.572Z"
   },
   {
    "duration": 14,
    "start_time": "2022-10-25T20:46:09.668Z"
   },
   {
    "duration": 3,
    "start_time": "2022-10-25T20:46:16.948Z"
   },
   {
    "duration": 737,
    "start_time": "2022-10-25T20:46:16.953Z"
   },
   {
    "duration": 9,
    "start_time": "2022-10-25T20:46:17.692Z"
   },
   {
    "duration": 30,
    "start_time": "2022-10-25T20:46:17.704Z"
   },
   {
    "duration": 30,
    "start_time": "2022-10-25T20:46:17.736Z"
   },
   {
    "duration": 97,
    "start_time": "2022-10-25T20:46:17.768Z"
   },
   {
    "duration": 256,
    "start_time": "2022-10-25T20:46:17.866Z"
   },
   {
    "duration": 55,
    "start_time": "2022-10-25T20:46:18.124Z"
   },
   {
    "duration": 6,
    "start_time": "2022-10-25T20:46:18.181Z"
   },
   {
    "duration": 29,
    "start_time": "2022-10-25T20:46:18.189Z"
   },
   {
    "duration": 144,
    "start_time": "2022-10-25T20:46:18.219Z"
   },
   {
    "duration": 40,
    "start_time": "2022-10-25T20:46:18.365Z"
   },
   {
    "duration": 16,
    "start_time": "2022-10-25T20:46:18.407Z"
   },
   {
    "duration": 30,
    "start_time": "2022-10-25T20:46:18.425Z"
   },
   {
    "duration": 21,
    "start_time": "2022-10-25T20:46:18.457Z"
   },
   {
    "duration": 15,
    "start_time": "2022-10-25T20:46:18.480Z"
   },
   {
    "duration": 16,
    "start_time": "2022-10-25T20:46:18.497Z"
   },
   {
    "duration": 23,
    "start_time": "2022-10-25T20:46:18.515Z"
   },
   {
    "duration": 38,
    "start_time": "2022-10-25T20:46:18.540Z"
   },
   {
    "duration": 23,
    "start_time": "2022-10-25T20:46:18.579Z"
   },
   {
    "duration": 12,
    "start_time": "2022-10-25T20:46:18.604Z"
   },
   {
    "duration": 17,
    "start_time": "2022-10-25T20:46:18.618Z"
   },
   {
    "duration": 24,
    "start_time": "2022-10-25T20:46:18.637Z"
   },
   {
    "duration": 18,
    "start_time": "2022-10-25T20:46:18.665Z"
   },
   {
    "duration": 26,
    "start_time": "2022-10-25T20:46:18.685Z"
   },
   {
    "duration": 18,
    "start_time": "2022-10-25T20:46:18.713Z"
   },
   {
    "duration": 7,
    "start_time": "2022-10-25T20:46:18.733Z"
   },
   {
    "duration": 22,
    "start_time": "2022-10-25T20:46:18.742Z"
   },
   {
    "duration": 28,
    "start_time": "2022-10-25T20:46:18.766Z"
   },
   {
    "duration": 31,
    "start_time": "2022-10-25T20:46:18.796Z"
   },
   {
    "duration": 11,
    "start_time": "2022-10-25T20:46:18.829Z"
   },
   {
    "duration": 31,
    "start_time": "2022-10-25T20:46:18.842Z"
   },
   {
    "duration": 26,
    "start_time": "2022-10-25T20:46:18.875Z"
   },
   {
    "duration": 47,
    "start_time": "2022-10-25T20:46:18.903Z"
   },
   {
    "duration": 15,
    "start_time": "2022-10-25T20:46:18.952Z"
   },
   {
    "duration": 16,
    "start_time": "2022-10-25T20:46:18.970Z"
   },
   {
    "duration": 49,
    "start_time": "2022-10-25T20:46:18.988Z"
   },
   {
    "duration": 44,
    "start_time": "2022-10-25T20:46:19.039Z"
   },
   {
    "duration": 59,
    "start_time": "2022-10-25T20:46:19.084Z"
   },
   {
    "duration": 423,
    "start_time": "2022-10-25T20:46:19.145Z"
   },
   {
    "duration": 5,
    "start_time": "2022-10-25T20:46:19.570Z"
   },
   {
    "duration": 26,
    "start_time": "2022-10-25T20:46:19.577Z"
   },
   {
    "duration": 23,
    "start_time": "2022-10-25T20:46:19.605Z"
   },
   {
    "duration": 65,
    "start_time": "2022-10-25T20:46:19.630Z"
   },
   {
    "duration": 4,
    "start_time": "2022-10-25T20:46:19.697Z"
   },
   {
    "duration": 28,
    "start_time": "2022-10-25T20:46:19.703Z"
   },
   {
    "duration": 38,
    "start_time": "2022-10-25T20:46:19.733Z"
   },
   {
    "duration": 30,
    "start_time": "2022-10-25T20:46:19.773Z"
   },
   {
    "duration": 70,
    "start_time": "2022-10-25T20:46:19.805Z"
   },
   {
    "duration": 3,
    "start_time": "2022-10-25T20:46:19.878Z"
   },
   {
    "duration": 37,
    "start_time": "2022-10-25T20:46:19.883Z"
   },
   {
    "duration": 16,
    "start_time": "2022-10-25T20:46:19.922Z"
   },
   {
    "duration": 13,
    "start_time": "2022-10-25T20:46:19.940Z"
   },
   {
    "duration": 59,
    "start_time": "2022-10-25T20:46:19.955Z"
   },
   {
    "duration": 5,
    "start_time": "2022-10-25T20:46:20.018Z"
   },
   {
    "duration": 14,
    "start_time": "2022-10-25T20:46:20.025Z"
   },
   {
    "duration": 26,
    "start_time": "2022-10-25T20:46:20.040Z"
   },
   {
    "duration": 10,
    "start_time": "2022-10-25T20:46:20.067Z"
   },
   {
    "duration": 24,
    "start_time": "2022-10-25T20:46:20.079Z"
   },
   {
    "duration": 17,
    "start_time": "2022-10-25T20:46:20.105Z"
   },
   {
    "duration": 15,
    "start_time": "2022-10-25T20:46:20.124Z"
   },
   {
    "duration": 42,
    "start_time": "2022-10-25T20:46:20.140Z"
   },
   {
    "duration": 10,
    "start_time": "2022-10-25T20:46:20.184Z"
   },
   {
    "duration": 26,
    "start_time": "2022-10-25T20:46:20.195Z"
   },
   {
    "duration": 25,
    "start_time": "2022-10-25T20:46:20.223Z"
   },
   {
    "duration": 538,
    "start_time": "2022-10-25T20:46:20.250Z"
   },
   {
    "duration": 18,
    "start_time": "2022-10-25T20:46:20.790Z"
   },
   {
    "duration": 26,
    "start_time": "2022-10-25T20:46:20.810Z"
   },
   {
    "duration": 4,
    "start_time": "2022-10-25T20:47:48.848Z"
   },
   {
    "duration": 11,
    "start_time": "2022-10-25T20:47:49.787Z"
   },
   {
    "duration": 16,
    "start_time": "2022-10-25T20:50:29.057Z"
   },
   {
    "duration": 4,
    "start_time": "2022-10-25T20:51:04.808Z"
   },
   {
    "duration": 8,
    "start_time": "2022-10-25T20:51:50.069Z"
   },
   {
    "duration": 13,
    "start_time": "2022-10-25T20:51:54.948Z"
   },
   {
    "duration": 44,
    "start_time": "2022-10-25T20:51:56.648Z"
   },
   {
    "duration": 4,
    "start_time": "2022-10-25T20:51:57.224Z"
   },
   {
    "duration": 5,
    "start_time": "2022-10-25T20:51:57.628Z"
   },
   {
    "duration": 10,
    "start_time": "2022-10-25T20:51:58.028Z"
   },
   {
    "duration": 12,
    "start_time": "2022-10-25T20:52:00.170Z"
   },
   {
    "duration": 46,
    "start_time": "2022-10-25T20:52:01.070Z"
   },
   {
    "duration": 4,
    "start_time": "2022-10-25T20:52:01.388Z"
   },
   {
    "duration": 5,
    "start_time": "2022-10-25T20:52:01.768Z"
   },
   {
    "duration": 10,
    "start_time": "2022-10-25T20:52:02.108Z"
   },
   {
    "duration": 13,
    "start_time": "2022-10-25T20:52:04.834Z"
   },
   {
    "duration": 47,
    "start_time": "2022-10-25T20:52:05.820Z"
   },
   {
    "duration": 5,
    "start_time": "2022-10-25T20:52:06.347Z"
   },
   {
    "duration": 4,
    "start_time": "2022-10-25T20:52:07.108Z"
   },
   {
    "duration": 10,
    "start_time": "2022-10-25T20:52:07.468Z"
   },
   {
    "duration": 5,
    "start_time": "2022-10-25T20:52:10.764Z"
   },
   {
    "duration": 22,
    "start_time": "2022-10-25T20:52:12.447Z"
   },
   {
    "duration": 6,
    "start_time": "2022-10-25T20:52:12.808Z"
   },
   {
    "duration": 7,
    "start_time": "2022-10-25T20:52:13.236Z"
   },
   {
    "duration": 17,
    "start_time": "2022-10-25T20:52:13.570Z"
   },
   {
    "duration": 8,
    "start_time": "2022-10-25T20:54:50.794Z"
   },
   {
    "duration": 22,
    "start_time": "2022-10-25T20:54:54.450Z"
   },
   {
    "duration": 434,
    "start_time": "2022-10-25T20:54:55.396Z"
   },
   {
    "duration": 6,
    "start_time": "2022-10-25T20:55:04.867Z"
   },
   {
    "duration": 6,
    "start_time": "2022-10-25T20:55:07.308Z"
   },
   {
    "duration": 5,
    "start_time": "2022-10-25T20:55:13.806Z"
   },
   {
    "duration": 3,
    "start_time": "2022-10-25T20:55:19.837Z"
   },
   {
    "duration": 701,
    "start_time": "2022-10-25T20:55:19.842Z"
   },
   {
    "duration": 10,
    "start_time": "2022-10-25T20:55:20.545Z"
   },
   {
    "duration": 28,
    "start_time": "2022-10-25T20:55:20.557Z"
   },
   {
    "duration": 29,
    "start_time": "2022-10-25T20:55:20.587Z"
   },
   {
    "duration": 71,
    "start_time": "2022-10-25T20:55:20.617Z"
   },
   {
    "duration": 258,
    "start_time": "2022-10-25T20:55:20.690Z"
   },
   {
    "duration": 53,
    "start_time": "2022-10-25T20:55:20.953Z"
   },
   {
    "duration": 11,
    "start_time": "2022-10-25T20:55:21.008Z"
   },
   {
    "duration": 12,
    "start_time": "2022-10-25T20:55:21.021Z"
   },
   {
    "duration": 134,
    "start_time": "2022-10-25T20:55:21.035Z"
   },
   {
    "duration": 55,
    "start_time": "2022-10-25T20:55:21.171Z"
   },
   {
    "duration": 18,
    "start_time": "2022-10-25T20:55:21.227Z"
   },
   {
    "duration": 12,
    "start_time": "2022-10-25T20:55:21.256Z"
   },
   {
    "duration": 13,
    "start_time": "2022-10-25T20:55:21.269Z"
   },
   {
    "duration": 7,
    "start_time": "2022-10-25T20:55:21.284Z"
   },
   {
    "duration": 4,
    "start_time": "2022-10-25T20:55:21.292Z"
   },
   {
    "duration": 10,
    "start_time": "2022-10-25T20:55:21.297Z"
   },
   {
    "duration": 21,
    "start_time": "2022-10-25T20:55:21.308Z"
   },
   {
    "duration": 33,
    "start_time": "2022-10-25T20:55:21.331Z"
   },
   {
    "duration": 11,
    "start_time": "2022-10-25T20:55:21.365Z"
   },
   {
    "duration": 38,
    "start_time": "2022-10-25T20:55:21.377Z"
   },
   {
    "duration": 40,
    "start_time": "2022-10-25T20:55:21.417Z"
   },
   {
    "duration": 29,
    "start_time": "2022-10-25T20:55:21.459Z"
   },
   {
    "duration": 40,
    "start_time": "2022-10-25T20:55:21.490Z"
   },
   {
    "duration": 37,
    "start_time": "2022-10-25T20:55:21.532Z"
   },
   {
    "duration": 48,
    "start_time": "2022-10-25T20:55:21.572Z"
   },
   {
    "duration": 33,
    "start_time": "2022-10-25T20:55:21.622Z"
   },
   {
    "duration": 50,
    "start_time": "2022-10-25T20:55:21.657Z"
   },
   {
    "duration": 21,
    "start_time": "2022-10-25T20:55:21.709Z"
   },
   {
    "duration": 24,
    "start_time": "2022-10-25T20:55:21.733Z"
   },
   {
    "duration": 35,
    "start_time": "2022-10-25T20:55:21.760Z"
   },
   {
    "duration": 20,
    "start_time": "2022-10-25T20:55:21.797Z"
   },
   {
    "duration": 58,
    "start_time": "2022-10-25T20:55:21.819Z"
   },
   {
    "duration": 51,
    "start_time": "2022-10-25T20:55:21.879Z"
   },
   {
    "duration": 29,
    "start_time": "2022-10-25T20:55:21.932Z"
   },
   {
    "duration": 37,
    "start_time": "2022-10-25T20:55:21.963Z"
   },
   {
    "duration": 45,
    "start_time": "2022-10-25T20:55:22.002Z"
   },
   {
    "duration": 133,
    "start_time": "2022-10-25T20:55:22.049Z"
   },
   {
    "duration": 411,
    "start_time": "2022-10-25T20:55:22.184Z"
   },
   {
    "duration": 5,
    "start_time": "2022-10-25T20:55:22.600Z"
   },
   {
    "duration": 12,
    "start_time": "2022-10-25T20:55:22.607Z"
   },
   {
    "duration": 11,
    "start_time": "2022-10-25T20:55:22.621Z"
   },
   {
    "duration": 48,
    "start_time": "2022-10-25T20:55:22.634Z"
   },
   {
    "duration": 4,
    "start_time": "2022-10-25T20:55:22.684Z"
   },
   {
    "duration": 9,
    "start_time": "2022-10-25T20:55:22.689Z"
   },
   {
    "duration": 19,
    "start_time": "2022-10-25T20:55:22.699Z"
   },
   {
    "duration": 22,
    "start_time": "2022-10-25T20:55:22.720Z"
   },
   {
    "duration": 38,
    "start_time": "2022-10-25T20:55:22.744Z"
   },
   {
    "duration": 4,
    "start_time": "2022-10-25T20:55:22.784Z"
   },
   {
    "duration": 24,
    "start_time": "2022-10-25T20:55:22.789Z"
   },
   {
    "duration": 14,
    "start_time": "2022-10-25T20:55:22.815Z"
   },
   {
    "duration": 10,
    "start_time": "2022-10-25T20:55:22.831Z"
   },
   {
    "duration": 32,
    "start_time": "2022-10-25T20:55:22.843Z"
   },
   {
    "duration": 4,
    "start_time": "2022-10-25T20:55:22.877Z"
   },
   {
    "duration": 15,
    "start_time": "2022-10-25T20:55:22.882Z"
   },
   {
    "duration": 12,
    "start_time": "2022-10-25T20:55:22.899Z"
   },
   {
    "duration": 8,
    "start_time": "2022-10-25T20:55:22.913Z"
   },
   {
    "duration": 16,
    "start_time": "2022-10-25T20:55:22.922Z"
   },
   {
    "duration": 18,
    "start_time": "2022-10-25T20:55:22.939Z"
   },
   {
    "duration": 10,
    "start_time": "2022-10-25T20:55:22.958Z"
   },
   {
    "duration": 24,
    "start_time": "2022-10-25T20:55:22.969Z"
   },
   {
    "duration": 10,
    "start_time": "2022-10-25T20:55:22.995Z"
   },
   {
    "duration": 13,
    "start_time": "2022-10-25T20:55:23.007Z"
   },
   {
    "duration": 16,
    "start_time": "2022-10-25T20:55:23.021Z"
   },
   {
    "duration": 525,
    "start_time": "2022-10-25T20:55:23.039Z"
   },
   {
    "duration": 14,
    "start_time": "2022-10-25T20:55:23.566Z"
   },
   {
    "duration": 9,
    "start_time": "2022-10-25T20:55:23.581Z"
   },
   {
    "duration": 7,
    "start_time": "2022-10-25T20:55:55.388Z"
   },
   {
    "duration": 3,
    "start_time": "2022-10-25T20:55:58.209Z"
   },
   {
    "duration": 703,
    "start_time": "2022-10-25T20:55:58.214Z"
   },
   {
    "duration": 9,
    "start_time": "2022-10-25T20:55:58.919Z"
   },
   {
    "duration": 18,
    "start_time": "2022-10-25T20:55:58.930Z"
   },
   {
    "duration": 17,
    "start_time": "2022-10-25T20:55:58.950Z"
   },
   {
    "duration": 69,
    "start_time": "2022-10-25T20:55:58.969Z"
   },
   {
    "duration": 243,
    "start_time": "2022-10-25T20:55:59.040Z"
   },
   {
    "duration": 54,
    "start_time": "2022-10-25T20:55:59.285Z"
   },
   {
    "duration": 16,
    "start_time": "2022-10-25T20:55:59.340Z"
   },
   {
    "duration": 7,
    "start_time": "2022-10-25T20:55:59.358Z"
   },
   {
    "duration": 127,
    "start_time": "2022-10-25T20:55:59.367Z"
   },
   {
    "duration": 39,
    "start_time": "2022-10-25T20:55:59.496Z"
   },
   {
    "duration": 20,
    "start_time": "2022-10-25T20:55:59.537Z"
   },
   {
    "duration": 16,
    "start_time": "2022-10-25T20:55:59.561Z"
   },
   {
    "duration": 15,
    "start_time": "2022-10-25T20:55:59.579Z"
   },
   {
    "duration": 7,
    "start_time": "2022-10-25T20:55:59.595Z"
   },
   {
    "duration": 8,
    "start_time": "2022-10-25T20:55:59.604Z"
   },
   {
    "duration": 11,
    "start_time": "2022-10-25T20:55:59.613Z"
   },
   {
    "duration": 38,
    "start_time": "2022-10-25T20:55:59.626Z"
   },
   {
    "duration": 15,
    "start_time": "2022-10-25T20:55:59.666Z"
   },
   {
    "duration": 9,
    "start_time": "2022-10-25T20:55:59.682Z"
   },
   {
    "duration": 16,
    "start_time": "2022-10-25T20:55:59.693Z"
   },
   {
    "duration": 12,
    "start_time": "2022-10-25T20:55:59.710Z"
   },
   {
    "duration": 18,
    "start_time": "2022-10-25T20:55:59.723Z"
   },
   {
    "duration": 12,
    "start_time": "2022-10-25T20:55:59.742Z"
   },
   {
    "duration": 3,
    "start_time": "2022-10-25T20:55:59.756Z"
   },
   {
    "duration": 9,
    "start_time": "2022-10-25T20:55:59.761Z"
   },
   {
    "duration": 9,
    "start_time": "2022-10-25T20:55:59.772Z"
   },
   {
    "duration": 31,
    "start_time": "2022-10-25T20:55:59.782Z"
   },
   {
    "duration": 11,
    "start_time": "2022-10-25T20:55:59.814Z"
   },
   {
    "duration": 18,
    "start_time": "2022-10-25T20:55:59.826Z"
   },
   {
    "duration": 21,
    "start_time": "2022-10-25T20:55:59.845Z"
   },
   {
    "duration": 12,
    "start_time": "2022-10-25T20:55:59.868Z"
   },
   {
    "duration": 36,
    "start_time": "2022-10-25T20:55:59.882Z"
   },
   {
    "duration": 17,
    "start_time": "2022-10-25T20:55:59.920Z"
   },
   {
    "duration": 17,
    "start_time": "2022-10-25T20:55:59.939Z"
   },
   {
    "duration": 10,
    "start_time": "2022-10-25T20:55:59.958Z"
   },
   {
    "duration": 10,
    "start_time": "2022-10-25T20:55:59.970Z"
   },
   {
    "duration": 41,
    "start_time": "2022-10-25T20:55:59.982Z"
   },
   {
    "duration": 459,
    "start_time": "2022-10-25T20:56:00.024Z"
   },
   {
    "duration": 5,
    "start_time": "2022-10-25T20:56:00.487Z"
   },
   {
    "duration": 35,
    "start_time": "2022-10-25T20:56:00.494Z"
   },
   {
    "duration": 37,
    "start_time": "2022-10-25T20:56:00.530Z"
   },
   {
    "duration": 93,
    "start_time": "2022-10-25T20:56:00.568Z"
   },
   {
    "duration": 4,
    "start_time": "2022-10-25T20:56:00.663Z"
   },
   {
    "duration": 36,
    "start_time": "2022-10-25T20:56:00.669Z"
   },
   {
    "duration": 33,
    "start_time": "2022-10-25T20:56:00.707Z"
   },
   {
    "duration": 28,
    "start_time": "2022-10-25T20:56:00.741Z"
   },
   {
    "duration": 63,
    "start_time": "2022-10-25T20:56:00.771Z"
   },
   {
    "duration": 4,
    "start_time": "2022-10-25T20:56:00.836Z"
   },
   {
    "duration": 38,
    "start_time": "2022-10-25T20:56:00.842Z"
   },
   {
    "duration": 30,
    "start_time": "2022-10-25T20:56:00.882Z"
   },
   {
    "duration": 47,
    "start_time": "2022-10-25T20:56:00.914Z"
   },
   {
    "duration": 64,
    "start_time": "2022-10-25T20:56:00.963Z"
   },
   {
    "duration": 13,
    "start_time": "2022-10-25T20:56:01.029Z"
   },
   {
    "duration": 47,
    "start_time": "2022-10-25T20:56:01.044Z"
   },
   {
    "duration": 40,
    "start_time": "2022-10-25T20:56:01.093Z"
   },
   {
    "duration": 42,
    "start_time": "2022-10-25T20:56:01.135Z"
   },
   {
    "duration": 41,
    "start_time": "2022-10-25T20:56:01.179Z"
   },
   {
    "duration": 12,
    "start_time": "2022-10-25T20:56:01.222Z"
   },
   {
    "duration": 24,
    "start_time": "2022-10-25T20:56:01.236Z"
   },
   {
    "duration": 49,
    "start_time": "2022-10-25T20:56:01.262Z"
   },
   {
    "duration": 37,
    "start_time": "2022-10-25T20:56:01.313Z"
   },
   {
    "duration": 35,
    "start_time": "2022-10-25T20:56:01.352Z"
   },
   {
    "duration": 50,
    "start_time": "2022-10-25T20:56:01.389Z"
   },
   {
    "duration": 620,
    "start_time": "2022-10-25T20:56:01.442Z"
   },
   {
    "duration": 16,
    "start_time": "2022-10-25T20:56:02.064Z"
   },
   {
    "duration": 24,
    "start_time": "2022-10-25T20:56:02.081Z"
   },
   {
    "duration": 4,
    "start_time": "2022-10-25T20:56:13.079Z"
   },
   {
    "duration": 671,
    "start_time": "2022-10-25T20:56:13.084Z"
   },
   {
    "duration": 10,
    "start_time": "2022-10-25T20:56:13.757Z"
   },
   {
    "duration": 21,
    "start_time": "2022-10-25T20:56:13.769Z"
   },
   {
    "duration": 11,
    "start_time": "2022-10-25T20:56:13.792Z"
   },
   {
    "duration": 69,
    "start_time": "2022-10-25T20:56:13.805Z"
   },
   {
    "duration": 246,
    "start_time": "2022-10-25T20:56:13.876Z"
   },
   {
    "duration": 55,
    "start_time": "2022-10-25T20:56:14.124Z"
   },
   {
    "duration": 5,
    "start_time": "2022-10-25T20:56:14.181Z"
   },
   {
    "duration": 7,
    "start_time": "2022-10-25T20:56:14.188Z"
   },
   {
    "duration": 132,
    "start_time": "2022-10-25T20:56:14.197Z"
   },
   {
    "duration": 45,
    "start_time": "2022-10-25T20:56:14.331Z"
   },
   {
    "duration": 10,
    "start_time": "2022-10-25T20:56:14.378Z"
   },
   {
    "duration": 16,
    "start_time": "2022-10-25T20:56:14.391Z"
   },
   {
    "duration": 13,
    "start_time": "2022-10-25T20:56:14.409Z"
   },
   {
    "duration": 31,
    "start_time": "2022-10-25T20:56:14.424Z"
   },
   {
    "duration": 17,
    "start_time": "2022-10-25T20:56:14.457Z"
   },
   {
    "duration": 15,
    "start_time": "2022-10-25T20:56:14.476Z"
   },
   {
    "duration": 21,
    "start_time": "2022-10-25T20:56:14.493Z"
   },
   {
    "duration": 14,
    "start_time": "2022-10-25T20:56:14.516Z"
   },
   {
    "duration": 9,
    "start_time": "2022-10-25T20:56:14.533Z"
   },
   {
    "duration": 14,
    "start_time": "2022-10-25T20:56:14.543Z"
   },
   {
    "duration": 10,
    "start_time": "2022-10-25T20:56:14.559Z"
   },
   {
    "duration": 10,
    "start_time": "2022-10-25T20:56:14.570Z"
   },
   {
    "duration": 14,
    "start_time": "2022-10-25T20:56:14.581Z"
   },
   {
    "duration": 12,
    "start_time": "2022-10-25T20:56:14.597Z"
   },
   {
    "duration": 13,
    "start_time": "2022-10-25T20:56:14.611Z"
   },
   {
    "duration": 20,
    "start_time": "2022-10-25T20:56:14.625Z"
   },
   {
    "duration": 23,
    "start_time": "2022-10-25T20:56:14.647Z"
   },
   {
    "duration": 16,
    "start_time": "2022-10-25T20:56:14.671Z"
   },
   {
    "duration": 8,
    "start_time": "2022-10-25T20:56:14.689Z"
   },
   {
    "duration": 19,
    "start_time": "2022-10-25T20:56:14.699Z"
   },
   {
    "duration": 18,
    "start_time": "2022-10-25T20:56:14.720Z"
   },
   {
    "duration": 19,
    "start_time": "2022-10-25T20:56:14.740Z"
   },
   {
    "duration": 13,
    "start_time": "2022-10-25T20:56:14.760Z"
   },
   {
    "duration": 11,
    "start_time": "2022-10-25T20:56:14.774Z"
   },
   {
    "duration": 23,
    "start_time": "2022-10-25T20:56:14.787Z"
   },
   {
    "duration": 10,
    "start_time": "2022-10-25T20:56:14.811Z"
   },
   {
    "duration": 29,
    "start_time": "2022-10-25T20:56:14.823Z"
   },
   {
    "duration": 457,
    "start_time": "2022-10-25T20:56:14.854Z"
   },
   {
    "duration": 4,
    "start_time": "2022-10-25T20:56:15.315Z"
   },
   {
    "duration": 19,
    "start_time": "2022-10-25T20:56:15.321Z"
   },
   {
    "duration": 19,
    "start_time": "2022-10-25T20:56:15.342Z"
   },
   {
    "duration": 76,
    "start_time": "2022-10-25T20:56:15.363Z"
   },
   {
    "duration": 4,
    "start_time": "2022-10-25T20:56:15.441Z"
   },
   {
    "duration": 10,
    "start_time": "2022-10-25T20:56:15.446Z"
   },
   {
    "duration": 12,
    "start_time": "2022-10-25T20:56:15.457Z"
   },
   {
    "duration": 15,
    "start_time": "2022-10-25T20:56:15.471Z"
   },
   {
    "duration": 71,
    "start_time": "2022-10-25T20:56:15.488Z"
   },
   {
    "duration": 3,
    "start_time": "2022-10-25T20:56:15.561Z"
   },
   {
    "duration": 8,
    "start_time": "2022-10-25T20:56:15.566Z"
   },
   {
    "duration": 21,
    "start_time": "2022-10-25T20:56:15.576Z"
   },
   {
    "duration": 22,
    "start_time": "2022-10-25T20:56:15.599Z"
   },
   {
    "duration": 54,
    "start_time": "2022-10-25T20:56:15.623Z"
   },
   {
    "duration": 5,
    "start_time": "2022-10-25T20:56:15.678Z"
   },
   {
    "duration": 9,
    "start_time": "2022-10-25T20:56:15.685Z"
   },
   {
    "duration": 17,
    "start_time": "2022-10-25T20:56:15.695Z"
   },
   {
    "duration": 11,
    "start_time": "2022-10-25T20:56:15.713Z"
   },
   {
    "duration": 23,
    "start_time": "2022-10-25T20:56:15.725Z"
   },
   {
    "duration": 7,
    "start_time": "2022-10-25T20:56:15.750Z"
   },
   {
    "duration": 16,
    "start_time": "2022-10-25T20:56:15.759Z"
   },
   {
    "duration": 18,
    "start_time": "2022-10-25T20:56:15.777Z"
   },
   {
    "duration": 10,
    "start_time": "2022-10-25T20:56:15.797Z"
   },
   {
    "duration": 8,
    "start_time": "2022-10-25T20:56:15.809Z"
   },
   {
    "duration": 20,
    "start_time": "2022-10-25T20:56:15.818Z"
   },
   {
    "duration": 646,
    "start_time": "2022-10-25T20:56:15.839Z"
   },
   {
    "duration": 18,
    "start_time": "2022-10-25T20:56:16.487Z"
   },
   {
    "duration": 10,
    "start_time": "2022-10-25T20:56:16.507Z"
   },
   {
    "duration": 8,
    "start_time": "2022-10-25T20:57:13.556Z"
   },
   {
    "duration": 3,
    "start_time": "2022-10-25T20:57:18.091Z"
   },
   {
    "duration": 691,
    "start_time": "2022-10-25T20:57:18.096Z"
   },
   {
    "duration": 11,
    "start_time": "2022-10-25T20:57:18.789Z"
   },
   {
    "duration": 20,
    "start_time": "2022-10-25T20:57:18.801Z"
   },
   {
    "duration": 16,
    "start_time": "2022-10-25T20:57:18.824Z"
   },
   {
    "duration": 72,
    "start_time": "2022-10-25T20:57:18.842Z"
   },
   {
    "duration": 274,
    "start_time": "2022-10-25T20:57:18.916Z"
   },
   {
    "duration": 67,
    "start_time": "2022-10-25T20:57:19.192Z"
   },
   {
    "duration": 4,
    "start_time": "2022-10-25T20:57:19.261Z"
   },
   {
    "duration": 15,
    "start_time": "2022-10-25T20:57:19.266Z"
   },
   {
    "duration": 129,
    "start_time": "2022-10-25T20:57:19.282Z"
   },
   {
    "duration": 52,
    "start_time": "2022-10-25T20:57:19.413Z"
   },
   {
    "duration": 10,
    "start_time": "2022-10-25T20:57:19.467Z"
   },
   {
    "duration": 12,
    "start_time": "2022-10-25T20:57:19.480Z"
   },
   {
    "duration": 16,
    "start_time": "2022-10-25T20:57:19.494Z"
   },
   {
    "duration": 8,
    "start_time": "2022-10-25T20:57:19.512Z"
   },
   {
    "duration": 33,
    "start_time": "2022-10-25T20:57:19.522Z"
   },
   {
    "duration": 4,
    "start_time": "2022-10-25T20:57:19.557Z"
   },
   {
    "duration": 17,
    "start_time": "2022-10-25T20:57:19.562Z"
   },
   {
    "duration": 18,
    "start_time": "2022-10-25T20:57:19.581Z"
   },
   {
    "duration": 9,
    "start_time": "2022-10-25T20:57:19.600Z"
   },
   {
    "duration": 19,
    "start_time": "2022-10-25T20:57:19.611Z"
   },
   {
    "duration": 25,
    "start_time": "2022-10-25T20:57:19.632Z"
   },
   {
    "duration": 7,
    "start_time": "2022-10-25T20:57:19.658Z"
   },
   {
    "duration": 7,
    "start_time": "2022-10-25T20:57:19.667Z"
   },
   {
    "duration": 7,
    "start_time": "2022-10-25T20:57:19.675Z"
   },
   {
    "duration": 7,
    "start_time": "2022-10-25T20:57:19.684Z"
   },
   {
    "duration": 11,
    "start_time": "2022-10-25T20:57:19.693Z"
   },
   {
    "duration": 16,
    "start_time": "2022-10-25T20:57:19.706Z"
   },
   {
    "duration": 8,
    "start_time": "2022-10-25T20:57:19.724Z"
   },
   {
    "duration": 27,
    "start_time": "2022-10-25T20:57:19.734Z"
   },
   {
    "duration": 66,
    "start_time": "2022-10-25T20:57:19.763Z"
   },
   {
    "duration": 20,
    "start_time": "2022-10-25T20:57:19.831Z"
   },
   {
    "duration": 12,
    "start_time": "2022-10-25T20:57:19.853Z"
   },
   {
    "duration": 23,
    "start_time": "2022-10-25T20:57:19.867Z"
   },
   {
    "duration": 18,
    "start_time": "2022-10-25T20:57:19.893Z"
   },
   {
    "duration": 25,
    "start_time": "2022-10-25T20:57:19.913Z"
   },
   {
    "duration": 19,
    "start_time": "2022-10-25T20:57:19.940Z"
   },
   {
    "duration": 48,
    "start_time": "2022-10-25T20:57:19.961Z"
   },
   {
    "duration": 408,
    "start_time": "2022-10-25T20:57:20.011Z"
   },
   {
    "duration": 0,
    "start_time": "2022-10-25T20:57:20.422Z"
   },
   {
    "duration": 0,
    "start_time": "2022-10-25T20:57:20.423Z"
   },
   {
    "duration": 0,
    "start_time": "2022-10-25T20:57:20.424Z"
   },
   {
    "duration": 0,
    "start_time": "2022-10-25T20:57:20.425Z"
   },
   {
    "duration": 0,
    "start_time": "2022-10-25T20:57:20.426Z"
   },
   {
    "duration": 0,
    "start_time": "2022-10-25T20:57:20.427Z"
   },
   {
    "duration": 0,
    "start_time": "2022-10-25T20:57:20.428Z"
   },
   {
    "duration": 0,
    "start_time": "2022-10-25T20:57:20.429Z"
   },
   {
    "duration": 0,
    "start_time": "2022-10-25T20:57:20.431Z"
   },
   {
    "duration": 0,
    "start_time": "2022-10-25T20:57:20.454Z"
   },
   {
    "duration": 0,
    "start_time": "2022-10-25T20:57:20.455Z"
   },
   {
    "duration": 0,
    "start_time": "2022-10-25T20:57:20.456Z"
   },
   {
    "duration": 0,
    "start_time": "2022-10-25T20:57:20.457Z"
   },
   {
    "duration": 0,
    "start_time": "2022-10-25T20:57:20.458Z"
   },
   {
    "duration": 0,
    "start_time": "2022-10-25T20:57:20.459Z"
   },
   {
    "duration": 0,
    "start_time": "2022-10-25T20:57:20.460Z"
   },
   {
    "duration": 0,
    "start_time": "2022-10-25T20:57:20.462Z"
   },
   {
    "duration": 0,
    "start_time": "2022-10-25T20:57:20.462Z"
   },
   {
    "duration": 0,
    "start_time": "2022-10-25T20:57:20.463Z"
   },
   {
    "duration": 0,
    "start_time": "2022-10-25T20:57:20.464Z"
   },
   {
    "duration": 0,
    "start_time": "2022-10-25T20:57:20.466Z"
   },
   {
    "duration": 0,
    "start_time": "2022-10-25T20:57:20.467Z"
   },
   {
    "duration": 0,
    "start_time": "2022-10-25T20:57:20.468Z"
   },
   {
    "duration": 0,
    "start_time": "2022-10-25T20:57:20.469Z"
   },
   {
    "duration": 0,
    "start_time": "2022-10-25T20:57:20.470Z"
   },
   {
    "duration": 0,
    "start_time": "2022-10-25T20:57:20.471Z"
   },
   {
    "duration": 0,
    "start_time": "2022-10-25T20:57:20.472Z"
   },
   {
    "duration": 0,
    "start_time": "2022-10-25T20:57:20.473Z"
   },
   {
    "duration": 7,
    "start_time": "2022-10-25T20:58:19.917Z"
   },
   {
    "duration": 3,
    "start_time": "2022-10-25T20:58:21.631Z"
   },
   {
    "duration": 692,
    "start_time": "2022-10-25T20:58:21.637Z"
   },
   {
    "duration": 10,
    "start_time": "2022-10-25T20:58:22.330Z"
   },
   {
    "duration": 13,
    "start_time": "2022-10-25T20:58:22.342Z"
   },
   {
    "duration": 13,
    "start_time": "2022-10-25T20:58:22.357Z"
   },
   {
    "duration": 66,
    "start_time": "2022-10-25T20:58:22.372Z"
   },
   {
    "duration": 252,
    "start_time": "2022-10-25T20:58:22.440Z"
   },
   {
    "duration": 62,
    "start_time": "2022-10-25T20:58:22.694Z"
   },
   {
    "duration": 4,
    "start_time": "2022-10-25T20:58:22.758Z"
   },
   {
    "duration": 6,
    "start_time": "2022-10-25T20:58:22.763Z"
   },
   {
    "duration": 159,
    "start_time": "2022-10-25T20:58:22.771Z"
   },
   {
    "duration": 42,
    "start_time": "2022-10-25T20:58:22.932Z"
   },
   {
    "duration": 11,
    "start_time": "2022-10-25T20:58:22.976Z"
   },
   {
    "duration": 14,
    "start_time": "2022-10-25T20:58:22.990Z"
   },
   {
    "duration": 15,
    "start_time": "2022-10-25T20:58:23.006Z"
   },
   {
    "duration": 35,
    "start_time": "2022-10-25T20:58:23.022Z"
   },
   {
    "duration": 4,
    "start_time": "2022-10-25T20:58:23.059Z"
   },
   {
    "duration": 5,
    "start_time": "2022-10-25T20:58:23.064Z"
   },
   {
    "duration": 13,
    "start_time": "2022-10-25T20:58:23.071Z"
   },
   {
    "duration": 15,
    "start_time": "2022-10-25T20:58:23.086Z"
   },
   {
    "duration": 9,
    "start_time": "2022-10-25T20:58:23.102Z"
   },
   {
    "duration": 22,
    "start_time": "2022-10-25T20:58:23.112Z"
   },
   {
    "duration": 6,
    "start_time": "2022-10-25T20:58:23.154Z"
   },
   {
    "duration": 11,
    "start_time": "2022-10-25T20:58:23.162Z"
   },
   {
    "duration": 15,
    "start_time": "2022-10-25T20:58:23.175Z"
   },
   {
    "duration": 5,
    "start_time": "2022-10-25T20:58:23.192Z"
   },
   {
    "duration": 9,
    "start_time": "2022-10-25T20:58:23.198Z"
   },
   {
    "duration": 11,
    "start_time": "2022-10-25T20:58:23.208Z"
   },
   {
    "duration": 13,
    "start_time": "2022-10-25T20:58:23.221Z"
   },
   {
    "duration": 21,
    "start_time": "2022-10-25T20:58:23.236Z"
   },
   {
    "duration": 9,
    "start_time": "2022-10-25T20:58:23.258Z"
   },
   {
    "duration": 11,
    "start_time": "2022-10-25T20:58:23.268Z"
   },
   {
    "duration": 12,
    "start_time": "2022-10-25T20:58:23.281Z"
   },
   {
    "duration": 11,
    "start_time": "2022-10-25T20:58:23.294Z"
   },
   {
    "duration": 10,
    "start_time": "2022-10-25T20:58:23.307Z"
   },
   {
    "duration": 10,
    "start_time": "2022-10-25T20:58:23.318Z"
   },
   {
    "duration": 30,
    "start_time": "2022-10-25T20:58:23.329Z"
   },
   {
    "duration": 8,
    "start_time": "2022-10-25T20:58:23.361Z"
   },
   {
    "duration": 28,
    "start_time": "2022-10-25T20:58:23.370Z"
   },
   {
    "duration": 436,
    "start_time": "2022-10-25T20:58:23.400Z"
   },
   {
    "duration": 5,
    "start_time": "2022-10-25T20:58:23.841Z"
   },
   {
    "duration": 4,
    "start_time": "2022-10-25T20:58:23.854Z"
   },
   {
    "duration": 8,
    "start_time": "2022-10-25T20:58:23.860Z"
   },
   {
    "duration": 46,
    "start_time": "2022-10-25T20:58:23.870Z"
   },
   {
    "duration": 4,
    "start_time": "2022-10-25T20:58:23.918Z"
   },
   {
    "duration": 11,
    "start_time": "2022-10-25T20:58:23.923Z"
   },
   {
    "duration": 21,
    "start_time": "2022-10-25T20:58:23.935Z"
   },
   {
    "duration": 11,
    "start_time": "2022-10-25T20:58:23.958Z"
   },
   {
    "duration": 40,
    "start_time": "2022-10-25T20:58:23.971Z"
   },
   {
    "duration": 4,
    "start_time": "2022-10-25T20:58:24.013Z"
   },
   {
    "duration": 9,
    "start_time": "2022-10-25T20:58:24.019Z"
   },
   {
    "duration": 30,
    "start_time": "2022-10-25T20:58:24.030Z"
   },
   {
    "duration": 11,
    "start_time": "2022-10-25T20:58:24.062Z"
   },
   {
    "duration": 33,
    "start_time": "2022-10-25T20:58:24.075Z"
   },
   {
    "duration": 3,
    "start_time": "2022-10-25T20:58:24.110Z"
   },
   {
    "duration": 6,
    "start_time": "2022-10-25T20:58:24.115Z"
   },
   {
    "duration": 35,
    "start_time": "2022-10-25T20:58:24.123Z"
   },
   {
    "duration": 6,
    "start_time": "2022-10-25T20:58:24.160Z"
   },
   {
    "duration": 16,
    "start_time": "2022-10-25T20:58:24.168Z"
   },
   {
    "duration": 5,
    "start_time": "2022-10-25T20:58:24.186Z"
   },
   {
    "duration": 7,
    "start_time": "2022-10-25T20:58:24.192Z"
   },
   {
    "duration": 13,
    "start_time": "2022-10-25T20:58:24.201Z"
   },
   {
    "duration": 6,
    "start_time": "2022-10-25T20:58:24.215Z"
   },
   {
    "duration": 32,
    "start_time": "2022-10-25T20:58:24.222Z"
   },
   {
    "duration": 16,
    "start_time": "2022-10-25T20:58:24.256Z"
   },
   {
    "duration": 538,
    "start_time": "2022-10-25T20:58:24.274Z"
   },
   {
    "duration": 13,
    "start_time": "2022-10-25T20:58:24.813Z"
   },
   {
    "duration": 27,
    "start_time": "2022-10-25T20:58:24.828Z"
   },
   {
    "duration": 3,
    "start_time": "2022-10-25T21:00:20.669Z"
   },
   {
    "duration": 690,
    "start_time": "2022-10-25T21:00:20.674Z"
   },
   {
    "duration": 10,
    "start_time": "2022-10-25T21:00:21.366Z"
   },
   {
    "duration": 15,
    "start_time": "2022-10-25T21:00:21.377Z"
   },
   {
    "duration": 11,
    "start_time": "2022-10-25T21:00:21.394Z"
   },
   {
    "duration": 87,
    "start_time": "2022-10-25T21:00:21.408Z"
   },
   {
    "duration": 299,
    "start_time": "2022-10-25T21:00:21.498Z"
   },
   {
    "duration": 62,
    "start_time": "2022-10-25T21:00:21.799Z"
   },
   {
    "duration": 3,
    "start_time": "2022-10-25T21:00:21.863Z"
   },
   {
    "duration": 10,
    "start_time": "2022-10-25T21:00:21.868Z"
   },
   {
    "duration": 146,
    "start_time": "2022-10-25T21:00:21.880Z"
   },
   {
    "duration": 41,
    "start_time": "2022-10-25T21:00:22.028Z"
   },
   {
    "duration": 9,
    "start_time": "2022-10-25T21:00:22.071Z"
   },
   {
    "duration": 19,
    "start_time": "2022-10-25T21:00:22.082Z"
   },
   {
    "duration": 16,
    "start_time": "2022-10-25T21:00:22.103Z"
   },
   {
    "duration": 33,
    "start_time": "2022-10-25T21:00:22.121Z"
   },
   {
    "duration": 4,
    "start_time": "2022-10-25T21:00:22.156Z"
   },
   {
    "duration": 7,
    "start_time": "2022-10-25T21:00:22.162Z"
   },
   {
    "duration": 14,
    "start_time": "2022-10-25T21:00:22.170Z"
   },
   {
    "duration": 18,
    "start_time": "2022-10-25T21:00:22.186Z"
   },
   {
    "duration": 9,
    "start_time": "2022-10-25T21:00:22.206Z"
   },
   {
    "duration": 13,
    "start_time": "2022-10-25T21:00:22.216Z"
   },
   {
    "duration": 35,
    "start_time": "2022-10-25T21:00:22.231Z"
   },
   {
    "duration": 7,
    "start_time": "2022-10-25T21:00:22.268Z"
   },
   {
    "duration": 9,
    "start_time": "2022-10-25T21:00:22.277Z"
   },
   {
    "duration": 11,
    "start_time": "2022-10-25T21:00:22.288Z"
   },
   {
    "duration": 13,
    "start_time": "2022-10-25T21:00:22.301Z"
   },
   {
    "duration": 12,
    "start_time": "2022-10-25T21:00:22.316Z"
   },
   {
    "duration": 18,
    "start_time": "2022-10-25T21:00:22.333Z"
   },
   {
    "duration": 15,
    "start_time": "2022-10-25T21:00:22.353Z"
   },
   {
    "duration": 10,
    "start_time": "2022-10-25T21:00:22.370Z"
   },
   {
    "duration": 19,
    "start_time": "2022-10-25T21:00:22.382Z"
   },
   {
    "duration": 27,
    "start_time": "2022-10-25T21:00:22.403Z"
   },
   {
    "duration": 26,
    "start_time": "2022-10-25T21:00:22.432Z"
   },
   {
    "duration": 13,
    "start_time": "2022-10-25T21:00:22.460Z"
   },
   {
    "duration": 10,
    "start_time": "2022-10-25T21:00:22.475Z"
   },
   {
    "duration": 20,
    "start_time": "2022-10-25T21:00:22.486Z"
   },
   {
    "duration": 19,
    "start_time": "2022-10-25T21:00:22.508Z"
   },
   {
    "duration": 117,
    "start_time": "2022-10-25T21:00:22.528Z"
   },
   {
    "duration": 1649,
    "start_time": "2022-10-25T21:00:22.647Z"
   },
   {
    "duration": 0,
    "start_time": "2022-10-25T21:00:24.298Z"
   },
   {
    "duration": 0,
    "start_time": "2022-10-25T21:00:24.299Z"
   },
   {
    "duration": 0,
    "start_time": "2022-10-25T21:00:24.300Z"
   },
   {
    "duration": 0,
    "start_time": "2022-10-25T21:00:24.301Z"
   },
   {
    "duration": 0,
    "start_time": "2022-10-25T21:00:24.302Z"
   },
   {
    "duration": 0,
    "start_time": "2022-10-25T21:00:24.303Z"
   },
   {
    "duration": 0,
    "start_time": "2022-10-25T21:00:24.304Z"
   },
   {
    "duration": 0,
    "start_time": "2022-10-25T21:00:24.305Z"
   },
   {
    "duration": 0,
    "start_time": "2022-10-25T21:00:24.306Z"
   },
   {
    "duration": 0,
    "start_time": "2022-10-25T21:00:24.307Z"
   },
   {
    "duration": 0,
    "start_time": "2022-10-25T21:00:24.308Z"
   },
   {
    "duration": 0,
    "start_time": "2022-10-25T21:00:24.309Z"
   },
   {
    "duration": 0,
    "start_time": "2022-10-25T21:00:24.310Z"
   },
   {
    "duration": 0,
    "start_time": "2022-10-25T21:00:24.311Z"
   },
   {
    "duration": 0,
    "start_time": "2022-10-25T21:00:24.312Z"
   },
   {
    "duration": 0,
    "start_time": "2022-10-25T21:00:24.313Z"
   },
   {
    "duration": 0,
    "start_time": "2022-10-25T21:00:24.314Z"
   },
   {
    "duration": 0,
    "start_time": "2022-10-25T21:00:24.315Z"
   },
   {
    "duration": 0,
    "start_time": "2022-10-25T21:00:24.316Z"
   },
   {
    "duration": 0,
    "start_time": "2022-10-25T21:00:24.317Z"
   },
   {
    "duration": 0,
    "start_time": "2022-10-25T21:00:24.318Z"
   },
   {
    "duration": 0,
    "start_time": "2022-10-25T21:00:24.319Z"
   },
   {
    "duration": 0,
    "start_time": "2022-10-25T21:00:24.320Z"
   },
   {
    "duration": 0,
    "start_time": "2022-10-25T21:00:24.321Z"
   },
   {
    "duration": 0,
    "start_time": "2022-10-25T21:00:24.322Z"
   },
   {
    "duration": 0,
    "start_time": "2022-10-25T21:00:24.323Z"
   },
   {
    "duration": 0,
    "start_time": "2022-10-25T21:00:24.324Z"
   },
   {
    "duration": 0,
    "start_time": "2022-10-25T21:00:24.325Z"
   },
   {
    "duration": 8,
    "start_time": "2022-10-25T21:01:12.568Z"
   },
   {
    "duration": 5,
    "start_time": "2022-10-25T21:02:28.247Z"
   },
   {
    "duration": 5,
    "start_time": "2022-10-25T21:02:29.697Z"
   },
   {
    "duration": 5,
    "start_time": "2022-10-25T21:02:35.856Z"
   },
   {
    "duration": 5,
    "start_time": "2022-10-25T21:02:36.846Z"
   },
   {
    "duration": 4,
    "start_time": "2022-10-25T21:02:42.757Z"
   },
   {
    "duration": 5,
    "start_time": "2022-10-25T21:02:43.712Z"
   },
   {
    "duration": 742,
    "start_time": "2022-10-25T21:04:22.019Z"
   },
   {
    "duration": 19,
    "start_time": "2022-10-25T21:04:34.037Z"
   },
   {
    "duration": 16,
    "start_time": "2022-10-25T21:04:39.628Z"
   },
   {
    "duration": 4,
    "start_time": "2022-10-25T21:05:07.468Z"
   },
   {
    "duration": 5,
    "start_time": "2022-10-25T21:05:09.589Z"
   },
   {
    "duration": 1082,
    "start_time": "2022-10-25T21:05:23.088Z"
   },
   {
    "duration": 3,
    "start_time": "2022-10-25T21:05:49.843Z"
   },
   {
    "duration": 705,
    "start_time": "2022-10-25T21:05:50.193Z"
   },
   {
    "duration": 10,
    "start_time": "2022-10-25T21:05:50.900Z"
   },
   {
    "duration": 117,
    "start_time": "2022-10-25T21:05:50.911Z"
   },
   {
    "duration": 25,
    "start_time": "2022-10-25T21:05:51.030Z"
   },
   {
    "duration": 58,
    "start_time": "2022-10-25T21:05:51.060Z"
   },
   {
    "duration": 254,
    "start_time": "2022-10-25T21:05:51.120Z"
   },
   {
    "duration": 55,
    "start_time": "2022-10-25T21:05:51.376Z"
   },
   {
    "duration": 24,
    "start_time": "2022-10-25T21:05:51.433Z"
   },
   {
    "duration": 8,
    "start_time": "2022-10-25T21:05:51.459Z"
   },
   {
    "duration": 195,
    "start_time": "2022-10-25T21:05:51.469Z"
   },
   {
    "duration": 50,
    "start_time": "2022-10-25T21:05:51.667Z"
   },
   {
    "duration": 14,
    "start_time": "2022-10-25T21:05:51.720Z"
   },
   {
    "duration": 15,
    "start_time": "2022-10-25T21:05:51.755Z"
   },
   {
    "duration": 20,
    "start_time": "2022-10-25T21:05:51.774Z"
   },
   {
    "duration": 8,
    "start_time": "2022-10-25T21:05:51.796Z"
   },
   {
    "duration": 7,
    "start_time": "2022-10-25T21:05:51.805Z"
   },
   {
    "duration": 6,
    "start_time": "2022-10-25T21:05:51.814Z"
   },
   {
    "duration": 40,
    "start_time": "2022-10-25T21:05:51.822Z"
   },
   {
    "duration": 20,
    "start_time": "2022-10-25T21:05:51.864Z"
   },
   {
    "duration": 15,
    "start_time": "2022-10-25T21:05:51.885Z"
   },
   {
    "duration": 17,
    "start_time": "2022-10-25T21:05:51.902Z"
   },
   {
    "duration": 15,
    "start_time": "2022-10-25T21:05:51.921Z"
   },
   {
    "duration": 8,
    "start_time": "2022-10-25T21:05:51.937Z"
   },
   {
    "duration": 9,
    "start_time": "2022-10-25T21:05:51.947Z"
   },
   {
    "duration": 15,
    "start_time": "2022-10-25T21:05:51.958Z"
   },
   {
    "duration": 11,
    "start_time": "2022-10-25T21:05:51.975Z"
   },
   {
    "duration": 8,
    "start_time": "2022-10-25T21:05:51.988Z"
   },
   {
    "duration": 13,
    "start_time": "2022-10-25T21:05:51.998Z"
   },
   {
    "duration": 10,
    "start_time": "2022-10-25T21:05:52.013Z"
   },
   {
    "duration": 7,
    "start_time": "2022-10-25T21:05:52.025Z"
   },
   {
    "duration": 21,
    "start_time": "2022-10-25T21:05:52.034Z"
   },
   {
    "duration": 11,
    "start_time": "2022-10-25T21:05:52.057Z"
   },
   {
    "duration": 11,
    "start_time": "2022-10-25T21:05:52.070Z"
   },
   {
    "duration": 9,
    "start_time": "2022-10-25T21:05:52.083Z"
   },
   {
    "duration": 9,
    "start_time": "2022-10-25T21:05:52.094Z"
   },
   {
    "duration": 15,
    "start_time": "2022-10-25T21:05:52.104Z"
   },
   {
    "duration": 9,
    "start_time": "2022-10-25T21:05:52.121Z"
   },
   {
    "duration": 38,
    "start_time": "2022-10-25T21:05:52.132Z"
   },
   {
    "duration": 441,
    "start_time": "2022-10-25T21:05:52.171Z"
   },
   {
    "duration": 6,
    "start_time": "2022-10-25T21:05:52.613Z"
   },
   {
    "duration": 6,
    "start_time": "2022-10-25T21:05:52.623Z"
   },
   {
    "duration": 31,
    "start_time": "2022-10-25T21:05:52.631Z"
   },
   {
    "duration": 59,
    "start_time": "2022-10-25T21:05:52.665Z"
   },
   {
    "duration": 4,
    "start_time": "2022-10-25T21:05:52.726Z"
   },
   {
    "duration": 26,
    "start_time": "2022-10-25T21:05:52.731Z"
   },
   {
    "duration": 14,
    "start_time": "2022-10-25T21:05:52.759Z"
   },
   {
    "duration": 17,
    "start_time": "2022-10-25T21:05:52.774Z"
   },
   {
    "duration": 65,
    "start_time": "2022-10-25T21:05:52.792Z"
   },
   {
    "duration": 4,
    "start_time": "2022-10-25T21:05:52.859Z"
   },
   {
    "duration": 9,
    "start_time": "2022-10-25T21:05:52.864Z"
   },
   {
    "duration": 13,
    "start_time": "2022-10-25T21:05:52.874Z"
   },
   {
    "duration": 16,
    "start_time": "2022-10-25T21:05:52.889Z"
   },
   {
    "duration": 72,
    "start_time": "2022-10-25T21:05:52.907Z"
   },
   {
    "duration": 9,
    "start_time": "2022-10-25T21:05:52.982Z"
   },
   {
    "duration": 21,
    "start_time": "2022-10-25T21:05:52.993Z"
   },
   {
    "duration": 14,
    "start_time": "2022-10-25T21:05:53.015Z"
   },
   {
    "duration": 16,
    "start_time": "2022-10-25T21:05:53.031Z"
   },
   {
    "duration": 7,
    "start_time": "2022-10-25T21:05:53.049Z"
   },
   {
    "duration": 18,
    "start_time": "2022-10-25T21:05:53.058Z"
   },
   {
    "duration": 4,
    "start_time": "2022-10-25T21:05:53.078Z"
   },
   {
    "duration": 8,
    "start_time": "2022-10-25T21:05:53.084Z"
   },
   {
    "duration": 16,
    "start_time": "2022-10-25T21:05:53.094Z"
   },
   {
    "duration": 8,
    "start_time": "2022-10-25T21:05:53.111Z"
   },
   {
    "duration": 12,
    "start_time": "2022-10-25T21:05:53.121Z"
   },
   {
    "duration": 34,
    "start_time": "2022-10-25T21:05:53.135Z"
   },
   {
    "duration": 546,
    "start_time": "2022-10-25T21:05:53.171Z"
   },
   {
    "duration": 18,
    "start_time": "2022-10-25T21:05:53.719Z"
   },
   {
    "duration": 20,
    "start_time": "2022-10-25T21:05:53.739Z"
   },
   {
    "duration": 6,
    "start_time": "2022-10-25T21:08:00.047Z"
   },
   {
    "duration": 3,
    "start_time": "2022-10-25T21:11:33.559Z"
   },
   {
    "duration": 702,
    "start_time": "2022-10-25T21:11:33.565Z"
   },
   {
    "duration": 10,
    "start_time": "2022-10-25T21:11:34.269Z"
   },
   {
    "duration": 10,
    "start_time": "2022-10-25T21:11:34.280Z"
   },
   {
    "duration": 14,
    "start_time": "2022-10-25T21:11:34.293Z"
   },
   {
    "duration": 62,
    "start_time": "2022-10-25T21:11:34.309Z"
   },
   {
    "duration": 254,
    "start_time": "2022-10-25T21:11:34.373Z"
   },
   {
    "duration": 59,
    "start_time": "2022-10-25T21:11:34.629Z"
   },
   {
    "duration": 24,
    "start_time": "2022-10-25T21:11:34.689Z"
   },
   {
    "duration": 21,
    "start_time": "2022-10-25T21:11:34.715Z"
   },
   {
    "duration": 128,
    "start_time": "2022-10-25T21:11:34.738Z"
   },
   {
    "duration": 43,
    "start_time": "2022-10-25T21:11:34.868Z"
   },
   {
    "duration": 10,
    "start_time": "2022-10-25T21:11:34.913Z"
   },
   {
    "duration": 34,
    "start_time": "2022-10-25T21:11:34.926Z"
   },
   {
    "duration": 14,
    "start_time": "2022-10-25T21:11:34.961Z"
   },
   {
    "duration": 7,
    "start_time": "2022-10-25T21:11:34.977Z"
   },
   {
    "duration": 4,
    "start_time": "2022-10-25T21:11:34.986Z"
   },
   {
    "duration": 6,
    "start_time": "2022-10-25T21:11:34.992Z"
   },
   {
    "duration": 18,
    "start_time": "2022-10-25T21:11:35.000Z"
   },
   {
    "duration": 40,
    "start_time": "2022-10-25T21:11:35.019Z"
   },
   {
    "duration": 9,
    "start_time": "2022-10-25T21:11:35.060Z"
   },
   {
    "duration": 16,
    "start_time": "2022-10-25T21:11:35.071Z"
   },
   {
    "duration": 22,
    "start_time": "2022-10-25T21:11:35.089Z"
   },
   {
    "duration": 7,
    "start_time": "2022-10-25T21:11:35.113Z"
   },
   {
    "duration": 14,
    "start_time": "2022-10-25T21:11:35.122Z"
   },
   {
    "duration": 8,
    "start_time": "2022-10-25T21:11:35.137Z"
   },
   {
    "duration": 4,
    "start_time": "2022-10-25T21:11:35.154Z"
   },
   {
    "duration": 23,
    "start_time": "2022-10-25T21:11:35.159Z"
   },
   {
    "duration": 14,
    "start_time": "2022-10-25T21:11:35.184Z"
   },
   {
    "duration": 12,
    "start_time": "2022-10-25T21:11:35.200Z"
   },
   {
    "duration": 10,
    "start_time": "2022-10-25T21:11:35.214Z"
   },
   {
    "duration": 13,
    "start_time": "2022-10-25T21:11:35.226Z"
   },
   {
    "duration": 13,
    "start_time": "2022-10-25T21:11:35.241Z"
   },
   {
    "duration": 10,
    "start_time": "2022-10-25T21:11:35.256Z"
   },
   {
    "duration": 8,
    "start_time": "2022-10-25T21:11:35.268Z"
   },
   {
    "duration": 9,
    "start_time": "2022-10-25T21:11:35.277Z"
   },
   {
    "duration": 9,
    "start_time": "2022-10-25T21:11:35.287Z"
   },
   {
    "duration": 17,
    "start_time": "2022-10-25T21:11:35.297Z"
   },
   {
    "duration": 27,
    "start_time": "2022-10-25T21:11:35.316Z"
   },
   {
    "duration": 451,
    "start_time": "2022-10-25T21:11:35.354Z"
   },
   {
    "duration": 4,
    "start_time": "2022-10-25T21:11:35.810Z"
   },
   {
    "duration": 10,
    "start_time": "2022-10-25T21:11:35.816Z"
   },
   {
    "duration": 29,
    "start_time": "2022-10-25T21:11:35.827Z"
   },
   {
    "duration": 49,
    "start_time": "2022-10-25T21:11:35.858Z"
   },
   {
    "duration": 4,
    "start_time": "2022-10-25T21:11:35.910Z"
   },
   {
    "duration": 8,
    "start_time": "2022-10-25T21:11:35.916Z"
   },
   {
    "duration": 37,
    "start_time": "2022-10-25T21:11:35.926Z"
   },
   {
    "duration": 18,
    "start_time": "2022-10-25T21:11:35.964Z"
   },
   {
    "duration": 44,
    "start_time": "2022-10-25T21:11:35.984Z"
   },
   {
    "duration": 27,
    "start_time": "2022-10-25T21:11:36.029Z"
   },
   {
    "duration": 12,
    "start_time": "2022-10-25T21:11:36.058Z"
   },
   {
    "duration": 21,
    "start_time": "2022-10-25T21:11:36.072Z"
   },
   {
    "duration": 15,
    "start_time": "2022-10-25T21:11:36.095Z"
   },
   {
    "duration": 52,
    "start_time": "2022-10-25T21:11:36.112Z"
   },
   {
    "duration": 5,
    "start_time": "2022-10-25T21:11:36.166Z"
   },
   {
    "duration": 8,
    "start_time": "2022-10-25T21:11:36.173Z"
   },
   {
    "duration": 14,
    "start_time": "2022-10-25T21:11:36.183Z"
   },
   {
    "duration": 7,
    "start_time": "2022-10-25T21:11:36.199Z"
   },
   {
    "duration": 5,
    "start_time": "2022-10-25T21:11:36.207Z"
   },
   {
    "duration": 10,
    "start_time": "2022-10-25T21:11:36.214Z"
   },
   {
    "duration": 32,
    "start_time": "2022-10-25T21:11:36.226Z"
   },
   {
    "duration": 5,
    "start_time": "2022-10-25T21:11:36.260Z"
   },
   {
    "duration": 14,
    "start_time": "2022-10-25T21:11:36.267Z"
   },
   {
    "duration": 18,
    "start_time": "2022-10-25T21:11:36.283Z"
   },
   {
    "duration": 5,
    "start_time": "2022-10-25T21:11:36.303Z"
   },
   {
    "duration": 11,
    "start_time": "2022-10-25T21:11:36.310Z"
   },
   {
    "duration": 33,
    "start_time": "2022-10-25T21:11:36.322Z"
   },
   {
    "duration": 532,
    "start_time": "2022-10-25T21:11:36.357Z"
   },
   {
    "duration": 20,
    "start_time": "2022-10-25T21:11:36.891Z"
   },
   {
    "duration": 9,
    "start_time": "2022-10-25T21:11:36.913Z"
   },
   {
    "duration": 5,
    "start_time": "2022-10-25T21:11:47.015Z"
   },
   {
    "duration": 6,
    "start_time": "2022-10-25T21:11:49.354Z"
   },
   {
    "duration": 6,
    "start_time": "2022-10-25T21:11:50.359Z"
   },
   {
    "duration": 5,
    "start_time": "2022-10-25T21:11:55.870Z"
   },
   {
    "duration": 6,
    "start_time": "2022-10-25T21:11:56.360Z"
   },
   {
    "duration": 5,
    "start_time": "2022-10-25T21:11:56.959Z"
   },
   {
    "duration": 5,
    "start_time": "2022-10-25T21:12:01.272Z"
   },
   {
    "duration": 5,
    "start_time": "2022-10-25T21:12:01.761Z"
   },
   {
    "duration": 5,
    "start_time": "2022-10-25T21:12:02.392Z"
   },
   {
    "duration": 5,
    "start_time": "2022-10-25T21:12:06.776Z"
   },
   {
    "duration": 4,
    "start_time": "2022-10-25T21:12:07.168Z"
   },
   {
    "duration": 6,
    "start_time": "2022-10-25T21:12:08.982Z"
   },
   {
    "duration": 5,
    "start_time": "2022-10-25T21:12:13.281Z"
   },
   {
    "duration": 6,
    "start_time": "2022-10-25T21:12:13.855Z"
   },
   {
    "duration": 5,
    "start_time": "2022-10-25T21:12:14.487Z"
   },
   {
    "duration": 5,
    "start_time": "2022-10-25T21:12:18.007Z"
   },
   {
    "duration": 5,
    "start_time": "2022-10-25T21:12:18.415Z"
   },
   {
    "duration": 5,
    "start_time": "2022-10-25T21:12:19.520Z"
   },
   {
    "duration": 6,
    "start_time": "2022-10-25T21:17:27.488Z"
   },
   {
    "duration": 4,
    "start_time": "2022-10-25T21:17:30.555Z"
   },
   {
    "duration": 5,
    "start_time": "2022-10-25T21:17:31.895Z"
   },
   {
    "duration": 5,
    "start_time": "2022-10-25T21:19:55.582Z"
   },
   {
    "duration": 5,
    "start_time": "2022-10-25T21:20:21.421Z"
   },
   {
    "duration": 815,
    "start_time": "2022-10-25T21:20:21.429Z"
   },
   {
    "duration": 9,
    "start_time": "2022-10-25T21:20:22.246Z"
   },
   {
    "duration": 19,
    "start_time": "2022-10-25T21:20:22.257Z"
   },
   {
    "duration": 29,
    "start_time": "2022-10-25T21:20:22.279Z"
   },
   {
    "duration": 74,
    "start_time": "2022-10-25T21:20:22.311Z"
   },
   {
    "duration": 265,
    "start_time": "2022-10-25T21:20:22.387Z"
   },
   {
    "duration": 61,
    "start_time": "2022-10-25T21:20:22.655Z"
   },
   {
    "duration": 5,
    "start_time": "2022-10-25T21:20:22.718Z"
   },
   {
    "duration": 13,
    "start_time": "2022-10-25T21:20:22.724Z"
   },
   {
    "duration": 155,
    "start_time": "2022-10-25T21:20:22.739Z"
   },
   {
    "duration": 141,
    "start_time": "2022-10-25T21:20:22.896Z"
   },
   {
    "duration": 22,
    "start_time": "2022-10-25T21:20:23.040Z"
   },
   {
    "duration": 25,
    "start_time": "2022-10-25T21:20:23.064Z"
   },
   {
    "duration": 35,
    "start_time": "2022-10-25T21:20:23.091Z"
   },
   {
    "duration": 8,
    "start_time": "2022-10-25T21:20:23.128Z"
   },
   {
    "duration": 9,
    "start_time": "2022-10-25T21:20:23.138Z"
   },
   {
    "duration": 7,
    "start_time": "2022-10-25T21:20:23.148Z"
   },
   {
    "duration": 20,
    "start_time": "2022-10-25T21:20:23.157Z"
   },
   {
    "duration": 27,
    "start_time": "2022-10-25T21:20:23.179Z"
   },
   {
    "duration": 9,
    "start_time": "2022-10-25T21:20:23.208Z"
   },
   {
    "duration": 17,
    "start_time": "2022-10-25T21:20:23.218Z"
   },
   {
    "duration": 192,
    "start_time": "2022-10-25T21:20:23.236Z"
   },
   {
    "duration": 557,
    "start_time": "2022-10-25T21:20:23.430Z"
   },
   {
    "duration": 12,
    "start_time": "2022-10-25T21:20:23.989Z"
   },
   {
    "duration": 5,
    "start_time": "2022-10-25T21:20:24.003Z"
   },
   {
    "duration": 9,
    "start_time": "2022-10-25T21:20:24.009Z"
   },
   {
    "duration": 23,
    "start_time": "2022-10-25T21:20:24.019Z"
   },
   {
    "duration": 17,
    "start_time": "2022-10-25T21:20:24.046Z"
   },
   {
    "duration": 16,
    "start_time": "2022-10-25T21:20:24.064Z"
   },
   {
    "duration": 15,
    "start_time": "2022-10-25T21:20:24.082Z"
   },
   {
    "duration": 19,
    "start_time": "2022-10-25T21:20:24.099Z"
   },
   {
    "duration": 14,
    "start_time": "2022-10-25T21:20:24.120Z"
   },
   {
    "duration": 15,
    "start_time": "2022-10-25T21:20:24.136Z"
   },
   {
    "duration": 10,
    "start_time": "2022-10-25T21:20:24.153Z"
   },
   {
    "duration": 13,
    "start_time": "2022-10-25T21:20:24.165Z"
   },
   {
    "duration": 20,
    "start_time": "2022-10-25T21:20:24.179Z"
   },
   {
    "duration": 10,
    "start_time": "2022-10-25T21:20:24.201Z"
   },
   {
    "duration": 49,
    "start_time": "2022-10-25T21:20:24.212Z"
   },
   {
    "duration": 439,
    "start_time": "2022-10-25T21:20:24.262Z"
   },
   {
    "duration": 5,
    "start_time": "2022-10-25T21:20:24.703Z"
   },
   {
    "duration": 13,
    "start_time": "2022-10-25T21:20:24.709Z"
   },
   {
    "duration": 15,
    "start_time": "2022-10-25T21:20:24.724Z"
   },
   {
    "duration": 57,
    "start_time": "2022-10-25T21:20:24.755Z"
   },
   {
    "duration": 4,
    "start_time": "2022-10-25T21:20:24.814Z"
   },
   {
    "duration": 14,
    "start_time": "2022-10-25T21:20:24.820Z"
   },
   {
    "duration": 20,
    "start_time": "2022-10-25T21:20:24.836Z"
   },
   {
    "duration": 17,
    "start_time": "2022-10-25T21:20:24.858Z"
   },
   {
    "duration": 46,
    "start_time": "2022-10-25T21:20:24.877Z"
   },
   {
    "duration": 4,
    "start_time": "2022-10-25T21:20:24.925Z"
   },
   {
    "duration": 24,
    "start_time": "2022-10-25T21:20:24.931Z"
   },
   {
    "duration": 11,
    "start_time": "2022-10-25T21:20:24.957Z"
   },
   {
    "duration": 16,
    "start_time": "2022-10-25T21:20:24.970Z"
   },
   {
    "duration": 45,
    "start_time": "2022-10-25T21:20:24.988Z"
   },
   {
    "duration": 4,
    "start_time": "2022-10-25T21:20:25.053Z"
   },
   {
    "duration": 11,
    "start_time": "2022-10-25T21:20:25.059Z"
   },
   {
    "duration": 13,
    "start_time": "2022-10-25T21:20:25.072Z"
   },
   {
    "duration": 10,
    "start_time": "2022-10-25T21:20:25.087Z"
   },
   {
    "duration": 20,
    "start_time": "2022-10-25T21:20:25.099Z"
   },
   {
    "duration": 0,
    "start_time": "2022-10-25T21:20:25.121Z"
   },
   {
    "duration": 0,
    "start_time": "2022-10-25T21:20:25.122Z"
   },
   {
    "duration": 0,
    "start_time": "2022-10-25T21:20:25.123Z"
   },
   {
    "duration": 0,
    "start_time": "2022-10-25T21:20:25.124Z"
   },
   {
    "duration": 0,
    "start_time": "2022-10-25T21:20:25.125Z"
   },
   {
    "duration": 0,
    "start_time": "2022-10-25T21:20:25.127Z"
   },
   {
    "duration": 0,
    "start_time": "2022-10-25T21:20:25.128Z"
   },
   {
    "duration": 0,
    "start_time": "2022-10-25T21:20:25.129Z"
   },
   {
    "duration": 0,
    "start_time": "2022-10-25T21:20:25.130Z"
   },
   {
    "duration": 9,
    "start_time": "2022-10-25T21:24:21.851Z"
   },
   {
    "duration": 272,
    "start_time": "2022-10-25T21:24:27.698Z"
   },
   {
    "duration": 9,
    "start_time": "2022-10-25T21:24:28.895Z"
   },
   {
    "duration": 16,
    "start_time": "2022-10-25T21:24:39.696Z"
   },
   {
    "duration": 2163,
    "start_time": "2022-10-25T21:24:56.212Z"
   },
   {
    "duration": 24,
    "start_time": "2022-10-25T21:25:00.964Z"
   },
   {
    "duration": 49,
    "start_time": "2022-10-25T21:25:15.723Z"
   },
   {
    "duration": 46,
    "start_time": "2022-10-25T21:29:56.247Z"
   },
   {
    "duration": 9,
    "start_time": "2022-10-25T21:30:36.988Z"
   },
   {
    "duration": 10,
    "start_time": "2022-10-25T21:30:54.494Z"
   },
   {
    "duration": 1141,
    "start_time": "2022-10-25T21:30:59.077Z"
   },
   {
    "duration": 1090,
    "start_time": "2022-10-25T21:31:00.220Z"
   },
   {
    "duration": 21,
    "start_time": "2022-10-25T21:31:01.312Z"
   },
   {
    "duration": 49,
    "start_time": "2022-10-25T21:31:01.336Z"
   },
   {
    "duration": 35,
    "start_time": "2022-10-25T21:31:01.387Z"
   },
   {
    "duration": 125,
    "start_time": "2022-10-25T21:31:01.424Z"
   },
   {
    "duration": 313,
    "start_time": "2022-10-25T21:31:01.552Z"
   },
   {
    "duration": 56,
    "start_time": "2022-10-25T21:31:01.867Z"
   },
   {
    "duration": 29,
    "start_time": "2022-10-25T21:31:01.924Z"
   },
   {
    "duration": 11,
    "start_time": "2022-10-25T21:31:01.956Z"
   },
   {
    "duration": 162,
    "start_time": "2022-10-25T21:31:01.969Z"
   },
   {
    "duration": 40,
    "start_time": "2022-10-25T21:31:02.133Z"
   },
   {
    "duration": 22,
    "start_time": "2022-10-25T21:31:02.174Z"
   },
   {
    "duration": 15,
    "start_time": "2022-10-25T21:31:02.198Z"
   },
   {
    "duration": 15,
    "start_time": "2022-10-25T21:31:02.214Z"
   },
   {
    "duration": 27,
    "start_time": "2022-10-25T21:31:02.231Z"
   },
   {
    "duration": 4,
    "start_time": "2022-10-25T21:31:02.260Z"
   },
   {
    "duration": 6,
    "start_time": "2022-10-25T21:31:02.265Z"
   },
   {
    "duration": 32,
    "start_time": "2022-10-25T21:31:02.273Z"
   },
   {
    "duration": 18,
    "start_time": "2022-10-25T21:31:02.307Z"
   },
   {
    "duration": 15,
    "start_time": "2022-10-25T21:31:02.326Z"
   },
   {
    "duration": 40,
    "start_time": "2022-10-25T21:31:02.342Z"
   },
   {
    "duration": 14,
    "start_time": "2022-10-25T21:31:02.384Z"
   },
   {
    "duration": 6,
    "start_time": "2022-10-25T21:31:02.400Z"
   },
   {
    "duration": 16,
    "start_time": "2022-10-25T21:31:02.408Z"
   },
   {
    "duration": 10,
    "start_time": "2022-10-25T21:31:02.425Z"
   },
   {
    "duration": 18,
    "start_time": "2022-10-25T21:31:02.437Z"
   },
   {
    "duration": 12,
    "start_time": "2022-10-25T21:31:02.461Z"
   },
   {
    "duration": 23,
    "start_time": "2022-10-25T21:31:02.475Z"
   },
   {
    "duration": 22,
    "start_time": "2022-10-25T21:31:02.501Z"
   },
   {
    "duration": 42,
    "start_time": "2022-10-25T21:31:02.525Z"
   },
   {
    "duration": 28,
    "start_time": "2022-10-25T21:31:02.569Z"
   },
   {
    "duration": 37,
    "start_time": "2022-10-25T21:31:02.599Z"
   },
   {
    "duration": 50,
    "start_time": "2022-10-25T21:31:02.638Z"
   },
   {
    "duration": 39,
    "start_time": "2022-10-25T21:31:02.690Z"
   },
   {
    "duration": 44,
    "start_time": "2022-10-25T21:31:02.732Z"
   },
   {
    "duration": 58,
    "start_time": "2022-10-25T21:31:02.778Z"
   },
   {
    "duration": 43,
    "start_time": "2022-10-25T21:31:02.838Z"
   },
   {
    "duration": 30,
    "start_time": "2022-10-25T21:31:02.883Z"
   },
   {
    "duration": 459,
    "start_time": "2022-10-25T21:31:02.915Z"
   },
   {
    "duration": 5,
    "start_time": "2022-10-25T21:31:03.375Z"
   },
   {
    "duration": 11,
    "start_time": "2022-10-25T21:31:03.382Z"
   },
   {
    "duration": 16,
    "start_time": "2022-10-25T21:31:03.394Z"
   },
   {
    "duration": 72,
    "start_time": "2022-10-25T21:31:03.411Z"
   },
   {
    "duration": 4,
    "start_time": "2022-10-25T21:31:03.485Z"
   },
   {
    "duration": 10,
    "start_time": "2022-10-25T21:31:03.490Z"
   },
   {
    "duration": 14,
    "start_time": "2022-10-25T21:31:03.502Z"
   },
   {
    "duration": 16,
    "start_time": "2022-10-25T21:31:03.518Z"
   },
   {
    "duration": 53,
    "start_time": "2022-10-25T21:31:03.536Z"
   },
   {
    "duration": 4,
    "start_time": "2022-10-25T21:31:03.590Z"
   },
   {
    "duration": 6,
    "start_time": "2022-10-25T21:31:03.596Z"
   },
   {
    "duration": 18,
    "start_time": "2022-10-25T21:31:03.603Z"
   },
   {
    "duration": 13,
    "start_time": "2022-10-25T21:31:03.622Z"
   },
   {
    "duration": 56,
    "start_time": "2022-10-25T21:31:03.637Z"
   },
   {
    "duration": 4,
    "start_time": "2022-10-25T21:31:03.695Z"
   },
   {
    "duration": 8,
    "start_time": "2022-10-25T21:31:03.700Z"
   },
   {
    "duration": 18,
    "start_time": "2022-10-25T21:31:03.710Z"
   },
   {
    "duration": 471,
    "start_time": "2022-10-25T21:31:03.729Z"
   },
   {
    "duration": 0,
    "start_time": "2022-10-25T21:31:04.202Z"
   },
   {
    "duration": 0,
    "start_time": "2022-10-25T21:31:04.203Z"
   },
   {
    "duration": 0,
    "start_time": "2022-10-25T21:31:04.205Z"
   },
   {
    "duration": 0,
    "start_time": "2022-10-25T21:31:04.206Z"
   },
   {
    "duration": 0,
    "start_time": "2022-10-25T21:31:04.207Z"
   },
   {
    "duration": 0,
    "start_time": "2022-10-25T21:31:04.208Z"
   },
   {
    "duration": 0,
    "start_time": "2022-10-25T21:31:04.209Z"
   },
   {
    "duration": 0,
    "start_time": "2022-10-25T21:31:04.210Z"
   },
   {
    "duration": 0,
    "start_time": "2022-10-25T21:31:04.211Z"
   },
   {
    "duration": 0,
    "start_time": "2022-10-25T21:31:04.211Z"
   },
   {
    "duration": 0,
    "start_time": "2022-10-25T21:31:04.212Z"
   },
   {
    "duration": 419,
    "start_time": "2022-10-25T21:35:15.390Z"
   },
   {
    "duration": 413,
    "start_time": "2022-10-25T21:36:23.531Z"
   },
   {
    "duration": 3,
    "start_time": "2022-10-25T21:36:43.450Z"
   },
   {
    "duration": 699,
    "start_time": "2022-10-25T21:36:43.455Z"
   },
   {
    "duration": 11,
    "start_time": "2022-10-25T21:36:44.156Z"
   },
   {
    "duration": 47,
    "start_time": "2022-10-25T21:36:44.169Z"
   },
   {
    "duration": 21,
    "start_time": "2022-10-25T21:36:44.218Z"
   },
   {
    "duration": 66,
    "start_time": "2022-10-25T21:36:44.240Z"
   },
   {
    "duration": 264,
    "start_time": "2022-10-25T21:36:44.308Z"
   },
   {
    "duration": 57,
    "start_time": "2022-10-25T21:36:44.575Z"
   },
   {
    "duration": 21,
    "start_time": "2022-10-25T21:36:44.634Z"
   },
   {
    "duration": 10,
    "start_time": "2022-10-25T21:36:44.657Z"
   },
   {
    "duration": 133,
    "start_time": "2022-10-25T21:36:44.671Z"
   },
   {
    "duration": 38,
    "start_time": "2022-10-25T21:36:44.806Z"
   },
   {
    "duration": 9,
    "start_time": "2022-10-25T21:36:44.854Z"
   },
   {
    "duration": 15,
    "start_time": "2022-10-25T21:36:44.865Z"
   },
   {
    "duration": 13,
    "start_time": "2022-10-25T21:36:44.881Z"
   },
   {
    "duration": 7,
    "start_time": "2022-10-25T21:36:44.896Z"
   },
   {
    "duration": 12,
    "start_time": "2022-10-25T21:36:44.904Z"
   },
   {
    "duration": 19,
    "start_time": "2022-10-25T21:36:44.917Z"
   },
   {
    "duration": 22,
    "start_time": "2022-10-25T21:36:44.938Z"
   },
   {
    "duration": 17,
    "start_time": "2022-10-25T21:36:44.961Z"
   },
   {
    "duration": 15,
    "start_time": "2022-10-25T21:36:44.980Z"
   },
   {
    "duration": 47,
    "start_time": "2022-10-25T21:36:44.996Z"
   },
   {
    "duration": 32,
    "start_time": "2022-10-25T21:36:45.045Z"
   },
   {
    "duration": 14,
    "start_time": "2022-10-25T21:36:45.079Z"
   },
   {
    "duration": 16,
    "start_time": "2022-10-25T21:36:45.095Z"
   },
   {
    "duration": 6,
    "start_time": "2022-10-25T21:36:45.113Z"
   },
   {
    "duration": 9,
    "start_time": "2022-10-25T21:36:45.120Z"
   },
   {
    "duration": 15,
    "start_time": "2022-10-25T21:36:45.130Z"
   },
   {
    "duration": 22,
    "start_time": "2022-10-25T21:36:45.150Z"
   },
   {
    "duration": 17,
    "start_time": "2022-10-25T21:36:45.173Z"
   },
   {
    "duration": 16,
    "start_time": "2022-10-25T21:36:45.192Z"
   },
   {
    "duration": 16,
    "start_time": "2022-10-25T21:36:45.210Z"
   },
   {
    "duration": 23,
    "start_time": "2022-10-25T21:36:45.228Z"
   },
   {
    "duration": 21,
    "start_time": "2022-10-25T21:36:45.253Z"
   },
   {
    "duration": 19,
    "start_time": "2022-10-25T21:36:45.276Z"
   },
   {
    "duration": 14,
    "start_time": "2022-10-25T21:36:45.297Z"
   },
   {
    "duration": 13,
    "start_time": "2022-10-25T21:36:45.313Z"
   },
   {
    "duration": 11,
    "start_time": "2022-10-25T21:36:45.328Z"
   },
   {
    "duration": 42,
    "start_time": "2022-10-25T21:36:45.341Z"
   },
   {
    "duration": 461,
    "start_time": "2022-10-25T21:36:45.385Z"
   },
   {
    "duration": 8,
    "start_time": "2022-10-25T21:36:45.848Z"
   },
   {
    "duration": 8,
    "start_time": "2022-10-25T21:36:45.858Z"
   },
   {
    "duration": 13,
    "start_time": "2022-10-25T21:36:45.867Z"
   },
   {
    "duration": 49,
    "start_time": "2022-10-25T21:36:45.881Z"
   },
   {
    "duration": 22,
    "start_time": "2022-10-25T21:36:45.932Z"
   },
   {
    "duration": 4,
    "start_time": "2022-10-25T21:36:45.956Z"
   },
   {
    "duration": 14,
    "start_time": "2022-10-25T21:36:45.961Z"
   },
   {
    "duration": 17,
    "start_time": "2022-10-25T21:36:45.977Z"
   },
   {
    "duration": 59,
    "start_time": "2022-10-25T21:36:45.995Z"
   },
   {
    "duration": 4,
    "start_time": "2022-10-25T21:36:46.056Z"
   },
   {
    "duration": 19,
    "start_time": "2022-10-25T21:36:46.061Z"
   },
   {
    "duration": 13,
    "start_time": "2022-10-25T21:36:46.081Z"
   },
   {
    "duration": 14,
    "start_time": "2022-10-25T21:36:46.096Z"
   },
   {
    "duration": 51,
    "start_time": "2022-10-25T21:36:46.111Z"
   },
   {
    "duration": 4,
    "start_time": "2022-10-25T21:36:46.163Z"
   },
   {
    "duration": 11,
    "start_time": "2022-10-25T21:36:46.168Z"
   },
   {
    "duration": 12,
    "start_time": "2022-10-25T21:36:46.181Z"
   },
   {
    "duration": 730,
    "start_time": "2022-10-25T21:36:46.194Z"
   },
   {
    "duration": 1,
    "start_time": "2022-10-25T21:36:46.925Z"
   },
   {
    "duration": 0,
    "start_time": "2022-10-25T21:36:46.927Z"
   },
   {
    "duration": 0,
    "start_time": "2022-10-25T21:36:46.927Z"
   },
   {
    "duration": 0,
    "start_time": "2022-10-25T21:36:46.928Z"
   },
   {
    "duration": 0,
    "start_time": "2022-10-25T21:36:46.929Z"
   },
   {
    "duration": 0,
    "start_time": "2022-10-25T21:36:46.930Z"
   },
   {
    "duration": 0,
    "start_time": "2022-10-25T21:36:46.931Z"
   },
   {
    "duration": 0,
    "start_time": "2022-10-25T21:36:46.933Z"
   },
   {
    "duration": 0,
    "start_time": "2022-10-25T21:36:46.934Z"
   },
   {
    "duration": 0,
    "start_time": "2022-10-25T21:36:46.935Z"
   },
   {
    "duration": 7,
    "start_time": "2022-10-25T21:38:07.739Z"
   },
   {
    "duration": 3,
    "start_time": "2022-10-25T21:38:42.164Z"
   },
   {
    "duration": 695,
    "start_time": "2022-10-25T21:38:42.168Z"
   },
   {
    "duration": 9,
    "start_time": "2022-10-25T21:38:42.865Z"
   },
   {
    "duration": 11,
    "start_time": "2022-10-25T21:38:42.875Z"
   },
   {
    "duration": 13,
    "start_time": "2022-10-25T21:38:42.887Z"
   },
   {
    "duration": 65,
    "start_time": "2022-10-25T21:38:42.902Z"
   },
   {
    "duration": 257,
    "start_time": "2022-10-25T21:38:42.969Z"
   },
   {
    "duration": 58,
    "start_time": "2022-10-25T21:38:43.227Z"
   },
   {
    "duration": 6,
    "start_time": "2022-10-25T21:38:43.286Z"
   },
   {
    "duration": 8,
    "start_time": "2022-10-25T21:38:43.293Z"
   },
   {
    "duration": 138,
    "start_time": "2022-10-25T21:38:43.303Z"
   },
   {
    "duration": 46,
    "start_time": "2022-10-25T21:38:43.443Z"
   },
   {
    "duration": 9,
    "start_time": "2022-10-25T21:38:43.493Z"
   },
   {
    "duration": 20,
    "start_time": "2022-10-25T21:38:43.503Z"
   },
   {
    "duration": 14,
    "start_time": "2022-10-25T21:38:43.524Z"
   },
   {
    "duration": 9,
    "start_time": "2022-10-25T21:38:43.555Z"
   },
   {
    "duration": 6,
    "start_time": "2022-10-25T21:38:43.566Z"
   },
   {
    "duration": 5,
    "start_time": "2022-10-25T21:38:43.574Z"
   },
   {
    "duration": 13,
    "start_time": "2022-10-25T21:38:43.581Z"
   },
   {
    "duration": 24,
    "start_time": "2022-10-25T21:38:43.596Z"
   },
   {
    "duration": 10,
    "start_time": "2022-10-25T21:38:43.622Z"
   },
   {
    "duration": 28,
    "start_time": "2022-10-25T21:38:43.633Z"
   },
   {
    "duration": 6,
    "start_time": "2022-10-25T21:38:43.663Z"
   },
   {
    "duration": 7,
    "start_time": "2022-10-25T21:38:43.671Z"
   },
   {
    "duration": 10,
    "start_time": "2022-10-25T21:38:43.680Z"
   },
   {
    "duration": 6,
    "start_time": "2022-10-25T21:38:43.691Z"
   },
   {
    "duration": 6,
    "start_time": "2022-10-25T21:38:43.699Z"
   },
   {
    "duration": 8,
    "start_time": "2022-10-25T21:38:43.707Z"
   },
   {
    "duration": 17,
    "start_time": "2022-10-25T21:38:43.716Z"
   },
   {
    "duration": 29,
    "start_time": "2022-10-25T21:38:43.735Z"
   },
   {
    "duration": 8,
    "start_time": "2022-10-25T21:38:43.766Z"
   },
   {
    "duration": 8,
    "start_time": "2022-10-25T21:38:43.776Z"
   },
   {
    "duration": 14,
    "start_time": "2022-10-25T21:38:43.786Z"
   },
   {
    "duration": 10,
    "start_time": "2022-10-25T21:38:43.802Z"
   },
   {
    "duration": 8,
    "start_time": "2022-10-25T21:38:43.814Z"
   },
   {
    "duration": 9,
    "start_time": "2022-10-25T21:38:43.824Z"
   },
   {
    "duration": 6,
    "start_time": "2022-10-25T21:38:43.853Z"
   },
   {
    "duration": 11,
    "start_time": "2022-10-25T21:38:43.860Z"
   },
   {
    "duration": 26,
    "start_time": "2022-10-25T21:38:43.873Z"
   },
   {
    "duration": 432,
    "start_time": "2022-10-25T21:38:43.901Z"
   },
   {
    "duration": 4,
    "start_time": "2022-10-25T21:38:44.335Z"
   },
   {
    "duration": 20,
    "start_time": "2022-10-25T21:38:44.341Z"
   },
   {
    "duration": 12,
    "start_time": "2022-10-25T21:38:44.363Z"
   },
   {
    "duration": 51,
    "start_time": "2022-10-25T21:38:44.377Z"
   },
   {
    "duration": 4,
    "start_time": "2022-10-25T21:38:44.429Z"
   },
   {
    "duration": 21,
    "start_time": "2022-10-25T21:38:44.434Z"
   },
   {
    "duration": 12,
    "start_time": "2022-10-25T21:38:44.456Z"
   },
   {
    "duration": 15,
    "start_time": "2022-10-25T21:38:44.470Z"
   },
   {
    "duration": 40,
    "start_time": "2022-10-25T21:38:44.487Z"
   },
   {
    "duration": 26,
    "start_time": "2022-10-25T21:38:44.529Z"
   },
   {
    "duration": 6,
    "start_time": "2022-10-25T21:38:44.557Z"
   },
   {
    "duration": 24,
    "start_time": "2022-10-25T21:38:44.565Z"
   },
   {
    "duration": 30,
    "start_time": "2022-10-25T21:38:44.590Z"
   },
   {
    "duration": 55,
    "start_time": "2022-10-25T21:38:44.622Z"
   },
   {
    "duration": 4,
    "start_time": "2022-10-25T21:38:44.679Z"
   },
   {
    "duration": 17,
    "start_time": "2022-10-25T21:38:44.685Z"
   },
   {
    "duration": 16,
    "start_time": "2022-10-25T21:38:44.703Z"
   },
   {
    "duration": 11,
    "start_time": "2022-10-25T21:38:44.720Z"
   },
   {
    "duration": 17,
    "start_time": "2022-10-25T21:38:44.732Z"
   },
   {
    "duration": 7,
    "start_time": "2022-10-25T21:38:44.750Z"
   },
   {
    "duration": 8,
    "start_time": "2022-10-25T21:38:44.759Z"
   },
   {
    "duration": 13,
    "start_time": "2022-10-25T21:38:44.769Z"
   },
   {
    "duration": 7,
    "start_time": "2022-10-25T21:38:44.783Z"
   },
   {
    "duration": 7,
    "start_time": "2022-10-25T21:38:44.792Z"
   },
   {
    "duration": 16,
    "start_time": "2022-10-25T21:38:44.801Z"
   },
   {
    "duration": 639,
    "start_time": "2022-10-25T21:38:44.818Z"
   },
   {
    "duration": 19,
    "start_time": "2022-10-25T21:38:45.459Z"
   },
   {
    "duration": 12,
    "start_time": "2022-10-25T21:38:45.480Z"
   },
   {
    "duration": 8,
    "start_time": "2022-10-25T21:48:21.334Z"
   },
   {
    "duration": 24,
    "start_time": "2022-10-25T21:48:29.171Z"
   },
   {
    "duration": 547,
    "start_time": "2022-10-25T21:48:29.734Z"
   },
   {
    "duration": 41,
    "start_time": "2022-10-25T21:50:06.705Z"
   },
   {
    "duration": 6,
    "start_time": "2022-10-25T21:50:07.909Z"
   },
   {
    "duration": 15,
    "start_time": "2022-10-25T21:50:36.599Z"
   },
   {
    "duration": 14,
    "start_time": "2022-10-25T21:50:48.311Z"
   },
   {
    "duration": 7,
    "start_time": "2022-10-25T21:51:36.853Z"
   },
   {
    "duration": 66,
    "start_time": "2022-10-25T21:51:42.597Z"
   },
   {
    "duration": 749,
    "start_time": "2022-10-25T21:51:43.885Z"
   },
   {
    "duration": 256,
    "start_time": "2022-10-25T21:52:03.379Z"
   },
   {
    "duration": 5,
    "start_time": "2022-10-25T21:52:31.455Z"
   },
   {
    "duration": 846,
    "start_time": "2022-10-25T21:52:31.462Z"
   },
   {
    "duration": 10,
    "start_time": "2022-10-25T21:52:32.309Z"
   },
   {
    "duration": 17,
    "start_time": "2022-10-25T21:52:32.321Z"
   },
   {
    "duration": 15,
    "start_time": "2022-10-25T21:52:32.341Z"
   },
   {
    "duration": 61,
    "start_time": "2022-10-25T21:52:32.357Z"
   },
   {
    "duration": 265,
    "start_time": "2022-10-25T21:52:32.420Z"
   },
   {
    "duration": 81,
    "start_time": "2022-10-25T21:52:32.687Z"
   },
   {
    "duration": 5,
    "start_time": "2022-10-25T21:52:32.770Z"
   },
   {
    "duration": 15,
    "start_time": "2022-10-25T21:52:32.776Z"
   },
   {
    "duration": 141,
    "start_time": "2022-10-25T21:52:32.793Z"
   },
   {
    "duration": 43,
    "start_time": "2022-10-25T21:52:32.936Z"
   },
   {
    "duration": 9,
    "start_time": "2022-10-25T21:52:32.981Z"
   },
   {
    "duration": 14,
    "start_time": "2022-10-25T21:52:32.993Z"
   },
   {
    "duration": 46,
    "start_time": "2022-10-25T21:52:33.009Z"
   },
   {
    "duration": 8,
    "start_time": "2022-10-25T21:52:33.057Z"
   },
   {
    "duration": 14,
    "start_time": "2022-10-25T21:52:33.067Z"
   },
   {
    "duration": 7,
    "start_time": "2022-10-25T21:52:33.083Z"
   },
   {
    "duration": 16,
    "start_time": "2022-10-25T21:52:33.092Z"
   },
   {
    "duration": 19,
    "start_time": "2022-10-25T21:52:33.110Z"
   },
   {
    "duration": 28,
    "start_time": "2022-10-25T21:52:33.130Z"
   },
   {
    "duration": 22,
    "start_time": "2022-10-25T21:52:33.160Z"
   },
   {
    "duration": 17,
    "start_time": "2022-10-25T21:52:33.184Z"
   },
   {
    "duration": 9,
    "start_time": "2022-10-25T21:52:33.203Z"
   },
   {
    "duration": 17,
    "start_time": "2022-10-25T21:52:33.213Z"
   },
   {
    "duration": 7,
    "start_time": "2022-10-25T21:52:33.232Z"
   },
   {
    "duration": 8,
    "start_time": "2022-10-25T21:52:33.240Z"
   },
   {
    "duration": 30,
    "start_time": "2022-10-25T21:52:33.250Z"
   },
   {
    "duration": 19,
    "start_time": "2022-10-25T21:52:33.282Z"
   },
   {
    "duration": 16,
    "start_time": "2022-10-25T21:52:33.304Z"
   },
   {
    "duration": 7,
    "start_time": "2022-10-25T21:52:33.322Z"
   },
   {
    "duration": 11,
    "start_time": "2022-10-25T21:52:33.331Z"
   },
   {
    "duration": 18,
    "start_time": "2022-10-25T21:52:33.344Z"
   },
   {
    "duration": 15,
    "start_time": "2022-10-25T21:52:33.364Z"
   },
   {
    "duration": 8,
    "start_time": "2022-10-25T21:52:33.381Z"
   },
   {
    "duration": 13,
    "start_time": "2022-10-25T21:52:33.391Z"
   },
   {
    "duration": 8,
    "start_time": "2022-10-25T21:52:33.406Z"
   },
   {
    "duration": 10,
    "start_time": "2022-10-25T21:52:33.416Z"
   },
   {
    "duration": 53,
    "start_time": "2022-10-25T21:52:33.429Z"
   },
   {
    "duration": 383,
    "start_time": "2022-10-25T21:52:33.484Z"
   },
   {
    "duration": 0,
    "start_time": "2022-10-25T21:52:33.870Z"
   },
   {
    "duration": 0,
    "start_time": "2022-10-25T21:52:33.871Z"
   },
   {
    "duration": 0,
    "start_time": "2022-10-25T21:52:33.872Z"
   },
   {
    "duration": 0,
    "start_time": "2022-10-25T21:52:33.873Z"
   },
   {
    "duration": 0,
    "start_time": "2022-10-25T21:52:33.874Z"
   },
   {
    "duration": 0,
    "start_time": "2022-10-25T21:52:33.875Z"
   },
   {
    "duration": 0,
    "start_time": "2022-10-25T21:52:33.877Z"
   },
   {
    "duration": 0,
    "start_time": "2022-10-25T21:52:33.878Z"
   },
   {
    "duration": 0,
    "start_time": "2022-10-25T21:52:33.879Z"
   },
   {
    "duration": 0,
    "start_time": "2022-10-25T21:52:33.880Z"
   },
   {
    "duration": 0,
    "start_time": "2022-10-25T21:52:33.881Z"
   },
   {
    "duration": 0,
    "start_time": "2022-10-25T21:52:33.882Z"
   },
   {
    "duration": 0,
    "start_time": "2022-10-25T21:52:33.883Z"
   },
   {
    "duration": 0,
    "start_time": "2022-10-25T21:52:33.884Z"
   },
   {
    "duration": 0,
    "start_time": "2022-10-25T21:52:33.885Z"
   },
   {
    "duration": 0,
    "start_time": "2022-10-25T21:52:33.886Z"
   },
   {
    "duration": 0,
    "start_time": "2022-10-25T21:52:33.887Z"
   },
   {
    "duration": 0,
    "start_time": "2022-10-25T21:52:33.888Z"
   },
   {
    "duration": 0,
    "start_time": "2022-10-25T21:52:33.889Z"
   },
   {
    "duration": 0,
    "start_time": "2022-10-25T21:52:33.890Z"
   },
   {
    "duration": 0,
    "start_time": "2022-10-25T21:52:33.891Z"
   },
   {
    "duration": 0,
    "start_time": "2022-10-25T21:52:33.892Z"
   },
   {
    "duration": 1,
    "start_time": "2022-10-25T21:52:33.893Z"
   },
   {
    "duration": 0,
    "start_time": "2022-10-25T21:52:33.895Z"
   },
   {
    "duration": 0,
    "start_time": "2022-10-25T21:52:33.896Z"
   },
   {
    "duration": 0,
    "start_time": "2022-10-25T21:52:33.898Z"
   },
   {
    "duration": 0,
    "start_time": "2022-10-25T21:52:33.899Z"
   },
   {
    "duration": 0,
    "start_time": "2022-10-25T21:52:33.955Z"
   },
   {
    "duration": 0,
    "start_time": "2022-10-25T21:52:33.957Z"
   },
   {
    "duration": 3,
    "start_time": "2022-10-25T21:54:12.534Z"
   },
   {
    "duration": 711,
    "start_time": "2022-10-25T21:54:12.540Z"
   },
   {
    "duration": 11,
    "start_time": "2022-10-25T21:54:13.253Z"
   },
   {
    "duration": 12,
    "start_time": "2022-10-25T21:54:13.266Z"
   },
   {
    "duration": 24,
    "start_time": "2022-10-25T21:54:13.280Z"
   },
   {
    "duration": 69,
    "start_time": "2022-10-25T21:54:13.305Z"
   },
   {
    "duration": 272,
    "start_time": "2022-10-25T21:54:13.376Z"
   },
   {
    "duration": 65,
    "start_time": "2022-10-25T21:54:13.650Z"
   },
   {
    "duration": 5,
    "start_time": "2022-10-25T21:54:13.717Z"
   },
   {
    "duration": 7,
    "start_time": "2022-10-25T21:54:13.724Z"
   },
   {
    "duration": 161,
    "start_time": "2022-10-25T21:54:13.732Z"
   },
   {
    "duration": 42,
    "start_time": "2022-10-25T21:54:13.895Z"
   },
   {
    "duration": 23,
    "start_time": "2022-10-25T21:54:13.939Z"
   },
   {
    "duration": 17,
    "start_time": "2022-10-25T21:54:13.966Z"
   },
   {
    "duration": 14,
    "start_time": "2022-10-25T21:54:13.985Z"
   },
   {
    "duration": 8,
    "start_time": "2022-10-25T21:54:14.002Z"
   },
   {
    "duration": 5,
    "start_time": "2022-10-25T21:54:14.012Z"
   },
   {
    "duration": 36,
    "start_time": "2022-10-25T21:54:14.019Z"
   },
   {
    "duration": 21,
    "start_time": "2022-10-25T21:54:14.057Z"
   },
   {
    "duration": 18,
    "start_time": "2022-10-25T21:54:14.081Z"
   },
   {
    "duration": 12,
    "start_time": "2022-10-25T21:54:14.101Z"
   },
   {
    "duration": 17,
    "start_time": "2022-10-25T21:54:14.115Z"
   },
   {
    "duration": 7,
    "start_time": "2022-10-25T21:54:14.155Z"
   },
   {
    "duration": 20,
    "start_time": "2022-10-25T21:54:14.164Z"
   },
   {
    "duration": 8,
    "start_time": "2022-10-25T21:54:14.186Z"
   },
   {
    "duration": 4,
    "start_time": "2022-10-25T21:54:14.196Z"
   },
   {
    "duration": 7,
    "start_time": "2022-10-25T21:54:14.202Z"
   },
   {
    "duration": 8,
    "start_time": "2022-10-25T21:54:14.210Z"
   },
   {
    "duration": 16,
    "start_time": "2022-10-25T21:54:14.220Z"
   },
   {
    "duration": 24,
    "start_time": "2022-10-25T21:54:14.238Z"
   },
   {
    "duration": 10,
    "start_time": "2022-10-25T21:54:14.264Z"
   },
   {
    "duration": 13,
    "start_time": "2022-10-25T21:54:14.276Z"
   },
   {
    "duration": 10,
    "start_time": "2022-10-25T21:54:14.291Z"
   },
   {
    "duration": 11,
    "start_time": "2022-10-25T21:54:14.303Z"
   },
   {
    "duration": 12,
    "start_time": "2022-10-25T21:54:14.316Z"
   },
   {
    "duration": 25,
    "start_time": "2022-10-25T21:54:14.330Z"
   },
   {
    "duration": 11,
    "start_time": "2022-10-25T21:54:14.357Z"
   },
   {
    "duration": 12,
    "start_time": "2022-10-25T21:54:14.370Z"
   },
   {
    "duration": 38,
    "start_time": "2022-10-25T21:54:14.384Z"
   },
   {
    "duration": 633,
    "start_time": "2022-10-25T21:54:14.424Z"
   },
   {
    "duration": 8,
    "start_time": "2022-10-25T21:54:15.062Z"
   },
   {
    "duration": 22,
    "start_time": "2022-10-25T21:54:15.071Z"
   },
   {
    "duration": 29,
    "start_time": "2022-10-25T21:54:15.095Z"
   },
   {
    "duration": 78,
    "start_time": "2022-10-25T21:54:15.127Z"
   },
   {
    "duration": 6,
    "start_time": "2022-10-25T21:54:15.208Z"
   },
   {
    "duration": 17,
    "start_time": "2022-10-25T21:54:15.217Z"
   },
   {
    "duration": 26,
    "start_time": "2022-10-25T21:54:15.236Z"
   },
   {
    "duration": 16,
    "start_time": "2022-10-25T21:54:15.264Z"
   },
   {
    "duration": 64,
    "start_time": "2022-10-25T21:54:15.282Z"
   },
   {
    "duration": 7,
    "start_time": "2022-10-25T21:54:15.349Z"
   },
   {
    "duration": 16,
    "start_time": "2022-10-25T21:54:15.358Z"
   },
   {
    "duration": 17,
    "start_time": "2022-10-25T21:54:15.376Z"
   },
   {
    "duration": 23,
    "start_time": "2022-10-25T21:54:15.395Z"
   },
   {
    "duration": 52,
    "start_time": "2022-10-25T21:54:15.419Z"
   },
   {
    "duration": 5,
    "start_time": "2022-10-25T21:54:15.472Z"
   },
   {
    "duration": 11,
    "start_time": "2022-10-25T21:54:15.478Z"
   },
   {
    "duration": 18,
    "start_time": "2022-10-25T21:54:15.491Z"
   },
   {
    "duration": 45,
    "start_time": "2022-10-25T21:54:15.511Z"
   },
   {
    "duration": 0,
    "start_time": "2022-10-25T21:54:15.559Z"
   },
   {
    "duration": 0,
    "start_time": "2022-10-25T21:54:15.560Z"
   },
   {
    "duration": 0,
    "start_time": "2022-10-25T21:54:15.561Z"
   },
   {
    "duration": 0,
    "start_time": "2022-10-25T21:54:15.563Z"
   },
   {
    "duration": 0,
    "start_time": "2022-10-25T21:54:15.564Z"
   },
   {
    "duration": 0,
    "start_time": "2022-10-25T21:54:15.565Z"
   },
   {
    "duration": 0,
    "start_time": "2022-10-25T21:54:15.567Z"
   },
   {
    "duration": 0,
    "start_time": "2022-10-25T21:54:15.568Z"
   },
   {
    "duration": 0,
    "start_time": "2022-10-25T21:54:15.570Z"
   },
   {
    "duration": 0,
    "start_time": "2022-10-25T21:54:15.571Z"
   },
   {
    "duration": 0,
    "start_time": "2022-10-25T21:54:15.573Z"
   },
   {
    "duration": 51,
    "start_time": "2022-10-25T21:54:38.297Z"
   },
   {
    "duration": 21,
    "start_time": "2022-10-25T21:57:37.453Z"
   },
   {
    "duration": 9,
    "start_time": "2022-10-25T21:58:01.530Z"
   },
   {
    "duration": 3,
    "start_time": "2022-10-25T21:58:46.961Z"
   },
   {
    "duration": 736,
    "start_time": "2022-10-25T21:58:46.967Z"
   },
   {
    "duration": 11,
    "start_time": "2022-10-25T21:58:47.705Z"
   },
   {
    "duration": 17,
    "start_time": "2022-10-25T21:58:47.718Z"
   },
   {
    "duration": 14,
    "start_time": "2022-10-25T21:58:47.737Z"
   },
   {
    "duration": 80,
    "start_time": "2022-10-25T21:58:47.753Z"
   },
   {
    "duration": 258,
    "start_time": "2022-10-25T21:58:47.835Z"
   },
   {
    "duration": 62,
    "start_time": "2022-10-25T21:58:48.095Z"
   },
   {
    "duration": 5,
    "start_time": "2022-10-25T21:58:48.159Z"
   },
   {
    "duration": 12,
    "start_time": "2022-10-25T21:58:48.166Z"
   },
   {
    "duration": 161,
    "start_time": "2022-10-25T21:58:48.180Z"
   },
   {
    "duration": 49,
    "start_time": "2022-10-25T21:58:48.343Z"
   },
   {
    "duration": 19,
    "start_time": "2022-10-25T21:58:48.397Z"
   },
   {
    "duration": 37,
    "start_time": "2022-10-25T21:58:48.418Z"
   },
   {
    "duration": 18,
    "start_time": "2022-10-25T21:58:48.457Z"
   },
   {
    "duration": 11,
    "start_time": "2022-10-25T21:58:48.477Z"
   },
   {
    "duration": 9,
    "start_time": "2022-10-25T21:58:48.490Z"
   },
   {
    "duration": 10,
    "start_time": "2022-10-25T21:58:48.501Z"
   },
   {
    "duration": 48,
    "start_time": "2022-10-25T21:58:48.513Z"
   },
   {
    "duration": 24,
    "start_time": "2022-10-25T21:58:48.564Z"
   },
   {
    "duration": 14,
    "start_time": "2022-10-25T21:58:48.590Z"
   },
   {
    "duration": 20,
    "start_time": "2022-10-25T21:58:48.606Z"
   },
   {
    "duration": 27,
    "start_time": "2022-10-25T21:58:48.628Z"
   },
   {
    "duration": 7,
    "start_time": "2022-10-25T21:58:48.657Z"
   },
   {
    "duration": 9,
    "start_time": "2022-10-25T21:58:48.666Z"
   },
   {
    "duration": 4,
    "start_time": "2022-10-25T21:58:48.677Z"
   },
   {
    "duration": 17,
    "start_time": "2022-10-25T21:58:48.684Z"
   },
   {
    "duration": 7,
    "start_time": "2022-10-25T21:58:48.704Z"
   },
   {
    "duration": 19,
    "start_time": "2022-10-25T21:58:48.713Z"
   },
   {
    "duration": 12,
    "start_time": "2022-10-25T21:58:48.754Z"
   },
   {
    "duration": 9,
    "start_time": "2022-10-25T21:58:48.768Z"
   },
   {
    "duration": 12,
    "start_time": "2022-10-25T21:58:48.779Z"
   },
   {
    "duration": 19,
    "start_time": "2022-10-25T21:58:48.793Z"
   },
   {
    "duration": 25,
    "start_time": "2022-10-25T21:58:48.814Z"
   },
   {
    "duration": 13,
    "start_time": "2022-10-25T21:58:48.841Z"
   },
   {
    "duration": 10,
    "start_time": "2022-10-25T21:58:48.856Z"
   },
   {
    "duration": 20,
    "start_time": "2022-10-25T21:58:48.870Z"
   },
   {
    "duration": 19,
    "start_time": "2022-10-25T21:58:48.892Z"
   },
   {
    "duration": 114,
    "start_time": "2022-10-25T21:58:48.913Z"
   },
   {
    "duration": 440,
    "start_time": "2022-10-25T21:58:49.029Z"
   },
   {
    "duration": 6,
    "start_time": "2022-10-25T21:58:49.470Z"
   },
   {
    "duration": 15,
    "start_time": "2022-10-25T21:58:49.477Z"
   },
   {
    "duration": 18,
    "start_time": "2022-10-25T21:58:49.495Z"
   },
   {
    "duration": 73,
    "start_time": "2022-10-25T21:58:49.515Z"
   },
   {
    "duration": 4,
    "start_time": "2022-10-25T21:58:49.590Z"
   },
   {
    "duration": 39,
    "start_time": "2022-10-25T21:58:49.597Z"
   },
   {
    "duration": 15,
    "start_time": "2022-10-25T21:58:49.639Z"
   },
   {
    "duration": 37,
    "start_time": "2022-10-25T21:58:49.657Z"
   },
   {
    "duration": 43,
    "start_time": "2022-10-25T21:58:49.696Z"
   },
   {
    "duration": 4,
    "start_time": "2022-10-25T21:58:49.742Z"
   },
   {
    "duration": 7,
    "start_time": "2022-10-25T21:58:49.754Z"
   },
   {
    "duration": 13,
    "start_time": "2022-10-25T21:58:49.763Z"
   },
   {
    "duration": 18,
    "start_time": "2022-10-25T21:58:49.778Z"
   },
   {
    "duration": 74,
    "start_time": "2022-10-25T21:58:49.798Z"
   },
   {
    "duration": 4,
    "start_time": "2022-10-25T21:58:49.874Z"
   },
   {
    "duration": 14,
    "start_time": "2022-10-25T21:58:49.880Z"
   },
   {
    "duration": 15,
    "start_time": "2022-10-25T21:58:49.896Z"
   },
   {
    "duration": 249,
    "start_time": "2022-10-25T21:58:49.913Z"
   },
   {
    "duration": 7,
    "start_time": "2022-10-25T21:58:50.164Z"
   },
   {
    "duration": 113,
    "start_time": "2022-10-25T21:58:50.172Z"
   },
   {
    "duration": 7,
    "start_time": "2022-10-25T21:58:50.287Z"
   },
   {
    "duration": 6,
    "start_time": "2022-10-25T21:58:50.296Z"
   },
   {
    "duration": 28,
    "start_time": "2022-10-25T21:58:50.304Z"
   },
   {
    "duration": 21,
    "start_time": "2022-10-25T21:58:50.334Z"
   },
   {
    "duration": 12,
    "start_time": "2022-10-25T21:58:50.358Z"
   },
   {
    "duration": 18,
    "start_time": "2022-10-25T21:58:50.372Z"
   },
   {
    "duration": 566,
    "start_time": "2022-10-25T21:58:50.392Z"
   },
   {
    "duration": 132,
    "start_time": "2022-10-25T21:58:50.960Z"
   },
   {
    "duration": 10,
    "start_time": "2022-10-25T21:58:51.094Z"
   },
   {
    "duration": 15,
    "start_time": "2022-10-25T22:00:10.585Z"
   },
   {
    "duration": 18,
    "start_time": "2022-10-25T22:09:29.256Z"
   },
   {
    "duration": 91,
    "start_time": "2022-10-25T22:09:51.133Z"
   },
   {
    "duration": 796,
    "start_time": "2022-10-25T22:09:52.733Z"
   },
   {
    "duration": 868,
    "start_time": "2022-10-25T22:10:04.146Z"
   },
   {
    "duration": 10,
    "start_time": "2022-10-25T22:10:12.173Z"
   },
   {
    "duration": 8,
    "start_time": "2022-10-25T22:10:14.888Z"
   },
   {
    "duration": 18,
    "start_time": "2022-10-25T22:10:15.706Z"
   },
   {
    "duration": 7,
    "start_time": "2022-10-25T22:10:53.093Z"
   },
   {
    "duration": 13,
    "start_time": "2022-10-25T22:10:54.234Z"
   },
   {
    "duration": 7,
    "start_time": "2022-10-25T22:11:16.372Z"
   },
   {
    "duration": 13,
    "start_time": "2022-10-25T22:11:17.483Z"
   },
   {
    "duration": 89,
    "start_time": "2022-10-25T22:11:27.303Z"
   },
   {
    "duration": 8,
    "start_time": "2022-10-25T22:11:27.394Z"
   },
   {
    "duration": 5,
    "start_time": "2022-10-25T22:11:28.004Z"
   },
   {
    "duration": 12,
    "start_time": "2022-10-25T22:11:28.812Z"
   },
   {
    "duration": 97,
    "start_time": "2022-10-25T22:11:38.557Z"
   },
   {
    "duration": 8,
    "start_time": "2022-10-25T22:11:39.338Z"
   },
   {
    "duration": 6,
    "start_time": "2022-10-25T22:11:40.037Z"
   },
   {
    "duration": 13,
    "start_time": "2022-10-25T22:11:41.168Z"
   },
   {
    "duration": 243,
    "start_time": "2022-10-25T22:12:20.167Z"
   },
   {
    "duration": 45,
    "start_time": "2022-10-25T22:17:14.073Z"
   },
   {
    "duration": 75,
    "start_time": "2022-10-25T22:17:15.014Z"
   },
   {
    "duration": 36,
    "start_time": "2022-10-25T22:18:11.321Z"
   },
   {
    "duration": 11,
    "start_time": "2022-10-25T22:18:13.312Z"
   },
   {
    "duration": 12,
    "start_time": "2022-10-25T22:18:16.407Z"
   },
   {
    "duration": 37,
    "start_time": "2022-10-25T22:18:17.352Z"
   },
   {
    "duration": 112,
    "start_time": "2022-10-25T22:18:19.769Z"
   },
   {
    "duration": 12,
    "start_time": "2022-10-25T22:18:20.742Z"
   },
   {
    "duration": 7,
    "start_time": "2022-10-25T22:18:21.589Z"
   },
   {
    "duration": 12,
    "start_time": "2022-10-25T22:18:22.731Z"
   },
   {
    "duration": 48,
    "start_time": "2022-10-25T22:19:55.854Z"
   },
   {
    "duration": 67,
    "start_time": "2022-10-25T22:20:36.077Z"
   },
   {
    "duration": 11,
    "start_time": "2022-10-25T22:20:37.605Z"
   },
   {
    "duration": 3,
    "start_time": "2022-10-25T22:20:49.057Z"
   },
   {
    "duration": 645,
    "start_time": "2022-10-25T22:20:49.062Z"
   },
   {
    "duration": 9,
    "start_time": "2022-10-25T22:20:49.709Z"
   },
   {
    "duration": 13,
    "start_time": "2022-10-25T22:20:49.720Z"
   },
   {
    "duration": 14,
    "start_time": "2022-10-25T22:20:49.735Z"
   },
   {
    "duration": 78,
    "start_time": "2022-10-25T22:20:49.751Z"
   },
   {
    "duration": 250,
    "start_time": "2022-10-25T22:20:49.831Z"
   },
   {
    "duration": 56,
    "start_time": "2022-10-25T22:20:50.083Z"
   },
   {
    "duration": 4,
    "start_time": "2022-10-25T22:20:50.154Z"
   },
   {
    "duration": 7,
    "start_time": "2022-10-25T22:20:50.160Z"
   },
   {
    "duration": 135,
    "start_time": "2022-10-25T22:20:50.169Z"
   },
   {
    "duration": 51,
    "start_time": "2022-10-25T22:20:50.306Z"
   },
   {
    "duration": 10,
    "start_time": "2022-10-25T22:20:50.359Z"
   },
   {
    "duration": 14,
    "start_time": "2022-10-25T22:20:50.371Z"
   },
   {
    "duration": 14,
    "start_time": "2022-10-25T22:20:50.387Z"
   },
   {
    "duration": 9,
    "start_time": "2022-10-25T22:20:50.403Z"
   },
   {
    "duration": 11,
    "start_time": "2022-10-25T22:20:50.414Z"
   },
   {
    "duration": 4,
    "start_time": "2022-10-25T22:20:50.455Z"
   },
   {
    "duration": 13,
    "start_time": "2022-10-25T22:20:50.461Z"
   },
   {
    "duration": 14,
    "start_time": "2022-10-25T22:20:50.477Z"
   },
   {
    "duration": 9,
    "start_time": "2022-10-25T22:20:50.493Z"
   },
   {
    "duration": 11,
    "start_time": "2022-10-25T22:20:50.505Z"
   },
   {
    "duration": 41,
    "start_time": "2022-10-25T22:20:50.518Z"
   },
   {
    "duration": 6,
    "start_time": "2022-10-25T22:20:50.563Z"
   },
   {
    "duration": 6,
    "start_time": "2022-10-25T22:20:50.571Z"
   },
   {
    "duration": 5,
    "start_time": "2022-10-25T22:20:50.578Z"
   },
   {
    "duration": 11,
    "start_time": "2022-10-25T22:20:50.585Z"
   },
   {
    "duration": 7,
    "start_time": "2022-10-25T22:20:50.597Z"
   },
   {
    "duration": 15,
    "start_time": "2022-10-25T22:20:50.605Z"
   },
   {
    "duration": 33,
    "start_time": "2022-10-25T22:20:50.622Z"
   },
   {
    "duration": 28,
    "start_time": "2022-10-25T22:20:50.658Z"
   },
   {
    "duration": 12,
    "start_time": "2022-10-25T22:20:50.688Z"
   },
   {
    "duration": 10,
    "start_time": "2022-10-25T22:20:50.701Z"
   },
   {
    "duration": 11,
    "start_time": "2022-10-25T22:20:50.713Z"
   },
   {
    "duration": 8,
    "start_time": "2022-10-25T22:20:50.726Z"
   },
   {
    "duration": 10,
    "start_time": "2022-10-25T22:20:50.735Z"
   },
   {
    "duration": 25,
    "start_time": "2022-10-25T22:20:50.747Z"
   },
   {
    "duration": 20,
    "start_time": "2022-10-25T22:20:50.774Z"
   },
   {
    "duration": 28,
    "start_time": "2022-10-25T22:20:50.796Z"
   },
   {
    "duration": 397,
    "start_time": "2022-10-25T22:20:50.826Z"
   },
   {
    "duration": 5,
    "start_time": "2022-10-25T22:20:51.225Z"
   },
   {
    "duration": 17,
    "start_time": "2022-10-25T22:20:51.231Z"
   },
   {
    "duration": 15,
    "start_time": "2022-10-25T22:20:51.249Z"
   },
   {
    "duration": 45,
    "start_time": "2022-10-25T22:20:51.265Z"
   },
   {
    "duration": 4,
    "start_time": "2022-10-25T22:20:51.312Z"
   },
   {
    "duration": 7,
    "start_time": "2022-10-25T22:20:51.317Z"
   },
   {
    "duration": 33,
    "start_time": "2022-10-25T22:20:51.326Z"
   },
   {
    "duration": 17,
    "start_time": "2022-10-25T22:20:51.360Z"
   },
   {
    "duration": 43,
    "start_time": "2022-10-25T22:20:51.379Z"
   },
   {
    "duration": 4,
    "start_time": "2022-10-25T22:20:51.424Z"
   },
   {
    "duration": 25,
    "start_time": "2022-10-25T22:20:51.429Z"
   },
   {
    "duration": 16,
    "start_time": "2022-10-25T22:20:51.457Z"
   },
   {
    "duration": 19,
    "start_time": "2022-10-25T22:20:51.475Z"
   },
   {
    "duration": 74,
    "start_time": "2022-10-25T22:20:51.496Z"
   },
   {
    "duration": 4,
    "start_time": "2022-10-25T22:20:51.573Z"
   },
   {
    "duration": 14,
    "start_time": "2022-10-25T22:20:51.580Z"
   },
   {
    "duration": 24,
    "start_time": "2022-10-25T22:20:51.596Z"
   },
   {
    "duration": 777,
    "start_time": "2022-10-25T22:20:51.622Z"
   },
   {
    "duration": 0,
    "start_time": "2022-10-25T22:20:52.401Z"
   },
   {
    "duration": 0,
    "start_time": "2022-10-25T22:20:52.402Z"
   },
   {
    "duration": 0,
    "start_time": "2022-10-25T22:20:52.404Z"
   },
   {
    "duration": 0,
    "start_time": "2022-10-25T22:20:52.405Z"
   },
   {
    "duration": 0,
    "start_time": "2022-10-25T22:20:52.406Z"
   },
   {
    "duration": 0,
    "start_time": "2022-10-25T22:20:52.407Z"
   },
   {
    "duration": 0,
    "start_time": "2022-10-25T22:20:52.409Z"
   },
   {
    "duration": 0,
    "start_time": "2022-10-25T22:20:52.409Z"
   },
   {
    "duration": 0,
    "start_time": "2022-10-25T22:20:52.410Z"
   },
   {
    "duration": 0,
    "start_time": "2022-10-25T22:20:52.411Z"
   },
   {
    "duration": 0,
    "start_time": "2022-10-25T22:20:52.412Z"
   },
   {
    "duration": 6,
    "start_time": "2022-10-26T06:38:51.670Z"
   },
   {
    "duration": 3,
    "start_time": "2022-10-26T06:38:57.305Z"
   },
   {
    "duration": 667,
    "start_time": "2022-10-26T06:38:57.311Z"
   },
   {
    "duration": 8,
    "start_time": "2022-10-26T06:38:57.980Z"
   },
   {
    "duration": 17,
    "start_time": "2022-10-26T06:38:57.989Z"
   },
   {
    "duration": 35,
    "start_time": "2022-10-26T06:38:58.008Z"
   },
   {
    "duration": 90,
    "start_time": "2022-10-26T06:38:58.044Z"
   },
   {
    "duration": 229,
    "start_time": "2022-10-26T06:38:58.136Z"
   },
   {
    "duration": 63,
    "start_time": "2022-10-26T06:38:58.366Z"
   },
   {
    "duration": 20,
    "start_time": "2022-10-26T06:38:58.431Z"
   },
   {
    "duration": 8,
    "start_time": "2022-10-26T06:38:58.453Z"
   },
   {
    "duration": 121,
    "start_time": "2022-10-26T06:38:58.463Z"
   },
   {
    "duration": 45,
    "start_time": "2022-10-26T06:38:58.585Z"
   },
   {
    "duration": 11,
    "start_time": "2022-10-26T06:38:58.632Z"
   },
   {
    "duration": 25,
    "start_time": "2022-10-26T06:38:58.645Z"
   },
   {
    "duration": 14,
    "start_time": "2022-10-26T06:38:58.672Z"
   },
   {
    "duration": 21,
    "start_time": "2022-10-26T06:38:58.688Z"
   },
   {
    "duration": 14,
    "start_time": "2022-10-26T06:38:58.711Z"
   },
   {
    "duration": 6,
    "start_time": "2022-10-26T06:38:58.727Z"
   },
   {
    "duration": 38,
    "start_time": "2022-10-26T06:38:58.735Z"
   },
   {
    "duration": 30,
    "start_time": "2022-10-26T06:38:58.774Z"
   },
   {
    "duration": 11,
    "start_time": "2022-10-26T06:38:58.805Z"
   },
   {
    "duration": 40,
    "start_time": "2022-10-26T06:38:58.817Z"
   },
   {
    "duration": 31,
    "start_time": "2022-10-26T06:38:58.859Z"
   },
   {
    "duration": 29,
    "start_time": "2022-10-26T06:38:58.891Z"
   },
   {
    "duration": 22,
    "start_time": "2022-10-26T06:38:58.921Z"
   },
   {
    "duration": 15,
    "start_time": "2022-10-26T06:38:58.945Z"
   },
   {
    "duration": 26,
    "start_time": "2022-10-26T06:38:58.961Z"
   },
   {
    "duration": 13,
    "start_time": "2022-10-26T06:38:58.989Z"
   },
   {
    "duration": 25,
    "start_time": "2022-10-26T06:38:59.003Z"
   },
   {
    "duration": 9,
    "start_time": "2022-10-26T06:38:59.030Z"
   },
   {
    "duration": 40,
    "start_time": "2022-10-26T06:38:59.041Z"
   },
   {
    "duration": 26,
    "start_time": "2022-10-26T06:38:59.083Z"
   },
   {
    "duration": 32,
    "start_time": "2022-10-26T06:38:59.111Z"
   },
   {
    "duration": 44,
    "start_time": "2022-10-26T06:38:59.144Z"
   },
   {
    "duration": 24,
    "start_time": "2022-10-26T06:38:59.189Z"
   },
   {
    "duration": 17,
    "start_time": "2022-10-26T06:38:59.214Z"
   },
   {
    "duration": 16,
    "start_time": "2022-10-26T06:38:59.233Z"
   },
   {
    "duration": 34,
    "start_time": "2022-10-26T06:38:59.251Z"
   },
   {
    "duration": 45,
    "start_time": "2022-10-26T06:38:59.287Z"
   },
   {
    "duration": 422,
    "start_time": "2022-10-26T06:38:59.333Z"
   },
   {
    "duration": 5,
    "start_time": "2022-10-26T06:38:59.759Z"
   },
   {
    "duration": 9,
    "start_time": "2022-10-26T06:38:59.765Z"
   },
   {
    "duration": 34,
    "start_time": "2022-10-26T06:38:59.775Z"
   },
   {
    "duration": 55,
    "start_time": "2022-10-26T06:38:59.811Z"
   },
   {
    "duration": 3,
    "start_time": "2022-10-26T06:38:59.868Z"
   },
   {
    "duration": 19,
    "start_time": "2022-10-26T06:38:59.873Z"
   },
   {
    "duration": 32,
    "start_time": "2022-10-26T06:38:59.893Z"
   },
   {
    "duration": 51,
    "start_time": "2022-10-26T06:38:59.927Z"
   },
   {
    "duration": 57,
    "start_time": "2022-10-26T06:38:59.980Z"
   },
   {
    "duration": 4,
    "start_time": "2022-10-26T06:39:00.038Z"
   },
   {
    "duration": 19,
    "start_time": "2022-10-26T06:39:00.044Z"
   },
   {
    "duration": 44,
    "start_time": "2022-10-26T06:39:00.065Z"
   },
   {
    "duration": 47,
    "start_time": "2022-10-26T06:39:00.110Z"
   },
   {
    "duration": 81,
    "start_time": "2022-10-26T06:39:00.159Z"
   },
   {
    "duration": 5,
    "start_time": "2022-10-26T06:39:00.242Z"
   },
   {
    "duration": 43,
    "start_time": "2022-10-26T06:39:00.249Z"
   },
   {
    "duration": 30,
    "start_time": "2022-10-26T06:39:00.294Z"
   },
   {
    "duration": 30,
    "start_time": "2022-10-26T06:39:00.326Z"
   },
   {
    "duration": 18,
    "start_time": "2022-10-26T06:39:00.358Z"
   },
   {
    "duration": 20,
    "start_time": "2022-10-26T06:39:00.378Z"
   },
   {
    "duration": 38,
    "start_time": "2022-10-26T06:39:00.400Z"
   },
   {
    "duration": 24,
    "start_time": "2022-10-26T06:39:00.440Z"
   },
   {
    "duration": 48,
    "start_time": "2022-10-26T06:39:00.466Z"
   },
   {
    "duration": 23,
    "start_time": "2022-10-26T06:39:00.516Z"
   },
   {
    "duration": 36,
    "start_time": "2022-10-26T06:39:00.541Z"
   },
   {
    "duration": 31,
    "start_time": "2022-10-26T06:39:00.579Z"
   },
   {
    "duration": 584,
    "start_time": "2022-10-26T06:39:00.612Z"
   },
   {
    "duration": 18,
    "start_time": "2022-10-26T06:39:01.198Z"
   },
   {
    "duration": 10,
    "start_time": "2022-10-26T06:39:01.217Z"
   },
   {
    "duration": 4,
    "start_time": "2022-10-26T06:39:24.132Z"
   },
   {
    "duration": 668,
    "start_time": "2022-10-26T06:39:24.139Z"
   },
   {
    "duration": 8,
    "start_time": "2022-10-26T06:39:24.810Z"
   },
   {
    "duration": 8,
    "start_time": "2022-10-26T06:39:24.820Z"
   },
   {
    "duration": 9,
    "start_time": "2022-10-26T06:39:24.830Z"
   },
   {
    "duration": 65,
    "start_time": "2022-10-26T06:39:24.841Z"
   },
   {
    "duration": 224,
    "start_time": "2022-10-26T06:39:24.923Z"
   },
   {
    "duration": 59,
    "start_time": "2022-10-26T06:39:25.149Z"
   },
   {
    "duration": 4,
    "start_time": "2022-10-26T06:39:25.225Z"
   },
   {
    "duration": 14,
    "start_time": "2022-10-26T06:39:25.230Z"
   },
   {
    "duration": 133,
    "start_time": "2022-10-26T06:39:25.246Z"
   },
   {
    "duration": 62,
    "start_time": "2022-10-26T06:39:25.380Z"
   },
   {
    "duration": 21,
    "start_time": "2022-10-26T06:39:25.444Z"
   },
   {
    "duration": 38,
    "start_time": "2022-10-26T06:39:25.466Z"
   },
   {
    "duration": 17,
    "start_time": "2022-10-26T06:39:25.505Z"
   },
   {
    "duration": 17,
    "start_time": "2022-10-26T06:39:25.524Z"
   },
   {
    "duration": 14,
    "start_time": "2022-10-26T06:39:25.542Z"
   },
   {
    "duration": 18,
    "start_time": "2022-10-26T06:39:25.557Z"
   },
   {
    "duration": 18,
    "start_time": "2022-10-26T06:39:25.576Z"
   },
   {
    "duration": 13,
    "start_time": "2022-10-26T06:39:25.595Z"
   },
   {
    "duration": 9,
    "start_time": "2022-10-26T06:39:25.609Z"
   },
   {
    "duration": 19,
    "start_time": "2022-10-26T06:39:25.620Z"
   },
   {
    "duration": 13,
    "start_time": "2022-10-26T06:39:25.641Z"
   },
   {
    "duration": 5,
    "start_time": "2022-10-26T06:39:25.659Z"
   },
   {
    "duration": 23,
    "start_time": "2022-10-26T06:39:25.666Z"
   },
   {
    "duration": 9,
    "start_time": "2022-10-26T06:39:25.690Z"
   },
   {
    "duration": 23,
    "start_time": "2022-10-26T06:39:25.701Z"
   },
   {
    "duration": 12,
    "start_time": "2022-10-26T06:39:25.726Z"
   },
   {
    "duration": 18,
    "start_time": "2022-10-26T06:39:25.740Z"
   },
   {
    "duration": 16,
    "start_time": "2022-10-26T06:39:25.759Z"
   },
   {
    "duration": 14,
    "start_time": "2022-10-26T06:39:25.777Z"
   },
   {
    "duration": 12,
    "start_time": "2022-10-26T06:39:25.793Z"
   },
   {
    "duration": 19,
    "start_time": "2022-10-26T06:39:25.807Z"
   },
   {
    "duration": 17,
    "start_time": "2022-10-26T06:39:25.827Z"
   },
   {
    "duration": 25,
    "start_time": "2022-10-26T06:39:25.845Z"
   },
   {
    "duration": 12,
    "start_time": "2022-10-26T06:39:25.872Z"
   },
   {
    "duration": 11,
    "start_time": "2022-10-26T06:39:25.886Z"
   },
   {
    "duration": 23,
    "start_time": "2022-10-26T06:39:25.899Z"
   },
   {
    "duration": 91,
    "start_time": "2022-10-26T06:39:25.923Z"
   },
   {
    "duration": 397,
    "start_time": "2022-10-26T06:39:26.016Z"
   },
   {
    "duration": 11,
    "start_time": "2022-10-26T06:39:26.414Z"
   },
   {
    "duration": 21,
    "start_time": "2022-10-26T06:39:26.426Z"
   },
   {
    "duration": 18,
    "start_time": "2022-10-26T06:39:26.448Z"
   },
   {
    "duration": 53,
    "start_time": "2022-10-26T06:39:26.468Z"
   },
   {
    "duration": 4,
    "start_time": "2022-10-26T06:39:26.523Z"
   },
   {
    "duration": 18,
    "start_time": "2022-10-26T06:39:26.529Z"
   },
   {
    "duration": 23,
    "start_time": "2022-10-26T06:39:26.548Z"
   },
   {
    "duration": 17,
    "start_time": "2022-10-26T06:39:26.573Z"
   },
   {
    "duration": 46,
    "start_time": "2022-10-26T06:39:26.592Z"
   },
   {
    "duration": 5,
    "start_time": "2022-10-26T06:39:26.640Z"
   },
   {
    "duration": 11,
    "start_time": "2022-10-26T06:39:26.646Z"
   },
   {
    "duration": 28,
    "start_time": "2022-10-26T06:39:26.659Z"
   },
   {
    "duration": 23,
    "start_time": "2022-10-26T06:39:26.689Z"
   },
   {
    "duration": 57,
    "start_time": "2022-10-26T06:39:26.714Z"
   },
   {
    "duration": 4,
    "start_time": "2022-10-26T06:39:26.772Z"
   },
   {
    "duration": 17,
    "start_time": "2022-10-26T06:39:26.777Z"
   },
   {
    "duration": 25,
    "start_time": "2022-10-26T06:39:26.795Z"
   },
   {
    "duration": 20,
    "start_time": "2022-10-26T06:39:26.822Z"
   },
   {
    "duration": 20,
    "start_time": "2022-10-26T06:39:26.844Z"
   },
   {
    "duration": 10,
    "start_time": "2022-10-26T06:39:26.865Z"
   },
   {
    "duration": 22,
    "start_time": "2022-10-26T06:39:26.876Z"
   },
   {
    "duration": 14,
    "start_time": "2022-10-26T06:39:26.900Z"
   },
   {
    "duration": 26,
    "start_time": "2022-10-26T06:39:26.915Z"
   },
   {
    "duration": 15,
    "start_time": "2022-10-26T06:39:26.943Z"
   },
   {
    "duration": 25,
    "start_time": "2022-10-26T06:39:26.959Z"
   },
   {
    "duration": 14,
    "start_time": "2022-10-26T06:39:26.986Z"
   },
   {
    "duration": 512,
    "start_time": "2022-10-26T06:39:27.002Z"
   },
   {
    "duration": 25,
    "start_time": "2022-10-26T06:39:27.516Z"
   },
   {
    "duration": 11,
    "start_time": "2022-10-26T06:39:27.545Z"
   },
   {
    "duration": 25,
    "start_time": "2022-10-26T06:55:59.886Z"
   },
   {
    "duration": 17,
    "start_time": "2022-10-26T06:56:14.446Z"
   },
   {
    "duration": 3,
    "start_time": "2022-10-26T07:02:14.236Z"
   },
   {
    "duration": 9,
    "start_time": "2022-10-26T07:02:19.445Z"
   },
   {
    "duration": 9,
    "start_time": "2022-10-26T07:03:00.533Z"
   },
   {
    "duration": 8,
    "start_time": "2022-10-26T07:03:11.295Z"
   },
   {
    "duration": 4,
    "start_time": "2022-10-26T07:04:36.362Z"
   },
   {
    "duration": 3,
    "start_time": "2022-10-26T07:04:41.285Z"
   },
   {
    "duration": 8,
    "start_time": "2022-10-26T07:06:18.971Z"
   },
   {
    "duration": 3,
    "start_time": "2022-10-26T07:06:37.237Z"
   },
   {
    "duration": 636,
    "start_time": "2022-10-26T07:06:37.242Z"
   },
   {
    "duration": 8,
    "start_time": "2022-10-26T07:06:37.880Z"
   },
   {
    "duration": 9,
    "start_time": "2022-10-26T07:06:37.890Z"
   },
   {
    "duration": 8,
    "start_time": "2022-10-26T07:06:37.901Z"
   },
   {
    "duration": 63,
    "start_time": "2022-10-26T07:06:37.910Z"
   },
   {
    "duration": 220,
    "start_time": "2022-10-26T07:06:37.975Z"
   },
   {
    "duration": 60,
    "start_time": "2022-10-26T07:06:38.197Z"
   },
   {
    "duration": 4,
    "start_time": "2022-10-26T07:06:38.258Z"
   },
   {
    "duration": 4,
    "start_time": "2022-10-26T07:06:38.263Z"
   },
   {
    "duration": 125,
    "start_time": "2022-10-26T07:06:38.269Z"
   },
   {
    "duration": 43,
    "start_time": "2022-10-26T07:06:38.396Z"
   },
   {
    "duration": 9,
    "start_time": "2022-10-26T07:06:38.440Z"
   },
   {
    "duration": 11,
    "start_time": "2022-10-26T07:06:38.452Z"
   },
   {
    "duration": 12,
    "start_time": "2022-10-26T07:06:38.464Z"
   },
   {
    "duration": 7,
    "start_time": "2022-10-26T07:06:38.477Z"
   },
   {
    "duration": 5,
    "start_time": "2022-10-26T07:06:38.485Z"
   },
   {
    "duration": 3,
    "start_time": "2022-10-26T07:06:38.524Z"
   },
   {
    "duration": 11,
    "start_time": "2022-10-26T07:06:38.529Z"
   },
   {
    "duration": 14,
    "start_time": "2022-10-26T07:06:38.542Z"
   },
   {
    "duration": 8,
    "start_time": "2022-10-26T07:06:38.558Z"
   },
   {
    "duration": 12,
    "start_time": "2022-10-26T07:06:38.568Z"
   },
   {
    "duration": 5,
    "start_time": "2022-10-26T07:06:38.582Z"
   },
   {
    "duration": 37,
    "start_time": "2022-10-26T07:06:38.588Z"
   },
   {
    "duration": 7,
    "start_time": "2022-10-26T07:06:38.626Z"
   },
   {
    "duration": 4,
    "start_time": "2022-10-26T07:06:38.635Z"
   },
   {
    "duration": 5,
    "start_time": "2022-10-26T07:06:38.641Z"
   },
   {
    "duration": 6,
    "start_time": "2022-10-26T07:06:38.648Z"
   },
   {
    "duration": 12,
    "start_time": "2022-10-26T07:06:38.656Z"
   },
   {
    "duration": 9,
    "start_time": "2022-10-26T07:06:38.670Z"
   },
   {
    "duration": 7,
    "start_time": "2022-10-26T07:06:38.680Z"
   },
   {
    "duration": 35,
    "start_time": "2022-10-26T07:06:38.689Z"
   },
   {
    "duration": 8,
    "start_time": "2022-10-26T07:06:38.726Z"
   },
   {
    "duration": 9,
    "start_time": "2022-10-26T07:06:38.736Z"
   },
   {
    "duration": 6,
    "start_time": "2022-10-26T07:06:38.747Z"
   },
   {
    "duration": 9,
    "start_time": "2022-10-26T07:06:38.754Z"
   },
   {
    "duration": 10,
    "start_time": "2022-10-26T07:06:38.764Z"
   },
   {
    "duration": 10,
    "start_time": "2022-10-26T07:06:38.776Z"
   },
   {
    "duration": 40,
    "start_time": "2022-10-26T07:06:38.787Z"
   },
   {
    "duration": 380,
    "start_time": "2022-10-26T07:06:38.829Z"
   },
   {
    "duration": 11,
    "start_time": "2022-10-26T07:06:39.213Z"
   },
   {
    "duration": 4,
    "start_time": "2022-10-26T07:06:39.225Z"
   },
   {
    "duration": 12,
    "start_time": "2022-10-26T07:06:39.231Z"
   },
   {
    "duration": 43,
    "start_time": "2022-10-26T07:06:39.244Z"
   },
   {
    "duration": 3,
    "start_time": "2022-10-26T07:06:39.289Z"
   },
   {
    "duration": 31,
    "start_time": "2022-10-26T07:06:39.293Z"
   },
   {
    "duration": 10,
    "start_time": "2022-10-26T07:06:39.325Z"
   },
   {
    "duration": 14,
    "start_time": "2022-10-26T07:06:39.336Z"
   },
   {
    "duration": 42,
    "start_time": "2022-10-26T07:06:39.351Z"
   },
   {
    "duration": 3,
    "start_time": "2022-10-26T07:06:39.395Z"
   },
   {
    "duration": 26,
    "start_time": "2022-10-26T07:06:39.400Z"
   },
   {
    "duration": 12,
    "start_time": "2022-10-26T07:06:39.428Z"
   },
   {
    "duration": 12,
    "start_time": "2022-10-26T07:06:39.441Z"
   },
   {
    "duration": 40,
    "start_time": "2022-10-26T07:06:39.454Z"
   },
   {
    "duration": 4,
    "start_time": "2022-10-26T07:06:39.495Z"
   },
   {
    "duration": 4,
    "start_time": "2022-10-26T07:06:39.524Z"
   },
   {
    "duration": 11,
    "start_time": "2022-10-26T07:06:39.529Z"
   },
   {
    "duration": 4,
    "start_time": "2022-10-26T07:06:39.542Z"
   },
   {
    "duration": 5,
    "start_time": "2022-10-26T07:06:39.548Z"
   },
   {
    "duration": 6,
    "start_time": "2022-10-26T07:06:39.555Z"
   },
   {
    "duration": 6,
    "start_time": "2022-10-26T07:06:39.562Z"
   },
   {
    "duration": 7,
    "start_time": "2022-10-26T07:06:39.569Z"
   },
   {
    "duration": 15,
    "start_time": "2022-10-26T07:06:39.577Z"
   },
   {
    "duration": 7,
    "start_time": "2022-10-26T07:06:39.623Z"
   },
   {
    "duration": 6,
    "start_time": "2022-10-26T07:06:39.632Z"
   },
   {
    "duration": 13,
    "start_time": "2022-10-26T07:06:39.639Z"
   },
   {
    "duration": 504,
    "start_time": "2022-10-26T07:06:39.654Z"
   },
   {
    "duration": 16,
    "start_time": "2022-10-26T07:06:40.160Z"
   },
   {
    "duration": 8,
    "start_time": "2022-10-26T07:06:40.178Z"
   },
   {
    "duration": 0,
    "start_time": "2022-10-26T07:06:40.187Z"
   },
   {
    "duration": 2,
    "start_time": "2022-10-26T07:07:03.209Z"
   },
   {
    "duration": 13,
    "start_time": "2022-10-26T07:07:25.409Z"
   },
   {
    "duration": 11,
    "start_time": "2022-10-26T07:07:42.431Z"
   },
   {
    "duration": 12,
    "start_time": "2022-10-26T07:18:09.060Z"
   },
   {
    "duration": 12,
    "start_time": "2022-10-26T07:38:39.947Z"
   },
   {
    "duration": 12,
    "start_time": "2022-10-26T07:38:41.563Z"
   },
   {
    "duration": 3,
    "start_time": "2022-10-26T07:40:49.475Z"
   },
   {
    "duration": 729,
    "start_time": "2022-10-26T07:40:49.480Z"
   },
   {
    "duration": 10,
    "start_time": "2022-10-26T07:40:50.211Z"
   },
   {
    "duration": 31,
    "start_time": "2022-10-26T07:40:50.223Z"
   },
   {
    "duration": 32,
    "start_time": "2022-10-26T07:40:50.257Z"
   },
   {
    "duration": 95,
    "start_time": "2022-10-26T07:40:50.291Z"
   },
   {
    "duration": 251,
    "start_time": "2022-10-26T07:40:50.389Z"
   },
   {
    "duration": 61,
    "start_time": "2022-10-26T07:40:50.642Z"
   },
   {
    "duration": 9,
    "start_time": "2022-10-26T07:40:50.704Z"
   },
   {
    "duration": 4,
    "start_time": "2022-10-26T07:40:50.725Z"
   },
   {
    "duration": 139,
    "start_time": "2022-10-26T07:40:50.733Z"
   },
   {
    "duration": 50,
    "start_time": "2022-10-26T07:40:50.874Z"
   },
   {
    "duration": 10,
    "start_time": "2022-10-26T07:40:50.926Z"
   },
   {
    "duration": 18,
    "start_time": "2022-10-26T07:40:50.938Z"
   },
   {
    "duration": 19,
    "start_time": "2022-10-26T07:40:50.957Z"
   },
   {
    "duration": 7,
    "start_time": "2022-10-26T07:40:50.978Z"
   },
   {
    "duration": 5,
    "start_time": "2022-10-26T07:40:50.987Z"
   },
   {
    "duration": 31,
    "start_time": "2022-10-26T07:40:50.993Z"
   },
   {
    "duration": 19,
    "start_time": "2022-10-26T07:40:51.027Z"
   },
   {
    "duration": 14,
    "start_time": "2022-10-26T07:40:51.048Z"
   },
   {
    "duration": 9,
    "start_time": "2022-10-26T07:40:51.064Z"
   },
   {
    "duration": 12,
    "start_time": "2022-10-26T07:40:51.075Z"
   },
   {
    "duration": 36,
    "start_time": "2022-10-26T07:40:51.088Z"
   },
   {
    "duration": 8,
    "start_time": "2022-10-26T07:40:51.126Z"
   },
   {
    "duration": 8,
    "start_time": "2022-10-26T07:40:51.136Z"
   },
   {
    "duration": 3,
    "start_time": "2022-10-26T07:40:51.146Z"
   },
   {
    "duration": 5,
    "start_time": "2022-10-26T07:40:51.151Z"
   },
   {
    "duration": 11,
    "start_time": "2022-10-26T07:40:51.158Z"
   },
   {
    "duration": 11,
    "start_time": "2022-10-26T07:40:51.173Z"
   },
   {
    "duration": 46,
    "start_time": "2022-10-26T07:40:51.186Z"
   },
   {
    "duration": 9,
    "start_time": "2022-10-26T07:40:51.235Z"
   },
   {
    "duration": 8,
    "start_time": "2022-10-26T07:40:51.246Z"
   },
   {
    "duration": 8,
    "start_time": "2022-10-26T07:40:51.256Z"
   },
   {
    "duration": 14,
    "start_time": "2022-10-26T07:40:51.265Z"
   },
   {
    "duration": 7,
    "start_time": "2022-10-26T07:40:51.281Z"
   },
   {
    "duration": 34,
    "start_time": "2022-10-26T07:40:51.290Z"
   },
   {
    "duration": 11,
    "start_time": "2022-10-26T07:40:51.327Z"
   },
   {
    "duration": 9,
    "start_time": "2022-10-26T07:40:51.340Z"
   },
   {
    "duration": 115,
    "start_time": "2022-10-26T07:40:51.351Z"
   },
   {
    "duration": 489,
    "start_time": "2022-10-26T07:40:51.467Z"
   },
   {
    "duration": 6,
    "start_time": "2022-10-26T07:40:51.957Z"
   },
   {
    "duration": 9,
    "start_time": "2022-10-26T07:40:51.965Z"
   },
   {
    "duration": 14,
    "start_time": "2022-10-26T07:40:51.976Z"
   },
   {
    "duration": 91,
    "start_time": "2022-10-26T07:40:51.992Z"
   },
   {
    "duration": 5,
    "start_time": "2022-10-26T07:40:52.085Z"
   },
   {
    "duration": 16,
    "start_time": "2022-10-26T07:40:52.092Z"
   },
   {
    "duration": 14,
    "start_time": "2022-10-26T07:40:52.111Z"
   },
   {
    "duration": 21,
    "start_time": "2022-10-26T07:40:52.127Z"
   },
   {
    "duration": 51,
    "start_time": "2022-10-26T07:40:52.150Z"
   },
   {
    "duration": 26,
    "start_time": "2022-10-26T07:40:52.203Z"
   },
   {
    "duration": 7,
    "start_time": "2022-10-26T07:40:52.231Z"
   },
   {
    "duration": 11,
    "start_time": "2022-10-26T07:40:52.240Z"
   },
   {
    "duration": 15,
    "start_time": "2022-10-26T07:40:52.252Z"
   },
   {
    "duration": 66,
    "start_time": "2022-10-26T07:40:52.269Z"
   },
   {
    "duration": 5,
    "start_time": "2022-10-26T07:40:52.338Z"
   },
   {
    "duration": 7,
    "start_time": "2022-10-26T07:40:52.345Z"
   },
   {
    "duration": 12,
    "start_time": "2022-10-26T07:40:52.353Z"
   },
   {
    "duration": 8,
    "start_time": "2022-10-26T07:40:52.367Z"
   },
   {
    "duration": 7,
    "start_time": "2022-10-26T07:40:52.377Z"
   },
   {
    "duration": 9,
    "start_time": "2022-10-26T07:40:52.385Z"
   },
   {
    "duration": 30,
    "start_time": "2022-10-26T07:40:52.396Z"
   },
   {
    "duration": 8,
    "start_time": "2022-10-26T07:40:52.429Z"
   },
   {
    "duration": 13,
    "start_time": "2022-10-26T07:40:52.439Z"
   },
   {
    "duration": 8,
    "start_time": "2022-10-26T07:40:52.454Z"
   },
   {
    "duration": 9,
    "start_time": "2022-10-26T07:40:52.464Z"
   },
   {
    "duration": 17,
    "start_time": "2022-10-26T07:40:52.475Z"
   },
   {
    "duration": 576,
    "start_time": "2022-10-26T07:40:52.494Z"
   },
   {
    "duration": 17,
    "start_time": "2022-10-26T07:40:53.071Z"
   },
   {
    "duration": 3,
    "start_time": "2022-10-26T07:40:53.089Z"
   },
   {
    "duration": 31,
    "start_time": "2022-10-26T07:40:53.094Z"
   },
   {
    "duration": 0,
    "start_time": "2022-10-26T07:40:53.127Z"
   },
   {
    "duration": 0,
    "start_time": "2022-10-26T07:40:53.128Z"
   },
   {
    "duration": 0,
    "start_time": "2022-10-26T07:40:53.129Z"
   },
   {
    "duration": 0,
    "start_time": "2022-10-26T07:40:53.130Z"
   },
   {
    "duration": 0,
    "start_time": "2022-10-26T07:40:53.131Z"
   },
   {
    "duration": 3,
    "start_time": "2022-10-26T07:44:54.580Z"
   },
   {
    "duration": 287,
    "start_time": "2022-10-26T07:44:56.559Z"
   },
   {
    "duration": 4,
    "start_time": "2022-10-26T07:45:13.289Z"
   },
   {
    "duration": 670,
    "start_time": "2022-10-26T07:45:13.295Z"
   },
   {
    "duration": 9,
    "start_time": "2022-10-26T07:45:13.967Z"
   },
   {
    "duration": 18,
    "start_time": "2022-10-26T07:45:13.979Z"
   },
   {
    "duration": 13,
    "start_time": "2022-10-26T07:45:13.999Z"
   },
   {
    "duration": 72,
    "start_time": "2022-10-26T07:45:14.014Z"
   },
   {
    "duration": 237,
    "start_time": "2022-10-26T07:45:14.087Z"
   },
   {
    "duration": 79,
    "start_time": "2022-10-26T07:45:14.327Z"
   },
   {
    "duration": 16,
    "start_time": "2022-10-26T07:45:14.409Z"
   },
   {
    "duration": 4,
    "start_time": "2022-10-26T07:45:14.427Z"
   },
   {
    "duration": 148,
    "start_time": "2022-10-26T07:45:14.433Z"
   },
   {
    "duration": 55,
    "start_time": "2022-10-26T07:45:14.583Z"
   },
   {
    "duration": 11,
    "start_time": "2022-10-26T07:45:14.639Z"
   },
   {
    "duration": 14,
    "start_time": "2022-10-26T07:45:14.652Z"
   },
   {
    "duration": 15,
    "start_time": "2022-10-26T07:45:14.668Z"
   },
   {
    "duration": 44,
    "start_time": "2022-10-26T07:45:14.686Z"
   },
   {
    "duration": 9,
    "start_time": "2022-10-26T07:45:14.732Z"
   },
   {
    "duration": 15,
    "start_time": "2022-10-26T07:45:14.743Z"
   },
   {
    "duration": 12,
    "start_time": "2022-10-26T07:45:14.760Z"
   },
   {
    "duration": 14,
    "start_time": "2022-10-26T07:45:14.774Z"
   },
   {
    "duration": 10,
    "start_time": "2022-10-26T07:45:14.790Z"
   },
   {
    "duration": 27,
    "start_time": "2022-10-26T07:45:14.802Z"
   },
   {
    "duration": 8,
    "start_time": "2022-10-26T07:45:14.831Z"
   },
   {
    "duration": 8,
    "start_time": "2022-10-26T07:45:14.845Z"
   },
   {
    "duration": 6,
    "start_time": "2022-10-26T07:45:14.855Z"
   },
   {
    "duration": 4,
    "start_time": "2022-10-26T07:45:14.863Z"
   },
   {
    "duration": 8,
    "start_time": "2022-10-26T07:45:14.869Z"
   },
   {
    "duration": 6,
    "start_time": "2022-10-26T07:45:14.879Z"
   },
   {
    "duration": 53,
    "start_time": "2022-10-26T07:45:14.887Z"
   },
   {
    "duration": 12,
    "start_time": "2022-10-26T07:45:14.942Z"
   },
   {
    "duration": 11,
    "start_time": "2022-10-26T07:45:14.956Z"
   },
   {
    "duration": 11,
    "start_time": "2022-10-26T07:45:14.969Z"
   },
   {
    "duration": 9,
    "start_time": "2022-10-26T07:45:14.982Z"
   },
   {
    "duration": 34,
    "start_time": "2022-10-26T07:45:14.993Z"
   },
   {
    "duration": 12,
    "start_time": "2022-10-26T07:45:15.029Z"
   },
   {
    "duration": 13,
    "start_time": "2022-10-26T07:45:15.043Z"
   },
   {
    "duration": 10,
    "start_time": "2022-10-26T07:45:15.058Z"
   },
   {
    "duration": 9,
    "start_time": "2022-10-26T07:45:15.070Z"
   },
   {
    "duration": 44,
    "start_time": "2022-10-26T07:45:15.082Z"
   },
   {
    "duration": 436,
    "start_time": "2022-10-26T07:45:15.128Z"
   },
   {
    "duration": 5,
    "start_time": "2022-10-26T07:45:15.567Z"
   },
   {
    "duration": 7,
    "start_time": "2022-10-26T07:45:15.574Z"
   },
   {
    "duration": 13,
    "start_time": "2022-10-26T07:45:15.582Z"
   },
   {
    "duration": 53,
    "start_time": "2022-10-26T07:45:15.623Z"
   },
   {
    "duration": 4,
    "start_time": "2022-10-26T07:45:15.678Z"
   },
   {
    "duration": 5,
    "start_time": "2022-10-26T07:45:15.684Z"
   },
   {
    "duration": 10,
    "start_time": "2022-10-26T07:45:15.691Z"
   },
   {
    "duration": 13,
    "start_time": "2022-10-26T07:45:15.725Z"
   },
   {
    "duration": 43,
    "start_time": "2022-10-26T07:45:15.740Z"
   },
   {
    "duration": 4,
    "start_time": "2022-10-26T07:45:15.785Z"
   },
   {
    "duration": 5,
    "start_time": "2022-10-26T07:45:15.791Z"
   },
   {
    "duration": 9,
    "start_time": "2022-10-26T07:45:15.824Z"
   },
   {
    "duration": 13,
    "start_time": "2022-10-26T07:45:15.835Z"
   },
   {
    "duration": 42,
    "start_time": "2022-10-26T07:45:15.850Z"
   },
   {
    "duration": 4,
    "start_time": "2022-10-26T07:45:15.894Z"
   },
   {
    "duration": 5,
    "start_time": "2022-10-26T07:45:15.923Z"
   },
   {
    "duration": 15,
    "start_time": "2022-10-26T07:45:15.930Z"
   },
   {
    "duration": 7,
    "start_time": "2022-10-26T07:45:15.946Z"
   },
   {
    "duration": 8,
    "start_time": "2022-10-26T07:45:15.954Z"
   },
   {
    "duration": 8,
    "start_time": "2022-10-26T07:45:15.964Z"
   },
   {
    "duration": 6,
    "start_time": "2022-10-26T07:45:15.973Z"
   },
   {
    "duration": 8,
    "start_time": "2022-10-26T07:45:15.981Z"
   },
   {
    "duration": 42,
    "start_time": "2022-10-26T07:45:15.990Z"
   },
   {
    "duration": 5,
    "start_time": "2022-10-26T07:45:16.034Z"
   },
   {
    "duration": 7,
    "start_time": "2022-10-26T07:45:16.040Z"
   },
   {
    "duration": 16,
    "start_time": "2022-10-26T07:45:16.049Z"
   },
   {
    "duration": 550,
    "start_time": "2022-10-26T07:45:16.067Z"
   },
   {
    "duration": 26,
    "start_time": "2022-10-26T07:45:16.619Z"
   },
   {
    "duration": 4,
    "start_time": "2022-10-26T07:45:16.652Z"
   },
   {
    "duration": 325,
    "start_time": "2022-10-26T07:45:16.658Z"
   },
   {
    "duration": 0,
    "start_time": "2022-10-26T07:45:16.985Z"
   },
   {
    "duration": 0,
    "start_time": "2022-10-26T07:45:16.989Z"
   },
   {
    "duration": 0,
    "start_time": "2022-10-26T07:45:16.991Z"
   },
   {
    "duration": 0,
    "start_time": "2022-10-26T07:45:16.992Z"
   },
   {
    "duration": 0,
    "start_time": "2022-10-26T07:45:16.993Z"
   },
   {
    "duration": 18,
    "start_time": "2022-10-26T07:46:11.991Z"
   },
   {
    "duration": 2,
    "start_time": "2022-10-26T07:46:14.572Z"
   },
   {
    "duration": 686,
    "start_time": "2022-10-26T07:46:14.576Z"
   },
   {
    "duration": 10,
    "start_time": "2022-10-26T07:46:15.264Z"
   },
   {
    "duration": 9,
    "start_time": "2022-10-26T07:46:15.276Z"
   },
   {
    "duration": 12,
    "start_time": "2022-10-26T07:46:15.287Z"
   },
   {
    "duration": 75,
    "start_time": "2022-10-26T07:46:15.301Z"
   },
   {
    "duration": 246,
    "start_time": "2022-10-26T07:46:15.380Z"
   },
   {
    "duration": 64,
    "start_time": "2022-10-26T07:46:15.627Z"
   },
   {
    "duration": 5,
    "start_time": "2022-10-26T07:46:15.695Z"
   },
   {
    "duration": 23,
    "start_time": "2022-10-26T07:46:15.702Z"
   },
   {
    "duration": 162,
    "start_time": "2022-10-26T07:46:15.727Z"
   },
   {
    "duration": 52,
    "start_time": "2022-10-26T07:46:15.891Z"
   },
   {
    "duration": 10,
    "start_time": "2022-10-26T07:46:15.944Z"
   },
   {
    "duration": 17,
    "start_time": "2022-10-26T07:46:15.956Z"
   },
   {
    "duration": 16,
    "start_time": "2022-10-26T07:46:15.975Z"
   },
   {
    "duration": 36,
    "start_time": "2022-10-26T07:46:15.993Z"
   },
   {
    "duration": 11,
    "start_time": "2022-10-26T07:46:16.030Z"
   },
   {
    "duration": 5,
    "start_time": "2022-10-26T07:46:16.042Z"
   },
   {
    "duration": 19,
    "start_time": "2022-10-26T07:46:16.049Z"
   },
   {
    "duration": 20,
    "start_time": "2022-10-26T07:46:16.070Z"
   },
   {
    "duration": 12,
    "start_time": "2022-10-26T07:46:16.092Z"
   },
   {
    "duration": 32,
    "start_time": "2022-10-26T07:46:16.105Z"
   },
   {
    "duration": 7,
    "start_time": "2022-10-26T07:46:16.138Z"
   },
   {
    "duration": 6,
    "start_time": "2022-10-26T07:46:16.149Z"
   },
   {
    "duration": 10,
    "start_time": "2022-10-26T07:46:16.157Z"
   },
   {
    "duration": 12,
    "start_time": "2022-10-26T07:46:16.169Z"
   },
   {
    "duration": 8,
    "start_time": "2022-10-26T07:46:16.183Z"
   },
   {
    "duration": 31,
    "start_time": "2022-10-26T07:46:16.193Z"
   },
   {
    "duration": 25,
    "start_time": "2022-10-26T07:46:16.227Z"
   },
   {
    "duration": 19,
    "start_time": "2022-10-26T07:46:16.254Z"
   },
   {
    "duration": 10,
    "start_time": "2022-10-26T07:46:16.275Z"
   },
   {
    "duration": 8,
    "start_time": "2022-10-26T07:46:16.288Z"
   },
   {
    "duration": 28,
    "start_time": "2022-10-26T07:46:16.298Z"
   },
   {
    "duration": 13,
    "start_time": "2022-10-26T07:46:16.328Z"
   },
   {
    "duration": 6,
    "start_time": "2022-10-26T07:46:16.343Z"
   },
   {
    "duration": 9,
    "start_time": "2022-10-26T07:46:16.350Z"
   },
   {
    "duration": 9,
    "start_time": "2022-10-26T07:46:16.361Z"
   },
   {
    "duration": 11,
    "start_time": "2022-10-26T07:46:16.371Z"
   },
   {
    "duration": 131,
    "start_time": "2022-10-26T07:46:16.384Z"
   },
   {
    "duration": 434,
    "start_time": "2022-10-26T07:46:16.517Z"
   },
   {
    "duration": 5,
    "start_time": "2022-10-26T07:46:16.953Z"
   },
   {
    "duration": 6,
    "start_time": "2022-10-26T07:46:16.960Z"
   },
   {
    "duration": 14,
    "start_time": "2022-10-26T07:46:16.968Z"
   },
   {
    "duration": 76,
    "start_time": "2022-10-26T07:46:16.984Z"
   },
   {
    "duration": 4,
    "start_time": "2022-10-26T07:46:17.062Z"
   },
   {
    "duration": 15,
    "start_time": "2022-10-26T07:46:17.068Z"
   },
   {
    "duration": 15,
    "start_time": "2022-10-26T07:46:17.085Z"
   },
   {
    "duration": 22,
    "start_time": "2022-10-26T07:46:17.102Z"
   },
   {
    "duration": 42,
    "start_time": "2022-10-26T07:46:17.125Z"
   },
   {
    "duration": 4,
    "start_time": "2022-10-26T07:46:17.169Z"
   },
   {
    "duration": 6,
    "start_time": "2022-10-26T07:46:17.174Z"
   },
   {
    "duration": 12,
    "start_time": "2022-10-26T07:46:17.181Z"
   },
   {
    "duration": 39,
    "start_time": "2022-10-26T07:46:17.195Z"
   },
   {
    "duration": 42,
    "start_time": "2022-10-26T07:46:17.236Z"
   },
   {
    "duration": 4,
    "start_time": "2022-10-26T07:46:17.279Z"
   },
   {
    "duration": 5,
    "start_time": "2022-10-26T07:46:17.285Z"
   },
   {
    "duration": 38,
    "start_time": "2022-10-26T07:46:17.292Z"
   },
   {
    "duration": 7,
    "start_time": "2022-10-26T07:46:17.332Z"
   },
   {
    "duration": 6,
    "start_time": "2022-10-26T07:46:17.341Z"
   },
   {
    "duration": 8,
    "start_time": "2022-10-26T07:46:17.349Z"
   },
   {
    "duration": 5,
    "start_time": "2022-10-26T07:46:17.359Z"
   },
   {
    "duration": 6,
    "start_time": "2022-10-26T07:46:17.366Z"
   },
   {
    "duration": 16,
    "start_time": "2022-10-26T07:46:17.374Z"
   },
   {
    "duration": 36,
    "start_time": "2022-10-26T07:46:17.392Z"
   },
   {
    "duration": 8,
    "start_time": "2022-10-26T07:46:17.430Z"
   },
   {
    "duration": 18,
    "start_time": "2022-10-26T07:46:17.440Z"
   },
   {
    "duration": 550,
    "start_time": "2022-10-26T07:46:17.460Z"
   },
   {
    "duration": 23,
    "start_time": "2022-10-26T07:46:18.012Z"
   },
   {
    "duration": 4,
    "start_time": "2022-10-26T07:46:18.042Z"
   },
   {
    "duration": 1591,
    "start_time": "2022-10-26T07:46:18.048Z"
   },
   {
    "duration": 817,
    "start_time": "2022-10-26T07:46:19.640Z"
   },
   {
    "duration": 1469,
    "start_time": "2022-10-26T07:46:20.459Z"
   },
   {
    "duration": 2009,
    "start_time": "2022-10-26T07:46:21.930Z"
   },
   {
    "duration": 1799,
    "start_time": "2022-10-26T07:46:23.940Z"
   },
   {
    "duration": 2878,
    "start_time": "2022-10-26T07:46:25.741Z"
   },
   {
    "duration": 4,
    "start_time": "2022-10-26T08:28:25.952Z"
   },
   {
    "duration": 764,
    "start_time": "2022-10-26T08:28:25.958Z"
   },
   {
    "duration": 16,
    "start_time": "2022-10-26T08:28:26.725Z"
   },
   {
    "duration": 18,
    "start_time": "2022-10-26T08:28:26.743Z"
   },
   {
    "duration": 23,
    "start_time": "2022-10-26T08:28:26.763Z"
   },
   {
    "duration": 93,
    "start_time": "2022-10-26T08:28:26.787Z"
   },
   {
    "duration": 244,
    "start_time": "2022-10-26T08:28:26.882Z"
   },
   {
    "duration": 68,
    "start_time": "2022-10-26T08:28:27.130Z"
   },
   {
    "duration": 16,
    "start_time": "2022-10-26T08:28:27.200Z"
   },
   {
    "duration": 11,
    "start_time": "2022-10-26T08:28:27.223Z"
   },
   {
    "duration": 147,
    "start_time": "2022-10-26T08:28:27.237Z"
   },
   {
    "duration": 69,
    "start_time": "2022-10-26T08:28:27.386Z"
   },
   {
    "duration": 19,
    "start_time": "2022-10-26T08:28:27.459Z"
   },
   {
    "duration": 28,
    "start_time": "2022-10-26T08:28:27.483Z"
   },
   {
    "duration": 32,
    "start_time": "2022-10-26T08:28:27.513Z"
   },
   {
    "duration": 8,
    "start_time": "2022-10-26T08:28:27.547Z"
   },
   {
    "duration": 14,
    "start_time": "2022-10-26T08:28:27.557Z"
   },
   {
    "duration": 28,
    "start_time": "2022-10-26T08:28:27.572Z"
   },
   {
    "duration": 40,
    "start_time": "2022-10-26T08:28:27.602Z"
   },
   {
    "duration": 25,
    "start_time": "2022-10-26T08:28:27.644Z"
   },
   {
    "duration": 18,
    "start_time": "2022-10-26T08:28:27.671Z"
   },
   {
    "duration": 41,
    "start_time": "2022-10-26T08:28:27.691Z"
   },
   {
    "duration": 10,
    "start_time": "2022-10-26T08:28:27.734Z"
   },
   {
    "duration": 27,
    "start_time": "2022-10-26T08:28:27.746Z"
   },
   {
    "duration": 36,
    "start_time": "2022-10-26T08:28:27.775Z"
   },
   {
    "duration": 12,
    "start_time": "2022-10-26T08:28:27.813Z"
   },
   {
    "duration": 22,
    "start_time": "2022-10-26T08:28:27.828Z"
   },
   {
    "duration": 29,
    "start_time": "2022-10-26T08:28:27.852Z"
   },
   {
    "duration": 40,
    "start_time": "2022-10-26T08:28:27.883Z"
   },
   {
    "duration": 22,
    "start_time": "2022-10-26T08:28:27.925Z"
   },
   {
    "duration": 15,
    "start_time": "2022-10-26T08:28:27.949Z"
   },
   {
    "duration": 27,
    "start_time": "2022-10-26T08:28:27.966Z"
   },
   {
    "duration": 25,
    "start_time": "2022-10-26T08:28:27.995Z"
   },
   {
    "duration": 30,
    "start_time": "2022-10-26T08:28:28.021Z"
   },
   {
    "duration": 21,
    "start_time": "2022-10-26T08:28:28.052Z"
   },
   {
    "duration": 15,
    "start_time": "2022-10-26T08:28:28.075Z"
   },
   {
    "duration": 23,
    "start_time": "2022-10-26T08:28:28.092Z"
   },
   {
    "duration": 30,
    "start_time": "2022-10-26T08:28:28.117Z"
   },
   {
    "duration": 41,
    "start_time": "2022-10-26T08:28:28.149Z"
   },
   {
    "duration": 512,
    "start_time": "2022-10-26T08:28:28.192Z"
   },
   {
    "duration": 5,
    "start_time": "2022-10-26T08:28:28.709Z"
   },
   {
    "duration": 9,
    "start_time": "2022-10-26T08:28:28.725Z"
   },
   {
    "duration": 30,
    "start_time": "2022-10-26T08:28:28.736Z"
   },
   {
    "duration": 52,
    "start_time": "2022-10-26T08:28:28.768Z"
   },
   {
    "duration": 7,
    "start_time": "2022-10-26T08:28:28.831Z"
   },
   {
    "duration": 28,
    "start_time": "2022-10-26T08:28:28.840Z"
   },
   {
    "duration": 41,
    "start_time": "2022-10-26T08:28:28.870Z"
   },
   {
    "duration": 44,
    "start_time": "2022-10-26T08:28:28.913Z"
   },
   {
    "duration": 64,
    "start_time": "2022-10-26T08:28:28.959Z"
   },
   {
    "duration": 5,
    "start_time": "2022-10-26T08:28:29.026Z"
   },
   {
    "duration": 36,
    "start_time": "2022-10-26T08:28:29.034Z"
   },
   {
    "duration": 30,
    "start_time": "2022-10-26T08:28:29.072Z"
   },
   {
    "duration": 41,
    "start_time": "2022-10-26T08:28:29.105Z"
   },
   {
    "duration": 56,
    "start_time": "2022-10-26T08:28:29.148Z"
   },
   {
    "duration": 19,
    "start_time": "2022-10-26T08:28:29.207Z"
   },
   {
    "duration": 33,
    "start_time": "2022-10-26T08:28:29.228Z"
   },
   {
    "duration": 16,
    "start_time": "2022-10-26T08:28:29.263Z"
   },
   {
    "duration": 36,
    "start_time": "2022-10-26T08:28:29.282Z"
   },
   {
    "duration": 21,
    "start_time": "2022-10-26T08:28:29.321Z"
   },
   {
    "duration": 19,
    "start_time": "2022-10-26T08:28:29.344Z"
   },
   {
    "duration": 14,
    "start_time": "2022-10-26T08:28:29.365Z"
   },
   {
    "duration": 21,
    "start_time": "2022-10-26T08:28:29.381Z"
   },
   {
    "duration": 28,
    "start_time": "2022-10-26T08:28:29.405Z"
   },
   {
    "duration": 30,
    "start_time": "2022-10-26T08:28:29.435Z"
   },
   {
    "duration": 15,
    "start_time": "2022-10-26T08:28:29.467Z"
   },
   {
    "duration": 38,
    "start_time": "2022-10-26T08:28:29.484Z"
   },
   {
    "duration": 627,
    "start_time": "2022-10-26T08:28:29.524Z"
   },
   {
    "duration": 18,
    "start_time": "2022-10-26T08:28:30.153Z"
   },
   {
    "duration": 19,
    "start_time": "2022-10-26T08:28:30.173Z"
   },
   {
    "duration": 2156,
    "start_time": "2022-10-26T08:28:30.194Z"
   },
   {
    "duration": 1208,
    "start_time": "2022-10-26T08:28:32.352Z"
   },
   {
    "duration": 2156,
    "start_time": "2022-10-26T08:28:33.561Z"
   },
   {
    "duration": 2371,
    "start_time": "2022-10-26T08:28:35.724Z"
   },
   {
    "duration": 1938,
    "start_time": "2022-10-26T08:28:38.097Z"
   },
   {
    "duration": 2873,
    "start_time": "2022-10-26T08:28:40.038Z"
   },
   {
    "duration": 1295,
    "start_time": "2022-10-26T12:06:32.448Z"
   },
   {
    "duration": 2321,
    "start_time": "2022-10-26T12:06:33.745Z"
   },
   {
    "duration": 18,
    "start_time": "2022-10-26T12:06:36.068Z"
   },
   {
    "duration": 20,
    "start_time": "2022-10-26T12:06:36.091Z"
   },
   {
    "duration": 10,
    "start_time": "2022-10-26T12:06:36.113Z"
   },
   {
    "duration": 54,
    "start_time": "2022-10-26T12:06:36.125Z"
   },
   {
    "duration": 242,
    "start_time": "2022-10-26T12:06:36.180Z"
   },
   {
    "duration": 62,
    "start_time": "2022-10-26T12:06:36.424Z"
   },
   {
    "duration": 26,
    "start_time": "2022-10-26T12:06:36.487Z"
   },
   {
    "duration": 9,
    "start_time": "2022-10-26T12:06:36.515Z"
   },
   {
    "duration": 181,
    "start_time": "2022-10-26T12:06:36.525Z"
   },
   {
    "duration": 42,
    "start_time": "2022-10-26T12:06:36.709Z"
   },
   {
    "duration": 11,
    "start_time": "2022-10-26T12:06:36.753Z"
   },
   {
    "duration": 20,
    "start_time": "2022-10-26T12:06:36.777Z"
   },
   {
    "duration": 13,
    "start_time": "2022-10-26T12:06:36.799Z"
   },
   {
    "duration": 7,
    "start_time": "2022-10-26T12:06:36.814Z"
   },
   {
    "duration": 4,
    "start_time": "2022-10-26T12:06:36.822Z"
   },
   {
    "duration": 7,
    "start_time": "2022-10-26T12:06:36.828Z"
   },
   {
    "duration": 19,
    "start_time": "2022-10-26T12:06:36.837Z"
   },
   {
    "duration": 36,
    "start_time": "2022-10-26T12:06:36.858Z"
   },
   {
    "duration": 14,
    "start_time": "2022-10-26T12:06:36.896Z"
   },
   {
    "duration": 14,
    "start_time": "2022-10-26T12:06:36.912Z"
   },
   {
    "duration": 8,
    "start_time": "2022-10-26T12:06:36.927Z"
   },
   {
    "duration": 6,
    "start_time": "2022-10-26T12:06:36.937Z"
   },
   {
    "duration": 8,
    "start_time": "2022-10-26T12:06:36.945Z"
   },
   {
    "duration": 3,
    "start_time": "2022-10-26T12:06:36.954Z"
   },
   {
    "duration": 36,
    "start_time": "2022-10-26T12:06:36.959Z"
   },
   {
    "duration": 9,
    "start_time": "2022-10-26T12:06:36.996Z"
   },
   {
    "duration": 15,
    "start_time": "2022-10-26T12:06:37.007Z"
   },
   {
    "duration": 9,
    "start_time": "2022-10-26T12:06:37.024Z"
   },
   {
    "duration": 7,
    "start_time": "2022-10-26T12:06:37.034Z"
   },
   {
    "duration": 12,
    "start_time": "2022-10-26T12:06:37.043Z"
   },
   {
    "duration": 8,
    "start_time": "2022-10-26T12:06:37.057Z"
   },
   {
    "duration": 29,
    "start_time": "2022-10-26T12:06:37.067Z"
   },
   {
    "duration": 8,
    "start_time": "2022-10-26T12:06:37.099Z"
   },
   {
    "duration": 10,
    "start_time": "2022-10-26T12:06:37.109Z"
   },
   {
    "duration": 14,
    "start_time": "2022-10-26T12:06:37.121Z"
   },
   {
    "duration": 14,
    "start_time": "2022-10-26T12:06:37.137Z"
   },
   {
    "duration": 41,
    "start_time": "2022-10-26T12:06:37.153Z"
   },
   {
    "duration": 410,
    "start_time": "2022-10-26T12:06:37.197Z"
   },
   {
    "duration": 5,
    "start_time": "2022-10-26T12:06:37.611Z"
   },
   {
    "duration": 26,
    "start_time": "2022-10-26T12:06:37.617Z"
   },
   {
    "duration": 45,
    "start_time": "2022-10-26T12:06:37.645Z"
   },
   {
    "duration": 90,
    "start_time": "2022-10-26T12:06:37.693Z"
   },
   {
    "duration": 6,
    "start_time": "2022-10-26T12:06:37.789Z"
   },
   {
    "duration": 33,
    "start_time": "2022-10-26T12:06:37.797Z"
   },
   {
    "duration": 25,
    "start_time": "2022-10-26T12:06:37.832Z"
   },
   {
    "duration": 29,
    "start_time": "2022-10-26T12:06:37.859Z"
   },
   {
    "duration": 76,
    "start_time": "2022-10-26T12:06:37.889Z"
   },
   {
    "duration": 4,
    "start_time": "2022-10-26T12:06:37.967Z"
   },
   {
    "duration": 41,
    "start_time": "2022-10-26T12:06:37.973Z"
   },
   {
    "duration": 21,
    "start_time": "2022-10-26T12:06:38.016Z"
   },
   {
    "duration": 16,
    "start_time": "2022-10-26T12:06:38.038Z"
   },
   {
    "duration": 62,
    "start_time": "2022-10-26T12:06:38.056Z"
   },
   {
    "duration": 3,
    "start_time": "2022-10-26T12:06:38.120Z"
   },
   {
    "duration": 6,
    "start_time": "2022-10-26T12:06:38.125Z"
   },
   {
    "duration": 17,
    "start_time": "2022-10-26T12:06:38.132Z"
   },
   {
    "duration": 6,
    "start_time": "2022-10-26T12:06:38.151Z"
   },
   {
    "duration": 22,
    "start_time": "2022-10-26T12:06:38.158Z"
   },
   {
    "duration": 4,
    "start_time": "2022-10-26T12:06:38.182Z"
   },
   {
    "duration": 7,
    "start_time": "2022-10-26T12:06:38.187Z"
   },
   {
    "duration": 14,
    "start_time": "2022-10-26T12:06:38.195Z"
   },
   {
    "duration": 13,
    "start_time": "2022-10-26T12:06:38.210Z"
   },
   {
    "duration": 7,
    "start_time": "2022-10-26T12:06:38.224Z"
   },
   {
    "duration": 12,
    "start_time": "2022-10-26T12:06:38.233Z"
   },
   {
    "duration": 16,
    "start_time": "2022-10-26T12:06:38.246Z"
   },
   {
    "duration": 630,
    "start_time": "2022-10-26T12:06:38.263Z"
   },
   {
    "duration": 25,
    "start_time": "2022-10-26T12:06:38.895Z"
   },
   {
    "duration": 3,
    "start_time": "2022-10-26T12:06:38.922Z"
   },
   {
    "duration": 1726,
    "start_time": "2022-10-26T12:06:38.926Z"
   },
   {
    "duration": 122,
    "start_time": "2022-10-26T12:06:40.653Z"
   },
   {
    "duration": 0,
    "start_time": "2022-10-26T12:06:40.779Z"
   },
   {
    "duration": 0,
    "start_time": "2022-10-26T12:06:40.780Z"
   },
   {
    "duration": 0,
    "start_time": "2022-10-26T12:06:40.781Z"
   },
   {
    "duration": 0,
    "start_time": "2022-10-26T12:06:40.781Z"
   },
   {
    "duration": 8,
    "start_time": "2022-10-26T12:20:16.275Z"
   },
   {
    "duration": 622,
    "start_time": "2022-10-26T12:20:16.286Z"
   },
   {
    "duration": 12,
    "start_time": "2022-10-26T12:20:16.911Z"
   },
   {
    "duration": 14,
    "start_time": "2022-10-26T12:20:16.925Z"
   },
   {
    "duration": 20,
    "start_time": "2022-10-26T12:20:16.944Z"
   },
   {
    "duration": 72,
    "start_time": "2022-10-26T12:20:16.967Z"
   },
   {
    "duration": 236,
    "start_time": "2022-10-26T12:20:18.415Z"
   },
   {
    "duration": 75,
    "start_time": "2022-10-26T12:20:18.653Z"
   },
   {
    "duration": 20,
    "start_time": "2022-10-26T12:20:18.729Z"
   },
   {
    "duration": 13,
    "start_time": "2022-10-26T12:20:18.750Z"
   },
   {
    "duration": 171,
    "start_time": "2022-10-26T12:20:18.765Z"
   },
   {
    "duration": 69,
    "start_time": "2022-10-26T12:20:18.938Z"
   },
   {
    "duration": 25,
    "start_time": "2022-10-26T12:20:19.009Z"
   },
   {
    "duration": 30,
    "start_time": "2022-10-26T12:20:19.036Z"
   },
   {
    "duration": 45,
    "start_time": "2022-10-26T12:20:19.068Z"
   },
   {
    "duration": 93,
    "start_time": "2022-10-26T12:20:19.115Z"
   },
   {
    "duration": 22,
    "start_time": "2022-10-26T12:20:19.210Z"
   },
   {
    "duration": 14,
    "start_time": "2022-10-26T12:20:19.234Z"
   },
   {
    "duration": 12,
    "start_time": "2022-10-26T12:20:19.250Z"
   },
   {
    "duration": 19,
    "start_time": "2022-10-26T12:20:19.266Z"
   },
   {
    "duration": 13,
    "start_time": "2022-10-26T12:20:19.289Z"
   },
   {
    "duration": 15,
    "start_time": "2022-10-26T12:20:19.304Z"
   },
   {
    "duration": 9,
    "start_time": "2022-10-26T12:20:19.321Z"
   },
   {
    "duration": 9,
    "start_time": "2022-10-26T12:20:19.332Z"
   },
   {
    "duration": 5,
    "start_time": "2022-10-26T12:20:19.343Z"
   },
   {
    "duration": 7,
    "start_time": "2022-10-26T12:20:19.350Z"
   },
   {
    "duration": 6,
    "start_time": "2022-10-26T12:20:19.358Z"
   },
   {
    "duration": 17,
    "start_time": "2022-10-26T12:20:19.377Z"
   },
   {
    "duration": 30,
    "start_time": "2022-10-26T12:20:19.401Z"
   },
   {
    "duration": 11,
    "start_time": "2022-10-26T12:20:19.433Z"
   },
   {
    "duration": 9,
    "start_time": "2022-10-26T12:20:19.445Z"
   },
   {
    "duration": 13,
    "start_time": "2022-10-26T12:20:19.456Z"
   },
   {
    "duration": 10,
    "start_time": "2022-10-26T12:20:19.470Z"
   },
   {
    "duration": 37,
    "start_time": "2022-10-26T12:20:19.482Z"
   },
   {
    "duration": 13,
    "start_time": "2022-10-26T12:20:19.521Z"
   },
   {
    "duration": 12,
    "start_time": "2022-10-26T12:20:19.536Z"
   },
   {
    "duration": 12,
    "start_time": "2022-10-26T12:20:19.550Z"
   },
   {
    "duration": 57,
    "start_time": "2022-10-26T12:20:19.564Z"
   },
   {
    "duration": 33,
    "start_time": "2022-10-26T12:20:19.623Z"
   },
   {
    "duration": 410,
    "start_time": "2022-10-26T12:20:19.657Z"
   },
   {
    "duration": 4,
    "start_time": "2022-10-26T12:20:20.069Z"
   },
   {
    "duration": 28,
    "start_time": "2022-10-26T12:20:20.077Z"
   },
   {
    "duration": 46,
    "start_time": "2022-10-26T12:20:20.107Z"
   },
   {
    "duration": 127,
    "start_time": "2022-10-26T12:20:20.155Z"
   },
   {
    "duration": 8,
    "start_time": "2022-10-26T12:20:20.284Z"
   },
   {
    "duration": 55,
    "start_time": "2022-10-26T12:20:20.293Z"
   },
   {
    "duration": 32,
    "start_time": "2022-10-26T12:20:20.352Z"
   },
   {
    "duration": 44,
    "start_time": "2022-10-26T12:20:20.387Z"
   },
   {
    "duration": 56,
    "start_time": "2022-10-26T12:20:20.432Z"
   },
   {
    "duration": 14,
    "start_time": "2022-10-26T12:20:20.490Z"
   },
   {
    "duration": 48,
    "start_time": "2022-10-26T12:20:20.506Z"
   },
   {
    "duration": 48,
    "start_time": "2022-10-26T12:20:20.556Z"
   },
   {
    "duration": 79,
    "start_time": "2022-10-26T12:20:20.605Z"
   },
   {
    "duration": 73,
    "start_time": "2022-10-26T12:20:20.686Z"
   },
   {
    "duration": 38,
    "start_time": "2022-10-26T12:20:20.761Z"
   },
   {
    "duration": 45,
    "start_time": "2022-10-26T12:20:20.803Z"
   },
   {
    "duration": 54,
    "start_time": "2022-10-26T12:20:20.850Z"
   },
   {
    "duration": 53,
    "start_time": "2022-10-26T12:20:20.906Z"
   },
   {
    "duration": 14,
    "start_time": "2022-10-26T12:20:20.960Z"
   },
   {
    "duration": 32,
    "start_time": "2022-10-26T12:20:20.975Z"
   },
   {
    "duration": 8,
    "start_time": "2022-10-26T12:20:21.008Z"
   },
   {
    "duration": 22,
    "start_time": "2022-10-26T12:20:21.018Z"
   },
   {
    "duration": 22,
    "start_time": "2022-10-26T12:20:21.042Z"
   },
   {
    "duration": 9,
    "start_time": "2022-10-26T12:20:21.066Z"
   },
   {
    "duration": 32,
    "start_time": "2022-10-26T12:20:21.076Z"
   },
   {
    "duration": 26,
    "start_time": "2022-10-26T12:20:21.110Z"
   },
   {
    "duration": 507,
    "start_time": "2022-10-26T12:20:21.138Z"
   },
   {
    "duration": 14,
    "start_time": "2022-10-26T12:20:21.647Z"
   },
   {
    "duration": 28,
    "start_time": "2022-10-26T12:20:21.663Z"
   },
   {
    "duration": 1527,
    "start_time": "2022-10-26T12:20:21.697Z"
   },
   {
    "duration": 10,
    "start_time": "2022-10-26T12:20:23.226Z"
   },
   {
    "duration": 0,
    "start_time": "2022-10-26T12:20:23.237Z"
   },
   {
    "duration": 0,
    "start_time": "2022-10-26T12:20:23.238Z"
   },
   {
    "duration": 0,
    "start_time": "2022-10-26T12:20:23.239Z"
   },
   {
    "duration": 0,
    "start_time": "2022-10-26T12:20:23.241Z"
   },
   {
    "duration": 1228,
    "start_time": "2022-10-26T17:20:34.556Z"
   },
   {
    "duration": 715,
    "start_time": "2022-10-26T17:20:35.786Z"
   },
   {
    "duration": 14,
    "start_time": "2022-10-26T17:20:36.503Z"
   },
   {
    "duration": 9,
    "start_time": "2022-10-26T17:20:36.519Z"
   },
   {
    "duration": 10,
    "start_time": "2022-10-26T17:20:36.529Z"
   },
   {
    "duration": 68,
    "start_time": "2022-10-26T17:20:36.541Z"
   },
   {
    "duration": 274,
    "start_time": "2022-10-26T17:20:36.612Z"
   },
   {
    "duration": 70,
    "start_time": "2022-10-26T17:20:36.888Z"
   },
   {
    "duration": 5,
    "start_time": "2022-10-26T17:20:36.959Z"
   },
   {
    "duration": 3,
    "start_time": "2022-10-26T17:20:36.967Z"
   },
   {
    "duration": 164,
    "start_time": "2022-10-26T17:20:36.971Z"
   },
   {
    "duration": 48,
    "start_time": "2022-10-26T17:20:37.137Z"
   },
   {
    "duration": 10,
    "start_time": "2022-10-26T17:20:37.186Z"
   },
   {
    "duration": 32,
    "start_time": "2022-10-26T17:20:37.197Z"
   },
   {
    "duration": 14,
    "start_time": "2022-10-26T17:20:37.231Z"
   },
   {
    "duration": 22,
    "start_time": "2022-10-26T17:20:37.246Z"
   },
   {
    "duration": 14,
    "start_time": "2022-10-26T17:20:37.270Z"
   },
   {
    "duration": 11,
    "start_time": "2022-10-26T17:20:37.286Z"
   },
   {
    "duration": 26,
    "start_time": "2022-10-26T17:20:37.299Z"
   },
   {
    "duration": 23,
    "start_time": "2022-10-26T17:20:37.327Z"
   },
   {
    "duration": 26,
    "start_time": "2022-10-26T17:20:37.351Z"
   },
   {
    "duration": 35,
    "start_time": "2022-10-26T17:20:37.379Z"
   },
   {
    "duration": 25,
    "start_time": "2022-10-26T17:20:37.416Z"
   },
   {
    "duration": 23,
    "start_time": "2022-10-26T17:20:37.443Z"
   },
   {
    "duration": 13,
    "start_time": "2022-10-26T17:20:37.468Z"
   },
   {
    "duration": 35,
    "start_time": "2022-10-26T17:20:37.483Z"
   },
   {
    "duration": 23,
    "start_time": "2022-10-26T17:20:37.520Z"
   },
   {
    "duration": 21,
    "start_time": "2022-10-26T17:20:37.548Z"
   },
   {
    "duration": 26,
    "start_time": "2022-10-26T17:20:37.571Z"
   },
   {
    "duration": 19,
    "start_time": "2022-10-26T17:20:37.599Z"
   },
   {
    "duration": 30,
    "start_time": "2022-10-26T17:20:37.620Z"
   },
   {
    "duration": 17,
    "start_time": "2022-10-26T17:20:37.652Z"
   },
   {
    "duration": 19,
    "start_time": "2022-10-26T17:20:37.671Z"
   },
   {
    "duration": 22,
    "start_time": "2022-10-26T17:20:37.692Z"
   },
   {
    "duration": 23,
    "start_time": "2022-10-26T17:20:37.716Z"
   },
   {
    "duration": 9,
    "start_time": "2022-10-26T17:20:37.741Z"
   },
   {
    "duration": 40,
    "start_time": "2022-10-26T17:20:37.751Z"
   },
   {
    "duration": 38,
    "start_time": "2022-10-26T17:20:37.793Z"
   },
   {
    "duration": 40,
    "start_time": "2022-10-26T17:20:37.833Z"
   },
   {
    "duration": 528,
    "start_time": "2022-10-26T17:20:37.875Z"
   },
   {
    "duration": 5,
    "start_time": "2022-10-26T17:20:38.405Z"
   },
   {
    "duration": 30,
    "start_time": "2022-10-26T17:20:38.412Z"
   },
   {
    "duration": 38,
    "start_time": "2022-10-26T17:20:38.443Z"
   },
   {
    "duration": 69,
    "start_time": "2022-10-26T17:20:38.482Z"
   },
   {
    "duration": 4,
    "start_time": "2022-10-26T17:20:38.553Z"
   },
   {
    "duration": 36,
    "start_time": "2022-10-26T17:20:38.558Z"
   },
   {
    "duration": 43,
    "start_time": "2022-10-26T17:20:38.596Z"
   },
   {
    "duration": 31,
    "start_time": "2022-10-26T17:20:38.641Z"
   },
   {
    "duration": 66,
    "start_time": "2022-10-26T17:20:38.674Z"
   },
   {
    "duration": 3,
    "start_time": "2022-10-26T17:20:38.742Z"
   },
   {
    "duration": 23,
    "start_time": "2022-10-26T17:20:38.747Z"
   },
   {
    "duration": 27,
    "start_time": "2022-10-26T17:20:38.772Z"
   },
   {
    "duration": 29,
    "start_time": "2022-10-26T17:20:38.801Z"
   },
   {
    "duration": 60,
    "start_time": "2022-10-26T17:20:38.832Z"
   },
   {
    "duration": 5,
    "start_time": "2022-10-26T17:20:38.894Z"
   },
   {
    "duration": 15,
    "start_time": "2022-10-26T17:20:38.901Z"
   },
   {
    "duration": 37,
    "start_time": "2022-10-26T17:20:38.918Z"
   },
   {
    "duration": 19,
    "start_time": "2022-10-26T17:20:38.957Z"
   },
   {
    "duration": 23,
    "start_time": "2022-10-26T17:20:38.978Z"
   },
   {
    "duration": 35,
    "start_time": "2022-10-26T17:20:39.003Z"
   },
   {
    "duration": 17,
    "start_time": "2022-10-26T17:20:39.040Z"
   },
   {
    "duration": 33,
    "start_time": "2022-10-26T17:20:39.059Z"
   },
   {
    "duration": 37,
    "start_time": "2022-10-26T17:20:39.093Z"
   },
   {
    "duration": 22,
    "start_time": "2022-10-26T17:20:39.132Z"
   },
   {
    "duration": 39,
    "start_time": "2022-10-26T17:20:39.156Z"
   },
   {
    "duration": 41,
    "start_time": "2022-10-26T17:20:39.197Z"
   },
   {
    "duration": 555,
    "start_time": "2022-10-26T17:20:39.239Z"
   },
   {
    "duration": 18,
    "start_time": "2022-10-26T17:20:39.795Z"
   },
   {
    "duration": 12,
    "start_time": "2022-10-26T17:20:39.814Z"
   },
   {
    "duration": 1535,
    "start_time": "2022-10-26T17:20:39.830Z"
   },
   {
    "duration": 111,
    "start_time": "2022-10-26T17:20:41.367Z"
   },
   {
    "duration": 0,
    "start_time": "2022-10-26T17:20:41.480Z"
   },
   {
    "duration": 0,
    "start_time": "2022-10-26T17:20:41.481Z"
   },
   {
    "duration": 0,
    "start_time": "2022-10-26T17:20:41.482Z"
   },
   {
    "duration": 0,
    "start_time": "2022-10-26T17:20:41.483Z"
   },
   {
    "duration": 9,
    "start_time": "2022-10-26T17:26:24.170Z"
   },
   {
    "duration": 7,
    "start_time": "2022-10-26T18:54:36.782Z"
   },
   {
    "duration": 41,
    "start_time": "2022-10-26T18:54:37.444Z"
   },
   {
    "duration": 1236,
    "start_time": "2022-10-26T18:54:42.398Z"
   },
   {
    "duration": 1045,
    "start_time": "2022-10-26T18:54:43.636Z"
   },
   {
    "duration": 11,
    "start_time": "2022-10-26T18:54:44.683Z"
   },
   {
    "duration": 12,
    "start_time": "2022-10-26T18:54:44.696Z"
   },
   {
    "duration": 9,
    "start_time": "2022-10-26T18:54:44.709Z"
   },
   {
    "duration": 63,
    "start_time": "2022-10-26T18:54:44.719Z"
   },
   {
    "duration": 218,
    "start_time": "2022-10-26T18:54:44.783Z"
   },
   {
    "duration": 60,
    "start_time": "2022-10-26T18:54:45.003Z"
   },
   {
    "duration": 4,
    "start_time": "2022-10-26T18:54:45.064Z"
   },
   {
    "duration": 4,
    "start_time": "2022-10-26T18:54:45.070Z"
   },
   {
    "duration": 147,
    "start_time": "2022-10-26T18:54:45.075Z"
   },
   {
    "duration": 51,
    "start_time": "2022-10-26T18:54:45.224Z"
   },
   {
    "duration": 9,
    "start_time": "2022-10-26T18:54:45.277Z"
   },
   {
    "duration": 12,
    "start_time": "2022-10-26T18:54:45.288Z"
   },
   {
    "duration": 11,
    "start_time": "2022-10-26T18:54:45.302Z"
   },
   {
    "duration": 7,
    "start_time": "2022-10-26T18:54:45.334Z"
   },
   {
    "duration": 5,
    "start_time": "2022-10-26T18:54:45.343Z"
   },
   {
    "duration": 7,
    "start_time": "2022-10-26T18:54:45.349Z"
   },
   {
    "duration": 14,
    "start_time": "2022-10-26T18:54:45.358Z"
   },
   {
    "duration": 14,
    "start_time": "2022-10-26T18:54:45.373Z"
   },
   {
    "duration": 7,
    "start_time": "2022-10-26T18:54:45.389Z"
   },
   {
    "duration": 36,
    "start_time": "2022-10-26T18:54:45.398Z"
   },
   {
    "duration": 6,
    "start_time": "2022-10-26T18:54:45.435Z"
   },
   {
    "duration": 7,
    "start_time": "2022-10-26T18:54:45.442Z"
   },
   {
    "duration": 7,
    "start_time": "2022-10-26T18:54:45.451Z"
   },
   {
    "duration": 5,
    "start_time": "2022-10-26T18:54:45.460Z"
   },
   {
    "duration": 6,
    "start_time": "2022-10-26T18:54:45.467Z"
   },
   {
    "duration": 5,
    "start_time": "2022-10-26T18:54:45.477Z"
   },
   {
    "duration": 12,
    "start_time": "2022-10-26T18:54:45.483Z"
   },
   {
    "duration": 37,
    "start_time": "2022-10-26T18:54:45.497Z"
   },
   {
    "duration": 6,
    "start_time": "2022-10-26T18:54:45.536Z"
   },
   {
    "duration": 10,
    "start_time": "2022-10-26T18:54:45.543Z"
   },
   {
    "duration": 8,
    "start_time": "2022-10-26T18:54:45.555Z"
   },
   {
    "duration": 11,
    "start_time": "2022-10-26T18:54:45.565Z"
   },
   {
    "duration": 7,
    "start_time": "2022-10-26T18:54:45.578Z"
   },
   {
    "duration": 9,
    "start_time": "2022-10-26T18:54:45.586Z"
   },
   {
    "duration": 11,
    "start_time": "2022-10-26T18:54:45.597Z"
   },
   {
    "duration": 32,
    "start_time": "2022-10-26T18:54:45.609Z"
   },
   {
    "duration": 25,
    "start_time": "2022-10-26T18:54:45.642Z"
   },
   {
    "duration": 413,
    "start_time": "2022-10-26T18:54:45.669Z"
   },
   {
    "duration": 6,
    "start_time": "2022-10-26T18:54:46.084Z"
   },
   {
    "duration": 6,
    "start_time": "2022-10-26T18:54:46.092Z"
   },
   {
    "duration": 14,
    "start_time": "2022-10-26T18:54:46.100Z"
   },
   {
    "duration": 67,
    "start_time": "2022-10-26T18:54:46.116Z"
   },
   {
    "duration": 3,
    "start_time": "2022-10-26T18:54:46.185Z"
   },
   {
    "duration": 6,
    "start_time": "2022-10-26T18:54:46.190Z"
   },
   {
    "duration": 13,
    "start_time": "2022-10-26T18:54:46.198Z"
   },
   {
    "duration": 26,
    "start_time": "2022-10-26T18:54:46.212Z"
   },
   {
    "duration": 37,
    "start_time": "2022-10-26T18:54:46.240Z"
   },
   {
    "duration": 4,
    "start_time": "2022-10-26T18:54:46.278Z"
   },
   {
    "duration": 6,
    "start_time": "2022-10-26T18:54:46.284Z"
   },
   {
    "duration": 15,
    "start_time": "2022-10-26T18:54:46.292Z"
   },
   {
    "duration": 36,
    "start_time": "2022-10-26T18:54:46.309Z"
   },
   {
    "duration": 48,
    "start_time": "2022-10-26T18:54:46.346Z"
   },
   {
    "duration": 4,
    "start_time": "2022-10-26T18:54:46.397Z"
   },
   {
    "duration": 14,
    "start_time": "2022-10-26T18:54:46.403Z"
   },
   {
    "duration": 24,
    "start_time": "2022-10-26T18:54:46.418Z"
   },
   {
    "duration": 9,
    "start_time": "2022-10-26T18:54:46.445Z"
   },
   {
    "duration": 19,
    "start_time": "2022-10-26T18:54:46.456Z"
   },
   {
    "duration": 13,
    "start_time": "2022-10-26T18:54:46.477Z"
   },
   {
    "duration": 18,
    "start_time": "2022-10-26T18:54:46.493Z"
   },
   {
    "duration": 7,
    "start_time": "2022-10-26T18:54:46.514Z"
   },
   {
    "duration": 23,
    "start_time": "2022-10-26T18:54:46.523Z"
   },
   {
    "duration": 12,
    "start_time": "2022-10-26T18:54:46.547Z"
   },
   {
    "duration": 14,
    "start_time": "2022-10-26T18:54:46.561Z"
   },
   {
    "duration": 26,
    "start_time": "2022-10-26T18:54:46.577Z"
   },
   {
    "duration": 536,
    "start_time": "2022-10-26T18:54:46.605Z"
   },
   {
    "duration": 15,
    "start_time": "2022-10-26T18:54:47.143Z"
   },
   {
    "duration": 5,
    "start_time": "2022-10-26T18:54:47.159Z"
   },
   {
    "duration": 1459,
    "start_time": "2022-10-26T18:54:47.165Z"
   },
   {
    "duration": 7,
    "start_time": "2022-10-26T18:54:48.626Z"
   },
   {
    "duration": 154,
    "start_time": "2022-10-26T18:54:48.635Z"
   },
   {
    "duration": 0,
    "start_time": "2022-10-26T18:54:48.791Z"
   },
   {
    "duration": 0,
    "start_time": "2022-10-26T18:54:48.792Z"
   },
   {
    "duration": 0,
    "start_time": "2022-10-26T18:54:48.794Z"
   },
   {
    "duration": 0,
    "start_time": "2022-10-26T18:54:48.800Z"
   },
   {
    "duration": 1520,
    "start_time": "2022-10-26T18:55:01.730Z"
   },
   {
    "duration": 608,
    "start_time": "2022-10-26T18:55:03.252Z"
   },
   {
    "duration": 12,
    "start_time": "2022-10-26T18:55:03.862Z"
   },
   {
    "duration": 32,
    "start_time": "2022-10-26T18:55:03.876Z"
   },
   {
    "duration": 16,
    "start_time": "2022-10-26T18:55:03.910Z"
   },
   {
    "duration": 80,
    "start_time": "2022-10-26T18:55:03.928Z"
   },
   {
    "duration": 231,
    "start_time": "2022-10-26T18:55:04.010Z"
   },
   {
    "duration": 59,
    "start_time": "2022-10-26T18:55:04.243Z"
   },
   {
    "duration": 13,
    "start_time": "2022-10-26T18:55:04.303Z"
   },
   {
    "duration": 18,
    "start_time": "2022-10-26T18:55:04.318Z"
   },
   {
    "duration": 134,
    "start_time": "2022-10-26T18:55:04.338Z"
   },
   {
    "duration": 44,
    "start_time": "2022-10-26T18:55:04.474Z"
   },
   {
    "duration": 20,
    "start_time": "2022-10-26T18:55:04.520Z"
   },
   {
    "duration": 22,
    "start_time": "2022-10-26T18:55:04.542Z"
   },
   {
    "duration": 12,
    "start_time": "2022-10-26T18:55:04.566Z"
   },
   {
    "duration": 6,
    "start_time": "2022-10-26T18:55:04.580Z"
   },
   {
    "duration": 6,
    "start_time": "2022-10-26T18:55:04.588Z"
   },
   {
    "duration": 6,
    "start_time": "2022-10-26T18:55:04.595Z"
   },
   {
    "duration": 38,
    "start_time": "2022-10-26T18:55:04.603Z"
   },
   {
    "duration": 15,
    "start_time": "2022-10-26T18:55:04.642Z"
   },
   {
    "duration": 9,
    "start_time": "2022-10-26T18:55:04.658Z"
   },
   {
    "duration": 14,
    "start_time": "2022-10-26T18:55:04.669Z"
   },
   {
    "duration": 8,
    "start_time": "2022-10-26T18:55:04.685Z"
   },
   {
    "duration": 11,
    "start_time": "2022-10-26T18:55:04.694Z"
   },
   {
    "duration": 4,
    "start_time": "2022-10-26T18:55:04.733Z"
   },
   {
    "duration": 6,
    "start_time": "2022-10-26T18:55:04.739Z"
   },
   {
    "duration": 8,
    "start_time": "2022-10-26T18:55:04.746Z"
   },
   {
    "duration": 7,
    "start_time": "2022-10-26T18:55:04.758Z"
   },
   {
    "duration": 13,
    "start_time": "2022-10-26T18:55:04.766Z"
   },
   {
    "duration": 15,
    "start_time": "2022-10-26T18:55:04.781Z"
   },
   {
    "duration": 13,
    "start_time": "2022-10-26T18:55:04.798Z"
   },
   {
    "duration": 24,
    "start_time": "2022-10-26T18:55:04.813Z"
   },
   {
    "duration": 16,
    "start_time": "2022-10-26T18:55:04.839Z"
   },
   {
    "duration": 12,
    "start_time": "2022-10-26T18:55:04.857Z"
   },
   {
    "duration": 7,
    "start_time": "2022-10-26T18:55:04.871Z"
   },
   {
    "duration": 12,
    "start_time": "2022-10-26T18:55:04.879Z"
   },
   {
    "duration": 10,
    "start_time": "2022-10-26T18:55:04.892Z"
   },
   {
    "duration": 10,
    "start_time": "2022-10-26T18:55:04.903Z"
   },
   {
    "duration": 39,
    "start_time": "2022-10-26T18:55:04.914Z"
   },
   {
    "duration": 403,
    "start_time": "2022-10-26T18:55:04.954Z"
   },
   {
    "duration": 4,
    "start_time": "2022-10-26T18:55:05.359Z"
   },
   {
    "duration": 7,
    "start_time": "2022-10-26T18:55:05.365Z"
   },
   {
    "duration": 15,
    "start_time": "2022-10-26T18:55:05.373Z"
   },
   {
    "duration": 77,
    "start_time": "2022-10-26T18:55:05.389Z"
   },
   {
    "duration": 3,
    "start_time": "2022-10-26T18:55:05.468Z"
   },
   {
    "duration": 13,
    "start_time": "2022-10-26T18:55:05.473Z"
   },
   {
    "duration": 13,
    "start_time": "2022-10-26T18:55:05.487Z"
   },
   {
    "duration": 16,
    "start_time": "2022-10-26T18:55:05.501Z"
   },
   {
    "duration": 49,
    "start_time": "2022-10-26T18:55:05.519Z"
   },
   {
    "duration": 3,
    "start_time": "2022-10-26T18:55:05.570Z"
   },
   {
    "duration": 13,
    "start_time": "2022-10-26T18:55:05.575Z"
   },
   {
    "duration": 14,
    "start_time": "2022-10-26T18:55:05.589Z"
   },
   {
    "duration": 15,
    "start_time": "2022-10-26T18:55:05.604Z"
   },
   {
    "duration": 46,
    "start_time": "2022-10-26T18:55:05.621Z"
   },
   {
    "duration": 4,
    "start_time": "2022-10-26T18:55:05.669Z"
   },
   {
    "duration": 9,
    "start_time": "2022-10-26T18:55:05.675Z"
   },
   {
    "duration": 15,
    "start_time": "2022-10-26T18:55:05.686Z"
   },
   {
    "duration": 9,
    "start_time": "2022-10-26T18:55:05.703Z"
   },
   {
    "duration": 20,
    "start_time": "2022-10-26T18:55:05.714Z"
   },
   {
    "duration": 6,
    "start_time": "2022-10-26T18:55:05.736Z"
   },
   {
    "duration": 8,
    "start_time": "2022-10-26T18:55:05.744Z"
   },
   {
    "duration": 8,
    "start_time": "2022-10-26T18:55:05.754Z"
   },
   {
    "duration": 16,
    "start_time": "2022-10-26T18:55:05.764Z"
   },
   {
    "duration": 19,
    "start_time": "2022-10-26T18:55:05.782Z"
   },
   {
    "duration": 15,
    "start_time": "2022-10-26T18:55:05.802Z"
   },
   {
    "duration": 20,
    "start_time": "2022-10-26T18:55:05.819Z"
   },
   {
    "duration": 687,
    "start_time": "2022-10-26T18:55:05.842Z"
   },
   {
    "duration": 19,
    "start_time": "2022-10-26T18:55:06.531Z"
   },
   {
    "duration": 3,
    "start_time": "2022-10-26T18:55:06.552Z"
   },
   {
    "duration": 1457,
    "start_time": "2022-10-26T18:55:06.556Z"
   },
   {
    "duration": 106,
    "start_time": "2022-10-26T18:55:08.015Z"
   },
   {
    "duration": 0,
    "start_time": "2022-10-26T18:55:08.122Z"
   },
   {
    "duration": 0,
    "start_time": "2022-10-26T18:55:08.123Z"
   },
   {
    "duration": 0,
    "start_time": "2022-10-26T18:55:08.124Z"
   },
   {
    "duration": 0,
    "start_time": "2022-10-26T18:55:08.125Z"
   },
   {
    "duration": 8,
    "start_time": "2022-10-26T18:55:49.164Z"
   },
   {
    "duration": 12,
    "start_time": "2022-10-26T18:55:51.353Z"
   },
   {
    "duration": 22,
    "start_time": "2022-10-26T19:02:29.055Z"
   },
   {
    "duration": 1947,
    "start_time": "2022-10-26T19:03:49.676Z"
   },
   {
    "duration": 18,
    "start_time": "2022-10-26T19:04:13.105Z"
   },
   {
    "duration": 27,
    "start_time": "2022-10-26T19:04:36.471Z"
   },
   {
    "duration": 28,
    "start_time": "2022-10-26T19:04:42.922Z"
   },
   {
    "duration": 63,
    "start_time": "2022-10-26T19:04:47.908Z"
   },
   {
    "duration": 16,
    "start_time": "2022-10-26T19:05:03.778Z"
   },
   {
    "duration": 28,
    "start_time": "2022-10-26T19:05:09.754Z"
   },
   {
    "duration": 59,
    "start_time": "2022-10-26T19:05:20.831Z"
   },
   {
    "duration": 272,
    "start_time": "2022-10-26T19:05:40.397Z"
   },
   {
    "duration": 25,
    "start_time": "2022-10-26T19:05:44.498Z"
   },
   {
    "duration": 27,
    "start_time": "2022-10-26T19:05:49.967Z"
   },
   {
    "duration": 1236,
    "start_time": "2022-10-26T19:05:56.042Z"
   },
   {
    "duration": 602,
    "start_time": "2022-10-26T19:05:57.280Z"
   },
   {
    "duration": 11,
    "start_time": "2022-10-26T19:05:57.884Z"
   },
   {
    "duration": 7,
    "start_time": "2022-10-26T19:05:57.897Z"
   },
   {
    "duration": 8,
    "start_time": "2022-10-26T19:05:57.905Z"
   },
   {
    "duration": 65,
    "start_time": "2022-10-26T19:05:57.915Z"
   },
   {
    "duration": 251,
    "start_time": "2022-10-26T19:05:57.982Z"
   },
   {
    "duration": 62,
    "start_time": "2022-10-26T19:05:58.235Z"
   },
   {
    "duration": 7,
    "start_time": "2022-10-26T19:05:58.299Z"
   },
   {
    "duration": 12,
    "start_time": "2022-10-26T19:05:58.308Z"
   },
   {
    "duration": 146,
    "start_time": "2022-10-26T19:05:58.322Z"
   },
   {
    "duration": 48,
    "start_time": "2022-10-26T19:05:58.469Z"
   },
   {
    "duration": 20,
    "start_time": "2022-10-26T19:05:58.519Z"
   },
   {
    "duration": 16,
    "start_time": "2022-10-26T19:05:58.540Z"
   },
   {
    "duration": 13,
    "start_time": "2022-10-26T19:05:58.557Z"
   },
   {
    "duration": 8,
    "start_time": "2022-10-26T19:05:58.571Z"
   },
   {
    "duration": 7,
    "start_time": "2022-10-26T19:05:58.580Z"
   },
   {
    "duration": 5,
    "start_time": "2022-10-26T19:05:58.589Z"
   },
   {
    "duration": 43,
    "start_time": "2022-10-26T19:05:58.595Z"
   },
   {
    "duration": 13,
    "start_time": "2022-10-26T19:05:58.640Z"
   },
   {
    "duration": 8,
    "start_time": "2022-10-26T19:05:58.655Z"
   },
   {
    "duration": 18,
    "start_time": "2022-10-26T19:05:58.664Z"
   },
   {
    "duration": 8,
    "start_time": "2022-10-26T19:05:58.683Z"
   },
   {
    "duration": 6,
    "start_time": "2022-10-26T19:05:58.692Z"
   },
   {
    "duration": 8,
    "start_time": "2022-10-26T19:05:58.699Z"
   },
   {
    "duration": 25,
    "start_time": "2022-10-26T19:05:58.709Z"
   },
   {
    "duration": 11,
    "start_time": "2022-10-26T19:05:58.735Z"
   },
   {
    "duration": 6,
    "start_time": "2022-10-26T19:05:58.750Z"
   },
   {
    "duration": 16,
    "start_time": "2022-10-26T19:05:58.758Z"
   },
   {
    "duration": 19,
    "start_time": "2022-10-26T19:05:58.776Z"
   },
   {
    "duration": 11,
    "start_time": "2022-10-26T19:05:58.797Z"
   },
   {
    "duration": 29,
    "start_time": "2022-10-26T19:05:58.809Z"
   },
   {
    "duration": 14,
    "start_time": "2022-10-26T19:05:58.840Z"
   },
   {
    "duration": 10,
    "start_time": "2022-10-26T19:05:58.855Z"
   },
   {
    "duration": 9,
    "start_time": "2022-10-26T19:05:58.867Z"
   },
   {
    "duration": 9,
    "start_time": "2022-10-26T19:05:58.878Z"
   },
   {
    "duration": 12,
    "start_time": "2022-10-26T19:05:58.889Z"
   },
   {
    "duration": 11,
    "start_time": "2022-10-26T19:05:58.902Z"
   },
   {
    "duration": 32,
    "start_time": "2022-10-26T19:05:58.915Z"
   },
   {
    "duration": 416,
    "start_time": "2022-10-26T19:05:58.949Z"
   },
   {
    "duration": 5,
    "start_time": "2022-10-26T19:05:59.367Z"
   },
   {
    "duration": 10,
    "start_time": "2022-10-26T19:05:59.373Z"
   },
   {
    "duration": 21,
    "start_time": "2022-10-26T19:05:59.384Z"
   },
   {
    "duration": 56,
    "start_time": "2022-10-26T19:05:59.406Z"
   },
   {
    "duration": 4,
    "start_time": "2022-10-26T19:05:59.463Z"
   },
   {
    "duration": 7,
    "start_time": "2022-10-26T19:05:59.468Z"
   },
   {
    "duration": 10,
    "start_time": "2022-10-26T19:05:59.476Z"
   },
   {
    "duration": 13,
    "start_time": "2022-10-26T19:05:59.487Z"
   },
   {
    "duration": 60,
    "start_time": "2022-10-26T19:05:59.501Z"
   },
   {
    "duration": 4,
    "start_time": "2022-10-26T19:05:59.562Z"
   },
   {
    "duration": 7,
    "start_time": "2022-10-26T19:05:59.567Z"
   },
   {
    "duration": 12,
    "start_time": "2022-10-26T19:05:59.576Z"
   },
   {
    "duration": 18,
    "start_time": "2022-10-26T19:05:59.589Z"
   },
   {
    "duration": 56,
    "start_time": "2022-10-26T19:05:59.609Z"
   },
   {
    "duration": 3,
    "start_time": "2022-10-26T19:05:59.667Z"
   },
   {
    "duration": 10,
    "start_time": "2022-10-26T19:05:59.671Z"
   },
   {
    "duration": 15,
    "start_time": "2022-10-26T19:05:59.683Z"
   },
   {
    "duration": 8,
    "start_time": "2022-10-26T19:05:59.699Z"
   },
   {
    "duration": 7,
    "start_time": "2022-10-26T19:05:59.709Z"
   },
   {
    "duration": 20,
    "start_time": "2022-10-26T19:05:59.717Z"
   },
   {
    "duration": 11,
    "start_time": "2022-10-26T19:05:59.739Z"
   },
   {
    "duration": 13,
    "start_time": "2022-10-26T19:05:59.751Z"
   },
   {
    "duration": 15,
    "start_time": "2022-10-26T19:05:59.765Z"
   },
   {
    "duration": 7,
    "start_time": "2022-10-26T19:05:59.782Z"
   },
   {
    "duration": 8,
    "start_time": "2022-10-26T19:05:59.790Z"
   },
   {
    "duration": 14,
    "start_time": "2022-10-26T19:05:59.799Z"
   },
   {
    "duration": 534,
    "start_time": "2022-10-26T19:05:59.815Z"
   },
   {
    "duration": 18,
    "start_time": "2022-10-26T19:06:00.350Z"
   },
   {
    "duration": 8,
    "start_time": "2022-10-26T19:06:00.370Z"
   },
   {
    "duration": 135,
    "start_time": "2022-10-26T19:06:00.380Z"
   },
   {
    "duration": 0,
    "start_time": "2022-10-26T19:06:00.517Z"
   },
   {
    "duration": 0,
    "start_time": "2022-10-26T19:06:00.518Z"
   },
   {
    "duration": 0,
    "start_time": "2022-10-26T19:06:00.519Z"
   },
   {
    "duration": 0,
    "start_time": "2022-10-26T19:06:00.520Z"
   },
   {
    "duration": 0,
    "start_time": "2022-10-26T19:06:00.521Z"
   },
   {
    "duration": 0,
    "start_time": "2022-10-26T19:06:00.522Z"
   },
   {
    "duration": 10,
    "start_time": "2022-10-26T19:07:37.664Z"
   },
   {
    "duration": 618,
    "start_time": "2022-10-26T19:07:43.602Z"
   },
   {
    "duration": 1406,
    "start_time": "2022-10-26T19:07:54.050Z"
   },
   {
    "duration": 9,
    "start_time": "2022-10-26T19:09:11.021Z"
   },
   {
    "duration": 120,
    "start_time": "2022-10-26T19:09:21.213Z"
   },
   {
    "duration": 1759,
    "start_time": "2022-10-26T19:09:34.713Z"
   },
   {
    "duration": 122,
    "start_time": "2022-10-26T19:09:42.357Z"
   },
   {
    "duration": 95,
    "start_time": "2022-10-26T19:11:38.682Z"
   },
   {
    "duration": 1108,
    "start_time": "2022-10-26T19:11:53.176Z"
   },
   {
    "duration": 655,
    "start_time": "2022-10-26T19:11:54.286Z"
   },
   {
    "duration": 14,
    "start_time": "2022-10-26T19:11:54.943Z"
   },
   {
    "duration": 7,
    "start_time": "2022-10-26T19:11:54.960Z"
   },
   {
    "duration": 13,
    "start_time": "2022-10-26T19:11:54.969Z"
   },
   {
    "duration": 82,
    "start_time": "2022-10-26T19:11:54.983Z"
   },
   {
    "duration": 256,
    "start_time": "2022-10-26T19:11:55.066Z"
   },
   {
    "duration": 65,
    "start_time": "2022-10-26T19:11:55.324Z"
   },
   {
    "duration": 5,
    "start_time": "2022-10-26T19:11:55.390Z"
   },
   {
    "duration": 4,
    "start_time": "2022-10-26T19:11:55.398Z"
   },
   {
    "duration": 154,
    "start_time": "2022-10-26T19:11:55.404Z"
   },
   {
    "duration": 43,
    "start_time": "2022-10-26T19:11:55.559Z"
   },
   {
    "duration": 9,
    "start_time": "2022-10-26T19:11:55.604Z"
   },
   {
    "duration": 22,
    "start_time": "2022-10-26T19:11:55.615Z"
   },
   {
    "duration": 12,
    "start_time": "2022-10-26T19:11:55.638Z"
   },
   {
    "duration": 7,
    "start_time": "2022-10-26T19:11:55.651Z"
   },
   {
    "duration": 6,
    "start_time": "2022-10-26T19:11:55.660Z"
   },
   {
    "duration": 5,
    "start_time": "2022-10-26T19:11:55.667Z"
   },
   {
    "duration": 17,
    "start_time": "2022-10-26T19:11:55.673Z"
   },
   {
    "duration": 43,
    "start_time": "2022-10-26T19:11:55.691Z"
   },
   {
    "duration": 8,
    "start_time": "2022-10-26T19:11:55.736Z"
   },
   {
    "duration": 13,
    "start_time": "2022-10-26T19:11:55.745Z"
   },
   {
    "duration": 6,
    "start_time": "2022-10-26T19:11:55.760Z"
   },
   {
    "duration": 7,
    "start_time": "2022-10-26T19:11:55.767Z"
   },
   {
    "duration": 6,
    "start_time": "2022-10-26T19:11:55.776Z"
   },
   {
    "duration": 9,
    "start_time": "2022-10-26T19:11:55.783Z"
   },
   {
    "duration": 7,
    "start_time": "2022-10-26T19:11:55.793Z"
   },
   {
    "duration": 32,
    "start_time": "2022-10-26T19:11:55.804Z"
   },
   {
    "duration": 13,
    "start_time": "2022-10-26T19:11:55.837Z"
   },
   {
    "duration": 11,
    "start_time": "2022-10-26T19:11:55.851Z"
   },
   {
    "duration": 9,
    "start_time": "2022-10-26T19:11:55.864Z"
   },
   {
    "duration": 9,
    "start_time": "2022-10-26T19:11:55.875Z"
   },
   {
    "duration": 12,
    "start_time": "2022-10-26T19:11:55.886Z"
   },
   {
    "duration": 10,
    "start_time": "2022-10-26T19:11:55.900Z"
   },
   {
    "duration": 24,
    "start_time": "2022-10-26T19:11:55.911Z"
   },
   {
    "duration": 12,
    "start_time": "2022-10-26T19:11:55.937Z"
   },
   {
    "duration": 8,
    "start_time": "2022-10-26T19:11:55.951Z"
   },
   {
    "duration": 11,
    "start_time": "2022-10-26T19:11:55.961Z"
   },
   {
    "duration": 28,
    "start_time": "2022-10-26T19:11:55.973Z"
   },
   {
    "duration": 494,
    "start_time": "2022-10-26T19:11:56.002Z"
   },
   {
    "duration": 5,
    "start_time": "2022-10-26T19:11:56.498Z"
   },
   {
    "duration": 8,
    "start_time": "2022-10-26T19:11:56.504Z"
   },
   {
    "duration": 32,
    "start_time": "2022-10-26T19:11:56.513Z"
   },
   {
    "duration": 53,
    "start_time": "2022-10-26T19:11:56.547Z"
   },
   {
    "duration": 4,
    "start_time": "2022-10-26T19:11:56.601Z"
   },
   {
    "duration": 6,
    "start_time": "2022-10-26T19:11:56.606Z"
   },
   {
    "duration": 25,
    "start_time": "2022-10-26T19:11:56.614Z"
   },
   {
    "duration": 11,
    "start_time": "2022-10-26T19:11:56.640Z"
   },
   {
    "duration": 39,
    "start_time": "2022-10-26T19:11:56.653Z"
   },
   {
    "duration": 3,
    "start_time": "2022-10-26T19:11:56.694Z"
   },
   {
    "duration": 7,
    "start_time": "2022-10-26T19:11:56.699Z"
   },
   {
    "duration": 32,
    "start_time": "2022-10-26T19:11:56.707Z"
   },
   {
    "duration": 13,
    "start_time": "2022-10-26T19:11:56.741Z"
   },
   {
    "duration": 40,
    "start_time": "2022-10-26T19:11:56.756Z"
   },
   {
    "duration": 3,
    "start_time": "2022-10-26T19:11:56.798Z"
   },
   {
    "duration": 31,
    "start_time": "2022-10-26T19:11:56.803Z"
   },
   {
    "duration": 12,
    "start_time": "2022-10-26T19:11:56.835Z"
   },
   {
    "duration": 6,
    "start_time": "2022-10-26T19:11:56.848Z"
   },
   {
    "duration": 7,
    "start_time": "2022-10-26T19:11:56.855Z"
   },
   {
    "duration": 8,
    "start_time": "2022-10-26T19:11:56.863Z"
   },
   {
    "duration": 9,
    "start_time": "2022-10-26T19:11:56.872Z"
   },
   {
    "duration": 7,
    "start_time": "2022-10-26T19:11:56.882Z"
   },
   {
    "duration": 12,
    "start_time": "2022-10-26T19:11:56.891Z"
   },
   {
    "duration": 8,
    "start_time": "2022-10-26T19:11:56.904Z"
   },
   {
    "duration": 11,
    "start_time": "2022-10-26T19:11:56.913Z"
   },
   {
    "duration": 12,
    "start_time": "2022-10-26T19:11:56.934Z"
   },
   {
    "duration": 550,
    "start_time": "2022-10-26T19:11:56.947Z"
   },
   {
    "duration": 17,
    "start_time": "2022-10-26T19:11:57.498Z"
   },
   {
    "duration": 3,
    "start_time": "2022-10-26T19:11:57.516Z"
   },
   {
    "duration": 1533,
    "start_time": "2022-10-26T19:11:57.520Z"
   },
   {
    "duration": 101,
    "start_time": "2022-10-26T19:11:59.055Z"
   },
   {
    "duration": 0,
    "start_time": "2022-10-26T19:11:59.158Z"
   },
   {
    "duration": 0,
    "start_time": "2022-10-26T19:11:59.159Z"
   },
   {
    "duration": 0,
    "start_time": "2022-10-26T19:11:59.160Z"
   },
   {
    "duration": 0,
    "start_time": "2022-10-26T19:11:59.161Z"
   },
   {
    "duration": 9,
    "start_time": "2022-10-26T19:12:41.230Z"
   },
   {
    "duration": 1464,
    "start_time": "2022-10-26T19:12:47.893Z"
   },
   {
    "duration": 9,
    "start_time": "2022-10-26T19:15:46.799Z"
   },
   {
    "duration": 8,
    "start_time": "2022-10-26T19:17:13.373Z"
   },
   {
    "duration": 115,
    "start_time": "2022-10-26T19:18:00.332Z"
   },
   {
    "duration": 87,
    "start_time": "2022-10-26T19:18:27.568Z"
   },
   {
    "duration": 132,
    "start_time": "2022-10-26T19:18:33.333Z"
   },
   {
    "duration": 85,
    "start_time": "2022-10-26T19:20:34.553Z"
   },
   {
    "duration": 85,
    "start_time": "2022-10-26T19:20:44.537Z"
   },
   {
    "duration": 83,
    "start_time": "2022-10-26T19:20:53.080Z"
   },
   {
    "duration": 108,
    "start_time": "2022-10-26T19:20:57.244Z"
   },
   {
    "duration": 1590,
    "start_time": "2022-10-26T19:21:04.142Z"
   },
   {
    "duration": 1414,
    "start_time": "2022-10-26T19:21:11.543Z"
   },
   {
    "duration": 731,
    "start_time": "2022-10-26T19:21:20.548Z"
   },
   {
    "duration": 796,
    "start_time": "2022-10-26T19:21:33.991Z"
   },
   {
    "duration": 1175,
    "start_time": "2022-10-26T19:22:25.117Z"
   },
   {
    "duration": 673,
    "start_time": "2022-10-26T19:22:26.295Z"
   },
   {
    "duration": 12,
    "start_time": "2022-10-26T19:22:26.969Z"
   },
   {
    "duration": 7,
    "start_time": "2022-10-26T19:22:26.983Z"
   },
   {
    "duration": 12,
    "start_time": "2022-10-26T19:22:26.991Z"
   },
   {
    "duration": 69,
    "start_time": "2022-10-26T19:22:27.005Z"
   },
   {
    "duration": 242,
    "start_time": "2022-10-26T19:22:27.076Z"
   },
   {
    "duration": 58,
    "start_time": "2022-10-26T19:22:27.319Z"
   },
   {
    "duration": 4,
    "start_time": "2022-10-26T19:22:27.379Z"
   },
   {
    "duration": 5,
    "start_time": "2022-10-26T19:22:27.385Z"
   },
   {
    "duration": 142,
    "start_time": "2022-10-26T19:22:27.391Z"
   },
   {
    "duration": 41,
    "start_time": "2022-10-26T19:22:27.535Z"
   },
   {
    "duration": 9,
    "start_time": "2022-10-26T19:22:27.577Z"
   },
   {
    "duration": 13,
    "start_time": "2022-10-26T19:22:27.587Z"
   },
   {
    "duration": 33,
    "start_time": "2022-10-26T19:22:27.601Z"
   },
   {
    "duration": 6,
    "start_time": "2022-10-26T19:22:27.636Z"
   },
   {
    "duration": 13,
    "start_time": "2022-10-26T19:22:27.643Z"
   },
   {
    "duration": 6,
    "start_time": "2022-10-26T19:22:27.657Z"
   },
   {
    "duration": 15,
    "start_time": "2022-10-26T19:22:27.664Z"
   },
   {
    "duration": 19,
    "start_time": "2022-10-26T19:22:27.680Z"
   },
   {
    "duration": 7,
    "start_time": "2022-10-26T19:22:27.701Z"
   },
   {
    "duration": 24,
    "start_time": "2022-10-26T19:22:27.710Z"
   },
   {
    "duration": 6,
    "start_time": "2022-10-26T19:22:27.735Z"
   },
   {
    "duration": 14,
    "start_time": "2022-10-26T19:22:27.743Z"
   },
   {
    "duration": 6,
    "start_time": "2022-10-26T19:22:27.760Z"
   },
   {
    "duration": 5,
    "start_time": "2022-10-26T19:22:27.767Z"
   },
   {
    "duration": 8,
    "start_time": "2022-10-26T19:22:27.773Z"
   },
   {
    "duration": 5,
    "start_time": "2022-10-26T19:22:27.784Z"
   },
   {
    "duration": 17,
    "start_time": "2022-10-26T19:22:27.790Z"
   },
   {
    "duration": 25,
    "start_time": "2022-10-26T19:22:27.808Z"
   },
   {
    "duration": 6,
    "start_time": "2022-10-26T19:22:27.835Z"
   },
   {
    "duration": 9,
    "start_time": "2022-10-26T19:22:27.842Z"
   },
   {
    "duration": 26,
    "start_time": "2022-10-26T19:22:27.853Z"
   },
   {
    "duration": 12,
    "start_time": "2022-10-26T19:22:27.881Z"
   },
   {
    "duration": 11,
    "start_time": "2022-10-26T19:22:27.894Z"
   },
   {
    "duration": 8,
    "start_time": "2022-10-26T19:22:27.907Z"
   },
   {
    "duration": 8,
    "start_time": "2022-10-26T19:22:27.916Z"
   },
   {
    "duration": 10,
    "start_time": "2022-10-26T19:22:27.926Z"
   },
   {
    "duration": 27,
    "start_time": "2022-10-26T19:22:27.938Z"
   },
   {
    "duration": 418,
    "start_time": "2022-10-26T19:22:27.967Z"
   },
   {
    "duration": 5,
    "start_time": "2022-10-26T19:22:28.387Z"
   },
   {
    "duration": 8,
    "start_time": "2022-10-26T19:22:28.394Z"
   },
   {
    "duration": 17,
    "start_time": "2022-10-26T19:22:28.403Z"
   },
   {
    "duration": 50,
    "start_time": "2022-10-26T19:22:28.434Z"
   },
   {
    "duration": 4,
    "start_time": "2022-10-26T19:22:28.485Z"
   },
   {
    "duration": 8,
    "start_time": "2022-10-26T19:22:28.490Z"
   },
   {
    "duration": 11,
    "start_time": "2022-10-26T19:22:28.499Z"
   },
   {
    "duration": 27,
    "start_time": "2022-10-26T19:22:28.512Z"
   },
   {
    "duration": 37,
    "start_time": "2022-10-26T19:22:28.541Z"
   },
   {
    "duration": 3,
    "start_time": "2022-10-26T19:22:28.580Z"
   },
   {
    "duration": 6,
    "start_time": "2022-10-26T19:22:28.585Z"
   },
   {
    "duration": 11,
    "start_time": "2022-10-26T19:22:28.592Z"
   },
   {
    "duration": 36,
    "start_time": "2022-10-26T19:22:28.604Z"
   },
   {
    "duration": 40,
    "start_time": "2022-10-26T19:22:28.641Z"
   },
   {
    "duration": 4,
    "start_time": "2022-10-26T19:22:28.683Z"
   },
   {
    "duration": 7,
    "start_time": "2022-10-26T19:22:28.689Z"
   },
   {
    "duration": 13,
    "start_time": "2022-10-26T19:22:28.697Z"
   },
   {
    "duration": 26,
    "start_time": "2022-10-26T19:22:28.712Z"
   },
   {
    "duration": 8,
    "start_time": "2022-10-26T19:22:28.740Z"
   },
   {
    "duration": 7,
    "start_time": "2022-10-26T19:22:28.750Z"
   },
   {
    "duration": 7,
    "start_time": "2022-10-26T19:22:28.758Z"
   },
   {
    "duration": 6,
    "start_time": "2022-10-26T19:22:28.767Z"
   },
   {
    "duration": 14,
    "start_time": "2022-10-26T19:22:28.775Z"
   },
   {
    "duration": 8,
    "start_time": "2022-10-26T19:22:28.791Z"
   },
   {
    "duration": 8,
    "start_time": "2022-10-26T19:22:28.800Z"
   },
   {
    "duration": 32,
    "start_time": "2022-10-26T19:22:28.810Z"
   },
   {
    "duration": 525,
    "start_time": "2022-10-26T19:22:28.844Z"
   },
   {
    "duration": 15,
    "start_time": "2022-10-26T19:22:29.371Z"
   },
   {
    "duration": 3,
    "start_time": "2022-10-26T19:22:29.387Z"
   },
   {
    "duration": 1381,
    "start_time": "2022-10-26T19:22:29.392Z"
   },
   {
    "duration": 869,
    "start_time": "2022-10-26T19:22:30.775Z"
   },
   {
    "duration": 1342,
    "start_time": "2022-10-26T19:22:31.646Z"
   },
   {
    "duration": 1639,
    "start_time": "2022-10-26T19:22:32.990Z"
   },
   {
    "duration": 1770,
    "start_time": "2022-10-26T19:22:34.630Z"
   },
   {
    "duration": 2298,
    "start_time": "2022-10-26T19:22:36.402Z"
   },
   {
    "duration": 1168,
    "start_time": "2022-10-26T19:23:50.607Z"
   },
   {
    "duration": 639,
    "start_time": "2022-10-26T19:24:02.646Z"
   },
   {
    "duration": 1573,
    "start_time": "2022-10-27T15:52:07.533Z"
   },
   {
    "duration": 2116,
    "start_time": "2022-10-27T15:52:09.109Z"
   },
   {
    "duration": 14,
    "start_time": "2022-10-27T15:52:11.226Z"
   },
   {
    "duration": 17,
    "start_time": "2022-10-27T15:52:11.242Z"
   },
   {
    "duration": 57,
    "start_time": "2022-10-27T15:52:11.262Z"
   },
   {
    "duration": 94,
    "start_time": "2022-10-27T15:52:11.320Z"
   },
   {
    "duration": 281,
    "start_time": "2022-10-27T15:52:11.416Z"
   },
   {
    "duration": 68,
    "start_time": "2022-10-27T15:52:11.699Z"
   },
   {
    "duration": 25,
    "start_time": "2022-10-27T15:52:11.769Z"
   },
   {
    "duration": 15,
    "start_time": "2022-10-27T15:52:11.798Z"
   },
   {
    "duration": 166,
    "start_time": "2022-10-27T15:52:11.815Z"
   },
   {
    "duration": 55,
    "start_time": "2022-10-27T15:52:11.983Z"
   },
   {
    "duration": 9,
    "start_time": "2022-10-27T15:52:12.040Z"
   },
   {
    "duration": 12,
    "start_time": "2022-10-27T15:52:12.051Z"
   },
   {
    "duration": 14,
    "start_time": "2022-10-27T15:52:12.065Z"
   },
   {
    "duration": 9,
    "start_time": "2022-10-27T15:52:12.080Z"
   },
   {
    "duration": 4,
    "start_time": "2022-10-27T15:52:12.091Z"
   },
   {
    "duration": 3,
    "start_time": "2022-10-27T15:52:12.130Z"
   },
   {
    "duration": 12,
    "start_time": "2022-10-27T15:52:12.135Z"
   },
   {
    "duration": 14,
    "start_time": "2022-10-27T15:52:12.149Z"
   },
   {
    "duration": 9,
    "start_time": "2022-10-27T15:52:12.165Z"
   },
   {
    "duration": 10,
    "start_time": "2022-10-27T15:52:12.176Z"
   },
   {
    "duration": 42,
    "start_time": "2022-10-27T15:52:12.188Z"
   },
   {
    "duration": 7,
    "start_time": "2022-10-27T15:52:12.232Z"
   },
   {
    "duration": 5,
    "start_time": "2022-10-27T15:52:12.241Z"
   },
   {
    "duration": 4,
    "start_time": "2022-10-27T15:52:12.248Z"
   },
   {
    "duration": 6,
    "start_time": "2022-10-27T15:52:12.254Z"
   },
   {
    "duration": 12,
    "start_time": "2022-10-27T15:52:12.266Z"
   },
   {
    "duration": 12,
    "start_time": "2022-10-27T15:52:12.280Z"
   },
   {
    "duration": 37,
    "start_time": "2022-10-27T15:52:12.294Z"
   },
   {
    "duration": 8,
    "start_time": "2022-10-27T15:52:12.333Z"
   },
   {
    "duration": 8,
    "start_time": "2022-10-27T15:52:12.342Z"
   },
   {
    "duration": 8,
    "start_time": "2022-10-27T15:52:12.351Z"
   },
   {
    "duration": 13,
    "start_time": "2022-10-27T15:52:12.361Z"
   },
   {
    "duration": 7,
    "start_time": "2022-10-27T15:52:12.376Z"
   },
   {
    "duration": 44,
    "start_time": "2022-10-27T15:52:12.386Z"
   },
   {
    "duration": 11,
    "start_time": "2022-10-27T15:52:12.431Z"
   },
   {
    "duration": 10,
    "start_time": "2022-10-27T15:52:12.444Z"
   },
   {
    "duration": 24,
    "start_time": "2022-10-27T15:52:12.455Z"
   },
   {
    "duration": 472,
    "start_time": "2022-10-27T15:52:12.481Z"
   },
   {
    "duration": 5,
    "start_time": "2022-10-27T15:52:12.954Z"
   },
   {
    "duration": 6,
    "start_time": "2022-10-27T15:52:12.960Z"
   },
   {
    "duration": 14,
    "start_time": "2022-10-27T15:52:12.967Z"
   },
   {
    "duration": 75,
    "start_time": "2022-10-27T15:52:12.983Z"
   },
   {
    "duration": 3,
    "start_time": "2022-10-27T15:52:13.060Z"
   },
   {
    "duration": 6,
    "start_time": "2022-10-27T15:52:13.065Z"
   },
   {
    "duration": 13,
    "start_time": "2022-10-27T15:52:13.073Z"
   },
   {
    "duration": 17,
    "start_time": "2022-10-27T15:52:13.088Z"
   },
   {
    "duration": 54,
    "start_time": "2022-10-27T15:52:13.135Z"
   },
   {
    "duration": 4,
    "start_time": "2022-10-27T15:52:13.191Z"
   },
   {
    "duration": 11,
    "start_time": "2022-10-27T15:52:13.197Z"
   },
   {
    "duration": 21,
    "start_time": "2022-10-27T15:52:13.209Z"
   },
   {
    "duration": 15,
    "start_time": "2022-10-27T15:52:13.232Z"
   },
   {
    "duration": 42,
    "start_time": "2022-10-27T15:52:13.249Z"
   },
   {
    "duration": 4,
    "start_time": "2022-10-27T15:52:13.292Z"
   },
   {
    "duration": 7,
    "start_time": "2022-10-27T15:52:13.298Z"
   },
   {
    "duration": 11,
    "start_time": "2022-10-27T15:52:13.329Z"
   },
   {
    "duration": 5,
    "start_time": "2022-10-27T15:52:13.342Z"
   },
   {
    "duration": 5,
    "start_time": "2022-10-27T15:52:13.349Z"
   },
   {
    "duration": 7,
    "start_time": "2022-10-27T15:52:13.356Z"
   },
   {
    "duration": 6,
    "start_time": "2022-10-27T15:52:13.364Z"
   },
   {
    "duration": 5,
    "start_time": "2022-10-27T15:52:13.372Z"
   },
   {
    "duration": 13,
    "start_time": "2022-10-27T15:52:13.379Z"
   },
   {
    "duration": 48,
    "start_time": "2022-10-27T15:52:13.393Z"
   },
   {
    "duration": 9,
    "start_time": "2022-10-27T15:52:13.443Z"
   },
   {
    "duration": 14,
    "start_time": "2022-10-27T15:52:13.454Z"
   },
   {
    "duration": 579,
    "start_time": "2022-10-27T15:52:13.470Z"
   },
   {
    "duration": 20,
    "start_time": "2022-10-27T15:52:14.052Z"
   },
   {
    "duration": 4,
    "start_time": "2022-10-27T15:52:14.073Z"
   },
   {
    "duration": 1437,
    "start_time": "2022-10-27T15:52:14.078Z"
   },
   {
    "duration": 813,
    "start_time": "2022-10-27T15:52:15.517Z"
   },
   {
    "duration": 1206,
    "start_time": "2022-10-27T15:52:16.333Z"
   },
   {
    "duration": 1846,
    "start_time": "2022-10-27T15:52:17.541Z"
   },
   {
    "duration": 1927,
    "start_time": "2022-10-27T15:52:19.389Z"
   },
   {
    "duration": 2566,
    "start_time": "2022-10-27T15:52:21.318Z"
   },
   {
    "duration": 1224,
    "start_time": "2023-06-10T20:46:20.493Z"
   },
   {
    "duration": 1321,
    "start_time": "2023-06-10T20:46:21.719Z"
   },
   {
    "duration": 15,
    "start_time": "2023-06-10T20:46:23.044Z"
   },
   {
    "duration": 13,
    "start_time": "2023-06-10T20:46:23.061Z"
   },
   {
    "duration": 12,
    "start_time": "2023-06-10T20:46:23.076Z"
   },
   {
    "duration": 75,
    "start_time": "2023-06-10T20:46:23.090Z"
   },
   {
    "duration": 320,
    "start_time": "2023-06-10T20:46:23.167Z"
   },
   {
    "duration": 68,
    "start_time": "2023-06-10T20:46:23.489Z"
   },
   {
    "duration": 6,
    "start_time": "2023-06-10T20:46:23.558Z"
   },
   {
    "duration": 9,
    "start_time": "2023-06-10T20:46:23.566Z"
   },
   {
    "duration": 147,
    "start_time": "2023-06-10T20:46:23.576Z"
   },
   {
    "duration": 47,
    "start_time": "2023-06-10T20:46:23.725Z"
   },
   {
    "duration": 11,
    "start_time": "2023-06-10T20:46:23.773Z"
   },
   {
    "duration": 14,
    "start_time": "2023-06-10T20:46:23.788Z"
   },
   {
    "duration": 52,
    "start_time": "2023-06-10T20:46:23.804Z"
   },
   {
    "duration": 8,
    "start_time": "2023-06-10T20:46:23.858Z"
   },
   {
    "duration": 7,
    "start_time": "2023-06-10T20:46:23.867Z"
   },
   {
    "duration": 6,
    "start_time": "2023-06-10T20:46:23.875Z"
   },
   {
    "duration": 13,
    "start_time": "2023-06-10T20:46:23.882Z"
   },
   {
    "duration": 17,
    "start_time": "2023-06-10T20:46:23.897Z"
   },
   {
    "duration": 10,
    "start_time": "2023-06-10T20:46:23.916Z"
   },
   {
    "duration": 36,
    "start_time": "2023-06-10T20:46:23.941Z"
   },
   {
    "duration": 12,
    "start_time": "2023-06-10T20:46:23.979Z"
   },
   {
    "duration": 6,
    "start_time": "2023-06-10T20:46:23.993Z"
   },
   {
    "duration": 8,
    "start_time": "2023-06-10T20:46:24.000Z"
   },
   {
    "duration": 13,
    "start_time": "2023-06-10T20:46:24.009Z"
   },
   {
    "duration": 7,
    "start_time": "2023-06-10T20:46:24.023Z"
   },
   {
    "duration": 27,
    "start_time": "2023-06-10T20:46:24.032Z"
   },
   {
    "duration": 15,
    "start_time": "2023-06-10T20:46:24.061Z"
   },
   {
    "duration": 12,
    "start_time": "2023-06-10T20:46:24.077Z"
   },
   {
    "duration": 9,
    "start_time": "2023-06-10T20:46:24.092Z"
   },
   {
    "duration": 12,
    "start_time": "2023-06-10T20:46:24.103Z"
   },
   {
    "duration": 16,
    "start_time": "2023-06-10T20:46:24.117Z"
   },
   {
    "duration": 23,
    "start_time": "2023-06-10T20:46:24.135Z"
   },
   {
    "duration": 14,
    "start_time": "2023-06-10T20:46:24.160Z"
   },
   {
    "duration": 17,
    "start_time": "2023-06-10T20:46:24.177Z"
   },
   {
    "duration": 11,
    "start_time": "2023-06-10T20:46:24.197Z"
   },
   {
    "duration": 11,
    "start_time": "2023-06-10T20:46:24.209Z"
   },
   {
    "duration": 33,
    "start_time": "2023-06-10T20:46:24.221Z"
   },
   {
    "duration": 457,
    "start_time": "2023-06-10T20:46:24.259Z"
   },
   {
    "duration": 5,
    "start_time": "2023-06-10T20:46:24.720Z"
   },
   {
    "duration": 18,
    "start_time": "2023-06-10T20:46:24.726Z"
   },
   {
    "duration": 14,
    "start_time": "2023-06-10T20:46:24.751Z"
   },
   {
    "duration": 52,
    "start_time": "2023-06-10T20:46:24.767Z"
   },
   {
    "duration": 3,
    "start_time": "2023-06-10T20:46:24.821Z"
   },
   {
    "duration": 22,
    "start_time": "2023-06-10T20:46:24.825Z"
   },
   {
    "duration": 20,
    "start_time": "2023-06-10T20:46:24.848Z"
   },
   {
    "duration": 14,
    "start_time": "2023-06-10T20:46:24.870Z"
   },
   {
    "duration": 38,
    "start_time": "2023-06-10T20:46:24.886Z"
   },
   {
    "duration": 3,
    "start_time": "2023-06-10T20:46:24.926Z"
   },
   {
    "duration": 30,
    "start_time": "2023-06-10T20:46:24.931Z"
   },
   {
    "duration": 12,
    "start_time": "2023-06-10T20:46:24.963Z"
   },
   {
    "duration": 20,
    "start_time": "2023-06-10T20:46:24.977Z"
   },
   {
    "duration": 44,
    "start_time": "2023-06-10T20:46:24.999Z"
   },
   {
    "duration": 6,
    "start_time": "2023-06-10T20:46:25.050Z"
   },
   {
    "duration": 21,
    "start_time": "2023-06-10T20:46:25.058Z"
   },
   {
    "duration": 21,
    "start_time": "2023-06-10T20:46:25.081Z"
   },
   {
    "duration": 16,
    "start_time": "2023-06-10T20:46:25.104Z"
   },
   {
    "duration": 8,
    "start_time": "2023-06-10T20:46:25.122Z"
   },
   {
    "duration": 23,
    "start_time": "2023-06-10T20:46:25.132Z"
   },
   {
    "duration": 8,
    "start_time": "2023-06-10T20:46:25.158Z"
   },
   {
    "duration": 13,
    "start_time": "2023-06-10T20:46:25.168Z"
   },
   {
    "duration": 17,
    "start_time": "2023-06-10T20:46:25.183Z"
   },
   {
    "duration": 9,
    "start_time": "2023-06-10T20:46:25.202Z"
   },
   {
    "duration": 12,
    "start_time": "2023-06-10T20:46:25.213Z"
   },
   {
    "duration": 29,
    "start_time": "2023-06-10T20:46:25.227Z"
   },
   {
    "duration": 568,
    "start_time": "2023-06-10T20:46:25.258Z"
   },
   {
    "duration": 28,
    "start_time": "2023-06-10T20:46:25.829Z"
   },
   {
    "duration": 12,
    "start_time": "2023-06-10T20:46:25.859Z"
   }
  ],
  "colab": {
   "provenance": []
  },
  "kernelspec": {
   "display_name": "Python 3 (ipykernel)",
   "language": "python",
   "name": "python3"
  },
  "language_info": {
   "codemirror_mode": {
    "name": "ipython",
    "version": 3
   },
   "file_extension": ".py",
   "mimetype": "text/x-python",
   "name": "python",
   "nbconvert_exporter": "python",
   "pygments_lexer": "ipython3",
   "version": "3.9.5"
  },
  "toc": {
   "base_numbering": 1,
   "nav_menu": {},
   "number_sections": true,
   "sideBar": true,
   "skip_h1_title": true,
   "title_cell": "Table of Contents",
   "title_sidebar": "Contents",
   "toc_cell": false,
   "toc_position": {},
   "toc_section_display": true,
   "toc_window_display": false
  }
 },
 "nbformat": 4,
 "nbformat_minor": 1
}
