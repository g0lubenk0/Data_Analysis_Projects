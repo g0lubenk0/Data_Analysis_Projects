{
 "cells": [
  {
   "cell_type": "markdown",
   "metadata": {},
   "source": [
    "# Принятие решений в бизнесе\n",
    "## Описание проекта\n",
    "Вместе с отделом маркетинга вы подготовили список гипотез для увеличения выручки.\n",
    "Приоритизируйте гипотезы, запустите A/B-тест и проанализируйте результаты. \n",
    "### Описание данных\n",
    "Данные для первой части\n",
    "Файл /datasets/hypothesis.csv.\n",
    "\n",
    "    Hypothesis — краткое описание гипотезы;\n",
    "    Reach — охват пользователей по 10-балльной шкале;\n",
    "    Impact — влияние на пользователей по 10-балльной шкале;\n",
    "    Confidence — уверенность в гипотезе по 10-балльной шкале;\n",
    "    Efforts — затраты ресурсов на проверку гипотезы по 10-балльной шкале. Чем больше значение Efforts, тем дороже проверка гипотезы.\n",
    "\n",
    "Данные для второй части\n",
    "Файл /datasets/orders.csv. \n",
    "\n",
    "    transactionId — идентификатор заказа;\n",
    "    visitorId — идентификатор пользователя, совершившего заказ;\n",
    "    date — дата, когда был совершён заказ;\n",
    "    revenue — выручка заказа;\n",
    "    group — группа A/B-теста, в которую попал заказ.\n",
    "\n",
    "Файл /datasets/visitors.csv. \n",
    "\n",
    "    date — дата;\n",
    "    group — группа A/B-теста;\n",
    "    visitors — количество пользователей в указанную дату в указанной группе A/B-теста"
   ]
  },
  {
   "cell_type": "markdown",
   "metadata": {},
   "source": [
    "Минимальный необходимый объем выборки: 13050 пользователей(при базовой конверсии в 3% и относительном изменении в 20%).\n",
    "Длительность теста: 43 дня (для среднего числа посетителей 607, 2 метриках, базовой конверсии в 3% и относительном изменении в 20% и 100% включенных в тест пользователей)\n",
    "Метрики, которые необходимо улучшить: средний чек и(или) кол-во покупок."
   ]
  },
  {
   "cell_type": "code",
   "execution_count": 1,
   "metadata": {},
   "outputs": [],
   "source": [
    "# Импортируем библиотеки\n",
    "import pandas as pd\n",
    "import matplotlib.pyplot as plt\n",
    "import seaborn as sns\n",
    "from scipy import stats as stats\n",
    "import math\n",
    "import datetime as dt\n",
    "from pandas.plotting import register_matplotlib_converters\n",
    "import warnings\n",
    "import numpy as np"
   ]
  },
  {
   "cell_type": "code",
   "execution_count": 2,
   "metadata": {},
   "outputs": [],
   "source": [
    "# Получим данные гипотез, заказов и посещений\n",
    "hypothesis = pd.read_csv('/datasets/hypothesis.csv')\n",
    "orders = pd.read_csv('/datasets/orders.csv')\n",
    "visitors = pd.read_csv('/datasets/visitors.csv', sep=',')"
   ]
  },
  {
   "cell_type": "code",
   "execution_count": 3,
   "metadata": {
    "scrolled": false
   },
   "outputs": [
    {
     "name": "stdout",
     "output_type": "stream",
     "text": [
      "<class 'pandas.core.frame.DataFrame'>\n",
      "RangeIndex: 9 entries, 0 to 8\n",
      "Data columns (total 5 columns):\n",
      " #   Column      Non-Null Count  Dtype \n",
      "---  ------      --------------  ----- \n",
      " 0   Hypothesis  9 non-null      object\n",
      " 1   Reach       9 non-null      int64 \n",
      " 2   Impact      9 non-null      int64 \n",
      " 3   Confidence  9 non-null      int64 \n",
      " 4   Efforts     9 non-null      int64 \n",
      "dtypes: int64(4), object(1)\n",
      "memory usage: 488.0+ bytes\n"
     ]
    }
   ],
   "source": [
    "# Получим представление о таблице с гипотезами\n",
    "hypothesis.info()"
   ]
  },
  {
   "cell_type": "code",
   "execution_count": 4,
   "metadata": {},
   "outputs": [
    {
     "data": {
      "text/html": [
       "<div>\n",
       "<style scoped>\n",
       "    .dataframe tbody tr th:only-of-type {\n",
       "        vertical-align: middle;\n",
       "    }\n",
       "\n",
       "    .dataframe tbody tr th {\n",
       "        vertical-align: top;\n",
       "    }\n",
       "\n",
       "    .dataframe thead th {\n",
       "        text-align: right;\n",
       "    }\n",
       "</style>\n",
       "<table border=\"1\" class=\"dataframe\">\n",
       "  <thead>\n",
       "    <tr style=\"text-align: right;\">\n",
       "      <th></th>\n",
       "      <th>Hypothesis</th>\n",
       "      <th>Reach</th>\n",
       "      <th>Impact</th>\n",
       "      <th>Confidence</th>\n",
       "      <th>Efforts</th>\n",
       "    </tr>\n",
       "  </thead>\n",
       "  <tbody>\n",
       "    <tr>\n",
       "      <th>0</th>\n",
       "      <td>Добавить два новых канала привлечения трафика,...</td>\n",
       "      <td>3</td>\n",
       "      <td>10</td>\n",
       "      <td>8</td>\n",
       "      <td>6</td>\n",
       "    </tr>\n",
       "    <tr>\n",
       "      <th>1</th>\n",
       "      <td>Запустить собственную службу доставки, что сок...</td>\n",
       "      <td>2</td>\n",
       "      <td>5</td>\n",
       "      <td>4</td>\n",
       "      <td>10</td>\n",
       "    </tr>\n",
       "    <tr>\n",
       "      <th>2</th>\n",
       "      <td>Добавить блоки рекомендаций товаров на сайт ин...</td>\n",
       "      <td>8</td>\n",
       "      <td>3</td>\n",
       "      <td>7</td>\n",
       "      <td>3</td>\n",
       "    </tr>\n",
       "    <tr>\n",
       "      <th>3</th>\n",
       "      <td>Изменить структура категорий, что увеличит кон...</td>\n",
       "      <td>8</td>\n",
       "      <td>3</td>\n",
       "      <td>3</td>\n",
       "      <td>8</td>\n",
       "    </tr>\n",
       "    <tr>\n",
       "      <th>4</th>\n",
       "      <td>Изменить цвет фона главной страницы, чтобы уве...</td>\n",
       "      <td>3</td>\n",
       "      <td>1</td>\n",
       "      <td>1</td>\n",
       "      <td>1</td>\n",
       "    </tr>\n",
       "  </tbody>\n",
       "</table>\n",
       "</div>"
      ],
      "text/plain": [
       "                                          Hypothesis  Reach  Impact  \\\n",
       "0  Добавить два новых канала привлечения трафика,...      3      10   \n",
       "1  Запустить собственную службу доставки, что сок...      2       5   \n",
       "2  Добавить блоки рекомендаций товаров на сайт ин...      8       3   \n",
       "3  Изменить структура категорий, что увеличит кон...      8       3   \n",
       "4  Изменить цвет фона главной страницы, чтобы уве...      3       1   \n",
       "\n",
       "   Confidence  Efforts  \n",
       "0           8        6  \n",
       "1           4       10  \n",
       "2           7        3  \n",
       "3           3        8  \n",
       "4           1        1  "
      ]
     },
     "execution_count": 4,
     "metadata": {},
     "output_type": "execute_result"
    }
   ],
   "source": [
    "hypothesis.head(5)"
   ]
  },
  {
   "cell_type": "code",
   "execution_count": 5,
   "metadata": {
    "scrolled": true
   },
   "outputs": [
    {
     "name": "stdout",
     "output_type": "stream",
     "text": [
      "<class 'pandas.core.frame.DataFrame'>\n",
      "RangeIndex: 1197 entries, 0 to 1196\n",
      "Data columns (total 5 columns):\n",
      " #   Column         Non-Null Count  Dtype \n",
      "---  ------         --------------  ----- \n",
      " 0   transactionId  1197 non-null   int64 \n",
      " 1   visitorId      1197 non-null   int64 \n",
      " 2   date           1197 non-null   object\n",
      " 3   revenue        1197 non-null   int64 \n",
      " 4   group          1197 non-null   object\n",
      "dtypes: int64(3), object(2)\n",
      "memory usage: 46.9+ KB\n"
     ]
    }
   ],
   "source": [
    "# Получим представление о таблице с заказами\n",
    "orders.info()"
   ]
  },
  {
   "cell_type": "code",
   "execution_count": 6,
   "metadata": {
    "scrolled": true
   },
   "outputs": [
    {
     "data": {
      "text/html": [
       "<div>\n",
       "<style scoped>\n",
       "    .dataframe tbody tr th:only-of-type {\n",
       "        vertical-align: middle;\n",
       "    }\n",
       "\n",
       "    .dataframe tbody tr th {\n",
       "        vertical-align: top;\n",
       "    }\n",
       "\n",
       "    .dataframe thead th {\n",
       "        text-align: right;\n",
       "    }\n",
       "</style>\n",
       "<table border=\"1\" class=\"dataframe\">\n",
       "  <thead>\n",
       "    <tr style=\"text-align: right;\">\n",
       "      <th></th>\n",
       "      <th>transactionId</th>\n",
       "      <th>visitorId</th>\n",
       "      <th>date</th>\n",
       "      <th>revenue</th>\n",
       "      <th>group</th>\n",
       "    </tr>\n",
       "  </thead>\n",
       "  <tbody>\n",
       "    <tr>\n",
       "      <th>0</th>\n",
       "      <td>3667963787</td>\n",
       "      <td>3312258926</td>\n",
       "      <td>2019-08-15</td>\n",
       "      <td>1650</td>\n",
       "      <td>B</td>\n",
       "    </tr>\n",
       "    <tr>\n",
       "      <th>1</th>\n",
       "      <td>2804400009</td>\n",
       "      <td>3642806036</td>\n",
       "      <td>2019-08-15</td>\n",
       "      <td>730</td>\n",
       "      <td>B</td>\n",
       "    </tr>\n",
       "    <tr>\n",
       "      <th>2</th>\n",
       "      <td>2961555356</td>\n",
       "      <td>4069496402</td>\n",
       "      <td>2019-08-15</td>\n",
       "      <td>400</td>\n",
       "      <td>A</td>\n",
       "    </tr>\n",
       "    <tr>\n",
       "      <th>3</th>\n",
       "      <td>3797467345</td>\n",
       "      <td>1196621759</td>\n",
       "      <td>2019-08-15</td>\n",
       "      <td>9759</td>\n",
       "      <td>B</td>\n",
       "    </tr>\n",
       "    <tr>\n",
       "      <th>4</th>\n",
       "      <td>2282983706</td>\n",
       "      <td>2322279887</td>\n",
       "      <td>2019-08-15</td>\n",
       "      <td>2308</td>\n",
       "      <td>B</td>\n",
       "    </tr>\n",
       "  </tbody>\n",
       "</table>\n",
       "</div>"
      ],
      "text/plain": [
       "   transactionId   visitorId        date  revenue group\n",
       "0     3667963787  3312258926  2019-08-15     1650     B\n",
       "1     2804400009  3642806036  2019-08-15      730     B\n",
       "2     2961555356  4069496402  2019-08-15      400     A\n",
       "3     3797467345  1196621759  2019-08-15     9759     B\n",
       "4     2282983706  2322279887  2019-08-15     2308     B"
      ]
     },
     "execution_count": 6,
     "metadata": {},
     "output_type": "execute_result"
    }
   ],
   "source": [
    "orders.head(5)"
   ]
  },
  {
   "cell_type": "code",
   "execution_count": 7,
   "metadata": {
    "scrolled": true
   },
   "outputs": [
    {
     "data": {
      "text/html": [
       "<div>\n",
       "<style scoped>\n",
       "    .dataframe tbody tr th:only-of-type {\n",
       "        vertical-align: middle;\n",
       "    }\n",
       "\n",
       "    .dataframe tbody tr th {\n",
       "        vertical-align: top;\n",
       "    }\n",
       "\n",
       "    .dataframe thead th {\n",
       "        text-align: right;\n",
       "    }\n",
       "</style>\n",
       "<table border=\"1\" class=\"dataframe\">\n",
       "  <thead>\n",
       "    <tr style=\"text-align: right;\">\n",
       "      <th></th>\n",
       "      <th>transactionId</th>\n",
       "      <th>visitorId</th>\n",
       "      <th>date</th>\n",
       "      <th>revenue</th>\n",
       "      <th>group</th>\n",
       "    </tr>\n",
       "  </thead>\n",
       "  <tbody>\n",
       "  </tbody>\n",
       "</table>\n",
       "</div>"
      ],
      "text/plain": [
       "Empty DataFrame\n",
       "Columns: [transactionId, visitorId, date, revenue, group]\n",
       "Index: []"
      ]
     },
     "execution_count": 7,
     "metadata": {},
     "output_type": "execute_result"
    }
   ],
   "source": [
    "# Проверю не попадает ли один пользователь в две группы\n",
    "orders[(orders['group'] == 'A') & (orders['group'] == 'B')]"
   ]
  },
  {
   "cell_type": "code",
   "execution_count": 8,
   "metadata": {},
   "outputs": [
    {
     "data": {
      "text/plain": [
       "'2019-08-01'"
      ]
     },
     "execution_count": 8,
     "metadata": {},
     "output_type": "execute_result"
    }
   ],
   "source": [
    "# Минимальная дата доступная для заказов\n",
    "orders['date'].min()"
   ]
  },
  {
   "cell_type": "code",
   "execution_count": 9,
   "metadata": {},
   "outputs": [
    {
     "data": {
      "text/plain": [
       "'2019-08-31'"
      ]
     },
     "execution_count": 9,
     "metadata": {},
     "output_type": "execute_result"
    }
   ],
   "source": [
    "# Максимальная дата доступная для заказов\n",
    "orders['date'].max()"
   ]
  },
  {
   "cell_type": "code",
   "execution_count": 10,
   "metadata": {
    "scrolled": false
   },
   "outputs": [
    {
     "name": "stdout",
     "output_type": "stream",
     "text": [
      "<class 'pandas.core.frame.DataFrame'>\n",
      "RangeIndex: 62 entries, 0 to 61\n",
      "Data columns (total 3 columns):\n",
      " #   Column    Non-Null Count  Dtype \n",
      "---  ------    --------------  ----- \n",
      " 0   date      62 non-null     object\n",
      " 1   group     62 non-null     object\n",
      " 2   visitors  62 non-null     int64 \n",
      "dtypes: int64(1), object(2)\n",
      "memory usage: 1.6+ KB\n"
     ]
    }
   ],
   "source": [
    "# Получим представление о таблице с посещениями\n",
    "visitors.info()"
   ]
  },
  {
   "cell_type": "code",
   "execution_count": 11,
   "metadata": {
    "scrolled": false
   },
   "outputs": [
    {
     "data": {
      "text/html": [
       "<div>\n",
       "<style scoped>\n",
       "    .dataframe tbody tr th:only-of-type {\n",
       "        vertical-align: middle;\n",
       "    }\n",
       "\n",
       "    .dataframe tbody tr th {\n",
       "        vertical-align: top;\n",
       "    }\n",
       "\n",
       "    .dataframe thead th {\n",
       "        text-align: right;\n",
       "    }\n",
       "</style>\n",
       "<table border=\"1\" class=\"dataframe\">\n",
       "  <thead>\n",
       "    <tr style=\"text-align: right;\">\n",
       "      <th></th>\n",
       "      <th>date</th>\n",
       "      <th>group</th>\n",
       "      <th>visitors</th>\n",
       "    </tr>\n",
       "  </thead>\n",
       "  <tbody>\n",
       "    <tr>\n",
       "      <th>0</th>\n",
       "      <td>2019-08-01</td>\n",
       "      <td>A</td>\n",
       "      <td>719</td>\n",
       "    </tr>\n",
       "    <tr>\n",
       "      <th>1</th>\n",
       "      <td>2019-08-02</td>\n",
       "      <td>A</td>\n",
       "      <td>619</td>\n",
       "    </tr>\n",
       "    <tr>\n",
       "      <th>2</th>\n",
       "      <td>2019-08-03</td>\n",
       "      <td>A</td>\n",
       "      <td>507</td>\n",
       "    </tr>\n",
       "    <tr>\n",
       "      <th>3</th>\n",
       "      <td>2019-08-04</td>\n",
       "      <td>A</td>\n",
       "      <td>717</td>\n",
       "    </tr>\n",
       "    <tr>\n",
       "      <th>4</th>\n",
       "      <td>2019-08-05</td>\n",
       "      <td>A</td>\n",
       "      <td>756</td>\n",
       "    </tr>\n",
       "  </tbody>\n",
       "</table>\n",
       "</div>"
      ],
      "text/plain": [
       "         date group  visitors\n",
       "0  2019-08-01     A       719\n",
       "1  2019-08-02     A       619\n",
       "2  2019-08-03     A       507\n",
       "3  2019-08-04     A       717\n",
       "4  2019-08-05     A       756"
      ]
     },
     "execution_count": 11,
     "metadata": {},
     "output_type": "execute_result"
    }
   ],
   "source": [
    "visitors.head(5)"
   ]
  },
  {
   "cell_type": "code",
   "execution_count": 12,
   "metadata": {
    "scrolled": true
   },
   "outputs": [
    {
     "data": {
      "text/plain": [
       "array(['A', 'B'], dtype=object)"
      ]
     },
     "execution_count": 12,
     "metadata": {},
     "output_type": "execute_result"
    }
   ],
   "source": [
    "# Проверим уникальные группы\n",
    "visitors['group'].unique()"
   ]
  },
  {
   "cell_type": "code",
   "execution_count": 13,
   "metadata": {
    "scrolled": false
   },
   "outputs": [
    {
     "data": {
      "text/plain": [
       "date        31\n",
       "group       31\n",
       "visitors    31\n",
       "dtype: int64"
      ]
     },
     "execution_count": 13,
     "metadata": {},
     "output_type": "execute_result"
    }
   ],
   "source": [
    "# Посчитаем кол-во пользователей в группе A\n",
    "visitors[visitors['group'] == 'A'].count()"
   ]
  },
  {
   "cell_type": "code",
   "execution_count": 14,
   "metadata": {},
   "outputs": [
    {
     "data": {
      "text/plain": [
       "date        31\n",
       "group       31\n",
       "visitors    31\n",
       "dtype: int64"
      ]
     },
     "execution_count": 14,
     "metadata": {},
     "output_type": "execute_result"
    }
   ],
   "source": [
    "# Посчитаем кол-во пользователей в группе B\n",
    "visitors[visitors['group'] == 'B'].count()"
   ]
  },
  {
   "cell_type": "code",
   "execution_count": 15,
   "metadata": {},
   "outputs": [
    {
     "data": {
      "text/html": [
       "<div>\n",
       "<style scoped>\n",
       "    .dataframe tbody tr th:only-of-type {\n",
       "        vertical-align: middle;\n",
       "    }\n",
       "\n",
       "    .dataframe tbody tr th {\n",
       "        vertical-align: top;\n",
       "    }\n",
       "\n",
       "    .dataframe thead th {\n",
       "        text-align: right;\n",
       "    }\n",
       "</style>\n",
       "<table border=\"1\" class=\"dataframe\">\n",
       "  <thead>\n",
       "    <tr style=\"text-align: right;\">\n",
       "      <th></th>\n",
       "      <th>date</th>\n",
       "      <th>group</th>\n",
       "      <th>visitors</th>\n",
       "    </tr>\n",
       "  </thead>\n",
       "  <tbody>\n",
       "    <tr>\n",
       "      <th>0</th>\n",
       "      <td>2019-08-01</td>\n",
       "      <td>A</td>\n",
       "      <td>719</td>\n",
       "    </tr>\n",
       "    <tr>\n",
       "      <th>1</th>\n",
       "      <td>2019-08-02</td>\n",
       "      <td>A</td>\n",
       "      <td>619</td>\n",
       "    </tr>\n",
       "    <tr>\n",
       "      <th>2</th>\n",
       "      <td>2019-08-03</td>\n",
       "      <td>A</td>\n",
       "      <td>507</td>\n",
       "    </tr>\n",
       "    <tr>\n",
       "      <th>3</th>\n",
       "      <td>2019-08-04</td>\n",
       "      <td>A</td>\n",
       "      <td>717</td>\n",
       "    </tr>\n",
       "    <tr>\n",
       "      <th>4</th>\n",
       "      <td>2019-08-05</td>\n",
       "      <td>A</td>\n",
       "      <td>756</td>\n",
       "    </tr>\n",
       "    <tr>\n",
       "      <th>...</th>\n",
       "      <td>...</td>\n",
       "      <td>...</td>\n",
       "      <td>...</td>\n",
       "    </tr>\n",
       "    <tr>\n",
       "      <th>57</th>\n",
       "      <td>2019-08-27</td>\n",
       "      <td>B</td>\n",
       "      <td>720</td>\n",
       "    </tr>\n",
       "    <tr>\n",
       "      <th>58</th>\n",
       "      <td>2019-08-28</td>\n",
       "      <td>B</td>\n",
       "      <td>654</td>\n",
       "    </tr>\n",
       "    <tr>\n",
       "      <th>59</th>\n",
       "      <td>2019-08-29</td>\n",
       "      <td>B</td>\n",
       "      <td>531</td>\n",
       "    </tr>\n",
       "    <tr>\n",
       "      <th>60</th>\n",
       "      <td>2019-08-30</td>\n",
       "      <td>B</td>\n",
       "      <td>490</td>\n",
       "    </tr>\n",
       "    <tr>\n",
       "      <th>61</th>\n",
       "      <td>2019-08-31</td>\n",
       "      <td>B</td>\n",
       "      <td>718</td>\n",
       "    </tr>\n",
       "  </tbody>\n",
       "</table>\n",
       "<p>62 rows × 3 columns</p>\n",
       "</div>"
      ],
      "text/plain": [
       "          date group  visitors\n",
       "0   2019-08-01     A       719\n",
       "1   2019-08-02     A       619\n",
       "2   2019-08-03     A       507\n",
       "3   2019-08-04     A       717\n",
       "4   2019-08-05     A       756\n",
       "..         ...   ...       ...\n",
       "57  2019-08-27     B       720\n",
       "58  2019-08-28     B       654\n",
       "59  2019-08-29     B       531\n",
       "60  2019-08-30     B       490\n",
       "61  2019-08-31     B       718\n",
       "\n",
       "[62 rows x 3 columns]"
      ]
     },
     "execution_count": 15,
     "metadata": {},
     "output_type": "execute_result"
    }
   ],
   "source": [
    "visitors"
   ]
  },
  {
   "cell_type": "code",
   "execution_count": 16,
   "metadata": {},
   "outputs": [
    {
     "data": {
      "text/plain": [
       "'2019-08-01'"
      ]
     },
     "execution_count": 16,
     "metadata": {},
     "output_type": "execute_result"
    }
   ],
   "source": [
    "# Минимальная дата доступная для посещений\n",
    "visitors['date'].min()"
   ]
  },
  {
   "cell_type": "code",
   "execution_count": 17,
   "metadata": {},
   "outputs": [
    {
     "data": {
      "text/plain": [
       "'2019-08-31'"
      ]
     },
     "execution_count": 17,
     "metadata": {},
     "output_type": "execute_result"
    }
   ],
   "source": [
    "# Максимальная дата доступная для посещений\n",
    "visitors['date'].max()"
   ]
  },
  {
   "cell_type": "markdown",
   "metadata": {},
   "source": [
    "Всё сходится."
   ]
  },
  {
   "cell_type": "markdown",
   "metadata": {},
   "source": [
    "Можно сделать вывод, что:\n",
    "- Привести названия столбцов в таблице с гипотезами к нижнему регистру\n",
    "- В таблице заказов нужно привести дату к datetime64.\n",
    "- В таблице посещений нужно привести дату к datetime64.\n",
    "- Тест проводился в августе с 01-08-2019 до 31-08-2019\n",
    "- Пользователей попавлших в обе группы нет"
   ]
  },
  {
   "cell_type": "code",
   "execution_count": 18,
   "metadata": {},
   "outputs": [],
   "source": [
    "# Приводим к нижнему регистру\n",
    "hypothesis.columns= hypothesis.columns.str.lower()"
   ]
  },
  {
   "cell_type": "code",
   "execution_count": 19,
   "metadata": {
    "scrolled": false
   },
   "outputs": [],
   "source": [
    "# Меняем формат даты\n",
    "orders['date'] = pd.to_datetime(orders['date'])\n",
    "visitors['date'] = pd.to_datetime(visitors['date'])"
   ]
  },
  {
   "cell_type": "markdown",
   "metadata": {},
   "source": [
    "## Приоритезация гипотез"
   ]
  },
  {
   "cell_type": "code",
   "execution_count": 20,
   "metadata": {},
   "outputs": [
    {
     "data": {
      "text/html": [
       "<div>\n",
       "<style scoped>\n",
       "    .dataframe tbody tr th:only-of-type {\n",
       "        vertical-align: middle;\n",
       "    }\n",
       "\n",
       "    .dataframe tbody tr th {\n",
       "        vertical-align: top;\n",
       "    }\n",
       "\n",
       "    .dataframe thead th {\n",
       "        text-align: right;\n",
       "    }\n",
       "</style>\n",
       "<table border=\"1\" class=\"dataframe\">\n",
       "  <thead>\n",
       "    <tr style=\"text-align: right;\">\n",
       "      <th></th>\n",
       "      <th>hypothesis</th>\n",
       "      <th>ICE</th>\n",
       "    </tr>\n",
       "  </thead>\n",
       "  <tbody>\n",
       "    <tr>\n",
       "      <th>8</th>\n",
       "      <td>Запустить акцию, дающую скидку на товар в день рождения</td>\n",
       "      <td>16.0</td>\n",
       "    </tr>\n",
       "    <tr>\n",
       "      <th>0</th>\n",
       "      <td>Добавить два новых канала привлечения трафика, что позволит привлекать на 30% больше пользователей</td>\n",
       "      <td>13.0</td>\n",
       "    </tr>\n",
       "    <tr>\n",
       "      <th>7</th>\n",
       "      <td>Добавить форму подписки на все основные страницы, чтобы собрать базу клиентов для email-рассылок</td>\n",
       "      <td>11.0</td>\n",
       "    </tr>\n",
       "    <tr>\n",
       "      <th>6</th>\n",
       "      <td>Показать на главной странице баннеры с актуальными акциями и распродажами, чтобы увеличить конверсию</td>\n",
       "      <td>8.0</td>\n",
       "    </tr>\n",
       "    <tr>\n",
       "      <th>2</th>\n",
       "      <td>Добавить блоки рекомендаций товаров на сайт интернет магазина, чтобы повысить конверсию и средний чек заказа</td>\n",
       "      <td>7.0</td>\n",
       "    </tr>\n",
       "    <tr>\n",
       "      <th>1</th>\n",
       "      <td>Запустить собственную службу доставки, что сократит срок доставки заказов</td>\n",
       "      <td>2.0</td>\n",
       "    </tr>\n",
       "    <tr>\n",
       "      <th>5</th>\n",
       "      <td>Добавить страницу отзывов клиентов о магазине, что позволит увеличить количество заказов</td>\n",
       "      <td>1.0</td>\n",
       "    </tr>\n",
       "    <tr>\n",
       "      <th>3</th>\n",
       "      <td>Изменить структура категорий, что увеличит конверсию, т.к. пользователи быстрее найдут нужный товар</td>\n",
       "      <td>1.0</td>\n",
       "    </tr>\n",
       "    <tr>\n",
       "      <th>4</th>\n",
       "      <td>Изменить цвет фона главной страницы, чтобы увеличить вовлеченность пользователей</td>\n",
       "      <td>1.0</td>\n",
       "    </tr>\n",
       "  </tbody>\n",
       "</table>\n",
       "</div>"
      ],
      "text/plain": [
       "                                                                                                     hypothesis  \\\n",
       "8                                                       Запустить акцию, дающую скидку на товар в день рождения   \n",
       "0            Добавить два новых канала привлечения трафика, что позволит привлекать на 30% больше пользователей   \n",
       "7              Добавить форму подписки на все основные страницы, чтобы собрать базу клиентов для email-рассылок   \n",
       "6          Показать на главной странице баннеры с актуальными акциями и распродажами, чтобы увеличить конверсию   \n",
       "2  Добавить блоки рекомендаций товаров на сайт интернет магазина, чтобы повысить конверсию и средний чек заказа   \n",
       "1                                     Запустить собственную службу доставки, что сократит срок доставки заказов   \n",
       "5                      Добавить страницу отзывов клиентов о магазине, что позволит увеличить количество заказов   \n",
       "3           Изменить структура категорий, что увеличит конверсию, т.к. пользователи быстрее найдут нужный товар   \n",
       "4                              Изменить цвет фона главной страницы, чтобы увеличить вовлеченность пользователей   \n",
       "\n",
       "    ICE  \n",
       "8  16.0  \n",
       "0  13.0  \n",
       "7  11.0  \n",
       "6   8.0  \n",
       "2   7.0  \n",
       "1   2.0  \n",
       "5   1.0  \n",
       "3   1.0  \n",
       "4   1.0  "
      ]
     },
     "execution_count": 20,
     "metadata": {},
     "output_type": "execute_result"
    }
   ],
   "source": [
    "hypothesis['ICE'] = (hypothesis['impact']*hypothesis['confidence'])/hypothesis['efforts']\n",
    "pd.options.display.max_colwidth = 210\n",
    "hypothesis[['hypothesis', 'ICE']].sort_values(by='ICE', ascending=False).round()\n"
   ]
  },
  {
   "cell_type": "code",
   "execution_count": 21,
   "metadata": {},
   "outputs": [
    {
     "data": {
      "image/png": "[encoded data removed]",
      "text/plain": [
       "<Figure size 432x288 with 1 Axes>"
      ]
     },
     "metadata": {
      "needs_background": "light"
     },
     "output_type": "display_data"
    }
   ],
   "source": [
    "ax = hypothesis[['hypothesis', 'ICE']].set_index('hypothesis').sort_values('ICE', ascending=True).plot(kind='barh')\n",
    "ax.set_xlabel('Приоритет')\n",
    "ax.set_ylabel('Гипотеза')\n",
    "ax.set_title('ICE')\n",
    "plt.show()"
   ]
  },
  {
   "cell_type": "code",
   "execution_count": 22,
   "metadata": {},
   "outputs": [
    {
     "name": "stdout",
     "output_type": "stream",
     "text": [
      "                                                                                                     hypothesis  \\\n",
      "7              Добавить форму подписки на все основные страницы, чтобы собрать базу клиентов для email-рассылок   \n",
      "2  Добавить блоки рекомендаций товаров на сайт интернет магазина, чтобы повысить конверсию и средний чек заказа   \n",
      "0            Добавить два новых канала привлечения трафика, что позволит привлекать на 30% больше пользователей   \n",
      "6          Показать на главной странице баннеры с актуальными акциями и распродажами, чтобы увеличить конверсию   \n",
      "8                                                       Запустить акцию, дающую скидку на товар в день рождения   \n",
      "3           Изменить структура категорий, что увеличит конверсию, т.к. пользователи быстрее найдут нужный товар   \n",
      "1                                     Запустить собственную службу доставки, что сократит срок доставки заказов   \n",
      "5                      Добавить страницу отзывов клиентов о магазине, что позволит увеличить количество заказов   \n",
      "4                              Изменить цвет фона главной страницы, чтобы увеличить вовлеченность пользователей   \n",
      "\n",
      "    RICE  \n",
      "7  112.0  \n",
      "2   56.0  \n",
      "0   40.0  \n",
      "6   40.0  \n",
      "8   16.2  \n",
      "3    9.0  \n",
      "1    4.0  \n",
      "5    4.0  \n",
      "4    3.0  \n"
     ]
    }
   ],
   "source": [
    "hypothesis['RICE'] = (hypothesis['reach']*hypothesis['impact']*hypothesis['confidence'])/hypothesis['efforts']\n",
    "\n",
    "print(hypothesis[['hypothesis','RICE']].sort_values(by = 'RICE', ascending = False))"
   ]
  },
  {
   "cell_type": "code",
   "execution_count": 23,
   "metadata": {},
   "outputs": [
    {
     "data": {
      "image/png": "[encoded data removed]",
      "text/plain": [
       "<Figure size 432x288 with 1 Axes>"
      ]
     },
     "metadata": {
      "needs_background": "light"
     },
     "output_type": "display_data"
    }
   ],
   "source": [
    "ax = hypothesis[['hypothesis', 'RICE']].set_index('hypothesis').sort_values('RICE', ascending=True).plot(kind='barh')\n",
    "ax.set_xlabel('Приоритет')\n",
    "ax.set_ylabel('Гипотеза')\n",
    "ax.set_title('RICE')\n",
    "plt.show()"
   ]
  },
  {
   "cell_type": "markdown",
   "metadata": {},
   "source": [
    "Последние 4 гипотезы незначительно изменились и между собой они примерно на тех же местах. Из оставшихся 5, гипотеза, которая была на 3 месте по приоритету в ICE перешла на 1 место в RICE. Остальные же 4 потеряли в приоритете или остались на том же уровне.\n",
    "\n",
    "Это произовшло из-за различия в ICE и RICE. RICE учитывает ещё и охват пользователей."
   ]
  },
  {
   "cell_type": "markdown",
   "metadata": {},
   "source": [
    "## Анализ A/B-теста"
   ]
  },
  {
   "cell_type": "markdown",
   "metadata": {},
   "source": [
    "### График кумулятивной выручки по группам. Выводы и предположения."
   ]
  },
  {
   "cell_type": "code",
   "execution_count": 24,
   "metadata": {},
   "outputs": [
    {
     "data": {
      "text/plain": [
       "<matplotlib.legend.Legend at 0x7f8c8ae88be0>"
      ]
     },
     "execution_count": 24,
     "metadata": {},
     "output_type": "execute_result"
    },
    {
     "data": {
      "image/png": "[encoded data removed]",
      "text/plain": [
       "<Figure size 432x288 with 1 Axes>"
      ]
     },
     "metadata": {
      "needs_background": "light"
     },
     "output_type": "display_data"
    }
   ],
   "source": [
    "datesGroups = orders[['date', 'group']].drop_duplicates()\n",
    "\n",
    "ordersAggregated = datesGroups.apply(\n",
    "    lambda x: orders[\n",
    "        np.logical_and(\n",
    "            orders['date'] <= x['date'], orders['group'] == x['group']\n",
    "        )\n",
    "    ].agg(\n",
    "        {\n",
    "            'date': 'max',\n",
    "            'group': 'max',\n",
    "            'transactionId': 'nunique',\n",
    "            'visitorId': 'nunique',\n",
    "            'revenue': 'sum',\n",
    "        }\n",
    "    ),\n",
    "    axis=1,\n",
    ").sort_values(by=['date', 'group'])\n",
    "\n",
    "visitorsAggregated = datesGroups.apply(\n",
    "    lambda x: visitors[\n",
    "        np.logical_and(\n",
    "            visitors['date'] <= x['date'], visitors['group'] == x['group']\n",
    "        )\n",
    "    ].agg({'date': 'max', 'group': 'max', 'visitors': 'sum'}),\n",
    "    axis=1,\n",
    ").sort_values(by=['date', 'group'])\n",
    "\n",
    "cumulativeData = ordersAggregated.merge(\n",
    "    visitorsAggregated, left_on=['date', 'group'], right_on=['date', 'group']\n",
    ")\n",
    "cumulativeData.columns = [\n",
    "    'date',\n",
    "    'group',\n",
    "    'orders',\n",
    "    'buyers',\n",
    "    'revenue',\n",
    "    'visitors',\n",
    "]\n",
    "\n",
    "cumulativeRevenueA = cumulativeData[cumulativeData['group']=='A'][['date','revenue', 'orders']]\n",
    "\n",
    "# датафрейм с кумулятивным количеством заказов и кумулятивной выручкой по дням в группе B\n",
    "cumulativeRevenueB = cumulativeData[cumulativeData['group']=='B'][['date','revenue', 'orders']]\n",
    "\n",
    "# Строим график выручки группы А\n",
    "plt.plot(cumulativeRevenueA['date'], cumulativeRevenueA['revenue'], label='A')\n",
    "\n",
    "# Строим график выручки группы B\n",
    "plt.plot(cumulativeRevenueB['date'], cumulativeRevenueB['revenue'], label='B')\n",
    "plt.xlabel('Дата');\n",
    "plt.ylabel('Выручка')\n",
    "plt.title('Куммулятивный выручка')\n",
    "plt.xticks(rotation=45)\n",
    "plt.legend() "
   ]
  },
  {
   "cell_type": "markdown",
   "metadata": {},
   "source": [
    "У B наблюдется скачок, возможно выброс. Дальше продолжается такой же линейный рост. Это может сигнализировать о всплесках числа заказов, либо о появлении очень дорогих заказов в выборке."
   ]
  },
  {
   "cell_type": "markdown",
   "metadata": {},
   "source": [
    "### График кумулятивного среднего чека по группам. Сделайте выводы и предположения."
   ]
  },
  {
   "cell_type": "code",
   "execution_count": 25,
   "metadata": {
    "scrolled": true
   },
   "outputs": [
    {
     "data": {
      "image/png": "[encoded data removed]",
      "text/plain": [
       "<Figure size 432x288 with 1 Axes>"
      ]
     },
     "metadata": {
      "needs_background": "light"
     },
     "output_type": "display_data"
    }
   ],
   "source": [
    "plt.plot(cumulativeRevenueA['date'], cumulativeRevenueA['revenue']/cumulativeRevenueA['orders'], label='A')\n",
    "plt.plot(cumulativeRevenueB['date'], cumulativeRevenueB['revenue']/cumulativeRevenueB['orders'], label='B')\n",
    "plt.xlabel('Дата');\n",
    "plt.ylabel('Сумма выручки')\n",
    "plt.title('Куммулятивный средний чек по группам')\n",
    "plt.xticks(rotation=45)\n",
    "plt.show() "
   ]
  },
  {
   "cell_type": "markdown",
   "metadata": {},
   "source": [
    "Средний чек для B рос в начале рос небольшими скачками, что в пределах нормы. В 20 числах августа происходит резкий скачок среднего чека для B. Затем он равномерно медленно падает. А держится на +/- на одно уровне с 13 августа."
   ]
  },
  {
   "cell_type": "markdown",
   "metadata": {},
   "source": [
    "### График относительного изменения кумулятивного среднего чека группы B к группе A. Выводы и предположения."
   ]
  },
  {
   "cell_type": "code",
   "execution_count": 26,
   "metadata": {
    "scrolled": true
   },
   "outputs": [
    {
     "data": {
      "text/plain": [
       "<matplotlib.lines.Line2D at 0x7f8c8aac8cd0>"
      ]
     },
     "execution_count": 26,
     "metadata": {},
     "output_type": "execute_result"
    },
    {
     "data": {
      "image/png": "[encoded data removed]",
      "text/plain": [
       "<Figure size 432x288 with 1 Axes>"
      ]
     },
     "metadata": {
      "needs_background": "light"
     },
     "output_type": "display_data"
    }
   ],
   "source": [
    "# собираем данные в одном датафрейме\n",
    "mergedCumulativeRevenue = cumulativeRevenueA.merge(cumulativeRevenueB, left_on='date', right_on='date', how='left', suffixes=['A', 'B'])\n",
    "\n",
    "# cтроим отношение средних чеков\n",
    "plt.plot(mergedCumulativeRevenue['date'], (mergedCumulativeRevenue['revenueB']/mergedCumulativeRevenue['ordersB'])/(mergedCumulativeRevenue['revenueA']/mergedCumulativeRevenue['ordersA'])-1)\n",
    "plt.xticks(rotation=45)\n",
    "plt.xlabel('Дата');\n",
    "plt.ylabel('Коэффициент')\n",
    "plt.title('Куммулятивный средний чек группы B к А')\n",
    "# добавляем ось X\n",
    "plt.axhline(y=0, color='black', linestyle='--') "
   ]
  },
  {
   "cell_type": "markdown",
   "metadata": {},
   "source": [
    "Стоимость среднего чека B вначале была больше, потом произвошло резкое падение, что можно видеть на графике относительной стоимости. После выброса средняя стоимость чека B относительно А снова стала больше, и потом падает до уровня в 0.3."
   ]
  },
  {
   "cell_type": "markdown",
   "metadata": {},
   "source": [
    "### График кумулятивного среднего количества заказов по группам. Выводы и предположения."
   ]
  },
  {
   "cell_type": "code",
   "execution_count": 27,
   "metadata": {
    "scrolled": true
   },
   "outputs": [
    {
     "data": {
      "text/plain": [
       "(18109.0, 18140.0, 0.0, 0.05)"
      ]
     },
     "execution_count": 27,
     "metadata": {},
     "output_type": "execute_result"
    },
    {
     "data": {
      "image/png": "[encoded data removed]",
      "text/plain": [
       "<Figure size 432x288 with 1 Axes>"
      ]
     },
     "metadata": {
      "needs_background": "light"
     },
     "output_type": "display_data"
    }
   ],
   "source": [
    "cumulativeData['conversion'] = cumulativeData['orders']/cumulativeData['visitors']\n",
    "\n",
    "# отделяем данные по группе A\n",
    "cumulativeDataA = cumulativeData[cumulativeData['group']=='A']\n",
    "\n",
    "# отделяем данные по группе B\n",
    "cumulativeDataB = cumulativeData[cumulativeData['group']=='B']\n",
    "\n",
    "# строим графики\n",
    "plt.plot(cumulativeDataA['date'], cumulativeDataA['conversion'], label='A')\n",
    "plt.plot(cumulativeDataB['date'], cumulativeDataB['conversion'], label='B')\n",
    "plt.legend()\n",
    "plt.xlabel('Дата');\n",
    "plt.ylabel('Конверсия')\n",
    "plt.title('Куммулятивное среднее кол-во заказов по группам')\n",
    "plt.xticks(rotation=45)\n",
    "\n",
    "# задаем масштаб осей\n",
    "plt.axis([dt.datetime(2019, 8, 1), dt.datetime(2019, 9, 1), 0, 0.05])"
   ]
  },
  {
   "cell_type": "markdown",
   "metadata": {},
   "source": [
    "Куммулятивное среднее количество заказов  для пользователей группы B выше, чем для пользователей группы А, почти для всего временного промежутка."
   ]
  },
  {
   "cell_type": "markdown",
   "metadata": {},
   "source": [
    "### График относительного изменения кумулятивного среднего количества заказов группы B к группе A. Выводы и предположения."
   ]
  },
  {
   "cell_type": "code",
   "execution_count": 28,
   "metadata": {},
   "outputs": [
    {
     "data": {
      "text/plain": [
       "(18109.0, 18140.0, -0.5, 0.5)"
      ]
     },
     "execution_count": 28,
     "metadata": {},
     "output_type": "execute_result"
    },
    {
     "data": {
      "image/png": "[encoded data removed]",
      "text/plain": [
       "<Figure size 432x288 with 1 Axes>"
      ]
     },
     "metadata": {
      "needs_background": "light"
     },
     "output_type": "display_data"
    }
   ],
   "source": [
    "mergedCumulativeConversions = cumulativeDataA[['date','conversion']].merge(cumulativeDataB[['date','conversion']], left_on='date', right_on='date', how='left', suffixes=['A', 'B'])\n",
    "plt.plot(mergedCumulativeConversions['date'], mergedCumulativeConversions['conversionB']/mergedCumulativeConversions['conversionA']-1, label=\"Относительный прирост конверсии группы B относительно группы A\")\n",
    "plt.legend()\n",
    "plt.xticks(rotation=45)\n",
    "plt.xlabel('Дата');\n",
    "plt.ylabel('Коэффициент')\n",
    "plt.title('График относительной конверсии групп B и А')\n",
    "plt.axhline(y=0, color='black', linestyle='--')\n",
    "plt.axhline(y=-0.1, color='grey', linestyle='--')\n",
    "plt.axis([dt.datetime(2019, 8, 1), dt.datetime(2019, 9, 1), -0.5, 0.5]) "
   ]
  },
  {
   "cell_type": "markdown",
   "metadata": {},
   "source": [
    "В начале теста группа B проигрывала группе A, затем вырвалась вперёд. Потом её конверсия держалась на одном уровне в 0.2 в сравнении с А. Но дней теста не особо много."
   ]
  },
  {
   "cell_type": "markdown",
   "metadata": {},
   "source": [
    "### Точечный график количества заказов по пользователям. Выводы и предположения."
   ]
  },
  {
   "cell_type": "code",
   "execution_count": 29,
   "metadata": {
    "scrolled": false
   },
   "outputs": [
    {
     "data": {
      "image/png": "[encoded data removed]",
      "text/plain": [
       "<Figure size 432x288 with 1 Axes>"
      ]
     },
     "metadata": {
      "needs_background": "light"
     },
     "output_type": "display_data"
    }
   ],
   "source": [
    "ordersByUser = orders.groupby('visitorId', as_index=False).agg({'transactionId':'nunique'})\\\n",
    "                         .rename(columns={'transactionId':'orders'})\n",
    "x_values = pd.Series(range(0,len(ordersByUser['orders'])))\n",
    "plt.scatter(x_values, ordersByUser['orders'], color='red')\n",
    "plt.xlabel('Количество пользователей');\n",
    "plt.ylabel('Количество заказов на человека')\n",
    "plt.title('Количество заказов по пользователям')\n",
    "plt.show()"
   ]
  },
  {
   "cell_type": "markdown",
   "metadata": {},
   "source": [
    "Есть что-то похожее на нормальное распределение. Много пользователей делает 1 заказ, поменьше 2, гораздо меньше 3, мало 4, а значения 5 и больше заказов можно считать выбросом в сравнении с другими."
   ]
  },
  {
   "cell_type": "markdown",
   "metadata": {},
   "source": [
    "###  95-й и 99-й перцентили количества заказов на пользователя. Граница для определения аномальных пользователей"
   ]
  },
  {
   "cell_type": "code",
   "execution_count": 30,
   "metadata": {
    "scrolled": true
   },
   "outputs": [
    {
     "data": {
      "text/plain": [
       "Text(0.5, 1.0, 'Количество заказов на пользователя')"
      ]
     },
     "execution_count": 30,
     "metadata": {},
     "output_type": "execute_result"
    },
    {
     "data": {
      "image/png": "[encoded data removed]",
      "text/plain": [
       "<Figure size 432x288 with 1 Axes>"
      ]
     },
     "metadata": {
      "needs_background": "light"
     },
     "output_type": "display_data"
    }
   ],
   "source": [
    "plt.hist(ordersByUser['orders']) \n",
    "plt.xlabel('Количество заказов на человека');\n",
    "plt.ylabel('Количество пользователей')\n",
    "plt.title('Количество заказов на пользователя')"
   ]
  },
  {
   "cell_type": "code",
   "execution_count": 31,
   "metadata": {
    "scrolled": true
   },
   "outputs": [
    {
     "name": "stdout",
     "output_type": "stream",
     "text": [
      "[2. 4.]\n"
     ]
    }
   ],
   "source": [
    "print(np.percentile(ordersByUser['orders'], [95, 99])) "
   ]
  },
  {
   "cell_type": "markdown",
   "metadata": {},
   "source": [
    "Будет разумно в качестве границы выбрать 99 перцентиль, то есть так можно охватить почти всю выборку. Всё, что больше аномальные значения"
   ]
  },
  {
   "cell_type": "markdown",
   "metadata": {},
   "source": [
    "### Точечный график стоимостей заказов. Выводы и предположения."
   ]
  },
  {
   "cell_type": "code",
   "execution_count": 32,
   "metadata": {
    "scrolled": true
   },
   "outputs": [
    {
     "data": {
      "image/png": "[encoded data removed]",
      "text/plain": [
       "<Figure size 432x288 with 1 Axes>"
      ]
     },
     "metadata": {
      "needs_background": "light"
     },
     "output_type": "display_data"
    }
   ],
   "source": [
    "x_values = pd.Series(range(0,len(orders['revenue'])))\n",
    "plt.scatter(x_values, orders['revenue'], color='red')\n",
    "plt.xlabel('');\n",
    "plt.ylabel('')\n",
    "plt.title('Стоимость заказов')\n",
    "plt.show()"
   ]
  },
  {
   "cell_type": "markdown",
   "metadata": {},
   "source": [
    "Видно 2 выброса. На характерный скачок в группе B скорее всего повлиял выброс > 1.2, так как другой не так далек от остальной выборки и не смог бы оказать сильное влияние."
   ]
  },
  {
   "cell_type": "markdown",
   "metadata": {},
   "source": [
    "### 95-й и 99-й перцентили стоимости заказов. Границу для определения аномальных заказов."
   ]
  },
  {
   "cell_type": "code",
   "execution_count": 33,
   "metadata": {},
   "outputs": [
    {
     "name": "stdout",
     "output_type": "stream",
     "text": [
      "[28000.  58233.2]\n"
     ]
    }
   ],
   "source": [
    "print(np.percentile(orders['revenue'], [95, 99])) "
   ]
  },
  {
   "cell_type": "code",
   "execution_count": 34,
   "metadata": {},
   "outputs": [
    {
     "data": {
      "text/plain": [
       "1294500"
      ]
     },
     "execution_count": 34,
     "metadata": {},
     "output_type": "execute_result"
    }
   ],
   "source": [
    "orders['revenue'].max()"
   ]
  },
  {
   "cell_type": "markdown",
   "metadata": {},
   "source": [
    "Разумно в качестве границы выбрать 99 перцентиль, то есть так можно охватить почти всю выборку. Всё, что больше аномальные значения"
   ]
  },
  {
   "cell_type": "markdown",
   "metadata": {},
   "source": [
    "### Статистическая значимость различий в среднем количестве заказов между группами по «сырым» данным. Сделайте выводы и предположения."
   ]
  },
  {
   "cell_type": "markdown",
   "metadata": {},
   "source": [
    "- H0:  Среднее количество заказов в группе A РАВНА среднему количеству заказов в группе B\n",
    "- H1:  Среднее количество заказов в группе A НЕ РАВНА среднему количеству заказов в группе B"
   ]
  },
  {
   "cell_type": "code",
   "execution_count": 35,
   "metadata": {
    "scrolled": true
   },
   "outputs": [
    {
     "name": "stdout",
     "output_type": "stream",
     "text": [
      "0.01679\n"
     ]
    }
   ],
   "source": [
    "visitorsADaily = visitors[visitors['group'] == 'A'][['date', 'visitors']]\n",
    "visitorsADaily.columns = ['date', 'visitorsPerDateA']\n",
    "\n",
    "visitorsACummulative = visitorsADaily.apply(\n",
    "    lambda x: visitorsADaily[visitorsADaily['date'] <= x['date']].agg(\n",
    "        {'date': 'max', 'visitorsPerDateA': 'sum'}\n",
    "    ),\n",
    "    axis=1,\n",
    ")\n",
    "visitorsACummulative.columns = ['date', 'visitorsCummulativeA']\n",
    "\n",
    "visitorsBDaily = visitors[visitors['group'] == 'B'][['date', 'visitors']]\n",
    "visitorsBDaily.columns = ['date', 'visitorsPerDateB']\n",
    "\n",
    "visitorsBCummulative = visitorsBDaily.apply(\n",
    "    lambda x: visitorsBDaily[visitorsBDaily['date'] <= x['date']].agg(\n",
    "        {'date': 'max', 'visitorsPerDateB': 'sum'}\n",
    "    ),\n",
    "    axis=1,\n",
    ")\n",
    "visitorsBCummulative.columns = ['date', 'visitorsCummulativeB']\n",
    "\n",
    "ordersADaily = (\n",
    "    orders[orders['group'] == 'A'][['date', 'transactionId', 'visitorId', 'revenue']]\n",
    "    .groupby('date', as_index=False)\n",
    "    .agg({'transactionId': pd.Series.nunique, 'revenue': 'sum'})\n",
    ")\n",
    "ordersADaily.columns = ['date', 'ordersPerDateA', 'revenuePerDateA']\n",
    "\n",
    "ordersACummulative = ordersADaily.apply(\n",
    "    lambda x: ordersADaily[ordersADaily['date'] <= x['date']].agg(\n",
    "        {'date': 'max', 'ordersPerDateA': 'sum', 'revenuePerDateA': 'sum'}\n",
    "    ),\n",
    "    axis=1,\n",
    ").sort_values(by=['date'])\n",
    "ordersACummulative.columns = [\n",
    "    'date',\n",
    "    'ordersCummulativeA',\n",
    "    'revenueCummulativeA',\n",
    "]\n",
    "\n",
    "ordersBDaily = (\n",
    "    orders[orders['group'] == 'B'][['date', 'transactionId', 'visitorId', 'revenue']]\n",
    "    .groupby('date', as_index=False)\n",
    "    .agg({'transactionId': pd.Series.nunique, 'revenue': 'sum'})\n",
    ")\n",
    "ordersBDaily.columns = ['date', 'ordersPerDateB', 'revenuePerDateB']\n",
    "\n",
    "ordersBCummulative = ordersBDaily.apply(\n",
    "    lambda x: ordersBDaily[ordersBDaily['date'] <= x['date']].agg(\n",
    "        {'date': 'max', 'ordersPerDateB': 'sum', 'revenuePerDateB': 'sum'}\n",
    "    ),\n",
    "    axis=1,\n",
    ").sort_values(by=['date'])\n",
    "ordersBCummulative.columns = [\n",
    "    'date',\n",
    "    'ordersCummulativeB',\n",
    "    'revenueCummulativeB',\n",
    "]\n",
    "\n",
    "data = (\n",
    "    ordersADaily.merge(\n",
    "        ordersBDaily, left_on='date', right_on='date', how='left'\n",
    "    )\n",
    "    .merge(ordersACummulative, left_on='date', right_on='date', how='left')\n",
    "    .merge(ordersBCummulative, left_on='date', right_on='date', how='left')\n",
    "    .merge(visitorsADaily, left_on='date', right_on='date', how='left')\n",
    "    .merge(visitorsBDaily, left_on='date', right_on='date', how='left')\n",
    "    .merge(visitorsACummulative, left_on='date', right_on='date', how='left')\n",
    "    .merge(visitorsBCummulative, left_on='date', right_on='date', how='left')\n",
    ")\n",
    "\n",
    "ordersByUsersA = (\n",
    "    orders[orders['group'] == 'A']\n",
    "    .groupby('visitorId', as_index=False)\n",
    "    .agg({'transactionId': pd.Series.nunique})\n",
    ")\n",
    "ordersByUsersA.columns = ['visitorId', 'orders']\n",
    "\n",
    "ordersByUsersB = (\n",
    "    orders[orders['group'] == 'B']\n",
    "    .groupby('visitorId', as_index=False)\n",
    "    .agg({'transactionId': pd.Series.nunique})\n",
    ")\n",
    "ordersByUsersB.columns = ['visitorId', 'orders']\n",
    "\n",
    "pd.Series(0, index=np.arange(data['visitorsPerDateA'].sum() - len(ordersByUsersA['orders'])), name='orders')\n",
    "\n",
    "[ordersByUsersA['orders'],pd.Series(0, index=np.arange(data['visitorsPerDateA'].sum() - len(ordersByUsersA['orders'])), name='orders')]\n",
    "\n",
    "sampleA = pd.concat([ordersByUsersA['orders'],pd.Series(0, index=np.arange(data['visitorsPerDateA'].sum() - len(ordersByUsersA['orders'])), name='orders')],axis=0)\n",
    "\n",
    "sampleB = pd.concat([ordersByUsersB['orders'],pd.Series(0, index=np.arange(data['visitorsPerDateB'].sum() - len(ordersByUsersB['orders'])), name='orders')],axis=0)\n",
    "\n",
    "print(\"{0:.5f}\".format(stats.mannwhitneyu(sampleA, sampleB)[1]))"
   ]
  },
  {
   "cell_type": "code",
   "execution_count": 36,
   "metadata": {},
   "outputs": [
    {
     "name": "stdout",
     "output_type": "stream",
     "text": [
      "p-значение:  0.016792355056752608\n",
      "Отвергаем нулевую гипотезу\n"
     ]
    }
   ],
   "source": [
    "alpha = 0.05\n",
    "\n",
    "p_value = stats.mannwhitneyu(sampleA, sampleB)[1]\n",
    "print('p-значение: ', p_value)\n",
    "if (p_value < alpha):\n",
    "    print(\"Отвергаем нулевую гипотезу\")\n",
    "else:\n",
    "    print(\"Не получилось отвергнуть нулевую гипотезу\")"
   ]
  },
  {
   "cell_type": "code",
   "execution_count": 37,
   "metadata": {},
   "outputs": [
    {
     "data": {
      "text/plain": [
       "557"
      ]
     },
     "execution_count": 37,
     "metadata": {},
     "output_type": "execute_result"
    }
   ],
   "source": [
    "orders[orders['group']=='A']['transactionId'].count()"
   ]
  },
  {
   "cell_type": "code",
   "execution_count": 38,
   "metadata": {},
   "outputs": [
    {
     "data": {
      "text/plain": [
       "640"
      ]
     },
     "execution_count": 38,
     "metadata": {},
     "output_type": "execute_result"
    }
   ],
   "source": [
    "orders[orders['group']=='B']['transactionId'].count()"
   ]
  },
  {
   "cell_type": "markdown",
   "metadata": {},
   "source": [
    "Среднее кол-во заказов в группе B было больше. Нулевая гипотеза была отвергнута."
   ]
  },
  {
   "cell_type": "markdown",
   "metadata": {},
   "source": [
    "### Статистическая значимость различий в среднем чеке заказа между группами по «сырым» данным. Выводы и предположения."
   ]
  },
  {
   "cell_type": "markdown",
   "metadata": {},
   "source": [
    "- H0: Средний чек A равна среднеему чеку группы B\n",
    "- H1: Средний чек A не равна среднему чеку группы B"
   ]
  },
  {
   "cell_type": "code",
   "execution_count": 39,
   "metadata": {},
   "outputs": [
    {
     "name": "stdout",
     "output_type": "stream",
     "text": [
      "0.72929\n"
     ]
    }
   ],
   "source": [
    "[ordersByUsersA['orders'],pd.Series(0, index=np.arange(data['visitorsPerDateA'].sum() - len(ordersByUsersA['orders'])), name='orders')]\n",
    "\n",
    "sampleA = pd.concat([ordersByUsersA['orders'],pd.Series(0, index=np.arange(data['visitorsPerDateA'].sum() - len(ordersByUsersA['orders'])), name='orders')],axis=0)\n",
    "\n",
    "sampleB = pd.concat([ordersByUsersB['orders'],pd.Series(0, index=np.arange(data['visitorsPerDateB'].sum() - len(ordersByUsersB['orders'])), name='orders')],axis=0)\n",
    "\n",
    "ordersByUsersA = (\n",
    "    orders[orders['group'] == 'A']\n",
    "    .groupby('visitorId', as_index=False)\n",
    "    .agg({'transactionId': pd.Series.nunique})\n",
    ")\n",
    "ordersByUsersA.columns = ['visitorId', 'orders']\n",
    "\n",
    "ordersByUsersB = (\n",
    "    orders[orders['group'] == 'B']\n",
    "    .groupby('visitorId', as_index=False)\n",
    "    .agg({'transactionId': pd.Series.nunique})\n",
    ")\n",
    "ordersByUsersB.columns = ['visitorId', 'orders']\n",
    "\n",
    "sampleA = pd.concat(\n",
    "    [\n",
    "        ordersByUsersA['orders'],\n",
    "        pd.Series(\n",
    "            0,\n",
    "            index=np.arange(\n",
    "                data['visitorsPerDateA'].sum() - len(ordersByUsersA['orders'])\n",
    "            ),\n",
    "            name='orders',\n",
    "        ),\n",
    "    ],\n",
    "    axis=0,\n",
    ")\n",
    "\n",
    "sampleB = pd.concat(\n",
    "    [\n",
    "        ordersByUsersB['orders'],\n",
    "        pd.Series(\n",
    "            0,\n",
    "            index=np.arange(\n",
    "                data['visitorsPerDateB'].sum() - len(ordersByUsersB['orders'])\n",
    "            ),\n",
    "            name='orders',\n",
    "        ),\n",
    "    ],\n",
    "    axis=0,\n",
    ")\n",
    "\n",
    "print('{0:.5f}'.format(stats.mannwhitneyu(orders[orders['group']=='A']['revenue'], orders[orders['group']=='B']['revenue'])[1]))"
   ]
  },
  {
   "cell_type": "code",
   "execution_count": 40,
   "metadata": {
    "scrolled": true
   },
   "outputs": [
    {
     "name": "stdout",
     "output_type": "stream",
     "text": [
      "p-значение:  0.7292909855432458\n",
      "Не получилось отвергнуть H0: вывод о различии сделать нельзя\n"
     ]
    }
   ],
   "source": [
    "alpha = 0.05\n",
    "p_value = stats.mannwhitneyu(orders[orders['group']=='A']['revenue'], orders[orders['group']=='B']['revenue'])[1]\n",
    "print('p-значение: ', p_value)\n",
    "if (p_value < alpha):\n",
    "    print(\"Отвергаем H0: разница статистически значима\")\n",
    "else:\n",
    "    print(\"Не получилось отвергнуть H0: вывод о различии сделать нельзя\")"
   ]
  },
  {
   "cell_type": "markdown",
   "metadata": {},
   "source": [
    "Вывод о различии сделать нельзя."
   ]
  },
  {
   "cell_type": "code",
   "execution_count": 41,
   "metadata": {},
   "outputs": [
    {
     "data": {
      "text/plain": [
       "7333.578096947936"
      ]
     },
     "execution_count": 41,
     "metadata": {},
     "output_type": "execute_result"
    }
   ],
   "source": [
    "orders[orders['group']=='A']['revenue'].mean()"
   ]
  },
  {
   "cell_type": "code",
   "execution_count": 42,
   "metadata": {},
   "outputs": [
    {
     "data": {
      "text/plain": [
       "9230.875"
      ]
     },
     "execution_count": 42,
     "metadata": {},
     "output_type": "execute_result"
    }
   ],
   "source": [
    "orders[orders['group']=='B']['revenue'].mean()"
   ]
  },
  {
   "cell_type": "markdown",
   "metadata": {},
   "source": [
    "### Статистическая значимость различий в среднем количестве заказов между группами по «очищенным» данным. Выводы и предположения."
   ]
  },
  {
   "cell_type": "markdown",
   "metadata": {},
   "source": [
    "Очистим данные."
   ]
  },
  {
   "cell_type": "code",
   "execution_count": 43,
   "metadata": {},
   "outputs": [],
   "source": [
    "ordersByUsersA = (\n",
    "    orders[orders['group'] == 'A']\n",
    "    .groupby('visitorId', as_index=False)\n",
    "    .agg({'transactionId': pd.Series.nunique})\n",
    ")\n",
    "ordersByUsersA.columns = ['visitorId', 'orders']\n",
    "\n",
    "ordersByUsersB = (\n",
    "    orders[orders['group'] == 'B']\n",
    "    .groupby('visitorId', as_index=False)\n",
    "    .agg({'transactionId': pd.Series.nunique})\n",
    ")\n",
    "ordersByUsersB.columns = ['visitorId', 'orders']\n",
    "\n",
    "usersWithManyOrders = pd.concat(\n",
    "    [\n",
    "        ordersByUsersA[ordersByUsersA['orders'] >= 4]['visitorId'],\n",
    "        ordersByUsersB[ordersByUsersB['orders'] >= 4]['visitorId'],\n",
    "    ],\n",
    "    axis=0,\n",
    ")\n",
    "usersWithExpensiveOrders = orders[orders['revenue'] >= 58233]['visitorId']\n",
    "abnormalUsers = (\n",
    "    pd.concat([usersWithManyOrders, usersWithExpensiveOrders], axis=0)\n",
    "    .drop_duplicates()\n",
    "    .sort_values(ascending = True)\n",
    ")"
   ]
  },
  {
   "cell_type": "markdown",
   "metadata": {},
   "source": [
    "- H0:  Среднее количество заказов в группе A РАВНА среднему количеству заказов в группе B\n",
    "- H1:  Среднее количество заказов в группе A НЕ РАВНА среднему количеству заказов в группе B"
   ]
  },
  {
   "cell_type": "code",
   "execution_count": 44,
   "metadata": {},
   "outputs": [
    {
     "name": "stdout",
     "output_type": "stream",
     "text": [
      "0.01390\n"
     ]
    }
   ],
   "source": [
    "sampleAFiltered = pd.concat(\n",
    "    [\n",
    "        ordersByUsersA[\n",
    "            np.logical_not(ordersByUsersA['visitorId'].isin(abnormalUsers))\n",
    "        ]['orders'],\n",
    "        pd.Series(\n",
    "            0,\n",
    "            index=np.arange(\n",
    "                data['visitorsPerDateA'].sum() - len(ordersByUsersA['orders'])\n",
    "            ),\n",
    "            name='orders',\n",
    "        ),\n",
    "    ],\n",
    "    axis=0,\n",
    ")\n",
    "\n",
    "sampleBFiltered = pd.concat(\n",
    "    [\n",
    "        ordersByUsersB[\n",
    "            np.logical_not(ordersByUsersB['visitorId'].isin(abnormalUsers))\n",
    "        ]['orders'],\n",
    "        pd.Series(\n",
    "            0,\n",
    "            index=np.arange(\n",
    "                data['visitorsPerDateB'].sum() - len(ordersByUsersB['orders'])\n",
    "            ),\n",
    "            name='orders',\n",
    "        ),\n",
    "    ],\n",
    "    axis=0,\n",
    ")\n",
    "\n",
    "print('{0:.5f}'.format(stats.mannwhitneyu(sampleAFiltered, sampleBFiltered)[1]))"
   ]
  },
  {
   "cell_type": "code",
   "execution_count": 45,
   "metadata": {
    "scrolled": true
   },
   "outputs": [
    {
     "name": "stdout",
     "output_type": "stream",
     "text": [
      "p-значение:  0.013904990762429726\n",
      "Отвергаем нулевую гипотезу\n"
     ]
    }
   ],
   "source": [
    "alpha = 0.05\n",
    "p_value = stats.mannwhitneyu(sampleAFiltered, sampleBFiltered)[1]\n",
    "print('p-значение: ', p_value)\n",
    "if (p_value < alpha):\n",
    "    print(\"Отвергаем нулевую гипотезу\")\n",
    "else:\n",
    "    print(\"Не получилось отвергнуть нулевую гипотезу\")"
   ]
  },
  {
   "cell_type": "markdown",
   "metadata": {},
   "source": [
    "Среднее кол-во до сих пор не равно. Среднее кол-во заказов в B больше."
   ]
  },
  {
   "cell_type": "markdown",
   "metadata": {},
   "source": [
    "### Cтатистическая значимость различий в среднем чеке заказа между группами по «очищенным» данным. Выводы и предположения."
   ]
  },
  {
   "cell_type": "code",
   "execution_count": 46,
   "metadata": {},
   "outputs": [
    {
     "name": "stdout",
     "output_type": "stream",
     "text": [
      "0.959\n"
     ]
    }
   ],
   "source": [
    "abnormalUsers = (\n",
    "    pd.concat([usersWithManyOrders, usersWithExpensiveOrders], axis=0)\n",
    "    .drop_duplicates()\n",
    "    .sort_values()\n",
    ")\n",
    "\n",
    "print(\n",
    "    '{0:.3f}'.format(\n",
    "        stats.mannwhitneyu(\n",
    "            orders[\n",
    "                np.logical_and(\n",
    "                    orders['group'] == 'A',\n",
    "                    np.logical_not(orders['visitorId'].isin(abnormalUsers)),\n",
    "                )\n",
    "            ]['revenue'],\n",
    "            orders[\n",
    "                np.logical_and(\n",
    "                    orders['group'] == 'B',\n",
    "                    np.logical_not(orders['visitorId'].isin(abnormalUsers)),\n",
    "                )\n",
    "            ]['revenue'],\n",
    "        )[1]\n",
    "    )\n",
    ")\n"
   ]
  },
  {
   "cell_type": "code",
   "execution_count": 47,
   "metadata": {},
   "outputs": [
    {
     "name": "stdout",
     "output_type": "stream",
     "text": [
      "p-значение:  0.9588470797464653\n",
      "Не получилось отвергнуть H0: вывод о различии сделать нельзя\n"
     ]
    }
   ],
   "source": [
    "alpha = 0.05 \n",
    "p_value = stats.mannwhitneyu(\n",
    "            orders[\n",
    "                np.logical_and(\n",
    "                    orders['group'] == 'A',\n",
    "                    np.logical_not(orders['visitorId'].isin(abnormalUsers)),\n",
    "                )\n",
    "            ]['revenue'],\n",
    "            orders[\n",
    "                np.logical_and(\n",
    "                    orders['group'] == 'B',\n",
    "                    np.logical_not(orders['visitorId'].isin(abnormalUsers)),\n",
    "                )\n",
    "            ]['revenue'],\n",
    "        )[1]\n",
    "print('p-значение: ', p_value)\n",
    "if (p_value < alpha):\n",
    "    print(\"Отвергаем H0: разница статистически значима\")\n",
    "else:\n",
    "    print(\"Не получилось отвергнуть H0: вывод о различии сделать нельзя\")"
   ]
  },
  {
   "cell_type": "markdown",
   "metadata": {},
   "source": [
    "Ничего не изменилось."
   ]
  },
  {
   "cell_type": "code",
   "execution_count": 48,
   "metadata": {},
   "outputs": [],
   "source": [
    "orders_clear = orders.query('revenue <= 58233')"
   ]
  },
  {
   "cell_type": "code",
   "execution_count": 49,
   "metadata": {},
   "outputs": [
    {
     "data": {
      "text/plain": [
       "6470.587272727273"
      ]
     },
     "execution_count": 49,
     "metadata": {},
     "output_type": "execute_result"
    }
   ],
   "source": [
    "orders_clear[orders_clear['group']=='A']['revenue'].mean()"
   ]
  },
  {
   "cell_type": "code",
   "execution_count": 50,
   "metadata": {},
   "outputs": [
    {
     "data": {
      "text/plain": [
       "6592.692913385827"
      ]
     },
     "execution_count": 50,
     "metadata": {},
     "output_type": "execute_result"
    }
   ],
   "source": [
    "orders_clear[orders_clear['group']=='B']['revenue'].mean()"
   ]
  },
  {
   "cell_type": "markdown",
   "metadata": {},
   "source": [
    "Разница между средними чеками стала ещё меньше"
   ]
  },
  {
   "cell_type": "markdown",
   "metadata": {},
   "source": [
    "## Выводы"
   ]
  },
  {
   "attachments": {
    "%D0%B8%D0%B7%D0%BE%D0%B1%D1%80%D0%B0%D0%B6%D0%B5%D0%BD%D0%B8%D0%B5-2.png": {
     "image/png": "[encoded data removed]"
    }
   },
   "cell_type": "markdown",
   "metadata": {},
   "source": [
    "Тест можно закончить. Метрика связанная со средним чеком хоть и не показала значимого различия, но метрика о кол-ве заказов говорит о том, что среднее кол-во заказов в группе B больше, чем в группе А. Также все графики стабилизировались и показывают преимущество B над A.\n",
    "\n",
    "При продолжении теста, изменение в среднем чеке должно составить 159 пользователей (при размере групп в 13050).\n",
    "![%D0%B8%D0%B7%D0%BE%D0%B1%D1%80%D0%B0%D0%B6%D0%B5%D0%BD%D0%B8%D0%B5-2.png](attachment:%D0%B8%D0%B7%D0%BE%D0%B1%D1%80%D0%B0%D0%B6%D0%B5%D0%BD%D0%B8%D0%B5-2.png)"
   ]
  }
 ],
 "metadata": {
  "ExecuteTimeLog": [
   {
    "duration": 823,
    "start_time": "2022-11-06T12:23:04.086Z"
   },
   {
    "duration": 3,
    "start_time": "2022-11-06T12:23:06.497Z"
   },
   {
    "duration": 619,
    "start_time": "2022-11-06T12:24:42.917Z"
   },
   {
    "duration": 16,
    "start_time": "2022-11-06T12:25:37.518Z"
   },
   {
    "duration": 12,
    "start_time": "2022-11-06T12:26:16.788Z"
   },
   {
    "duration": 424,
    "start_time": "2022-11-06T12:26:27.588Z"
   },
   {
    "duration": 11,
    "start_time": "2022-11-06T12:26:29.039Z"
   },
   {
    "duration": 10,
    "start_time": "2022-11-06T12:26:30.879Z"
   },
   {
    "duration": 30,
    "start_time": "2022-11-06T12:26:38.039Z"
   },
   {
    "duration": 15,
    "start_time": "2022-11-06T12:28:26.734Z"
   },
   {
    "duration": 7,
    "start_time": "2022-11-06T12:28:37.598Z"
   },
   {
    "duration": 7,
    "start_time": "2022-11-06T12:28:48.016Z"
   },
   {
    "duration": 360,
    "start_time": "2022-11-06T12:30:01.388Z"
   },
   {
    "duration": 37,
    "start_time": "2022-11-06T12:30:05.608Z"
   },
   {
    "duration": 11,
    "start_time": "2022-11-06T12:30:08.169Z"
   },
   {
    "duration": 18,
    "start_time": "2022-11-06T12:33:00.648Z"
   },
   {
    "duration": 107,
    "start_time": "2022-11-06T12:33:33.848Z"
   },
   {
    "duration": 84,
    "start_time": "2022-11-06T12:39:52.569Z"
   },
   {
    "duration": 8,
    "start_time": "2022-11-06T12:40:43.492Z"
   },
   {
    "duration": 8,
    "start_time": "2022-11-06T12:41:25.700Z"
   },
   {
    "duration": 3,
    "start_time": "2022-11-06T12:41:30.724Z"
   },
   {
    "duration": 362,
    "start_time": "2022-11-06T12:41:30.729Z"
   },
   {
    "duration": 10,
    "start_time": "2022-11-06T12:41:31.092Z"
   },
   {
    "duration": 16,
    "start_time": "2022-11-06T12:41:31.106Z"
   },
   {
    "duration": 26,
    "start_time": "2022-11-06T12:41:31.123Z"
   },
   {
    "duration": 10,
    "start_time": "2022-11-06T12:41:31.151Z"
   },
   {
    "duration": 40,
    "start_time": "2022-11-06T12:41:31.163Z"
   },
   {
    "duration": 7,
    "start_time": "2022-11-06T12:41:31.205Z"
   },
   {
    "duration": 13,
    "start_time": "2022-11-06T12:41:31.214Z"
   },
   {
    "duration": 8,
    "start_time": "2022-11-06T12:42:30.987Z"
   },
   {
    "duration": 8,
    "start_time": "2022-11-06T12:42:58.188Z"
   },
   {
    "duration": 9,
    "start_time": "2022-11-06T12:43:21.068Z"
   },
   {
    "duration": 4,
    "start_time": "2022-11-06T12:43:33.053Z"
   },
   {
    "duration": 12,
    "start_time": "2022-11-06T13:00:08.518Z"
   },
   {
    "duration": 469,
    "start_time": "2022-11-06T13:00:22.158Z"
   },
   {
    "duration": 401,
    "start_time": "2022-11-06T13:00:22.629Z"
   },
   {
    "duration": 11,
    "start_time": "2022-11-06T13:00:23.031Z"
   },
   {
    "duration": 15,
    "start_time": "2022-11-06T13:00:23.044Z"
   },
   {
    "duration": 17,
    "start_time": "2022-11-06T13:00:23.061Z"
   },
   {
    "duration": 26,
    "start_time": "2022-11-06T13:00:23.080Z"
   },
   {
    "duration": 39,
    "start_time": "2022-11-06T13:00:23.108Z"
   },
   {
    "duration": 8,
    "start_time": "2022-11-06T13:00:23.148Z"
   },
   {
    "duration": 1167,
    "start_time": "2022-11-06T13:00:23.158Z"
   },
   {
    "duration": 55,
    "start_time": "2022-11-06T13:00:38.703Z"
   },
   {
    "duration": 9,
    "start_time": "2022-11-06T13:00:43.219Z"
   },
   {
    "duration": 1134,
    "start_time": "2022-11-06T13:28:33.149Z"
   },
   {
    "duration": 9,
    "start_time": "2022-11-06T13:30:23.835Z"
   },
   {
    "duration": 8,
    "start_time": "2022-11-06T13:30:50.875Z"
   },
   {
    "duration": 11,
    "start_time": "2022-11-06T13:32:57.635Z"
   },
   {
    "duration": 9,
    "start_time": "2022-11-06T13:33:29.407Z"
   },
   {
    "duration": 7,
    "start_time": "2022-11-06T13:34:17.265Z"
   },
   {
    "duration": 17,
    "start_time": "2022-11-06T13:34:20.404Z"
   },
   {
    "duration": 1538,
    "start_time": "2022-11-06T13:34:22.476Z"
   },
   {
    "duration": 3,
    "start_time": "2022-11-06T13:34:33.022Z"
   },
   {
    "duration": 14,
    "start_time": "2022-11-06T13:34:34.651Z"
   },
   {
    "duration": 11,
    "start_time": "2022-11-06T13:34:36.229Z"
   },
   {
    "duration": 9,
    "start_time": "2022-11-06T13:34:55.814Z"
   },
   {
    "duration": 3,
    "start_time": "2022-11-06T13:35:12.825Z"
   },
   {
    "duration": 370,
    "start_time": "2022-11-06T13:35:12.829Z"
   },
   {
    "duration": 11,
    "start_time": "2022-11-06T13:35:13.200Z"
   },
   {
    "duration": 12,
    "start_time": "2022-11-06T13:35:13.212Z"
   },
   {
    "duration": 10,
    "start_time": "2022-11-06T13:35:13.226Z"
   },
   {
    "duration": 9,
    "start_time": "2022-11-06T13:35:13.237Z"
   },
   {
    "duration": 38,
    "start_time": "2022-11-06T13:35:13.248Z"
   },
   {
    "duration": 22,
    "start_time": "2022-11-06T13:35:13.288Z"
   },
   {
    "duration": 4,
    "start_time": "2022-11-06T13:35:13.312Z"
   },
   {
    "duration": 55,
    "start_time": "2022-11-06T13:35:13.317Z"
   },
   {
    "duration": 10,
    "start_time": "2022-11-06T13:35:13.373Z"
   },
   {
    "duration": 0,
    "start_time": "2022-11-06T13:35:13.384Z"
   },
   {
    "duration": 8,
    "start_time": "2022-11-06T13:35:22.315Z"
   },
   {
    "duration": 3,
    "start_time": "2022-11-06T13:35:58.611Z"
   },
   {
    "duration": 370,
    "start_time": "2022-11-06T13:35:58.620Z"
   },
   {
    "duration": 17,
    "start_time": "2022-11-06T13:35:58.992Z"
   },
   {
    "duration": 19,
    "start_time": "2022-11-06T13:35:59.011Z"
   },
   {
    "duration": 25,
    "start_time": "2022-11-06T13:35:59.031Z"
   },
   {
    "duration": 11,
    "start_time": "2022-11-06T13:35:59.058Z"
   },
   {
    "duration": 39,
    "start_time": "2022-11-06T13:35:59.070Z"
   },
   {
    "duration": 8,
    "start_time": "2022-11-06T13:35:59.111Z"
   },
   {
    "duration": 5,
    "start_time": "2022-11-06T13:35:59.120Z"
   },
   {
    "duration": 55,
    "start_time": "2022-11-06T13:35:59.126Z"
   },
   {
    "duration": 9,
    "start_time": "2022-11-06T13:35:59.182Z"
   },
   {
    "duration": 9,
    "start_time": "2022-11-06T13:35:59.204Z"
   },
   {
    "duration": 280,
    "start_time": "2022-11-06T13:37:03.463Z"
   },
   {
    "duration": 250,
    "start_time": "2022-11-06T13:37:10.212Z"
   },
   {
    "duration": 220,
    "start_time": "2022-11-06T13:37:31.260Z"
   },
   {
    "duration": 290,
    "start_time": "2022-11-06T13:52:49.182Z"
   },
   {
    "duration": 194,
    "start_time": "2022-11-06T13:52:54.659Z"
   },
   {
    "duration": 271,
    "start_time": "2022-11-06T14:12:11.756Z"
   },
   {
    "duration": 3,
    "start_time": "2022-11-06T14:12:21.886Z"
   },
   {
    "duration": 379,
    "start_time": "2022-11-06T14:12:21.890Z"
   },
   {
    "duration": 11,
    "start_time": "2022-11-06T14:12:22.271Z"
   },
   {
    "duration": 10,
    "start_time": "2022-11-06T14:12:22.284Z"
   },
   {
    "duration": 9,
    "start_time": "2022-11-06T14:12:22.306Z"
   },
   {
    "duration": 12,
    "start_time": "2022-11-06T14:12:22.317Z"
   },
   {
    "duration": 44,
    "start_time": "2022-11-06T14:12:22.330Z"
   },
   {
    "duration": 7,
    "start_time": "2022-11-06T14:12:22.376Z"
   },
   {
    "duration": 20,
    "start_time": "2022-11-06T14:12:22.385Z"
   },
   {
    "duration": 54,
    "start_time": "2022-11-06T14:12:22.406Z"
   },
   {
    "duration": 8,
    "start_time": "2022-11-06T14:12:22.461Z"
   },
   {
    "duration": 251,
    "start_time": "2022-11-06T14:12:22.471Z"
   },
   {
    "duration": 9,
    "start_time": "2022-11-06T14:12:22.723Z"
   },
   {
    "duration": 249,
    "start_time": "2022-11-06T14:12:22.735Z"
   },
   {
    "duration": 35,
    "start_time": "2022-11-06T14:12:22.986Z"
   },
   {
    "duration": 446,
    "start_time": "2022-11-06T14:13:50.032Z"
   },
   {
    "duration": 13,
    "start_time": "2022-11-06T14:16:02.448Z"
   },
   {
    "duration": 4,
    "start_time": "2022-11-06T14:16:18.459Z"
   },
   {
    "duration": 403,
    "start_time": "2022-11-06T14:16:18.466Z"
   },
   {
    "duration": 14,
    "start_time": "2022-11-06T14:16:18.872Z"
   },
   {
    "duration": 21,
    "start_time": "2022-11-06T14:16:18.888Z"
   },
   {
    "duration": 18,
    "start_time": "2022-11-06T14:16:18.912Z"
   },
   {
    "duration": 12,
    "start_time": "2022-11-06T14:16:18.932Z"
   },
   {
    "duration": 60,
    "start_time": "2022-11-06T14:16:18.946Z"
   },
   {
    "duration": 11,
    "start_time": "2022-11-06T14:16:19.007Z"
   },
   {
    "duration": 19,
    "start_time": "2022-11-06T14:16:19.020Z"
   },
   {
    "duration": 105,
    "start_time": "2022-11-06T14:16:19.041Z"
   },
   {
    "duration": 10,
    "start_time": "2022-11-06T14:16:19.148Z"
   },
   {
    "duration": 258,
    "start_time": "2022-11-06T14:16:19.160Z"
   },
   {
    "duration": 8,
    "start_time": "2022-11-06T14:16:19.420Z"
   },
   {
    "duration": 250,
    "start_time": "2022-11-06T14:16:19.430Z"
   },
   {
    "duration": 297,
    "start_time": "2022-11-06T14:16:19.682Z"
   },
   {
    "duration": 3,
    "start_time": "2022-11-06T14:17:01.311Z"
   },
   {
    "duration": 393,
    "start_time": "2022-11-06T14:17:01.316Z"
   },
   {
    "duration": 10,
    "start_time": "2022-11-06T14:17:01.711Z"
   },
   {
    "duration": 13,
    "start_time": "2022-11-06T14:17:01.723Z"
   },
   {
    "duration": 16,
    "start_time": "2022-11-06T14:17:01.738Z"
   },
   {
    "duration": 21,
    "start_time": "2022-11-06T14:17:01.756Z"
   },
   {
    "duration": 53,
    "start_time": "2022-11-06T14:17:01.778Z"
   },
   {
    "duration": 8,
    "start_time": "2022-11-06T14:17:01.832Z"
   },
   {
    "duration": 10,
    "start_time": "2022-11-06T14:17:01.842Z"
   },
   {
    "duration": 73,
    "start_time": "2022-11-06T14:17:01.853Z"
   },
   {
    "duration": 9,
    "start_time": "2022-11-06T14:17:01.928Z"
   },
   {
    "duration": 246,
    "start_time": "2022-11-06T14:17:01.938Z"
   },
   {
    "duration": 8,
    "start_time": "2022-11-06T14:17:02.186Z"
   },
   {
    "duration": 245,
    "start_time": "2022-11-06T14:17:02.205Z"
   },
   {
    "duration": 105,
    "start_time": "2022-11-06T14:17:02.451Z"
   },
   {
    "duration": 1020,
    "start_time": "2022-11-06T14:20:36.518Z"
   },
   {
    "duration": 1143,
    "start_time": "2022-11-06T14:21:57.269Z"
   },
   {
    "duration": 167,
    "start_time": "2022-11-06T14:30:46.896Z"
   },
   {
    "duration": 334,
    "start_time": "2022-11-06T14:35:07.847Z"
   },
   {
    "duration": 332,
    "start_time": "2022-11-06T14:39:09.273Z"
   },
   {
    "duration": 219,
    "start_time": "2022-11-06T14:46:47.607Z"
   },
   {
    "duration": 164,
    "start_time": "2022-11-06T14:46:57.668Z"
   },
   {
    "duration": 159,
    "start_time": "2022-11-06T14:47:01.292Z"
   },
   {
    "duration": 240,
    "start_time": "2022-11-06T14:47:10.430Z"
   },
   {
    "duration": 186,
    "start_time": "2022-11-06T14:47:12.879Z"
   },
   {
    "duration": 955,
    "start_time": "2022-11-06T14:47:18.299Z"
   },
   {
    "duration": 196,
    "start_time": "2022-11-06T14:47:37.871Z"
   },
   {
    "duration": 4,
    "start_time": "2022-11-06T14:47:44.658Z"
   },
   {
    "duration": 407,
    "start_time": "2022-11-06T14:47:44.664Z"
   },
   {
    "duration": 11,
    "start_time": "2022-11-06T14:47:45.072Z"
   },
   {
    "duration": 22,
    "start_time": "2022-11-06T14:47:45.084Z"
   },
   {
    "duration": 17,
    "start_time": "2022-11-06T14:47:45.109Z"
   },
   {
    "duration": 8,
    "start_time": "2022-11-06T14:47:45.128Z"
   },
   {
    "duration": 42,
    "start_time": "2022-11-06T14:47:45.137Z"
   },
   {
    "duration": 25,
    "start_time": "2022-11-06T14:47:45.181Z"
   },
   {
    "duration": 11,
    "start_time": "2022-11-06T14:47:45.209Z"
   },
   {
    "duration": 58,
    "start_time": "2022-11-06T14:47:45.222Z"
   },
   {
    "duration": 8,
    "start_time": "2022-11-06T14:47:45.282Z"
   },
   {
    "duration": 286,
    "start_time": "2022-11-06T14:47:45.292Z"
   },
   {
    "duration": 9,
    "start_time": "2022-11-06T14:47:45.579Z"
   },
   {
    "duration": 246,
    "start_time": "2022-11-06T14:47:45.607Z"
   },
   {
    "duration": 123,
    "start_time": "2022-11-06T14:47:45.855Z"
   },
   {
    "duration": 0,
    "start_time": "2022-11-06T14:47:45.979Z"
   },
   {
    "duration": 0,
    "start_time": "2022-11-06T14:47:45.981Z"
   },
   {
    "duration": 1,
    "start_time": "2022-11-06T14:47:45.981Z"
   },
   {
    "duration": 1655,
    "start_time": "2022-11-06T14:48:24.341Z"
   },
   {
    "duration": 1389,
    "start_time": "2022-11-06T14:49:02.451Z"
   },
   {
    "duration": 1379,
    "start_time": "2022-11-06T14:49:59.320Z"
   },
   {
    "duration": 5,
    "start_time": "2022-11-06T14:50:09.223Z"
   },
   {
    "duration": 436,
    "start_time": "2022-11-06T14:50:09.234Z"
   },
   {
    "duration": 10,
    "start_time": "2022-11-06T14:50:09.672Z"
   },
   {
    "duration": 28,
    "start_time": "2022-11-06T14:50:09.684Z"
   },
   {
    "duration": 12,
    "start_time": "2022-11-06T14:50:09.719Z"
   },
   {
    "duration": 7,
    "start_time": "2022-11-06T14:50:09.732Z"
   },
   {
    "duration": 53,
    "start_time": "2022-11-06T14:50:09.741Z"
   },
   {
    "duration": 12,
    "start_time": "2022-11-06T14:50:09.795Z"
   },
   {
    "duration": 23,
    "start_time": "2022-11-06T14:50:09.812Z"
   },
   {
    "duration": 81,
    "start_time": "2022-11-06T14:50:09.837Z"
   },
   {
    "duration": 11,
    "start_time": "2022-11-06T14:50:09.919Z"
   },
   {
    "duration": 252,
    "start_time": "2022-11-06T14:50:09.931Z"
   },
   {
    "duration": 9,
    "start_time": "2022-11-06T14:50:10.185Z"
   },
   {
    "duration": 264,
    "start_time": "2022-11-06T14:50:10.195Z"
   },
   {
    "duration": 1374,
    "start_time": "2022-11-06T14:50:10.460Z"
   },
   {
    "duration": 0,
    "start_time": "2022-11-06T14:50:11.837Z"
   },
   {
    "duration": 0,
    "start_time": "2022-11-06T14:50:11.839Z"
   },
   {
    "duration": 0,
    "start_time": "2022-11-06T14:50:11.840Z"
   },
   {
    "duration": 149,
    "start_time": "2022-11-06T14:51:59.479Z"
   },
   {
    "duration": 3,
    "start_time": "2022-11-06T14:52:04.197Z"
   },
   {
    "duration": 95,
    "start_time": "2022-11-06T14:52:04.202Z"
   },
   {
    "duration": 18,
    "start_time": "2022-11-06T14:52:04.299Z"
   },
   {
    "duration": 28,
    "start_time": "2022-11-06T14:52:04.319Z"
   },
   {
    "duration": 14,
    "start_time": "2022-11-06T14:52:04.349Z"
   },
   {
    "duration": 10,
    "start_time": "2022-11-06T14:52:04.365Z"
   },
   {
    "duration": 16,
    "start_time": "2022-11-06T14:52:04.377Z"
   },
   {
    "duration": 18,
    "start_time": "2022-11-06T14:52:04.394Z"
   },
   {
    "duration": 21,
    "start_time": "2022-11-06T14:52:04.416Z"
   },
   {
    "duration": 1204,
    "start_time": "2022-11-06T14:52:04.439Z"
   },
   {
    "duration": 0,
    "start_time": "2022-11-06T14:52:05.644Z"
   },
   {
    "duration": 0,
    "start_time": "2022-11-06T14:52:05.645Z"
   },
   {
    "duration": 0,
    "start_time": "2022-11-06T14:52:05.647Z"
   },
   {
    "duration": 0,
    "start_time": "2022-11-06T14:52:05.648Z"
   },
   {
    "duration": 0,
    "start_time": "2022-11-06T14:52:05.650Z"
   },
   {
    "duration": 0,
    "start_time": "2022-11-06T14:52:05.651Z"
   },
   {
    "duration": 0,
    "start_time": "2022-11-06T14:52:05.652Z"
   },
   {
    "duration": 0,
    "start_time": "2022-11-06T14:52:05.653Z"
   },
   {
    "duration": 1282,
    "start_time": "2022-11-06T14:52:16.889Z"
   },
   {
    "duration": 3,
    "start_time": "2022-11-06T14:52:57.269Z"
   },
   {
    "duration": 102,
    "start_time": "2022-11-06T14:52:57.273Z"
   },
   {
    "duration": 14,
    "start_time": "2022-11-06T14:52:57.378Z"
   },
   {
    "duration": 18,
    "start_time": "2022-11-06T14:52:57.394Z"
   },
   {
    "duration": 28,
    "start_time": "2022-11-06T14:52:57.416Z"
   },
   {
    "duration": 16,
    "start_time": "2022-11-06T14:52:57.446Z"
   },
   {
    "duration": 20,
    "start_time": "2022-11-06T14:52:57.464Z"
   },
   {
    "duration": 10,
    "start_time": "2022-11-06T14:52:57.486Z"
   },
   {
    "duration": 33,
    "start_time": "2022-11-06T14:52:57.498Z"
   },
   {
    "duration": 11,
    "start_time": "2022-11-06T14:52:57.533Z"
   },
   {
    "duration": 16,
    "start_time": "2022-11-06T14:52:57.547Z"
   },
   {
    "duration": 298,
    "start_time": "2022-11-06T14:52:57.565Z"
   },
   {
    "duration": 10,
    "start_time": "2022-11-06T14:52:57.865Z"
   },
   {
    "duration": 285,
    "start_time": "2022-11-06T14:52:57.876Z"
   },
   {
    "duration": 1383,
    "start_time": "2022-11-06T14:52:58.163Z"
   },
   {
    "duration": 0,
    "start_time": "2022-11-06T14:52:59.548Z"
   },
   {
    "duration": 0,
    "start_time": "2022-11-06T14:52:59.549Z"
   },
   {
    "duration": 0,
    "start_time": "2022-11-06T14:52:59.551Z"
   },
   {
    "duration": 281,
    "start_time": "2022-11-06T14:53:23.179Z"
   },
   {
    "duration": 824,
    "start_time": "2022-11-06T14:54:25.275Z"
   },
   {
    "duration": 27,
    "start_time": "2022-11-06T14:54:49.943Z"
   },
   {
    "duration": 454,
    "start_time": "2022-11-06T14:55:11.221Z"
   },
   {
    "duration": 171,
    "start_time": "2022-11-06T14:55:42.853Z"
   },
   {
    "duration": 315,
    "start_time": "2022-11-06T14:55:47.758Z"
   },
   {
    "duration": 150,
    "start_time": "2022-11-06T14:55:50.363Z"
   },
   {
    "duration": 253,
    "start_time": "2022-11-06T14:57:43.600Z"
   },
   {
    "duration": 178,
    "start_time": "2022-11-06T14:57:51.332Z"
   },
   {
    "duration": 9,
    "start_time": "2022-11-06T14:58:12.852Z"
   },
   {
    "duration": 140,
    "start_time": "2022-11-06T14:58:23.136Z"
   },
   {
    "duration": 144,
    "start_time": "2022-11-06T14:59:00.573Z"
   },
   {
    "duration": 353,
    "start_time": "2022-11-06T14:59:31.152Z"
   },
   {
    "duration": 147,
    "start_time": "2022-11-06T14:59:45.555Z"
   },
   {
    "duration": 135,
    "start_time": "2022-11-06T14:59:49.882Z"
   },
   {
    "duration": 146,
    "start_time": "2022-11-06T14:59:57.162Z"
   },
   {
    "duration": 140,
    "start_time": "2022-11-06T15:00:04.952Z"
   },
   {
    "duration": 147,
    "start_time": "2022-11-06T15:00:14.148Z"
   },
   {
    "duration": 3,
    "start_time": "2022-11-06T15:00:45.203Z"
   },
   {
    "duration": 149,
    "start_time": "2022-11-06T15:01:00.972Z"
   },
   {
    "duration": 141,
    "start_time": "2022-11-06T15:01:25.045Z"
   },
   {
    "duration": 12,
    "start_time": "2022-11-06T15:08:07.528Z"
   },
   {
    "duration": 10,
    "start_time": "2022-11-06T15:08:28.999Z"
   },
   {
    "duration": 11,
    "start_time": "2022-11-06T15:09:55.338Z"
   },
   {
    "duration": 261,
    "start_time": "2022-11-06T15:10:34.551Z"
   },
   {
    "duration": 506,
    "start_time": "2022-11-06T15:10:47.060Z"
   },
   {
    "duration": 159,
    "start_time": "2022-11-06T15:11:02.257Z"
   },
   {
    "duration": 190,
    "start_time": "2022-11-06T15:12:08.751Z"
   },
   {
    "duration": 174,
    "start_time": "2022-11-06T15:13:29.462Z"
   },
   {
    "duration": 190,
    "start_time": "2022-11-06T15:14:23.641Z"
   },
   {
    "duration": 217,
    "start_time": "2022-11-06T15:14:34.419Z"
   },
   {
    "duration": 12,
    "start_time": "2022-11-06T15:14:52.090Z"
   },
   {
    "duration": 190,
    "start_time": "2022-11-06T15:16:30.862Z"
   },
   {
    "duration": 205,
    "start_time": "2022-11-06T15:16:36.224Z"
   },
   {
    "duration": 168,
    "start_time": "2022-11-06T15:16:59.651Z"
   },
   {
    "duration": 291,
    "start_time": "2022-11-06T15:17:04.055Z"
   },
   {
    "duration": 173,
    "start_time": "2022-11-06T15:17:25.024Z"
   },
   {
    "duration": 286,
    "start_time": "2022-11-06T15:20:44.682Z"
   },
   {
    "duration": 308,
    "start_time": "2022-11-06T15:21:09.268Z"
   },
   {
    "duration": 258,
    "start_time": "2022-11-06T15:21:16.532Z"
   },
   {
    "duration": 273,
    "start_time": "2022-11-06T15:21:24.257Z"
   },
   {
    "duration": 291,
    "start_time": "2022-11-06T15:21:41.981Z"
   },
   {
    "duration": 5,
    "start_time": "2022-11-06T15:22:12.582Z"
   },
   {
    "duration": 276,
    "start_time": "2022-11-06T15:22:21.720Z"
   },
   {
    "duration": 314,
    "start_time": "2022-11-06T15:23:50.977Z"
   },
   {
    "duration": 8,
    "start_time": "2022-11-06T15:26:03.551Z"
   },
   {
    "duration": 15,
    "start_time": "2022-11-06T15:26:37.619Z"
   },
   {
    "duration": 11,
    "start_time": "2022-11-06T15:26:50.975Z"
   },
   {
    "duration": 12,
    "start_time": "2022-11-06T15:26:59.385Z"
   },
   {
    "duration": 330,
    "start_time": "2022-11-06T15:27:21.824Z"
   },
   {
    "duration": 12,
    "start_time": "2022-11-06T15:28:21.320Z"
   },
   {
    "duration": 5,
    "start_time": "2022-11-06T15:28:32.014Z"
   },
   {
    "duration": 94,
    "start_time": "2022-11-06T15:28:32.022Z"
   },
   {
    "duration": 10,
    "start_time": "2022-11-06T15:28:32.121Z"
   },
   {
    "duration": 11,
    "start_time": "2022-11-06T15:28:32.132Z"
   },
   {
    "duration": 13,
    "start_time": "2022-11-06T15:28:32.144Z"
   },
   {
    "duration": 10,
    "start_time": "2022-11-06T15:28:32.158Z"
   },
   {
    "duration": 14,
    "start_time": "2022-11-06T15:28:32.169Z"
   },
   {
    "duration": 28,
    "start_time": "2022-11-06T15:28:32.184Z"
   },
   {
    "duration": 14,
    "start_time": "2022-11-06T15:28:32.214Z"
   },
   {
    "duration": 7,
    "start_time": "2022-11-06T15:28:32.230Z"
   },
   {
    "duration": 16,
    "start_time": "2022-11-06T15:28:32.239Z"
   },
   {
    "duration": 278,
    "start_time": "2022-11-06T15:28:32.256Z"
   },
   {
    "duration": 9,
    "start_time": "2022-11-06T15:28:32.536Z"
   },
   {
    "duration": 269,
    "start_time": "2022-11-06T15:28:32.547Z"
   },
   {
    "duration": 452,
    "start_time": "2022-11-06T15:28:32.819Z"
   },
   {
    "duration": 155,
    "start_time": "2022-11-06T15:28:33.272Z"
   },
   {
    "duration": 264,
    "start_time": "2022-11-06T15:28:33.429Z"
   },
   {
    "duration": 177,
    "start_time": "2022-11-06T15:28:33.695Z"
   },
   {
    "duration": 425,
    "start_time": "2022-11-06T15:28:33.874Z"
   },
   {
    "duration": 23,
    "start_time": "2022-11-06T15:28:34.301Z"
   },
   {
    "duration": 113,
    "start_time": "2022-11-06T15:29:30.400Z"
   },
   {
    "duration": 105,
    "start_time": "2022-11-06T15:29:58.822Z"
   },
   {
    "duration": 6,
    "start_time": "2022-11-06T15:36:11.910Z"
   },
   {
    "duration": 4,
    "start_time": "2022-11-06T15:37:41.078Z"
   },
   {
    "duration": 5,
    "start_time": "2022-11-06T15:38:28.760Z"
   },
   {
    "duration": 1184,
    "start_time": "2022-11-06T15:43:08.698Z"
   },
   {
    "duration": 108,
    "start_time": "2022-11-06T15:43:20.027Z"
   },
   {
    "duration": 1237,
    "start_time": "2022-11-06T15:43:21.626Z"
   },
   {
    "duration": 102,
    "start_time": "2022-11-06T15:43:43.228Z"
   },
   {
    "duration": 107,
    "start_time": "2022-11-06T15:46:07.228Z"
   },
   {
    "duration": 114,
    "start_time": "2022-11-06T15:46:14.773Z"
   },
   {
    "duration": 3,
    "start_time": "2022-11-06T15:46:44.078Z"
   },
   {
    "duration": 86,
    "start_time": "2022-11-06T15:46:44.083Z"
   },
   {
    "duration": 11,
    "start_time": "2022-11-06T15:46:44.170Z"
   },
   {
    "duration": 10,
    "start_time": "2022-11-06T15:46:44.183Z"
   },
   {
    "duration": 20,
    "start_time": "2022-11-06T15:46:44.195Z"
   },
   {
    "duration": 11,
    "start_time": "2022-11-06T15:46:44.217Z"
   },
   {
    "duration": 13,
    "start_time": "2022-11-06T15:46:44.229Z"
   },
   {
    "duration": 10,
    "start_time": "2022-11-06T15:46:44.244Z"
   },
   {
    "duration": 5,
    "start_time": "2022-11-06T15:46:44.256Z"
   },
   {
    "duration": 8,
    "start_time": "2022-11-06T15:46:44.263Z"
   },
   {
    "duration": 46,
    "start_time": "2022-11-06T15:46:44.273Z"
   },
   {
    "duration": 256,
    "start_time": "2022-11-06T15:46:44.321Z"
   },
   {
    "duration": 9,
    "start_time": "2022-11-06T15:46:44.579Z"
   },
   {
    "duration": 289,
    "start_time": "2022-11-06T15:46:44.590Z"
   },
   {
    "duration": 519,
    "start_time": "2022-11-06T15:46:44.881Z"
   },
   {
    "duration": 176,
    "start_time": "2022-11-06T15:46:45.402Z"
   },
   {
    "duration": 309,
    "start_time": "2022-11-06T15:46:45.579Z"
   },
   {
    "duration": 198,
    "start_time": "2022-11-06T15:46:45.890Z"
   },
   {
    "duration": 315,
    "start_time": "2022-11-06T15:46:46.090Z"
   },
   {
    "duration": 119,
    "start_time": "2022-11-06T15:46:46.408Z"
   },
   {
    "duration": 123,
    "start_time": "2022-11-06T15:46:46.529Z"
   },
   {
    "duration": 4,
    "start_time": "2022-11-06T15:46:46.654Z"
   },
   {
    "duration": 261,
    "start_time": "2022-11-06T15:46:46.659Z"
   },
   {
    "duration": 1108,
    "start_time": "2022-11-06T16:11:43.626Z"
   },
   {
    "duration": 1146,
    "start_time": "2022-11-06T16:12:06.695Z"
   },
   {
    "duration": 1113,
    "start_time": "2022-11-06T16:12:47.205Z"
   },
   {
    "duration": 81,
    "start_time": "2022-11-06T16:12:52.738Z"
   },
   {
    "duration": 4,
    "start_time": "2022-11-06T16:12:55.926Z"
   },
   {
    "duration": 125,
    "start_time": "2022-11-06T16:12:57.996Z"
   },
   {
    "duration": 4,
    "start_time": "2022-11-06T16:12:59.786Z"
   },
   {
    "duration": 4,
    "start_time": "2022-11-06T16:13:34.726Z"
   },
   {
    "duration": 104,
    "start_time": "2022-11-06T16:17:49.232Z"
   },
   {
    "duration": 107,
    "start_time": "2022-11-06T16:20:35.812Z"
   },
   {
    "duration": 353,
    "start_time": "2022-11-06T16:22:12.047Z"
   },
   {
    "duration": 360,
    "start_time": "2022-11-06T16:22:25.325Z"
   },
   {
    "duration": 345,
    "start_time": "2022-11-06T16:22:37.932Z"
   },
   {
    "duration": 358,
    "start_time": "2022-11-06T16:22:47.848Z"
   },
   {
    "duration": 351,
    "start_time": "2022-11-06T16:23:22.754Z"
   },
   {
    "duration": 348,
    "start_time": "2022-11-06T16:24:39.105Z"
   },
   {
    "duration": 380,
    "start_time": "2022-11-06T16:31:54.333Z"
   },
   {
    "duration": 325,
    "start_time": "2022-11-06T16:33:43.424Z"
   },
   {
    "duration": 343,
    "start_time": "2022-11-06T16:34:07.081Z"
   },
   {
    "duration": 3,
    "start_time": "2022-11-06T16:34:12.207Z"
   },
   {
    "duration": 281,
    "start_time": "2022-11-06T16:36:50.672Z"
   },
   {
    "duration": 281,
    "start_time": "2022-11-06T16:37:01.215Z"
   },
   {
    "duration": 161,
    "start_time": "2022-11-06T16:41:08.548Z"
   },
   {
    "duration": 219,
    "start_time": "2022-11-06T16:41:17.773Z"
   },
   {
    "duration": 285,
    "start_time": "2022-11-06T16:41:22.409Z"
   },
   {
    "duration": 122,
    "start_time": "2022-11-06T16:41:25.060Z"
   },
   {
    "duration": 117,
    "start_time": "2022-11-06T16:41:27.306Z"
   },
   {
    "duration": 356,
    "start_time": "2022-11-06T16:44:35.771Z"
   },
   {
    "duration": 4,
    "start_time": "2022-11-06T16:44:39.692Z"
   },
   {
    "duration": 184,
    "start_time": "2022-11-06T16:46:06.997Z"
   },
   {
    "duration": 171,
    "start_time": "2022-11-06T16:46:14.361Z"
   },
   {
    "duration": 174,
    "start_time": "2022-11-06T16:55:35.191Z"
   },
   {
    "duration": 204,
    "start_time": "2022-11-06T16:55:47.410Z"
   },
   {
    "duration": 173,
    "start_time": "2022-11-06T16:56:07.561Z"
   },
   {
    "duration": 1141,
    "start_time": "2022-11-06T16:58:27.492Z"
   },
   {
    "duration": 273,
    "start_time": "2022-11-06T16:58:53.622Z"
   },
   {
    "duration": 10,
    "start_time": "2022-11-06T17:24:56.271Z"
   },
   {
    "duration": 14,
    "start_time": "2022-11-06T17:25:22.120Z"
   },
   {
    "duration": 17,
    "start_time": "2022-11-06T17:25:27.701Z"
   },
   {
    "duration": 9,
    "start_time": "2022-11-06T17:25:50.660Z"
   },
   {
    "duration": 31,
    "start_time": "2022-11-06T17:26:52.901Z"
   },
   {
    "duration": 26,
    "start_time": "2022-11-06T17:27:22.122Z"
   },
   {
    "duration": 3,
    "start_time": "2022-11-06T17:27:31.345Z"
   },
   {
    "duration": 93,
    "start_time": "2022-11-06T17:27:31.350Z"
   },
   {
    "duration": 10,
    "start_time": "2022-11-06T17:27:31.445Z"
   },
   {
    "duration": 16,
    "start_time": "2022-11-06T17:27:31.457Z"
   },
   {
    "duration": 17,
    "start_time": "2022-11-06T17:27:31.475Z"
   },
   {
    "duration": 10,
    "start_time": "2022-11-06T17:27:31.493Z"
   },
   {
    "duration": 35,
    "start_time": "2022-11-06T17:27:31.505Z"
   },
   {
    "duration": 9,
    "start_time": "2022-11-06T17:27:31.542Z"
   },
   {
    "duration": 18,
    "start_time": "2022-11-06T17:27:31.553Z"
   },
   {
    "duration": 9,
    "start_time": "2022-11-06T17:27:31.573Z"
   },
   {
    "duration": 25,
    "start_time": "2022-11-06T17:27:31.584Z"
   },
   {
    "duration": 381,
    "start_time": "2022-11-06T17:27:31.611Z"
   },
   {
    "duration": 15,
    "start_time": "2022-11-06T17:27:31.994Z"
   },
   {
    "duration": 255,
    "start_time": "2022-11-06T17:27:32.012Z"
   },
   {
    "duration": 461,
    "start_time": "2022-11-06T17:27:32.268Z"
   },
   {
    "duration": 162,
    "start_time": "2022-11-06T17:27:32.730Z"
   },
   {
    "duration": 287,
    "start_time": "2022-11-06T17:27:32.893Z"
   },
   {
    "duration": 180,
    "start_time": "2022-11-06T17:27:33.181Z"
   },
   {
    "duration": 303,
    "start_time": "2022-11-06T17:27:33.362Z"
   },
   {
    "duration": 114,
    "start_time": "2022-11-06T17:27:33.666Z"
   },
   {
    "duration": 113,
    "start_time": "2022-11-06T17:27:33.781Z"
   },
   {
    "duration": 5,
    "start_time": "2022-11-06T17:27:33.904Z"
   },
   {
    "duration": 132,
    "start_time": "2022-11-06T17:27:33.911Z"
   },
   {
    "duration": 4,
    "start_time": "2022-11-06T17:27:34.045Z"
   },
   {
    "duration": 8,
    "start_time": "2022-11-06T17:27:34.050Z"
   },
   {
    "duration": 376,
    "start_time": "2022-11-06T17:27:34.059Z"
   },
   {
    "duration": 24,
    "start_time": "2022-11-06T17:27:34.436Z"
   },
   {
    "duration": 0,
    "start_time": "2022-11-06T17:27:34.462Z"
   },
   {
    "duration": 27,
    "start_time": "2022-11-06T17:28:37.351Z"
   },
   {
    "duration": 4,
    "start_time": "2022-11-06T17:29:24.830Z"
   },
   {
    "duration": 4,
    "start_time": "2022-11-06T17:29:27.548Z"
   },
   {
    "duration": 25,
    "start_time": "2022-11-06T17:29:58.923Z"
   },
   {
    "duration": 27,
    "start_time": "2022-11-06T17:34:57.203Z"
   },
   {
    "duration": 9,
    "start_time": "2022-11-06T17:35:08.164Z"
   },
   {
    "duration": 23,
    "start_time": "2022-11-06T17:35:26.225Z"
   },
   {
    "duration": 20,
    "start_time": "2022-11-06T17:36:42.170Z"
   },
   {
    "duration": 135,
    "start_time": "2022-11-06T17:37:25.168Z"
   },
   {
    "duration": 4,
    "start_time": "2022-11-06T17:37:28.840Z"
   },
   {
    "duration": 144,
    "start_time": "2022-11-06T17:37:51.248Z"
   },
   {
    "duration": 10,
    "start_time": "2022-11-06T17:38:06.217Z"
   },
   {
    "duration": 14,
    "start_time": "2022-11-06T17:42:03.890Z"
   },
   {
    "duration": 1331,
    "start_time": "2022-11-06T17:42:47.820Z"
   },
   {
    "duration": 157,
    "start_time": "2022-11-06T17:44:01.081Z"
   },
   {
    "duration": 1340,
    "start_time": "2022-11-06T17:44:56.188Z"
   },
   {
    "duration": 26,
    "start_time": "2022-11-06T17:45:14.445Z"
   },
   {
    "duration": 4,
    "start_time": "2022-11-06T17:47:19.591Z"
   },
   {
    "duration": 21,
    "start_time": "2022-11-06T17:47:27.135Z"
   },
   {
    "duration": 25,
    "start_time": "2022-11-06T17:48:14.103Z"
   },
   {
    "duration": 21,
    "start_time": "2022-11-06T17:48:48.721Z"
   },
   {
    "duration": 125,
    "start_time": "2022-11-06T18:27:16.995Z"
   },
   {
    "duration": 1265,
    "start_time": "2022-11-06T18:28:24.574Z"
   },
   {
    "duration": 11,
    "start_time": "2022-11-06T18:29:19.456Z"
   },
   {
    "duration": 80,
    "start_time": "2022-11-06T18:30:17.342Z"
   },
   {
    "duration": 11,
    "start_time": "2022-11-06T18:31:10.352Z"
   },
   {
    "duration": 20,
    "start_time": "2022-11-06T18:31:12.839Z"
   },
   {
    "duration": 20,
    "start_time": "2022-11-06T18:31:39.476Z"
   },
   {
    "duration": 74,
    "start_time": "2022-11-06T18:36:06.658Z"
   },
   {
    "duration": 77,
    "start_time": "2022-11-06T18:36:14.498Z"
   },
   {
    "duration": 73,
    "start_time": "2022-11-06T18:36:19.410Z"
   },
   {
    "duration": 89,
    "start_time": "2022-11-06T18:37:53.848Z"
   },
   {
    "duration": 1300,
    "start_time": "2022-11-06T18:38:14.546Z"
   },
   {
    "duration": 19,
    "start_time": "2022-11-06T18:38:32.515Z"
   },
   {
    "duration": 18,
    "start_time": "2022-11-06T18:38:34.713Z"
   },
   {
    "duration": 75,
    "start_time": "2022-11-06T18:38:55.262Z"
   },
   {
    "duration": 4,
    "start_time": "2022-11-06T18:39:09.893Z"
   },
   {
    "duration": 4,
    "start_time": "2022-11-06T18:39:26.173Z"
   },
   {
    "duration": 4,
    "start_time": "2022-11-06T18:39:39.783Z"
   },
   {
    "duration": 181,
    "start_time": "2022-11-06T18:40:13.663Z"
   },
   {
    "duration": 76,
    "start_time": "2022-11-06T18:41:38.306Z"
   },
   {
    "duration": 11,
    "start_time": "2022-11-06T18:41:44.495Z"
   },
   {
    "duration": 12,
    "start_time": "2022-11-06T18:47:35.542Z"
   },
   {
    "duration": 19,
    "start_time": "2022-11-06T18:47:37.115Z"
   },
   {
    "duration": 156,
    "start_time": "2022-11-06T18:48:02.236Z"
   },
   {
    "duration": 25,
    "start_time": "2022-11-06T18:48:04.940Z"
   },
   {
    "duration": 20,
    "start_time": "2022-11-06T18:48:07.041Z"
   },
   {
    "duration": 20,
    "start_time": "2022-11-06T18:48:11.415Z"
   },
   {
    "duration": 13,
    "start_time": "2022-11-06T18:48:12.823Z"
   },
   {
    "duration": 5,
    "start_time": "2022-11-06T18:49:44.193Z"
   },
   {
    "duration": 10,
    "start_time": "2022-11-06T18:49:44.755Z"
   },
   {
    "duration": 16,
    "start_time": "2022-11-06T18:50:25.137Z"
   },
   {
    "duration": 10,
    "start_time": "2022-11-06T18:50:40.840Z"
   },
   {
    "duration": 5,
    "start_time": "2022-11-06T18:50:43.151Z"
   },
   {
    "duration": 9,
    "start_time": "2022-11-06T18:50:44.039Z"
   },
   {
    "duration": 3,
    "start_time": "2022-11-06T18:50:53.341Z"
   },
   {
    "duration": 89,
    "start_time": "2022-11-06T18:50:53.346Z"
   },
   {
    "duration": 10,
    "start_time": "2022-11-06T18:50:53.437Z"
   },
   {
    "duration": 14,
    "start_time": "2022-11-06T18:50:53.448Z"
   },
   {
    "duration": 22,
    "start_time": "2022-11-06T18:50:53.464Z"
   },
   {
    "duration": 25,
    "start_time": "2022-11-06T18:50:53.487Z"
   },
   {
    "duration": 19,
    "start_time": "2022-11-06T18:50:53.514Z"
   },
   {
    "duration": 21,
    "start_time": "2022-11-06T18:50:53.534Z"
   },
   {
    "duration": 19,
    "start_time": "2022-11-06T18:50:53.556Z"
   },
   {
    "duration": 14,
    "start_time": "2022-11-06T18:50:53.576Z"
   },
   {
    "duration": 12,
    "start_time": "2022-11-06T18:50:53.592Z"
   },
   {
    "duration": 257,
    "start_time": "2022-11-06T18:50:53.605Z"
   },
   {
    "duration": 9,
    "start_time": "2022-11-06T18:50:53.864Z"
   },
   {
    "duration": 248,
    "start_time": "2022-11-06T18:50:53.874Z"
   },
   {
    "duration": 445,
    "start_time": "2022-11-06T18:50:54.124Z"
   },
   {
    "duration": 153,
    "start_time": "2022-11-06T18:50:54.571Z"
   },
   {
    "duration": 267,
    "start_time": "2022-11-06T18:50:54.726Z"
   },
   {
    "duration": 313,
    "start_time": "2022-11-06T18:50:54.995Z"
   },
   {
    "duration": 296,
    "start_time": "2022-11-06T18:50:55.309Z"
   },
   {
    "duration": 111,
    "start_time": "2022-11-06T18:50:55.607Z"
   },
   {
    "duration": 125,
    "start_time": "2022-11-06T18:50:55.720Z"
   },
   {
    "duration": 4,
    "start_time": "2022-11-06T18:50:55.846Z"
   },
   {
    "duration": 144,
    "start_time": "2022-11-06T18:50:55.852Z"
   },
   {
    "duration": 4,
    "start_time": "2022-11-06T18:50:55.998Z"
   },
   {
    "duration": 14,
    "start_time": "2022-11-06T18:50:56.005Z"
   },
   {
    "duration": 375,
    "start_time": "2022-11-06T18:50:56.020Z"
   },
   {
    "duration": 24,
    "start_time": "2022-11-06T18:50:56.396Z"
   },
   {
    "duration": 150,
    "start_time": "2022-11-06T18:50:56.422Z"
   },
   {
    "duration": 9,
    "start_time": "2022-11-06T18:50:56.575Z"
   },
   {
    "duration": 148,
    "start_time": "2022-11-06T18:50:56.586Z"
   },
   {
    "duration": 23,
    "start_time": "2022-11-06T18:50:56.736Z"
   },
   {
    "duration": 19,
    "start_time": "2022-11-06T18:50:56.761Z"
   },
   {
    "duration": 29,
    "start_time": "2022-11-06T18:50:56.782Z"
   },
   {
    "duration": 10,
    "start_time": "2022-11-06T18:50:56.813Z"
   },
   {
    "duration": 7,
    "start_time": "2022-11-06T18:56:09.564Z"
   },
   {
    "duration": 11,
    "start_time": "2022-11-06T18:56:43.920Z"
   },
   {
    "duration": 6,
    "start_time": "2022-11-06T18:56:44.662Z"
   },
   {
    "duration": 6,
    "start_time": "2022-11-06T18:57:02.795Z"
   },
   {
    "duration": 6,
    "start_time": "2022-11-06T18:57:03.779Z"
   },
   {
    "duration": 6,
    "start_time": "2022-11-06T18:57:04.600Z"
   },
   {
    "duration": 6,
    "start_time": "2022-11-06T18:58:40.678Z"
   },
   {
    "duration": 13,
    "start_time": "2022-11-06T18:58:47.117Z"
   },
   {
    "duration": 5,
    "start_time": "2022-11-06T18:58:48.569Z"
   },
   {
    "duration": 5,
    "start_time": "2022-11-06T18:58:51.740Z"
   },
   {
    "duration": 1067,
    "start_time": "2022-11-06T19:02:30.999Z"
   },
   {
    "duration": 5,
    "start_time": "2022-11-06T19:02:38.259Z"
   },
   {
    "duration": 11,
    "start_time": "2022-11-06T19:02:45.509Z"
   },
   {
    "duration": 12,
    "start_time": "2022-11-06T19:06:51.271Z"
   },
   {
    "duration": 192,
    "start_time": "2022-11-06T19:47:04.526Z"
   },
   {
    "duration": 187,
    "start_time": "2022-11-06T19:47:42.299Z"
   },
   {
    "duration": 1053,
    "start_time": "2022-11-06T19:48:01.812Z"
   },
   {
    "duration": 169,
    "start_time": "2022-11-06T19:48:17.627Z"
   },
   {
    "duration": 165,
    "start_time": "2022-11-06T19:48:23.508Z"
   },
   {
    "duration": 70,
    "start_time": "2022-11-06T19:48:28.290Z"
   },
   {
    "duration": 154,
    "start_time": "2022-11-06T19:48:33.356Z"
   },
   {
    "duration": 180,
    "start_time": "2022-11-06T19:48:44.927Z"
   },
   {
    "duration": 3,
    "start_time": "2022-11-06T19:50:47.736Z"
   },
   {
    "duration": 90,
    "start_time": "2022-11-06T19:50:47.742Z"
   },
   {
    "duration": 9,
    "start_time": "2022-11-06T19:50:47.834Z"
   },
   {
    "duration": 14,
    "start_time": "2022-11-06T19:50:47.845Z"
   },
   {
    "duration": 13,
    "start_time": "2022-11-06T19:50:47.861Z"
   },
   {
    "duration": 10,
    "start_time": "2022-11-06T19:50:47.875Z"
   },
   {
    "duration": 11,
    "start_time": "2022-11-06T19:50:47.886Z"
   },
   {
    "duration": 9,
    "start_time": "2022-11-06T19:50:47.898Z"
   },
   {
    "duration": 5,
    "start_time": "2022-11-06T19:50:47.909Z"
   },
   {
    "duration": 11,
    "start_time": "2022-11-06T19:50:47.916Z"
   },
   {
    "duration": 14,
    "start_time": "2022-11-06T19:50:47.929Z"
   },
   {
    "duration": 273,
    "start_time": "2022-11-06T19:50:47.944Z"
   },
   {
    "duration": 10,
    "start_time": "2022-11-06T19:50:48.219Z"
   },
   {
    "duration": 267,
    "start_time": "2022-11-06T19:50:48.231Z"
   },
   {
    "duration": 433,
    "start_time": "2022-11-06T19:50:48.505Z"
   },
   {
    "duration": 154,
    "start_time": "2022-11-06T19:50:48.940Z"
   },
   {
    "duration": 321,
    "start_time": "2022-11-06T19:50:49.096Z"
   },
   {
    "duration": 173,
    "start_time": "2022-11-06T19:50:49.419Z"
   },
   {
    "duration": 419,
    "start_time": "2022-11-06T19:50:49.593Z"
   },
   {
    "duration": 115,
    "start_time": "2022-11-06T19:50:50.013Z"
   },
   {
    "duration": 124,
    "start_time": "2022-11-06T19:50:50.130Z"
   },
   {
    "duration": 6,
    "start_time": "2022-11-06T19:50:50.256Z"
   },
   {
    "duration": 128,
    "start_time": "2022-11-06T19:50:50.264Z"
   },
   {
    "duration": 4,
    "start_time": "2022-11-06T19:50:50.394Z"
   },
   {
    "duration": 4,
    "start_time": "2022-11-06T19:50:50.405Z"
   },
   {
    "duration": 350,
    "start_time": "2022-11-06T19:50:50.411Z"
   },
   {
    "duration": 20,
    "start_time": "2022-11-06T19:50:50.762Z"
   },
   {
    "duration": 6,
    "start_time": "2022-11-06T19:50:50.784Z"
   },
   {
    "duration": 9,
    "start_time": "2022-11-06T19:50:50.806Z"
   },
   {
    "duration": 135,
    "start_time": "2022-11-06T19:50:50.816Z"
   },
   {
    "duration": 8,
    "start_time": "2022-11-06T19:50:50.953Z"
   },
   {
    "duration": 7,
    "start_time": "2022-11-06T19:50:50.963Z"
   },
   {
    "duration": 6,
    "start_time": "2022-11-06T19:50:50.971Z"
   },
   {
    "duration": 153,
    "start_time": "2022-11-06T19:50:50.979Z"
   },
   {
    "duration": 24,
    "start_time": "2022-11-06T19:50:51.134Z"
   },
   {
    "duration": 21,
    "start_time": "2022-11-06T19:50:51.160Z"
   },
   {
    "duration": 33,
    "start_time": "2022-11-06T19:50:51.182Z"
   },
   {
    "duration": 10,
    "start_time": "2022-11-06T19:50:51.216Z"
   },
   {
    "duration": 4,
    "start_time": "2022-11-06T19:50:51.228Z"
   },
   {
    "duration": 8,
    "start_time": "2022-11-06T19:50:51.234Z"
   },
   {
    "duration": 6,
    "start_time": "2022-11-06T19:50:51.245Z"
   },
   {
    "duration": 1237,
    "start_time": "2022-11-07T09:57:43.052Z"
   },
   {
    "duration": 80,
    "start_time": "2022-11-07T09:57:44.291Z"
   },
   {
    "duration": 14,
    "start_time": "2022-11-07T09:57:44.373Z"
   },
   {
    "duration": 26,
    "start_time": "2022-11-07T09:57:44.389Z"
   },
   {
    "duration": 20,
    "start_time": "2022-11-07T09:57:44.417Z"
   },
   {
    "duration": 29,
    "start_time": "2022-11-07T09:57:44.438Z"
   },
   {
    "duration": 27,
    "start_time": "2022-11-07T09:57:44.469Z"
   },
   {
    "duration": 34,
    "start_time": "2022-11-07T09:57:44.498Z"
   },
   {
    "duration": 15,
    "start_time": "2022-11-07T09:57:44.534Z"
   },
   {
    "duration": 25,
    "start_time": "2022-11-07T09:57:44.551Z"
   },
   {
    "duration": 29,
    "start_time": "2022-11-07T09:57:44.578Z"
   },
   {
    "duration": 306,
    "start_time": "2022-11-07T09:57:44.609Z"
   },
   {
    "duration": 12,
    "start_time": "2022-11-07T09:57:44.917Z"
   },
   {
    "duration": 295,
    "start_time": "2022-11-07T09:57:44.934Z"
   },
   {
    "duration": 138,
    "start_time": "2022-11-07T09:57:45.231Z"
   },
   {
    "duration": 0,
    "start_time": "2022-11-07T09:57:45.371Z"
   },
   {
    "duration": 0,
    "start_time": "2022-11-07T09:57:45.372Z"
   },
   {
    "duration": 0,
    "start_time": "2022-11-07T09:57:45.374Z"
   },
   {
    "duration": 0,
    "start_time": "2022-11-07T09:57:45.375Z"
   },
   {
    "duration": 0,
    "start_time": "2022-11-07T09:57:45.376Z"
   },
   {
    "duration": 0,
    "start_time": "2022-11-07T09:57:45.378Z"
   },
   {
    "duration": 0,
    "start_time": "2022-11-07T09:57:45.379Z"
   },
   {
    "duration": 0,
    "start_time": "2022-11-07T09:57:45.380Z"
   },
   {
    "duration": 0,
    "start_time": "2022-11-07T09:57:45.381Z"
   },
   {
    "duration": 0,
    "start_time": "2022-11-07T09:57:45.382Z"
   },
   {
    "duration": 0,
    "start_time": "2022-11-07T09:57:45.383Z"
   },
   {
    "duration": 0,
    "start_time": "2022-11-07T09:57:45.385Z"
   },
   {
    "duration": 0,
    "start_time": "2022-11-07T09:57:45.386Z"
   },
   {
    "duration": 0,
    "start_time": "2022-11-07T09:57:45.387Z"
   },
   {
    "duration": 0,
    "start_time": "2022-11-07T09:57:45.389Z"
   },
   {
    "duration": 0,
    "start_time": "2022-11-07T09:57:45.423Z"
   },
   {
    "duration": 0,
    "start_time": "2022-11-07T09:57:45.425Z"
   },
   {
    "duration": 0,
    "start_time": "2022-11-07T09:57:45.427Z"
   },
   {
    "duration": 0,
    "start_time": "2022-11-07T09:57:45.428Z"
   },
   {
    "duration": 0,
    "start_time": "2022-11-07T09:57:45.430Z"
   },
   {
    "duration": 0,
    "start_time": "2022-11-07T09:57:45.431Z"
   },
   {
    "duration": 0,
    "start_time": "2022-11-07T09:57:45.433Z"
   },
   {
    "duration": 0,
    "start_time": "2022-11-07T09:57:45.434Z"
   },
   {
    "duration": 0,
    "start_time": "2022-11-07T09:57:45.436Z"
   },
   {
    "duration": 0,
    "start_time": "2022-11-07T09:57:45.437Z"
   },
   {
    "duration": 1,
    "start_time": "2022-11-07T09:57:45.438Z"
   },
   {
    "duration": 1203,
    "start_time": "2022-11-07T09:57:54.768Z"
   },
   {
    "duration": 81,
    "start_time": "2022-11-07T09:57:55.974Z"
   },
   {
    "duration": 14,
    "start_time": "2022-11-07T09:57:56.057Z"
   },
   {
    "duration": 24,
    "start_time": "2022-11-07T09:57:56.073Z"
   },
   {
    "duration": 17,
    "start_time": "2022-11-07T09:57:56.100Z"
   },
   {
    "duration": 29,
    "start_time": "2022-11-07T09:57:56.119Z"
   },
   {
    "duration": 43,
    "start_time": "2022-11-07T09:57:56.151Z"
   },
   {
    "duration": 20,
    "start_time": "2022-11-07T09:57:56.197Z"
   },
   {
    "duration": 23,
    "start_time": "2022-11-07T09:57:56.220Z"
   },
   {
    "duration": 19,
    "start_time": "2022-11-07T09:57:56.245Z"
   },
   {
    "duration": 29,
    "start_time": "2022-11-07T09:57:56.265Z"
   },
   {
    "duration": 315,
    "start_time": "2022-11-07T09:57:56.296Z"
   },
   {
    "duration": 19,
    "start_time": "2022-11-07T09:57:56.613Z"
   },
   {
    "duration": 286,
    "start_time": "2022-11-07T09:57:56.635Z"
   },
   {
    "duration": 134,
    "start_time": "2022-11-07T09:57:56.923Z"
   },
   {
    "duration": 0,
    "start_time": "2022-11-07T09:57:57.059Z"
   },
   {
    "duration": 0,
    "start_time": "2022-11-07T09:57:57.060Z"
   },
   {
    "duration": 0,
    "start_time": "2022-11-07T09:57:57.061Z"
   },
   {
    "duration": 0,
    "start_time": "2022-11-07T09:57:57.062Z"
   },
   {
    "duration": 0,
    "start_time": "2022-11-07T09:57:57.063Z"
   },
   {
    "duration": 0,
    "start_time": "2022-11-07T09:57:57.065Z"
   },
   {
    "duration": 0,
    "start_time": "2022-11-07T09:57:57.066Z"
   },
   {
    "duration": 0,
    "start_time": "2022-11-07T09:57:57.067Z"
   },
   {
    "duration": 0,
    "start_time": "2022-11-07T09:57:57.068Z"
   },
   {
    "duration": 0,
    "start_time": "2022-11-07T09:57:57.069Z"
   },
   {
    "duration": 0,
    "start_time": "2022-11-07T09:57:57.070Z"
   },
   {
    "duration": 0,
    "start_time": "2022-11-07T09:57:57.072Z"
   },
   {
    "duration": 0,
    "start_time": "2022-11-07T09:57:57.073Z"
   },
   {
    "duration": 0,
    "start_time": "2022-11-07T09:57:57.074Z"
   },
   {
    "duration": 0,
    "start_time": "2022-11-07T09:57:57.075Z"
   },
   {
    "duration": 0,
    "start_time": "2022-11-07T09:57:57.076Z"
   },
   {
    "duration": 0,
    "start_time": "2022-11-07T09:57:57.077Z"
   },
   {
    "duration": 0,
    "start_time": "2022-11-07T09:57:57.078Z"
   },
   {
    "duration": 0,
    "start_time": "2022-11-07T09:57:57.079Z"
   },
   {
    "duration": 0,
    "start_time": "2022-11-07T09:57:57.081Z"
   },
   {
    "duration": 1,
    "start_time": "2022-11-07T09:57:57.081Z"
   },
   {
    "duration": 0,
    "start_time": "2022-11-07T09:57:57.124Z"
   },
   {
    "duration": 0,
    "start_time": "2022-11-07T09:57:57.125Z"
   },
   {
    "duration": 0,
    "start_time": "2022-11-07T09:57:57.126Z"
   },
   {
    "duration": 0,
    "start_time": "2022-11-07T09:57:57.127Z"
   },
   {
    "duration": 0,
    "start_time": "2022-11-07T09:57:57.128Z"
   },
   {
    "duration": 11,
    "start_time": "2022-11-07T10:00:07.572Z"
   },
   {
    "duration": 13,
    "start_time": "2022-11-07T10:00:08.497Z"
   },
   {
    "duration": 1261,
    "start_time": "2022-11-08T15:31:34.973Z"
   },
   {
    "duration": 202,
    "start_time": "2022-11-08T15:31:36.236Z"
   },
   {
    "duration": 13,
    "start_time": "2022-11-08T15:31:36.444Z"
   },
   {
    "duration": 32,
    "start_time": "2022-11-08T15:31:36.461Z"
   },
   {
    "duration": 32,
    "start_time": "2022-11-08T15:31:36.494Z"
   },
   {
    "duration": 33,
    "start_time": "2022-11-08T15:31:36.528Z"
   },
   {
    "duration": 30,
    "start_time": "2022-11-08T15:31:36.562Z"
   },
   {
    "duration": 20,
    "start_time": "2022-11-08T15:31:36.593Z"
   },
   {
    "duration": 26,
    "start_time": "2022-11-08T15:31:36.615Z"
   },
   {
    "duration": 22,
    "start_time": "2022-11-08T15:31:36.642Z"
   },
   {
    "duration": 34,
    "start_time": "2022-11-08T15:31:36.666Z"
   },
   {
    "duration": 288,
    "start_time": "2022-11-08T15:31:36.701Z"
   },
   {
    "duration": 9,
    "start_time": "2022-11-08T15:31:36.992Z"
   },
   {
    "duration": 273,
    "start_time": "2022-11-08T15:31:37.002Z"
   },
   {
    "duration": 124,
    "start_time": "2022-11-08T15:31:37.277Z"
   },
   {
    "duration": 0,
    "start_time": "2022-11-08T15:31:37.403Z"
   },
   {
    "duration": 0,
    "start_time": "2022-11-08T15:31:37.404Z"
   },
   {
    "duration": 0,
    "start_time": "2022-11-08T15:31:37.405Z"
   },
   {
    "duration": 0,
    "start_time": "2022-11-08T15:31:37.406Z"
   },
   {
    "duration": 0,
    "start_time": "2022-11-08T15:31:37.407Z"
   },
   {
    "duration": 0,
    "start_time": "2022-11-08T15:31:37.408Z"
   },
   {
    "duration": 0,
    "start_time": "2022-11-08T15:31:37.409Z"
   },
   {
    "duration": 0,
    "start_time": "2022-11-08T15:31:37.410Z"
   },
   {
    "duration": 0,
    "start_time": "2022-11-08T15:31:37.411Z"
   },
   {
    "duration": 0,
    "start_time": "2022-11-08T15:31:37.412Z"
   },
   {
    "duration": 0,
    "start_time": "2022-11-08T15:31:37.412Z"
   },
   {
    "duration": 0,
    "start_time": "2022-11-08T15:31:37.432Z"
   },
   {
    "duration": 0,
    "start_time": "2022-11-08T15:31:37.433Z"
   },
   {
    "duration": 0,
    "start_time": "2022-11-08T15:31:37.434Z"
   },
   {
    "duration": 0,
    "start_time": "2022-11-08T15:31:37.436Z"
   },
   {
    "duration": 0,
    "start_time": "2022-11-08T15:31:37.437Z"
   },
   {
    "duration": 0,
    "start_time": "2022-11-08T15:31:37.438Z"
   },
   {
    "duration": 0,
    "start_time": "2022-11-08T15:31:37.439Z"
   },
   {
    "duration": 0,
    "start_time": "2022-11-08T15:31:37.439Z"
   },
   {
    "duration": 0,
    "start_time": "2022-11-08T15:31:37.440Z"
   },
   {
    "duration": 0,
    "start_time": "2022-11-08T15:31:37.442Z"
   },
   {
    "duration": 0,
    "start_time": "2022-11-08T15:31:37.443Z"
   },
   {
    "duration": 0,
    "start_time": "2022-11-08T15:31:37.444Z"
   },
   {
    "duration": 0,
    "start_time": "2022-11-08T15:31:37.445Z"
   },
   {
    "duration": 0,
    "start_time": "2022-11-08T15:31:37.446Z"
   },
   {
    "duration": 0,
    "start_time": "2022-11-08T15:31:37.447Z"
   },
   {
    "duration": 1126,
    "start_time": "2022-11-08T15:33:15.428Z"
   },
   {
    "duration": 76,
    "start_time": "2022-11-08T15:33:16.556Z"
   },
   {
    "duration": 13,
    "start_time": "2022-11-08T15:33:16.635Z"
   },
   {
    "duration": 24,
    "start_time": "2022-11-08T15:33:16.650Z"
   },
   {
    "duration": 21,
    "start_time": "2022-11-08T15:33:16.676Z"
   },
   {
    "duration": 30,
    "start_time": "2022-11-08T15:33:16.698Z"
   },
   {
    "duration": 19,
    "start_time": "2022-11-08T15:33:16.730Z"
   },
   {
    "duration": 21,
    "start_time": "2022-11-08T15:33:16.751Z"
   },
   {
    "duration": 9,
    "start_time": "2022-11-08T15:33:16.774Z"
   },
   {
    "duration": 22,
    "start_time": "2022-11-08T15:33:16.786Z"
   },
   {
    "duration": 20,
    "start_time": "2022-11-08T15:33:16.810Z"
   },
   {
    "duration": 270,
    "start_time": "2022-11-08T15:33:16.832Z"
   },
   {
    "duration": 7,
    "start_time": "2022-11-08T15:33:17.104Z"
   },
   {
    "duration": 260,
    "start_time": "2022-11-08T15:33:17.113Z"
   },
   {
    "duration": 531,
    "start_time": "2022-11-08T15:33:17.375Z"
   },
   {
    "duration": 157,
    "start_time": "2022-11-08T15:33:17.907Z"
   },
   {
    "duration": 256,
    "start_time": "2022-11-08T15:33:18.065Z"
   },
   {
    "duration": 185,
    "start_time": "2022-11-08T15:33:18.322Z"
   },
   {
    "duration": 303,
    "start_time": "2022-11-08T15:33:18.510Z"
   },
   {
    "duration": 178,
    "start_time": "2022-11-08T15:33:18.815Z"
   },
   {
    "duration": 115,
    "start_time": "2022-11-08T15:33:18.994Z"
   },
   {
    "duration": 4,
    "start_time": "2022-11-08T15:33:19.111Z"
   },
   {
    "duration": 128,
    "start_time": "2022-11-08T15:33:19.117Z"
   },
   {
    "duration": 4,
    "start_time": "2022-11-08T15:33:19.247Z"
   },
   {
    "duration": 15,
    "start_time": "2022-11-08T15:33:19.252Z"
   },
   {
    "duration": 428,
    "start_time": "2022-11-08T15:33:19.269Z"
   },
   {
    "duration": 0,
    "start_time": "2022-11-08T15:33:19.700Z"
   },
   {
    "duration": 0,
    "start_time": "2022-11-08T15:33:19.701Z"
   },
   {
    "duration": 0,
    "start_time": "2022-11-08T15:33:19.702Z"
   },
   {
    "duration": 0,
    "start_time": "2022-11-08T15:33:19.703Z"
   },
   {
    "duration": 0,
    "start_time": "2022-11-08T15:33:19.705Z"
   },
   {
    "duration": 0,
    "start_time": "2022-11-08T15:33:19.705Z"
   },
   {
    "duration": 0,
    "start_time": "2022-11-08T15:33:19.706Z"
   },
   {
    "duration": 0,
    "start_time": "2022-11-08T15:33:19.707Z"
   },
   {
    "duration": 0,
    "start_time": "2022-11-08T15:33:19.708Z"
   },
   {
    "duration": 0,
    "start_time": "2022-11-08T15:33:19.710Z"
   },
   {
    "duration": 0,
    "start_time": "2022-11-08T15:33:19.710Z"
   },
   {
    "duration": 0,
    "start_time": "2022-11-08T15:33:19.711Z"
   },
   {
    "duration": 0,
    "start_time": "2022-11-08T15:33:19.733Z"
   },
   {
    "duration": 0,
    "start_time": "2022-11-08T15:33:19.734Z"
   },
   {
    "duration": 0,
    "start_time": "2022-11-08T15:33:19.734Z"
   },
   {
    "duration": 1150,
    "start_time": "2022-11-08T15:33:50.697Z"
   },
   {
    "duration": 66,
    "start_time": "2022-11-08T15:33:51.849Z"
   },
   {
    "duration": 13,
    "start_time": "2022-11-08T15:33:51.916Z"
   },
   {
    "duration": 30,
    "start_time": "2022-11-08T15:33:51.931Z"
   },
   {
    "duration": 31,
    "start_time": "2022-11-08T15:33:51.963Z"
   },
   {
    "duration": 21,
    "start_time": "2022-11-08T15:33:51.995Z"
   },
   {
    "duration": 13,
    "start_time": "2022-11-08T15:33:52.018Z"
   },
   {
    "duration": 34,
    "start_time": "2022-11-08T15:33:52.033Z"
   },
   {
    "duration": 15,
    "start_time": "2022-11-08T15:33:52.069Z"
   },
   {
    "duration": 28,
    "start_time": "2022-11-08T15:33:52.086Z"
   },
   {
    "duration": 17,
    "start_time": "2022-11-08T15:33:52.115Z"
   },
   {
    "duration": 285,
    "start_time": "2022-11-08T15:33:52.134Z"
   },
   {
    "duration": 14,
    "start_time": "2022-11-08T15:33:52.420Z"
   },
   {
    "duration": 291,
    "start_time": "2022-11-08T15:33:52.436Z"
   },
   {
    "duration": 582,
    "start_time": "2022-11-08T15:33:52.733Z"
   },
   {
    "duration": 169,
    "start_time": "2022-11-08T15:33:53.317Z"
   },
   {
    "duration": 344,
    "start_time": "2022-11-08T15:33:53.488Z"
   },
   {
    "duration": 189,
    "start_time": "2022-11-08T15:33:53.834Z"
   },
   {
    "duration": 317,
    "start_time": "2022-11-08T15:33:54.025Z"
   },
   {
    "duration": 201,
    "start_time": "2022-11-08T15:33:54.344Z"
   },
   {
    "duration": 118,
    "start_time": "2022-11-08T15:33:54.547Z"
   },
   {
    "duration": 4,
    "start_time": "2022-11-08T15:33:54.667Z"
   },
   {
    "duration": 138,
    "start_time": "2022-11-08T15:33:54.673Z"
   },
   {
    "duration": 6,
    "start_time": "2022-11-08T15:33:54.812Z"
   },
   {
    "duration": 13,
    "start_time": "2022-11-08T15:33:54.819Z"
   },
   {
    "duration": 389,
    "start_time": "2022-11-08T15:33:54.834Z"
   },
   {
    "duration": 29,
    "start_time": "2022-11-08T15:33:55.225Z"
   },
   {
    "duration": 5,
    "start_time": "2022-11-08T15:33:55.258Z"
   },
   {
    "duration": 9,
    "start_time": "2022-11-08T15:33:55.265Z"
   },
   {
    "duration": 177,
    "start_time": "2022-11-08T15:33:55.276Z"
   },
   {
    "duration": 9,
    "start_time": "2022-11-08T15:33:55.454Z"
   },
   {
    "duration": 21,
    "start_time": "2022-11-08T15:33:55.465Z"
   },
   {
    "duration": 20,
    "start_time": "2022-11-08T15:33:55.488Z"
   },
   {
    "duration": 130,
    "start_time": "2022-11-08T15:33:55.509Z"
   },
   {
    "duration": 28,
    "start_time": "2022-11-08T15:33:55.641Z"
   },
   {
    "duration": 23,
    "start_time": "2022-11-08T15:33:55.671Z"
   },
   {
    "duration": 11,
    "start_time": "2022-11-08T15:33:55.695Z"
   },
   {
    "duration": 35,
    "start_time": "2022-11-08T15:33:55.708Z"
   },
   {
    "duration": 13,
    "start_time": "2022-11-08T15:33:55.745Z"
   },
   {
    "duration": 22,
    "start_time": "2022-11-08T15:33:55.760Z"
   },
   {
    "duration": 17,
    "start_time": "2022-11-08T15:33:55.784Z"
   },
   {
    "duration": 119,
    "start_time": "2022-11-08T15:34:54.624Z"
   },
   {
    "duration": 12,
    "start_time": "2022-11-08T15:35:04.515Z"
   },
   {
    "duration": 12,
    "start_time": "2022-11-08T15:35:05.631Z"
   },
   {
    "duration": 16,
    "start_time": "2022-11-08T15:35:24.746Z"
   },
   {
    "duration": 1077,
    "start_time": "2022-11-08T15:35:51.067Z"
   },
   {
    "duration": 67,
    "start_time": "2022-11-08T15:35:52.146Z"
   },
   {
    "duration": 11,
    "start_time": "2022-11-08T15:35:52.214Z"
   },
   {
    "duration": 48,
    "start_time": "2022-11-08T15:35:52.226Z"
   },
   {
    "duration": 23,
    "start_time": "2022-11-08T15:35:52.276Z"
   },
   {
    "duration": 27,
    "start_time": "2022-11-08T15:35:52.301Z"
   },
   {
    "duration": 38,
    "start_time": "2022-11-08T15:35:52.329Z"
   },
   {
    "duration": 26,
    "start_time": "2022-11-08T15:35:52.369Z"
   },
   {
    "duration": 33,
    "start_time": "2022-11-08T15:35:52.396Z"
   },
   {
    "duration": 34,
    "start_time": "2022-11-08T15:35:52.430Z"
   },
   {
    "duration": 115,
    "start_time": "2022-11-08T15:35:52.466Z"
   },
   {
    "duration": 0,
    "start_time": "2022-11-08T15:35:52.584Z"
   },
   {
    "duration": 0,
    "start_time": "2022-11-08T15:35:52.584Z"
   },
   {
    "duration": 0,
    "start_time": "2022-11-08T15:35:52.585Z"
   },
   {
    "duration": 0,
    "start_time": "2022-11-08T15:35:52.587Z"
   },
   {
    "duration": 0,
    "start_time": "2022-11-08T15:35:52.588Z"
   },
   {
    "duration": 0,
    "start_time": "2022-11-08T15:35:52.589Z"
   },
   {
    "duration": 0,
    "start_time": "2022-11-08T15:35:52.590Z"
   },
   {
    "duration": 0,
    "start_time": "2022-11-08T15:35:52.591Z"
   },
   {
    "duration": 0,
    "start_time": "2022-11-08T15:35:52.592Z"
   },
   {
    "duration": 0,
    "start_time": "2022-11-08T15:35:52.593Z"
   },
   {
    "duration": 0,
    "start_time": "2022-11-08T15:35:52.594Z"
   },
   {
    "duration": 0,
    "start_time": "2022-11-08T15:35:52.595Z"
   },
   {
    "duration": 0,
    "start_time": "2022-11-08T15:35:52.596Z"
   },
   {
    "duration": 0,
    "start_time": "2022-11-08T15:35:52.597Z"
   },
   {
    "duration": 0,
    "start_time": "2022-11-08T15:35:52.598Z"
   },
   {
    "duration": 0,
    "start_time": "2022-11-08T15:35:52.599Z"
   },
   {
    "duration": 0,
    "start_time": "2022-11-08T15:35:52.600Z"
   },
   {
    "duration": 0,
    "start_time": "2022-11-08T15:35:52.601Z"
   },
   {
    "duration": 0,
    "start_time": "2022-11-08T15:35:52.602Z"
   },
   {
    "duration": 0,
    "start_time": "2022-11-08T15:35:52.603Z"
   },
   {
    "duration": 0,
    "start_time": "2022-11-08T15:35:52.635Z"
   },
   {
    "duration": 0,
    "start_time": "2022-11-08T15:35:52.636Z"
   },
   {
    "duration": 0,
    "start_time": "2022-11-08T15:35:52.637Z"
   },
   {
    "duration": 0,
    "start_time": "2022-11-08T15:35:52.641Z"
   },
   {
    "duration": 0,
    "start_time": "2022-11-08T15:35:52.641Z"
   },
   {
    "duration": 0,
    "start_time": "2022-11-08T15:35:52.642Z"
   },
   {
    "duration": 0,
    "start_time": "2022-11-08T15:35:52.643Z"
   },
   {
    "duration": 0,
    "start_time": "2022-11-08T15:35:52.643Z"
   },
   {
    "duration": 0,
    "start_time": "2022-11-08T15:35:52.644Z"
   },
   {
    "duration": 0,
    "start_time": "2022-11-08T15:35:52.644Z"
   },
   {
    "duration": 6,
    "start_time": "2022-11-08T15:36:16.259Z"
   },
   {
    "duration": 1120,
    "start_time": "2022-11-08T15:36:28.350Z"
   },
   {
    "duration": 75,
    "start_time": "2022-11-08T15:36:29.472Z"
   },
   {
    "duration": 11,
    "start_time": "2022-11-08T15:36:29.548Z"
   },
   {
    "duration": 18,
    "start_time": "2022-11-08T15:36:29.561Z"
   },
   {
    "duration": 24,
    "start_time": "2022-11-08T15:36:29.582Z"
   },
   {
    "duration": 10,
    "start_time": "2022-11-08T15:36:29.608Z"
   },
   {
    "duration": 23,
    "start_time": "2022-11-08T15:36:29.620Z"
   },
   {
    "duration": 25,
    "start_time": "2022-11-08T15:36:29.645Z"
   },
   {
    "duration": 8,
    "start_time": "2022-11-08T15:36:29.671Z"
   },
   {
    "duration": 16,
    "start_time": "2022-11-08T15:36:29.680Z"
   },
   {
    "duration": 24,
    "start_time": "2022-11-08T15:36:29.698Z"
   },
   {
    "duration": 271,
    "start_time": "2022-11-08T15:36:29.723Z"
   },
   {
    "duration": 10,
    "start_time": "2022-11-08T15:36:29.996Z"
   },
   {
    "duration": 388,
    "start_time": "2022-11-08T15:36:30.009Z"
   },
   {
    "duration": 595,
    "start_time": "2022-11-08T15:36:30.398Z"
   },
   {
    "duration": 191,
    "start_time": "2022-11-08T15:36:30.995Z"
   },
   {
    "duration": 300,
    "start_time": "2022-11-08T15:36:31.188Z"
   },
   {
    "duration": 196,
    "start_time": "2022-11-08T15:36:31.490Z"
   },
   {
    "duration": 322,
    "start_time": "2022-11-08T15:36:31.688Z"
   },
   {
    "duration": 211,
    "start_time": "2022-11-08T15:36:32.012Z"
   },
   {
    "duration": 140,
    "start_time": "2022-11-08T15:36:32.225Z"
   },
   {
    "duration": 5,
    "start_time": "2022-11-08T15:36:32.366Z"
   },
   {
    "duration": 158,
    "start_time": "2022-11-08T15:36:32.372Z"
   },
   {
    "duration": 13,
    "start_time": "2022-11-08T15:36:32.532Z"
   },
   {
    "duration": 69,
    "start_time": "2022-11-08T15:36:32.546Z"
   },
   {
    "duration": 389,
    "start_time": "2022-11-08T15:36:32.617Z"
   },
   {
    "duration": 37,
    "start_time": "2022-11-08T15:36:33.008Z"
   },
   {
    "duration": 7,
    "start_time": "2022-11-08T15:36:33.046Z"
   },
   {
    "duration": 43,
    "start_time": "2022-11-08T15:36:33.055Z"
   },
   {
    "duration": 162,
    "start_time": "2022-11-08T15:36:33.100Z"
   },
   {
    "duration": 7,
    "start_time": "2022-11-08T15:36:33.264Z"
   },
   {
    "duration": 15,
    "start_time": "2022-11-08T15:36:33.273Z"
   },
   {
    "duration": 22,
    "start_time": "2022-11-08T15:36:33.290Z"
   },
   {
    "duration": 155,
    "start_time": "2022-11-08T15:36:33.314Z"
   },
   {
    "duration": 28,
    "start_time": "2022-11-08T15:36:33.471Z"
   },
   {
    "duration": 48,
    "start_time": "2022-11-08T15:36:33.501Z"
   },
   {
    "duration": 11,
    "start_time": "2022-11-08T15:36:33.551Z"
   },
   {
    "duration": 26,
    "start_time": "2022-11-08T15:36:33.564Z"
   },
   {
    "duration": 7,
    "start_time": "2022-11-08T15:36:33.592Z"
   },
   {
    "duration": 15,
    "start_time": "2022-11-08T15:36:33.600Z"
   },
   {
    "duration": 12,
    "start_time": "2022-11-08T15:36:33.618Z"
   },
   {
    "duration": 107,
    "start_time": "2022-11-08T15:41:46.862Z"
   },
   {
    "duration": 4,
    "start_time": "2022-11-08T15:41:59.402Z"
   },
   {
    "duration": 10,
    "start_time": "2022-11-08T15:43:25.408Z"
   },
   {
    "duration": 8,
    "start_time": "2022-11-08T15:43:32.822Z"
   },
   {
    "duration": 8,
    "start_time": "2022-11-08T15:43:33.035Z"
   },
   {
    "duration": 8,
    "start_time": "2022-11-08T15:44:40.424Z"
   },
   {
    "duration": 21,
    "start_time": "2022-11-08T15:45:20.173Z"
   },
   {
    "duration": 28,
    "start_time": "2022-11-08T15:45:32.833Z"
   },
   {
    "duration": 8,
    "start_time": "2022-11-08T15:45:38.834Z"
   },
   {
    "duration": 7,
    "start_time": "2022-11-08T15:45:40.725Z"
   },
   {
    "duration": 12,
    "start_time": "2022-11-08T15:45:50.729Z"
   },
   {
    "duration": 4,
    "start_time": "2022-11-08T15:48:13.091Z"
   },
   {
    "duration": 4,
    "start_time": "2022-11-08T15:48:24.789Z"
   },
   {
    "duration": 5,
    "start_time": "2022-11-08T15:49:56.448Z"
   },
   {
    "duration": 4,
    "start_time": "2022-11-08T15:50:08.028Z"
   },
   {
    "duration": 11,
    "start_time": "2022-11-08T15:54:21.455Z"
   },
   {
    "duration": 129,
    "start_time": "2022-11-08T15:54:30.231Z"
   },
   {
    "duration": 227,
    "start_time": "2022-11-08T15:54:34.118Z"
   },
   {
    "duration": 10,
    "start_time": "2022-11-08T15:54:54.401Z"
   },
   {
    "duration": 11,
    "start_time": "2022-11-08T15:57:47.660Z"
   },
   {
    "duration": 1246,
    "start_time": "2022-11-08T15:58:56.801Z"
   },
   {
    "duration": 66,
    "start_time": "2022-11-08T15:58:58.049Z"
   },
   {
    "duration": 14,
    "start_time": "2022-11-08T15:58:58.119Z"
   },
   {
    "duration": 14,
    "start_time": "2022-11-08T15:58:58.135Z"
   },
   {
    "duration": 11,
    "start_time": "2022-11-08T15:58:58.151Z"
   },
   {
    "duration": 12,
    "start_time": "2022-11-08T15:58:58.163Z"
   },
   {
    "duration": 10,
    "start_time": "2022-11-08T15:58:58.176Z"
   },
   {
    "duration": 10,
    "start_time": "2022-11-08T15:58:58.187Z"
   },
   {
    "duration": 17,
    "start_time": "2022-11-08T15:58:58.199Z"
   },
   {
    "duration": 24,
    "start_time": "2022-11-08T15:58:58.218Z"
   },
   {
    "duration": 12,
    "start_time": "2022-11-08T15:58:58.244Z"
   },
   {
    "duration": 8,
    "start_time": "2022-11-08T15:58:58.258Z"
   },
   {
    "duration": 9,
    "start_time": "2022-11-08T15:58:58.267Z"
   },
   {
    "duration": 8,
    "start_time": "2022-11-08T15:58:58.278Z"
   },
   {
    "duration": 46,
    "start_time": "2022-11-08T15:58:58.288Z"
   },
   {
    "duration": 4,
    "start_time": "2022-11-08T15:58:58.336Z"
   },
   {
    "duration": 7,
    "start_time": "2022-11-08T15:58:58.342Z"
   },
   {
    "duration": 6,
    "start_time": "2022-11-08T15:58:58.351Z"
   },
   {
    "duration": 7,
    "start_time": "2022-11-08T15:58:58.360Z"
   },
   {
    "duration": 17,
    "start_time": "2022-11-08T15:58:58.369Z"
   },
   {
    "duration": 326,
    "start_time": "2022-11-08T15:58:58.388Z"
   },
   {
    "duration": 10,
    "start_time": "2022-11-08T15:58:58.716Z"
   },
   {
    "duration": 258,
    "start_time": "2022-11-08T15:58:58.733Z"
   },
   {
    "duration": 533,
    "start_time": "2022-11-08T15:58:58.993Z"
   },
   {
    "duration": 155,
    "start_time": "2022-11-08T15:58:59.532Z"
   },
   {
    "duration": 301,
    "start_time": "2022-11-08T15:58:59.689Z"
   },
   {
    "duration": 192,
    "start_time": "2022-11-08T15:58:59.994Z"
   },
   {
    "duration": 326,
    "start_time": "2022-11-08T15:59:00.188Z"
   },
   {
    "duration": 226,
    "start_time": "2022-11-08T15:59:00.515Z"
   },
   {
    "duration": 148,
    "start_time": "2022-11-08T15:59:00.744Z"
   },
   {
    "duration": 6,
    "start_time": "2022-11-08T15:59:00.894Z"
   },
   {
    "duration": 209,
    "start_time": "2022-11-08T15:59:00.902Z"
   },
   {
    "duration": 5,
    "start_time": "2022-11-08T15:59:01.113Z"
   },
   {
    "duration": 47,
    "start_time": "2022-11-08T15:59:01.120Z"
   },
   {
    "duration": 398,
    "start_time": "2022-11-08T15:59:01.169Z"
   },
   {
    "duration": 25,
    "start_time": "2022-11-08T15:59:01.569Z"
   },
   {
    "duration": 6,
    "start_time": "2022-11-08T15:59:01.595Z"
   },
   {
    "duration": 32,
    "start_time": "2022-11-08T15:59:01.603Z"
   },
   {
    "duration": 205,
    "start_time": "2022-11-08T15:59:01.637Z"
   },
   {
    "duration": 9,
    "start_time": "2022-11-08T15:59:01.843Z"
   },
   {
    "duration": 9,
    "start_time": "2022-11-08T15:59:01.853Z"
   },
   {
    "duration": 9,
    "start_time": "2022-11-08T15:59:01.864Z"
   },
   {
    "duration": 219,
    "start_time": "2022-11-08T15:59:01.874Z"
   },
   {
    "duration": 42,
    "start_time": "2022-11-08T15:59:02.095Z"
   },
   {
    "duration": 24,
    "start_time": "2022-11-08T15:59:02.139Z"
   },
   {
    "duration": 13,
    "start_time": "2022-11-08T15:59:02.165Z"
   },
   {
    "duration": 21,
    "start_time": "2022-11-08T15:59:02.180Z"
   },
   {
    "duration": 30,
    "start_time": "2022-11-08T15:59:02.203Z"
   },
   {
    "duration": 26,
    "start_time": "2022-11-08T15:59:02.235Z"
   },
   {
    "duration": 8,
    "start_time": "2022-11-08T15:59:02.264Z"
   },
   {
    "duration": 1223,
    "start_time": "2022-11-08T18:59:00.100Z"
   },
   {
    "duration": 58,
    "start_time": "2022-11-08T18:59:01.325Z"
   },
   {
    "duration": 15,
    "start_time": "2022-11-08T18:59:01.385Z"
   },
   {
    "duration": 59,
    "start_time": "2022-11-08T18:59:01.404Z"
   },
   {
    "duration": 24,
    "start_time": "2022-11-08T18:59:01.465Z"
   },
   {
    "duration": 58,
    "start_time": "2022-11-08T18:59:01.492Z"
   },
   {
    "duration": 36,
    "start_time": "2022-11-08T18:59:01.552Z"
   },
   {
    "duration": 58,
    "start_time": "2022-11-08T18:59:01.590Z"
   },
   {
    "duration": 27,
    "start_time": "2022-11-08T18:59:01.650Z"
   },
   {
    "duration": 53,
    "start_time": "2022-11-08T18:59:01.679Z"
   },
   {
    "duration": 33,
    "start_time": "2022-11-08T18:59:01.734Z"
   },
   {
    "duration": 57,
    "start_time": "2022-11-08T18:59:01.769Z"
   },
   {
    "duration": 48,
    "start_time": "2022-11-08T18:59:01.828Z"
   },
   {
    "duration": 65,
    "start_time": "2022-11-08T18:59:01.880Z"
   },
   {
    "duration": 39,
    "start_time": "2022-11-08T18:59:01.947Z"
   },
   {
    "duration": 37,
    "start_time": "2022-11-08T18:59:01.987Z"
   },
   {
    "duration": 44,
    "start_time": "2022-11-08T18:59:02.026Z"
   },
   {
    "duration": 60,
    "start_time": "2022-11-08T18:59:02.072Z"
   },
   {
    "duration": 25,
    "start_time": "2022-11-08T18:59:02.134Z"
   },
   {
    "duration": 26,
    "start_time": "2022-11-08T18:59:02.162Z"
   },
   {
    "duration": 304,
    "start_time": "2022-11-08T18:59:02.190Z"
   },
   {
    "duration": 18,
    "start_time": "2022-11-08T18:59:02.498Z"
   },
   {
    "duration": 324,
    "start_time": "2022-11-08T18:59:02.521Z"
   },
   {
    "duration": 556,
    "start_time": "2022-11-08T18:59:02.847Z"
   },
   {
    "duration": 165,
    "start_time": "2022-11-08T18:59:03.411Z"
   },
   {
    "duration": 311,
    "start_time": "2022-11-08T18:59:03.578Z"
   },
   {
    "duration": 222,
    "start_time": "2022-11-08T18:59:03.899Z"
   },
   {
    "duration": 325,
    "start_time": "2022-11-08T18:59:04.125Z"
   },
   {
    "duration": 233,
    "start_time": "2022-11-08T18:59:04.452Z"
   },
   {
    "duration": 144,
    "start_time": "2022-11-08T18:59:04.686Z"
   },
   {
    "duration": 5,
    "start_time": "2022-11-08T18:59:04.832Z"
   },
   {
    "duration": 166,
    "start_time": "2022-11-08T18:59:04.839Z"
   },
   {
    "duration": 6,
    "start_time": "2022-11-08T18:59:05.007Z"
   },
   {
    "duration": 16,
    "start_time": "2022-11-08T18:59:05.015Z"
   },
   {
    "duration": 440,
    "start_time": "2022-11-08T18:59:05.033Z"
   },
   {
    "duration": 40,
    "start_time": "2022-11-08T18:59:05.475Z"
   },
   {
    "duration": 9,
    "start_time": "2022-11-08T18:59:05.516Z"
   },
   {
    "duration": 16,
    "start_time": "2022-11-08T18:59:05.527Z"
   },
   {
    "duration": 211,
    "start_time": "2022-11-08T18:59:05.545Z"
   },
   {
    "duration": 8,
    "start_time": "2022-11-08T18:59:05.757Z"
   },
   {
    "duration": 6,
    "start_time": "2022-11-08T18:59:05.769Z"
   },
   {
    "duration": 15,
    "start_time": "2022-11-08T18:59:05.776Z"
   },
   {
    "duration": 193,
    "start_time": "2022-11-08T18:59:05.805Z"
   },
   {
    "duration": 47,
    "start_time": "2022-11-08T18:59:06.001Z"
   },
   {
    "duration": 20,
    "start_time": "2022-11-08T18:59:06.050Z"
   },
   {
    "duration": 35,
    "start_time": "2022-11-08T18:59:06.072Z"
   },
   {
    "duration": 16,
    "start_time": "2022-11-08T18:59:06.110Z"
   },
   {
    "duration": 11,
    "start_time": "2022-11-08T18:59:06.128Z"
   },
   {
    "duration": 11,
    "start_time": "2022-11-08T18:59:06.141Z"
   },
   {
    "duration": 10,
    "start_time": "2022-11-08T18:59:06.153Z"
   },
   {
    "duration": 45,
    "start_time": "2022-11-08T19:11:11.747Z"
   },
   {
    "duration": 1276,
    "start_time": "2022-11-08T19:12:53.336Z"
   },
   {
    "duration": 149,
    "start_time": "2022-11-08T19:12:54.615Z"
   },
   {
    "duration": 10,
    "start_time": "2022-11-08T19:12:54.766Z"
   },
   {
    "duration": 11,
    "start_time": "2022-11-08T19:12:54.778Z"
   },
   {
    "duration": 9,
    "start_time": "2022-11-08T19:12:54.790Z"
   },
   {
    "duration": 9,
    "start_time": "2022-11-08T19:12:54.801Z"
   },
   {
    "duration": 8,
    "start_time": "2022-11-08T19:12:54.812Z"
   },
   {
    "duration": 5,
    "start_time": "2022-11-08T19:12:54.822Z"
   },
   {
    "duration": 8,
    "start_time": "2022-11-08T19:12:54.828Z"
   },
   {
    "duration": 9,
    "start_time": "2022-11-08T19:12:54.838Z"
   },
   {
    "duration": 9,
    "start_time": "2022-11-08T19:12:54.848Z"
   },
   {
    "duration": 6,
    "start_time": "2022-11-08T19:12:54.858Z"
   },
   {
    "duration": 8,
    "start_time": "2022-11-08T19:12:54.865Z"
   },
   {
    "duration": 7,
    "start_time": "2022-11-08T19:12:54.874Z"
   },
   {
    "duration": 12,
    "start_time": "2022-11-08T19:12:54.883Z"
   },
   {
    "duration": 6,
    "start_time": "2022-11-08T19:12:54.897Z"
   },
   {
    "duration": 23,
    "start_time": "2022-11-08T19:12:54.904Z"
   },
   {
    "duration": 3,
    "start_time": "2022-11-08T19:12:54.928Z"
   },
   {
    "duration": 9,
    "start_time": "2022-11-08T19:12:54.933Z"
   },
   {
    "duration": 14,
    "start_time": "2022-11-08T19:12:54.943Z"
   },
   {
    "duration": 268,
    "start_time": "2022-11-08T19:12:54.959Z"
   },
   {
    "duration": 8,
    "start_time": "2022-11-08T19:12:55.229Z"
   },
   {
    "duration": 240,
    "start_time": "2022-11-08T19:12:55.238Z"
   },
   {
    "duration": 531,
    "start_time": "2022-11-08T19:12:55.480Z"
   },
   {
    "duration": 162,
    "start_time": "2022-11-08T19:12:56.012Z"
   },
   {
    "duration": 328,
    "start_time": "2022-11-08T19:12:56.175Z"
   },
   {
    "duration": 161,
    "start_time": "2022-11-08T19:12:56.505Z"
   },
   {
    "duration": 328,
    "start_time": "2022-11-08T19:12:56.669Z"
   },
   {
    "duration": 104,
    "start_time": "2022-11-08T19:12:56.999Z"
   },
   {
    "duration": 100,
    "start_time": "2022-11-08T19:12:57.105Z"
   },
   {
    "duration": 3,
    "start_time": "2022-11-08T19:12:57.206Z"
   },
   {
    "duration": 120,
    "start_time": "2022-11-08T19:12:57.211Z"
   },
   {
    "duration": 4,
    "start_time": "2022-11-08T19:12:57.332Z"
   },
   {
    "duration": 7,
    "start_time": "2022-11-08T19:12:57.337Z"
   },
   {
    "duration": 335,
    "start_time": "2022-11-08T19:12:57.345Z"
   },
   {
    "duration": 19,
    "start_time": "2022-11-08T19:12:57.681Z"
   },
   {
    "duration": 5,
    "start_time": "2022-11-08T19:12:57.702Z"
   },
   {
    "duration": 18,
    "start_time": "2022-11-08T19:12:57.708Z"
   },
   {
    "duration": 139,
    "start_time": "2022-11-08T19:12:57.728Z"
   },
   {
    "duration": 7,
    "start_time": "2022-11-08T19:12:57.869Z"
   },
   {
    "duration": 5,
    "start_time": "2022-11-08T19:12:57.877Z"
   },
   {
    "duration": 7,
    "start_time": "2022-11-08T19:12:57.883Z"
   },
   {
    "duration": 147,
    "start_time": "2022-11-08T19:12:57.891Z"
   },
   {
    "duration": 22,
    "start_time": "2022-11-08T19:12:58.040Z"
   },
   {
    "duration": 18,
    "start_time": "2022-11-08T19:12:58.063Z"
   },
   {
    "duration": 10,
    "start_time": "2022-11-08T19:12:58.082Z"
   },
   {
    "duration": 36,
    "start_time": "2022-11-08T19:12:58.093Z"
   },
   {
    "duration": 7,
    "start_time": "2022-11-08T19:12:58.131Z"
   },
   {
    "duration": 10,
    "start_time": "2022-11-08T19:12:58.139Z"
   },
   {
    "duration": 11,
    "start_time": "2022-11-08T19:12:58.150Z"
   },
   {
    "duration": 3,
    "start_time": "2022-11-08T19:22:47.375Z"
   },
   {
    "duration": 58,
    "start_time": "2022-11-08T19:22:47.379Z"
   },
   {
    "duration": 8,
    "start_time": "2022-11-08T19:22:47.439Z"
   },
   {
    "duration": 12,
    "start_time": "2022-11-08T19:22:47.448Z"
   },
   {
    "duration": 13,
    "start_time": "2022-11-08T19:22:47.462Z"
   },
   {
    "duration": 9,
    "start_time": "2022-11-08T19:22:47.477Z"
   },
   {
    "duration": 8,
    "start_time": "2022-11-08T19:22:47.488Z"
   },
   {
    "duration": 9,
    "start_time": "2022-11-08T19:22:47.498Z"
   },
   {
    "duration": 18,
    "start_time": "2022-11-08T19:22:47.509Z"
   },
   {
    "duration": 9,
    "start_time": "2022-11-08T19:22:47.528Z"
   },
   {
    "duration": 8,
    "start_time": "2022-11-08T19:22:47.540Z"
   },
   {
    "duration": 7,
    "start_time": "2022-11-08T19:22:47.549Z"
   },
   {
    "duration": 9,
    "start_time": "2022-11-08T19:22:47.557Z"
   },
   {
    "duration": 9,
    "start_time": "2022-11-08T19:22:47.568Z"
   },
   {
    "duration": 11,
    "start_time": "2022-11-08T19:22:47.578Z"
   },
   {
    "duration": 7,
    "start_time": "2022-11-08T19:22:47.590Z"
   },
   {
    "duration": 28,
    "start_time": "2022-11-08T19:22:47.598Z"
   },
   {
    "duration": 8,
    "start_time": "2022-11-08T19:22:47.628Z"
   },
   {
    "duration": 11,
    "start_time": "2022-11-08T19:22:47.638Z"
   },
   {
    "duration": 15,
    "start_time": "2022-11-08T19:22:47.650Z"
   },
   {
    "duration": 251,
    "start_time": "2022-11-08T19:22:47.666Z"
   },
   {
    "duration": 12,
    "start_time": "2022-11-08T19:22:47.918Z"
   },
   {
    "duration": 230,
    "start_time": "2022-11-08T19:22:47.932Z"
   },
   {
    "duration": 406,
    "start_time": "2022-11-08T19:22:48.163Z"
   },
   {
    "duration": 149,
    "start_time": "2022-11-08T19:22:48.571Z"
   },
   {
    "duration": 272,
    "start_time": "2022-11-08T19:22:48.725Z"
   },
   {
    "duration": 175,
    "start_time": "2022-11-08T19:22:48.998Z"
   },
   {
    "duration": 272,
    "start_time": "2022-11-08T19:22:49.175Z"
   },
   {
    "duration": 187,
    "start_time": "2022-11-08T19:22:49.449Z"
   },
   {
    "duration": 114,
    "start_time": "2022-11-08T19:22:49.638Z"
   },
   {
    "duration": 3,
    "start_time": "2022-11-08T19:22:49.754Z"
   },
   {
    "duration": 147,
    "start_time": "2022-11-08T19:22:49.758Z"
   },
   {
    "duration": 5,
    "start_time": "2022-11-08T19:22:49.906Z"
   },
   {
    "duration": 17,
    "start_time": "2022-11-08T19:22:49.913Z"
   },
   {
    "duration": 338,
    "start_time": "2022-11-08T19:22:49.932Z"
   },
   {
    "duration": 18,
    "start_time": "2022-11-08T19:22:50.271Z"
   },
   {
    "duration": 6,
    "start_time": "2022-11-08T19:22:50.291Z"
   },
   {
    "duration": 11,
    "start_time": "2022-11-08T19:22:50.298Z"
   },
   {
    "duration": 126,
    "start_time": "2022-11-08T19:22:50.326Z"
   },
   {
    "duration": 7,
    "start_time": "2022-11-08T19:22:50.454Z"
   },
   {
    "duration": 6,
    "start_time": "2022-11-08T19:22:50.462Z"
   },
   {
    "duration": 6,
    "start_time": "2022-11-08T19:22:50.469Z"
   },
   {
    "duration": 136,
    "start_time": "2022-11-08T19:22:50.476Z"
   },
   {
    "duration": 28,
    "start_time": "2022-11-08T19:22:50.613Z"
   },
   {
    "duration": 19,
    "start_time": "2022-11-08T19:22:50.642Z"
   },
   {
    "duration": 11,
    "start_time": "2022-11-08T19:22:50.663Z"
   },
   {
    "duration": 14,
    "start_time": "2022-11-08T19:22:50.676Z"
   },
   {
    "duration": 5,
    "start_time": "2022-11-08T19:22:50.691Z"
   },
   {
    "duration": 31,
    "start_time": "2022-11-08T19:22:50.698Z"
   },
   {
    "duration": 6,
    "start_time": "2022-11-08T19:22:50.730Z"
   },
   {
    "duration": 1021,
    "start_time": "2022-11-08T19:32:49.667Z"
   },
   {
    "duration": 55,
    "start_time": "2022-11-08T19:32:50.689Z"
   },
   {
    "duration": 10,
    "start_time": "2022-11-08T19:32:50.745Z"
   },
   {
    "duration": 12,
    "start_time": "2022-11-08T19:32:50.757Z"
   },
   {
    "duration": 9,
    "start_time": "2022-11-08T19:32:50.770Z"
   },
   {
    "duration": 12,
    "start_time": "2022-11-08T19:32:50.780Z"
   },
   {
    "duration": 10,
    "start_time": "2022-11-08T19:32:50.793Z"
   },
   {
    "duration": 9,
    "start_time": "2022-11-08T19:32:50.804Z"
   },
   {
    "duration": 7,
    "start_time": "2022-11-08T19:32:50.814Z"
   },
   {
    "duration": 11,
    "start_time": "2022-11-08T19:32:50.825Z"
   },
   {
    "duration": 10,
    "start_time": "2022-11-08T19:32:50.838Z"
   },
   {
    "duration": 6,
    "start_time": "2022-11-08T19:32:50.850Z"
   },
   {
    "duration": 12,
    "start_time": "2022-11-08T19:32:50.857Z"
   },
   {
    "duration": 9,
    "start_time": "2022-11-08T19:32:50.870Z"
   },
   {
    "duration": 11,
    "start_time": "2022-11-08T19:32:50.881Z"
   },
   {
    "duration": 7,
    "start_time": "2022-11-08T19:32:50.893Z"
   },
   {
    "duration": 6,
    "start_time": "2022-11-08T19:32:50.901Z"
   },
   {
    "duration": 3,
    "start_time": "2022-11-08T19:32:50.925Z"
   },
   {
    "duration": 9,
    "start_time": "2022-11-08T19:32:50.930Z"
   },
   {
    "duration": 20,
    "start_time": "2022-11-08T19:32:50.940Z"
   },
   {
    "duration": 243,
    "start_time": "2022-11-08T19:32:50.961Z"
   },
   {
    "duration": 9,
    "start_time": "2022-11-08T19:32:51.205Z"
   },
   {
    "duration": 233,
    "start_time": "2022-11-08T19:32:51.215Z"
   },
   {
    "duration": 500,
    "start_time": "2022-11-08T19:32:51.450Z"
   },
   {
    "duration": 158,
    "start_time": "2022-11-08T19:32:51.952Z"
   },
   {
    "duration": 290,
    "start_time": "2022-11-08T19:32:52.112Z"
   },
   {
    "duration": 177,
    "start_time": "2022-11-08T19:32:52.403Z"
   },
   {
    "duration": 302,
    "start_time": "2022-11-08T19:32:52.583Z"
   },
   {
    "duration": 195,
    "start_time": "2022-11-08T19:32:52.887Z"
   },
   {
    "duration": 120,
    "start_time": "2022-11-08T19:32:53.084Z"
   },
   {
    "duration": 4,
    "start_time": "2022-11-08T19:32:53.206Z"
   },
   {
    "duration": 118,
    "start_time": "2022-11-08T19:32:53.225Z"
   },
   {
    "duration": 4,
    "start_time": "2022-11-08T19:32:53.345Z"
   },
   {
    "duration": 7,
    "start_time": "2022-11-08T19:32:53.351Z"
   },
   {
    "duration": 348,
    "start_time": "2022-11-08T19:32:53.360Z"
   },
   {
    "duration": 25,
    "start_time": "2022-11-08T19:32:53.709Z"
   },
   {
    "duration": 5,
    "start_time": "2022-11-08T19:32:53.736Z"
   },
   {
    "duration": 8,
    "start_time": "2022-11-08T19:32:53.742Z"
   },
   {
    "duration": 147,
    "start_time": "2022-11-08T19:32:53.752Z"
   },
   {
    "duration": 8,
    "start_time": "2022-11-08T19:32:53.901Z"
   },
   {
    "duration": 19,
    "start_time": "2022-11-08T19:32:53.911Z"
   },
   {
    "duration": 19,
    "start_time": "2022-11-08T19:32:53.932Z"
   },
   {
    "duration": 173,
    "start_time": "2022-11-08T19:32:53.953Z"
   },
   {
    "duration": 26,
    "start_time": "2022-11-08T19:32:54.128Z"
   },
   {
    "duration": 18,
    "start_time": "2022-11-08T19:32:54.156Z"
   },
   {
    "duration": 9,
    "start_time": "2022-11-08T19:32:54.176Z"
   },
   {
    "duration": 11,
    "start_time": "2022-11-08T19:32:54.186Z"
   },
   {
    "duration": 30,
    "start_time": "2022-11-08T19:32:54.199Z"
   },
   {
    "duration": 11,
    "start_time": "2022-11-08T19:32:54.231Z"
   },
   {
    "duration": 10,
    "start_time": "2022-11-08T19:32:54.243Z"
   },
   {
    "duration": 4,
    "start_time": "2022-11-08T19:44:36.926Z"
   },
   {
    "duration": 11,
    "start_time": "2022-11-08T19:44:41.670Z"
   },
   {
    "duration": 1064,
    "start_time": "2022-11-08T21:13:37.958Z"
   },
   {
    "duration": 55,
    "start_time": "2022-11-08T21:13:39.024Z"
   },
   {
    "duration": 11,
    "start_time": "2022-11-08T21:13:39.081Z"
   },
   {
    "duration": 13,
    "start_time": "2022-11-08T21:13:39.094Z"
   },
   {
    "duration": 10,
    "start_time": "2022-11-08T21:13:39.109Z"
   },
   {
    "duration": 10,
    "start_time": "2022-11-08T21:13:39.121Z"
   },
   {
    "duration": 10,
    "start_time": "2022-11-08T21:13:39.132Z"
   },
   {
    "duration": 8,
    "start_time": "2022-11-08T21:13:39.144Z"
   },
   {
    "duration": 6,
    "start_time": "2022-11-08T21:13:39.154Z"
   },
   {
    "duration": 12,
    "start_time": "2022-11-08T21:13:39.161Z"
   },
   {
    "duration": 13,
    "start_time": "2022-11-08T21:13:39.175Z"
   },
   {
    "duration": 8,
    "start_time": "2022-11-08T21:13:39.189Z"
   },
   {
    "duration": 10,
    "start_time": "2022-11-08T21:13:39.198Z"
   },
   {
    "duration": 16,
    "start_time": "2022-11-08T21:13:39.211Z"
   },
   {
    "duration": 14,
    "start_time": "2022-11-08T21:13:39.228Z"
   },
   {
    "duration": 12,
    "start_time": "2022-11-08T21:13:39.244Z"
   },
   {
    "duration": 9,
    "start_time": "2022-11-08T21:13:39.259Z"
   },
   {
    "duration": 8,
    "start_time": "2022-11-08T21:13:39.269Z"
   },
   {
    "duration": 8,
    "start_time": "2022-11-08T21:13:39.279Z"
   },
   {
    "duration": 15,
    "start_time": "2022-11-08T21:13:39.288Z"
   },
   {
    "duration": 268,
    "start_time": "2022-11-08T21:13:39.304Z"
   },
   {
    "duration": 8,
    "start_time": "2022-11-08T21:13:39.574Z"
   },
   {
    "duration": 234,
    "start_time": "2022-11-08T21:13:39.584Z"
   },
   {
    "duration": 574,
    "start_time": "2022-11-08T21:13:39.825Z"
   },
   {
    "duration": 178,
    "start_time": "2022-11-08T21:13:40.401Z"
   },
   {
    "duration": 315,
    "start_time": "2022-11-08T21:13:40.581Z"
   },
   {
    "duration": 188,
    "start_time": "2022-11-08T21:13:40.898Z"
   },
   {
    "duration": 324,
    "start_time": "2022-11-08T21:13:41.088Z"
   },
   {
    "duration": 213,
    "start_time": "2022-11-08T21:13:41.414Z"
   },
   {
    "duration": 134,
    "start_time": "2022-11-08T21:13:41.629Z"
   },
   {
    "duration": 4,
    "start_time": "2022-11-08T21:13:41.764Z"
   },
   {
    "duration": 128,
    "start_time": "2022-11-08T21:13:41.769Z"
   },
   {
    "duration": 4,
    "start_time": "2022-11-08T21:13:41.898Z"
   },
   {
    "duration": 7,
    "start_time": "2022-11-08T21:13:41.903Z"
   },
   {
    "duration": 362,
    "start_time": "2022-11-08T21:13:41.912Z"
   },
   {
    "duration": 19,
    "start_time": "2022-11-08T21:13:42.276Z"
   },
   {
    "duration": 5,
    "start_time": "2022-11-08T21:13:42.296Z"
   },
   {
    "duration": 26,
    "start_time": "2022-11-08T21:13:42.302Z"
   },
   {
    "duration": 145,
    "start_time": "2022-11-08T21:13:42.329Z"
   },
   {
    "duration": 8,
    "start_time": "2022-11-08T21:13:42.475Z"
   },
   {
    "duration": 5,
    "start_time": "2022-11-08T21:13:42.487Z"
   },
   {
    "duration": 5,
    "start_time": "2022-11-08T21:13:42.494Z"
   },
   {
    "duration": 147,
    "start_time": "2022-11-08T21:13:42.501Z"
   },
   {
    "duration": 23,
    "start_time": "2022-11-08T21:13:42.649Z"
   },
   {
    "duration": 20,
    "start_time": "2022-11-08T21:13:42.674Z"
   },
   {
    "duration": 33,
    "start_time": "2022-11-08T21:13:42.695Z"
   },
   {
    "duration": 11,
    "start_time": "2022-11-08T21:13:42.730Z"
   },
   {
    "duration": 5,
    "start_time": "2022-11-08T21:13:42.742Z"
   },
   {
    "duration": 10,
    "start_time": "2022-11-08T21:13:42.748Z"
   },
   {
    "duration": 8,
    "start_time": "2022-11-08T21:13:42.759Z"
   },
   {
    "duration": 1332,
    "start_time": "2022-11-09T15:37:10.040Z"
   },
   {
    "duration": 215,
    "start_time": "2022-11-09T15:37:11.373Z"
   },
   {
    "duration": 15,
    "start_time": "2022-11-09T15:37:11.589Z"
   },
   {
    "duration": 24,
    "start_time": "2022-11-09T15:37:11.606Z"
   },
   {
    "duration": 11,
    "start_time": "2022-11-09T15:37:11.631Z"
   },
   {
    "duration": 17,
    "start_time": "2022-11-09T15:37:11.644Z"
   },
   {
    "duration": 13,
    "start_time": "2022-11-09T15:37:11.663Z"
   },
   {
    "duration": 10,
    "start_time": "2022-11-09T15:37:11.678Z"
   },
   {
    "duration": 7,
    "start_time": "2022-11-09T15:37:11.689Z"
   },
   {
    "duration": 17,
    "start_time": "2022-11-09T15:37:11.698Z"
   },
   {
    "duration": 13,
    "start_time": "2022-11-09T15:37:11.717Z"
   },
   {
    "duration": 14,
    "start_time": "2022-11-09T15:37:11.732Z"
   },
   {
    "duration": 15,
    "start_time": "2022-11-09T15:37:11.747Z"
   },
   {
    "duration": 12,
    "start_time": "2022-11-09T15:37:11.763Z"
   },
   {
    "duration": 15,
    "start_time": "2022-11-09T15:37:11.777Z"
   },
   {
    "duration": 6,
    "start_time": "2022-11-09T15:37:11.794Z"
   },
   {
    "duration": 9,
    "start_time": "2022-11-09T15:37:11.802Z"
   },
   {
    "duration": 10,
    "start_time": "2022-11-09T15:37:11.812Z"
   },
   {
    "duration": 15,
    "start_time": "2022-11-09T15:37:11.823Z"
   },
   {
    "duration": 21,
    "start_time": "2022-11-09T15:37:11.840Z"
   },
   {
    "duration": 265,
    "start_time": "2022-11-09T15:37:11.862Z"
   },
   {
    "duration": 8,
    "start_time": "2022-11-09T15:37:12.128Z"
   },
   {
    "duration": 261,
    "start_time": "2022-11-09T15:37:12.138Z"
   },
   {
    "duration": 530,
    "start_time": "2022-11-09T15:37:12.402Z"
   },
   {
    "duration": 159,
    "start_time": "2022-11-09T15:37:12.934Z"
   },
   {
    "duration": 374,
    "start_time": "2022-11-09T15:37:13.095Z"
   },
   {
    "duration": 214,
    "start_time": "2022-11-09T15:37:13.470Z"
   },
   {
    "duration": 290,
    "start_time": "2022-11-09T15:37:13.687Z"
   },
   {
    "duration": 202,
    "start_time": "2022-11-09T15:37:13.979Z"
   },
   {
    "duration": 175,
    "start_time": "2022-11-09T15:37:14.183Z"
   },
   {
    "duration": 4,
    "start_time": "2022-11-09T15:37:14.359Z"
   },
   {
    "duration": 141,
    "start_time": "2022-11-09T15:37:14.365Z"
   },
   {
    "duration": 4,
    "start_time": "2022-11-09T15:37:14.508Z"
   },
   {
    "duration": 11,
    "start_time": "2022-11-09T15:37:14.514Z"
   },
   {
    "duration": 433,
    "start_time": "2022-11-09T15:37:14.527Z"
   },
   {
    "duration": 24,
    "start_time": "2022-11-09T15:37:14.962Z"
   },
   {
    "duration": 5,
    "start_time": "2022-11-09T15:37:14.988Z"
   },
   {
    "duration": 9,
    "start_time": "2022-11-09T15:37:14.995Z"
   },
   {
    "duration": 182,
    "start_time": "2022-11-09T15:37:15.006Z"
   },
   {
    "duration": 9,
    "start_time": "2022-11-09T15:37:15.189Z"
   },
   {
    "duration": 20,
    "start_time": "2022-11-09T15:37:15.200Z"
   },
   {
    "duration": 18,
    "start_time": "2022-11-09T15:37:15.221Z"
   },
   {
    "duration": 148,
    "start_time": "2022-11-09T15:37:15.240Z"
   },
   {
    "duration": 27,
    "start_time": "2022-11-09T15:37:15.390Z"
   },
   {
    "duration": 21,
    "start_time": "2022-11-09T15:37:15.419Z"
   },
   {
    "duration": 9,
    "start_time": "2022-11-09T15:37:15.459Z"
   },
   {
    "duration": 14,
    "start_time": "2022-11-09T15:37:15.470Z"
   },
   {
    "duration": 7,
    "start_time": "2022-11-09T15:37:15.486Z"
   },
   {
    "duration": 9,
    "start_time": "2022-11-09T15:37:15.495Z"
   },
   {
    "duration": 8,
    "start_time": "2022-11-09T15:37:15.505Z"
   },
   {
    "duration": 1148,
    "start_time": "2022-11-09T15:37:36.742Z"
   },
   {
    "duration": 74,
    "start_time": "2022-11-09T15:37:37.893Z"
   },
   {
    "duration": 11,
    "start_time": "2022-11-09T15:37:37.969Z"
   },
   {
    "duration": 31,
    "start_time": "2022-11-09T15:37:37.982Z"
   },
   {
    "duration": 43,
    "start_time": "2022-11-09T15:37:38.015Z"
   },
   {
    "duration": 37,
    "start_time": "2022-11-09T15:37:38.060Z"
   },
   {
    "duration": 32,
    "start_time": "2022-11-09T15:37:38.100Z"
   },
   {
    "duration": 27,
    "start_time": "2022-11-09T15:37:38.134Z"
   },
   {
    "duration": 28,
    "start_time": "2022-11-09T15:37:38.162Z"
   },
   {
    "duration": 22,
    "start_time": "2022-11-09T15:37:38.193Z"
   },
   {
    "duration": 17,
    "start_time": "2022-11-09T15:37:38.217Z"
   },
   {
    "duration": 23,
    "start_time": "2022-11-09T15:37:38.236Z"
   },
   {
    "duration": 17,
    "start_time": "2022-11-09T15:37:38.261Z"
   },
   {
    "duration": 30,
    "start_time": "2022-11-09T15:37:38.280Z"
   },
   {
    "duration": 39,
    "start_time": "2022-11-09T15:37:38.312Z"
   },
   {
    "duration": 32,
    "start_time": "2022-11-09T15:37:38.353Z"
   },
   {
    "duration": 16,
    "start_time": "2022-11-09T15:37:38.387Z"
   },
   {
    "duration": 15,
    "start_time": "2022-11-09T15:37:38.405Z"
   },
   {
    "duration": 27,
    "start_time": "2022-11-09T15:37:38.423Z"
   },
   {
    "duration": 22,
    "start_time": "2022-11-09T15:37:38.452Z"
   },
   {
    "duration": 300,
    "start_time": "2022-11-09T15:37:38.476Z"
   },
   {
    "duration": 12,
    "start_time": "2022-11-09T15:37:38.777Z"
   },
   {
    "duration": 262,
    "start_time": "2022-11-09T15:37:38.791Z"
   },
   {
    "duration": 517,
    "start_time": "2022-11-09T15:37:39.055Z"
   },
   {
    "duration": 158,
    "start_time": "2022-11-09T15:37:39.574Z"
   },
   {
    "duration": 329,
    "start_time": "2022-11-09T15:37:39.733Z"
   },
   {
    "duration": 204,
    "start_time": "2022-11-09T15:37:40.064Z"
   },
   {
    "duration": 308,
    "start_time": "2022-11-09T15:37:40.271Z"
   },
   {
    "duration": 214,
    "start_time": "2022-11-09T15:37:40.580Z"
   },
   {
    "duration": 142,
    "start_time": "2022-11-09T15:37:40.796Z"
   },
   {
    "duration": 4,
    "start_time": "2022-11-09T15:37:40.940Z"
   },
   {
    "duration": 137,
    "start_time": "2022-11-09T15:37:40.945Z"
   },
   {
    "duration": 5,
    "start_time": "2022-11-09T15:37:41.083Z"
   },
   {
    "duration": 6,
    "start_time": "2022-11-09T15:37:41.089Z"
   },
   {
    "duration": 370,
    "start_time": "2022-11-09T15:37:41.096Z"
   },
   {
    "duration": 23,
    "start_time": "2022-11-09T15:37:41.468Z"
   },
   {
    "duration": 5,
    "start_time": "2022-11-09T15:37:41.493Z"
   },
   {
    "duration": 13,
    "start_time": "2022-11-09T15:37:41.499Z"
   },
   {
    "duration": 146,
    "start_time": "2022-11-09T15:37:41.514Z"
   },
   {
    "duration": 8,
    "start_time": "2022-11-09T15:37:41.662Z"
   },
   {
    "duration": 7,
    "start_time": "2022-11-09T15:37:41.671Z"
   },
   {
    "duration": 7,
    "start_time": "2022-11-09T15:37:41.679Z"
   },
   {
    "duration": 144,
    "start_time": "2022-11-09T15:37:41.687Z"
   },
   {
    "duration": 29,
    "start_time": "2022-11-09T15:37:41.833Z"
   },
   {
    "duration": 23,
    "start_time": "2022-11-09T15:37:41.864Z"
   },
   {
    "duration": 12,
    "start_time": "2022-11-09T15:37:41.889Z"
   },
   {
    "duration": 10,
    "start_time": "2022-11-09T15:37:41.903Z"
   },
   {
    "duration": 6,
    "start_time": "2022-11-09T15:37:41.915Z"
   },
   {
    "duration": 43,
    "start_time": "2022-11-09T15:37:41.922Z"
   },
   {
    "duration": 7,
    "start_time": "2022-11-09T15:37:41.967Z"
   },
   {
    "duration": 1279,
    "start_time": "2023-06-10T20:53:11.848Z"
   },
   {
    "duration": 217,
    "start_time": "2023-06-10T20:53:13.130Z"
   },
   {
    "duration": 17,
    "start_time": "2023-06-10T20:53:13.349Z"
   },
   {
    "duration": 12,
    "start_time": "2023-06-10T20:53:13.367Z"
   },
   {
    "duration": 11,
    "start_time": "2023-06-10T20:53:13.381Z"
   },
   {
    "duration": 14,
    "start_time": "2023-06-10T20:53:13.393Z"
   },
   {
    "duration": 10,
    "start_time": "2023-06-10T20:53:13.408Z"
   },
   {
    "duration": 23,
    "start_time": "2023-06-10T20:53:13.420Z"
   },
   {
    "duration": 11,
    "start_time": "2023-06-10T20:53:13.448Z"
   },
   {
    "duration": 13,
    "start_time": "2023-06-10T20:53:13.461Z"
   },
   {
    "duration": 18,
    "start_time": "2023-06-10T20:53:13.476Z"
   },
   {
    "duration": 11,
    "start_time": "2023-06-10T20:53:13.496Z"
   },
   {
    "duration": 17,
    "start_time": "2023-06-10T20:53:13.508Z"
   },
   {
    "duration": 17,
    "start_time": "2023-06-10T20:53:13.529Z"
   },
   {
    "duration": 24,
    "start_time": "2023-06-10T20:53:13.548Z"
   },
   {
    "duration": 12,
    "start_time": "2023-06-10T20:53:13.573Z"
   },
   {
    "duration": 9,
    "start_time": "2023-06-10T20:53:13.587Z"
   },
   {
    "duration": 9,
    "start_time": "2023-06-10T20:53:13.598Z"
   },
   {
    "duration": 12,
    "start_time": "2023-06-10T20:53:13.609Z"
   },
   {
    "duration": 17,
    "start_time": "2023-06-10T20:53:13.623Z"
   },
   {
    "duration": 305,
    "start_time": "2023-06-10T20:53:13.644Z"
   },
   {
    "duration": 10,
    "start_time": "2023-06-10T20:53:13.956Z"
   },
   {
    "duration": 303,
    "start_time": "2023-06-10T20:53:13.968Z"
   },
   {
    "duration": 600,
    "start_time": "2023-06-10T20:53:14.273Z"
   },
   {
    "duration": 197,
    "start_time": "2023-06-10T20:53:14.875Z"
   },
   {
    "duration": 288,
    "start_time": "2023-06-10T20:53:15.074Z"
   },
   {
    "duration": 226,
    "start_time": "2023-06-10T20:53:15.363Z"
   },
   {
    "duration": 364,
    "start_time": "2023-06-10T20:53:15.591Z"
   },
   {
    "duration": 248,
    "start_time": "2023-06-10T20:53:15.959Z"
   },
   {
    "duration": 153,
    "start_time": "2023-06-10T20:53:16.209Z"
   },
   {
    "duration": 5,
    "start_time": "2023-06-10T20:53:16.364Z"
   },
   {
    "duration": 157,
    "start_time": "2023-06-10T20:53:16.371Z"
   },
   {
    "duration": 14,
    "start_time": "2023-06-10T20:53:16.530Z"
   },
   {
    "duration": 4,
    "start_time": "2023-06-10T20:53:16.546Z"
   },
   {
    "duration": 411,
    "start_time": "2023-06-10T20:53:16.551Z"
   },
   {
    "duration": 23,
    "start_time": "2023-06-10T20:53:16.963Z"
   },
   {
    "duration": 5,
    "start_time": "2023-06-10T20:53:16.988Z"
   },
   {
    "duration": 11,
    "start_time": "2023-06-10T20:53:16.995Z"
   },
   {
    "duration": 201,
    "start_time": "2023-06-10T20:53:17.007Z"
   },
   {
    "duration": 10,
    "start_time": "2023-06-10T20:53:17.209Z"
   },
   {
    "duration": 7,
    "start_time": "2023-06-10T20:53:17.241Z"
   },
   {
    "duration": 18,
    "start_time": "2023-06-10T20:53:17.252Z"
   },
   {
    "duration": 179,
    "start_time": "2023-06-10T20:53:17.272Z"
   },
   {
    "duration": 28,
    "start_time": "2023-06-10T20:53:17.456Z"
   },
   {
    "duration": 22,
    "start_time": "2023-06-10T20:53:17.486Z"
   },
   {
    "duration": 12,
    "start_time": "2023-06-10T20:53:17.510Z"
   },
   {
    "duration": 16,
    "start_time": "2023-06-10T20:53:17.542Z"
   },
   {
    "duration": 8,
    "start_time": "2023-06-10T20:53:17.560Z"
   },
   {
    "duration": 9,
    "start_time": "2023-06-10T20:53:17.569Z"
   },
   {
    "duration": 10,
    "start_time": "2023-06-10T20:53:17.579Z"
   }
  ],
  "kernelspec": {
   "display_name": "Python 3 (ipykernel)",
   "language": "python",
   "name": "python3"
  },
  "language_info": {
   "codemirror_mode": {
    "name": "ipython",
    "version": 3
   },
   "file_extension": ".py",
   "mimetype": "text/x-python",
   "name": "python",
   "nbconvert_exporter": "python",
   "pygments_lexer": "ipython3",
   "version": "3.9.5"
  },
  "toc": {
   "base_numbering": 1,
   "nav_menu": {},
   "number_sections": true,
   "sideBar": true,
   "skip_h1_title": true,
   "title_cell": "Table of Contents",
   "title_sidebar": "Contents",
   "toc_cell": false,
   "toc_position": {},
   "toc_section_display": true,
   "toc_window_display": false
  }
 },
 "nbformat": 4,
 "nbformat_minor": 2
}
