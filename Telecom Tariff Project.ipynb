{
 "cells": [
  {
   "cell_type": "markdown",
   "metadata": {},
   "source": [
    "\n",
    "# Определение перспективного тарифа для телеком-компании"
   ]
  },
  {
   "cell_type": "markdown",
   "metadata": {},
   "source": [
    "## Описание проекта"
   ]
  },
  {
   "cell_type": "markdown",
   "metadata": {},
   "source": [
    "Клиентам предлагают два тарифных плана: «Смарт» и «Ультра». Чтобы скорректировать рекламный бюджет, коммерческий департамент хочет понять, какой тариф приносит больше денег.\n",
    "Предстоит сделать предварительный анализ тарифов на небольшой выборке клиентов. В распоряжении данные 500 пользователей «Мегалайна»: кто они, откуда, каким тарифом пользуются, сколько звонков и сообщений каждый отправил за 2018 год. Нужно проанализировать поведение клиентов и сделать вывод — какой тариф лучше."
   ]
  },
  {
   "cell_type": "markdown",
   "metadata": {},
   "source": [
    "### Описание тарифов\n",
    "\n",
    "#### Тариф «Смарт»\n",
    "- Ежемесячная плата: 550 рублей\n",
    "- Включено 500 минут разговора, 50 сообщений и 15 Гб интернет-трафика\n",
    "- Стоимость услуг сверх тарифного пакета:\n",
    "    - минута разговора: 3 рубля\n",
    "    - сообщение: 3 рубля\n",
    "    - 1 Гб интернет-трафика: 200 рублей\n",
    "    \n",
    "#### Тариф «Ультра»\n",
    "- Ежемесячная плата: 1950 рублей\n",
    "- Включено 3000 минут разговора, 1000 сообщений и 30 Гб интернет-трафика\n",
    "- Стоимость услуг сверх тарифного пакета:\n",
    "    - минута разговора: 1 рубль\n",
    "    - сообщение: 1 рубль\n",
    "    - 1 Гб интернет-трафика: 150 рублей\n",
    "    \n",
    "#### Примечание\n",
    "«Мегалайн» всегда округляет секунды до минут, а мегабайты — до гигабайт. Каждый звонок округляется отдельно: даже если он длился всего 1 секунду, будет засчитан как 1 минута.\n",
    "Для веб-трафика отдельные сессии не считаются. Вместо этого общая сумма за месяц округляется в бо́льшую сторону. Если абонент использует 1025 мегабайт в этом месяце, с него возьмут плату за 2 гигабайта. Примите, что неиспользованные за предыдущий месяц звонки, смс, интернет на следующий месяц не переносятся."
   ]
  },
  {
   "cell_type": "markdown",
   "metadata": {},
   "source": [
    "### Описание данных\n",
    "\n",
    "#### Таблицы\n",
    "Таблица users (информация о пользователях):\n",
    "- user_id — уникальный идентификатор пользователя\n",
    "- first_name — имя пользователя\n",
    "- last_name — фамилия пользователя\n",
    "- age — возраст пользователя (годы)\n",
    "- reg_date — дата подключения тарифа (день, месяц, год)\n",
    "- churn_date — дата прекращения пользования тарифом (если значение пропущено, то тариф ещё действовал на момент выгрузки данных)\n",
    "- city — город проживания пользователя\n",
    "- tariff — название тарифного плана\n",
    "\n",
    "Таблица calls (информация о звонках):\n",
    "- id — уникальный номер звонка\n",
    "- call_date — дата звонка\n",
    "- duration — длительность звонка в минутах\n",
    "- user_id — идентификатор пользователя, сделавшего звонок\n",
    "\n",
    "Таблица messages (информация о сообщениях):\n",
    "- id — уникальный номер сообщения\n",
    "- message_date — дата сообщения\n",
    "- user_id — идентификатор пользователя, отправившего сообщение\n",
    "\n",
    "Таблица internet (информация об интернет-сессиях):\n",
    "- id — уникальный номер сессии\n",
    "- mb_used — объём потраченного за сессию интернет-трафика (в мегабайтах)\n",
    "- session_date — дата интернет-сессии\n",
    "- user_id — идентификатор пользователя\n",
    "\n",
    "Таблица tariffs (информация о тарифах):\n",
    "- tariff_name — название тарифа\n",
    "- rub_monthly_fee — ежемесячная абонентская плата в рублях\n",
    "- minutes_included — количество минут разговора в месяц, включённых в абонентскую плату\n",
    "- messages_included — количество сообщений в месяц, включённых в абонентскую плату\n",
    "- mb_per_month_included — объём интернет-трафика, включённого в абонентскую плату (в мегабайтах)\n",
    "- rub_per_minute — стоимость минуты разговора сверх тарифного пакета (например, если в тарифе 100 минут разговора в месяц, то со 101 минуты будет взиматься плата)\n",
    "- rub_per_message — стоимость отправки сообщения сверх тарифного пакета\n",
    "- rub_per_gb — стоимость дополнительного гигабайта интернет-трафика сверх тарифного пакета (1 гигабайт = 1024 мегабайта)\n",
    "\n",
    "#### Примечание\n",
    "Если объединение таблиц командой merge приводит к ошибке dead kernell, примените join."
   ]
  },
  {
   "cell_type": "markdown",
   "metadata": {},
   "source": [
    "## Общая информация"
   ]
  },
  {
   "cell_type": "markdown",
   "metadata": {},
   "source": [
    "### Библиотеки\n",
    "\n",
    "Подключим необходимые библиотеки:"
   ]
  },
  {
   "cell_type": "code",
   "execution_count": 1,
   "metadata": {},
   "outputs": [],
   "source": [
    "import pandas as pd\n",
    "import numpy as np\n",
    "import matplotlib.pyplot as plt\n",
    "from scipy import stats as st\n",
    "from datetime import datetime"
   ]
  },
  {
   "cell_type": "markdown",
   "metadata": {},
   "source": [
    "### Таблицы с данными\n",
    "\n",
    "Подгрузим таблицы с данными от мобильного оператора и получим общее представление о данных"
   ]
  },
  {
   "cell_type": "code",
   "execution_count": 2,
   "metadata": {},
   "outputs": [],
   "source": [
    "users = pd.read_csv('/datasets/users.csv')\n",
    "calls = pd.read_csv('/datasets/calls.csv')\n",
    "messages = pd.read_csv('/datasets/messages.csv')\n",
    "internet = pd.read_csv('/datasets/internet.csv', index_col = 0)\n",
    "tariffs = pd.read_csv('/datasets/tariffs.csv')"
   ]
  },
  {
   "cell_type": "markdown",
   "metadata": {},
   "source": [
    "#### Таблица users(информация о пользователях):"
   ]
  },
  {
   "cell_type": "code",
   "execution_count": 3,
   "metadata": {
    "scrolled": true
   },
   "outputs": [
    {
     "name": "stdout",
     "output_type": "stream",
     "text": [
      "<class 'pandas.core.frame.DataFrame'>\n",
      "RangeIndex: 500 entries, 0 to 499\n",
      "Data columns (total 8 columns):\n",
      " #   Column      Non-Null Count  Dtype \n",
      "---  ------      --------------  ----- \n",
      " 0   user_id     500 non-null    int64 \n",
      " 1   age         500 non-null    int64 \n",
      " 2   churn_date  38 non-null     object\n",
      " 3   city        500 non-null    object\n",
      " 4   first_name  500 non-null    object\n",
      " 5   last_name   500 non-null    object\n",
      " 6   reg_date    500 non-null    object\n",
      " 7   tariff      500 non-null    object\n",
      "dtypes: int64(2), object(6)\n",
      "memory usage: 31.4+ KB\n"
     ]
    }
   ],
   "source": [
    "users.info()"
   ]
  },
  {
   "cell_type": "markdown",
   "metadata": {},
   "source": [
    "Тип данных в churn_date и reg_date следует поменять на datetime"
   ]
  },
  {
   "cell_type": "code",
   "execution_count": 4,
   "metadata": {},
   "outputs": [],
   "source": [
    "users['churn_date'] = pd.to_datetime(users['churn_date'], format=\"%Y-%m-%d\")\n",
    "users['reg_date'] = pd.to_datetime(users['reg_date'], format=\"%Y-%m-%d\")"
   ]
  },
  {
   "cell_type": "code",
   "execution_count": 5,
   "metadata": {},
   "outputs": [
    {
     "name": "stdout",
     "output_type": "stream",
     "text": [
      "<class 'pandas.core.frame.DataFrame'>\n",
      "RangeIndex: 500 entries, 0 to 499\n",
      "Data columns (total 8 columns):\n",
      " #   Column      Non-Null Count  Dtype         \n",
      "---  ------      --------------  -----         \n",
      " 0   user_id     500 non-null    int64         \n",
      " 1   age         500 non-null    int64         \n",
      " 2   churn_date  38 non-null     datetime64[ns]\n",
      " 3   city        500 non-null    object        \n",
      " 4   first_name  500 non-null    object        \n",
      " 5   last_name   500 non-null    object        \n",
      " 6   reg_date    500 non-null    datetime64[ns]\n",
      " 7   tariff      500 non-null    object        \n",
      "dtypes: datetime64[ns](2), int64(2), object(4)\n",
      "memory usage: 31.4+ KB\n"
     ]
    }
   ],
   "source": [
    "users.info()"
   ]
  },
  {
   "cell_type": "code",
   "execution_count": 6,
   "metadata": {
    "scrolled": true
   },
   "outputs": [
    {
     "data": {
      "text/html": [
       "<div>\n",
       "<style scoped>\n",
       "    .dataframe tbody tr th:only-of-type {\n",
       "        vertical-align: middle;\n",
       "    }\n",
       "\n",
       "    .dataframe tbody tr th {\n",
       "        vertical-align: top;\n",
       "    }\n",
       "\n",
       "    .dataframe thead th {\n",
       "        text-align: right;\n",
       "    }\n",
       "</style>\n",
       "<table border=\"1\" class=\"dataframe\">\n",
       "  <thead>\n",
       "    <tr style=\"text-align: right;\">\n",
       "      <th></th>\n",
       "      <th>user_id</th>\n",
       "      <th>age</th>\n",
       "    </tr>\n",
       "  </thead>\n",
       "  <tbody>\n",
       "    <tr>\n",
       "      <th>count</th>\n",
       "      <td>500.000000</td>\n",
       "      <td>500.00000</td>\n",
       "    </tr>\n",
       "    <tr>\n",
       "      <th>mean</th>\n",
       "      <td>1249.500000</td>\n",
       "      <td>46.58800</td>\n",
       "    </tr>\n",
       "    <tr>\n",
       "      <th>std</th>\n",
       "      <td>144.481833</td>\n",
       "      <td>16.66763</td>\n",
       "    </tr>\n",
       "    <tr>\n",
       "      <th>min</th>\n",
       "      <td>1000.000000</td>\n",
       "      <td>18.00000</td>\n",
       "    </tr>\n",
       "    <tr>\n",
       "      <th>25%</th>\n",
       "      <td>1124.750000</td>\n",
       "      <td>32.00000</td>\n",
       "    </tr>\n",
       "    <tr>\n",
       "      <th>50%</th>\n",
       "      <td>1249.500000</td>\n",
       "      <td>46.00000</td>\n",
       "    </tr>\n",
       "    <tr>\n",
       "      <th>75%</th>\n",
       "      <td>1374.250000</td>\n",
       "      <td>62.00000</td>\n",
       "    </tr>\n",
       "    <tr>\n",
       "      <th>max</th>\n",
       "      <td>1499.000000</td>\n",
       "      <td>75.00000</td>\n",
       "    </tr>\n",
       "  </tbody>\n",
       "</table>\n",
       "</div>"
      ],
      "text/plain": [
       "           user_id        age\n",
       "count   500.000000  500.00000\n",
       "mean   1249.500000   46.58800\n",
       "std     144.481833   16.66763\n",
       "min    1000.000000   18.00000\n",
       "25%    1124.750000   32.00000\n",
       "50%    1249.500000   46.00000\n",
       "75%    1374.250000   62.00000\n",
       "max    1499.000000   75.00000"
      ]
     },
     "execution_count": 6,
     "metadata": {},
     "output_type": "execute_result"
    }
   ],
   "source": [
    "users.describe()"
   ]
  },
  {
   "cell_type": "code",
   "execution_count": 7,
   "metadata": {},
   "outputs": [
    {
     "data": {
      "text/html": [
       "<div>\n",
       "<style scoped>\n",
       "    .dataframe tbody tr th:only-of-type {\n",
       "        vertical-align: middle;\n",
       "    }\n",
       "\n",
       "    .dataframe tbody tr th {\n",
       "        vertical-align: top;\n",
       "    }\n",
       "\n",
       "    .dataframe thead th {\n",
       "        text-align: right;\n",
       "    }\n",
       "</style>\n",
       "<table border=\"1\" class=\"dataframe\">\n",
       "  <thead>\n",
       "    <tr style=\"text-align: right;\">\n",
       "      <th></th>\n",
       "      <th>user_id</th>\n",
       "      <th>age</th>\n",
       "      <th>churn_date</th>\n",
       "      <th>city</th>\n",
       "      <th>first_name</th>\n",
       "      <th>last_name</th>\n",
       "      <th>reg_date</th>\n",
       "      <th>tariff</th>\n",
       "    </tr>\n",
       "  </thead>\n",
       "  <tbody>\n",
       "    <tr>\n",
       "      <th>0</th>\n",
       "      <td>1000</td>\n",
       "      <td>52</td>\n",
       "      <td>NaT</td>\n",
       "      <td>Краснодар</td>\n",
       "      <td>Рафаил</td>\n",
       "      <td>Верещагин</td>\n",
       "      <td>2018-05-25</td>\n",
       "      <td>ultra</td>\n",
       "    </tr>\n",
       "    <tr>\n",
       "      <th>1</th>\n",
       "      <td>1001</td>\n",
       "      <td>41</td>\n",
       "      <td>NaT</td>\n",
       "      <td>Москва</td>\n",
       "      <td>Иван</td>\n",
       "      <td>Ежов</td>\n",
       "      <td>2018-11-01</td>\n",
       "      <td>smart</td>\n",
       "    </tr>\n",
       "    <tr>\n",
       "      <th>2</th>\n",
       "      <td>1002</td>\n",
       "      <td>59</td>\n",
       "      <td>NaT</td>\n",
       "      <td>Стерлитамак</td>\n",
       "      <td>Евгений</td>\n",
       "      <td>Абрамович</td>\n",
       "      <td>2018-06-17</td>\n",
       "      <td>smart</td>\n",
       "    </tr>\n",
       "    <tr>\n",
       "      <th>3</th>\n",
       "      <td>1003</td>\n",
       "      <td>23</td>\n",
       "      <td>NaT</td>\n",
       "      <td>Москва</td>\n",
       "      <td>Белла</td>\n",
       "      <td>Белякова</td>\n",
       "      <td>2018-08-17</td>\n",
       "      <td>ultra</td>\n",
       "    </tr>\n",
       "    <tr>\n",
       "      <th>4</th>\n",
       "      <td>1004</td>\n",
       "      <td>68</td>\n",
       "      <td>NaT</td>\n",
       "      <td>Новокузнецк</td>\n",
       "      <td>Татьяна</td>\n",
       "      <td>Авдеенко</td>\n",
       "      <td>2018-05-14</td>\n",
       "      <td>ultra</td>\n",
       "    </tr>\n",
       "    <tr>\n",
       "      <th>5</th>\n",
       "      <td>1005</td>\n",
       "      <td>67</td>\n",
       "      <td>NaT</td>\n",
       "      <td>Набережные Челны</td>\n",
       "      <td>Афанасий</td>\n",
       "      <td>Горлов</td>\n",
       "      <td>2018-01-25</td>\n",
       "      <td>smart</td>\n",
       "    </tr>\n",
       "    <tr>\n",
       "      <th>6</th>\n",
       "      <td>1006</td>\n",
       "      <td>21</td>\n",
       "      <td>NaT</td>\n",
       "      <td>Ульяновск</td>\n",
       "      <td>Леонид</td>\n",
       "      <td>Ермолаев</td>\n",
       "      <td>2018-02-26</td>\n",
       "      <td>smart</td>\n",
       "    </tr>\n",
       "    <tr>\n",
       "      <th>7</th>\n",
       "      <td>1007</td>\n",
       "      <td>65</td>\n",
       "      <td>NaT</td>\n",
       "      <td>Москва</td>\n",
       "      <td>Юна</td>\n",
       "      <td>Березина</td>\n",
       "      <td>2018-04-19</td>\n",
       "      <td>smart</td>\n",
       "    </tr>\n",
       "    <tr>\n",
       "      <th>8</th>\n",
       "      <td>1008</td>\n",
       "      <td>63</td>\n",
       "      <td>NaT</td>\n",
       "      <td>Челябинск</td>\n",
       "      <td>Рустэм</td>\n",
       "      <td>Пономарёв</td>\n",
       "      <td>2018-12-19</td>\n",
       "      <td>smart</td>\n",
       "    </tr>\n",
       "    <tr>\n",
       "      <th>9</th>\n",
       "      <td>1009</td>\n",
       "      <td>24</td>\n",
       "      <td>NaT</td>\n",
       "      <td>Пермь</td>\n",
       "      <td>Василиса</td>\n",
       "      <td>Блинова</td>\n",
       "      <td>2018-03-22</td>\n",
       "      <td>smart</td>\n",
       "    </tr>\n",
       "  </tbody>\n",
       "</table>\n",
       "</div>"
      ],
      "text/plain": [
       "   user_id  age churn_date              city first_name  last_name   reg_date  \\\n",
       "0     1000   52        NaT         Краснодар     Рафаил  Верещагин 2018-05-25   \n",
       "1     1001   41        NaT            Москва       Иван       Ежов 2018-11-01   \n",
       "2     1002   59        NaT       Стерлитамак    Евгений  Абрамович 2018-06-17   \n",
       "3     1003   23        NaT            Москва      Белла   Белякова 2018-08-17   \n",
       "4     1004   68        NaT       Новокузнецк    Татьяна   Авдеенко 2018-05-14   \n",
       "5     1005   67        NaT  Набережные Челны   Афанасий     Горлов 2018-01-25   \n",
       "6     1006   21        NaT         Ульяновск     Леонид   Ермолаев 2018-02-26   \n",
       "7     1007   65        NaT            Москва        Юна   Березина 2018-04-19   \n",
       "8     1008   63        NaT         Челябинск     Рустэм  Пономарёв 2018-12-19   \n",
       "9     1009   24        NaT             Пермь   Василиса    Блинова 2018-03-22   \n",
       "\n",
       "  tariff  \n",
       "0  ultra  \n",
       "1  smart  \n",
       "2  smart  \n",
       "3  ultra  \n",
       "4  ultra  \n",
       "5  smart  \n",
       "6  smart  \n",
       "7  smart  \n",
       "8  smart  \n",
       "9  smart  "
      ]
     },
     "execution_count": 7,
     "metadata": {},
     "output_type": "execute_result"
    }
   ],
   "source": [
    "users.head(10)"
   ]
  },
  {
   "cell_type": "code",
   "execution_count": 8,
   "metadata": {
    "scrolled": true
   },
   "outputs": [
    {
     "data": {
      "text/html": [
       "<div>\n",
       "<style scoped>\n",
       "    .dataframe tbody tr th:only-of-type {\n",
       "        vertical-align: middle;\n",
       "    }\n",
       "\n",
       "    .dataframe tbody tr th {\n",
       "        vertical-align: top;\n",
       "    }\n",
       "\n",
       "    .dataframe thead th {\n",
       "        text-align: right;\n",
       "    }\n",
       "</style>\n",
       "<table border=\"1\" class=\"dataframe\">\n",
       "  <thead>\n",
       "    <tr style=\"text-align: right;\">\n",
       "      <th></th>\n",
       "      <th>user_id</th>\n",
       "      <th>age</th>\n",
       "      <th>churn_date</th>\n",
       "      <th>city</th>\n",
       "      <th>first_name</th>\n",
       "      <th>last_name</th>\n",
       "      <th>reg_date</th>\n",
       "      <th>tariff</th>\n",
       "    </tr>\n",
       "  </thead>\n",
       "  <tbody>\n",
       "    <tr>\n",
       "      <th>490</th>\n",
       "      <td>1490</td>\n",
       "      <td>30</td>\n",
       "      <td>NaT</td>\n",
       "      <td>Москва</td>\n",
       "      <td>Радомир</td>\n",
       "      <td>Алесин</td>\n",
       "      <td>2018-04-03</td>\n",
       "      <td>smart</td>\n",
       "    </tr>\n",
       "    <tr>\n",
       "      <th>491</th>\n",
       "      <td>1491</td>\n",
       "      <td>56</td>\n",
       "      <td>NaT</td>\n",
       "      <td>Челябинск</td>\n",
       "      <td>Радислав</td>\n",
       "      <td>Андрейкин</td>\n",
       "      <td>2018-04-25</td>\n",
       "      <td>ultra</td>\n",
       "    </tr>\n",
       "    <tr>\n",
       "      <th>492</th>\n",
       "      <td>1492</td>\n",
       "      <td>63</td>\n",
       "      <td>NaT</td>\n",
       "      <td>Санкт-Петербург</td>\n",
       "      <td>Руслана</td>\n",
       "      <td>Артёменко</td>\n",
       "      <td>2018-06-26</td>\n",
       "      <td>smart</td>\n",
       "    </tr>\n",
       "    <tr>\n",
       "      <th>493</th>\n",
       "      <td>1493</td>\n",
       "      <td>71</td>\n",
       "      <td>NaT</td>\n",
       "      <td>Красноярск</td>\n",
       "      <td>Таисия</td>\n",
       "      <td>Ахматулина</td>\n",
       "      <td>2018-11-24</td>\n",
       "      <td>ultra</td>\n",
       "    </tr>\n",
       "    <tr>\n",
       "      <th>494</th>\n",
       "      <td>1494</td>\n",
       "      <td>62</td>\n",
       "      <td>NaT</td>\n",
       "      <td>Омск</td>\n",
       "      <td>Ренат</td>\n",
       "      <td>Андропов</td>\n",
       "      <td>2018-08-17</td>\n",
       "      <td>smart</td>\n",
       "    </tr>\n",
       "    <tr>\n",
       "      <th>495</th>\n",
       "      <td>1495</td>\n",
       "      <td>65</td>\n",
       "      <td>NaT</td>\n",
       "      <td>Иркутск</td>\n",
       "      <td>Авксентий</td>\n",
       "      <td>Фокин</td>\n",
       "      <td>2018-08-28</td>\n",
       "      <td>ultra</td>\n",
       "    </tr>\n",
       "    <tr>\n",
       "      <th>496</th>\n",
       "      <td>1496</td>\n",
       "      <td>36</td>\n",
       "      <td>NaT</td>\n",
       "      <td>Вологда</td>\n",
       "      <td>Трифон</td>\n",
       "      <td>Блохин</td>\n",
       "      <td>2018-01-27</td>\n",
       "      <td>smart</td>\n",
       "    </tr>\n",
       "    <tr>\n",
       "      <th>497</th>\n",
       "      <td>1497</td>\n",
       "      <td>32</td>\n",
       "      <td>NaT</td>\n",
       "      <td>Челябинск</td>\n",
       "      <td>Каролина</td>\n",
       "      <td>Агеева</td>\n",
       "      <td>2018-10-09</td>\n",
       "      <td>smart</td>\n",
       "    </tr>\n",
       "    <tr>\n",
       "      <th>498</th>\n",
       "      <td>1498</td>\n",
       "      <td>68</td>\n",
       "      <td>2018-10-25</td>\n",
       "      <td>Владикавказ</td>\n",
       "      <td>Всеволод</td>\n",
       "      <td>Акимчин</td>\n",
       "      <td>2018-07-19</td>\n",
       "      <td>smart</td>\n",
       "    </tr>\n",
       "    <tr>\n",
       "      <th>499</th>\n",
       "      <td>1499</td>\n",
       "      <td>35</td>\n",
       "      <td>NaT</td>\n",
       "      <td>Пермь</td>\n",
       "      <td>Гектор</td>\n",
       "      <td>Корнилов</td>\n",
       "      <td>2018-09-27</td>\n",
       "      <td>smart</td>\n",
       "    </tr>\n",
       "  </tbody>\n",
       "</table>\n",
       "</div>"
      ],
      "text/plain": [
       "     user_id  age churn_date             city first_name   last_name  \\\n",
       "490     1490   30        NaT           Москва    Радомир      Алесин   \n",
       "491     1491   56        NaT        Челябинск   Радислав   Андрейкин   \n",
       "492     1492   63        NaT  Санкт-Петербург    Руслана   Артёменко   \n",
       "493     1493   71        NaT       Красноярск     Таисия  Ахматулина   \n",
       "494     1494   62        NaT             Омск      Ренат    Андропов   \n",
       "495     1495   65        NaT          Иркутск  Авксентий       Фокин   \n",
       "496     1496   36        NaT          Вологда     Трифон      Блохин   \n",
       "497     1497   32        NaT        Челябинск   Каролина      Агеева   \n",
       "498     1498   68 2018-10-25      Владикавказ   Всеволод     Акимчин   \n",
       "499     1499   35        NaT            Пермь     Гектор    Корнилов   \n",
       "\n",
       "      reg_date tariff  \n",
       "490 2018-04-03  smart  \n",
       "491 2018-04-25  ultra  \n",
       "492 2018-06-26  smart  \n",
       "493 2018-11-24  ultra  \n",
       "494 2018-08-17  smart  \n",
       "495 2018-08-28  ultra  \n",
       "496 2018-01-27  smart  \n",
       "497 2018-10-09  smart  \n",
       "498 2018-07-19  smart  \n",
       "499 2018-09-27  smart  "
      ]
     },
     "execution_count": 8,
     "metadata": {},
     "output_type": "execute_result"
    }
   ],
   "source": [
    "users.tail(10)"
   ]
  },
  {
   "cell_type": "markdown",
   "metadata": {},
   "source": [
    "Большое кол-во NaN значений в churn_date, обусловлено тем, что тариф был еще подключен на момент выгрузки данных. Соответственно, не нужно работать с пропущенными значениями."
   ]
  },
  {
   "cell_type": "markdown",
   "metadata": {},
   "source": [
    "#### Таблица сalls(информация о звонках)"
   ]
  },
  {
   "cell_type": "code",
   "execution_count": 9,
   "metadata": {},
   "outputs": [
    {
     "name": "stdout",
     "output_type": "stream",
     "text": [
      "<class 'pandas.core.frame.DataFrame'>\n",
      "RangeIndex: 202607 entries, 0 to 202606\n",
      "Data columns (total 4 columns):\n",
      " #   Column     Non-Null Count   Dtype  \n",
      "---  ------     --------------   -----  \n",
      " 0   id         202607 non-null  object \n",
      " 1   call_date  202607 non-null  object \n",
      " 2   duration   202607 non-null  float64\n",
      " 3   user_id    202607 non-null  int64  \n",
      "dtypes: float64(1), int64(1), object(2)\n",
      "memory usage: 6.2+ MB\n"
     ]
    }
   ],
   "source": [
    "calls.info()"
   ]
  },
  {
   "cell_type": "markdown",
   "metadata": {},
   "source": [
    "call_date - тип данных переведем в datetime"
   ]
  },
  {
   "cell_type": "code",
   "execution_count": 10,
   "metadata": {},
   "outputs": [
    {
     "name": "stdout",
     "output_type": "stream",
     "text": [
      "<class 'pandas.core.frame.DataFrame'>\n",
      "RangeIndex: 202607 entries, 0 to 202606\n",
      "Data columns (total 4 columns):\n",
      " #   Column     Non-Null Count   Dtype         \n",
      "---  ------     --------------   -----         \n",
      " 0   id         202607 non-null  object        \n",
      " 1   call_date  202607 non-null  datetime64[ns]\n",
      " 2   duration   202607 non-null  float64       \n",
      " 3   user_id    202607 non-null  int64         \n",
      "dtypes: datetime64[ns](1), float64(1), int64(1), object(1)\n",
      "memory usage: 6.2+ MB\n"
     ]
    }
   ],
   "source": [
    "calls['call_date'] = pd.to_datetime(calls['call_date'], format=\"%Y-%m-%d\")\n",
    "calls.info()"
   ]
  },
  {
   "cell_type": "code",
   "execution_count": 11,
   "metadata": {
    "scrolled": true
   },
   "outputs": [
    {
     "data": {
      "text/html": [
       "<div>\n",
       "<style scoped>\n",
       "    .dataframe tbody tr th:only-of-type {\n",
       "        vertical-align: middle;\n",
       "    }\n",
       "\n",
       "    .dataframe tbody tr th {\n",
       "        vertical-align: top;\n",
       "    }\n",
       "\n",
       "    .dataframe thead th {\n",
       "        text-align: right;\n",
       "    }\n",
       "</style>\n",
       "<table border=\"1\" class=\"dataframe\">\n",
       "  <thead>\n",
       "    <tr style=\"text-align: right;\">\n",
       "      <th></th>\n",
       "      <th>duration</th>\n",
       "      <th>user_id</th>\n",
       "    </tr>\n",
       "  </thead>\n",
       "  <tbody>\n",
       "    <tr>\n",
       "      <th>count</th>\n",
       "      <td>202607.000000</td>\n",
       "      <td>202607.000000</td>\n",
       "    </tr>\n",
       "    <tr>\n",
       "      <th>mean</th>\n",
       "      <td>6.755887</td>\n",
       "      <td>1253.940619</td>\n",
       "    </tr>\n",
       "    <tr>\n",
       "      <th>std</th>\n",
       "      <td>5.843365</td>\n",
       "      <td>144.722751</td>\n",
       "    </tr>\n",
       "    <tr>\n",
       "      <th>min</th>\n",
       "      <td>0.000000</td>\n",
       "      <td>1000.000000</td>\n",
       "    </tr>\n",
       "    <tr>\n",
       "      <th>25%</th>\n",
       "      <td>1.300000</td>\n",
       "      <td>1126.000000</td>\n",
       "    </tr>\n",
       "    <tr>\n",
       "      <th>50%</th>\n",
       "      <td>6.000000</td>\n",
       "      <td>1260.000000</td>\n",
       "    </tr>\n",
       "    <tr>\n",
       "      <th>75%</th>\n",
       "      <td>10.700000</td>\n",
       "      <td>1379.000000</td>\n",
       "    </tr>\n",
       "    <tr>\n",
       "      <th>max</th>\n",
       "      <td>38.000000</td>\n",
       "      <td>1499.000000</td>\n",
       "    </tr>\n",
       "  </tbody>\n",
       "</table>\n",
       "</div>"
      ],
      "text/plain": [
       "            duration        user_id\n",
       "count  202607.000000  202607.000000\n",
       "mean        6.755887    1253.940619\n",
       "std         5.843365     144.722751\n",
       "min         0.000000    1000.000000\n",
       "25%         1.300000    1126.000000\n",
       "50%         6.000000    1260.000000\n",
       "75%        10.700000    1379.000000\n",
       "max        38.000000    1499.000000"
      ]
     },
     "execution_count": 11,
     "metadata": {},
     "output_type": "execute_result"
    }
   ],
   "source": [
    "calls.describe()"
   ]
  },
  {
   "cell_type": "code",
   "execution_count": 12,
   "metadata": {
    "scrolled": true
   },
   "outputs": [
    {
     "data": {
      "text/html": [
       "<div>\n",
       "<style scoped>\n",
       "    .dataframe tbody tr th:only-of-type {\n",
       "        vertical-align: middle;\n",
       "    }\n",
       "\n",
       "    .dataframe tbody tr th {\n",
       "        vertical-align: top;\n",
       "    }\n",
       "\n",
       "    .dataframe thead th {\n",
       "        text-align: right;\n",
       "    }\n",
       "</style>\n",
       "<table border=\"1\" class=\"dataframe\">\n",
       "  <thead>\n",
       "    <tr style=\"text-align: right;\">\n",
       "      <th></th>\n",
       "      <th>id</th>\n",
       "      <th>call_date</th>\n",
       "      <th>duration</th>\n",
       "      <th>user_id</th>\n",
       "    </tr>\n",
       "  </thead>\n",
       "  <tbody>\n",
       "    <tr>\n",
       "      <th>0</th>\n",
       "      <td>1000_0</td>\n",
       "      <td>2018-07-25</td>\n",
       "      <td>0.00</td>\n",
       "      <td>1000</td>\n",
       "    </tr>\n",
       "    <tr>\n",
       "      <th>1</th>\n",
       "      <td>1000_1</td>\n",
       "      <td>2018-08-17</td>\n",
       "      <td>0.00</td>\n",
       "      <td>1000</td>\n",
       "    </tr>\n",
       "    <tr>\n",
       "      <th>2</th>\n",
       "      <td>1000_2</td>\n",
       "      <td>2018-06-11</td>\n",
       "      <td>2.85</td>\n",
       "      <td>1000</td>\n",
       "    </tr>\n",
       "    <tr>\n",
       "      <th>3</th>\n",
       "      <td>1000_3</td>\n",
       "      <td>2018-09-21</td>\n",
       "      <td>13.80</td>\n",
       "      <td>1000</td>\n",
       "    </tr>\n",
       "    <tr>\n",
       "      <th>4</th>\n",
       "      <td>1000_4</td>\n",
       "      <td>2018-12-15</td>\n",
       "      <td>5.18</td>\n",
       "      <td>1000</td>\n",
       "    </tr>\n",
       "    <tr>\n",
       "      <th>5</th>\n",
       "      <td>1000_5</td>\n",
       "      <td>2018-11-02</td>\n",
       "      <td>0.00</td>\n",
       "      <td>1000</td>\n",
       "    </tr>\n",
       "    <tr>\n",
       "      <th>6</th>\n",
       "      <td>1000_6</td>\n",
       "      <td>2018-10-18</td>\n",
       "      <td>0.00</td>\n",
       "      <td>1000</td>\n",
       "    </tr>\n",
       "    <tr>\n",
       "      <th>7</th>\n",
       "      <td>1000_7</td>\n",
       "      <td>2018-08-22</td>\n",
       "      <td>18.31</td>\n",
       "      <td>1000</td>\n",
       "    </tr>\n",
       "    <tr>\n",
       "      <th>8</th>\n",
       "      <td>1000_8</td>\n",
       "      <td>2018-09-15</td>\n",
       "      <td>18.44</td>\n",
       "      <td>1000</td>\n",
       "    </tr>\n",
       "    <tr>\n",
       "      <th>9</th>\n",
       "      <td>1000_9</td>\n",
       "      <td>2018-08-15</td>\n",
       "      <td>0.00</td>\n",
       "      <td>1000</td>\n",
       "    </tr>\n",
       "  </tbody>\n",
       "</table>\n",
       "</div>"
      ],
      "text/plain": [
       "       id  call_date  duration  user_id\n",
       "0  1000_0 2018-07-25      0.00     1000\n",
       "1  1000_1 2018-08-17      0.00     1000\n",
       "2  1000_2 2018-06-11      2.85     1000\n",
       "3  1000_3 2018-09-21     13.80     1000\n",
       "4  1000_4 2018-12-15      5.18     1000\n",
       "5  1000_5 2018-11-02      0.00     1000\n",
       "6  1000_6 2018-10-18      0.00     1000\n",
       "7  1000_7 2018-08-22     18.31     1000\n",
       "8  1000_8 2018-09-15     18.44     1000\n",
       "9  1000_9 2018-08-15      0.00     1000"
      ]
     },
     "execution_count": 12,
     "metadata": {},
     "output_type": "execute_result"
    }
   ],
   "source": [
    "calls.head(10)"
   ]
  },
  {
   "cell_type": "code",
   "execution_count": 13,
   "metadata": {
    "scrolled": false
   },
   "outputs": [
    {
     "data": {
      "text/html": [
       "<div>\n",
       "<style scoped>\n",
       "    .dataframe tbody tr th:only-of-type {\n",
       "        vertical-align: middle;\n",
       "    }\n",
       "\n",
       "    .dataframe tbody tr th {\n",
       "        vertical-align: top;\n",
       "    }\n",
       "\n",
       "    .dataframe thead th {\n",
       "        text-align: right;\n",
       "    }\n",
       "</style>\n",
       "<table border=\"1\" class=\"dataframe\">\n",
       "  <thead>\n",
       "    <tr style=\"text-align: right;\">\n",
       "      <th></th>\n",
       "      <th>id</th>\n",
       "      <th>call_date</th>\n",
       "      <th>duration</th>\n",
       "      <th>user_id</th>\n",
       "    </tr>\n",
       "  </thead>\n",
       "  <tbody>\n",
       "    <tr>\n",
       "      <th>202597</th>\n",
       "      <td>1499_210</td>\n",
       "      <td>2018-10-02</td>\n",
       "      <td>8.86</td>\n",
       "      <td>1499</td>\n",
       "    </tr>\n",
       "    <tr>\n",
       "      <th>202598</th>\n",
       "      <td>1499_211</td>\n",
       "      <td>2018-12-29</td>\n",
       "      <td>4.58</td>\n",
       "      <td>1499</td>\n",
       "    </tr>\n",
       "    <tr>\n",
       "      <th>202599</th>\n",
       "      <td>1499_212</td>\n",
       "      <td>2018-12-30</td>\n",
       "      <td>1.35</td>\n",
       "      <td>1499</td>\n",
       "    </tr>\n",
       "    <tr>\n",
       "      <th>202600</th>\n",
       "      <td>1499_213</td>\n",
       "      <td>2018-10-17</td>\n",
       "      <td>10.77</td>\n",
       "      <td>1499</td>\n",
       "    </tr>\n",
       "    <tr>\n",
       "      <th>202601</th>\n",
       "      <td>1499_214</td>\n",
       "      <td>2018-12-05</td>\n",
       "      <td>2.42</td>\n",
       "      <td>1499</td>\n",
       "    </tr>\n",
       "    <tr>\n",
       "      <th>202602</th>\n",
       "      <td>1499_215</td>\n",
       "      <td>2018-12-26</td>\n",
       "      <td>0.76</td>\n",
       "      <td>1499</td>\n",
       "    </tr>\n",
       "    <tr>\n",
       "      <th>202603</th>\n",
       "      <td>1499_216</td>\n",
       "      <td>2018-10-18</td>\n",
       "      <td>18.83</td>\n",
       "      <td>1499</td>\n",
       "    </tr>\n",
       "    <tr>\n",
       "      <th>202604</th>\n",
       "      <td>1499_217</td>\n",
       "      <td>2018-11-10</td>\n",
       "      <td>10.81</td>\n",
       "      <td>1499</td>\n",
       "    </tr>\n",
       "    <tr>\n",
       "      <th>202605</th>\n",
       "      <td>1499_218</td>\n",
       "      <td>2018-10-06</td>\n",
       "      <td>4.27</td>\n",
       "      <td>1499</td>\n",
       "    </tr>\n",
       "    <tr>\n",
       "      <th>202606</th>\n",
       "      <td>1499_219</td>\n",
       "      <td>2018-12-14</td>\n",
       "      <td>19.62</td>\n",
       "      <td>1499</td>\n",
       "    </tr>\n",
       "  </tbody>\n",
       "</table>\n",
       "</div>"
      ],
      "text/plain": [
       "              id  call_date  duration  user_id\n",
       "202597  1499_210 2018-10-02      8.86     1499\n",
       "202598  1499_211 2018-12-29      4.58     1499\n",
       "202599  1499_212 2018-12-30      1.35     1499\n",
       "202600  1499_213 2018-10-17     10.77     1499\n",
       "202601  1499_214 2018-12-05      2.42     1499\n",
       "202602  1499_215 2018-12-26      0.76     1499\n",
       "202603  1499_216 2018-10-18     18.83     1499\n",
       "202604  1499_217 2018-11-10     10.81     1499\n",
       "202605  1499_218 2018-10-06      4.27     1499\n",
       "202606  1499_219 2018-12-14     19.62     1499"
      ]
     },
     "execution_count": 13,
     "metadata": {},
     "output_type": "execute_result"
    }
   ],
   "source": [
    "calls.tail(10)"
   ]
  },
  {
   "cell_type": "markdown",
   "metadata": {},
   "source": [
    "Округлим id, duration"
   ]
  },
  {
   "cell_type": "code",
   "execution_count": 14,
   "metadata": {},
   "outputs": [
    {
     "data": {
      "text/plain": [
       "0          0.0\n",
       "1          0.0\n",
       "2          2.0\n",
       "3         13.0\n",
       "4          5.0\n",
       "          ... \n",
       "202602     0.0\n",
       "202603    18.0\n",
       "202604    10.0\n",
       "202605     4.0\n",
       "202606    19.0\n",
       "Name: duration, Length: 202607, dtype: float64"
      ]
     },
     "execution_count": 14,
     "metadata": {},
     "output_type": "execute_result"
    }
   ],
   "source": [
    "calls['id'] = calls['id'].astype('int')\n",
    "calls['duration'] = calls['duration'].astype('int') \n",
    "np.ceil(calls['duration']) #ceil округляет вверх"
   ]
  },
  {
   "cell_type": "code",
   "execution_count": 15,
   "metadata": {},
   "outputs": [
    {
     "data": {
      "text/html": [
       "<div>\n",
       "<style scoped>\n",
       "    .dataframe tbody tr th:only-of-type {\n",
       "        vertical-align: middle;\n",
       "    }\n",
       "\n",
       "    .dataframe tbody tr th {\n",
       "        vertical-align: top;\n",
       "    }\n",
       "\n",
       "    .dataframe thead th {\n",
       "        text-align: right;\n",
       "    }\n",
       "</style>\n",
       "<table border=\"1\" class=\"dataframe\">\n",
       "  <thead>\n",
       "    <tr style=\"text-align: right;\">\n",
       "      <th></th>\n",
       "      <th>id</th>\n",
       "      <th>call_date</th>\n",
       "      <th>duration</th>\n",
       "      <th>user_id</th>\n",
       "    </tr>\n",
       "  </thead>\n",
       "  <tbody>\n",
       "    <tr>\n",
       "      <th>0</th>\n",
       "      <td>10000</td>\n",
       "      <td>2018-07-25</td>\n",
       "      <td>0</td>\n",
       "      <td>1000</td>\n",
       "    </tr>\n",
       "    <tr>\n",
       "      <th>1</th>\n",
       "      <td>10001</td>\n",
       "      <td>2018-08-17</td>\n",
       "      <td>0</td>\n",
       "      <td>1000</td>\n",
       "    </tr>\n",
       "    <tr>\n",
       "      <th>2</th>\n",
       "      <td>10002</td>\n",
       "      <td>2018-06-11</td>\n",
       "      <td>2</td>\n",
       "      <td>1000</td>\n",
       "    </tr>\n",
       "    <tr>\n",
       "      <th>3</th>\n",
       "      <td>10003</td>\n",
       "      <td>2018-09-21</td>\n",
       "      <td>13</td>\n",
       "      <td>1000</td>\n",
       "    </tr>\n",
       "    <tr>\n",
       "      <th>4</th>\n",
       "      <td>10004</td>\n",
       "      <td>2018-12-15</td>\n",
       "      <td>5</td>\n",
       "      <td>1000</td>\n",
       "    </tr>\n",
       "    <tr>\n",
       "      <th>5</th>\n",
       "      <td>10005</td>\n",
       "      <td>2018-11-02</td>\n",
       "      <td>0</td>\n",
       "      <td>1000</td>\n",
       "    </tr>\n",
       "    <tr>\n",
       "      <th>6</th>\n",
       "      <td>10006</td>\n",
       "      <td>2018-10-18</td>\n",
       "      <td>0</td>\n",
       "      <td>1000</td>\n",
       "    </tr>\n",
       "    <tr>\n",
       "      <th>7</th>\n",
       "      <td>10007</td>\n",
       "      <td>2018-08-22</td>\n",
       "      <td>18</td>\n",
       "      <td>1000</td>\n",
       "    </tr>\n",
       "    <tr>\n",
       "      <th>8</th>\n",
       "      <td>10008</td>\n",
       "      <td>2018-09-15</td>\n",
       "      <td>18</td>\n",
       "      <td>1000</td>\n",
       "    </tr>\n",
       "    <tr>\n",
       "      <th>9</th>\n",
       "      <td>10009</td>\n",
       "      <td>2018-08-15</td>\n",
       "      <td>0</td>\n",
       "      <td>1000</td>\n",
       "    </tr>\n",
       "  </tbody>\n",
       "</table>\n",
       "</div>"
      ],
      "text/plain": [
       "      id  call_date  duration  user_id\n",
       "0  10000 2018-07-25         0     1000\n",
       "1  10001 2018-08-17         0     1000\n",
       "2  10002 2018-06-11         2     1000\n",
       "3  10003 2018-09-21        13     1000\n",
       "4  10004 2018-12-15         5     1000\n",
       "5  10005 2018-11-02         0     1000\n",
       "6  10006 2018-10-18         0     1000\n",
       "7  10007 2018-08-22        18     1000\n",
       "8  10008 2018-09-15        18     1000\n",
       "9  10009 2018-08-15         0     1000"
      ]
     },
     "execution_count": 15,
     "metadata": {},
     "output_type": "execute_result"
    }
   ],
   "source": [
    "calls.head(10)"
   ]
  },
  {
   "cell_type": "code",
   "execution_count": 16,
   "metadata": {
    "scrolled": true
   },
   "outputs": [
    {
     "data": {
      "text/html": [
       "<div>\n",
       "<style scoped>\n",
       "    .dataframe tbody tr th:only-of-type {\n",
       "        vertical-align: middle;\n",
       "    }\n",
       "\n",
       "    .dataframe tbody tr th {\n",
       "        vertical-align: top;\n",
       "    }\n",
       "\n",
       "    .dataframe thead th {\n",
       "        text-align: right;\n",
       "    }\n",
       "</style>\n",
       "<table border=\"1\" class=\"dataframe\">\n",
       "  <thead>\n",
       "    <tr style=\"text-align: right;\">\n",
       "      <th></th>\n",
       "      <th>id</th>\n",
       "      <th>call_date</th>\n",
       "      <th>duration</th>\n",
       "      <th>user_id</th>\n",
       "    </tr>\n",
       "  </thead>\n",
       "  <tbody>\n",
       "    <tr>\n",
       "      <th>202597</th>\n",
       "      <td>1499210</td>\n",
       "      <td>2018-10-02</td>\n",
       "      <td>8</td>\n",
       "      <td>1499</td>\n",
       "    </tr>\n",
       "    <tr>\n",
       "      <th>202598</th>\n",
       "      <td>1499211</td>\n",
       "      <td>2018-12-29</td>\n",
       "      <td>4</td>\n",
       "      <td>1499</td>\n",
       "    </tr>\n",
       "    <tr>\n",
       "      <th>202599</th>\n",
       "      <td>1499212</td>\n",
       "      <td>2018-12-30</td>\n",
       "      <td>1</td>\n",
       "      <td>1499</td>\n",
       "    </tr>\n",
       "    <tr>\n",
       "      <th>202600</th>\n",
       "      <td>1499213</td>\n",
       "      <td>2018-10-17</td>\n",
       "      <td>10</td>\n",
       "      <td>1499</td>\n",
       "    </tr>\n",
       "    <tr>\n",
       "      <th>202601</th>\n",
       "      <td>1499214</td>\n",
       "      <td>2018-12-05</td>\n",
       "      <td>2</td>\n",
       "      <td>1499</td>\n",
       "    </tr>\n",
       "    <tr>\n",
       "      <th>202602</th>\n",
       "      <td>1499215</td>\n",
       "      <td>2018-12-26</td>\n",
       "      <td>0</td>\n",
       "      <td>1499</td>\n",
       "    </tr>\n",
       "    <tr>\n",
       "      <th>202603</th>\n",
       "      <td>1499216</td>\n",
       "      <td>2018-10-18</td>\n",
       "      <td>18</td>\n",
       "      <td>1499</td>\n",
       "    </tr>\n",
       "    <tr>\n",
       "      <th>202604</th>\n",
       "      <td>1499217</td>\n",
       "      <td>2018-11-10</td>\n",
       "      <td>10</td>\n",
       "      <td>1499</td>\n",
       "    </tr>\n",
       "    <tr>\n",
       "      <th>202605</th>\n",
       "      <td>1499218</td>\n",
       "      <td>2018-10-06</td>\n",
       "      <td>4</td>\n",
       "      <td>1499</td>\n",
       "    </tr>\n",
       "    <tr>\n",
       "      <th>202606</th>\n",
       "      <td>1499219</td>\n",
       "      <td>2018-12-14</td>\n",
       "      <td>19</td>\n",
       "      <td>1499</td>\n",
       "    </tr>\n",
       "  </tbody>\n",
       "</table>\n",
       "</div>"
      ],
      "text/plain": [
       "             id  call_date  duration  user_id\n",
       "202597  1499210 2018-10-02         8     1499\n",
       "202598  1499211 2018-12-29         4     1499\n",
       "202599  1499212 2018-12-30         1     1499\n",
       "202600  1499213 2018-10-17        10     1499\n",
       "202601  1499214 2018-12-05         2     1499\n",
       "202602  1499215 2018-12-26         0     1499\n",
       "202603  1499216 2018-10-18        18     1499\n",
       "202604  1499217 2018-11-10        10     1499\n",
       "202605  1499218 2018-10-06         4     1499\n",
       "202606  1499219 2018-12-14        19     1499"
      ]
     },
     "execution_count": 16,
     "metadata": {},
     "output_type": "execute_result"
    }
   ],
   "source": [
    "calls.tail(10)"
   ]
  },
  {
   "cell_type": "markdown",
   "metadata": {},
   "source": [
    "Согласно заданию звонки длительностью 0 - пропущенные. Никаких действий не требуется."
   ]
  },
  {
   "cell_type": "markdown",
   "metadata": {},
   "source": [
    "#### Таблица messages(информация о сообщениях)"
   ]
  },
  {
   "cell_type": "code",
   "execution_count": 17,
   "metadata": {
    "scrolled": true
   },
   "outputs": [
    {
     "name": "stdout",
     "output_type": "stream",
     "text": [
      "<class 'pandas.core.frame.DataFrame'>\n",
      "RangeIndex: 123036 entries, 0 to 123035\n",
      "Data columns (total 3 columns):\n",
      " #   Column        Non-Null Count   Dtype \n",
      "---  ------        --------------   ----- \n",
      " 0   id            123036 non-null  object\n",
      " 1   message_date  123036 non-null  object\n",
      " 2   user_id       123036 non-null  int64 \n",
      "dtypes: int64(1), object(2)\n",
      "memory usage: 2.8+ MB\n"
     ]
    }
   ],
   "source": [
    "messages.info()"
   ]
  },
  {
   "cell_type": "markdown",
   "metadata": {},
   "source": [
    "message_date приведем в datetime"
   ]
  },
  {
   "cell_type": "code",
   "execution_count": 18,
   "metadata": {},
   "outputs": [
    {
     "name": "stdout",
     "output_type": "stream",
     "text": [
      "<class 'pandas.core.frame.DataFrame'>\n",
      "RangeIndex: 123036 entries, 0 to 123035\n",
      "Data columns (total 3 columns):\n",
      " #   Column        Non-Null Count   Dtype         \n",
      "---  ------        --------------   -----         \n",
      " 0   id            123036 non-null  object        \n",
      " 1   message_date  123036 non-null  datetime64[ns]\n",
      " 2   user_id       123036 non-null  int64         \n",
      "dtypes: datetime64[ns](1), int64(1), object(1)\n",
      "memory usage: 2.8+ MB\n"
     ]
    }
   ],
   "source": [
    "messages['message_date'] = pd.to_datetime(messages['message_date'], format=\"%Y-%m-%d\")\n",
    "messages.info()"
   ]
  },
  {
   "cell_type": "code",
   "execution_count": 19,
   "metadata": {},
   "outputs": [
    {
     "data": {
      "text/html": [
       "<div>\n",
       "<style scoped>\n",
       "    .dataframe tbody tr th:only-of-type {\n",
       "        vertical-align: middle;\n",
       "    }\n",
       "\n",
       "    .dataframe tbody tr th {\n",
       "        vertical-align: top;\n",
       "    }\n",
       "\n",
       "    .dataframe thead th {\n",
       "        text-align: right;\n",
       "    }\n",
       "</style>\n",
       "<table border=\"1\" class=\"dataframe\">\n",
       "  <thead>\n",
       "    <tr style=\"text-align: right;\">\n",
       "      <th></th>\n",
       "      <th>user_id</th>\n",
       "    </tr>\n",
       "  </thead>\n",
       "  <tbody>\n",
       "    <tr>\n",
       "      <th>count</th>\n",
       "      <td>123036.000000</td>\n",
       "    </tr>\n",
       "    <tr>\n",
       "      <th>mean</th>\n",
       "      <td>1256.989410</td>\n",
       "    </tr>\n",
       "    <tr>\n",
       "      <th>std</th>\n",
       "      <td>143.523967</td>\n",
       "    </tr>\n",
       "    <tr>\n",
       "      <th>min</th>\n",
       "      <td>1000.000000</td>\n",
       "    </tr>\n",
       "    <tr>\n",
       "      <th>25%</th>\n",
       "      <td>1134.000000</td>\n",
       "    </tr>\n",
       "    <tr>\n",
       "      <th>50%</th>\n",
       "      <td>1271.000000</td>\n",
       "    </tr>\n",
       "    <tr>\n",
       "      <th>75%</th>\n",
       "      <td>1381.000000</td>\n",
       "    </tr>\n",
       "    <tr>\n",
       "      <th>max</th>\n",
       "      <td>1499.000000</td>\n",
       "    </tr>\n",
       "  </tbody>\n",
       "</table>\n",
       "</div>"
      ],
      "text/plain": [
       "             user_id\n",
       "count  123036.000000\n",
       "mean     1256.989410\n",
       "std       143.523967\n",
       "min      1000.000000\n",
       "25%      1134.000000\n",
       "50%      1271.000000\n",
       "75%      1381.000000\n",
       "max      1499.000000"
      ]
     },
     "execution_count": 19,
     "metadata": {},
     "output_type": "execute_result"
    }
   ],
   "source": [
    "messages.describe()"
   ]
  },
  {
   "cell_type": "code",
   "execution_count": 20,
   "metadata": {
    "scrolled": true
   },
   "outputs": [
    {
     "data": {
      "text/html": [
       "<div>\n",
       "<style scoped>\n",
       "    .dataframe tbody tr th:only-of-type {\n",
       "        vertical-align: middle;\n",
       "    }\n",
       "\n",
       "    .dataframe tbody tr th {\n",
       "        vertical-align: top;\n",
       "    }\n",
       "\n",
       "    .dataframe thead th {\n",
       "        text-align: right;\n",
       "    }\n",
       "</style>\n",
       "<table border=\"1\" class=\"dataframe\">\n",
       "  <thead>\n",
       "    <tr style=\"text-align: right;\">\n",
       "      <th></th>\n",
       "      <th>id</th>\n",
       "      <th>message_date</th>\n",
       "      <th>user_id</th>\n",
       "    </tr>\n",
       "  </thead>\n",
       "  <tbody>\n",
       "    <tr>\n",
       "      <th>0</th>\n",
       "      <td>1000_0</td>\n",
       "      <td>2018-06-27</td>\n",
       "      <td>1000</td>\n",
       "    </tr>\n",
       "    <tr>\n",
       "      <th>1</th>\n",
       "      <td>1000_1</td>\n",
       "      <td>2018-10-08</td>\n",
       "      <td>1000</td>\n",
       "    </tr>\n",
       "    <tr>\n",
       "      <th>2</th>\n",
       "      <td>1000_2</td>\n",
       "      <td>2018-08-04</td>\n",
       "      <td>1000</td>\n",
       "    </tr>\n",
       "    <tr>\n",
       "      <th>3</th>\n",
       "      <td>1000_3</td>\n",
       "      <td>2018-06-16</td>\n",
       "      <td>1000</td>\n",
       "    </tr>\n",
       "    <tr>\n",
       "      <th>4</th>\n",
       "      <td>1000_4</td>\n",
       "      <td>2018-12-05</td>\n",
       "      <td>1000</td>\n",
       "    </tr>\n",
       "    <tr>\n",
       "      <th>5</th>\n",
       "      <td>1000_5</td>\n",
       "      <td>2018-06-20</td>\n",
       "      <td>1000</td>\n",
       "    </tr>\n",
       "    <tr>\n",
       "      <th>6</th>\n",
       "      <td>1000_6</td>\n",
       "      <td>2018-11-19</td>\n",
       "      <td>1000</td>\n",
       "    </tr>\n",
       "    <tr>\n",
       "      <th>7</th>\n",
       "      <td>1000_7</td>\n",
       "      <td>2018-10-29</td>\n",
       "      <td>1000</td>\n",
       "    </tr>\n",
       "    <tr>\n",
       "      <th>8</th>\n",
       "      <td>1000_8</td>\n",
       "      <td>2018-06-25</td>\n",
       "      <td>1000</td>\n",
       "    </tr>\n",
       "    <tr>\n",
       "      <th>9</th>\n",
       "      <td>1000_9</td>\n",
       "      <td>2018-12-18</td>\n",
       "      <td>1000</td>\n",
       "    </tr>\n",
       "  </tbody>\n",
       "</table>\n",
       "</div>"
      ],
      "text/plain": [
       "       id message_date  user_id\n",
       "0  1000_0   2018-06-27     1000\n",
       "1  1000_1   2018-10-08     1000\n",
       "2  1000_2   2018-08-04     1000\n",
       "3  1000_3   2018-06-16     1000\n",
       "4  1000_4   2018-12-05     1000\n",
       "5  1000_5   2018-06-20     1000\n",
       "6  1000_6   2018-11-19     1000\n",
       "7  1000_7   2018-10-29     1000\n",
       "8  1000_8   2018-06-25     1000\n",
       "9  1000_9   2018-12-18     1000"
      ]
     },
     "execution_count": 20,
     "metadata": {},
     "output_type": "execute_result"
    }
   ],
   "source": [
    "messages.head(10)"
   ]
  },
  {
   "cell_type": "code",
   "execution_count": 21,
   "metadata": {
    "scrolled": true
   },
   "outputs": [
    {
     "data": {
      "text/html": [
       "<div>\n",
       "<style scoped>\n",
       "    .dataframe tbody tr th:only-of-type {\n",
       "        vertical-align: middle;\n",
       "    }\n",
       "\n",
       "    .dataframe tbody tr th {\n",
       "        vertical-align: top;\n",
       "    }\n",
       "\n",
       "    .dataframe thead th {\n",
       "        text-align: right;\n",
       "    }\n",
       "</style>\n",
       "<table border=\"1\" class=\"dataframe\">\n",
       "  <thead>\n",
       "    <tr style=\"text-align: right;\">\n",
       "      <th></th>\n",
       "      <th>id</th>\n",
       "      <th>message_date</th>\n",
       "      <th>user_id</th>\n",
       "    </tr>\n",
       "  </thead>\n",
       "  <tbody>\n",
       "    <tr>\n",
       "      <th>123026</th>\n",
       "      <td>1499_174</td>\n",
       "      <td>2018-12-14</td>\n",
       "      <td>1499</td>\n",
       "    </tr>\n",
       "    <tr>\n",
       "      <th>123027</th>\n",
       "      <td>1499_175</td>\n",
       "      <td>2018-10-09</td>\n",
       "      <td>1499</td>\n",
       "    </tr>\n",
       "    <tr>\n",
       "      <th>123028</th>\n",
       "      <td>1499_176</td>\n",
       "      <td>2018-12-17</td>\n",
       "      <td>1499</td>\n",
       "    </tr>\n",
       "    <tr>\n",
       "      <th>123029</th>\n",
       "      <td>1499_177</td>\n",
       "      <td>2018-12-30</td>\n",
       "      <td>1499</td>\n",
       "    </tr>\n",
       "    <tr>\n",
       "      <th>123030</th>\n",
       "      <td>1499_178</td>\n",
       "      <td>2018-10-25</td>\n",
       "      <td>1499</td>\n",
       "    </tr>\n",
       "    <tr>\n",
       "      <th>123031</th>\n",
       "      <td>1499_179</td>\n",
       "      <td>2018-12-12</td>\n",
       "      <td>1499</td>\n",
       "    </tr>\n",
       "    <tr>\n",
       "      <th>123032</th>\n",
       "      <td>1499_180</td>\n",
       "      <td>2018-09-28</td>\n",
       "      <td>1499</td>\n",
       "    </tr>\n",
       "    <tr>\n",
       "      <th>123033</th>\n",
       "      <td>1499_181</td>\n",
       "      <td>2018-09-27</td>\n",
       "      <td>1499</td>\n",
       "    </tr>\n",
       "    <tr>\n",
       "      <th>123034</th>\n",
       "      <td>1499_182</td>\n",
       "      <td>2018-11-15</td>\n",
       "      <td>1499</td>\n",
       "    </tr>\n",
       "    <tr>\n",
       "      <th>123035</th>\n",
       "      <td>1499_183</td>\n",
       "      <td>2018-11-16</td>\n",
       "      <td>1499</td>\n",
       "    </tr>\n",
       "  </tbody>\n",
       "</table>\n",
       "</div>"
      ],
      "text/plain": [
       "              id message_date  user_id\n",
       "123026  1499_174   2018-12-14     1499\n",
       "123027  1499_175   2018-10-09     1499\n",
       "123028  1499_176   2018-12-17     1499\n",
       "123029  1499_177   2018-12-30     1499\n",
       "123030  1499_178   2018-10-25     1499\n",
       "123031  1499_179   2018-12-12     1499\n",
       "123032  1499_180   2018-09-28     1499\n",
       "123033  1499_181   2018-09-27     1499\n",
       "123034  1499_182   2018-11-15     1499\n",
       "123035  1499_183   2018-11-16     1499"
      ]
     },
     "execution_count": 21,
     "metadata": {},
     "output_type": "execute_result"
    }
   ],
   "source": [
    "messages.tail(10)"
   ]
  },
  {
   "cell_type": "markdown",
   "metadata": {},
   "source": [
    "Округлим id"
   ]
  },
  {
   "cell_type": "code",
   "execution_count": 22,
   "metadata": {},
   "outputs": [],
   "source": [
    "messages['id'] = messages['id'].astype('int')"
   ]
  },
  {
   "cell_type": "code",
   "execution_count": 23,
   "metadata": {
    "scrolled": true
   },
   "outputs": [
    {
     "data": {
      "text/html": [
       "<div>\n",
       "<style scoped>\n",
       "    .dataframe tbody tr th:only-of-type {\n",
       "        vertical-align: middle;\n",
       "    }\n",
       "\n",
       "    .dataframe tbody tr th {\n",
       "        vertical-align: top;\n",
       "    }\n",
       "\n",
       "    .dataframe thead th {\n",
       "        text-align: right;\n",
       "    }\n",
       "</style>\n",
       "<table border=\"1\" class=\"dataframe\">\n",
       "  <thead>\n",
       "    <tr style=\"text-align: right;\">\n",
       "      <th></th>\n",
       "      <th>id</th>\n",
       "      <th>message_date</th>\n",
       "      <th>user_id</th>\n",
       "    </tr>\n",
       "  </thead>\n",
       "  <tbody>\n",
       "    <tr>\n",
       "      <th>0</th>\n",
       "      <td>10000</td>\n",
       "      <td>2018-06-27</td>\n",
       "      <td>1000</td>\n",
       "    </tr>\n",
       "    <tr>\n",
       "      <th>1</th>\n",
       "      <td>10001</td>\n",
       "      <td>2018-10-08</td>\n",
       "      <td>1000</td>\n",
       "    </tr>\n",
       "    <tr>\n",
       "      <th>2</th>\n",
       "      <td>10002</td>\n",
       "      <td>2018-08-04</td>\n",
       "      <td>1000</td>\n",
       "    </tr>\n",
       "    <tr>\n",
       "      <th>3</th>\n",
       "      <td>10003</td>\n",
       "      <td>2018-06-16</td>\n",
       "      <td>1000</td>\n",
       "    </tr>\n",
       "    <tr>\n",
       "      <th>4</th>\n",
       "      <td>10004</td>\n",
       "      <td>2018-12-05</td>\n",
       "      <td>1000</td>\n",
       "    </tr>\n",
       "    <tr>\n",
       "      <th>5</th>\n",
       "      <td>10005</td>\n",
       "      <td>2018-06-20</td>\n",
       "      <td>1000</td>\n",
       "    </tr>\n",
       "    <tr>\n",
       "      <th>6</th>\n",
       "      <td>10006</td>\n",
       "      <td>2018-11-19</td>\n",
       "      <td>1000</td>\n",
       "    </tr>\n",
       "    <tr>\n",
       "      <th>7</th>\n",
       "      <td>10007</td>\n",
       "      <td>2018-10-29</td>\n",
       "      <td>1000</td>\n",
       "    </tr>\n",
       "    <tr>\n",
       "      <th>8</th>\n",
       "      <td>10008</td>\n",
       "      <td>2018-06-25</td>\n",
       "      <td>1000</td>\n",
       "    </tr>\n",
       "    <tr>\n",
       "      <th>9</th>\n",
       "      <td>10009</td>\n",
       "      <td>2018-12-18</td>\n",
       "      <td>1000</td>\n",
       "    </tr>\n",
       "  </tbody>\n",
       "</table>\n",
       "</div>"
      ],
      "text/plain": [
       "      id message_date  user_id\n",
       "0  10000   2018-06-27     1000\n",
       "1  10001   2018-10-08     1000\n",
       "2  10002   2018-08-04     1000\n",
       "3  10003   2018-06-16     1000\n",
       "4  10004   2018-12-05     1000\n",
       "5  10005   2018-06-20     1000\n",
       "6  10006   2018-11-19     1000\n",
       "7  10007   2018-10-29     1000\n",
       "8  10008   2018-06-25     1000\n",
       "9  10009   2018-12-18     1000"
      ]
     },
     "execution_count": 23,
     "metadata": {},
     "output_type": "execute_result"
    }
   ],
   "source": [
    "messages.head(10)"
   ]
  },
  {
   "cell_type": "code",
   "execution_count": 24,
   "metadata": {
    "scrolled": true
   },
   "outputs": [
    {
     "data": {
      "text/html": [
       "<div>\n",
       "<style scoped>\n",
       "    .dataframe tbody tr th:only-of-type {\n",
       "        vertical-align: middle;\n",
       "    }\n",
       "\n",
       "    .dataframe tbody tr th {\n",
       "        vertical-align: top;\n",
       "    }\n",
       "\n",
       "    .dataframe thead th {\n",
       "        text-align: right;\n",
       "    }\n",
       "</style>\n",
       "<table border=\"1\" class=\"dataframe\">\n",
       "  <thead>\n",
       "    <tr style=\"text-align: right;\">\n",
       "      <th></th>\n",
       "      <th>id</th>\n",
       "      <th>message_date</th>\n",
       "      <th>user_id</th>\n",
       "    </tr>\n",
       "  </thead>\n",
       "  <tbody>\n",
       "    <tr>\n",
       "      <th>123026</th>\n",
       "      <td>1499174</td>\n",
       "      <td>2018-12-14</td>\n",
       "      <td>1499</td>\n",
       "    </tr>\n",
       "    <tr>\n",
       "      <th>123027</th>\n",
       "      <td>1499175</td>\n",
       "      <td>2018-10-09</td>\n",
       "      <td>1499</td>\n",
       "    </tr>\n",
       "    <tr>\n",
       "      <th>123028</th>\n",
       "      <td>1499176</td>\n",
       "      <td>2018-12-17</td>\n",
       "      <td>1499</td>\n",
       "    </tr>\n",
       "    <tr>\n",
       "      <th>123029</th>\n",
       "      <td>1499177</td>\n",
       "      <td>2018-12-30</td>\n",
       "      <td>1499</td>\n",
       "    </tr>\n",
       "    <tr>\n",
       "      <th>123030</th>\n",
       "      <td>1499178</td>\n",
       "      <td>2018-10-25</td>\n",
       "      <td>1499</td>\n",
       "    </tr>\n",
       "    <tr>\n",
       "      <th>123031</th>\n",
       "      <td>1499179</td>\n",
       "      <td>2018-12-12</td>\n",
       "      <td>1499</td>\n",
       "    </tr>\n",
       "    <tr>\n",
       "      <th>123032</th>\n",
       "      <td>1499180</td>\n",
       "      <td>2018-09-28</td>\n",
       "      <td>1499</td>\n",
       "    </tr>\n",
       "    <tr>\n",
       "      <th>123033</th>\n",
       "      <td>1499181</td>\n",
       "      <td>2018-09-27</td>\n",
       "      <td>1499</td>\n",
       "    </tr>\n",
       "    <tr>\n",
       "      <th>123034</th>\n",
       "      <td>1499182</td>\n",
       "      <td>2018-11-15</td>\n",
       "      <td>1499</td>\n",
       "    </tr>\n",
       "    <tr>\n",
       "      <th>123035</th>\n",
       "      <td>1499183</td>\n",
       "      <td>2018-11-16</td>\n",
       "      <td>1499</td>\n",
       "    </tr>\n",
       "  </tbody>\n",
       "</table>\n",
       "</div>"
      ],
      "text/plain": [
       "             id message_date  user_id\n",
       "123026  1499174   2018-12-14     1499\n",
       "123027  1499175   2018-10-09     1499\n",
       "123028  1499176   2018-12-17     1499\n",
       "123029  1499177   2018-12-30     1499\n",
       "123030  1499178   2018-10-25     1499\n",
       "123031  1499179   2018-12-12     1499\n",
       "123032  1499180   2018-09-28     1499\n",
       "123033  1499181   2018-09-27     1499\n",
       "123034  1499182   2018-11-15     1499\n",
       "123035  1499183   2018-11-16     1499"
      ]
     },
     "execution_count": 24,
     "metadata": {},
     "output_type": "execute_result"
    }
   ],
   "source": [
    "messages.tail(10)"
   ]
  },
  {
   "cell_type": "markdown",
   "metadata": {},
   "source": [
    "Никаких действий не требуется."
   ]
  },
  {
   "cell_type": "markdown",
   "metadata": {},
   "source": [
    "#### Таблица internet(информация об интернет-сессиях)"
   ]
  },
  {
   "cell_type": "code",
   "execution_count": 25,
   "metadata": {},
   "outputs": [
    {
     "name": "stdout",
     "output_type": "stream",
     "text": [
      "<class 'pandas.core.frame.DataFrame'>\n",
      "Int64Index: 149396 entries, 0 to 149395\n",
      "Data columns (total 4 columns):\n",
      " #   Column        Non-Null Count   Dtype  \n",
      "---  ------        --------------   -----  \n",
      " 0   id            149396 non-null  object \n",
      " 1   mb_used       149396 non-null  float64\n",
      " 2   session_date  149396 non-null  object \n",
      " 3   user_id       149396 non-null  int64  \n",
      "dtypes: float64(1), int64(1), object(2)\n",
      "memory usage: 5.7+ MB\n"
     ]
    }
   ],
   "source": [
    "internet.info()"
   ]
  },
  {
   "cell_type": "code",
   "execution_count": 26,
   "metadata": {},
   "outputs": [
    {
     "data": {
      "text/html": [
       "<div>\n",
       "<style scoped>\n",
       "    .dataframe tbody tr th:only-of-type {\n",
       "        vertical-align: middle;\n",
       "    }\n",
       "\n",
       "    .dataframe tbody tr th {\n",
       "        vertical-align: top;\n",
       "    }\n",
       "\n",
       "    .dataframe thead th {\n",
       "        text-align: right;\n",
       "    }\n",
       "</style>\n",
       "<table border=\"1\" class=\"dataframe\">\n",
       "  <thead>\n",
       "    <tr style=\"text-align: right;\">\n",
       "      <th></th>\n",
       "      <th>mb_used</th>\n",
       "      <th>session_date</th>\n",
       "      <th>user_id</th>\n",
       "    </tr>\n",
       "  </thead>\n",
       "  <tbody>\n",
       "    <tr>\n",
       "      <th>0</th>\n",
       "      <td>112.95</td>\n",
       "      <td>2018-11-25</td>\n",
       "      <td>1000</td>\n",
       "    </tr>\n",
       "    <tr>\n",
       "      <th>1</th>\n",
       "      <td>1052.81</td>\n",
       "      <td>2018-09-07</td>\n",
       "      <td>1000</td>\n",
       "    </tr>\n",
       "    <tr>\n",
       "      <th>2</th>\n",
       "      <td>1197.26</td>\n",
       "      <td>2018-06-25</td>\n",
       "      <td>1000</td>\n",
       "    </tr>\n",
       "    <tr>\n",
       "      <th>3</th>\n",
       "      <td>550.27</td>\n",
       "      <td>2018-08-22</td>\n",
       "      <td>1000</td>\n",
       "    </tr>\n",
       "    <tr>\n",
       "      <th>4</th>\n",
       "      <td>302.56</td>\n",
       "      <td>2018-09-24</td>\n",
       "      <td>1000</td>\n",
       "    </tr>\n",
       "    <tr>\n",
       "      <th>...</th>\n",
       "      <td>...</td>\n",
       "      <td>...</td>\n",
       "      <td>...</td>\n",
       "    </tr>\n",
       "    <tr>\n",
       "      <th>149391</th>\n",
       "      <td>318.90</td>\n",
       "      <td>2018-10-03</td>\n",
       "      <td>1499</td>\n",
       "    </tr>\n",
       "    <tr>\n",
       "      <th>149392</th>\n",
       "      <td>490.13</td>\n",
       "      <td>2018-12-14</td>\n",
       "      <td>1499</td>\n",
       "    </tr>\n",
       "    <tr>\n",
       "      <th>149393</th>\n",
       "      <td>0.00</td>\n",
       "      <td>2018-10-27</td>\n",
       "      <td>1499</td>\n",
       "    </tr>\n",
       "    <tr>\n",
       "      <th>149394</th>\n",
       "      <td>1246.32</td>\n",
       "      <td>2018-11-26</td>\n",
       "      <td>1499</td>\n",
       "    </tr>\n",
       "    <tr>\n",
       "      <th>149395</th>\n",
       "      <td>544.37</td>\n",
       "      <td>2018-10-26</td>\n",
       "      <td>1499</td>\n",
       "    </tr>\n",
       "  </tbody>\n",
       "</table>\n",
       "<p>149396 rows × 3 columns</p>\n",
       "</div>"
      ],
      "text/plain": [
       "        mb_used session_date  user_id\n",
       "0        112.95   2018-11-25     1000\n",
       "1       1052.81   2018-09-07     1000\n",
       "2       1197.26   2018-06-25     1000\n",
       "3        550.27   2018-08-22     1000\n",
       "4        302.56   2018-09-24     1000\n",
       "...         ...          ...      ...\n",
       "149391   318.90   2018-10-03     1499\n",
       "149392   490.13   2018-12-14     1499\n",
       "149393     0.00   2018-10-27     1499\n",
       "149394  1246.32   2018-11-26     1499\n",
       "149395   544.37   2018-10-26     1499\n",
       "\n",
       "[149396 rows x 3 columns]"
      ]
     },
     "execution_count": 26,
     "metadata": {},
     "output_type": "execute_result"
    }
   ],
   "source": [
    "internet.drop(internet.columns[[0]], axis = 1)"
   ]
  },
  {
   "cell_type": "markdown",
   "metadata": {},
   "source": [
    "session_date приведем в datetime"
   ]
  },
  {
   "cell_type": "code",
   "execution_count": 27,
   "metadata": {
    "scrolled": true
   },
   "outputs": [
    {
     "name": "stdout",
     "output_type": "stream",
     "text": [
      "<class 'pandas.core.frame.DataFrame'>\n",
      "Int64Index: 149396 entries, 0 to 149395\n",
      "Data columns (total 4 columns):\n",
      " #   Column        Non-Null Count   Dtype         \n",
      "---  ------        --------------   -----         \n",
      " 0   id            149396 non-null  object        \n",
      " 1   mb_used       149396 non-null  float64       \n",
      " 2   session_date  149396 non-null  datetime64[ns]\n",
      " 3   user_id       149396 non-null  int64         \n",
      "dtypes: datetime64[ns](1), float64(1), int64(1), object(1)\n",
      "memory usage: 5.7+ MB\n"
     ]
    }
   ],
   "source": [
    "internet['session_date'] = pd.to_datetime(internet['session_date'], format=\"%Y-%m-%d\")\n",
    "internet.info()"
   ]
  },
  {
   "cell_type": "code",
   "execution_count": 28,
   "metadata": {},
   "outputs": [],
   "source": [
    "internet['id'] = internet['id'].astype('int')"
   ]
  },
  {
   "cell_type": "markdown",
   "metadata": {},
   "source": [
    "#### Таблица tariffs(информация о тарифах)"
   ]
  },
  {
   "cell_type": "code",
   "execution_count": 29,
   "metadata": {},
   "outputs": [
    {
     "name": "stdout",
     "output_type": "stream",
     "text": [
      "<class 'pandas.core.frame.DataFrame'>\n",
      "RangeIndex: 2 entries, 0 to 1\n",
      "Data columns (total 8 columns):\n",
      " #   Column                 Non-Null Count  Dtype \n",
      "---  ------                 --------------  ----- \n",
      " 0   messages_included      2 non-null      int64 \n",
      " 1   mb_per_month_included  2 non-null      int64 \n",
      " 2   minutes_included       2 non-null      int64 \n",
      " 3   rub_monthly_fee        2 non-null      int64 \n",
      " 4   rub_per_gb             2 non-null      int64 \n",
      " 5   rub_per_message        2 non-null      int64 \n",
      " 6   rub_per_minute         2 non-null      int64 \n",
      " 7   tariff_name            2 non-null      object\n",
      "dtypes: int64(7), object(1)\n",
      "memory usage: 256.0+ bytes\n"
     ]
    }
   ],
   "source": [
    "tariffs.info()"
   ]
  },
  {
   "cell_type": "code",
   "execution_count": 30,
   "metadata": {},
   "outputs": [],
   "source": [
    "tariffs = tariffs.rename(columns={'tariff_name':'tariff'})"
   ]
  },
  {
   "cell_type": "markdown",
   "metadata": {},
   "source": [
    "## Подготовка данных"
   ]
  },
  {
   "cell_type": "markdown",
   "metadata": {},
   "source": [
    "Посчитайте для каждого пользователя:\n",
    "- количество сделанных звонков и израсходованных минут разговора по месяцам;\n",
    "- количество отправленных сообщений по месяцам;\n",
    "- объем израсходованного интернет-трафика по месяцам;\n",
    "- помесячную выручку с каждого пользователя (вычтите бесплатный лимит из суммарного количества звонков, сообщений и интернет-трафика; остаток умножьте на значение из тарифного плана; прибавьте абонентскую плату, соответствующую тарифному плану)."
   ]
  },
  {
   "cell_type": "markdown",
   "metadata": {},
   "source": [
    "### Количество сделанных звонков и израсходованных минут разговора по месяцам"
   ]
  },
  {
   "cell_type": "code",
   "execution_count": 31,
   "metadata": {
    "scrolled": true
   },
   "outputs": [
    {
     "data": {
      "text/html": [
       "<div>\n",
       "<style scoped>\n",
       "    .dataframe tbody tr th:only-of-type {\n",
       "        vertical-align: middle;\n",
       "    }\n",
       "\n",
       "    .dataframe tbody tr th {\n",
       "        vertical-align: top;\n",
       "    }\n",
       "\n",
       "    .dataframe thead th {\n",
       "        text-align: right;\n",
       "    }\n",
       "</style>\n",
       "<table border=\"1\" class=\"dataframe\">\n",
       "  <thead>\n",
       "    <tr style=\"text-align: right;\">\n",
       "      <th></th>\n",
       "      <th>id</th>\n",
       "      <th>call_date</th>\n",
       "      <th>duration</th>\n",
       "      <th>user_id</th>\n",
       "      <th>month</th>\n",
       "    </tr>\n",
       "  </thead>\n",
       "  <tbody>\n",
       "    <tr>\n",
       "      <th>0</th>\n",
       "      <td>10000</td>\n",
       "      <td>2018-07-25</td>\n",
       "      <td>0</td>\n",
       "      <td>1000</td>\n",
       "      <td>7</td>\n",
       "    </tr>\n",
       "    <tr>\n",
       "      <th>1</th>\n",
       "      <td>10001</td>\n",
       "      <td>2018-08-17</td>\n",
       "      <td>0</td>\n",
       "      <td>1000</td>\n",
       "      <td>8</td>\n",
       "    </tr>\n",
       "    <tr>\n",
       "      <th>2</th>\n",
       "      <td>10002</td>\n",
       "      <td>2018-06-11</td>\n",
       "      <td>2</td>\n",
       "      <td>1000</td>\n",
       "      <td>6</td>\n",
       "    </tr>\n",
       "    <tr>\n",
       "      <th>3</th>\n",
       "      <td>10003</td>\n",
       "      <td>2018-09-21</td>\n",
       "      <td>13</td>\n",
       "      <td>1000</td>\n",
       "      <td>9</td>\n",
       "    </tr>\n",
       "    <tr>\n",
       "      <th>4</th>\n",
       "      <td>10004</td>\n",
       "      <td>2018-12-15</td>\n",
       "      <td>5</td>\n",
       "      <td>1000</td>\n",
       "      <td>12</td>\n",
       "    </tr>\n",
       "  </tbody>\n",
       "</table>\n",
       "</div>"
      ],
      "text/plain": [
       "      id  call_date  duration  user_id  month\n",
       "0  10000 2018-07-25         0     1000      7\n",
       "1  10001 2018-08-17         0     1000      8\n",
       "2  10002 2018-06-11         2     1000      6\n",
       "3  10003 2018-09-21        13     1000      9\n",
       "4  10004 2018-12-15         5     1000     12"
      ]
     },
     "execution_count": 31,
     "metadata": {},
     "output_type": "execute_result"
    }
   ],
   "source": [
    "calls['month'] = calls['call_date'].dt.month\n",
    "calls.head()"
   ]
  },
  {
   "cell_type": "code",
   "execution_count": 32,
   "metadata": {},
   "outputs": [
    {
     "data": {
      "text/html": [
       "<div>\n",
       "<style scoped>\n",
       "    .dataframe tbody tr th:only-of-type {\n",
       "        vertical-align: middle;\n",
       "    }\n",
       "\n",
       "    .dataframe tbody tr th {\n",
       "        vertical-align: top;\n",
       "    }\n",
       "\n",
       "    .dataframe thead th {\n",
       "        text-align: right;\n",
       "    }\n",
       "</style>\n",
       "<table border=\"1\" class=\"dataframe\">\n",
       "  <thead>\n",
       "    <tr style=\"text-align: right;\">\n",
       "      <th></th>\n",
       "      <th>user_id</th>\n",
       "      <th>month</th>\n",
       "      <th>month_calls_duration</th>\n",
       "      <th>calls_total_in_month</th>\n",
       "    </tr>\n",
       "  </thead>\n",
       "  <tbody>\n",
       "    <tr>\n",
       "      <th>0</th>\n",
       "      <td>1000</td>\n",
       "      <td>5</td>\n",
       "      <td>142</td>\n",
       "      <td>22</td>\n",
       "    </tr>\n",
       "    <tr>\n",
       "      <th>1</th>\n",
       "      <td>1000</td>\n",
       "      <td>6</td>\n",
       "      <td>144</td>\n",
       "      <td>43</td>\n",
       "    </tr>\n",
       "    <tr>\n",
       "      <th>2</th>\n",
       "      <td>1000</td>\n",
       "      <td>7</td>\n",
       "      <td>299</td>\n",
       "      <td>47</td>\n",
       "    </tr>\n",
       "    <tr>\n",
       "      <th>3</th>\n",
       "      <td>1000</td>\n",
       "      <td>8</td>\n",
       "      <td>367</td>\n",
       "      <td>52</td>\n",
       "    </tr>\n",
       "    <tr>\n",
       "      <th>4</th>\n",
       "      <td>1000</td>\n",
       "      <td>9</td>\n",
       "      <td>421</td>\n",
       "      <td>58</td>\n",
       "    </tr>\n",
       "  </tbody>\n",
       "</table>\n",
       "</div>"
      ],
      "text/plain": [
       "   user_id  month  month_calls_duration  calls_total_in_month\n",
       "0     1000      5                   142                    22\n",
       "1     1000      6                   144                    43\n",
       "2     1000      7                   299                    47\n",
       "3     1000      8                   367                    52\n",
       "4     1000      9                   421                    58"
      ]
     },
     "execution_count": 32,
     "metadata": {},
     "output_type": "execute_result"
    }
   ],
   "source": [
    "user_calls = calls.groupby(['user_id','month'])\\\n",
    ".agg({'duration':'sum', 'id':'count'})\\\n",
    ".reset_index()\\\n",
    ".rename(columns={'duration':'month_calls_duration','id':'calls_total_in_month'})\n",
    "user_calls.head()"
   ]
  },
  {
   "cell_type": "markdown",
   "metadata": {},
   "source": [
    "Количество сделанных звонков и израсходованных минут разговора по месяцам посчитано"
   ]
  },
  {
   "cell_type": "markdown",
   "metadata": {},
   "source": [
    "### Количество отправленных сообщений по месяцам"
   ]
  },
  {
   "cell_type": "code",
   "execution_count": 33,
   "metadata": {
    "scrolled": true
   },
   "outputs": [
    {
     "data": {
      "text/html": [
       "<div>\n",
       "<style scoped>\n",
       "    .dataframe tbody tr th:only-of-type {\n",
       "        vertical-align: middle;\n",
       "    }\n",
       "\n",
       "    .dataframe tbody tr th {\n",
       "        vertical-align: top;\n",
       "    }\n",
       "\n",
       "    .dataframe thead th {\n",
       "        text-align: right;\n",
       "    }\n",
       "</style>\n",
       "<table border=\"1\" class=\"dataframe\">\n",
       "  <thead>\n",
       "    <tr style=\"text-align: right;\">\n",
       "      <th></th>\n",
       "      <th>id</th>\n",
       "      <th>message_date</th>\n",
       "      <th>user_id</th>\n",
       "      <th>month</th>\n",
       "    </tr>\n",
       "  </thead>\n",
       "  <tbody>\n",
       "    <tr>\n",
       "      <th>0</th>\n",
       "      <td>10000</td>\n",
       "      <td>2018-06-27</td>\n",
       "      <td>1000</td>\n",
       "      <td>6</td>\n",
       "    </tr>\n",
       "    <tr>\n",
       "      <th>1</th>\n",
       "      <td>10001</td>\n",
       "      <td>2018-10-08</td>\n",
       "      <td>1000</td>\n",
       "      <td>10</td>\n",
       "    </tr>\n",
       "    <tr>\n",
       "      <th>2</th>\n",
       "      <td>10002</td>\n",
       "      <td>2018-08-04</td>\n",
       "      <td>1000</td>\n",
       "      <td>8</td>\n",
       "    </tr>\n",
       "    <tr>\n",
       "      <th>3</th>\n",
       "      <td>10003</td>\n",
       "      <td>2018-06-16</td>\n",
       "      <td>1000</td>\n",
       "      <td>6</td>\n",
       "    </tr>\n",
       "    <tr>\n",
       "      <th>4</th>\n",
       "      <td>10004</td>\n",
       "      <td>2018-12-05</td>\n",
       "      <td>1000</td>\n",
       "      <td>12</td>\n",
       "    </tr>\n",
       "  </tbody>\n",
       "</table>\n",
       "</div>"
      ],
      "text/plain": [
       "      id message_date  user_id  month\n",
       "0  10000   2018-06-27     1000      6\n",
       "1  10001   2018-10-08     1000     10\n",
       "2  10002   2018-08-04     1000      8\n",
       "3  10003   2018-06-16     1000      6\n",
       "4  10004   2018-12-05     1000     12"
      ]
     },
     "execution_count": 33,
     "metadata": {},
     "output_type": "execute_result"
    }
   ],
   "source": [
    "messages['month'] = messages['message_date'].dt.month\n",
    "messages.head()"
   ]
  },
  {
   "cell_type": "code",
   "execution_count": 34,
   "metadata": {},
   "outputs": [
    {
     "data": {
      "text/html": [
       "<div>\n",
       "<style scoped>\n",
       "    .dataframe tbody tr th:only-of-type {\n",
       "        vertical-align: middle;\n",
       "    }\n",
       "\n",
       "    .dataframe tbody tr th {\n",
       "        vertical-align: top;\n",
       "    }\n",
       "\n",
       "    .dataframe thead th {\n",
       "        text-align: right;\n",
       "    }\n",
       "</style>\n",
       "<table border=\"1\" class=\"dataframe\">\n",
       "  <thead>\n",
       "    <tr style=\"text-align: right;\">\n",
       "      <th></th>\n",
       "      <th>user_id</th>\n",
       "      <th>month</th>\n",
       "      <th>messages_total_in_month</th>\n",
       "    </tr>\n",
       "  </thead>\n",
       "  <tbody>\n",
       "    <tr>\n",
       "      <th>0</th>\n",
       "      <td>1000</td>\n",
       "      <td>5</td>\n",
       "      <td>22</td>\n",
       "    </tr>\n",
       "    <tr>\n",
       "      <th>1</th>\n",
       "      <td>1000</td>\n",
       "      <td>6</td>\n",
       "      <td>60</td>\n",
       "    </tr>\n",
       "    <tr>\n",
       "      <th>2</th>\n",
       "      <td>1000</td>\n",
       "      <td>7</td>\n",
       "      <td>75</td>\n",
       "    </tr>\n",
       "    <tr>\n",
       "      <th>3</th>\n",
       "      <td>1000</td>\n",
       "      <td>8</td>\n",
       "      <td>81</td>\n",
       "    </tr>\n",
       "    <tr>\n",
       "      <th>4</th>\n",
       "      <td>1000</td>\n",
       "      <td>9</td>\n",
       "      <td>57</td>\n",
       "    </tr>\n",
       "  </tbody>\n",
       "</table>\n",
       "</div>"
      ],
      "text/plain": [
       "   user_id  month  messages_total_in_month\n",
       "0     1000      5                       22\n",
       "1     1000      6                       60\n",
       "2     1000      7                       75\n",
       "3     1000      8                       81\n",
       "4     1000      9                       57"
      ]
     },
     "execution_count": 34,
     "metadata": {},
     "output_type": "execute_result"
    }
   ],
   "source": [
    "user_messages = messages.groupby(['user_id','month']).agg({'id':'count'}).reset_index().rename(columns={'id':'messages_total_in_month'})\n",
    "user_messages.head()"
   ]
  },
  {
   "cell_type": "markdown",
   "metadata": {},
   "source": [
    "Количество сообщений для каждого пользователя посчитано."
   ]
  },
  {
   "cell_type": "markdown",
   "metadata": {},
   "source": [
    "### Объем израсходованного интернет-трафика по месяцам"
   ]
  },
  {
   "cell_type": "code",
   "execution_count": 35,
   "metadata": {},
   "outputs": [
    {
     "data": {
      "text/html": [
       "<div>\n",
       "<style scoped>\n",
       "    .dataframe tbody tr th:only-of-type {\n",
       "        vertical-align: middle;\n",
       "    }\n",
       "\n",
       "    .dataframe tbody tr th {\n",
       "        vertical-align: top;\n",
       "    }\n",
       "\n",
       "    .dataframe thead th {\n",
       "        text-align: right;\n",
       "    }\n",
       "</style>\n",
       "<table border=\"1\" class=\"dataframe\">\n",
       "  <thead>\n",
       "    <tr style=\"text-align: right;\">\n",
       "      <th></th>\n",
       "      <th>id</th>\n",
       "      <th>mb_used</th>\n",
       "      <th>session_date</th>\n",
       "      <th>user_id</th>\n",
       "      <th>month</th>\n",
       "    </tr>\n",
       "  </thead>\n",
       "  <tbody>\n",
       "    <tr>\n",
       "      <th>0</th>\n",
       "      <td>10000</td>\n",
       "      <td>112.95</td>\n",
       "      <td>2018-11-25</td>\n",
       "      <td>1000</td>\n",
       "      <td>11</td>\n",
       "    </tr>\n",
       "    <tr>\n",
       "      <th>1</th>\n",
       "      <td>10001</td>\n",
       "      <td>1052.81</td>\n",
       "      <td>2018-09-07</td>\n",
       "      <td>1000</td>\n",
       "      <td>9</td>\n",
       "    </tr>\n",
       "    <tr>\n",
       "      <th>2</th>\n",
       "      <td>10002</td>\n",
       "      <td>1197.26</td>\n",
       "      <td>2018-06-25</td>\n",
       "      <td>1000</td>\n",
       "      <td>6</td>\n",
       "    </tr>\n",
       "    <tr>\n",
       "      <th>3</th>\n",
       "      <td>10003</td>\n",
       "      <td>550.27</td>\n",
       "      <td>2018-08-22</td>\n",
       "      <td>1000</td>\n",
       "      <td>8</td>\n",
       "    </tr>\n",
       "    <tr>\n",
       "      <th>4</th>\n",
       "      <td>10004</td>\n",
       "      <td>302.56</td>\n",
       "      <td>2018-09-24</td>\n",
       "      <td>1000</td>\n",
       "      <td>9</td>\n",
       "    </tr>\n",
       "  </tbody>\n",
       "</table>\n",
       "</div>"
      ],
      "text/plain": [
       "      id  mb_used session_date  user_id  month\n",
       "0  10000   112.95   2018-11-25     1000     11\n",
       "1  10001  1052.81   2018-09-07     1000      9\n",
       "2  10002  1197.26   2018-06-25     1000      6\n",
       "3  10003   550.27   2018-08-22     1000      8\n",
       "4  10004   302.56   2018-09-24     1000      9"
      ]
     },
     "execution_count": 35,
     "metadata": {},
     "output_type": "execute_result"
    }
   ],
   "source": [
    "internet['month'] = internet['session_date'].dt.month\n",
    "internet.head()"
   ]
  },
  {
   "cell_type": "code",
   "execution_count": 36,
   "metadata": {
    "scrolled": true
   },
   "outputs": [
    {
     "data": {
      "text/html": [
       "<div>\n",
       "<style scoped>\n",
       "    .dataframe tbody tr th:only-of-type {\n",
       "        vertical-align: middle;\n",
       "    }\n",
       "\n",
       "    .dataframe tbody tr th {\n",
       "        vertical-align: top;\n",
       "    }\n",
       "\n",
       "    .dataframe thead th {\n",
       "        text-align: right;\n",
       "    }\n",
       "</style>\n",
       "<table border=\"1\" class=\"dataframe\">\n",
       "  <thead>\n",
       "    <tr style=\"text-align: right;\">\n",
       "      <th></th>\n",
       "      <th>user_id</th>\n",
       "      <th>month</th>\n",
       "      <th>mb_total_in_month</th>\n",
       "    </tr>\n",
       "  </thead>\n",
       "  <tbody>\n",
       "    <tr>\n",
       "      <th>0</th>\n",
       "      <td>1000</td>\n",
       "      <td>5</td>\n",
       "      <td>2253.49</td>\n",
       "    </tr>\n",
       "    <tr>\n",
       "      <th>1</th>\n",
       "      <td>1000</td>\n",
       "      <td>6</td>\n",
       "      <td>23233.77</td>\n",
       "    </tr>\n",
       "    <tr>\n",
       "      <th>2</th>\n",
       "      <td>1000</td>\n",
       "      <td>7</td>\n",
       "      <td>14003.64</td>\n",
       "    </tr>\n",
       "    <tr>\n",
       "      <th>3</th>\n",
       "      <td>1000</td>\n",
       "      <td>8</td>\n",
       "      <td>14055.93</td>\n",
       "    </tr>\n",
       "    <tr>\n",
       "      <th>4</th>\n",
       "      <td>1000</td>\n",
       "      <td>9</td>\n",
       "      <td>14568.91</td>\n",
       "    </tr>\n",
       "  </tbody>\n",
       "</table>\n",
       "</div>"
      ],
      "text/plain": [
       "   user_id  month  mb_total_in_month\n",
       "0     1000      5            2253.49\n",
       "1     1000      6           23233.77\n",
       "2     1000      7           14003.64\n",
       "3     1000      8           14055.93\n",
       "4     1000      9           14568.91"
      ]
     },
     "execution_count": 36,
     "metadata": {},
     "output_type": "execute_result"
    }
   ],
   "source": [
    "user_internet = internet.groupby(['user_id', 'month']).agg({'mb_used':'sum'}).reset_index().rename(columns={'mb_used':'mb_total_in_month'})\n",
    "user_internet.head()"
   ]
  },
  {
   "cell_type": "markdown",
   "metadata": {},
   "source": [
    "Объем израсходованного интернет-трафика по месяцам посчитан"
   ]
  },
  {
   "cell_type": "markdown",
   "metadata": {},
   "source": [
    "### Месячная выручка с каждого пользователя"
   ]
  },
  {
   "cell_type": "code",
   "execution_count": 37,
   "metadata": {
    "scrolled": true
   },
   "outputs": [
    {
     "data": {
      "text/html": [
       "<div>\n",
       "<style scoped>\n",
       "    .dataframe tbody tr th:only-of-type {\n",
       "        vertical-align: middle;\n",
       "    }\n",
       "\n",
       "    .dataframe tbody tr th {\n",
       "        vertical-align: top;\n",
       "    }\n",
       "\n",
       "    .dataframe thead th {\n",
       "        text-align: right;\n",
       "    }\n",
       "</style>\n",
       "<table border=\"1\" class=\"dataframe\">\n",
       "  <thead>\n",
       "    <tr style=\"text-align: right;\">\n",
       "      <th></th>\n",
       "      <th>user_id</th>\n",
       "      <th>month</th>\n",
       "      <th>month_calls_duration</th>\n",
       "      <th>calls_total_in_month</th>\n",
       "      <th>messages_total_in_month</th>\n",
       "    </tr>\n",
       "  </thead>\n",
       "  <tbody>\n",
       "    <tr>\n",
       "      <th>0</th>\n",
       "      <td>1000</td>\n",
       "      <td>5</td>\n",
       "      <td>142.0</td>\n",
       "      <td>22.0</td>\n",
       "      <td>22.0</td>\n",
       "    </tr>\n",
       "    <tr>\n",
       "      <th>1</th>\n",
       "      <td>1000</td>\n",
       "      <td>6</td>\n",
       "      <td>144.0</td>\n",
       "      <td>43.0</td>\n",
       "      <td>60.0</td>\n",
       "    </tr>\n",
       "    <tr>\n",
       "      <th>2</th>\n",
       "      <td>1000</td>\n",
       "      <td>7</td>\n",
       "      <td>299.0</td>\n",
       "      <td>47.0</td>\n",
       "      <td>75.0</td>\n",
       "    </tr>\n",
       "    <tr>\n",
       "      <th>3</th>\n",
       "      <td>1000</td>\n",
       "      <td>8</td>\n",
       "      <td>367.0</td>\n",
       "      <td>52.0</td>\n",
       "      <td>81.0</td>\n",
       "    </tr>\n",
       "    <tr>\n",
       "      <th>4</th>\n",
       "      <td>1000</td>\n",
       "      <td>9</td>\n",
       "      <td>421.0</td>\n",
       "      <td>58.0</td>\n",
       "      <td>57.0</td>\n",
       "    </tr>\n",
       "  </tbody>\n",
       "</table>\n",
       "</div>"
      ],
      "text/plain": [
       "   user_id  month  month_calls_duration  calls_total_in_month  \\\n",
       "0     1000      5                 142.0                  22.0   \n",
       "1     1000      6                 144.0                  43.0   \n",
       "2     1000      7                 299.0                  47.0   \n",
       "3     1000      8                 367.0                  52.0   \n",
       "4     1000      9                 421.0                  58.0   \n",
       "\n",
       "   messages_total_in_month  \n",
       "0                     22.0  \n",
       "1                     60.0  \n",
       "2                     75.0  \n",
       "3                     81.0  \n",
       "4                     57.0  "
      ]
     },
     "execution_count": 37,
     "metadata": {},
     "output_type": "execute_result"
    }
   ],
   "source": [
    "data = user_calls.merge(user_messages, on=['user_id','month'], how='outer')\n",
    "data.head()"
   ]
  },
  {
   "cell_type": "code",
   "execution_count": 38,
   "metadata": {
    "scrolled": true
   },
   "outputs": [
    {
     "data": {
      "text/html": [
       "<div>\n",
       "<style scoped>\n",
       "    .dataframe tbody tr th:only-of-type {\n",
       "        vertical-align: middle;\n",
       "    }\n",
       "\n",
       "    .dataframe tbody tr th {\n",
       "        vertical-align: top;\n",
       "    }\n",
       "\n",
       "    .dataframe thead th {\n",
       "        text-align: right;\n",
       "    }\n",
       "</style>\n",
       "<table border=\"1\" class=\"dataframe\">\n",
       "  <thead>\n",
       "    <tr style=\"text-align: right;\">\n",
       "      <th></th>\n",
       "      <th>user_id</th>\n",
       "      <th>month</th>\n",
       "      <th>month_calls_duration</th>\n",
       "      <th>calls_total_in_month</th>\n",
       "      <th>messages_total_in_month</th>\n",
       "      <th>mb_total_in_month</th>\n",
       "    </tr>\n",
       "  </thead>\n",
       "  <tbody>\n",
       "    <tr>\n",
       "      <th>0</th>\n",
       "      <td>1000</td>\n",
       "      <td>5</td>\n",
       "      <td>142.0</td>\n",
       "      <td>22.0</td>\n",
       "      <td>22.0</td>\n",
       "      <td>2253.49</td>\n",
       "    </tr>\n",
       "    <tr>\n",
       "      <th>1</th>\n",
       "      <td>1000</td>\n",
       "      <td>6</td>\n",
       "      <td>144.0</td>\n",
       "      <td>43.0</td>\n",
       "      <td>60.0</td>\n",
       "      <td>23233.77</td>\n",
       "    </tr>\n",
       "    <tr>\n",
       "      <th>2</th>\n",
       "      <td>1000</td>\n",
       "      <td>7</td>\n",
       "      <td>299.0</td>\n",
       "      <td>47.0</td>\n",
       "      <td>75.0</td>\n",
       "      <td>14003.64</td>\n",
       "    </tr>\n",
       "    <tr>\n",
       "      <th>3</th>\n",
       "      <td>1000</td>\n",
       "      <td>8</td>\n",
       "      <td>367.0</td>\n",
       "      <td>52.0</td>\n",
       "      <td>81.0</td>\n",
       "      <td>14055.93</td>\n",
       "    </tr>\n",
       "    <tr>\n",
       "      <th>4</th>\n",
       "      <td>1000</td>\n",
       "      <td>9</td>\n",
       "      <td>421.0</td>\n",
       "      <td>58.0</td>\n",
       "      <td>57.0</td>\n",
       "      <td>14568.91</td>\n",
       "    </tr>\n",
       "  </tbody>\n",
       "</table>\n",
       "</div>"
      ],
      "text/plain": [
       "   user_id  month  month_calls_duration  calls_total_in_month  \\\n",
       "0     1000      5                 142.0                  22.0   \n",
       "1     1000      6                 144.0                  43.0   \n",
       "2     1000      7                 299.0                  47.0   \n",
       "3     1000      8                 367.0                  52.0   \n",
       "4     1000      9                 421.0                  58.0   \n",
       "\n",
       "   messages_total_in_month  mb_total_in_month  \n",
       "0                     22.0            2253.49  \n",
       "1                     60.0           23233.77  \n",
       "2                     75.0           14003.64  \n",
       "3                     81.0           14055.93  \n",
       "4                     57.0           14568.91  "
      ]
     },
     "execution_count": 38,
     "metadata": {},
     "output_type": "execute_result"
    }
   ],
   "source": [
    "data = data.merge(user_internet, on=['user_id','month'], how='outer')\n",
    "data.head()"
   ]
  },
  {
   "cell_type": "code",
   "execution_count": 39,
   "metadata": {
    "scrolled": false
   },
   "outputs": [
    {
     "data": {
      "text/html": [
       "<div>\n",
       "<style scoped>\n",
       "    .dataframe tbody tr th:only-of-type {\n",
       "        vertical-align: middle;\n",
       "    }\n",
       "\n",
       "    .dataframe tbody tr th {\n",
       "        vertical-align: top;\n",
       "    }\n",
       "\n",
       "    .dataframe thead th {\n",
       "        text-align: right;\n",
       "    }\n",
       "</style>\n",
       "<table border=\"1\" class=\"dataframe\">\n",
       "  <thead>\n",
       "    <tr style=\"text-align: right;\">\n",
       "      <th></th>\n",
       "      <th>user_id</th>\n",
       "      <th>month</th>\n",
       "      <th>month_calls_duration</th>\n",
       "      <th>calls_total_in_month</th>\n",
       "      <th>messages_total_in_month</th>\n",
       "      <th>mb_total_in_month</th>\n",
       "      <th>city</th>\n",
       "      <th>tariff</th>\n",
       "    </tr>\n",
       "  </thead>\n",
       "  <tbody>\n",
       "    <tr>\n",
       "      <th>0</th>\n",
       "      <td>1000</td>\n",
       "      <td>5.0</td>\n",
       "      <td>142.0</td>\n",
       "      <td>22.0</td>\n",
       "      <td>22.0</td>\n",
       "      <td>2253.49</td>\n",
       "      <td>Краснодар</td>\n",
       "      <td>ultra</td>\n",
       "    </tr>\n",
       "    <tr>\n",
       "      <th>1</th>\n",
       "      <td>1000</td>\n",
       "      <td>6.0</td>\n",
       "      <td>144.0</td>\n",
       "      <td>43.0</td>\n",
       "      <td>60.0</td>\n",
       "      <td>23233.77</td>\n",
       "      <td>Краснодар</td>\n",
       "      <td>ultra</td>\n",
       "    </tr>\n",
       "    <tr>\n",
       "      <th>2</th>\n",
       "      <td>1000</td>\n",
       "      <td>7.0</td>\n",
       "      <td>299.0</td>\n",
       "      <td>47.0</td>\n",
       "      <td>75.0</td>\n",
       "      <td>14003.64</td>\n",
       "      <td>Краснодар</td>\n",
       "      <td>ultra</td>\n",
       "    </tr>\n",
       "    <tr>\n",
       "      <th>3</th>\n",
       "      <td>1000</td>\n",
       "      <td>8.0</td>\n",
       "      <td>367.0</td>\n",
       "      <td>52.0</td>\n",
       "      <td>81.0</td>\n",
       "      <td>14055.93</td>\n",
       "      <td>Краснодар</td>\n",
       "      <td>ultra</td>\n",
       "    </tr>\n",
       "    <tr>\n",
       "      <th>4</th>\n",
       "      <td>1000</td>\n",
       "      <td>9.0</td>\n",
       "      <td>421.0</td>\n",
       "      <td>58.0</td>\n",
       "      <td>57.0</td>\n",
       "      <td>14568.91</td>\n",
       "      <td>Краснодар</td>\n",
       "      <td>ultra</td>\n",
       "    </tr>\n",
       "  </tbody>\n",
       "</table>\n",
       "</div>"
      ],
      "text/plain": [
       "   user_id  month  month_calls_duration  calls_total_in_month  \\\n",
       "0     1000    5.0                 142.0                  22.0   \n",
       "1     1000    6.0                 144.0                  43.0   \n",
       "2     1000    7.0                 299.0                  47.0   \n",
       "3     1000    8.0                 367.0                  52.0   \n",
       "4     1000    9.0                 421.0                  58.0   \n",
       "\n",
       "   messages_total_in_month  mb_total_in_month       city tariff  \n",
       "0                     22.0            2253.49  Краснодар  ultra  \n",
       "1                     60.0           23233.77  Краснодар  ultra  \n",
       "2                     75.0           14003.64  Краснодар  ultra  \n",
       "3                     81.0           14055.93  Краснодар  ultra  \n",
       "4                     57.0           14568.91  Краснодар  ultra  "
      ]
     },
     "execution_count": 39,
     "metadata": {},
     "output_type": "execute_result"
    }
   ],
   "source": [
    "data = data.merge(users[['user_id','city','tariff']], on='user_id', how = 'outer')\n",
    "data.head()"
   ]
  },
  {
   "cell_type": "code",
   "execution_count": 40,
   "metadata": {
    "scrolled": false
   },
   "outputs": [
    {
     "data": {
      "text/html": [
       "<div>\n",
       "<style scoped>\n",
       "    .dataframe tbody tr th:only-of-type {\n",
       "        vertical-align: middle;\n",
       "    }\n",
       "\n",
       "    .dataframe tbody tr th {\n",
       "        vertical-align: top;\n",
       "    }\n",
       "\n",
       "    .dataframe thead th {\n",
       "        text-align: right;\n",
       "    }\n",
       "</style>\n",
       "<table border=\"1\" class=\"dataframe\">\n",
       "  <thead>\n",
       "    <tr style=\"text-align: right;\">\n",
       "      <th></th>\n",
       "      <th>user_id</th>\n",
       "      <th>month</th>\n",
       "      <th>month_calls_duration</th>\n",
       "      <th>calls_total_in_month</th>\n",
       "      <th>messages_total_in_month</th>\n",
       "      <th>mb_total_in_month</th>\n",
       "      <th>city</th>\n",
       "      <th>tariff</th>\n",
       "      <th>messages_included</th>\n",
       "      <th>mb_per_month_included</th>\n",
       "      <th>minutes_included</th>\n",
       "      <th>rub_monthly_fee</th>\n",
       "      <th>rub_per_gb</th>\n",
       "      <th>rub_per_message</th>\n",
       "      <th>rub_per_minute</th>\n",
       "    </tr>\n",
       "  </thead>\n",
       "  <tbody>\n",
       "    <tr>\n",
       "      <th>0</th>\n",
       "      <td>1000</td>\n",
       "      <td>5.0</td>\n",
       "      <td>142.0</td>\n",
       "      <td>22.0</td>\n",
       "      <td>22.0</td>\n",
       "      <td>2253.49</td>\n",
       "      <td>Краснодар</td>\n",
       "      <td>ultra</td>\n",
       "      <td>1000</td>\n",
       "      <td>30720</td>\n",
       "      <td>3000</td>\n",
       "      <td>1950</td>\n",
       "      <td>150</td>\n",
       "      <td>1</td>\n",
       "      <td>1</td>\n",
       "    </tr>\n",
       "    <tr>\n",
       "      <th>1</th>\n",
       "      <td>1000</td>\n",
       "      <td>6.0</td>\n",
       "      <td>144.0</td>\n",
       "      <td>43.0</td>\n",
       "      <td>60.0</td>\n",
       "      <td>23233.77</td>\n",
       "      <td>Краснодар</td>\n",
       "      <td>ultra</td>\n",
       "      <td>1000</td>\n",
       "      <td>30720</td>\n",
       "      <td>3000</td>\n",
       "      <td>1950</td>\n",
       "      <td>150</td>\n",
       "      <td>1</td>\n",
       "      <td>1</td>\n",
       "    </tr>\n",
       "    <tr>\n",
       "      <th>2</th>\n",
       "      <td>1000</td>\n",
       "      <td>7.0</td>\n",
       "      <td>299.0</td>\n",
       "      <td>47.0</td>\n",
       "      <td>75.0</td>\n",
       "      <td>14003.64</td>\n",
       "      <td>Краснодар</td>\n",
       "      <td>ultra</td>\n",
       "      <td>1000</td>\n",
       "      <td>30720</td>\n",
       "      <td>3000</td>\n",
       "      <td>1950</td>\n",
       "      <td>150</td>\n",
       "      <td>1</td>\n",
       "      <td>1</td>\n",
       "    </tr>\n",
       "    <tr>\n",
       "      <th>3</th>\n",
       "      <td>1000</td>\n",
       "      <td>8.0</td>\n",
       "      <td>367.0</td>\n",
       "      <td>52.0</td>\n",
       "      <td>81.0</td>\n",
       "      <td>14055.93</td>\n",
       "      <td>Краснодар</td>\n",
       "      <td>ultra</td>\n",
       "      <td>1000</td>\n",
       "      <td>30720</td>\n",
       "      <td>3000</td>\n",
       "      <td>1950</td>\n",
       "      <td>150</td>\n",
       "      <td>1</td>\n",
       "      <td>1</td>\n",
       "    </tr>\n",
       "    <tr>\n",
       "      <th>4</th>\n",
       "      <td>1000</td>\n",
       "      <td>9.0</td>\n",
       "      <td>421.0</td>\n",
       "      <td>58.0</td>\n",
       "      <td>57.0</td>\n",
       "      <td>14568.91</td>\n",
       "      <td>Краснодар</td>\n",
       "      <td>ultra</td>\n",
       "      <td>1000</td>\n",
       "      <td>30720</td>\n",
       "      <td>3000</td>\n",
       "      <td>1950</td>\n",
       "      <td>150</td>\n",
       "      <td>1</td>\n",
       "      <td>1</td>\n",
       "    </tr>\n",
       "  </tbody>\n",
       "</table>\n",
       "</div>"
      ],
      "text/plain": [
       "   user_id  month  month_calls_duration  calls_total_in_month  \\\n",
       "0     1000    5.0                 142.0                  22.0   \n",
       "1     1000    6.0                 144.0                  43.0   \n",
       "2     1000    7.0                 299.0                  47.0   \n",
       "3     1000    8.0                 367.0                  52.0   \n",
       "4     1000    9.0                 421.0                  58.0   \n",
       "\n",
       "   messages_total_in_month  mb_total_in_month       city tariff  \\\n",
       "0                     22.0            2253.49  Краснодар  ultra   \n",
       "1                     60.0           23233.77  Краснодар  ultra   \n",
       "2                     75.0           14003.64  Краснодар  ultra   \n",
       "3                     81.0           14055.93  Краснодар  ultra   \n",
       "4                     57.0           14568.91  Краснодар  ultra   \n",
       "\n",
       "   messages_included  mb_per_month_included  minutes_included  \\\n",
       "0               1000                  30720              3000   \n",
       "1               1000                  30720              3000   \n",
       "2               1000                  30720              3000   \n",
       "3               1000                  30720              3000   \n",
       "4               1000                  30720              3000   \n",
       "\n",
       "   rub_monthly_fee  rub_per_gb  rub_per_message  rub_per_minute  \n",
       "0             1950         150                1               1  \n",
       "1             1950         150                1               1  \n",
       "2             1950         150                1               1  \n",
       "3             1950         150                1               1  \n",
       "4             1950         150                1               1  "
      ]
     },
     "execution_count": 40,
     "metadata": {},
     "output_type": "execute_result"
    }
   ],
   "source": [
    "data = data.merge(tariffs, on='tariff', how='outer')\n",
    "data.head()"
   ]
  },
  {
   "cell_type": "code",
   "execution_count": 41,
   "metadata": {
    "scrolled": false
   },
   "outputs": [
    {
     "data": {
      "text/plain": [
       "user_id                      0\n",
       "month                        2\n",
       "month_calls_duration        42\n",
       "calls_total_in_month        42\n",
       "messages_total_in_month    499\n",
       "mb_total_in_month           13\n",
       "city                         0\n",
       "tariff                       0\n",
       "messages_included            0\n",
       "mb_per_month_included        0\n",
       "minutes_included             0\n",
       "rub_monthly_fee              0\n",
       "rub_per_gb                   0\n",
       "rub_per_message              0\n",
       "rub_per_minute               0\n",
       "dtype: int64"
      ]
     },
     "execution_count": 41,
     "metadata": {},
     "output_type": "execute_result"
    }
   ],
   "source": [
    "data.isna().sum()"
   ]
  },
  {
   "cell_type": "code",
   "execution_count": 42,
   "metadata": {
    "scrolled": false
   },
   "outputs": [
    {
     "data": {
      "text/plain": [
       "user_id                    0\n",
       "month                      2\n",
       "month_calls_duration       0\n",
       "calls_total_in_month       0\n",
       "messages_total_in_month    0\n",
       "mb_total_in_month          0\n",
       "city                       0\n",
       "tariff                     0\n",
       "messages_included          0\n",
       "mb_per_month_included      0\n",
       "minutes_included           0\n",
       "rub_monthly_fee            0\n",
       "rub_per_gb                 0\n",
       "rub_per_message            0\n",
       "rub_per_minute             0\n",
       "dtype: int64"
      ]
     },
     "execution_count": 42,
     "metadata": {},
     "output_type": "execute_result"
    }
   ],
   "source": [
    "data['messages_total_in_month'] = data['messages_total_in_month'].fillna(0)\n",
    "data['mb_total_in_month'] = data['mb_total_in_month'].fillna(0)\n",
    "data['month_calls_duration'] = data['month_calls_duration'].fillna(0)\n",
    "data['calls_total_in_month'] = data['calls_total_in_month'].fillna(0)\n",
    "data.isna().sum()"
   ]
  },
  {
   "cell_type": "code",
   "execution_count": 43,
   "metadata": {},
   "outputs": [],
   "source": [
    "data['month'] = data['month'].fillna(12.0)"
   ]
  },
  {
   "cell_type": "code",
   "execution_count": 44,
   "metadata": {},
   "outputs": [
    {
     "data": {
      "text/plain": [
       "user_id                    0\n",
       "month                      0\n",
       "month_calls_duration       0\n",
       "calls_total_in_month       0\n",
       "messages_total_in_month    0\n",
       "mb_total_in_month          0\n",
       "city                       0\n",
       "tariff                     0\n",
       "messages_included          0\n",
       "mb_per_month_included      0\n",
       "minutes_included           0\n",
       "rub_monthly_fee            0\n",
       "rub_per_gb                 0\n",
       "rub_per_message            0\n",
       "rub_per_minute             0\n",
       "dtype: int64"
      ]
     },
     "execution_count": 44,
     "metadata": {},
     "output_type": "execute_result"
    }
   ],
   "source": [
    "data.isna().sum()"
   ]
  },
  {
   "cell_type": "code",
   "execution_count": 45,
   "metadata": {},
   "outputs": [
    {
     "data": {
      "text/plain": [
       "0"
      ]
     },
     "execution_count": 45,
     "metadata": {},
     "output_type": "execute_result"
    }
   ],
   "source": [
    "data.duplicated().sum()"
   ]
  },
  {
   "cell_type": "code",
   "execution_count": 46,
   "metadata": {},
   "outputs": [
    {
     "data": {
      "text/html": [
       "<div>\n",
       "<style scoped>\n",
       "    .dataframe tbody tr th:only-of-type {\n",
       "        vertical-align: middle;\n",
       "    }\n",
       "\n",
       "    .dataframe tbody tr th {\n",
       "        vertical-align: top;\n",
       "    }\n",
       "\n",
       "    .dataframe thead th {\n",
       "        text-align: right;\n",
       "    }\n",
       "</style>\n",
       "<table border=\"1\" class=\"dataframe\">\n",
       "  <thead>\n",
       "    <tr style=\"text-align: right;\">\n",
       "      <th></th>\n",
       "      <th>user_id</th>\n",
       "      <th>month</th>\n",
       "      <th>month_calls_duration</th>\n",
       "      <th>calls_total_in_month</th>\n",
       "      <th>messages_total_in_month</th>\n",
       "      <th>mb_total_in_month</th>\n",
       "      <th>city</th>\n",
       "      <th>tariff</th>\n",
       "      <th>messages_included</th>\n",
       "      <th>mb_per_month_included</th>\n",
       "      <th>minutes_included</th>\n",
       "      <th>rub_monthly_fee</th>\n",
       "      <th>rub_per_gb</th>\n",
       "      <th>rub_per_message</th>\n",
       "      <th>rub_per_minute</th>\n",
       "    </tr>\n",
       "  </thead>\n",
       "  <tbody>\n",
       "    <tr>\n",
       "      <th>0</th>\n",
       "      <td>1000</td>\n",
       "      <td>5.0</td>\n",
       "      <td>142.0</td>\n",
       "      <td>22.0</td>\n",
       "      <td>22.0</td>\n",
       "      <td>2253.49</td>\n",
       "      <td>Краснодар</td>\n",
       "      <td>ultra</td>\n",
       "      <td>1000</td>\n",
       "      <td>30720</td>\n",
       "      <td>3000</td>\n",
       "      <td>1950</td>\n",
       "      <td>150</td>\n",
       "      <td>1</td>\n",
       "      <td>1</td>\n",
       "    </tr>\n",
       "    <tr>\n",
       "      <th>1</th>\n",
       "      <td>1000</td>\n",
       "      <td>6.0</td>\n",
       "      <td>144.0</td>\n",
       "      <td>43.0</td>\n",
       "      <td>60.0</td>\n",
       "      <td>23233.77</td>\n",
       "      <td>Краснодар</td>\n",
       "      <td>ultra</td>\n",
       "      <td>1000</td>\n",
       "      <td>30720</td>\n",
       "      <td>3000</td>\n",
       "      <td>1950</td>\n",
       "      <td>150</td>\n",
       "      <td>1</td>\n",
       "      <td>1</td>\n",
       "    </tr>\n",
       "    <tr>\n",
       "      <th>2</th>\n",
       "      <td>1000</td>\n",
       "      <td>7.0</td>\n",
       "      <td>299.0</td>\n",
       "      <td>47.0</td>\n",
       "      <td>75.0</td>\n",
       "      <td>14003.64</td>\n",
       "      <td>Краснодар</td>\n",
       "      <td>ultra</td>\n",
       "      <td>1000</td>\n",
       "      <td>30720</td>\n",
       "      <td>3000</td>\n",
       "      <td>1950</td>\n",
       "      <td>150</td>\n",
       "      <td>1</td>\n",
       "      <td>1</td>\n",
       "    </tr>\n",
       "    <tr>\n",
       "      <th>3</th>\n",
       "      <td>1000</td>\n",
       "      <td>8.0</td>\n",
       "      <td>367.0</td>\n",
       "      <td>52.0</td>\n",
       "      <td>81.0</td>\n",
       "      <td>14055.93</td>\n",
       "      <td>Краснодар</td>\n",
       "      <td>ultra</td>\n",
       "      <td>1000</td>\n",
       "      <td>30720</td>\n",
       "      <td>3000</td>\n",
       "      <td>1950</td>\n",
       "      <td>150</td>\n",
       "      <td>1</td>\n",
       "      <td>1</td>\n",
       "    </tr>\n",
       "    <tr>\n",
       "      <th>4</th>\n",
       "      <td>1000</td>\n",
       "      <td>9.0</td>\n",
       "      <td>421.0</td>\n",
       "      <td>58.0</td>\n",
       "      <td>57.0</td>\n",
       "      <td>14568.91</td>\n",
       "      <td>Краснодар</td>\n",
       "      <td>ultra</td>\n",
       "      <td>1000</td>\n",
       "      <td>30720</td>\n",
       "      <td>3000</td>\n",
       "      <td>1950</td>\n",
       "      <td>150</td>\n",
       "      <td>1</td>\n",
       "      <td>1</td>\n",
       "    </tr>\n",
       "  </tbody>\n",
       "</table>\n",
       "</div>"
      ],
      "text/plain": [
       "   user_id  month  month_calls_duration  calls_total_in_month  \\\n",
       "0     1000    5.0                 142.0                  22.0   \n",
       "1     1000    6.0                 144.0                  43.0   \n",
       "2     1000    7.0                 299.0                  47.0   \n",
       "3     1000    8.0                 367.0                  52.0   \n",
       "4     1000    9.0                 421.0                  58.0   \n",
       "\n",
       "   messages_total_in_month  mb_total_in_month       city tariff  \\\n",
       "0                     22.0            2253.49  Краснодар  ultra   \n",
       "1                     60.0           23233.77  Краснодар  ultra   \n",
       "2                     75.0           14003.64  Краснодар  ultra   \n",
       "3                     81.0           14055.93  Краснодар  ultra   \n",
       "4                     57.0           14568.91  Краснодар  ultra   \n",
       "\n",
       "   messages_included  mb_per_month_included  minutes_included  \\\n",
       "0               1000                  30720              3000   \n",
       "1               1000                  30720              3000   \n",
       "2               1000                  30720              3000   \n",
       "3               1000                  30720              3000   \n",
       "4               1000                  30720              3000   \n",
       "\n",
       "   rub_monthly_fee  rub_per_gb  rub_per_message  rub_per_minute  \n",
       "0             1950         150                1               1  \n",
       "1             1950         150                1               1  \n",
       "2             1950         150                1               1  \n",
       "3             1950         150                1               1  \n",
       "4             1950         150                1               1  "
      ]
     },
     "execution_count": 46,
     "metadata": {},
     "output_type": "execute_result"
    }
   ],
   "source": [
    "def summa(row):\n",
    "    messages = np.ceil((row['messages_total_in_month'] - row['messages_included']) * row['rub_per_message'])\n",
    "    mins = np.ceil((row['month_calls_duration'] - row['minutes_included']) * row['rub_per_minute'])\n",
    "    mbs = (np.ceil((row['mb_total_in_month'] - row['mb_per_month_included'])/1024) * row['rub_per_gb'])\n",
    "    monthly = (row['rub_monthly_fee'])\n",
    "    total = 0\n",
    "    for i in [messages, mins, mbs,monthly]:\n",
    "        if i > 0:\n",
    "            total += i\n",
    "    return total\n",
    "data.head()"
   ]
  },
  {
   "cell_type": "code",
   "execution_count": 47,
   "metadata": {
    "scrolled": true
   },
   "outputs": [
    {
     "data": {
      "text/html": [
       "<div>\n",
       "<style scoped>\n",
       "    .dataframe tbody tr th:only-of-type {\n",
       "        vertical-align: middle;\n",
       "    }\n",
       "\n",
       "    .dataframe tbody tr th {\n",
       "        vertical-align: top;\n",
       "    }\n",
       "\n",
       "    .dataframe thead th {\n",
       "        text-align: right;\n",
       "    }\n",
       "</style>\n",
       "<table border=\"1\" class=\"dataframe\">\n",
       "  <thead>\n",
       "    <tr style=\"text-align: right;\">\n",
       "      <th></th>\n",
       "      <th>user_id</th>\n",
       "      <th>month</th>\n",
       "      <th>month_calls_duration</th>\n",
       "      <th>calls_total_in_month</th>\n",
       "      <th>messages_total_in_month</th>\n",
       "      <th>mb_total_in_month</th>\n",
       "      <th>city</th>\n",
       "      <th>tariff</th>\n",
       "      <th>messages_included</th>\n",
       "      <th>mb_per_month_included</th>\n",
       "      <th>minutes_included</th>\n",
       "      <th>rub_monthly_fee</th>\n",
       "      <th>rub_per_gb</th>\n",
       "      <th>rub_per_message</th>\n",
       "      <th>rub_per_minute</th>\n",
       "      <th>summa</th>\n",
       "    </tr>\n",
       "  </thead>\n",
       "  <tbody>\n",
       "    <tr>\n",
       "      <th>3215</th>\n",
       "      <td>1371</td>\n",
       "      <td>12.0</td>\n",
       "      <td>0.0</td>\n",
       "      <td>0.0</td>\n",
       "      <td>0.0</td>\n",
       "      <td>0.00</td>\n",
       "      <td>Омск</td>\n",
       "      <td>smart</td>\n",
       "      <td>50</td>\n",
       "      <td>15360</td>\n",
       "      <td>500</td>\n",
       "      <td>550</td>\n",
       "      <td>200</td>\n",
       "      <td>3</td>\n",
       "      <td>3</td>\n",
       "      <td>550.0</td>\n",
       "    </tr>\n",
       "    <tr>\n",
       "      <th>2062</th>\n",
       "      <td>1230</td>\n",
       "      <td>9.0</td>\n",
       "      <td>249.0</td>\n",
       "      <td>34.0</td>\n",
       "      <td>10.0</td>\n",
       "      <td>8858.98</td>\n",
       "      <td>Томск</td>\n",
       "      <td>smart</td>\n",
       "      <td>50</td>\n",
       "      <td>15360</td>\n",
       "      <td>500</td>\n",
       "      <td>550</td>\n",
       "      <td>200</td>\n",
       "      <td>3</td>\n",
       "      <td>3</td>\n",
       "      <td>550.0</td>\n",
       "    </tr>\n",
       "    <tr>\n",
       "      <th>2059</th>\n",
       "      <td>1229</td>\n",
       "      <td>10.0</td>\n",
       "      <td>73.0</td>\n",
       "      <td>9.0</td>\n",
       "      <td>1.0</td>\n",
       "      <td>1810.49</td>\n",
       "      <td>Москва</td>\n",
       "      <td>smart</td>\n",
       "      <td>50</td>\n",
       "      <td>15360</td>\n",
       "      <td>500</td>\n",
       "      <td>550</td>\n",
       "      <td>200</td>\n",
       "      <td>3</td>\n",
       "      <td>3</td>\n",
       "      <td>550.0</td>\n",
       "    </tr>\n",
       "    <tr>\n",
       "      <th>2057</th>\n",
       "      <td>1228</td>\n",
       "      <td>11.0</td>\n",
       "      <td>362.0</td>\n",
       "      <td>63.0</td>\n",
       "      <td>0.0</td>\n",
       "      <td>14706.06</td>\n",
       "      <td>Нижний Новгород</td>\n",
       "      <td>smart</td>\n",
       "      <td>50</td>\n",
       "      <td>15360</td>\n",
       "      <td>500</td>\n",
       "      <td>550</td>\n",
       "      <td>200</td>\n",
       "      <td>3</td>\n",
       "      <td>3</td>\n",
       "      <td>550.0</td>\n",
       "    </tr>\n",
       "    <tr>\n",
       "      <th>2055</th>\n",
       "      <td>1228</td>\n",
       "      <td>9.0</td>\n",
       "      <td>382.0</td>\n",
       "      <td>64.0</td>\n",
       "      <td>0.0</td>\n",
       "      <td>11460.21</td>\n",
       "      <td>Нижний Новгород</td>\n",
       "      <td>smart</td>\n",
       "      <td>50</td>\n",
       "      <td>15360</td>\n",
       "      <td>500</td>\n",
       "      <td>550</td>\n",
       "      <td>200</td>\n",
       "      <td>3</td>\n",
       "      <td>3</td>\n",
       "      <td>550.0</td>\n",
       "    </tr>\n",
       "  </tbody>\n",
       "</table>\n",
       "</div>"
      ],
      "text/plain": [
       "      user_id  month  month_calls_duration  calls_total_in_month  \\\n",
       "3215     1371   12.0                   0.0                   0.0   \n",
       "2062     1230    9.0                 249.0                  34.0   \n",
       "2059     1229   10.0                  73.0                   9.0   \n",
       "2057     1228   11.0                 362.0                  63.0   \n",
       "2055     1228    9.0                 382.0                  64.0   \n",
       "\n",
       "      messages_total_in_month  mb_total_in_month             city tariff  \\\n",
       "3215                      0.0               0.00             Омск  smart   \n",
       "2062                     10.0            8858.98            Томск  smart   \n",
       "2059                      1.0            1810.49           Москва  smart   \n",
       "2057                      0.0           14706.06  Нижний Новгород  smart   \n",
       "2055                      0.0           11460.21  Нижний Новгород  smart   \n",
       "\n",
       "      messages_included  mb_per_month_included  minutes_included  \\\n",
       "3215                 50                  15360               500   \n",
       "2062                 50                  15360               500   \n",
       "2059                 50                  15360               500   \n",
       "2057                 50                  15360               500   \n",
       "2055                 50                  15360               500   \n",
       "\n",
       "      rub_monthly_fee  rub_per_gb  rub_per_message  rub_per_minute  summa  \n",
       "3215              550         200                3               3  550.0  \n",
       "2062              550         200                3               3  550.0  \n",
       "2059              550         200                3               3  550.0  \n",
       "2057              550         200                3               3  550.0  \n",
       "2055              550         200                3               3  550.0  "
      ]
     },
     "execution_count": 47,
     "metadata": {},
     "output_type": "execute_result"
    }
   ],
   "source": [
    "data['summa'] = data.apply(lambda x: summa(x), axis=1)\n",
    "data.sort_values(by='summa').head()"
   ]
  },
  {
   "cell_type": "code",
   "execution_count": 48,
   "metadata": {},
   "outputs": [
    {
     "data": {
      "text/html": [
       "<div>\n",
       "<style scoped>\n",
       "    .dataframe tbody tr th:only-of-type {\n",
       "        vertical-align: middle;\n",
       "    }\n",
       "\n",
       "    .dataframe tbody tr th {\n",
       "        vertical-align: top;\n",
       "    }\n",
       "\n",
       "    .dataframe thead th {\n",
       "        text-align: right;\n",
       "    }\n",
       "</style>\n",
       "<table border=\"1\" class=\"dataframe\">\n",
       "  <thead>\n",
       "    <tr style=\"text-align: right;\">\n",
       "      <th></th>\n",
       "      <th>user_id</th>\n",
       "      <th>month</th>\n",
       "      <th>month_calls_duration</th>\n",
       "      <th>calls_total_in_month</th>\n",
       "      <th>messages_total_in_month</th>\n",
       "      <th>mb_total_in_month</th>\n",
       "      <th>city</th>\n",
       "      <th>tariff</th>\n",
       "      <th>messages_included</th>\n",
       "      <th>mb_per_month_included</th>\n",
       "      <th>minutes_included</th>\n",
       "      <th>rub_monthly_fee</th>\n",
       "      <th>rub_per_gb</th>\n",
       "      <th>rub_per_message</th>\n",
       "      <th>rub_per_minute</th>\n",
       "      <th>summa</th>\n",
       "    </tr>\n",
       "  </thead>\n",
       "  <tbody>\n",
       "    <tr>\n",
       "      <th>988</th>\n",
       "      <td>1002</td>\n",
       "      <td>6.0</td>\n",
       "      <td>103.0</td>\n",
       "      <td>15.0</td>\n",
       "      <td>4.0</td>\n",
       "      <td>10856.82</td>\n",
       "      <td>Стерлитамак</td>\n",
       "      <td>smart</td>\n",
       "      <td>50</td>\n",
       "      <td>15360</td>\n",
       "      <td>500</td>\n",
       "      <td>550</td>\n",
       "      <td>200</td>\n",
       "      <td>3</td>\n",
       "      <td>3</td>\n",
       "      <td>550.0</td>\n",
       "    </tr>\n",
       "    <tr>\n",
       "      <th>989</th>\n",
       "      <td>1002</td>\n",
       "      <td>7.0</td>\n",
       "      <td>193.0</td>\n",
       "      <td>26.0</td>\n",
       "      <td>11.0</td>\n",
       "      <td>17580.10</td>\n",
       "      <td>Стерлитамак</td>\n",
       "      <td>smart</td>\n",
       "      <td>50</td>\n",
       "      <td>15360</td>\n",
       "      <td>500</td>\n",
       "      <td>550</td>\n",
       "      <td>200</td>\n",
       "      <td>3</td>\n",
       "      <td>3</td>\n",
       "      <td>1150.0</td>\n",
       "    </tr>\n",
       "    <tr>\n",
       "      <th>990</th>\n",
       "      <td>1002</td>\n",
       "      <td>8.0</td>\n",
       "      <td>254.0</td>\n",
       "      <td>42.0</td>\n",
       "      <td>13.0</td>\n",
       "      <td>20319.26</td>\n",
       "      <td>Стерлитамак</td>\n",
       "      <td>smart</td>\n",
       "      <td>50</td>\n",
       "      <td>15360</td>\n",
       "      <td>500</td>\n",
       "      <td>550</td>\n",
       "      <td>200</td>\n",
       "      <td>3</td>\n",
       "      <td>3</td>\n",
       "      <td>1550.0</td>\n",
       "    </tr>\n",
       "    <tr>\n",
       "      <th>991</th>\n",
       "      <td>1002</td>\n",
       "      <td>9.0</td>\n",
       "      <td>182.0</td>\n",
       "      <td>36.0</td>\n",
       "      <td>4.0</td>\n",
       "      <td>16691.08</td>\n",
       "      <td>Стерлитамак</td>\n",
       "      <td>smart</td>\n",
       "      <td>50</td>\n",
       "      <td>15360</td>\n",
       "      <td>500</td>\n",
       "      <td>550</td>\n",
       "      <td>200</td>\n",
       "      <td>3</td>\n",
       "      <td>3</td>\n",
       "      <td>950.0</td>\n",
       "    </tr>\n",
       "    <tr>\n",
       "      <th>992</th>\n",
       "      <td>1002</td>\n",
       "      <td>10.0</td>\n",
       "      <td>188.0</td>\n",
       "      <td>33.0</td>\n",
       "      <td>10.0</td>\n",
       "      <td>13888.25</td>\n",
       "      <td>Стерлитамак</td>\n",
       "      <td>smart</td>\n",
       "      <td>50</td>\n",
       "      <td>15360</td>\n",
       "      <td>500</td>\n",
       "      <td>550</td>\n",
       "      <td>200</td>\n",
       "      <td>3</td>\n",
       "      <td>3</td>\n",
       "      <td>550.0</td>\n",
       "    </tr>\n",
       "    <tr>\n",
       "      <th>993</th>\n",
       "      <td>1002</td>\n",
       "      <td>11.0</td>\n",
       "      <td>218.0</td>\n",
       "      <td>32.0</td>\n",
       "      <td>16.0</td>\n",
       "      <td>18587.28</td>\n",
       "      <td>Стерлитамак</td>\n",
       "      <td>smart</td>\n",
       "      <td>50</td>\n",
       "      <td>15360</td>\n",
       "      <td>500</td>\n",
       "      <td>550</td>\n",
       "      <td>200</td>\n",
       "      <td>3</td>\n",
       "      <td>3</td>\n",
       "      <td>1350.0</td>\n",
       "    </tr>\n",
       "    <tr>\n",
       "      <th>994</th>\n",
       "      <td>1002</td>\n",
       "      <td>12.0</td>\n",
       "      <td>209.0</td>\n",
       "      <td>33.0</td>\n",
       "      <td>12.0</td>\n",
       "      <td>18113.73</td>\n",
       "      <td>Стерлитамак</td>\n",
       "      <td>smart</td>\n",
       "      <td>50</td>\n",
       "      <td>15360</td>\n",
       "      <td>500</td>\n",
       "      <td>550</td>\n",
       "      <td>200</td>\n",
       "      <td>3</td>\n",
       "      <td>3</td>\n",
       "      <td>1150.0</td>\n",
       "    </tr>\n",
       "  </tbody>\n",
       "</table>\n",
       "</div>"
      ],
      "text/plain": [
       "     user_id  month  month_calls_duration  calls_total_in_month  \\\n",
       "988     1002    6.0                 103.0                  15.0   \n",
       "989     1002    7.0                 193.0                  26.0   \n",
       "990     1002    8.0                 254.0                  42.0   \n",
       "991     1002    9.0                 182.0                  36.0   \n",
       "992     1002   10.0                 188.0                  33.0   \n",
       "993     1002   11.0                 218.0                  32.0   \n",
       "994     1002   12.0                 209.0                  33.0   \n",
       "\n",
       "     messages_total_in_month  mb_total_in_month         city tariff  \\\n",
       "988                      4.0           10856.82  Стерлитамак  smart   \n",
       "989                     11.0           17580.10  Стерлитамак  smart   \n",
       "990                     13.0           20319.26  Стерлитамак  smart   \n",
       "991                      4.0           16691.08  Стерлитамак  smart   \n",
       "992                     10.0           13888.25  Стерлитамак  smart   \n",
       "993                     16.0           18587.28  Стерлитамак  smart   \n",
       "994                     12.0           18113.73  Стерлитамак  smart   \n",
       "\n",
       "     messages_included  mb_per_month_included  minutes_included  \\\n",
       "988                 50                  15360               500   \n",
       "989                 50                  15360               500   \n",
       "990                 50                  15360               500   \n",
       "991                 50                  15360               500   \n",
       "992                 50                  15360               500   \n",
       "993                 50                  15360               500   \n",
       "994                 50                  15360               500   \n",
       "\n",
       "     rub_monthly_fee  rub_per_gb  rub_per_message  rub_per_minute   summa  \n",
       "988              550         200                3               3   550.0  \n",
       "989              550         200                3               3  1150.0  \n",
       "990              550         200                3               3  1550.0  \n",
       "991              550         200                3               3   950.0  \n",
       "992              550         200                3               3   550.0  \n",
       "993              550         200                3               3  1350.0  \n",
       "994              550         200                3               3  1150.0  "
      ]
     },
     "execution_count": 48,
     "metadata": {},
     "output_type": "execute_result"
    }
   ],
   "source": [
    "data.loc[data['user_id'] == 1002]"
   ]
  },
  {
   "cell_type": "markdown",
   "metadata": {},
   "source": [
    "## Анализ данных"
   ]
  },
  {
   "cell_type": "markdown",
   "metadata": {},
   "source": [
    "- Опишите поведение клиентов оператора, исходя из выборки.\n",
    "- Сколько минут разговора, сколько сообщений и какой объём интернет-трафика требуется пользователям каждого тарифа в месяц? \n",
    "- Посчитайте среднее количество, дисперсию и стандартное отклонение. \n",
    "- Постройте гистограммы. Опишите распределения."
   ]
  },
  {
   "cell_type": "code",
   "execution_count": 49,
   "metadata": {},
   "outputs": [
    {
     "data": {
      "text/plain": [
       "count    3216.000000\n",
       "mean     1487.697450\n",
       "std       788.051713\n",
       "min       550.000000\n",
       "25%       696.250000\n",
       "50%      1550.000000\n",
       "75%      1950.000000\n",
       "max      6425.000000\n",
       "Name: summa, dtype: float64"
      ]
     },
     "execution_count": 49,
     "metadata": {},
     "output_type": "execute_result"
    }
   ],
   "source": [
    "data['summa'].describe()"
   ]
  },
  {
   "cell_type": "code",
   "execution_count": 50,
   "metadata": {},
   "outputs": [
    {
     "data": {
      "text/plain": [
       "smart    2230\n",
       "ultra     986\n",
       "Name: tariff, dtype: int64"
      ]
     },
     "execution_count": 50,
     "metadata": {},
     "output_type": "execute_result"
    }
   ],
   "source": [
    "data['tariff'].value_counts()"
   ]
  },
  {
   "cell_type": "code",
   "execution_count": 51,
   "metadata": {},
   "outputs": [
    {
     "data": {
      "text/plain": [
       "(0.0, 7000.0)"
      ]
     },
     "execution_count": 51,
     "metadata": {},
     "output_type": "execute_result"
    },
    {
     "data": {
      "image/png": "[encoded data removed]",
      "text/plain": [
       "<Figure size 720x720 with 1 Axes>"
      ]
     },
     "metadata": {
      "needs_background": "light"
     },
     "output_type": "display_data"
    }
   ],
   "source": [
    "data.boxplot('summa', by='tariff', figsize=(10,10)).set_ylim(0,7000)"
   ]
  },
  {
   "cell_type": "code",
   "execution_count": 52,
   "metadata": {},
   "outputs": [
    {
     "data": {
      "image/png": "[encoded data removed]",
      "text/plain": [
       "<Figure size 432x288 with 2 Axes>"
      ]
     },
     "metadata": {
      "needs_background": "light"
     },
     "output_type": "display_data"
    }
   ],
   "source": [
    "plt.subplot(1,2,1)\n",
    "data[data['tariff'] == 'ultra']['summa'].plot(kind='hist', bins=10)\n",
    "plt.title('Ultra');\n",
    "plt.subplot(1,2,2)\n",
    "data[data['tariff'] == 'smart']['summa'].plot(kind='hist', bins=10)\n",
    "plt.title('Smart');"
   ]
  },
  {
   "cell_type": "code",
   "execution_count": 53,
   "metadata": {},
   "outputs": [
    {
     "data": {
      "text/html": [
       "<style  type=\"text/css\" >\n",
       "</style><table id=\"T_90537_\" ><thead>    <tr>        <th class=\"blank level0\" ></th>        <th class=\"col_heading level0 col0\" colspan=\"4\">summa</th>    </tr>    <tr>        <th class=\"blank level1\" ></th>        <th class=\"col_heading level1 col0\" >median</th>        <th class=\"col_heading level1 col1\" >mean</th>        <th class=\"col_heading level1 col2\" >var</th>        <th class=\"col_heading level1 col3\" >std</th>    </tr>    <tr>        <th class=\"index_name level0\" >tariff</th>        <th class=\"blank\" ></th>        <th class=\"blank\" ></th>        <th class=\"blank\" ></th>        <th class=\"blank\" ></th>    </tr></thead><tbody>\n",
       "                <tr>\n",
       "                        <th id=\"T_90537_level0_row0\" class=\"row_heading level0 row0\" >smart</th>\n",
       "                        <td id=\"T_90537_row0_col0\" class=\"data row0 col0\" >950.00</td>\n",
       "                        <td id=\"T_90537_row0_col1\" class=\"data row0 col1\" >1230.22</td>\n",
       "                        <td id=\"T_90537_row0_col2\" class=\"data row0 col2\" >616925.10</td>\n",
       "                        <td id=\"T_90537_row0_col3\" class=\"data row0 col3\" >785.45</td>\n",
       "            </tr>\n",
       "            <tr>\n",
       "                        <th id=\"T_90537_level0_row1\" class=\"row_heading level0 row1\" >ultra</th>\n",
       "                        <td id=\"T_90537_row1_col0\" class=\"data row1 col0\" >1950.00</td>\n",
       "                        <td id=\"T_90537_row1_col1\" class=\"data row1 col1\" >2070.03</td>\n",
       "                        <td id=\"T_90537_row1_col2\" class=\"data row1 col2\" >141387.71</td>\n",
       "                        <td id=\"T_90537_row1_col3\" class=\"data row1 col3\" >376.02</td>\n",
       "            </tr>\n",
       "    </tbody></table>"
      ],
      "text/plain": [
       "<pandas.io.formats.style.Styler at 0x7f9011d2c310>"
      ]
     },
     "execution_count": 53,
     "metadata": {},
     "output_type": "execute_result"
    }
   ],
   "source": [
    "data.groupby('tariff').agg({'summa':['median','mean','var','std']}).style.format(\"{:.2f}\")"
   ]
  },
  {
   "cell_type": "code",
   "execution_count": 54,
   "metadata": {
    "scrolled": true
   },
   "outputs": [
    {
     "data": {
      "text/html": [
       "<style  type=\"text/css\" >\n",
       "</style><table id=\"T_b000a_\" ><thead>    <tr>        <th class=\"blank level0\" ></th>        <th class=\"col_heading level0 col0\" colspan=\"4\">month_calls_duration</th>    </tr>    <tr>        <th class=\"blank level1\" ></th>        <th class=\"col_heading level1 col0\" >median</th>        <th class=\"col_heading level1 col1\" >mean</th>        <th class=\"col_heading level1 col2\" >var</th>        <th class=\"col_heading level1 col3\" >std</th>    </tr>    <tr>        <th class=\"index_name level0\" >tariff</th>        <th class=\"blank\" ></th>        <th class=\"blank\" ></th>        <th class=\"blank\" ></th>        <th class=\"blank\" ></th>    </tr></thead><tbody>\n",
       "                <tr>\n",
       "                        <th id=\"T_b000a_level0_row0\" class=\"row_heading level0 row0\" >smart</th>\n",
       "                        <td id=\"T_b000a_row0_col0\" class=\"data row0 col0\" >375.00</td>\n",
       "                        <td id=\"T_b000a_row0_col1\" class=\"data row0 col1\" >371.28</td>\n",
       "                        <td id=\"T_b000a_row0_col2\" class=\"data row0 col2\" >28909.87</td>\n",
       "                        <td id=\"T_b000a_row0_col3\" class=\"data row0 col3\" >170.03</td>\n",
       "            </tr>\n",
       "            <tr>\n",
       "                        <th id=\"T_b000a_level0_row1\" class=\"row_heading level0 row1\" >ultra</th>\n",
       "                        <td id=\"T_b000a_row1_col0\" class=\"data row1 col0\" >457.50</td>\n",
       "                        <td id=\"T_b000a_row1_col1\" class=\"data row1 col1\" >467.45</td>\n",
       "                        <td id=\"T_b000a_row1_col2\" class=\"data row1 col2\" >80037.89</td>\n",
       "                        <td id=\"T_b000a_row1_col3\" class=\"data row1 col3\" >282.91</td>\n",
       "            </tr>\n",
       "    </tbody></table>"
      ],
      "text/plain": [
       "<pandas.io.formats.style.Styler at 0x7f90143477c0>"
      ]
     },
     "execution_count": 54,
     "metadata": {},
     "output_type": "execute_result"
    }
   ],
   "source": [
    "data.groupby('tariff').agg({'month_calls_duration':['median','mean','var','std']}).style.format(\"{:.2f}\")"
   ]
  },
  {
   "cell_type": "code",
   "execution_count": 55,
   "metadata": {},
   "outputs": [
    {
     "data": {
      "image/png": "[encoded data removed]",
      "text/plain": [
       "<Figure size 432x288 with 2 Axes>"
      ]
     },
     "metadata": {
      "needs_background": "light"
     },
     "output_type": "display_data"
    }
   ],
   "source": [
    "plt.subplot(1,2,1)\n",
    "data[data['tariff'] == 'smart']['month_calls_duration'].plot(kind='hist', bins=10)\n",
    "plt.title('Смарт — Звонки в минутах в месяц');\n",
    "plt.subplot(1,2,2)\n",
    "data[data['tariff'] == 'ultra']['month_calls_duration'].plot(kind='hist', bins=10)\n",
    "plt.title('Ультра — Звонки в минутах в месяц');"
   ]
  },
  {
   "cell_type": "markdown",
   "metadata": {},
   "source": [
    "Пользователи тарифа Смарт превышают предел по звонкам довольно часто, а пользователи Ультра еле-еле доходят до половины."
   ]
  },
  {
   "cell_type": "code",
   "execution_count": 56,
   "metadata": {
    "scrolled": true
   },
   "outputs": [
    {
     "data": {
      "text/html": [
       "<style  type=\"text/css\" >\n",
       "</style><table id=\"T_5f448_\" ><thead>    <tr>        <th class=\"blank level0\" ></th>        <th class=\"col_heading level0 col0\" colspan=\"4\">mb_total_in_month</th>    </tr>    <tr>        <th class=\"blank level1\" ></th>        <th class=\"col_heading level1 col0\" >median</th>        <th class=\"col_heading level1 col1\" >mean</th>        <th class=\"col_heading level1 col2\" >var</th>        <th class=\"col_heading level1 col3\" >std</th>    </tr>    <tr>        <th class=\"index_name level0\" >tariff</th>        <th class=\"blank\" ></th>        <th class=\"blank\" ></th>        <th class=\"blank\" ></th>        <th class=\"blank\" ></th>    </tr></thead><tbody>\n",
       "                <tr>\n",
       "                        <th id=\"T_5f448_level0_row0\" class=\"row_heading level0 row0\" >smart</th>\n",
       "                        <td id=\"T_5f448_row0_col0\" class=\"data row0 col0\" >16505.47</td>\n",
       "                        <td id=\"T_5f448_row0_col1\" class=\"data row0 col1\" >16201.12</td>\n",
       "                        <td id=\"T_5f448_row0_col2\" class=\"data row0 col2\" >34564843.48</td>\n",
       "                        <td id=\"T_5f448_row0_col3\" class=\"data row0 col3\" >5879.19</td>\n",
       "            </tr>\n",
       "            <tr>\n",
       "                        <th id=\"T_5f448_level0_row1\" class=\"row_heading level0 row1\" >ultra</th>\n",
       "                        <td id=\"T_5f448_row1_col0\" class=\"data row1 col0\" >19304.02</td>\n",
       "                        <td id=\"T_5f448_row1_col1\" class=\"data row1 col1\" >19449.06</td>\n",
       "                        <td id=\"T_5f448_row1_col2\" class=\"data row1 col2\" >102032129.46</td>\n",
       "                        <td id=\"T_5f448_row1_col3\" class=\"data row1 col3\" >10101.10</td>\n",
       "            </tr>\n",
       "    </tbody></table>"
      ],
      "text/plain": [
       "<pandas.io.formats.style.Styler at 0x7f90140fa880>"
      ]
     },
     "execution_count": 56,
     "metadata": {},
     "output_type": "execute_result"
    }
   ],
   "source": [
    "data.groupby('tariff').agg({'mb_total_in_month':['median','mean','var','std']}).style.format(\"{:.2f}\")"
   ]
  },
  {
   "cell_type": "code",
   "execution_count": 57,
   "metadata": {},
   "outputs": [
    {
     "data": {
      "image/png": "[encoded data removed]",
      "text/plain": [
       "<Figure size 432x288 with 2 Axes>"
      ]
     },
     "metadata": {
      "needs_background": "light"
     },
     "output_type": "display_data"
    }
   ],
   "source": [
    "plt.subplot(1,2,1)\n",
    "data[data['tariff'] == 'smart']['mb_total_in_month'].plot(kind='hist', bins=10)\n",
    "plt.title('Смарт — Интернет в МБ в месяц');\n",
    "plt.subplot(1,2,2)\n",
    "data[data['tariff'] == 'ultra']['mb_total_in_month'].plot(kind='hist', bins=10)\n",
    "plt.title('Ультра — Интернет в МБ в месяц');"
   ]
  },
  {
   "cell_type": "markdown",
   "metadata": {},
   "source": [
    "Пользователи тарифа Смарт выходят за лимит по интернету чаще пользователей тарифа Ультра, так как вершина распределения  находится после лимита в 15000, в то время как у Ультра большая часть распределения находится в пределах нормы."
   ]
  },
  {
   "cell_type": "code",
   "execution_count": 58,
   "metadata": {
    "scrolled": true
   },
   "outputs": [
    {
     "data": {
      "text/html": [
       "<style  type=\"text/css\" >\n",
       "</style><table id=\"T_4ba25_\" ><thead>    <tr>        <th class=\"blank level0\" ></th>        <th class=\"col_heading level0 col0\" colspan=\"4\">messages_total_in_month</th>    </tr>    <tr>        <th class=\"blank level1\" ></th>        <th class=\"col_heading level1 col0\" >median</th>        <th class=\"col_heading level1 col1\" >mean</th>        <th class=\"col_heading level1 col2\" >var</th>        <th class=\"col_heading level1 col3\" >std</th>    </tr>    <tr>        <th class=\"index_name level0\" >tariff</th>        <th class=\"blank\" ></th>        <th class=\"blank\" ></th>        <th class=\"blank\" ></th>        <th class=\"blank\" ></th>    </tr></thead><tbody>\n",
       "                <tr>\n",
       "                        <th id=\"T_4ba25_level0_row0\" class=\"row_heading level0 row0\" >smart</th>\n",
       "                        <td id=\"T_4ba25_row0_col0\" class=\"data row0 col0\" >28.00</td>\n",
       "                        <td id=\"T_4ba25_row0_col1\" class=\"data row0 col1\" >33.37</td>\n",
       "                        <td id=\"T_4ba25_row0_col2\" class=\"data row0 col2\" >796.96</td>\n",
       "                        <td id=\"T_4ba25_row0_col3\" class=\"data row0 col3\" >28.23</td>\n",
       "            </tr>\n",
       "            <tr>\n",
       "                        <th id=\"T_4ba25_level0_row1\" class=\"row_heading level0 row1\" >ultra</th>\n",
       "                        <td id=\"T_4ba25_row1_col0\" class=\"data row1 col0\" >38.00</td>\n",
       "                        <td id=\"T_4ba25_row1_col1\" class=\"data row1 col1\" >49.31</td>\n",
       "                        <td id=\"T_4ba25_row1_col2\" class=\"data row1 col2\" >2285.42</td>\n",
       "                        <td id=\"T_4ba25_row1_col3\" class=\"data row1 col3\" >47.81</td>\n",
       "            </tr>\n",
       "    </tbody></table>"
      ],
      "text/plain": [
       "<pandas.io.formats.style.Styler at 0x7f9014102e80>"
      ]
     },
     "execution_count": 58,
     "metadata": {},
     "output_type": "execute_result"
    }
   ],
   "source": [
    "data.groupby('tariff').agg({'messages_total_in_month':['median','mean','var','std']}).style.format(\"{:.2f}\")"
   ]
  },
  {
   "cell_type": "code",
   "execution_count": 59,
   "metadata": {},
   "outputs": [
    {
     "data": {
      "image/png": "[encoded data removed]",
      "text/plain": [
       "<Figure size 432x288 with 2 Axes>"
      ]
     },
     "metadata": {
      "needs_background": "light"
     },
     "output_type": "display_data"
    }
   ],
   "source": [
    "plt.subplot(1,2,1)\n",
    "data[data['tariff'] == 'smart']['messages_total_in_month'].plot(kind='hist', bins=10)\n",
    "plt.title('Смарт — CMC в месяц');\n",
    "plt.subplot(1,2,2)\n",
    "data[data['tariff'] == 'ultra']['messages_total_in_month'].plot(kind='hist', bins=10)\n",
    "plt.title('Ультра — CMC в месяц');"
   ]
  },
  {
   "cell_type": "markdown",
   "metadata": {},
   "source": [
    "Пользователи тарифа Смарт постоянно выходят за лимит по СМС, в то время как пользователи Ультра еле-еле набирают пятую часть."
   ]
  },
  {
   "cell_type": "markdown",
   "metadata": {},
   "source": [
    "- Опишите поведение клиентов оператора, исходя из выборки.\n",
    "Если вкратце, то пользователи Смарт практически всегда вынуждены переплачивать, в то время как пользователи Ультра не используют большую часть услуг.\n",
    "- Сколько минут разговора, сколько сообщений и какой объём интернет-трафика требуется пользователям каждого тарифа в месяц? \n",
    "Минут: 800 Смарт, 1200 Ультра\n",
    "Сообщений: 150 Смарт, 200 Ультра\n",
    "Интернет: 25 Смарт, 40 Ультра\n",
    "- Посчитайте среднее количество, дисперсию и стандартное отклонение. \n",
    "Посчитано при помощи agg\n",
    "- Постройте гистограммы. Опишите распределения."
   ]
  },
  {
   "cell_type": "markdown",
   "metadata": {},
   "source": [
    "## Проверка гипотез"
   ]
  },
  {
   "cell_type": "markdown",
   "metadata": {},
   "source": [
    "### Гипотезы\n",
    "- средняя выручка пользователей тарифов «Ультра» и «Смарт» различаются;\n",
    "- средняя выручка пользователей из Москвы отличается от выручки пользователей из других регионов."
   ]
  },
  {
   "cell_type": "markdown",
   "metadata": {},
   "source": [
    "Функция для удаления выбивающихся значений:"
   ]
  },
  {
   "cell_type": "code",
   "execution_count": 60,
   "metadata": {},
   "outputs": [],
   "source": [
    "def delete_outliers(data, column, graphic=0, x = 10, y = 10):\n",
    "    q1 = data[column].quantile(0.25)                 \n",
    "    q3 = data[column].quantile(0.75)\n",
    "    iqr = q3 - q1\n",
    "    iqr_test = (data[column] >= (q1 - 1.5 * iqr)) & (data[column] <= (q3 + 1.5 * iqr))\n",
    "    if graphic == 1:\n",
    "        return data.loc[iqr_test].boxplot([column], figsize=(x,y))\n",
    "    else:\n",
    "        return data.loc[iqr_test]"
   ]
  },
  {
   "cell_type": "markdown",
   "metadata": {},
   "source": [
    "<strong>Сформулируем гипотезы:</strong>\n",
    "<br>\n",
    "H0:средняя выручка пользователей тарифов «Ультра» и «Смарт» не различается;\n",
    "<br>\n",
    "H1:средняя выручка пользователей тарифов «Ультра» и «Смарт» различается;"
   ]
  },
  {
   "cell_type": "code",
   "execution_count": 61,
   "metadata": {},
   "outputs": [],
   "source": [
    "ultra = data[data['tariff'] == 'ultra']\n",
    "smart = data[data['tariff'] == 'smart']\n",
    "ultra = ultra['summa']\n",
    "smart = smart['summa']"
   ]
  },
  {
   "cell_type": "code",
   "execution_count": 62,
   "metadata": {},
   "outputs": [],
   "source": [
    "alpha = 0.05"
   ]
  },
  {
   "cell_type": "code",
   "execution_count": 63,
   "metadata": {
    "scrolled": true
   },
   "outputs": [
    {
     "name": "stdout",
     "output_type": "stream",
     "text": [
      "p-значение: 3.413402679754156e-195\n",
      "Отвергаем нулевую гипотезу\n"
     ]
    }
   ],
   "source": [
    "results = st.ttest_ind(ultra, smart)\n",
    "\n",
    "print('p-значение:', results.pvalue)\n",
    "if (results.pvalue < alpha):\n",
    "    print(\"Отвергаем нулевую гипотезу\")\n",
    "else:\n",
    "    print(\"Не можем отвергнуть нулевую гипотезу\")"
   ]
  },
  {
   "cell_type": "markdown",
   "metadata": {},
   "source": [
    "<strong>Сформулируем гипотезы:</strong>\n",
    "<br>\n",
    "H0: средняя выручка пользователей из Москвы не отличается от выручки пользователей из других регионов\n",
    "<br>\n",
    "H1: средняя выручка пользователей из Москвы отличается от выручки пользователей из других регионов"
   ]
  },
  {
   "cell_type": "code",
   "execution_count": 64,
   "metadata": {},
   "outputs": [],
   "source": [
    "data['region'] = np.where(data['city'] == 'Москва', 'Москва', 'Регион')"
   ]
  },
  {
   "cell_type": "code",
   "execution_count": 65,
   "metadata": {},
   "outputs": [],
   "source": [
    "moscow = data[data['region'] == 'Москва']\n",
    "region = data[data['region'] == 'Регион']\n",
    "moscow = moscow['summa']\n",
    "region = region['summa']"
   ]
  },
  {
   "cell_type": "code",
   "execution_count": 66,
   "metadata": {},
   "outputs": [
    {
     "name": "stdout",
     "output_type": "stream",
     "text": [
      "p-значение: 0.44649322481627274\n",
      "Не можем отвергнуть нулевую гипотезу\n"
     ]
    }
   ],
   "source": [
    "results = st.ttest_ind(moscow, region)\n",
    "\n",
    "print('p-значение:', results.pvalue)\n",
    "if (results.pvalue < alpha):\n",
    "    print(\"Отвергаем нулевую гипотезу\")\n",
    "else:\n",
    "    print(\"Не можем отвергнуть нулевую гипотезу\")"
   ]
  },
  {
   "cell_type": "markdown",
   "metadata": {},
   "source": [
    "### Пояснения\n",
    "- как вы формулировали нулевую и альтернативную гипотезы\n",
    "- какой критерий использовали для проверки гипотез и почему"
   ]
  },
  {
   "cell_type": "markdown",
   "metadata": {},
   "source": [
    "Нулевая гипотеза это утверждение обратное, изначально предложенному и принимаем по умолчанию, пока не будет доказано обратное.\n",
    "Альтернативная гипотеза в данном задании это предложенная изначально.\n",
    "\n",
    "Оба случая рассматривают равенство средних двух <strong>независимых</strong> генеральных совокупностей. Поэтому используем критерий Стьюдента."
   ]
  },
  {
   "cell_type": "markdown",
   "metadata": {},
   "source": [
    "## Общий вывод"
   ]
  },
  {
   "cell_type": "markdown",
   "metadata": {},
   "source": [
    "Люди на разных тарифах ведут себя по-разному, что наверно и хорошо. Так и должно работать сегментирование. Но и переплачивают, а это, особенно в Смарте, может приводить к разочарованию и оттоку.\n",
    "\n",
    "- СМС-ки не особо пользуются популяоностью на тарифе Ультра. Если в Смарте люди близки к максимуму по использованию, то на Ультра люди не пользуются большей частью. Имеет смысл пересмотреть условия тарифа.\n",
    "\n",
    "- Выручка из регионов и из Москвы не отличается, что заметно из исследования в предыдущем модуле, где 44,6% реузльтатов можно было объяснить случайностью при alpha = 0.05 уровне значимости. Приблизительное равенство выручки можно объяснить тем, что в процентном соотношении жители регионов и мегаполиса Москва пользуются услугами сотового оператора +/- одинаково.\n",
    "\n",
    "- Альтернативная гипотеза о том, что выручка с тарифов Смарт и Ультра отличается была принята, так как показала низкую погрешность. Разность выручки можно объяснить плохо сбалансироваными тарифными условиями. На первый взгляд тариф Ультра перегружен и люди попросту не могут потратить большую часть доступных услуг."
   ]
  },
  {
   "cell_type": "markdown",
   "metadata": {},
   "source": [
    "### Рекомендации\n",
    "- Оптимизировать тарифы сделать может сделать более низкую цену на Ультра, но в тоже время убрать часть ненужных минут, сообщений и гигабайтов. Дисбаланс тарифов показан в модуле Анализ. В любой ситуации Смарт приносит больше денег. Очень часто пользователи этого тарифа превышают выделенные им услуги и вынужденны переплачивать, чем пользователи тарифа Ультра. В это время, Ультра тариф перенасыщен услугами слишком сильно, пользователи не успевают использовать большую часть из них. Как следствие, они не переплачивают."
   ]
  },
  {
   "cell_type": "markdown",
   "metadata": {},
   "source": [
    "### Какой тариф лучше?"
   ]
  },
  {
   "cell_type": "markdown",
   "metadata": {},
   "source": [
    "По показателю total_paid на графике видно, что пользователи Smart чаще платят больше нежели пользователи Ultra. Сама переплата на тарифе Smart в 3 раза больше, чем на Ultra, поэтому выгодней для оператора будет рекламировать Smart."
   ]
  }
 ],
 "metadata": {
  "ExecuteTimeLog": [
   {
    "duration": 4,
    "start_time": "2022-05-10T14:21:04.924Z"
   },
   {
    "duration": 2090,
    "start_time": "2022-05-10T14:40:08.604Z"
   },
   {
    "duration": 528,
    "start_time": "2022-05-10T14:43:40.735Z"
   },
   {
    "duration": 34,
    "start_time": "2022-05-10T14:45:55.260Z"
   },
   {
    "duration": 17,
    "start_time": "2022-05-10T14:46:13.378Z"
   },
   {
    "duration": 23,
    "start_time": "2022-05-10T14:46:37.784Z"
   },
   {
    "duration": 18,
    "start_time": "2022-05-10T14:47:40.831Z"
   },
   {
    "duration": 10,
    "start_time": "2022-05-10T14:48:41.525Z"
   },
   {
    "duration": 18,
    "start_time": "2022-05-10T14:49:04.051Z"
   },
   {
    "duration": 45,
    "start_time": "2022-05-10T14:52:23.965Z"
   },
   {
    "duration": 55,
    "start_time": "2022-05-10T14:54:29.992Z"
   },
   {
    "duration": 39,
    "start_time": "2022-05-10T14:55:07.750Z"
   },
   {
    "duration": 34,
    "start_time": "2022-05-10T14:55:07.987Z"
   },
   {
    "duration": 14,
    "start_time": "2022-05-10T14:55:25.916Z"
   },
   {
    "duration": 14,
    "start_time": "2022-05-10T14:55:34.615Z"
   },
   {
    "duration": 58,
    "start_time": "2022-05-10T15:00:49.330Z"
   },
   {
    "duration": 21,
    "start_time": "2022-05-10T15:00:59.393Z"
   },
   {
    "duration": 17,
    "start_time": "2022-05-10T15:01:09.978Z"
   },
   {
    "duration": 8,
    "start_time": "2022-05-10T15:03:16.537Z"
   },
   {
    "duration": 12,
    "start_time": "2022-05-10T15:03:17.466Z"
   },
   {
    "duration": 12,
    "start_time": "2022-05-10T15:03:19.129Z"
   },
   {
    "duration": 29,
    "start_time": "2022-05-10T15:22:49.584Z"
   },
   {
    "duration": 45,
    "start_time": "2022-05-10T15:24:06.589Z"
   },
   {
    "duration": 38,
    "start_time": "2022-05-10T15:24:36.437Z"
   },
   {
    "duration": 37,
    "start_time": "2022-05-10T15:26:11.239Z"
   },
   {
    "duration": 17,
    "start_time": "2022-05-10T15:26:22.904Z"
   },
   {
    "duration": 16,
    "start_time": "2022-05-10T15:26:33.167Z"
   },
   {
    "duration": 21,
    "start_time": "2022-05-10T15:29:41.187Z"
   },
   {
    "duration": 17,
    "start_time": "2022-05-10T15:33:19.025Z"
   },
   {
    "duration": 12,
    "start_time": "2022-05-10T15:33:28.669Z"
   },
   {
    "duration": 28,
    "start_time": "2022-05-10T15:38:38.653Z"
   },
   {
    "duration": 4,
    "start_time": "2022-05-10T15:38:47.073Z"
   },
   {
    "duration": 500,
    "start_time": "2022-05-10T15:38:47.079Z"
   },
   {
    "duration": 16,
    "start_time": "2022-05-10T15:38:47.581Z"
   },
   {
    "duration": 15,
    "start_time": "2022-05-10T15:38:47.600Z"
   },
   {
    "duration": 17,
    "start_time": "2022-05-10T15:38:47.626Z"
   },
   {
    "duration": 22,
    "start_time": "2022-05-10T15:38:47.645Z"
   },
   {
    "duration": 24,
    "start_time": "2022-05-10T15:38:47.670Z"
   },
   {
    "duration": 18,
    "start_time": "2022-05-10T15:38:47.725Z"
   },
   {
    "duration": 41,
    "start_time": "2022-05-10T15:38:47.747Z"
   },
   {
    "duration": 103,
    "start_time": "2022-05-10T15:38:47.790Z"
   },
   {
    "duration": 57,
    "start_time": "2022-05-10T15:38:47.895Z"
   },
   {
    "duration": 14,
    "start_time": "2022-05-10T15:38:47.954Z"
   },
   {
    "duration": 14,
    "start_time": "2022-05-10T15:38:47.971Z"
   },
   {
    "duration": 69,
    "start_time": "2022-05-10T15:38:47.987Z"
   },
   {
    "duration": 16,
    "start_time": "2022-05-10T15:38:48.058Z"
   },
   {
    "duration": 16,
    "start_time": "2022-05-10T15:38:48.076Z"
   },
   {
    "duration": 46,
    "start_time": "2022-05-10T15:38:48.094Z"
   },
   {
    "duration": 89,
    "start_time": "2022-05-10T15:38:48.143Z"
   },
   {
    "duration": 26,
    "start_time": "2022-05-10T15:38:48.235Z"
   },
   {
    "duration": 16,
    "start_time": "2022-05-10T15:38:48.263Z"
   },
   {
    "duration": 50,
    "start_time": "2022-05-10T15:38:48.281Z"
   },
   {
    "duration": 40,
    "start_time": "2022-05-10T15:38:48.333Z"
   },
   {
    "duration": 35,
    "start_time": "2022-05-10T15:38:48.376Z"
   },
   {
    "duration": 20,
    "start_time": "2022-05-10T15:38:48.416Z"
   },
   {
    "duration": 24,
    "start_time": "2022-05-10T15:38:48.439Z"
   },
   {
    "duration": 32,
    "start_time": "2022-05-10T15:39:17.851Z"
   },
   {
    "duration": 79,
    "start_time": "2022-05-10T15:42:29.313Z"
   },
   {
    "duration": 72,
    "start_time": "2022-07-13T09:10:00.208Z"
   },
   {
    "duration": 1647,
    "start_time": "2022-07-13T09:10:04.981Z"
   },
   {
    "duration": 786,
    "start_time": "2022-07-13T09:10:06.630Z"
   },
   {
    "duration": 23,
    "start_time": "2022-07-13T09:10:07.418Z"
   },
   {
    "duration": 27,
    "start_time": "2022-07-13T09:10:07.444Z"
   },
   {
    "duration": 36,
    "start_time": "2022-07-13T09:10:07.475Z"
   },
   {
    "duration": 53,
    "start_time": "2022-07-13T09:10:07.513Z"
   },
   {
    "duration": 30,
    "start_time": "2022-07-13T09:10:07.568Z"
   },
   {
    "duration": 59,
    "start_time": "2022-07-13T09:10:07.600Z"
   },
   {
    "duration": 42,
    "start_time": "2022-07-13T09:10:07.661Z"
   },
   {
    "duration": 68,
    "start_time": "2022-07-13T09:10:07.705Z"
   },
   {
    "duration": 33,
    "start_time": "2022-07-13T09:10:07.775Z"
   },
   {
    "duration": 12,
    "start_time": "2022-07-13T09:10:07.823Z"
   },
   {
    "duration": 25,
    "start_time": "2022-07-13T09:10:07.837Z"
   },
   {
    "duration": 44,
    "start_time": "2022-07-13T09:10:07.865Z"
   },
   {
    "duration": 33,
    "start_time": "2022-07-13T09:10:07.911Z"
   },
   {
    "duration": 27,
    "start_time": "2022-07-13T09:10:07.946Z"
   },
   {
    "duration": 48,
    "start_time": "2022-07-13T09:10:07.975Z"
   },
   {
    "duration": 57,
    "start_time": "2022-07-13T09:10:08.025Z"
   },
   {
    "duration": 22,
    "start_time": "2022-07-13T09:10:08.085Z"
   },
   {
    "duration": 9,
    "start_time": "2022-07-13T09:10:08.109Z"
   },
   {
    "duration": 21,
    "start_time": "2022-07-13T09:10:08.120Z"
   },
   {
    "duration": 20,
    "start_time": "2022-07-13T09:10:08.144Z"
   },
   {
    "duration": 16,
    "start_time": "2022-07-13T09:10:08.166Z"
   },
   {
    "duration": 10,
    "start_time": "2022-07-13T09:10:08.184Z"
   },
   {
    "duration": 27,
    "start_time": "2022-07-13T09:10:08.196Z"
   },
   {
    "duration": 45,
    "start_time": "2022-07-13T09:10:08.229Z"
   },
   {
    "duration": 12,
    "start_time": "2022-07-13T09:10:08.277Z"
   },
   {
    "duration": 83,
    "start_time": "2022-07-13T09:18:41.296Z"
   },
   {
    "duration": 13,
    "start_time": "2022-07-13T09:18:48.256Z"
   },
   {
    "duration": 69,
    "start_time": "2022-07-13T09:19:14.035Z"
   },
   {
    "duration": 27,
    "start_time": "2022-07-13T09:19:36.593Z"
   },
   {
    "duration": 28,
    "start_time": "2022-07-13T09:20:50.187Z"
   },
   {
    "duration": 29,
    "start_time": "2022-07-13T09:21:33.073Z"
   },
   {
    "duration": 4,
    "start_time": "2022-07-13T09:22:20.471Z"
   },
   {
    "duration": 410,
    "start_time": "2022-07-13T09:22:20.477Z"
   },
   {
    "duration": 10,
    "start_time": "2022-07-13T09:22:20.889Z"
   },
   {
    "duration": 10,
    "start_time": "2022-07-13T09:22:20.901Z"
   },
   {
    "duration": 29,
    "start_time": "2022-07-13T09:22:20.913Z"
   },
   {
    "duration": 35,
    "start_time": "2022-07-13T09:22:20.943Z"
   },
   {
    "duration": 16,
    "start_time": "2022-07-13T09:22:20.980Z"
   },
   {
    "duration": 24,
    "start_time": "2022-07-13T09:22:20.997Z"
   },
   {
    "duration": 42,
    "start_time": "2022-07-13T09:22:21.023Z"
   },
   {
    "duration": 48,
    "start_time": "2022-07-13T09:22:21.067Z"
   },
   {
    "duration": 36,
    "start_time": "2022-07-13T09:22:21.117Z"
   },
   {
    "duration": 9,
    "start_time": "2022-07-13T09:22:21.155Z"
   },
   {
    "duration": 17,
    "start_time": "2022-07-13T09:22:21.167Z"
   },
   {
    "duration": 53,
    "start_time": "2022-07-13T09:22:21.185Z"
   },
   {
    "duration": 9,
    "start_time": "2022-07-13T09:22:21.240Z"
   },
   {
    "duration": 18,
    "start_time": "2022-07-13T09:22:21.251Z"
   },
   {
    "duration": 23,
    "start_time": "2022-07-13T09:22:21.270Z"
   },
   {
    "duration": 60,
    "start_time": "2022-07-13T09:22:21.295Z"
   },
   {
    "duration": 14,
    "start_time": "2022-07-13T09:22:21.357Z"
   },
   {
    "duration": 7,
    "start_time": "2022-07-13T09:22:21.373Z"
   },
   {
    "duration": 12,
    "start_time": "2022-07-13T09:22:21.382Z"
   },
   {
    "duration": 47,
    "start_time": "2022-07-13T09:22:21.395Z"
   },
   {
    "duration": 11,
    "start_time": "2022-07-13T09:22:21.444Z"
   },
   {
    "duration": 21,
    "start_time": "2022-07-13T09:22:21.457Z"
   },
   {
    "duration": 28,
    "start_time": "2022-07-13T09:22:21.480Z"
   },
   {
    "duration": 52,
    "start_time": "2022-07-13T09:22:21.510Z"
   },
   {
    "duration": 11,
    "start_time": "2022-07-13T09:22:21.564Z"
   },
   {
    "duration": 59,
    "start_time": "2022-07-13T09:22:21.577Z"
   },
   {
    "duration": 27,
    "start_time": "2022-07-13T09:27:54.876Z"
   },
   {
    "duration": 34,
    "start_time": "2022-07-13T09:28:20.507Z"
   },
   {
    "duration": 21,
    "start_time": "2022-07-13T09:31:39.166Z"
   },
   {
    "duration": 23,
    "start_time": "2022-07-13T09:35:08.895Z"
   },
   {
    "duration": 23,
    "start_time": "2022-07-13T09:51:25.089Z"
   },
   {
    "duration": 26,
    "start_time": "2022-07-13T09:52:12.273Z"
   },
   {
    "duration": 21,
    "start_time": "2022-07-13T09:53:08.293Z"
   },
   {
    "duration": 17,
    "start_time": "2022-07-13T09:54:33.763Z"
   },
   {
    "duration": 3,
    "start_time": "2022-07-13T09:54:37.598Z"
   },
   {
    "duration": 457,
    "start_time": "2022-07-13T09:54:37.603Z"
   },
   {
    "duration": 13,
    "start_time": "2022-07-13T09:54:38.063Z"
   },
   {
    "duration": 24,
    "start_time": "2022-07-13T09:54:38.078Z"
   },
   {
    "duration": 24,
    "start_time": "2022-07-13T09:54:38.104Z"
   },
   {
    "duration": 38,
    "start_time": "2022-07-13T09:54:38.134Z"
   },
   {
    "duration": 14,
    "start_time": "2022-07-13T09:54:38.174Z"
   },
   {
    "duration": 17,
    "start_time": "2022-07-13T09:54:38.190Z"
   },
   {
    "duration": 51,
    "start_time": "2022-07-13T09:54:38.209Z"
   },
   {
    "duration": 54,
    "start_time": "2022-07-13T09:54:38.261Z"
   },
   {
    "duration": 49,
    "start_time": "2022-07-13T09:54:38.323Z"
   },
   {
    "duration": 8,
    "start_time": "2022-07-13T09:54:38.374Z"
   },
   {
    "duration": 13,
    "start_time": "2022-07-13T09:54:38.384Z"
   },
   {
    "duration": 52,
    "start_time": "2022-07-13T09:54:38.398Z"
   },
   {
    "duration": 13,
    "start_time": "2022-07-13T09:54:38.452Z"
   },
   {
    "duration": 14,
    "start_time": "2022-07-13T09:54:38.467Z"
   },
   {
    "duration": 27,
    "start_time": "2022-07-13T09:54:38.483Z"
   },
   {
    "duration": 51,
    "start_time": "2022-07-13T09:54:38.512Z"
   },
   {
    "duration": 19,
    "start_time": "2022-07-13T09:54:38.566Z"
   },
   {
    "duration": 8,
    "start_time": "2022-07-13T09:54:38.587Z"
   },
   {
    "duration": 34,
    "start_time": "2022-07-13T09:54:38.596Z"
   },
   {
    "duration": 42,
    "start_time": "2022-07-13T09:54:38.632Z"
   },
   {
    "duration": 24,
    "start_time": "2022-07-13T09:54:38.676Z"
   },
   {
    "duration": 17,
    "start_time": "2022-07-13T09:54:38.702Z"
   },
   {
    "duration": 64,
    "start_time": "2022-07-13T09:54:38.722Z"
   },
   {
    "duration": 54,
    "start_time": "2022-07-13T09:54:38.787Z"
   },
   {
    "duration": 26,
    "start_time": "2022-07-13T09:54:38.844Z"
   },
   {
    "duration": 44,
    "start_time": "2022-07-13T09:54:38.872Z"
   },
   {
    "duration": 83,
    "start_time": "2022-07-13T09:54:38.920Z"
   },
   {
    "duration": 69,
    "start_time": "2022-07-13T09:54:39.005Z"
   },
   {
    "duration": 20,
    "start_time": "2022-07-13T09:54:39.076Z"
   },
   {
    "duration": 31,
    "start_time": "2022-07-13T09:54:39.097Z"
   },
   {
    "duration": 26,
    "start_time": "2022-07-13T09:54:39.133Z"
   },
   {
    "duration": 22,
    "start_time": "2022-07-13T09:54:39.161Z"
   },
   {
    "duration": 3,
    "start_time": "2022-07-13T09:56:04.170Z"
   },
   {
    "duration": 496,
    "start_time": "2022-07-13T09:56:04.176Z"
   },
   {
    "duration": 16,
    "start_time": "2022-07-13T09:56:04.674Z"
   },
   {
    "duration": 19,
    "start_time": "2022-07-13T09:56:04.692Z"
   },
   {
    "duration": 31,
    "start_time": "2022-07-13T09:56:04.714Z"
   },
   {
    "duration": 62,
    "start_time": "2022-07-13T09:56:04.747Z"
   },
   {
    "duration": 27,
    "start_time": "2022-07-13T09:56:04.811Z"
   },
   {
    "duration": 29,
    "start_time": "2022-07-13T09:56:04.840Z"
   },
   {
    "duration": 28,
    "start_time": "2022-07-13T09:56:04.870Z"
   },
   {
    "duration": 65,
    "start_time": "2022-07-13T09:56:04.900Z"
   },
   {
    "duration": 27,
    "start_time": "2022-07-13T09:56:04.967Z"
   },
   {
    "duration": 9,
    "start_time": "2022-07-13T09:56:04.997Z"
   },
   {
    "duration": 60,
    "start_time": "2022-07-13T09:56:05.008Z"
   },
   {
    "duration": 47,
    "start_time": "2022-07-13T09:56:05.071Z"
   },
   {
    "duration": 52,
    "start_time": "2022-07-13T09:56:05.119Z"
   },
   {
    "duration": 37,
    "start_time": "2022-07-13T09:56:05.173Z"
   },
   {
    "duration": 50,
    "start_time": "2022-07-13T09:56:05.212Z"
   },
   {
    "duration": 62,
    "start_time": "2022-07-13T09:56:05.264Z"
   },
   {
    "duration": 21,
    "start_time": "2022-07-13T09:56:05.328Z"
   },
   {
    "duration": 20,
    "start_time": "2022-07-13T09:56:05.351Z"
   },
   {
    "duration": 14,
    "start_time": "2022-07-13T09:56:05.374Z"
   },
   {
    "duration": 97,
    "start_time": "2022-07-13T09:56:05.390Z"
   },
   {
    "duration": 56,
    "start_time": "2022-07-13T09:56:05.489Z"
   },
   {
    "duration": 32,
    "start_time": "2022-07-13T09:56:05.546Z"
   },
   {
    "duration": 38,
    "start_time": "2022-07-13T09:56:05.581Z"
   },
   {
    "duration": 54,
    "start_time": "2022-07-13T09:56:05.621Z"
   },
   {
    "duration": 32,
    "start_time": "2022-07-13T09:56:05.676Z"
   },
   {
    "duration": 24,
    "start_time": "2022-07-13T09:56:05.710Z"
   },
   {
    "duration": 67,
    "start_time": "2022-07-13T09:56:05.737Z"
   },
   {
    "duration": 44,
    "start_time": "2022-07-13T09:56:05.806Z"
   },
   {
    "duration": 19,
    "start_time": "2022-07-13T09:56:05.852Z"
   },
   {
    "duration": 19,
    "start_time": "2022-07-13T09:56:05.872Z"
   },
   {
    "duration": 44,
    "start_time": "2022-07-13T09:56:05.893Z"
   },
   {
    "duration": 45,
    "start_time": "2022-07-13T09:56:05.943Z"
   },
   {
    "duration": 26,
    "start_time": "2022-07-13T10:03:25.151Z"
   },
   {
    "duration": 3,
    "start_time": "2022-07-13T10:03:30.719Z"
   },
   {
    "duration": 483,
    "start_time": "2022-07-13T10:03:30.735Z"
   },
   {
    "duration": 33,
    "start_time": "2022-07-13T10:03:31.220Z"
   },
   {
    "duration": 28,
    "start_time": "2022-07-13T10:03:31.255Z"
   },
   {
    "duration": 28,
    "start_time": "2022-07-13T10:03:31.286Z"
   },
   {
    "duration": 59,
    "start_time": "2022-07-13T10:03:31.316Z"
   },
   {
    "duration": 31,
    "start_time": "2022-07-13T10:03:31.376Z"
   },
   {
    "duration": 62,
    "start_time": "2022-07-13T10:03:31.409Z"
   },
   {
    "duration": 38,
    "start_time": "2022-07-13T10:03:31.473Z"
   },
   {
    "duration": 172,
    "start_time": "2022-07-13T10:03:31.513Z"
   },
   {
    "duration": 61,
    "start_time": "2022-07-13T10:03:31.687Z"
   },
   {
    "duration": 31,
    "start_time": "2022-07-13T10:03:31.750Z"
   },
   {
    "duration": 88,
    "start_time": "2022-07-13T10:03:31.783Z"
   },
   {
    "duration": 84,
    "start_time": "2022-07-13T10:03:31.875Z"
   },
   {
    "duration": 22,
    "start_time": "2022-07-13T10:03:31.961Z"
   },
   {
    "duration": 57,
    "start_time": "2022-07-13T10:03:31.985Z"
   },
   {
    "duration": 76,
    "start_time": "2022-07-13T10:03:32.048Z"
   },
   {
    "duration": 87,
    "start_time": "2022-07-13T10:03:32.126Z"
   },
   {
    "duration": 46,
    "start_time": "2022-07-13T10:03:32.215Z"
   },
   {
    "duration": 25,
    "start_time": "2022-07-13T10:03:32.263Z"
   },
   {
    "duration": 41,
    "start_time": "2022-07-13T10:03:32.290Z"
   },
   {
    "duration": 54,
    "start_time": "2022-07-13T10:03:32.335Z"
   },
   {
    "duration": 14,
    "start_time": "2022-07-13T10:03:32.392Z"
   },
   {
    "duration": 21,
    "start_time": "2022-07-13T10:03:32.408Z"
   },
   {
    "duration": 65,
    "start_time": "2022-07-13T10:03:32.431Z"
   },
   {
    "duration": 20,
    "start_time": "2022-07-13T10:03:32.498Z"
   },
   {
    "duration": 77,
    "start_time": "2022-07-13T10:03:32.520Z"
   },
   {
    "duration": 20,
    "start_time": "2022-07-13T10:03:32.599Z"
   },
   {
    "duration": 57,
    "start_time": "2022-07-13T10:03:32.621Z"
   },
   {
    "duration": 36,
    "start_time": "2022-07-13T10:03:32.680Z"
   },
   {
    "duration": 40,
    "start_time": "2022-07-13T10:03:32.718Z"
   },
   {
    "duration": 22,
    "start_time": "2022-07-13T10:03:32.760Z"
   },
   {
    "duration": 44,
    "start_time": "2022-07-13T10:03:32.784Z"
   },
   {
    "duration": 45,
    "start_time": "2022-07-13T10:03:32.830Z"
   },
   {
    "duration": 28,
    "start_time": "2022-07-13T10:03:32.877Z"
   },
   {
    "duration": 23,
    "start_time": "2022-07-13T10:05:42.722Z"
   },
   {
    "duration": 79,
    "start_time": "2022-07-13T10:06:05.807Z"
   },
   {
    "duration": 19,
    "start_time": "2022-07-13T10:06:20.339Z"
   },
   {
    "duration": 3,
    "start_time": "2022-07-13T10:06:30.091Z"
   },
   {
    "duration": 471,
    "start_time": "2022-07-13T10:06:30.097Z"
   },
   {
    "duration": 14,
    "start_time": "2022-07-13T10:06:30.570Z"
   },
   {
    "duration": 56,
    "start_time": "2022-07-13T10:06:30.586Z"
   },
   {
    "duration": 22,
    "start_time": "2022-07-13T10:06:30.644Z"
   },
   {
    "duration": 32,
    "start_time": "2022-07-13T10:06:30.668Z"
   },
   {
    "duration": 37,
    "start_time": "2022-07-13T10:06:30.702Z"
   },
   {
    "duration": 51,
    "start_time": "2022-07-13T10:06:30.741Z"
   },
   {
    "duration": 66,
    "start_time": "2022-07-13T10:06:30.794Z"
   },
   {
    "duration": 56,
    "start_time": "2022-07-13T10:06:30.862Z"
   },
   {
    "duration": 34,
    "start_time": "2022-07-13T10:06:30.920Z"
   },
   {
    "duration": 41,
    "start_time": "2022-07-13T10:06:30.955Z"
   },
   {
    "duration": 19,
    "start_time": "2022-07-13T10:06:30.997Z"
   },
   {
    "duration": 109,
    "start_time": "2022-07-13T10:06:31.021Z"
   },
   {
    "duration": 56,
    "start_time": "2022-07-13T10:06:31.138Z"
   },
   {
    "duration": 24,
    "start_time": "2022-07-13T10:06:31.196Z"
   },
   {
    "duration": 52,
    "start_time": "2022-07-13T10:06:31.222Z"
   },
   {
    "duration": 55,
    "start_time": "2022-07-13T10:06:31.277Z"
   },
   {
    "duration": 31,
    "start_time": "2022-07-13T10:06:31.334Z"
   },
   {
    "duration": 74,
    "start_time": "2022-07-13T10:06:31.367Z"
   },
   {
    "duration": 28,
    "start_time": "2022-07-13T10:06:31.443Z"
   },
   {
    "duration": 57,
    "start_time": "2022-07-13T10:06:31.473Z"
   },
   {
    "duration": 41,
    "start_time": "2022-07-13T10:06:31.532Z"
   },
   {
    "duration": 14,
    "start_time": "2022-07-13T10:06:31.576Z"
   },
   {
    "duration": 95,
    "start_time": "2022-07-13T10:06:31.591Z"
   },
   {
    "duration": 27,
    "start_time": "2022-07-13T10:06:31.687Z"
   },
   {
    "duration": 76,
    "start_time": "2022-07-13T10:06:31.715Z"
   },
   {
    "duration": 17,
    "start_time": "2022-07-13T10:06:31.793Z"
   },
   {
    "duration": 26,
    "start_time": "2022-07-13T10:06:31.812Z"
   },
   {
    "duration": 50,
    "start_time": "2022-07-13T10:06:31.840Z"
   },
   {
    "duration": 29,
    "start_time": "2022-07-13T10:06:31.891Z"
   },
   {
    "duration": 41,
    "start_time": "2022-07-13T10:06:31.921Z"
   },
   {
    "duration": 48,
    "start_time": "2022-07-13T10:06:31.964Z"
   },
   {
    "duration": 52,
    "start_time": "2022-07-13T10:06:32.014Z"
   },
   {
    "duration": 22,
    "start_time": "2022-07-13T10:06:32.068Z"
   },
   {
    "duration": 19,
    "start_time": "2022-07-13T10:07:05.258Z"
   },
   {
    "duration": 4,
    "start_time": "2022-07-13T10:09:07.207Z"
   },
   {
    "duration": 470,
    "start_time": "2022-07-13T10:09:07.213Z"
   },
   {
    "duration": 12,
    "start_time": "2022-07-13T10:09:07.685Z"
   },
   {
    "duration": 25,
    "start_time": "2022-07-13T10:09:07.699Z"
   },
   {
    "duration": 18,
    "start_time": "2022-07-13T10:09:07.732Z"
   },
   {
    "duration": 32,
    "start_time": "2022-07-13T10:09:07.752Z"
   },
   {
    "duration": 17,
    "start_time": "2022-07-13T10:09:07.786Z"
   },
   {
    "duration": 17,
    "start_time": "2022-07-13T10:09:07.806Z"
   },
   {
    "duration": 50,
    "start_time": "2022-07-13T10:09:07.825Z"
   },
   {
    "duration": 58,
    "start_time": "2022-07-13T10:09:07.877Z"
   },
   {
    "duration": 33,
    "start_time": "2022-07-13T10:09:07.937Z"
   },
   {
    "duration": 58,
    "start_time": "2022-07-13T10:09:07.972Z"
   },
   {
    "duration": 28,
    "start_time": "2022-07-13T10:09:08.031Z"
   },
   {
    "duration": 47,
    "start_time": "2022-07-13T10:09:08.063Z"
   },
   {
    "duration": 112,
    "start_time": "2022-07-13T10:09:08.112Z"
   },
   {
    "duration": 28,
    "start_time": "2022-07-13T10:09:08.226Z"
   },
   {
    "duration": 23,
    "start_time": "2022-07-13T10:09:08.256Z"
   },
   {
    "duration": 37,
    "start_time": "2022-07-13T10:09:08.281Z"
   },
   {
    "duration": 24,
    "start_time": "2022-07-13T10:09:08.320Z"
   },
   {
    "duration": 10,
    "start_time": "2022-07-13T10:09:08.345Z"
   },
   {
    "duration": 21,
    "start_time": "2022-07-13T10:09:08.356Z"
   },
   {
    "duration": 19,
    "start_time": "2022-07-13T10:09:08.379Z"
   },
   {
    "duration": 33,
    "start_time": "2022-07-13T10:09:08.399Z"
   },
   {
    "duration": 20,
    "start_time": "2022-07-13T10:09:08.433Z"
   },
   {
    "duration": 34,
    "start_time": "2022-07-13T10:09:08.455Z"
   },
   {
    "duration": 45,
    "start_time": "2022-07-13T10:09:08.491Z"
   },
   {
    "duration": 44,
    "start_time": "2022-07-13T10:09:08.538Z"
   },
   {
    "duration": 21,
    "start_time": "2022-07-13T10:09:08.583Z"
   },
   {
    "duration": 32,
    "start_time": "2022-07-13T10:09:08.606Z"
   },
   {
    "duration": 33,
    "start_time": "2022-07-13T10:09:08.641Z"
   },
   {
    "duration": 63,
    "start_time": "2022-07-13T10:09:08.676Z"
   },
   {
    "duration": 26,
    "start_time": "2022-07-13T10:09:08.741Z"
   },
   {
    "duration": 24,
    "start_time": "2022-07-13T10:09:08.769Z"
   },
   {
    "duration": 54,
    "start_time": "2022-07-13T10:09:08.794Z"
   },
   {
    "duration": 30,
    "start_time": "2022-07-13T10:09:08.850Z"
   },
   {
    "duration": 20,
    "start_time": "2022-07-13T10:32:43.845Z"
   },
   {
    "duration": 19,
    "start_time": "2022-07-13T10:41:02.365Z"
   },
   {
    "duration": 23,
    "start_time": "2022-07-13T10:41:56.026Z"
   },
   {
    "duration": 37,
    "start_time": "2022-07-13T10:42:01.685Z"
   },
   {
    "duration": 73,
    "start_time": "2022-07-13T10:43:43.022Z"
   },
   {
    "duration": 16,
    "start_time": "2022-07-13T10:43:58.574Z"
   },
   {
    "duration": 9,
    "start_time": "2022-07-13T10:45:32.091Z"
   },
   {
    "duration": 4,
    "start_time": "2022-07-13T10:45:48.212Z"
   },
   {
    "duration": 5,
    "start_time": "2022-07-13T10:45:58.418Z"
   },
   {
    "duration": 661,
    "start_time": "2022-07-13T10:45:58.426Z"
   },
   {
    "duration": 14,
    "start_time": "2022-07-13T10:45:59.090Z"
   },
   {
    "duration": 16,
    "start_time": "2022-07-13T10:45:59.106Z"
   },
   {
    "duration": 72,
    "start_time": "2022-07-13T10:45:59.125Z"
   },
   {
    "duration": 32,
    "start_time": "2022-07-13T10:45:59.199Z"
   },
   {
    "duration": 54,
    "start_time": "2022-07-13T10:45:59.241Z"
   },
   {
    "duration": 15,
    "start_time": "2022-07-13T10:45:59.297Z"
   },
   {
    "duration": 80,
    "start_time": "2022-07-13T10:45:59.314Z"
   },
   {
    "duration": 67,
    "start_time": "2022-07-13T10:45:59.396Z"
   },
   {
    "duration": 35,
    "start_time": "2022-07-13T10:45:59.465Z"
   },
   {
    "duration": 25,
    "start_time": "2022-07-13T10:45:59.503Z"
   },
   {
    "duration": 38,
    "start_time": "2022-07-13T10:45:59.530Z"
   },
   {
    "duration": 40,
    "start_time": "2022-07-13T10:45:59.573Z"
   },
   {
    "duration": 57,
    "start_time": "2022-07-13T10:45:59.615Z"
   },
   {
    "duration": 24,
    "start_time": "2022-07-13T10:45:59.674Z"
   },
   {
    "duration": 28,
    "start_time": "2022-07-13T10:45:59.701Z"
   },
   {
    "duration": 95,
    "start_time": "2022-07-13T10:45:59.731Z"
   },
   {
    "duration": 21,
    "start_time": "2022-07-13T10:45:59.829Z"
   },
   {
    "duration": 46,
    "start_time": "2022-07-13T10:45:59.854Z"
   },
   {
    "duration": 15,
    "start_time": "2022-07-13T10:45:59.902Z"
   },
   {
    "duration": 73,
    "start_time": "2022-07-13T10:45:59.920Z"
   },
   {
    "duration": 16,
    "start_time": "2022-07-13T10:45:59.995Z"
   },
   {
    "duration": 86,
    "start_time": "2022-07-13T10:46:00.022Z"
   },
   {
    "duration": 101,
    "start_time": "2022-07-13T10:46:00.110Z"
   },
   {
    "duration": 27,
    "start_time": "2022-07-13T10:46:00.214Z"
   },
   {
    "duration": 124,
    "start_time": "2022-07-13T10:46:00.243Z"
   },
   {
    "duration": 48,
    "start_time": "2022-07-13T10:46:00.370Z"
   },
   {
    "duration": 69,
    "start_time": "2022-07-13T10:46:00.421Z"
   },
   {
    "duration": 68,
    "start_time": "2022-07-13T10:46:00.492Z"
   },
   {
    "duration": 57,
    "start_time": "2022-07-13T10:46:00.563Z"
   },
   {
    "duration": 50,
    "start_time": "2022-07-13T10:46:00.622Z"
   },
   {
    "duration": 66,
    "start_time": "2022-07-13T10:46:00.674Z"
   },
   {
    "duration": 58,
    "start_time": "2022-07-13T10:46:00.742Z"
   },
   {
    "duration": 35,
    "start_time": "2022-07-13T10:46:00.802Z"
   },
   {
    "duration": 36,
    "start_time": "2022-07-13T10:46:00.841Z"
   },
   {
    "duration": 48,
    "start_time": "2022-07-13T10:46:00.879Z"
   },
   {
    "duration": 50,
    "start_time": "2022-07-13T10:46:00.931Z"
   },
   {
    "duration": 65,
    "start_time": "2022-07-13T10:46:00.985Z"
   },
   {
    "duration": 80,
    "start_time": "2022-07-13T10:46:01.052Z"
   },
   {
    "duration": 3,
    "start_time": "2022-07-13T10:46:10.592Z"
   },
   {
    "duration": 617,
    "start_time": "2022-07-13T10:46:10.598Z"
   },
   {
    "duration": 19,
    "start_time": "2022-07-13T10:46:11.217Z"
   },
   {
    "duration": 58,
    "start_time": "2022-07-13T10:46:11.238Z"
   },
   {
    "duration": 20,
    "start_time": "2022-07-13T10:46:11.299Z"
   },
   {
    "duration": 69,
    "start_time": "2022-07-13T10:46:11.324Z"
   },
   {
    "duration": 28,
    "start_time": "2022-07-13T10:46:11.395Z"
   },
   {
    "duration": 73,
    "start_time": "2022-07-13T10:46:11.426Z"
   },
   {
    "duration": 54,
    "start_time": "2022-07-13T10:46:11.501Z"
   },
   {
    "duration": 104,
    "start_time": "2022-07-13T10:46:11.559Z"
   },
   {
    "duration": 32,
    "start_time": "2022-07-13T10:46:11.671Z"
   },
   {
    "duration": 25,
    "start_time": "2022-07-13T10:46:11.705Z"
   },
   {
    "duration": 66,
    "start_time": "2022-07-13T10:46:11.732Z"
   },
   {
    "duration": 42,
    "start_time": "2022-07-13T10:46:11.804Z"
   },
   {
    "duration": 48,
    "start_time": "2022-07-13T10:46:11.848Z"
   },
   {
    "duration": 13,
    "start_time": "2022-07-13T10:46:11.898Z"
   },
   {
    "duration": 61,
    "start_time": "2022-07-13T10:46:11.913Z"
   },
   {
    "duration": 71,
    "start_time": "2022-07-13T10:46:11.977Z"
   },
   {
    "duration": 25,
    "start_time": "2022-07-13T10:46:12.058Z"
   },
   {
    "duration": 61,
    "start_time": "2022-07-13T10:46:12.087Z"
   },
   {
    "duration": 37,
    "start_time": "2022-07-13T10:46:12.153Z"
   },
   {
    "duration": 34,
    "start_time": "2022-07-13T10:46:12.192Z"
   },
   {
    "duration": 56,
    "start_time": "2022-07-13T10:46:12.231Z"
   },
   {
    "duration": 14,
    "start_time": "2022-07-13T10:46:12.289Z"
   },
   {
    "duration": 42,
    "start_time": "2022-07-13T10:46:12.304Z"
   },
   {
    "duration": 28,
    "start_time": "2022-07-13T10:46:12.357Z"
   },
   {
    "duration": 51,
    "start_time": "2022-07-13T10:46:12.387Z"
   },
   {
    "duration": 38,
    "start_time": "2022-07-13T10:46:12.440Z"
   },
   {
    "duration": 22,
    "start_time": "2022-07-13T10:46:12.480Z"
   },
   {
    "duration": 9,
    "start_time": "2022-07-13T10:46:12.504Z"
   },
   {
    "duration": 77,
    "start_time": "2022-07-13T10:46:12.523Z"
   },
   {
    "duration": 38,
    "start_time": "2022-07-13T10:46:12.602Z"
   },
   {
    "duration": 30,
    "start_time": "2022-07-13T10:46:12.642Z"
   },
   {
    "duration": 53,
    "start_time": "2022-07-13T10:46:12.674Z"
   },
   {
    "duration": 33,
    "start_time": "2022-07-13T10:46:12.729Z"
   },
   {
    "duration": 48,
    "start_time": "2022-07-13T10:46:12.765Z"
   },
   {
    "duration": 34,
    "start_time": "2022-07-13T10:46:12.815Z"
   },
   {
    "duration": 39,
    "start_time": "2022-07-13T10:46:12.852Z"
   },
   {
    "duration": 50,
    "start_time": "2022-07-13T10:46:12.893Z"
   },
   {
    "duration": 45,
    "start_time": "2022-07-13T10:46:12.947Z"
   },
   {
    "duration": 9,
    "start_time": "2022-07-13T10:47:19.569Z"
   },
   {
    "duration": 9,
    "start_time": "2022-07-13T10:47:25.506Z"
   },
   {
    "duration": 19,
    "start_time": "2022-07-13T10:47:36.024Z"
   },
   {
    "duration": 11,
    "start_time": "2022-07-13T10:48:01.478Z"
   },
   {
    "duration": 2224,
    "start_time": "2022-07-13T10:48:28.351Z"
   },
   {
    "duration": 9,
    "start_time": "2022-07-13T10:48:49.017Z"
   },
   {
    "duration": 13,
    "start_time": "2022-07-13T10:49:13.782Z"
   },
   {
    "duration": 38,
    "start_time": "2022-07-13T10:51:32.116Z"
   },
   {
    "duration": 11,
    "start_time": "2022-07-13T10:51:46.167Z"
   },
   {
    "duration": 10,
    "start_time": "2022-07-13T10:51:56.088Z"
   },
   {
    "duration": 24,
    "start_time": "2022-07-13T10:52:17.351Z"
   },
   {
    "duration": 6,
    "start_time": "2022-07-13T10:58:33.067Z"
   },
   {
    "duration": 211,
    "start_time": "2022-07-13T11:00:28.452Z"
   },
   {
    "duration": 11,
    "start_time": "2022-07-13T11:01:11.361Z"
   },
   {
    "duration": 11,
    "start_time": "2022-07-13T11:01:21.205Z"
   },
   {
    "duration": 4,
    "start_time": "2022-07-13T11:02:10.849Z"
   },
   {
    "duration": 498,
    "start_time": "2022-07-13T11:02:10.856Z"
   },
   {
    "duration": 12,
    "start_time": "2022-07-13T11:02:11.356Z"
   },
   {
    "duration": 15,
    "start_time": "2022-07-13T11:02:11.370Z"
   },
   {
    "duration": 32,
    "start_time": "2022-07-13T11:02:11.387Z"
   },
   {
    "duration": 47,
    "start_time": "2022-07-13T11:02:11.422Z"
   },
   {
    "duration": 14,
    "start_time": "2022-07-13T11:02:11.471Z"
   },
   {
    "duration": 16,
    "start_time": "2022-07-13T11:02:11.487Z"
   },
   {
    "duration": 42,
    "start_time": "2022-07-13T11:02:11.505Z"
   },
   {
    "duration": 56,
    "start_time": "2022-07-13T11:02:11.549Z"
   },
   {
    "duration": 39,
    "start_time": "2022-07-13T11:02:11.606Z"
   },
   {
    "duration": 11,
    "start_time": "2022-07-13T11:02:11.651Z"
   },
   {
    "duration": 30,
    "start_time": "2022-07-13T11:02:11.663Z"
   },
   {
    "duration": 54,
    "start_time": "2022-07-13T11:02:11.698Z"
   },
   {
    "duration": 19,
    "start_time": "2022-07-13T11:02:11.754Z"
   },
   {
    "duration": 16,
    "start_time": "2022-07-13T11:02:11.775Z"
   },
   {
    "duration": 45,
    "start_time": "2022-07-13T11:02:11.793Z"
   },
   {
    "duration": 50,
    "start_time": "2022-07-13T11:02:11.846Z"
   },
   {
    "duration": 15,
    "start_time": "2022-07-13T11:02:11.898Z"
   },
   {
    "duration": 23,
    "start_time": "2022-07-13T11:02:11.915Z"
   },
   {
    "duration": 16,
    "start_time": "2022-07-13T11:02:11.952Z"
   },
   {
    "duration": 73,
    "start_time": "2022-07-13T11:02:11.971Z"
   },
   {
    "duration": 15,
    "start_time": "2022-07-13T11:02:12.051Z"
   },
   {
    "duration": 10,
    "start_time": "2022-07-13T11:02:12.068Z"
   },
   {
    "duration": 24,
    "start_time": "2022-07-13T11:02:12.080Z"
   },
   {
    "duration": 35,
    "start_time": "2022-07-13T11:02:12.107Z"
   },
   {
    "duration": 86,
    "start_time": "2022-07-13T11:02:12.146Z"
   },
   {
    "duration": 31,
    "start_time": "2022-07-13T11:02:12.234Z"
   },
   {
    "duration": 15,
    "start_time": "2022-07-13T11:02:12.267Z"
   },
   {
    "duration": 11,
    "start_time": "2022-07-13T11:02:12.285Z"
   },
   {
    "duration": 57,
    "start_time": "2022-07-13T11:02:12.298Z"
   },
   {
    "duration": 29,
    "start_time": "2022-07-13T11:02:12.357Z"
   },
   {
    "duration": 56,
    "start_time": "2022-07-13T11:02:12.389Z"
   },
   {
    "duration": 23,
    "start_time": "2022-07-13T11:02:12.447Z"
   },
   {
    "duration": 25,
    "start_time": "2022-07-13T11:02:12.472Z"
   },
   {
    "duration": 50,
    "start_time": "2022-07-13T11:02:12.499Z"
   },
   {
    "duration": 18,
    "start_time": "2022-07-13T11:02:12.551Z"
   },
   {
    "duration": 18,
    "start_time": "2022-07-13T11:02:12.571Z"
   },
   {
    "duration": 64,
    "start_time": "2022-07-13T11:02:12.591Z"
   },
   {
    "duration": 25,
    "start_time": "2022-07-13T11:02:12.657Z"
   },
   {
    "duration": 8,
    "start_time": "2022-07-13T11:02:12.686Z"
   },
   {
    "duration": 40,
    "start_time": "2022-07-13T11:02:12.696Z"
   },
   {
    "duration": 27,
    "start_time": "2022-07-13T11:02:12.738Z"
   },
   {
    "duration": 4,
    "start_time": "2022-07-13T11:06:59.406Z"
   },
   {
    "duration": 6,
    "start_time": "2022-07-13T11:07:29.167Z"
   },
   {
    "duration": 47,
    "start_time": "2022-07-13T11:07:56.714Z"
   },
   {
    "duration": 3,
    "start_time": "2022-07-13T11:08:41.801Z"
   },
   {
    "duration": 545,
    "start_time": "2022-07-13T11:08:41.806Z"
   },
   {
    "duration": 15,
    "start_time": "2022-07-13T11:08:42.365Z"
   },
   {
    "duration": 7,
    "start_time": "2022-07-13T11:08:42.382Z"
   },
   {
    "duration": 19,
    "start_time": "2022-07-13T11:08:42.392Z"
   },
   {
    "duration": 35,
    "start_time": "2022-07-13T11:08:42.413Z"
   },
   {
    "duration": 39,
    "start_time": "2022-07-13T11:08:42.450Z"
   },
   {
    "duration": 15,
    "start_time": "2022-07-13T11:08:42.491Z"
   },
   {
    "duration": 50,
    "start_time": "2022-07-13T11:08:42.508Z"
   },
   {
    "duration": 64,
    "start_time": "2022-07-13T11:08:42.566Z"
   },
   {
    "duration": 38,
    "start_time": "2022-07-13T11:08:42.632Z"
   },
   {
    "duration": 18,
    "start_time": "2022-07-13T11:08:42.673Z"
   },
   {
    "duration": 13,
    "start_time": "2022-07-13T11:08:42.692Z"
   },
   {
    "duration": 59,
    "start_time": "2022-07-13T11:08:42.709Z"
   },
   {
    "duration": 17,
    "start_time": "2022-07-13T11:08:42.770Z"
   },
   {
    "duration": 11,
    "start_time": "2022-07-13T11:08:42.789Z"
   },
   {
    "duration": 39,
    "start_time": "2022-07-13T11:08:42.802Z"
   },
   {
    "duration": 72,
    "start_time": "2022-07-13T11:08:42.843Z"
   },
   {
    "duration": 21,
    "start_time": "2022-07-13T11:08:42.917Z"
   },
   {
    "duration": 43,
    "start_time": "2022-07-13T11:08:42.946Z"
   },
   {
    "duration": 18,
    "start_time": "2022-07-13T11:08:42.992Z"
   },
   {
    "duration": 63,
    "start_time": "2022-07-13T11:08:43.012Z"
   },
   {
    "duration": 18,
    "start_time": "2022-07-13T11:08:43.078Z"
   },
   {
    "duration": 11,
    "start_time": "2022-07-13T11:08:43.097Z"
   },
   {
    "duration": 92,
    "start_time": "2022-07-13T11:08:43.110Z"
   },
   {
    "duration": 27,
    "start_time": "2022-07-13T11:08:43.204Z"
   },
   {
    "duration": 86,
    "start_time": "2022-07-13T11:08:43.233Z"
   },
   {
    "duration": 39,
    "start_time": "2022-07-13T11:08:43.321Z"
   },
   {
    "duration": 27,
    "start_time": "2022-07-13T11:08:43.368Z"
   },
   {
    "duration": 14,
    "start_time": "2022-07-13T11:08:43.397Z"
   },
   {
    "duration": 52,
    "start_time": "2022-07-13T11:08:43.412Z"
   },
   {
    "duration": 33,
    "start_time": "2022-07-13T11:08:43.466Z"
   },
   {
    "duration": 31,
    "start_time": "2022-07-13T11:08:43.501Z"
   },
   {
    "duration": 28,
    "start_time": "2022-07-13T11:08:43.535Z"
   },
   {
    "duration": 48,
    "start_time": "2022-07-13T11:08:43.565Z"
   },
   {
    "duration": 30,
    "start_time": "2022-07-13T11:08:43.616Z"
   },
   {
    "duration": 49,
    "start_time": "2022-07-13T11:08:43.649Z"
   },
   {
    "duration": 20,
    "start_time": "2022-07-13T11:08:43.701Z"
   },
   {
    "duration": 31,
    "start_time": "2022-07-13T11:08:43.733Z"
   },
   {
    "duration": 35,
    "start_time": "2022-07-13T11:08:43.766Z"
   },
   {
    "duration": 8,
    "start_time": "2022-07-13T11:08:43.806Z"
   },
   {
    "duration": 25,
    "start_time": "2022-07-13T11:08:43.816Z"
   },
   {
    "duration": 36,
    "start_time": "2022-07-13T11:08:43.844Z"
   },
   {
    "duration": 4,
    "start_time": "2022-07-13T11:08:43.882Z"
   },
   {
    "duration": 23,
    "start_time": "2022-07-13T11:08:43.888Z"
   },
   {
    "duration": 5,
    "start_time": "2022-07-13T11:12:43.691Z"
   },
   {
    "duration": 25,
    "start_time": "2022-07-13T11:12:45.691Z"
   },
   {
    "duration": 20,
    "start_time": "2022-07-13T11:16:22.678Z"
   },
   {
    "duration": 26,
    "start_time": "2022-07-13T11:16:41.321Z"
   },
   {
    "duration": 1929,
    "start_time": "2022-07-13T11:16:52.866Z"
   },
   {
    "duration": 44,
    "start_time": "2022-07-13T11:20:44.813Z"
   },
   {
    "duration": 175,
    "start_time": "2022-07-13T11:20:47.070Z"
   },
   {
    "duration": 149,
    "start_time": "2022-07-13T11:20:48.762Z"
   },
   {
    "duration": 222,
    "start_time": "2022-07-13T11:21:42.977Z"
   },
   {
    "duration": 17,
    "start_time": "2022-07-13T11:27:29.161Z"
   },
   {
    "duration": 7,
    "start_time": "2022-07-13T11:28:01.794Z"
   },
   {
    "duration": 219,
    "start_time": "2022-07-13T11:28:20.092Z"
   },
   {
    "duration": 12,
    "start_time": "2022-07-13T11:32:40.968Z"
   },
   {
    "duration": 11,
    "start_time": "2022-07-13T11:32:51.979Z"
   },
   {
    "duration": 119,
    "start_time": "2022-07-13T11:36:02.053Z"
   },
   {
    "duration": 248,
    "start_time": "2022-07-13T11:36:25.352Z"
   },
   {
    "duration": 257,
    "start_time": "2022-07-13T11:36:56.457Z"
   },
   {
    "duration": 60,
    "start_time": "2022-07-13T11:37:44.903Z"
   },
   {
    "duration": 18,
    "start_time": "2022-07-13T11:39:09.953Z"
   },
   {
    "duration": 117,
    "start_time": "2022-07-13T11:40:06.751Z"
   },
   {
    "duration": 266,
    "start_time": "2022-07-13T11:40:24.692Z"
   },
   {
    "duration": 307,
    "start_time": "2022-07-13T11:40:49.364Z"
   },
   {
    "duration": 316,
    "start_time": "2022-07-13T11:41:07.149Z"
   },
   {
    "duration": 240,
    "start_time": "2022-07-13T11:41:35.056Z"
   },
   {
    "duration": 12,
    "start_time": "2022-07-13T11:42:46.765Z"
   },
   {
    "duration": 115,
    "start_time": "2022-07-13T11:43:49.070Z"
   },
   {
    "duration": 278,
    "start_time": "2022-07-13T11:44:01.685Z"
   },
   {
    "duration": 10,
    "start_time": "2022-07-13T11:44:42.878Z"
   },
   {
    "duration": 13,
    "start_time": "2022-07-13T11:44:53.455Z"
   },
   {
    "duration": 12,
    "start_time": "2022-07-13T11:45:03.400Z"
   },
   {
    "duration": 358,
    "start_time": "2022-07-13T11:46:02.983Z"
   },
   {
    "duration": 6,
    "start_time": "2022-07-13T13:38:08.100Z"
   },
   {
    "duration": 12,
    "start_time": "2022-07-13T13:38:10.839Z"
   },
   {
    "duration": 27,
    "start_time": "2022-07-13T13:38:24.205Z"
   },
   {
    "duration": 3,
    "start_time": "2022-07-13T13:38:25.987Z"
   },
   {
    "duration": 4,
    "start_time": "2022-07-13T13:38:26.716Z"
   },
   {
    "duration": 6,
    "start_time": "2022-07-13T13:38:54.108Z"
   },
   {
    "duration": 4,
    "start_time": "2022-07-13T13:39:07.986Z"
   },
   {
    "duration": 504,
    "start_time": "2022-07-13T13:39:07.992Z"
   },
   {
    "duration": 12,
    "start_time": "2022-07-13T13:39:08.498Z"
   },
   {
    "duration": 17,
    "start_time": "2022-07-13T13:39:08.512Z"
   },
   {
    "duration": 25,
    "start_time": "2022-07-13T13:39:08.532Z"
   },
   {
    "duration": 29,
    "start_time": "2022-07-13T13:39:08.559Z"
   },
   {
    "duration": 19,
    "start_time": "2022-07-13T13:39:08.590Z"
   },
   {
    "duration": 27,
    "start_time": "2022-07-13T13:39:08.611Z"
   },
   {
    "duration": 33,
    "start_time": "2022-07-13T13:39:08.640Z"
   },
   {
    "duration": 76,
    "start_time": "2022-07-13T13:39:08.677Z"
   },
   {
    "duration": 38,
    "start_time": "2022-07-13T13:39:08.755Z"
   },
   {
    "duration": 13,
    "start_time": "2022-07-13T13:39:08.795Z"
   },
   {
    "duration": 43,
    "start_time": "2022-07-13T13:39:08.823Z"
   },
   {
    "duration": 31,
    "start_time": "2022-07-13T13:39:08.869Z"
   },
   {
    "duration": 13,
    "start_time": "2022-07-13T13:39:08.902Z"
   },
   {
    "duration": 33,
    "start_time": "2022-07-13T13:39:08.917Z"
   },
   {
    "duration": 29,
    "start_time": "2022-07-13T13:39:08.953Z"
   },
   {
    "duration": 57,
    "start_time": "2022-07-13T13:39:08.984Z"
   },
   {
    "duration": 19,
    "start_time": "2022-07-13T13:39:09.043Z"
   },
   {
    "duration": 12,
    "start_time": "2022-07-13T13:39:09.065Z"
   },
   {
    "duration": 29,
    "start_time": "2022-07-13T13:39:09.079Z"
   },
   {
    "duration": 67,
    "start_time": "2022-07-13T13:39:09.110Z"
   },
   {
    "duration": 25,
    "start_time": "2022-07-13T13:39:09.178Z"
   },
   {
    "duration": 33,
    "start_time": "2022-07-13T13:39:09.205Z"
   },
   {
    "duration": 27,
    "start_time": "2022-07-13T13:39:09.240Z"
   },
   {
    "duration": 14,
    "start_time": "2022-07-13T13:39:09.269Z"
   },
   {
    "duration": 81,
    "start_time": "2022-07-13T13:39:09.285Z"
   },
   {
    "duration": 19,
    "start_time": "2022-07-13T13:39:09.370Z"
   },
   {
    "duration": 15,
    "start_time": "2022-07-13T13:39:09.391Z"
   },
   {
    "duration": 26,
    "start_time": "2022-07-13T13:39:09.408Z"
   },
   {
    "duration": 40,
    "start_time": "2022-07-13T13:39:09.439Z"
   },
   {
    "duration": 29,
    "start_time": "2022-07-13T13:39:09.481Z"
   },
   {
    "duration": 31,
    "start_time": "2022-07-13T13:39:09.512Z"
   },
   {
    "duration": 21,
    "start_time": "2022-07-13T13:39:09.545Z"
   },
   {
    "duration": 58,
    "start_time": "2022-07-13T13:39:09.567Z"
   },
   {
    "duration": 26,
    "start_time": "2022-07-13T13:39:09.629Z"
   },
   {
    "duration": 16,
    "start_time": "2022-07-13T13:39:09.657Z"
   },
   {
    "duration": 48,
    "start_time": "2022-07-13T13:39:09.675Z"
   },
   {
    "duration": 24,
    "start_time": "2022-07-13T13:39:09.733Z"
   },
   {
    "duration": 26,
    "start_time": "2022-07-13T13:39:09.759Z"
   },
   {
    "duration": 54,
    "start_time": "2022-07-13T13:39:09.787Z"
   },
   {
    "duration": 12,
    "start_time": "2022-07-13T13:39:09.843Z"
   },
   {
    "duration": 12,
    "start_time": "2022-07-13T13:39:09.857Z"
   },
   {
    "duration": 20,
    "start_time": "2022-07-13T13:39:09.871Z"
   },
   {
    "duration": 210,
    "start_time": "2022-07-13T13:39:09.894Z"
   },
   {
    "duration": 32,
    "start_time": "2022-07-13T13:39:10.106Z"
   },
   {
    "duration": 7,
    "start_time": "2022-07-13T13:39:10.140Z"
   },
   {
    "duration": 204,
    "start_time": "2022-07-13T13:39:10.149Z"
   },
   {
    "duration": 251,
    "start_time": "2022-07-13T13:39:10.355Z"
   },
   {
    "duration": 27,
    "start_time": "2022-07-13T13:39:10.609Z"
   },
   {
    "duration": 18,
    "start_time": "2022-07-13T13:39:10.638Z"
   },
   {
    "duration": 397,
    "start_time": "2022-07-13T13:39:10.657Z"
   },
   {
    "duration": 12,
    "start_time": "2022-07-13T13:39:11.056Z"
   },
   {
    "duration": 312,
    "start_time": "2022-07-13T13:39:11.070Z"
   },
   {
    "duration": 16,
    "start_time": "2022-07-13T13:39:11.384Z"
   },
   {
    "duration": 306,
    "start_time": "2022-07-13T13:39:11.403Z"
   },
   {
    "duration": 5,
    "start_time": "2022-07-13T13:39:11.711Z"
   },
   {
    "duration": 27,
    "start_time": "2022-07-13T13:39:11.724Z"
   },
   {
    "duration": 3,
    "start_time": "2022-07-13T13:39:11.755Z"
   },
   {
    "duration": 7,
    "start_time": "2022-07-13T13:39:11.760Z"
   },
   {
    "duration": 4,
    "start_time": "2022-07-13T13:39:41.941Z"
   },
   {
    "duration": 444,
    "start_time": "2022-07-13T13:39:41.949Z"
   },
   {
    "duration": 13,
    "start_time": "2022-07-13T13:39:42.394Z"
   },
   {
    "duration": 17,
    "start_time": "2022-07-13T13:39:42.409Z"
   },
   {
    "duration": 29,
    "start_time": "2022-07-13T13:39:42.431Z"
   },
   {
    "duration": 20,
    "start_time": "2022-07-13T13:39:42.462Z"
   },
   {
    "duration": 17,
    "start_time": "2022-07-13T13:39:42.484Z"
   },
   {
    "duration": 33,
    "start_time": "2022-07-13T13:39:42.502Z"
   },
   {
    "duration": 42,
    "start_time": "2022-07-13T13:39:42.539Z"
   },
   {
    "duration": 77,
    "start_time": "2022-07-13T13:39:42.583Z"
   },
   {
    "duration": 32,
    "start_time": "2022-07-13T13:39:42.662Z"
   },
   {
    "duration": 46,
    "start_time": "2022-07-13T13:39:42.697Z"
   },
   {
    "duration": 16,
    "start_time": "2022-07-13T13:39:42.746Z"
   },
   {
    "duration": 27,
    "start_time": "2022-07-13T13:39:42.765Z"
   },
   {
    "duration": 41,
    "start_time": "2022-07-13T13:39:42.795Z"
   },
   {
    "duration": 15,
    "start_time": "2022-07-13T13:39:42.840Z"
   },
   {
    "duration": 38,
    "start_time": "2022-07-13T13:39:42.857Z"
   },
   {
    "duration": 61,
    "start_time": "2022-07-13T13:39:42.898Z"
   },
   {
    "duration": 17,
    "start_time": "2022-07-13T13:39:42.960Z"
   },
   {
    "duration": 14,
    "start_time": "2022-07-13T13:39:42.979Z"
   },
   {
    "duration": 42,
    "start_time": "2022-07-13T13:39:42.995Z"
   },
   {
    "duration": 22,
    "start_time": "2022-07-13T13:39:43.039Z"
   },
   {
    "duration": 19,
    "start_time": "2022-07-13T13:39:43.062Z"
   },
   {
    "duration": 13,
    "start_time": "2022-07-13T13:39:43.083Z"
   },
   {
    "duration": 58,
    "start_time": "2022-07-13T13:39:43.098Z"
   },
   {
    "duration": 15,
    "start_time": "2022-07-13T13:39:43.159Z"
   },
   {
    "duration": 58,
    "start_time": "2022-07-13T13:39:43.177Z"
   },
   {
    "duration": 24,
    "start_time": "2022-07-13T13:39:43.240Z"
   },
   {
    "duration": 27,
    "start_time": "2022-07-13T13:39:43.267Z"
   },
   {
    "duration": 12,
    "start_time": "2022-07-13T13:39:43.296Z"
   },
   {
    "duration": 58,
    "start_time": "2022-07-13T13:39:43.310Z"
   },
   {
    "duration": 28,
    "start_time": "2022-07-13T13:39:43.370Z"
   },
   {
    "duration": 26,
    "start_time": "2022-07-13T13:39:43.400Z"
   },
   {
    "duration": 24,
    "start_time": "2022-07-13T13:39:43.430Z"
   },
   {
    "duration": 23,
    "start_time": "2022-07-13T13:39:43.456Z"
   },
   {
    "duration": 60,
    "start_time": "2022-07-13T13:39:43.481Z"
   },
   {
    "duration": 15,
    "start_time": "2022-07-13T13:39:43.543Z"
   },
   {
    "duration": 16,
    "start_time": "2022-07-13T13:39:43.560Z"
   },
   {
    "duration": 62,
    "start_time": "2022-07-13T13:39:43.578Z"
   },
   {
    "duration": 24,
    "start_time": "2022-07-13T13:39:43.642Z"
   },
   {
    "duration": 8,
    "start_time": "2022-07-13T13:39:43.670Z"
   },
   {
    "duration": 10,
    "start_time": "2022-07-13T13:39:43.680Z"
   },
   {
    "duration": 37,
    "start_time": "2022-07-13T13:39:43.691Z"
   },
   {
    "duration": 26,
    "start_time": "2022-07-13T13:39:43.731Z"
   },
   {
    "duration": 187,
    "start_time": "2022-07-13T13:39:43.759Z"
   },
   {
    "duration": 20,
    "start_time": "2022-07-13T13:39:43.948Z"
   },
   {
    "duration": 8,
    "start_time": "2022-07-13T13:39:43.971Z"
   },
   {
    "duration": 199,
    "start_time": "2022-07-13T13:39:43.981Z"
   },
   {
    "duration": 276,
    "start_time": "2022-07-13T13:39:44.182Z"
   },
   {
    "duration": 13,
    "start_time": "2022-07-13T13:39:44.461Z"
   },
   {
    "duration": 28,
    "start_time": "2022-07-13T13:39:44.476Z"
   },
   {
    "duration": 380,
    "start_time": "2022-07-13T13:39:44.506Z"
   },
   {
    "duration": 12,
    "start_time": "2022-07-13T13:39:44.888Z"
   },
   {
    "duration": 289,
    "start_time": "2022-07-13T13:39:44.902Z"
   },
   {
    "duration": 12,
    "start_time": "2022-07-13T13:39:45.193Z"
   },
   {
    "duration": 282,
    "start_time": "2022-07-13T13:39:45.206Z"
   },
   {
    "duration": 4,
    "start_time": "2022-07-13T13:39:45.490Z"
   },
   {
    "duration": 41,
    "start_time": "2022-07-13T13:39:45.496Z"
   },
   {
    "duration": 8,
    "start_time": "2022-07-13T13:39:45.539Z"
   },
   {
    "duration": 8,
    "start_time": "2022-07-13T13:39:45.549Z"
   },
   {
    "duration": 5,
    "start_time": "2022-07-13T13:41:50.990Z"
   },
   {
    "duration": 6,
    "start_time": "2022-07-13T13:46:39.548Z"
   },
   {
    "duration": 12,
    "start_time": "2022-07-13T13:48:27.502Z"
   },
   {
    "duration": 6,
    "start_time": "2022-07-13T13:49:32.589Z"
   },
   {
    "duration": 67,
    "start_time": "2022-07-13T13:56:23.440Z"
   },
   {
    "duration": 4,
    "start_time": "2022-07-13T14:12:02.344Z"
   },
   {
    "duration": 441,
    "start_time": "2022-07-13T14:12:02.351Z"
   },
   {
    "duration": 13,
    "start_time": "2022-07-13T14:12:02.795Z"
   },
   {
    "duration": 23,
    "start_time": "2022-07-13T14:12:02.810Z"
   },
   {
    "duration": 32,
    "start_time": "2022-07-13T14:12:02.836Z"
   },
   {
    "duration": 33,
    "start_time": "2022-07-13T14:12:02.870Z"
   },
   {
    "duration": 20,
    "start_time": "2022-07-13T14:12:02.906Z"
   },
   {
    "duration": 27,
    "start_time": "2022-07-13T14:12:02.929Z"
   },
   {
    "duration": 39,
    "start_time": "2022-07-13T14:12:02.958Z"
   },
   {
    "duration": 55,
    "start_time": "2022-07-13T14:12:02.999Z"
   },
   {
    "duration": 31,
    "start_time": "2022-07-13T14:12:03.056Z"
   },
   {
    "duration": 9,
    "start_time": "2022-07-13T14:12:03.088Z"
   },
   {
    "duration": 28,
    "start_time": "2022-07-13T14:12:03.099Z"
   },
   {
    "duration": 25,
    "start_time": "2022-07-13T14:12:03.131Z"
   },
   {
    "duration": 14,
    "start_time": "2022-07-13T14:12:03.158Z"
   },
   {
    "duration": 18,
    "start_time": "2022-07-13T14:12:03.174Z"
   },
   {
    "duration": 35,
    "start_time": "2022-07-13T14:12:03.194Z"
   },
   {
    "duration": 42,
    "start_time": "2022-07-13T14:12:03.231Z"
   },
   {
    "duration": 16,
    "start_time": "2022-07-13T14:12:03.275Z"
   },
   {
    "duration": 7,
    "start_time": "2022-07-13T14:12:03.293Z"
   },
   {
    "duration": 11,
    "start_time": "2022-07-13T14:12:03.323Z"
   },
   {
    "duration": 20,
    "start_time": "2022-07-13T14:12:03.336Z"
   },
   {
    "duration": 10,
    "start_time": "2022-07-13T14:12:03.358Z"
   },
   {
    "duration": 10,
    "start_time": "2022-07-13T14:12:03.370Z"
   },
   {
    "duration": 57,
    "start_time": "2022-07-13T14:12:03.381Z"
   },
   {
    "duration": 14,
    "start_time": "2022-07-13T14:12:03.440Z"
   },
   {
    "duration": 56,
    "start_time": "2022-07-13T14:12:03.456Z"
   },
   {
    "duration": 24,
    "start_time": "2022-07-13T14:12:03.514Z"
   },
   {
    "duration": 23,
    "start_time": "2022-07-13T14:12:03.540Z"
   },
   {
    "duration": 16,
    "start_time": "2022-07-13T14:12:03.565Z"
   },
   {
    "duration": 37,
    "start_time": "2022-07-13T14:12:03.582Z"
   },
   {
    "duration": 28,
    "start_time": "2022-07-13T14:12:03.621Z"
   },
   {
    "duration": 20,
    "start_time": "2022-07-13T14:12:03.651Z"
   },
   {
    "duration": 26,
    "start_time": "2022-07-13T14:12:03.672Z"
   },
   {
    "duration": 40,
    "start_time": "2022-07-13T14:12:03.700Z"
   },
   {
    "duration": 21,
    "start_time": "2022-07-13T14:12:03.742Z"
   },
   {
    "duration": 15,
    "start_time": "2022-07-13T14:12:03.765Z"
   },
   {
    "duration": 46,
    "start_time": "2022-07-13T14:12:03.781Z"
   },
   {
    "duration": 19,
    "start_time": "2022-07-13T14:12:03.829Z"
   },
   {
    "duration": 20,
    "start_time": "2022-07-13T14:12:03.850Z"
   },
   {
    "duration": 11,
    "start_time": "2022-07-13T14:12:03.874Z"
   },
   {
    "duration": 39,
    "start_time": "2022-07-13T14:12:03.886Z"
   },
   {
    "duration": 27,
    "start_time": "2022-07-13T14:12:03.927Z"
   },
   {
    "duration": 35,
    "start_time": "2022-07-13T14:12:03.955Z"
   },
   {
    "duration": 167,
    "start_time": "2022-07-13T14:12:03.992Z"
   },
   {
    "duration": 16,
    "start_time": "2022-07-13T14:12:04.161Z"
   },
   {
    "duration": 7,
    "start_time": "2022-07-13T14:12:04.179Z"
   },
   {
    "duration": 188,
    "start_time": "2022-07-13T14:12:04.187Z"
   },
   {
    "duration": 394,
    "start_time": "2022-07-13T14:12:04.377Z"
   },
   {
    "duration": 11,
    "start_time": "2022-07-13T14:12:04.773Z"
   },
   {
    "duration": 10,
    "start_time": "2022-07-13T14:12:04.786Z"
   },
   {
    "duration": 268,
    "start_time": "2022-07-13T14:12:04.798Z"
   },
   {
    "duration": 11,
    "start_time": "2022-07-13T14:12:05.068Z"
   },
   {
    "duration": 265,
    "start_time": "2022-07-13T14:12:05.081Z"
   },
   {
    "duration": 11,
    "start_time": "2022-07-13T14:12:05.348Z"
   },
   {
    "duration": 276,
    "start_time": "2022-07-13T14:12:05.361Z"
   },
   {
    "duration": 5,
    "start_time": "2022-07-13T14:12:05.638Z"
   },
   {
    "duration": 24,
    "start_time": "2022-07-13T14:12:05.644Z"
   },
   {
    "duration": 13,
    "start_time": "2022-07-13T14:12:05.670Z"
   },
   {
    "duration": 31,
    "start_time": "2022-07-13T14:12:05.684Z"
   },
   {
    "duration": 22,
    "start_time": "2022-07-13T14:12:05.716Z"
   },
   {
    "duration": 28,
    "start_time": "2022-07-13T14:12:05.739Z"
   },
   {
    "duration": 13,
    "start_time": "2022-07-13T14:12:05.769Z"
   },
   {
    "duration": 159,
    "start_time": "2022-07-13T14:22:54.695Z"
   },
   {
    "duration": 149,
    "start_time": "2022-07-13T14:23:05.605Z"
   },
   {
    "duration": 153,
    "start_time": "2022-07-13T14:23:25.278Z"
   },
   {
    "duration": 158,
    "start_time": "2022-07-13T14:23:36.635Z"
   },
   {
    "duration": 158,
    "start_time": "2022-07-13T14:23:45.296Z"
   },
   {
    "duration": 158,
    "start_time": "2022-07-13T14:24:32.838Z"
   },
   {
    "duration": 3,
    "start_time": "2022-07-13T14:34:37.407Z"
   },
   {
    "duration": 438,
    "start_time": "2022-07-13T14:34:37.412Z"
   },
   {
    "duration": 12,
    "start_time": "2022-07-13T14:34:37.852Z"
   },
   {
    "duration": 10,
    "start_time": "2022-07-13T14:34:37.866Z"
   },
   {
    "duration": 28,
    "start_time": "2022-07-13T14:34:37.879Z"
   },
   {
    "duration": 26,
    "start_time": "2022-07-13T14:34:37.909Z"
   },
   {
    "duration": 12,
    "start_time": "2022-07-13T14:34:37.937Z"
   },
   {
    "duration": 18,
    "start_time": "2022-07-13T14:34:37.952Z"
   },
   {
    "duration": 74,
    "start_time": "2022-07-13T14:34:37.972Z"
   },
   {
    "duration": 49,
    "start_time": "2022-07-13T14:34:38.048Z"
   },
   {
    "duration": 43,
    "start_time": "2022-07-13T14:34:38.098Z"
   },
   {
    "duration": 9,
    "start_time": "2022-07-13T14:34:38.143Z"
   },
   {
    "duration": 19,
    "start_time": "2022-07-13T14:34:38.154Z"
   },
   {
    "duration": 50,
    "start_time": "2022-07-13T14:34:38.176Z"
   },
   {
    "duration": 9,
    "start_time": "2022-07-13T14:34:38.228Z"
   },
   {
    "duration": 13,
    "start_time": "2022-07-13T14:34:38.239Z"
   },
   {
    "duration": 24,
    "start_time": "2022-07-13T14:34:38.254Z"
   },
   {
    "duration": 62,
    "start_time": "2022-07-13T14:34:38.280Z"
   },
   {
    "duration": 15,
    "start_time": "2022-07-13T14:34:38.344Z"
   },
   {
    "duration": 9,
    "start_time": "2022-07-13T14:34:38.361Z"
   },
   {
    "duration": 10,
    "start_time": "2022-07-13T14:34:38.372Z"
   },
   {
    "duration": 50,
    "start_time": "2022-07-13T14:34:38.383Z"
   },
   {
    "duration": 10,
    "start_time": "2022-07-13T14:34:38.434Z"
   },
   {
    "duration": 10,
    "start_time": "2022-07-13T14:34:38.446Z"
   },
   {
    "duration": 27,
    "start_time": "2022-07-13T14:34:38.458Z"
   },
   {
    "duration": 41,
    "start_time": "2022-07-13T14:34:38.486Z"
   },
   {
    "duration": 41,
    "start_time": "2022-07-13T14:34:38.529Z"
   },
   {
    "duration": 51,
    "start_time": "2022-07-13T14:34:38.572Z"
   },
   {
    "duration": 15,
    "start_time": "2022-07-13T14:34:38.625Z"
   },
   {
    "duration": 6,
    "start_time": "2022-07-13T14:34:38.642Z"
   },
   {
    "duration": 42,
    "start_time": "2022-07-13T14:34:38.650Z"
   },
   {
    "duration": 45,
    "start_time": "2022-07-13T14:34:38.694Z"
   },
   {
    "duration": 21,
    "start_time": "2022-07-13T14:34:38.741Z"
   },
   {
    "duration": 24,
    "start_time": "2022-07-13T14:34:38.766Z"
   },
   {
    "duration": 51,
    "start_time": "2022-07-13T14:34:38.792Z"
   },
   {
    "duration": 24,
    "start_time": "2022-07-13T14:34:38.845Z"
   },
   {
    "duration": 55,
    "start_time": "2022-07-13T14:34:38.871Z"
   },
   {
    "duration": 19,
    "start_time": "2022-07-13T14:34:38.928Z"
   },
   {
    "duration": 22,
    "start_time": "2022-07-13T14:34:38.948Z"
   },
   {
    "duration": 64,
    "start_time": "2022-07-13T14:34:38.971Z"
   },
   {
    "duration": 9,
    "start_time": "2022-07-13T14:34:39.039Z"
   },
   {
    "duration": 11,
    "start_time": "2022-07-13T14:34:39.049Z"
   },
   {
    "duration": 17,
    "start_time": "2022-07-13T14:34:39.062Z"
   },
   {
    "duration": 20,
    "start_time": "2022-07-13T14:34:39.122Z"
   },
   {
    "duration": 165,
    "start_time": "2022-07-13T14:34:39.144Z"
   },
   {
    "duration": 29,
    "start_time": "2022-07-13T14:34:39.310Z"
   },
   {
    "duration": 42,
    "start_time": "2022-07-13T14:34:39.341Z"
   },
   {
    "duration": 169,
    "start_time": "2022-07-13T14:34:39.385Z"
   },
   {
    "duration": 239,
    "start_time": "2022-07-13T14:34:39.556Z"
   },
   {
    "duration": 26,
    "start_time": "2022-07-13T14:34:39.797Z"
   },
   {
    "duration": 12,
    "start_time": "2022-07-13T14:34:39.825Z"
   },
   {
    "duration": 276,
    "start_time": "2022-07-13T14:34:39.839Z"
   },
   {
    "duration": 16,
    "start_time": "2022-07-13T14:34:40.122Z"
   },
   {
    "duration": 268,
    "start_time": "2022-07-13T14:34:40.140Z"
   },
   {
    "duration": 17,
    "start_time": "2022-07-13T14:34:40.410Z"
   },
   {
    "duration": 280,
    "start_time": "2022-07-13T14:34:40.429Z"
   },
   {
    "duration": 4,
    "start_time": "2022-07-13T14:34:40.711Z"
   },
   {
    "duration": 13,
    "start_time": "2022-07-13T14:34:40.723Z"
   },
   {
    "duration": 4,
    "start_time": "2022-07-13T14:34:40.738Z"
   },
   {
    "duration": 8,
    "start_time": "2022-07-13T14:34:40.744Z"
   },
   {
    "duration": 7,
    "start_time": "2022-07-13T14:34:40.753Z"
   },
   {
    "duration": 14,
    "start_time": "2022-07-13T14:34:40.762Z"
   },
   {
    "duration": 48,
    "start_time": "2022-07-13T14:34:40.778Z"
   },
   {
    "duration": 4,
    "start_time": "2022-07-13T14:39:55.713Z"
   },
   {
    "duration": 438,
    "start_time": "2022-07-13T14:39:55.719Z"
   },
   {
    "duration": 12,
    "start_time": "2022-07-13T14:39:56.159Z"
   },
   {
    "duration": 17,
    "start_time": "2022-07-13T14:39:56.173Z"
   },
   {
    "duration": 28,
    "start_time": "2022-07-13T14:39:56.192Z"
   },
   {
    "duration": 21,
    "start_time": "2022-07-13T14:39:56.222Z"
   },
   {
    "duration": 15,
    "start_time": "2022-07-13T14:39:56.244Z"
   },
   {
    "duration": 18,
    "start_time": "2022-07-13T14:39:56.261Z"
   },
   {
    "duration": 41,
    "start_time": "2022-07-13T14:39:56.282Z"
   },
   {
    "duration": 56,
    "start_time": "2022-07-13T14:39:56.326Z"
   },
   {
    "duration": 212,
    "start_time": "2022-07-13T14:39:56.384Z"
   },
   {
    "duration": 27,
    "start_time": "2022-07-13T14:39:56.598Z"
   },
   {
    "duration": 24,
    "start_time": "2022-07-13T14:39:56.627Z"
   },
   {
    "duration": 38,
    "start_time": "2022-07-13T14:39:56.653Z"
   },
   {
    "duration": 22,
    "start_time": "2022-07-13T14:39:56.693Z"
   },
   {
    "duration": 11,
    "start_time": "2022-07-13T14:39:56.722Z"
   },
   {
    "duration": 28,
    "start_time": "2022-07-13T14:39:56.736Z"
   },
   {
    "duration": 39,
    "start_time": "2022-07-13T14:39:56.766Z"
   },
   {
    "duration": 30,
    "start_time": "2022-07-13T14:39:56.807Z"
   },
   {
    "duration": 35,
    "start_time": "2022-07-13T14:39:56.839Z"
   },
   {
    "duration": 15,
    "start_time": "2022-07-13T14:39:56.876Z"
   },
   {
    "duration": 30,
    "start_time": "2022-07-13T14:39:56.893Z"
   },
   {
    "duration": 14,
    "start_time": "2022-07-13T14:39:56.925Z"
   },
   {
    "duration": 9,
    "start_time": "2022-07-13T14:39:56.945Z"
   },
   {
    "duration": 40,
    "start_time": "2022-07-13T14:39:56.956Z"
   },
   {
    "duration": 35,
    "start_time": "2022-07-13T14:39:56.998Z"
   },
   {
    "duration": 50,
    "start_time": "2022-07-13T14:39:57.034Z"
   },
   {
    "duration": 39,
    "start_time": "2022-07-13T14:39:57.086Z"
   },
   {
    "duration": 35,
    "start_time": "2022-07-13T14:39:57.128Z"
   },
   {
    "duration": 29,
    "start_time": "2022-07-13T14:39:57.165Z"
   },
   {
    "duration": 36,
    "start_time": "2022-07-13T14:39:57.196Z"
   },
   {
    "duration": 31,
    "start_time": "2022-07-13T14:39:57.234Z"
   },
   {
    "duration": 23,
    "start_time": "2022-07-13T14:39:57.267Z"
   },
   {
    "duration": 44,
    "start_time": "2022-07-13T14:39:57.291Z"
   },
   {
    "duration": 28,
    "start_time": "2022-07-13T14:39:57.337Z"
   },
   {
    "duration": 23,
    "start_time": "2022-07-13T14:39:57.366Z"
   },
   {
    "duration": 47,
    "start_time": "2022-07-13T14:39:57.391Z"
   },
   {
    "duration": 25,
    "start_time": "2022-07-13T14:39:57.440Z"
   },
   {
    "duration": 31,
    "start_time": "2022-07-13T14:39:57.468Z"
   },
   {
    "duration": 44,
    "start_time": "2022-07-13T14:39:57.501Z"
   },
   {
    "duration": 13,
    "start_time": "2022-07-13T14:39:57.547Z"
   },
   {
    "duration": 16,
    "start_time": "2022-07-13T14:39:57.562Z"
   },
   {
    "duration": 45,
    "start_time": "2022-07-13T14:39:57.580Z"
   },
   {
    "duration": 29,
    "start_time": "2022-07-13T14:39:57.627Z"
   },
   {
    "duration": 181,
    "start_time": "2022-07-13T14:39:57.658Z"
   },
   {
    "duration": 18,
    "start_time": "2022-07-13T14:39:57.841Z"
   },
   {
    "duration": 7,
    "start_time": "2022-07-13T14:39:57.861Z"
   },
   {
    "duration": 218,
    "start_time": "2022-07-13T14:39:57.871Z"
   },
   {
    "duration": 232,
    "start_time": "2022-07-13T14:39:58.091Z"
   },
   {
    "duration": 12,
    "start_time": "2022-07-13T14:39:58.325Z"
   },
   {
    "duration": 90,
    "start_time": "2022-07-13T14:39:58.339Z"
   },
   {
    "duration": 276,
    "start_time": "2022-07-13T14:39:58.431Z"
   },
   {
    "duration": 19,
    "start_time": "2022-07-13T14:39:58.709Z"
   },
   {
    "duration": 266,
    "start_time": "2022-07-13T14:39:58.729Z"
   },
   {
    "duration": 26,
    "start_time": "2022-07-13T14:39:58.998Z"
   },
   {
    "duration": 276,
    "start_time": "2022-07-13T14:39:59.026Z"
   },
   {
    "duration": 5,
    "start_time": "2022-07-13T14:39:59.304Z"
   },
   {
    "duration": 22,
    "start_time": "2022-07-13T14:39:59.312Z"
   },
   {
    "duration": 16,
    "start_time": "2022-07-13T14:39:59.336Z"
   },
   {
    "duration": 11,
    "start_time": "2022-07-13T14:39:59.354Z"
   },
   {
    "duration": 13,
    "start_time": "2022-07-13T14:39:59.367Z"
   },
   {
    "duration": 25,
    "start_time": "2022-07-13T14:39:59.382Z"
   },
   {
    "duration": 6,
    "start_time": "2022-07-13T14:39:59.408Z"
   },
   {
    "duration": 4,
    "start_time": "2022-07-13T14:50:52.947Z"
   },
   {
    "duration": 449,
    "start_time": "2022-07-13T14:50:52.954Z"
   },
   {
    "duration": 12,
    "start_time": "2022-07-13T14:50:53.405Z"
   },
   {
    "duration": 9,
    "start_time": "2022-07-13T14:50:53.420Z"
   },
   {
    "duration": 17,
    "start_time": "2022-07-13T14:50:53.430Z"
   },
   {
    "duration": 18,
    "start_time": "2022-07-13T14:50:53.449Z"
   },
   {
    "duration": 17,
    "start_time": "2022-07-13T14:50:53.469Z"
   },
   {
    "duration": 21,
    "start_time": "2022-07-13T14:50:53.487Z"
   },
   {
    "duration": 27,
    "start_time": "2022-07-13T14:50:53.522Z"
   },
   {
    "duration": 49,
    "start_time": "2022-07-13T14:50:53.551Z"
   },
   {
    "duration": 47,
    "start_time": "2022-07-13T14:50:53.602Z"
   },
   {
    "duration": 10,
    "start_time": "2022-07-13T14:50:53.650Z"
   },
   {
    "duration": 28,
    "start_time": "2022-07-13T14:50:53.661Z"
   },
   {
    "duration": 38,
    "start_time": "2022-07-13T14:50:53.691Z"
   },
   {
    "duration": 11,
    "start_time": "2022-07-13T14:50:53.731Z"
   },
   {
    "duration": 20,
    "start_time": "2022-07-13T14:50:53.744Z"
   },
   {
    "duration": 23,
    "start_time": "2022-07-13T14:50:53.766Z"
   },
   {
    "duration": 52,
    "start_time": "2022-07-13T14:50:53.791Z"
   },
   {
    "duration": 15,
    "start_time": "2022-07-13T14:50:53.845Z"
   },
   {
    "duration": 45,
    "start_time": "2022-07-13T14:50:53.863Z"
   },
   {
    "duration": 13,
    "start_time": "2022-07-13T14:50:53.910Z"
   },
   {
    "duration": 18,
    "start_time": "2022-07-13T14:50:53.925Z"
   },
   {
    "duration": 11,
    "start_time": "2022-07-13T14:50:53.946Z"
   },
   {
    "duration": 9,
    "start_time": "2022-07-13T14:50:53.963Z"
   },
   {
    "duration": 64,
    "start_time": "2022-07-13T14:50:53.975Z"
   },
   {
    "duration": 21,
    "start_time": "2022-07-13T14:50:54.042Z"
   },
   {
    "duration": 64,
    "start_time": "2022-07-13T14:50:54.067Z"
   },
   {
    "duration": 27,
    "start_time": "2022-07-13T14:50:54.133Z"
   },
   {
    "duration": 18,
    "start_time": "2022-07-13T14:50:54.162Z"
   },
   {
    "duration": 11,
    "start_time": "2022-07-13T14:50:54.182Z"
   },
   {
    "duration": 44,
    "start_time": "2022-07-13T14:50:54.195Z"
   },
   {
    "duration": 31,
    "start_time": "2022-07-13T14:50:54.241Z"
   },
   {
    "duration": 21,
    "start_time": "2022-07-13T14:50:54.274Z"
   },
   {
    "duration": 43,
    "start_time": "2022-07-13T14:50:54.297Z"
   },
   {
    "duration": 25,
    "start_time": "2022-07-13T14:50:54.342Z"
   },
   {
    "duration": 30,
    "start_time": "2022-07-13T14:50:54.369Z"
   },
   {
    "duration": 26,
    "start_time": "2022-07-13T14:50:54.423Z"
   },
   {
    "duration": 29,
    "start_time": "2022-07-13T14:50:54.451Z"
   },
   {
    "duration": 48,
    "start_time": "2022-07-13T14:50:54.482Z"
   },
   {
    "duration": 36,
    "start_time": "2022-07-13T14:50:54.532Z"
   },
   {
    "duration": 18,
    "start_time": "2022-07-13T14:50:54.570Z"
   },
   {
    "duration": 35,
    "start_time": "2022-07-13T14:50:54.591Z"
   },
   {
    "duration": 16,
    "start_time": "2022-07-13T14:50:54.629Z"
   },
   {
    "duration": 30,
    "start_time": "2022-07-13T14:50:54.648Z"
   },
   {
    "duration": 180,
    "start_time": "2022-07-13T14:50:54.681Z"
   },
   {
    "duration": 16,
    "start_time": "2022-07-13T14:50:54.863Z"
   },
   {
    "duration": 8,
    "start_time": "2022-07-13T14:50:54.881Z"
   },
   {
    "duration": 194,
    "start_time": "2022-07-13T14:50:54.891Z"
   },
   {
    "duration": 234,
    "start_time": "2022-07-13T14:50:55.088Z"
   },
   {
    "duration": 13,
    "start_time": "2022-07-13T14:50:55.324Z"
   },
   {
    "duration": 15,
    "start_time": "2022-07-13T14:50:55.339Z"
   },
   {
    "duration": 281,
    "start_time": "2022-07-13T14:50:55.356Z"
   },
   {
    "duration": 12,
    "start_time": "2022-07-13T14:50:55.640Z"
   },
   {
    "duration": 290,
    "start_time": "2022-07-13T14:50:55.654Z"
   },
   {
    "duration": 15,
    "start_time": "2022-07-13T14:50:55.946Z"
   },
   {
    "duration": 296,
    "start_time": "2022-07-13T14:50:55.963Z"
   },
   {
    "duration": 5,
    "start_time": "2022-07-13T14:50:56.262Z"
   },
   {
    "duration": 25,
    "start_time": "2022-07-13T14:50:56.269Z"
   },
   {
    "duration": 12,
    "start_time": "2022-07-13T14:50:56.296Z"
   },
   {
    "duration": 13,
    "start_time": "2022-07-13T14:50:56.310Z"
   },
   {
    "duration": 19,
    "start_time": "2022-07-13T14:50:56.325Z"
   },
   {
    "duration": 35,
    "start_time": "2022-07-13T14:50:56.345Z"
   },
   {
    "duration": 26,
    "start_time": "2022-07-13T14:50:56.382Z"
   },
   {
    "duration": 1077,
    "start_time": "2022-07-13T17:03:20.944Z"
   },
   {
    "duration": 708,
    "start_time": "2022-07-13T17:03:22.023Z"
   },
   {
    "duration": 12,
    "start_time": "2022-07-13T17:03:22.733Z"
   },
   {
    "duration": 11,
    "start_time": "2022-07-13T17:03:22.747Z"
   },
   {
    "duration": 13,
    "start_time": "2022-07-13T17:03:22.761Z"
   },
   {
    "duration": 19,
    "start_time": "2022-07-13T17:03:22.776Z"
   },
   {
    "duration": 11,
    "start_time": "2022-07-13T17:03:22.797Z"
   },
   {
    "duration": 11,
    "start_time": "2022-07-13T17:03:22.810Z"
   },
   {
    "duration": 40,
    "start_time": "2022-07-13T17:03:22.823Z"
   },
   {
    "duration": 49,
    "start_time": "2022-07-13T17:03:22.865Z"
   },
   {
    "duration": 50,
    "start_time": "2022-07-13T17:03:22.916Z"
   },
   {
    "duration": 9,
    "start_time": "2022-07-13T17:03:22.968Z"
   },
   {
    "duration": 10,
    "start_time": "2022-07-13T17:03:22.979Z"
   },
   {
    "duration": 22,
    "start_time": "2022-07-13T17:03:22.994Z"
   },
   {
    "duration": 10,
    "start_time": "2022-07-13T17:03:23.017Z"
   },
   {
    "duration": 36,
    "start_time": "2022-07-13T17:03:23.029Z"
   },
   {
    "duration": 20,
    "start_time": "2022-07-13T17:03:23.067Z"
   },
   {
    "duration": 31,
    "start_time": "2022-07-13T17:03:23.089Z"
   },
   {
    "duration": 14,
    "start_time": "2022-07-13T17:03:23.122Z"
   },
   {
    "duration": 33,
    "start_time": "2022-07-13T17:03:23.138Z"
   },
   {
    "duration": 10,
    "start_time": "2022-07-13T17:03:23.173Z"
   },
   {
    "duration": 16,
    "start_time": "2022-07-13T17:03:23.185Z"
   },
   {
    "duration": 22,
    "start_time": "2022-07-13T17:03:23.202Z"
   },
   {
    "duration": 10,
    "start_time": "2022-07-13T17:03:23.226Z"
   },
   {
    "duration": 37,
    "start_time": "2022-07-13T17:03:23.237Z"
   },
   {
    "duration": 13,
    "start_time": "2022-07-13T17:03:23.276Z"
   },
   {
    "duration": 45,
    "start_time": "2022-07-13T17:03:23.290Z"
   },
   {
    "duration": 36,
    "start_time": "2022-07-13T17:03:23.336Z"
   },
   {
    "duration": 13,
    "start_time": "2022-07-13T17:03:23.374Z"
   },
   {
    "duration": 12,
    "start_time": "2022-07-13T17:03:23.389Z"
   },
   {
    "duration": 32,
    "start_time": "2022-07-13T17:03:23.402Z"
   },
   {
    "duration": 50,
    "start_time": "2022-07-13T17:03:23.436Z"
   },
   {
    "duration": 18,
    "start_time": "2022-07-13T17:03:23.487Z"
   },
   {
    "duration": 17,
    "start_time": "2022-07-13T17:03:23.506Z"
   },
   {
    "duration": 40,
    "start_time": "2022-07-13T17:03:23.524Z"
   },
   {
    "duration": 20,
    "start_time": "2022-07-13T17:03:23.565Z"
   },
   {
    "duration": 13,
    "start_time": "2022-07-13T17:03:23.586Z"
   },
   {
    "duration": 13,
    "start_time": "2022-07-13T17:03:23.600Z"
   },
   {
    "duration": 17,
    "start_time": "2022-07-13T17:03:23.615Z"
   },
   {
    "duration": 47,
    "start_time": "2022-07-13T17:03:23.633Z"
   },
   {
    "duration": 8,
    "start_time": "2022-07-13T17:03:23.684Z"
   },
   {
    "duration": 11,
    "start_time": "2022-07-13T17:03:23.693Z"
   },
   {
    "duration": 9,
    "start_time": "2022-07-13T17:03:23.706Z"
   },
   {
    "duration": 17,
    "start_time": "2022-07-13T17:03:23.716Z"
   },
   {
    "duration": 162,
    "start_time": "2022-07-13T17:03:23.734Z"
   },
   {
    "duration": 14,
    "start_time": "2022-07-13T17:03:23.897Z"
   },
   {
    "duration": 5,
    "start_time": "2022-07-13T17:03:23.912Z"
   },
   {
    "duration": 182,
    "start_time": "2022-07-13T17:03:23.919Z"
   },
   {
    "duration": 225,
    "start_time": "2022-07-13T17:03:24.103Z"
   },
   {
    "duration": 51,
    "start_time": "2022-07-13T17:03:24.330Z"
   },
   {
    "duration": 9,
    "start_time": "2022-07-13T17:03:24.383Z"
   },
   {
    "duration": 236,
    "start_time": "2022-07-13T17:03:24.393Z"
   },
   {
    "duration": 10,
    "start_time": "2022-07-13T17:03:24.631Z"
   },
   {
    "duration": 250,
    "start_time": "2022-07-13T17:03:24.643Z"
   },
   {
    "duration": 10,
    "start_time": "2022-07-13T17:03:24.895Z"
   },
   {
    "duration": 246,
    "start_time": "2022-07-13T17:03:24.907Z"
   },
   {
    "duration": 9,
    "start_time": "2022-07-13T17:03:25.155Z"
   },
   {
    "duration": 17,
    "start_time": "2022-07-13T17:03:25.166Z"
   },
   {
    "duration": 4,
    "start_time": "2022-07-13T17:03:25.185Z"
   },
   {
    "duration": 6,
    "start_time": "2022-07-13T17:03:25.190Z"
   },
   {
    "duration": 8,
    "start_time": "2022-07-13T17:03:25.198Z"
   },
   {
    "duration": 13,
    "start_time": "2022-07-13T17:03:25.207Z"
   },
   {
    "duration": 5,
    "start_time": "2022-07-13T17:03:25.221Z"
   },
   {
    "duration": 2157,
    "start_time": "2022-07-14T14:10:28.283Z"
   },
   {
    "duration": 1637,
    "start_time": "2022-07-14T14:10:30.443Z"
   },
   {
    "duration": 12,
    "start_time": "2022-07-14T14:10:32.082Z"
   },
   {
    "duration": 37,
    "start_time": "2022-07-14T14:10:32.096Z"
   },
   {
    "duration": 22,
    "start_time": "2022-07-14T14:10:32.137Z"
   },
   {
    "duration": 41,
    "start_time": "2022-07-14T14:10:32.161Z"
   },
   {
    "duration": 34,
    "start_time": "2022-07-14T14:10:32.203Z"
   },
   {
    "duration": 19,
    "start_time": "2022-07-14T14:10:32.238Z"
   },
   {
    "duration": 39,
    "start_time": "2022-07-14T14:10:32.259Z"
   },
   {
    "duration": 57,
    "start_time": "2022-07-14T14:10:32.300Z"
   },
   {
    "duration": 64,
    "start_time": "2022-07-14T14:10:32.358Z"
   },
   {
    "duration": 10,
    "start_time": "2022-07-14T14:10:32.424Z"
   },
   {
    "duration": 18,
    "start_time": "2022-07-14T14:10:32.436Z"
   },
   {
    "duration": 29,
    "start_time": "2022-07-14T14:10:32.459Z"
   },
   {
    "duration": 20,
    "start_time": "2022-07-14T14:10:32.490Z"
   },
   {
    "duration": 21,
    "start_time": "2022-07-14T14:10:32.516Z"
   },
   {
    "duration": 25,
    "start_time": "2022-07-14T14:10:32.539Z"
   },
   {
    "duration": 46,
    "start_time": "2022-07-14T14:10:32.565Z"
   },
   {
    "duration": 21,
    "start_time": "2022-07-14T14:10:32.614Z"
   },
   {
    "duration": 10,
    "start_time": "2022-07-14T14:10:32.637Z"
   },
   {
    "duration": 20,
    "start_time": "2022-07-14T14:10:32.649Z"
   },
   {
    "duration": 45,
    "start_time": "2022-07-14T14:10:32.671Z"
   },
   {
    "duration": 16,
    "start_time": "2022-07-14T14:10:32.718Z"
   },
   {
    "duration": 16,
    "start_time": "2022-07-14T14:10:32.736Z"
   },
   {
    "duration": 35,
    "start_time": "2022-07-14T14:10:32.754Z"
   },
   {
    "duration": 30,
    "start_time": "2022-07-14T14:10:32.791Z"
   },
   {
    "duration": 59,
    "start_time": "2022-07-14T14:10:32.822Z"
   },
   {
    "duration": 41,
    "start_time": "2022-07-14T14:10:32.883Z"
   },
   {
    "duration": 13,
    "start_time": "2022-07-14T14:10:32.927Z"
   },
   {
    "duration": 6,
    "start_time": "2022-07-14T14:10:32.942Z"
   },
   {
    "duration": 36,
    "start_time": "2022-07-14T14:10:32.950Z"
   },
   {
    "duration": 33,
    "start_time": "2022-07-14T14:10:33.006Z"
   },
   {
    "duration": 21,
    "start_time": "2022-07-14T14:10:33.041Z"
   },
   {
    "duration": 55,
    "start_time": "2022-07-14T14:10:33.064Z"
   },
   {
    "duration": 27,
    "start_time": "2022-07-14T14:10:33.121Z"
   },
   {
    "duration": 24,
    "start_time": "2022-07-14T14:10:33.149Z"
   },
   {
    "duration": 41,
    "start_time": "2022-07-14T14:10:33.175Z"
   },
   {
    "duration": 21,
    "start_time": "2022-07-14T14:10:33.220Z"
   },
   {
    "duration": 23,
    "start_time": "2022-07-14T14:10:33.242Z"
   },
   {
    "duration": 50,
    "start_time": "2022-07-14T14:10:33.267Z"
   },
   {
    "duration": 8,
    "start_time": "2022-07-14T14:10:33.322Z"
   },
   {
    "duration": 11,
    "start_time": "2022-07-14T14:10:33.332Z"
   },
   {
    "duration": 11,
    "start_time": "2022-07-14T14:10:33.346Z"
   },
   {
    "duration": 21,
    "start_time": "2022-07-14T14:10:33.359Z"
   },
   {
    "duration": 190,
    "start_time": "2022-07-14T14:10:33.404Z"
   },
   {
    "duration": 28,
    "start_time": "2022-07-14T14:10:33.595Z"
   },
   {
    "duration": 21,
    "start_time": "2022-07-14T14:10:33.624Z"
   },
   {
    "duration": 203,
    "start_time": "2022-07-14T14:10:33.649Z"
   },
   {
    "duration": 303,
    "start_time": "2022-07-14T14:10:33.854Z"
   },
   {
    "duration": 68,
    "start_time": "2022-07-14T14:10:34.160Z"
   },
   {
    "duration": 12,
    "start_time": "2022-07-14T14:10:34.229Z"
   },
   {
    "duration": 300,
    "start_time": "2022-07-14T14:10:34.243Z"
   },
   {
    "duration": 10,
    "start_time": "2022-07-14T14:10:34.545Z"
   },
   {
    "duration": 294,
    "start_time": "2022-07-14T14:10:34.557Z"
   },
   {
    "duration": 13,
    "start_time": "2022-07-14T14:10:34.853Z"
   },
   {
    "duration": 301,
    "start_time": "2022-07-14T14:10:34.868Z"
   },
   {
    "duration": 4,
    "start_time": "2022-07-14T14:10:35.171Z"
   },
   {
    "duration": 28,
    "start_time": "2022-07-14T14:10:35.177Z"
   },
   {
    "duration": 17,
    "start_time": "2022-07-14T14:10:35.206Z"
   },
   {
    "duration": 9,
    "start_time": "2022-07-14T14:10:35.225Z"
   },
   {
    "duration": 9,
    "start_time": "2022-07-14T14:10:35.236Z"
   },
   {
    "duration": 17,
    "start_time": "2022-07-14T14:10:35.246Z"
   },
   {
    "duration": 6,
    "start_time": "2022-07-14T14:10:35.265Z"
   },
   {
    "duration": 1138,
    "start_time": "2022-07-14T14:36:57.956Z"
   },
   {
    "duration": 1263,
    "start_time": "2022-07-14T14:36:59.097Z"
   },
   {
    "duration": 17,
    "start_time": "2022-07-14T14:37:00.363Z"
   },
   {
    "duration": 32,
    "start_time": "2022-07-14T14:37:00.383Z"
   },
   {
    "duration": 48,
    "start_time": "2022-07-14T14:37:00.422Z"
   },
   {
    "duration": 29,
    "start_time": "2022-07-14T14:37:00.472Z"
   },
   {
    "duration": 55,
    "start_time": "2022-07-14T14:37:00.503Z"
   },
   {
    "duration": 17,
    "start_time": "2022-07-14T14:37:00.560Z"
   },
   {
    "duration": 31,
    "start_time": "2022-07-14T14:37:00.579Z"
   },
   {
    "duration": 54,
    "start_time": "2022-07-14T14:37:00.613Z"
   },
   {
    "duration": 55,
    "start_time": "2022-07-14T14:37:00.669Z"
   },
   {
    "duration": 14,
    "start_time": "2022-07-14T14:37:00.726Z"
   },
   {
    "duration": 21,
    "start_time": "2022-07-14T14:37:00.742Z"
   },
   {
    "duration": 51,
    "start_time": "2022-07-14T14:37:00.765Z"
   },
   {
    "duration": 18,
    "start_time": "2022-07-14T14:37:00.818Z"
   },
   {
    "duration": 15,
    "start_time": "2022-07-14T14:37:00.838Z"
   },
   {
    "duration": 38,
    "start_time": "2022-07-14T14:37:00.855Z"
   },
   {
    "duration": 59,
    "start_time": "2022-07-14T14:37:00.895Z"
   },
   {
    "duration": 15,
    "start_time": "2022-07-14T14:37:00.956Z"
   },
   {
    "duration": 10,
    "start_time": "2022-07-14T14:37:00.972Z"
   },
   {
    "duration": 24,
    "start_time": "2022-07-14T14:37:00.984Z"
   },
   {
    "duration": 32,
    "start_time": "2022-07-14T14:37:01.016Z"
   },
   {
    "duration": 31,
    "start_time": "2022-07-14T14:37:01.049Z"
   },
   {
    "duration": 26,
    "start_time": "2022-07-14T14:37:01.082Z"
   },
   {
    "duration": 44,
    "start_time": "2022-07-14T14:37:01.110Z"
   },
   {
    "duration": 18,
    "start_time": "2022-07-14T14:37:01.157Z"
   },
   {
    "duration": 71,
    "start_time": "2022-07-14T14:37:01.177Z"
   },
   {
    "duration": 34,
    "start_time": "2022-07-14T14:37:01.253Z"
   },
   {
    "duration": 62,
    "start_time": "2022-07-14T14:37:01.290Z"
   },
   {
    "duration": 11,
    "start_time": "2022-07-14T14:37:01.354Z"
   },
   {
    "duration": 49,
    "start_time": "2022-07-14T14:37:01.367Z"
   },
   {
    "duration": 40,
    "start_time": "2022-07-14T14:37:01.417Z"
   },
   {
    "duration": 27,
    "start_time": "2022-07-14T14:37:01.459Z"
   },
   {
    "duration": 28,
    "start_time": "2022-07-14T14:37:01.505Z"
   },
   {
    "duration": 40,
    "start_time": "2022-07-14T14:37:01.536Z"
   },
   {
    "duration": 48,
    "start_time": "2022-07-14T14:37:01.578Z"
   },
   {
    "duration": 23,
    "start_time": "2022-07-14T14:37:01.628Z"
   },
   {
    "duration": 31,
    "start_time": "2022-07-14T14:37:01.653Z"
   },
   {
    "duration": 43,
    "start_time": "2022-07-14T14:37:01.686Z"
   },
   {
    "duration": 23,
    "start_time": "2022-07-14T14:37:01.731Z"
   },
   {
    "duration": 11,
    "start_time": "2022-07-14T14:37:01.756Z"
   },
   {
    "duration": 53,
    "start_time": "2022-07-14T14:37:01.770Z"
   },
   {
    "duration": 24,
    "start_time": "2022-07-14T14:37:01.827Z"
   },
   {
    "duration": 33,
    "start_time": "2022-07-14T14:37:01.853Z"
   },
   {
    "duration": 201,
    "start_time": "2022-07-14T14:37:01.888Z"
   },
   {
    "duration": 29,
    "start_time": "2022-07-14T14:37:02.091Z"
   },
   {
    "duration": 9,
    "start_time": "2022-07-14T14:37:02.123Z"
   },
   {
    "duration": 205,
    "start_time": "2022-07-14T14:37:02.134Z"
   },
   {
    "duration": 243,
    "start_time": "2022-07-14T14:37:02.341Z"
   },
   {
    "duration": 62,
    "start_time": "2022-07-14T14:37:02.586Z"
   },
   {
    "duration": 12,
    "start_time": "2022-07-14T14:37:02.650Z"
   },
   {
    "duration": 277,
    "start_time": "2022-07-14T14:37:02.664Z"
   },
   {
    "duration": 12,
    "start_time": "2022-07-14T14:37:02.942Z"
   },
   {
    "duration": 279,
    "start_time": "2022-07-14T14:37:02.955Z"
   },
   {
    "duration": 12,
    "start_time": "2022-07-14T14:37:03.235Z"
   },
   {
    "duration": 290,
    "start_time": "2022-07-14T14:37:03.249Z"
   },
   {
    "duration": 4,
    "start_time": "2022-07-14T14:37:03.541Z"
   },
   {
    "duration": 19,
    "start_time": "2022-07-14T14:37:03.547Z"
   },
   {
    "duration": 3,
    "start_time": "2022-07-14T14:37:03.569Z"
   },
   {
    "duration": 14,
    "start_time": "2022-07-14T14:37:03.574Z"
   },
   {
    "duration": 20,
    "start_time": "2022-07-14T14:37:03.606Z"
   },
   {
    "duration": 16,
    "start_time": "2022-07-14T14:37:03.628Z"
   },
   {
    "duration": 5,
    "start_time": "2022-07-14T14:37:03.646Z"
   },
   {
    "duration": 42,
    "start_time": "2022-07-14T15:11:20.682Z"
   },
   {
    "duration": 62,
    "start_time": "2022-07-14T15:11:28.627Z"
   },
   {
    "duration": 210,
    "start_time": "2022-07-14T15:29:32.970Z"
   },
   {
    "duration": 109,
    "start_time": "2022-07-14T15:29:37.381Z"
   },
   {
    "duration": 13,
    "start_time": "2022-07-14T15:29:40.820Z"
   },
   {
    "duration": 16,
    "start_time": "2022-07-14T15:30:11.954Z"
   },
   {
    "duration": 40,
    "start_time": "2022-07-14T15:31:40.667Z"
   },
   {
    "duration": 30,
    "start_time": "2022-07-14T15:34:00.056Z"
   },
   {
    "duration": 1808,
    "start_time": "2022-07-14T15:52:07.290Z"
   },
   {
    "duration": 846,
    "start_time": "2022-07-14T15:52:09.101Z"
   },
   {
    "duration": 39,
    "start_time": "2022-07-14T15:52:09.949Z"
   },
   {
    "duration": 68,
    "start_time": "2022-07-14T15:52:09.991Z"
   },
   {
    "duration": 43,
    "start_time": "2022-07-14T15:52:10.068Z"
   },
   {
    "duration": 112,
    "start_time": "2022-07-14T15:52:10.122Z"
   },
   {
    "duration": 91,
    "start_time": "2022-07-14T15:52:10.236Z"
   },
   {
    "duration": 94,
    "start_time": "2022-07-14T15:52:10.330Z"
   },
   {
    "duration": 90,
    "start_time": "2022-07-14T15:52:10.425Z"
   },
   {
    "duration": 91,
    "start_time": "2022-07-14T15:52:10.527Z"
   },
   {
    "duration": 51,
    "start_time": "2022-07-14T15:52:10.621Z"
   },
   {
    "duration": 34,
    "start_time": "2022-07-14T15:52:10.675Z"
   },
   {
    "duration": 58,
    "start_time": "2022-07-14T15:52:10.713Z"
   },
   {
    "duration": 61,
    "start_time": "2022-07-14T15:52:10.775Z"
   },
   {
    "duration": 15,
    "start_time": "2022-07-14T15:52:10.842Z"
   },
   {
    "duration": 24,
    "start_time": "2022-07-14T15:52:10.860Z"
   },
   {
    "duration": 41,
    "start_time": "2022-07-14T15:52:10.887Z"
   },
   {
    "duration": 67,
    "start_time": "2022-07-14T15:52:10.930Z"
   },
   {
    "duration": 37,
    "start_time": "2022-07-14T15:52:10.999Z"
   },
   {
    "duration": 12,
    "start_time": "2022-07-14T15:52:11.039Z"
   },
   {
    "duration": 20,
    "start_time": "2022-07-14T15:52:11.055Z"
   },
   {
    "duration": 42,
    "start_time": "2022-07-14T15:52:11.077Z"
   },
   {
    "duration": 34,
    "start_time": "2022-07-14T15:52:11.127Z"
   },
   {
    "duration": 13,
    "start_time": "2022-07-14T15:52:11.163Z"
   },
   {
    "duration": 44,
    "start_time": "2022-07-14T15:52:11.178Z"
   },
   {
    "duration": 19,
    "start_time": "2022-07-14T15:52:11.230Z"
   },
   {
    "duration": 44,
    "start_time": "2022-07-14T15:52:11.251Z"
   },
   {
    "duration": 35,
    "start_time": "2022-07-14T15:52:11.309Z"
   },
   {
    "duration": 13,
    "start_time": "2022-07-14T15:52:11.347Z"
   },
   {
    "duration": 9,
    "start_time": "2022-07-14T15:52:11.362Z"
   },
   {
    "duration": 68,
    "start_time": "2022-07-14T15:52:11.373Z"
   },
   {
    "duration": 46,
    "start_time": "2022-07-14T15:52:11.443Z"
   },
   {
    "duration": 40,
    "start_time": "2022-07-14T15:52:11.492Z"
   },
   {
    "duration": 47,
    "start_time": "2022-07-14T15:52:11.534Z"
   },
   {
    "duration": 52,
    "start_time": "2022-07-14T15:52:11.583Z"
   },
   {
    "duration": 58,
    "start_time": "2022-07-14T15:52:11.637Z"
   },
   {
    "duration": 38,
    "start_time": "2022-07-14T15:52:11.699Z"
   },
   {
    "duration": 32,
    "start_time": "2022-07-14T15:52:11.741Z"
   },
   {
    "duration": 46,
    "start_time": "2022-07-14T15:52:11.775Z"
   },
   {
    "duration": 48,
    "start_time": "2022-07-14T15:52:11.824Z"
   },
   {
    "duration": 19,
    "start_time": "2022-07-14T15:52:11.874Z"
   },
   {
    "duration": 16,
    "start_time": "2022-07-14T15:52:11.896Z"
   },
   {
    "duration": 56,
    "start_time": "2022-07-14T15:52:11.914Z"
   },
   {
    "duration": 61,
    "start_time": "2022-07-14T15:52:11.973Z"
   },
   {
    "duration": 1303,
    "start_time": "2022-07-15T08:54:32.988Z"
   },
   {
    "duration": 987,
    "start_time": "2022-07-15T08:54:34.293Z"
   },
   {
    "duration": 12,
    "start_time": "2022-07-15T08:54:35.282Z"
   },
   {
    "duration": 9,
    "start_time": "2022-07-15T08:54:35.297Z"
   },
   {
    "duration": 14,
    "start_time": "2022-07-15T08:54:35.308Z"
   },
   {
    "duration": 21,
    "start_time": "2022-07-15T08:54:35.323Z"
   },
   {
    "duration": 11,
    "start_time": "2022-07-15T08:54:35.345Z"
   },
   {
    "duration": 15,
    "start_time": "2022-07-15T08:54:35.358Z"
   },
   {
    "duration": 30,
    "start_time": "2022-07-15T08:54:35.375Z"
   },
   {
    "duration": 66,
    "start_time": "2022-07-15T08:54:35.407Z"
   },
   {
    "duration": 30,
    "start_time": "2022-07-15T08:54:35.475Z"
   },
   {
    "duration": 12,
    "start_time": "2022-07-15T08:54:35.506Z"
   },
   {
    "duration": 31,
    "start_time": "2022-07-15T08:54:35.520Z"
   },
   {
    "duration": 24,
    "start_time": "2022-07-15T08:54:35.553Z"
   },
   {
    "duration": 7,
    "start_time": "2022-07-15T08:54:35.579Z"
   },
   {
    "duration": 11,
    "start_time": "2022-07-15T08:54:35.587Z"
   },
   {
    "duration": 22,
    "start_time": "2022-07-15T08:54:35.599Z"
   },
   {
    "duration": 49,
    "start_time": "2022-07-15T08:54:35.622Z"
   },
   {
    "duration": 12,
    "start_time": "2022-07-15T08:54:35.673Z"
   },
   {
    "duration": 9,
    "start_time": "2022-07-15T08:54:35.686Z"
   },
   {
    "duration": 10,
    "start_time": "2022-07-15T08:54:35.696Z"
   },
   {
    "duration": 42,
    "start_time": "2022-07-15T08:54:35.707Z"
   },
   {
    "duration": 15,
    "start_time": "2022-07-15T08:54:35.751Z"
   },
   {
    "duration": 10,
    "start_time": "2022-07-15T08:54:35.767Z"
   },
   {
    "duration": 27,
    "start_time": "2022-07-15T08:54:35.779Z"
   },
   {
    "duration": 13,
    "start_time": "2022-07-15T08:54:35.807Z"
   },
   {
    "duration": 50,
    "start_time": "2022-07-15T08:54:35.821Z"
   },
   {
    "duration": 19,
    "start_time": "2022-07-15T08:54:35.874Z"
   },
   {
    "duration": 13,
    "start_time": "2022-07-15T08:54:35.895Z"
   },
   {
    "duration": 6,
    "start_time": "2022-07-15T08:54:35.910Z"
   },
   {
    "duration": 44,
    "start_time": "2022-07-15T08:54:35.918Z"
   },
   {
    "duration": 26,
    "start_time": "2022-07-15T08:54:35.964Z"
   },
   {
    "duration": 19,
    "start_time": "2022-07-15T08:54:35.992Z"
   },
   {
    "duration": 41,
    "start_time": "2022-07-15T08:54:36.013Z"
   },
   {
    "duration": 22,
    "start_time": "2022-07-15T08:54:36.056Z"
   },
   {
    "duration": 21,
    "start_time": "2022-07-15T08:54:36.080Z"
   },
   {
    "duration": 42,
    "start_time": "2022-07-15T08:54:36.103Z"
   },
   {
    "duration": 18,
    "start_time": "2022-07-15T08:54:36.148Z"
   },
   {
    "duration": 21,
    "start_time": "2022-07-15T08:54:36.168Z"
   },
   {
    "duration": 21,
    "start_time": "2022-07-15T08:54:36.190Z"
   },
   {
    "duration": 34,
    "start_time": "2022-07-15T08:54:36.212Z"
   },
   {
    "duration": 10,
    "start_time": "2022-07-15T08:54:36.247Z"
   },
   {
    "duration": 10,
    "start_time": "2022-07-15T08:54:36.258Z"
   },
   {
    "duration": 17,
    "start_time": "2022-07-15T08:54:36.269Z"
   },
   {
    "duration": 157,
    "start_time": "2022-07-15T08:54:36.288Z"
   },
   {
    "duration": 14,
    "start_time": "2022-07-15T08:54:36.447Z"
   },
   {
    "duration": 5,
    "start_time": "2022-07-15T08:54:36.462Z"
   },
   {
    "duration": 180,
    "start_time": "2022-07-15T08:54:36.469Z"
   },
   {
    "duration": 200,
    "start_time": "2022-07-15T08:54:36.651Z"
   },
   {
    "duration": 46,
    "start_time": "2022-07-15T08:54:36.852Z"
   },
   {
    "duration": 9,
    "start_time": "2022-07-15T08:54:36.899Z"
   },
   {
    "duration": 274,
    "start_time": "2022-07-15T08:54:36.910Z"
   },
   {
    "duration": 13,
    "start_time": "2022-07-15T08:54:37.186Z"
   },
   {
    "duration": 253,
    "start_time": "2022-07-15T08:54:37.201Z"
   },
   {
    "duration": 11,
    "start_time": "2022-07-15T08:54:37.455Z"
   },
   {
    "duration": 263,
    "start_time": "2022-07-15T08:54:37.467Z"
   },
   {
    "duration": 4,
    "start_time": "2022-07-15T08:54:37.732Z"
   },
   {
    "duration": 6,
    "start_time": "2022-07-15T08:54:37.745Z"
   },
   {
    "duration": 8,
    "start_time": "2022-07-15T08:54:37.752Z"
   },
   {
    "duration": 11,
    "start_time": "2022-07-15T08:54:37.761Z"
   },
   {
    "duration": 12,
    "start_time": "2022-07-15T08:54:37.774Z"
   },
   {
    "duration": 15,
    "start_time": "2022-07-15T08:54:37.787Z"
   },
   {
    "duration": 5,
    "start_time": "2022-07-15T08:54:37.803Z"
   },
   {
    "duration": 205,
    "start_time": "2022-07-15T08:59:55.208Z"
   },
   {
    "duration": 204,
    "start_time": "2022-07-15T09:00:30.072Z"
   },
   {
    "duration": 55,
    "start_time": "2022-07-15T09:02:50.760Z"
   },
   {
    "duration": 106,
    "start_time": "2022-07-15T09:04:58.485Z"
   },
   {
    "duration": 14,
    "start_time": "2022-07-15T09:05:35.025Z"
   },
   {
    "duration": 13,
    "start_time": "2022-07-15T09:05:48.648Z"
   },
   {
    "duration": 14,
    "start_time": "2022-07-15T09:07:43.186Z"
   },
   {
    "duration": 14,
    "start_time": "2022-07-15T09:07:55.397Z"
   },
   {
    "duration": 28,
    "start_time": "2022-07-15T09:08:01.463Z"
   },
   {
    "duration": 39,
    "start_time": "2022-07-15T09:11:37.859Z"
   },
   {
    "duration": 30,
    "start_time": "2022-07-15T09:11:43.794Z"
   },
   {
    "duration": 27,
    "start_time": "2022-07-15T09:15:00.453Z"
   },
   {
    "duration": 25,
    "start_time": "2022-07-15T09:15:07.839Z"
   },
   {
    "duration": 33,
    "start_time": "2022-07-15T09:15:15.880Z"
   },
   {
    "duration": 47,
    "start_time": "2022-07-15T09:15:26.568Z"
   },
   {
    "duration": 3,
    "start_time": "2022-07-15T09:15:38.563Z"
   },
   {
    "duration": 537,
    "start_time": "2022-07-15T09:15:38.568Z"
   },
   {
    "duration": 17,
    "start_time": "2022-07-15T09:15:39.108Z"
   },
   {
    "duration": 10,
    "start_time": "2022-07-15T09:15:39.127Z"
   },
   {
    "duration": 25,
    "start_time": "2022-07-15T09:15:39.139Z"
   },
   {
    "duration": 39,
    "start_time": "2022-07-15T09:15:39.166Z"
   },
   {
    "duration": 35,
    "start_time": "2022-07-15T09:15:39.206Z"
   },
   {
    "duration": 56,
    "start_time": "2022-07-15T09:15:39.243Z"
   },
   {
    "duration": 28,
    "start_time": "2022-07-15T09:15:39.302Z"
   },
   {
    "duration": 50,
    "start_time": "2022-07-15T09:15:39.332Z"
   },
   {
    "duration": 29,
    "start_time": "2022-07-15T09:15:39.384Z"
   },
   {
    "duration": 9,
    "start_time": "2022-07-15T09:15:39.415Z"
   },
   {
    "duration": 28,
    "start_time": "2022-07-15T09:15:39.425Z"
   },
   {
    "duration": 40,
    "start_time": "2022-07-15T09:15:39.455Z"
   },
   {
    "duration": 0,
    "start_time": "2022-07-15T09:15:39.498Z"
   },
   {
    "duration": 0,
    "start_time": "2022-07-15T09:15:39.499Z"
   },
   {
    "duration": 0,
    "start_time": "2022-07-15T09:15:39.500Z"
   },
   {
    "duration": 0,
    "start_time": "2022-07-15T09:15:39.501Z"
   },
   {
    "duration": 0,
    "start_time": "2022-07-15T09:15:39.502Z"
   },
   {
    "duration": 0,
    "start_time": "2022-07-15T09:15:39.503Z"
   },
   {
    "duration": 0,
    "start_time": "2022-07-15T09:15:39.505Z"
   },
   {
    "duration": 0,
    "start_time": "2022-07-15T09:15:39.507Z"
   },
   {
    "duration": 0,
    "start_time": "2022-07-15T09:15:39.508Z"
   },
   {
    "duration": 0,
    "start_time": "2022-07-15T09:15:39.509Z"
   },
   {
    "duration": 0,
    "start_time": "2022-07-15T09:15:39.511Z"
   },
   {
    "duration": 0,
    "start_time": "2022-07-15T09:15:39.513Z"
   },
   {
    "duration": 0,
    "start_time": "2022-07-15T09:15:39.514Z"
   },
   {
    "duration": 0,
    "start_time": "2022-07-15T09:15:39.546Z"
   },
   {
    "duration": 0,
    "start_time": "2022-07-15T09:15:39.548Z"
   },
   {
    "duration": 0,
    "start_time": "2022-07-15T09:15:39.550Z"
   },
   {
    "duration": 0,
    "start_time": "2022-07-15T09:15:39.551Z"
   },
   {
    "duration": 0,
    "start_time": "2022-07-15T09:15:39.552Z"
   },
   {
    "duration": 0,
    "start_time": "2022-07-15T09:15:39.553Z"
   },
   {
    "duration": 0,
    "start_time": "2022-07-15T09:15:39.554Z"
   },
   {
    "duration": 0,
    "start_time": "2022-07-15T09:15:39.555Z"
   },
   {
    "duration": 0,
    "start_time": "2022-07-15T09:15:39.556Z"
   },
   {
    "duration": 0,
    "start_time": "2022-07-15T09:15:39.557Z"
   },
   {
    "duration": 0,
    "start_time": "2022-07-15T09:15:39.559Z"
   },
   {
    "duration": 0,
    "start_time": "2022-07-15T09:15:39.560Z"
   },
   {
    "duration": 0,
    "start_time": "2022-07-15T09:15:39.561Z"
   },
   {
    "duration": 0,
    "start_time": "2022-07-15T09:15:39.562Z"
   },
   {
    "duration": 0,
    "start_time": "2022-07-15T09:15:39.563Z"
   },
   {
    "duration": 0,
    "start_time": "2022-07-15T09:15:39.565Z"
   },
   {
    "duration": 0,
    "start_time": "2022-07-15T09:15:39.566Z"
   },
   {
    "duration": 0,
    "start_time": "2022-07-15T09:15:39.567Z"
   },
   {
    "duration": 0,
    "start_time": "2022-07-15T09:15:39.568Z"
   },
   {
    "duration": 0,
    "start_time": "2022-07-15T09:15:39.569Z"
   },
   {
    "duration": 0,
    "start_time": "2022-07-15T09:15:39.570Z"
   },
   {
    "duration": 0,
    "start_time": "2022-07-15T09:15:39.571Z"
   },
   {
    "duration": 0,
    "start_time": "2022-07-15T09:15:39.572Z"
   },
   {
    "duration": 0,
    "start_time": "2022-07-15T09:15:39.573Z"
   },
   {
    "duration": 0,
    "start_time": "2022-07-15T09:15:39.574Z"
   },
   {
    "duration": 0,
    "start_time": "2022-07-15T09:15:39.575Z"
   },
   {
    "duration": 0,
    "start_time": "2022-07-15T09:15:39.576Z"
   },
   {
    "duration": 0,
    "start_time": "2022-07-15T09:15:39.577Z"
   },
   {
    "duration": 0,
    "start_time": "2022-07-15T09:15:39.578Z"
   },
   {
    "duration": 0,
    "start_time": "2022-07-15T09:15:39.579Z"
   },
   {
    "duration": 0,
    "start_time": "2022-07-15T09:15:39.581Z"
   },
   {
    "duration": 0,
    "start_time": "2022-07-15T09:15:39.581Z"
   },
   {
    "duration": 0,
    "start_time": "2022-07-15T09:15:39.646Z"
   },
   {
    "duration": 0,
    "start_time": "2022-07-15T09:15:39.647Z"
   },
   {
    "duration": 0,
    "start_time": "2022-07-15T09:15:39.648Z"
   },
   {
    "duration": 0,
    "start_time": "2022-07-15T09:15:39.650Z"
   },
   {
    "duration": 3,
    "start_time": "2022-07-15T09:16:32.266Z"
   },
   {
    "duration": 463,
    "start_time": "2022-07-15T09:16:32.271Z"
   },
   {
    "duration": 11,
    "start_time": "2022-07-15T09:16:32.735Z"
   },
   {
    "duration": 13,
    "start_time": "2022-07-15T09:16:32.747Z"
   },
   {
    "duration": 15,
    "start_time": "2022-07-15T09:16:32.762Z"
   },
   {
    "duration": 20,
    "start_time": "2022-07-15T09:16:32.779Z"
   },
   {
    "duration": 10,
    "start_time": "2022-07-15T09:16:32.801Z"
   },
   {
    "duration": 15,
    "start_time": "2022-07-15T09:16:32.812Z"
   },
   {
    "duration": 38,
    "start_time": "2022-07-15T09:16:32.829Z"
   },
   {
    "duration": 47,
    "start_time": "2022-07-15T09:16:32.868Z"
   },
   {
    "duration": 47,
    "start_time": "2022-07-15T09:16:32.917Z"
   },
   {
    "duration": 10,
    "start_time": "2022-07-15T09:16:32.966Z"
   },
   {
    "duration": 19,
    "start_time": "2022-07-15T09:16:32.978Z"
   },
   {
    "duration": 32,
    "start_time": "2022-07-15T09:16:32.999Z"
   },
   {
    "duration": 0,
    "start_time": "2022-07-15T09:16:33.046Z"
   },
   {
    "duration": 0,
    "start_time": "2022-07-15T09:16:33.048Z"
   },
   {
    "duration": 0,
    "start_time": "2022-07-15T09:16:33.049Z"
   },
   {
    "duration": 0,
    "start_time": "2022-07-15T09:16:33.051Z"
   },
   {
    "duration": 0,
    "start_time": "2022-07-15T09:16:33.052Z"
   },
   {
    "duration": 0,
    "start_time": "2022-07-15T09:16:33.053Z"
   },
   {
    "duration": 0,
    "start_time": "2022-07-15T09:16:33.055Z"
   },
   {
    "duration": 0,
    "start_time": "2022-07-15T09:16:33.056Z"
   },
   {
    "duration": 0,
    "start_time": "2022-07-15T09:16:33.058Z"
   },
   {
    "duration": 0,
    "start_time": "2022-07-15T09:16:33.059Z"
   },
   {
    "duration": 0,
    "start_time": "2022-07-15T09:16:33.061Z"
   },
   {
    "duration": 0,
    "start_time": "2022-07-15T09:16:33.062Z"
   },
   {
    "duration": 0,
    "start_time": "2022-07-15T09:16:33.064Z"
   },
   {
    "duration": 0,
    "start_time": "2022-07-15T09:16:33.066Z"
   },
   {
    "duration": 0,
    "start_time": "2022-07-15T09:16:33.068Z"
   },
   {
    "duration": 0,
    "start_time": "2022-07-15T09:16:33.069Z"
   },
   {
    "duration": 0,
    "start_time": "2022-07-15T09:16:33.071Z"
   },
   {
    "duration": 0,
    "start_time": "2022-07-15T09:16:33.072Z"
   },
   {
    "duration": 0,
    "start_time": "2022-07-15T09:16:33.073Z"
   },
   {
    "duration": 0,
    "start_time": "2022-07-15T09:16:33.075Z"
   },
   {
    "duration": 0,
    "start_time": "2022-07-15T09:16:33.076Z"
   },
   {
    "duration": 0,
    "start_time": "2022-07-15T09:16:33.076Z"
   },
   {
    "duration": 0,
    "start_time": "2022-07-15T09:16:33.077Z"
   },
   {
    "duration": 0,
    "start_time": "2022-07-15T09:16:33.078Z"
   },
   {
    "duration": 0,
    "start_time": "2022-07-15T09:16:33.079Z"
   },
   {
    "duration": 0,
    "start_time": "2022-07-15T09:16:33.080Z"
   },
   {
    "duration": 0,
    "start_time": "2022-07-15T09:16:33.082Z"
   },
   {
    "duration": 1,
    "start_time": "2022-07-15T09:16:33.082Z"
   },
   {
    "duration": 0,
    "start_time": "2022-07-15T09:16:33.084Z"
   },
   {
    "duration": 0,
    "start_time": "2022-07-15T09:16:33.085Z"
   },
   {
    "duration": 0,
    "start_time": "2022-07-15T09:16:33.086Z"
   },
   {
    "duration": 0,
    "start_time": "2022-07-15T09:16:33.146Z"
   },
   {
    "duration": 0,
    "start_time": "2022-07-15T09:16:33.147Z"
   },
   {
    "duration": 0,
    "start_time": "2022-07-15T09:16:33.148Z"
   },
   {
    "duration": 0,
    "start_time": "2022-07-15T09:16:33.149Z"
   },
   {
    "duration": 0,
    "start_time": "2022-07-15T09:16:33.150Z"
   },
   {
    "duration": 0,
    "start_time": "2022-07-15T09:16:33.152Z"
   },
   {
    "duration": 0,
    "start_time": "2022-07-15T09:16:33.153Z"
   },
   {
    "duration": 0,
    "start_time": "2022-07-15T09:16:33.153Z"
   },
   {
    "duration": 0,
    "start_time": "2022-07-15T09:16:33.155Z"
   },
   {
    "duration": 0,
    "start_time": "2022-07-15T09:16:33.155Z"
   },
   {
    "duration": 0,
    "start_time": "2022-07-15T09:16:33.157Z"
   },
   {
    "duration": 0,
    "start_time": "2022-07-15T09:16:33.157Z"
   },
   {
    "duration": 0,
    "start_time": "2022-07-15T09:16:33.159Z"
   },
   {
    "duration": 0,
    "start_time": "2022-07-15T09:16:33.159Z"
   },
   {
    "duration": 0,
    "start_time": "2022-07-15T09:16:33.160Z"
   },
   {
    "duration": 0,
    "start_time": "2022-07-15T09:16:33.161Z"
   },
   {
    "duration": 0,
    "start_time": "2022-07-15T09:16:33.163Z"
   },
   {
    "duration": 0,
    "start_time": "2022-07-15T09:16:33.163Z"
   },
   {
    "duration": 3,
    "start_time": "2022-07-15T09:16:43.325Z"
   },
   {
    "duration": 464,
    "start_time": "2022-07-15T09:16:43.330Z"
   },
   {
    "duration": 11,
    "start_time": "2022-07-15T09:16:43.795Z"
   },
   {
    "duration": 10,
    "start_time": "2022-07-15T09:16:43.808Z"
   },
   {
    "duration": 13,
    "start_time": "2022-07-15T09:16:43.820Z"
   },
   {
    "duration": 18,
    "start_time": "2022-07-15T09:16:43.834Z"
   },
   {
    "duration": 11,
    "start_time": "2022-07-15T09:16:43.854Z"
   },
   {
    "duration": 13,
    "start_time": "2022-07-15T09:16:43.867Z"
   },
   {
    "duration": 29,
    "start_time": "2022-07-15T09:16:43.882Z"
   },
   {
    "duration": 74,
    "start_time": "2022-07-15T09:16:43.913Z"
   },
   {
    "duration": 25,
    "start_time": "2022-07-15T09:16:43.989Z"
   },
   {
    "duration": 29,
    "start_time": "2022-07-15T09:16:44.016Z"
   },
   {
    "duration": 10,
    "start_time": "2022-07-15T09:16:44.047Z"
   },
   {
    "duration": 31,
    "start_time": "2022-07-15T09:16:44.059Z"
   },
   {
    "duration": 0,
    "start_time": "2022-07-15T09:16:44.093Z"
   },
   {
    "duration": 0,
    "start_time": "2022-07-15T09:16:44.094Z"
   },
   {
    "duration": 0,
    "start_time": "2022-07-15T09:16:44.096Z"
   },
   {
    "duration": 0,
    "start_time": "2022-07-15T09:16:44.097Z"
   },
   {
    "duration": 0,
    "start_time": "2022-07-15T09:16:44.098Z"
   },
   {
    "duration": 0,
    "start_time": "2022-07-15T09:16:44.099Z"
   },
   {
    "duration": 0,
    "start_time": "2022-07-15T09:16:44.100Z"
   },
   {
    "duration": 0,
    "start_time": "2022-07-15T09:16:44.101Z"
   },
   {
    "duration": 0,
    "start_time": "2022-07-15T09:16:44.102Z"
   },
   {
    "duration": 0,
    "start_time": "2022-07-15T09:16:44.103Z"
   },
   {
    "duration": 0,
    "start_time": "2022-07-15T09:16:44.104Z"
   },
   {
    "duration": 0,
    "start_time": "2022-07-15T09:16:44.105Z"
   },
   {
    "duration": 0,
    "start_time": "2022-07-15T09:16:44.107Z"
   },
   {
    "duration": 0,
    "start_time": "2022-07-15T09:16:44.107Z"
   },
   {
    "duration": 0,
    "start_time": "2022-07-15T09:16:44.146Z"
   },
   {
    "duration": 0,
    "start_time": "2022-07-15T09:16:44.147Z"
   },
   {
    "duration": 0,
    "start_time": "2022-07-15T09:16:44.148Z"
   },
   {
    "duration": 0,
    "start_time": "2022-07-15T09:16:44.149Z"
   },
   {
    "duration": 0,
    "start_time": "2022-07-15T09:16:44.150Z"
   },
   {
    "duration": 0,
    "start_time": "2022-07-15T09:16:44.151Z"
   },
   {
    "duration": 0,
    "start_time": "2022-07-15T09:16:44.152Z"
   },
   {
    "duration": 0,
    "start_time": "2022-07-15T09:16:44.153Z"
   },
   {
    "duration": 0,
    "start_time": "2022-07-15T09:16:44.154Z"
   },
   {
    "duration": 0,
    "start_time": "2022-07-15T09:16:44.155Z"
   },
   {
    "duration": 0,
    "start_time": "2022-07-15T09:16:44.156Z"
   },
   {
    "duration": 0,
    "start_time": "2022-07-15T09:16:44.157Z"
   },
   {
    "duration": 0,
    "start_time": "2022-07-15T09:16:44.158Z"
   },
   {
    "duration": 0,
    "start_time": "2022-07-15T09:16:44.159Z"
   },
   {
    "duration": 0,
    "start_time": "2022-07-15T09:16:44.160Z"
   },
   {
    "duration": 0,
    "start_time": "2022-07-15T09:16:44.161Z"
   },
   {
    "duration": 0,
    "start_time": "2022-07-15T09:16:44.162Z"
   },
   {
    "duration": 0,
    "start_time": "2022-07-15T09:16:44.163Z"
   },
   {
    "duration": 0,
    "start_time": "2022-07-15T09:16:44.164Z"
   },
   {
    "duration": 0,
    "start_time": "2022-07-15T09:16:44.166Z"
   },
   {
    "duration": 0,
    "start_time": "2022-07-15T09:16:44.168Z"
   },
   {
    "duration": 0,
    "start_time": "2022-07-15T09:16:44.168Z"
   },
   {
    "duration": 0,
    "start_time": "2022-07-15T09:16:44.170Z"
   },
   {
    "duration": 0,
    "start_time": "2022-07-15T09:16:44.171Z"
   },
   {
    "duration": 0,
    "start_time": "2022-07-15T09:16:44.172Z"
   },
   {
    "duration": 0,
    "start_time": "2022-07-15T09:16:44.173Z"
   },
   {
    "duration": 0,
    "start_time": "2022-07-15T09:16:44.175Z"
   },
   {
    "duration": 0,
    "start_time": "2022-07-15T09:16:44.176Z"
   },
   {
    "duration": 0,
    "start_time": "2022-07-15T09:16:44.177Z"
   },
   {
    "duration": 0,
    "start_time": "2022-07-15T09:16:44.178Z"
   },
   {
    "duration": 0,
    "start_time": "2022-07-15T09:16:44.179Z"
   },
   {
    "duration": 0,
    "start_time": "2022-07-15T09:16:44.180Z"
   },
   {
    "duration": 0,
    "start_time": "2022-07-15T09:16:44.181Z"
   },
   {
    "duration": 0,
    "start_time": "2022-07-15T09:16:44.182Z"
   },
   {
    "duration": 0,
    "start_time": "2022-07-15T09:16:44.245Z"
   },
   {
    "duration": 3,
    "start_time": "2022-07-15T09:16:52.526Z"
   },
   {
    "duration": 465,
    "start_time": "2022-07-15T09:16:52.530Z"
   },
   {
    "duration": 11,
    "start_time": "2022-07-15T09:16:52.997Z"
   },
   {
    "duration": 9,
    "start_time": "2022-07-15T09:16:53.010Z"
   },
   {
    "duration": 14,
    "start_time": "2022-07-15T09:16:53.021Z"
   },
   {
    "duration": 19,
    "start_time": "2022-07-15T09:16:53.036Z"
   },
   {
    "duration": 11,
    "start_time": "2022-07-15T09:16:53.057Z"
   },
   {
    "duration": 14,
    "start_time": "2022-07-15T09:16:53.070Z"
   },
   {
    "duration": 35,
    "start_time": "2022-07-15T09:16:53.085Z"
   },
   {
    "duration": 64,
    "start_time": "2022-07-15T09:16:53.122Z"
   },
   {
    "duration": 32,
    "start_time": "2022-07-15T09:16:53.189Z"
   },
   {
    "duration": 23,
    "start_time": "2022-07-15T09:16:53.223Z"
   },
   {
    "duration": 9,
    "start_time": "2022-07-15T09:16:53.248Z"
   },
   {
    "duration": 34,
    "start_time": "2022-07-15T09:16:53.259Z"
   },
   {
    "duration": 0,
    "start_time": "2022-07-15T09:16:53.295Z"
   },
   {
    "duration": 0,
    "start_time": "2022-07-15T09:16:53.296Z"
   },
   {
    "duration": 0,
    "start_time": "2022-07-15T09:16:53.298Z"
   },
   {
    "duration": 0,
    "start_time": "2022-07-15T09:16:53.299Z"
   },
   {
    "duration": 0,
    "start_time": "2022-07-15T09:16:53.300Z"
   },
   {
    "duration": 0,
    "start_time": "2022-07-15T09:16:53.301Z"
   },
   {
    "duration": 0,
    "start_time": "2022-07-15T09:16:53.302Z"
   },
   {
    "duration": 0,
    "start_time": "2022-07-15T09:16:53.304Z"
   },
   {
    "duration": 0,
    "start_time": "2022-07-15T09:16:53.305Z"
   },
   {
    "duration": 0,
    "start_time": "2022-07-15T09:16:53.412Z"
   },
   {
    "duration": 0,
    "start_time": "2022-07-15T09:16:53.413Z"
   },
   {
    "duration": 0,
    "start_time": "2022-07-15T09:16:53.414Z"
   },
   {
    "duration": 0,
    "start_time": "2022-07-15T09:16:53.415Z"
   },
   {
    "duration": 0,
    "start_time": "2022-07-15T09:16:53.416Z"
   },
   {
    "duration": 0,
    "start_time": "2022-07-15T09:16:53.417Z"
   },
   {
    "duration": 0,
    "start_time": "2022-07-15T09:16:53.418Z"
   },
   {
    "duration": 0,
    "start_time": "2022-07-15T09:16:53.420Z"
   },
   {
    "duration": 0,
    "start_time": "2022-07-15T09:16:53.420Z"
   },
   {
    "duration": 0,
    "start_time": "2022-07-15T09:16:53.421Z"
   },
   {
    "duration": 0,
    "start_time": "2022-07-15T09:16:53.423Z"
   },
   {
    "duration": 0,
    "start_time": "2022-07-15T09:16:53.445Z"
   },
   {
    "duration": 0,
    "start_time": "2022-07-15T09:16:53.447Z"
   },
   {
    "duration": 0,
    "start_time": "2022-07-15T09:16:53.447Z"
   },
   {
    "duration": 0,
    "start_time": "2022-07-15T09:16:53.449Z"
   },
   {
    "duration": 0,
    "start_time": "2022-07-15T09:16:53.449Z"
   },
   {
    "duration": 0,
    "start_time": "2022-07-15T09:16:53.451Z"
   },
   {
    "duration": 0,
    "start_time": "2022-07-15T09:16:53.452Z"
   },
   {
    "duration": 0,
    "start_time": "2022-07-15T09:16:53.453Z"
   },
   {
    "duration": 0,
    "start_time": "2022-07-15T09:16:53.453Z"
   },
   {
    "duration": 0,
    "start_time": "2022-07-15T09:16:53.455Z"
   },
   {
    "duration": 0,
    "start_time": "2022-07-15T09:16:53.455Z"
   },
   {
    "duration": 0,
    "start_time": "2022-07-15T09:16:53.456Z"
   },
   {
    "duration": 0,
    "start_time": "2022-07-15T09:16:53.458Z"
   },
   {
    "duration": 0,
    "start_time": "2022-07-15T09:16:53.458Z"
   },
   {
    "duration": 0,
    "start_time": "2022-07-15T09:16:53.460Z"
   },
   {
    "duration": 0,
    "start_time": "2022-07-15T09:16:53.460Z"
   },
   {
    "duration": 0,
    "start_time": "2022-07-15T09:16:53.461Z"
   },
   {
    "duration": 0,
    "start_time": "2022-07-15T09:16:53.462Z"
   },
   {
    "duration": 0,
    "start_time": "2022-07-15T09:16:53.464Z"
   },
   {
    "duration": 0,
    "start_time": "2022-07-15T09:16:53.465Z"
   },
   {
    "duration": 1,
    "start_time": "2022-07-15T09:16:53.466Z"
   },
   {
    "duration": 0,
    "start_time": "2022-07-15T09:16:53.468Z"
   },
   {
    "duration": 0,
    "start_time": "2022-07-15T09:16:53.469Z"
   },
   {
    "duration": 0,
    "start_time": "2022-07-15T09:16:53.470Z"
   },
   {
    "duration": 0,
    "start_time": "2022-07-15T09:16:53.470Z"
   },
   {
    "duration": 0,
    "start_time": "2022-07-15T09:16:53.472Z"
   },
   {
    "duration": 0,
    "start_time": "2022-07-15T09:16:53.473Z"
   },
   {
    "duration": 0,
    "start_time": "2022-07-15T09:16:53.474Z"
   },
   {
    "duration": 0,
    "start_time": "2022-07-15T09:16:53.475Z"
   },
   {
    "duration": 3,
    "start_time": "2022-07-15T09:17:12.250Z"
   },
   {
    "duration": 452,
    "start_time": "2022-07-15T09:17:12.254Z"
   },
   {
    "duration": 11,
    "start_time": "2022-07-15T09:17:12.708Z"
   },
   {
    "duration": 13,
    "start_time": "2022-07-15T09:17:12.721Z"
   },
   {
    "duration": 15,
    "start_time": "2022-07-15T09:17:12.736Z"
   },
   {
    "duration": 20,
    "start_time": "2022-07-15T09:17:12.752Z"
   },
   {
    "duration": 13,
    "start_time": "2022-07-15T09:17:12.774Z"
   },
   {
    "duration": 13,
    "start_time": "2022-07-15T09:17:12.789Z"
   },
   {
    "duration": 40,
    "start_time": "2022-07-15T09:17:12.805Z"
   },
   {
    "duration": 50,
    "start_time": "2022-07-15T09:17:12.847Z"
   },
   {
    "duration": 25,
    "start_time": "2022-07-15T09:17:12.899Z"
   },
   {
    "duration": 27,
    "start_time": "2022-07-15T09:17:12.926Z"
   },
   {
    "duration": 12,
    "start_time": "2022-07-15T09:17:12.955Z"
   },
   {
    "duration": 29,
    "start_time": "2022-07-15T09:17:12.968Z"
   },
   {
    "duration": 0,
    "start_time": "2022-07-15T09:17:13.000Z"
   },
   {
    "duration": 0,
    "start_time": "2022-07-15T09:17:13.001Z"
   },
   {
    "duration": 0,
    "start_time": "2022-07-15T09:17:13.003Z"
   },
   {
    "duration": 0,
    "start_time": "2022-07-15T09:17:13.003Z"
   },
   {
    "duration": 0,
    "start_time": "2022-07-15T09:17:13.004Z"
   },
   {
    "duration": 0,
    "start_time": "2022-07-15T09:17:13.006Z"
   },
   {
    "duration": 0,
    "start_time": "2022-07-15T09:17:13.007Z"
   },
   {
    "duration": 0,
    "start_time": "2022-07-15T09:17:13.008Z"
   },
   {
    "duration": 0,
    "start_time": "2022-07-15T09:17:13.009Z"
   },
   {
    "duration": 0,
    "start_time": "2022-07-15T09:17:13.010Z"
   },
   {
    "duration": 0,
    "start_time": "2022-07-15T09:17:13.011Z"
   },
   {
    "duration": 0,
    "start_time": "2022-07-15T09:17:13.012Z"
   },
   {
    "duration": 0,
    "start_time": "2022-07-15T09:17:13.013Z"
   },
   {
    "duration": 0,
    "start_time": "2022-07-15T09:17:13.014Z"
   },
   {
    "duration": 0,
    "start_time": "2022-07-15T09:17:13.046Z"
   },
   {
    "duration": 0,
    "start_time": "2022-07-15T09:17:13.048Z"
   },
   {
    "duration": 0,
    "start_time": "2022-07-15T09:17:13.049Z"
   },
   {
    "duration": 0,
    "start_time": "2022-07-15T09:17:13.050Z"
   },
   {
    "duration": 0,
    "start_time": "2022-07-15T09:17:13.050Z"
   },
   {
    "duration": 0,
    "start_time": "2022-07-15T09:17:13.051Z"
   },
   {
    "duration": 0,
    "start_time": "2022-07-15T09:17:13.052Z"
   },
   {
    "duration": 0,
    "start_time": "2022-07-15T09:17:13.053Z"
   },
   {
    "duration": 1,
    "start_time": "2022-07-15T09:17:13.054Z"
   },
   {
    "duration": 0,
    "start_time": "2022-07-15T09:17:13.055Z"
   },
   {
    "duration": 0,
    "start_time": "2022-07-15T09:17:13.056Z"
   },
   {
    "duration": 0,
    "start_time": "2022-07-15T09:17:13.057Z"
   },
   {
    "duration": 0,
    "start_time": "2022-07-15T09:17:13.058Z"
   },
   {
    "duration": 0,
    "start_time": "2022-07-15T09:17:13.059Z"
   },
   {
    "duration": 0,
    "start_time": "2022-07-15T09:17:13.060Z"
   },
   {
    "duration": 0,
    "start_time": "2022-07-15T09:17:13.061Z"
   },
   {
    "duration": 0,
    "start_time": "2022-07-15T09:17:13.062Z"
   },
   {
    "duration": 0,
    "start_time": "2022-07-15T09:17:13.063Z"
   },
   {
    "duration": 0,
    "start_time": "2022-07-15T09:17:13.064Z"
   },
   {
    "duration": 0,
    "start_time": "2022-07-15T09:17:13.065Z"
   },
   {
    "duration": 0,
    "start_time": "2022-07-15T09:17:13.065Z"
   },
   {
    "duration": 0,
    "start_time": "2022-07-15T09:17:13.067Z"
   },
   {
    "duration": 0,
    "start_time": "2022-07-15T09:17:13.067Z"
   },
   {
    "duration": 0,
    "start_time": "2022-07-15T09:17:13.068Z"
   },
   {
    "duration": 0,
    "start_time": "2022-07-15T09:17:13.069Z"
   },
   {
    "duration": 0,
    "start_time": "2022-07-15T09:17:13.070Z"
   },
   {
    "duration": 0,
    "start_time": "2022-07-15T09:17:13.071Z"
   },
   {
    "duration": 0,
    "start_time": "2022-07-15T09:17:13.072Z"
   },
   {
    "duration": 0,
    "start_time": "2022-07-15T09:17:13.073Z"
   },
   {
    "duration": 0,
    "start_time": "2022-07-15T09:17:13.074Z"
   },
   {
    "duration": 0,
    "start_time": "2022-07-15T09:17:13.075Z"
   },
   {
    "duration": 0,
    "start_time": "2022-07-15T09:17:13.076Z"
   },
   {
    "duration": 0,
    "start_time": "2022-07-15T09:17:13.077Z"
   },
   {
    "duration": 0,
    "start_time": "2022-07-15T09:17:13.078Z"
   },
   {
    "duration": 0,
    "start_time": "2022-07-15T09:17:13.079Z"
   },
   {
    "duration": 12,
    "start_time": "2022-07-15T09:17:29.677Z"
   },
   {
    "duration": 14,
    "start_time": "2022-07-15T09:17:47.527Z"
   },
   {
    "duration": 14,
    "start_time": "2022-07-15T09:18:01.198Z"
   },
   {
    "duration": 12,
    "start_time": "2022-07-15T09:18:14.243Z"
   },
   {
    "duration": 12,
    "start_time": "2022-07-15T09:18:21.697Z"
   },
   {
    "duration": 11,
    "start_time": "2022-07-15T09:19:22.193Z"
   },
   {
    "duration": 9,
    "start_time": "2022-07-15T09:21:41.878Z"
   },
   {
    "duration": 3,
    "start_time": "2022-07-15T09:21:57.800Z"
   },
   {
    "duration": 506,
    "start_time": "2022-07-15T09:21:57.806Z"
   },
   {
    "duration": 11,
    "start_time": "2022-07-15T09:21:58.314Z"
   },
   {
    "duration": 8,
    "start_time": "2022-07-15T09:21:58.328Z"
   },
   {
    "duration": 15,
    "start_time": "2022-07-15T09:21:58.338Z"
   },
   {
    "duration": 17,
    "start_time": "2022-07-15T09:21:58.354Z"
   },
   {
    "duration": 12,
    "start_time": "2022-07-15T09:21:58.373Z"
   },
   {
    "duration": 16,
    "start_time": "2022-07-15T09:21:58.387Z"
   },
   {
    "duration": 40,
    "start_time": "2022-07-15T09:21:58.406Z"
   },
   {
    "duration": 49,
    "start_time": "2022-07-15T09:21:58.448Z"
   },
   {
    "duration": 26,
    "start_time": "2022-07-15T09:21:58.499Z"
   },
   {
    "duration": 9,
    "start_time": "2022-07-15T09:21:58.546Z"
   },
   {
    "duration": 12,
    "start_time": "2022-07-15T09:21:58.558Z"
   },
   {
    "duration": 28,
    "start_time": "2022-07-15T09:21:58.572Z"
   },
   {
    "duration": 7,
    "start_time": "2022-07-15T09:21:58.602Z"
   },
   {
    "duration": 9,
    "start_time": "2022-07-15T09:21:58.611Z"
   },
   {
    "duration": 18,
    "start_time": "2022-07-15T09:21:58.647Z"
   },
   {
    "duration": 34,
    "start_time": "2022-07-15T09:21:58.667Z"
   },
   {
    "duration": 14,
    "start_time": "2022-07-15T09:21:58.703Z"
   },
   {
    "duration": 33,
    "start_time": "2022-07-15T09:21:58.719Z"
   },
   {
    "duration": 10,
    "start_time": "2022-07-15T09:21:58.754Z"
   },
   {
    "duration": 17,
    "start_time": "2022-07-15T09:21:58.766Z"
   },
   {
    "duration": 11,
    "start_time": "2022-07-15T09:21:58.785Z"
   },
   {
    "duration": 10,
    "start_time": "2022-07-15T09:21:58.800Z"
   },
   {
    "duration": 52,
    "start_time": "2022-07-15T09:21:58.812Z"
   },
   {
    "duration": 20,
    "start_time": "2022-07-15T09:21:58.865Z"
   },
   {
    "duration": 67,
    "start_time": "2022-07-15T09:21:58.888Z"
   },
   {
    "duration": 22,
    "start_time": "2022-07-15T09:21:58.958Z"
   },
   {
    "duration": 13,
    "start_time": "2022-07-15T09:21:58.982Z"
   },
   {
    "duration": 8,
    "start_time": "2022-07-15T09:21:58.997Z"
   },
   {
    "duration": 58,
    "start_time": "2022-07-15T09:21:59.006Z"
   },
   {
    "duration": 35,
    "start_time": "2022-07-15T09:21:59.065Z"
   },
   {
    "duration": 44,
    "start_time": "2022-07-15T09:21:59.103Z"
   },
   {
    "duration": 21,
    "start_time": "2022-07-15T09:21:59.149Z"
   },
   {
    "duration": 26,
    "start_time": "2022-07-15T09:21:59.171Z"
   },
   {
    "duration": 47,
    "start_time": "2022-07-15T09:21:59.199Z"
   },
   {
    "duration": 16,
    "start_time": "2022-07-15T09:21:59.248Z"
   },
   {
    "duration": 17,
    "start_time": "2022-07-15T09:21:59.266Z"
   },
   {
    "duration": 21,
    "start_time": "2022-07-15T09:21:59.285Z"
   },
   {
    "duration": 57,
    "start_time": "2022-07-15T09:21:59.308Z"
   },
   {
    "duration": 9,
    "start_time": "2022-07-15T09:21:59.367Z"
   },
   {
    "duration": 12,
    "start_time": "2022-07-15T09:21:59.378Z"
   },
   {
    "duration": 10,
    "start_time": "2022-07-15T09:21:59.392Z"
   },
   {
    "duration": 51,
    "start_time": "2022-07-15T09:21:59.404Z"
   },
   {
    "duration": 144,
    "start_time": "2022-07-15T09:21:59.456Z"
   },
   {
    "duration": 17,
    "start_time": "2022-07-15T09:21:59.602Z"
   },
   {
    "duration": 7,
    "start_time": "2022-07-15T09:21:59.620Z"
   },
   {
    "duration": 173,
    "start_time": "2022-07-15T09:21:59.647Z"
   },
   {
    "duration": 218,
    "start_time": "2022-07-15T09:21:59.822Z"
   },
   {
    "duration": 11,
    "start_time": "2022-07-15T09:22:00.045Z"
   },
   {
    "duration": 17,
    "start_time": "2022-07-15T09:22:00.058Z"
   },
   {
    "duration": 238,
    "start_time": "2022-07-15T09:22:00.076Z"
   },
   {
    "duration": 10,
    "start_time": "2022-07-15T09:22:00.315Z"
   },
   {
    "duration": 261,
    "start_time": "2022-07-15T09:22:00.327Z"
   },
   {
    "duration": 10,
    "start_time": "2022-07-15T09:22:00.590Z"
   },
   {
    "duration": 262,
    "start_time": "2022-07-15T09:22:00.602Z"
   },
   {
    "duration": 4,
    "start_time": "2022-07-15T09:22:00.866Z"
   },
   {
    "duration": 27,
    "start_time": "2022-07-15T09:22:00.871Z"
   },
   {
    "duration": 6,
    "start_time": "2022-07-15T09:22:00.900Z"
   },
   {
    "duration": 17,
    "start_time": "2022-07-15T09:22:00.908Z"
   },
   {
    "duration": 20,
    "start_time": "2022-07-15T09:22:00.927Z"
   },
   {
    "duration": 27,
    "start_time": "2022-07-15T09:22:00.949Z"
   },
   {
    "duration": 14,
    "start_time": "2022-07-15T09:22:00.978Z"
   },
   {
    "duration": 32,
    "start_time": "2022-07-15T09:25:33.146Z"
   },
   {
    "duration": 3,
    "start_time": "2022-07-15T09:25:39.182Z"
   },
   {
    "duration": 509,
    "start_time": "2022-07-15T09:25:39.192Z"
   },
   {
    "duration": 11,
    "start_time": "2022-07-15T09:25:39.703Z"
   },
   {
    "duration": 42,
    "start_time": "2022-07-15T09:25:39.716Z"
   },
   {
    "duration": 36,
    "start_time": "2022-07-15T09:25:39.761Z"
   },
   {
    "duration": 65,
    "start_time": "2022-07-15T09:25:39.799Z"
   },
   {
    "duration": 37,
    "start_time": "2022-07-15T09:25:39.866Z"
   },
   {
    "duration": 44,
    "start_time": "2022-07-15T09:25:39.904Z"
   },
   {
    "duration": 66,
    "start_time": "2022-07-15T09:25:39.949Z"
   },
   {
    "duration": 57,
    "start_time": "2022-07-15T09:25:40.017Z"
   },
   {
    "duration": 27,
    "start_time": "2022-07-15T09:25:40.078Z"
   },
   {
    "duration": 37,
    "start_time": "2022-07-15T09:25:40.107Z"
   },
   {
    "duration": 32,
    "start_time": "2022-07-15T09:25:40.146Z"
   },
   {
    "duration": 69,
    "start_time": "2022-07-15T09:25:40.180Z"
   },
   {
    "duration": 32,
    "start_time": "2022-07-15T09:25:40.251Z"
   },
   {
    "duration": 34,
    "start_time": "2022-07-15T09:25:40.285Z"
   },
   {
    "duration": 76,
    "start_time": "2022-07-15T09:25:40.320Z"
   },
   {
    "duration": 70,
    "start_time": "2022-07-15T09:25:40.397Z"
   },
   {
    "duration": 22,
    "start_time": "2022-07-15T09:25:40.469Z"
   },
   {
    "duration": 11,
    "start_time": "2022-07-15T09:25:40.493Z"
   },
   {
    "duration": 33,
    "start_time": "2022-07-15T09:25:40.505Z"
   },
   {
    "duration": 59,
    "start_time": "2022-07-15T09:25:40.539Z"
   },
   {
    "duration": 45,
    "start_time": "2022-07-15T09:25:40.599Z"
   },
   {
    "duration": 41,
    "start_time": "2022-07-15T09:25:40.646Z"
   },
   {
    "duration": 44,
    "start_time": "2022-07-15T09:25:40.689Z"
   },
   {
    "duration": 22,
    "start_time": "2022-07-15T09:25:40.735Z"
   },
   {
    "duration": 68,
    "start_time": "2022-07-15T09:25:40.758Z"
   },
   {
    "duration": 33,
    "start_time": "2022-07-15T09:25:40.827Z"
   },
   {
    "duration": 35,
    "start_time": "2022-07-15T09:25:40.864Z"
   },
   {
    "duration": 16,
    "start_time": "2022-07-15T09:25:40.900Z"
   },
   {
    "duration": 53,
    "start_time": "2022-07-15T09:25:40.917Z"
   },
   {
    "duration": 29,
    "start_time": "2022-07-15T09:25:40.972Z"
   },
   {
    "duration": 18,
    "start_time": "2022-07-15T09:25:41.003Z"
   },
   {
    "duration": 37,
    "start_time": "2022-07-15T09:25:41.023Z"
   },
   {
    "duration": 22,
    "start_time": "2022-07-15T09:25:41.062Z"
   },
   {
    "duration": 21,
    "start_time": "2022-07-15T09:25:41.085Z"
   },
   {
    "duration": 38,
    "start_time": "2022-07-15T09:25:41.107Z"
   },
   {
    "duration": 41,
    "start_time": "2022-07-15T09:25:41.146Z"
   },
   {
    "duration": 25,
    "start_time": "2022-07-15T09:25:41.189Z"
   },
   {
    "duration": 0,
    "start_time": "2022-07-15T09:25:41.215Z"
   },
   {
    "duration": 0,
    "start_time": "2022-07-15T09:25:41.217Z"
   },
   {
    "duration": 0,
    "start_time": "2022-07-15T09:25:41.218Z"
   },
   {
    "duration": 0,
    "start_time": "2022-07-15T09:25:41.219Z"
   },
   {
    "duration": 0,
    "start_time": "2022-07-15T09:25:41.220Z"
   },
   {
    "duration": 0,
    "start_time": "2022-07-15T09:25:41.222Z"
   },
   {
    "duration": 0,
    "start_time": "2022-07-15T09:25:41.223Z"
   },
   {
    "duration": 0,
    "start_time": "2022-07-15T09:25:41.224Z"
   },
   {
    "duration": 0,
    "start_time": "2022-07-15T09:25:41.225Z"
   },
   {
    "duration": 0,
    "start_time": "2022-07-15T09:25:41.226Z"
   },
   {
    "duration": 0,
    "start_time": "2022-07-15T09:25:41.227Z"
   },
   {
    "duration": 0,
    "start_time": "2022-07-15T09:25:41.228Z"
   },
   {
    "duration": 0,
    "start_time": "2022-07-15T09:25:41.229Z"
   },
   {
    "duration": 0,
    "start_time": "2022-07-15T09:25:41.231Z"
   },
   {
    "duration": 0,
    "start_time": "2022-07-15T09:25:41.232Z"
   },
   {
    "duration": 0,
    "start_time": "2022-07-15T09:25:41.233Z"
   },
   {
    "duration": 0,
    "start_time": "2022-07-15T09:25:41.234Z"
   },
   {
    "duration": 0,
    "start_time": "2022-07-15T09:25:41.235Z"
   },
   {
    "duration": 0,
    "start_time": "2022-07-15T09:25:41.236Z"
   },
   {
    "duration": 0,
    "start_time": "2022-07-15T09:25:41.237Z"
   },
   {
    "duration": 0,
    "start_time": "2022-07-15T09:25:41.238Z"
   },
   {
    "duration": 0,
    "start_time": "2022-07-15T09:25:41.245Z"
   },
   {
    "duration": 0,
    "start_time": "2022-07-15T09:25:41.247Z"
   },
   {
    "duration": 0,
    "start_time": "2022-07-15T09:25:41.248Z"
   },
   {
    "duration": 3,
    "start_time": "2022-07-15T09:25:59.634Z"
   },
   {
    "duration": 497,
    "start_time": "2022-07-15T09:25:59.639Z"
   },
   {
    "duration": 10,
    "start_time": "2022-07-15T09:26:00.138Z"
   },
   {
    "duration": 35,
    "start_time": "2022-07-15T09:26:00.150Z"
   },
   {
    "duration": 30,
    "start_time": "2022-07-15T09:26:00.187Z"
   },
   {
    "duration": 19,
    "start_time": "2022-07-15T09:26:00.218Z"
   },
   {
    "duration": 37,
    "start_time": "2022-07-15T09:26:00.239Z"
   },
   {
    "duration": 30,
    "start_time": "2022-07-15T09:26:00.277Z"
   },
   {
    "duration": 35,
    "start_time": "2022-07-15T09:26:00.310Z"
   },
   {
    "duration": 53,
    "start_time": "2022-07-15T09:26:00.347Z"
   },
   {
    "duration": 28,
    "start_time": "2022-07-15T09:26:00.402Z"
   },
   {
    "duration": 10,
    "start_time": "2022-07-15T09:26:00.447Z"
   },
   {
    "duration": 18,
    "start_time": "2022-07-15T09:26:00.459Z"
   },
   {
    "duration": 48,
    "start_time": "2022-07-15T09:26:00.479Z"
   },
   {
    "duration": 31,
    "start_time": "2022-07-15T09:26:00.529Z"
   },
   {
    "duration": 23,
    "start_time": "2022-07-15T09:26:00.562Z"
   },
   {
    "duration": 25,
    "start_time": "2022-07-15T09:26:00.587Z"
   },
   {
    "duration": 36,
    "start_time": "2022-07-15T09:26:00.614Z"
   },
   {
    "duration": 14,
    "start_time": "2022-07-15T09:26:00.652Z"
   },
   {
    "duration": 12,
    "start_time": "2022-07-15T09:26:00.667Z"
   },
   {
    "duration": 11,
    "start_time": "2022-07-15T09:26:00.681Z"
   },
   {
    "duration": 19,
    "start_time": "2022-07-15T09:26:00.693Z"
   },
   {
    "duration": 17,
    "start_time": "2022-07-15T09:26:00.714Z"
   },
   {
    "duration": 8,
    "start_time": "2022-07-15T09:26:00.745Z"
   },
   {
    "duration": 34,
    "start_time": "2022-07-15T09:26:00.755Z"
   },
   {
    "duration": 13,
    "start_time": "2022-07-15T09:26:00.790Z"
   },
   {
    "duration": 59,
    "start_time": "2022-07-15T09:26:00.805Z"
   },
   {
    "duration": 19,
    "start_time": "2022-07-15T09:26:00.865Z"
   },
   {
    "duration": 18,
    "start_time": "2022-07-15T09:26:00.886Z"
   },
   {
    "duration": 15,
    "start_time": "2022-07-15T09:26:00.906Z"
   },
   {
    "duration": 54,
    "start_time": "2022-07-15T09:26:00.923Z"
   },
   {
    "duration": 27,
    "start_time": "2022-07-15T09:26:00.978Z"
   },
   {
    "duration": 21,
    "start_time": "2022-07-15T09:26:01.008Z"
   },
   {
    "duration": 31,
    "start_time": "2022-07-15T09:26:01.031Z"
   },
   {
    "duration": 42,
    "start_time": "2022-07-15T09:26:01.064Z"
   },
   {
    "duration": 22,
    "start_time": "2022-07-15T09:26:01.108Z"
   },
   {
    "duration": 24,
    "start_time": "2022-07-15T09:26:01.132Z"
   },
   {
    "duration": 56,
    "start_time": "2022-07-15T09:26:01.158Z"
   },
   {
    "duration": 59,
    "start_time": "2022-07-15T09:26:01.216Z"
   },
   {
    "duration": 46,
    "start_time": "2022-07-15T09:26:01.277Z"
   },
   {
    "duration": 17,
    "start_time": "2022-07-15T09:26:01.325Z"
   },
   {
    "duration": 32,
    "start_time": "2022-07-15T09:26:01.344Z"
   },
   {
    "duration": 16,
    "start_time": "2022-07-15T09:26:01.378Z"
   },
   {
    "duration": 24,
    "start_time": "2022-07-15T09:26:01.396Z"
   },
   {
    "duration": 190,
    "start_time": "2022-07-15T09:26:01.421Z"
   },
   {
    "duration": 15,
    "start_time": "2022-07-15T09:26:01.613Z"
   },
   {
    "duration": 33,
    "start_time": "2022-07-15T09:26:01.630Z"
   },
   {
    "duration": 184,
    "start_time": "2022-07-15T09:26:01.665Z"
   },
   {
    "duration": 246,
    "start_time": "2022-07-15T09:26:01.851Z"
   },
   {
    "duration": 14,
    "start_time": "2022-07-15T09:26:02.099Z"
   },
   {
    "duration": 40,
    "start_time": "2022-07-15T09:26:02.115Z"
   },
   {
    "duration": 249,
    "start_time": "2022-07-15T09:26:02.157Z"
   },
   {
    "duration": 11,
    "start_time": "2022-07-15T09:26:02.408Z"
   },
   {
    "duration": 272,
    "start_time": "2022-07-15T09:26:02.420Z"
   },
   {
    "duration": 12,
    "start_time": "2022-07-15T09:26:02.693Z"
   },
   {
    "duration": 362,
    "start_time": "2022-07-15T09:26:02.706Z"
   },
   {
    "duration": 4,
    "start_time": "2022-07-15T09:26:03.070Z"
   },
   {
    "duration": 11,
    "start_time": "2022-07-15T09:26:03.075Z"
   },
   {
    "duration": 7,
    "start_time": "2022-07-15T09:26:03.087Z"
   },
   {
    "duration": 10,
    "start_time": "2022-07-15T09:26:03.096Z"
   },
   {
    "duration": 14,
    "start_time": "2022-07-15T09:26:03.107Z"
   },
   {
    "duration": 16,
    "start_time": "2022-07-15T09:26:03.123Z"
   },
   {
    "duration": 6,
    "start_time": "2022-07-15T09:26:03.140Z"
   },
   {
    "duration": 3,
    "start_time": "2022-07-15T09:35:35.814Z"
   },
   {
    "duration": 475,
    "start_time": "2022-07-15T09:35:35.819Z"
   },
   {
    "duration": 12,
    "start_time": "2022-07-15T09:35:36.296Z"
   },
   {
    "duration": 15,
    "start_time": "2022-07-15T09:35:36.310Z"
   },
   {
    "duration": 14,
    "start_time": "2022-07-15T09:35:36.328Z"
   },
   {
    "duration": 29,
    "start_time": "2022-07-15T09:35:36.346Z"
   },
   {
    "duration": 16,
    "start_time": "2022-07-15T09:35:36.378Z"
   },
   {
    "duration": 25,
    "start_time": "2022-07-15T09:35:36.396Z"
   },
   {
    "duration": 27,
    "start_time": "2022-07-15T09:35:36.424Z"
   },
   {
    "duration": 50,
    "start_time": "2022-07-15T09:35:36.453Z"
   },
   {
    "duration": 45,
    "start_time": "2022-07-15T09:35:36.505Z"
   },
   {
    "duration": 8,
    "start_time": "2022-07-15T09:35:36.552Z"
   },
   {
    "duration": 16,
    "start_time": "2022-07-15T09:35:36.561Z"
   },
   {
    "duration": 29,
    "start_time": "2022-07-15T09:35:36.579Z"
   },
   {
    "duration": 8,
    "start_time": "2022-07-15T09:35:36.610Z"
   },
   {
    "duration": 31,
    "start_time": "2022-07-15T09:35:36.620Z"
   },
   {
    "duration": 28,
    "start_time": "2022-07-15T09:35:36.653Z"
   },
   {
    "duration": 33,
    "start_time": "2022-07-15T09:35:36.683Z"
   },
   {
    "duration": 29,
    "start_time": "2022-07-15T09:35:36.718Z"
   },
   {
    "duration": 9,
    "start_time": "2022-07-15T09:35:36.748Z"
   },
   {
    "duration": 10,
    "start_time": "2022-07-15T09:35:36.758Z"
   },
   {
    "duration": 15,
    "start_time": "2022-07-15T09:35:36.770Z"
   },
   {
    "duration": 12,
    "start_time": "2022-07-15T09:35:36.787Z"
   },
   {
    "duration": 11,
    "start_time": "2022-07-15T09:35:36.804Z"
   },
   {
    "duration": 44,
    "start_time": "2022-07-15T09:35:36.817Z"
   },
   {
    "duration": 14,
    "start_time": "2022-07-15T09:35:36.864Z"
   },
   {
    "duration": 47,
    "start_time": "2022-07-15T09:35:36.880Z"
   },
   {
    "duration": 19,
    "start_time": "2022-07-15T09:35:36.946Z"
   },
   {
    "duration": 18,
    "start_time": "2022-07-15T09:35:36.967Z"
   },
   {
    "duration": 8,
    "start_time": "2022-07-15T09:35:36.987Z"
   },
   {
    "duration": 50,
    "start_time": "2022-07-15T09:35:36.997Z"
   },
   {
    "duration": 31,
    "start_time": "2022-07-15T09:35:37.049Z"
   },
   {
    "duration": 22,
    "start_time": "2022-07-15T09:35:37.081Z"
   },
   {
    "duration": 48,
    "start_time": "2022-07-15T09:35:37.105Z"
   },
   {
    "duration": 25,
    "start_time": "2022-07-15T09:35:37.154Z"
   },
   {
    "duration": 22,
    "start_time": "2022-07-15T09:35:37.180Z"
   },
   {
    "duration": 43,
    "start_time": "2022-07-15T09:35:37.204Z"
   },
   {
    "duration": 19,
    "start_time": "2022-07-15T09:35:37.249Z"
   },
   {
    "duration": 923,
    "start_time": "2022-07-15T09:35:37.269Z"
   },
   {
    "duration": 0,
    "start_time": "2022-07-15T09:35:38.193Z"
   },
   {
    "duration": 0,
    "start_time": "2022-07-15T09:35:38.194Z"
   },
   {
    "duration": 0,
    "start_time": "2022-07-15T09:35:38.195Z"
   },
   {
    "duration": 0,
    "start_time": "2022-07-15T09:35:38.197Z"
   },
   {
    "duration": 1,
    "start_time": "2022-07-15T09:35:38.198Z"
   },
   {
    "duration": 0,
    "start_time": "2022-07-15T09:35:38.200Z"
   },
   {
    "duration": 0,
    "start_time": "2022-07-15T09:35:38.201Z"
   },
   {
    "duration": 0,
    "start_time": "2022-07-15T09:35:38.203Z"
   },
   {
    "duration": 0,
    "start_time": "2022-07-15T09:35:38.203Z"
   },
   {
    "duration": 1,
    "start_time": "2022-07-15T09:35:38.204Z"
   },
   {
    "duration": 0,
    "start_time": "2022-07-15T09:35:38.206Z"
   },
   {
    "duration": 0,
    "start_time": "2022-07-15T09:35:38.207Z"
   },
   {
    "duration": 0,
    "start_time": "2022-07-15T09:35:38.208Z"
   },
   {
    "duration": 0,
    "start_time": "2022-07-15T09:35:38.209Z"
   },
   {
    "duration": 0,
    "start_time": "2022-07-15T09:35:38.210Z"
   },
   {
    "duration": 0,
    "start_time": "2022-07-15T09:35:38.211Z"
   },
   {
    "duration": 0,
    "start_time": "2022-07-15T09:35:38.212Z"
   },
   {
    "duration": 0,
    "start_time": "2022-07-15T09:35:38.213Z"
   },
   {
    "duration": 0,
    "start_time": "2022-07-15T09:35:38.214Z"
   },
   {
    "duration": 0,
    "start_time": "2022-07-15T09:35:38.215Z"
   },
   {
    "duration": 0,
    "start_time": "2022-07-15T09:35:38.216Z"
   },
   {
    "duration": 0,
    "start_time": "2022-07-15T09:35:38.217Z"
   },
   {
    "duration": 0,
    "start_time": "2022-07-15T09:35:38.218Z"
   },
   {
    "duration": 0,
    "start_time": "2022-07-15T09:35:38.219Z"
   },
   {
    "duration": 2,
    "start_time": "2022-07-15T09:35:51.859Z"
   },
   {
    "duration": 510,
    "start_time": "2022-07-15T09:35:51.863Z"
   },
   {
    "duration": 11,
    "start_time": "2022-07-15T09:35:52.375Z"
   },
   {
    "duration": 12,
    "start_time": "2022-07-15T09:35:52.388Z"
   },
   {
    "duration": 19,
    "start_time": "2022-07-15T09:35:52.402Z"
   },
   {
    "duration": 19,
    "start_time": "2022-07-15T09:35:52.423Z"
   },
   {
    "duration": 11,
    "start_time": "2022-07-15T09:35:52.446Z"
   },
   {
    "duration": 12,
    "start_time": "2022-07-15T09:35:52.459Z"
   },
   {
    "duration": 30,
    "start_time": "2022-07-15T09:35:52.473Z"
   },
   {
    "duration": 74,
    "start_time": "2022-07-15T09:35:52.505Z"
   },
   {
    "duration": 30,
    "start_time": "2022-07-15T09:35:52.580Z"
   },
   {
    "duration": 9,
    "start_time": "2022-07-15T09:35:52.611Z"
   },
   {
    "duration": 28,
    "start_time": "2022-07-15T09:35:52.622Z"
   },
   {
    "duration": 35,
    "start_time": "2022-07-15T09:35:52.653Z"
   },
   {
    "duration": 10,
    "start_time": "2022-07-15T09:35:52.690Z"
   },
   {
    "duration": 14,
    "start_time": "2022-07-15T09:35:52.701Z"
   },
   {
    "duration": 29,
    "start_time": "2022-07-15T09:35:52.717Z"
   },
   {
    "duration": 33,
    "start_time": "2022-07-15T09:35:52.747Z"
   },
   {
    "duration": 14,
    "start_time": "2022-07-15T09:35:52.782Z"
   },
   {
    "duration": 8,
    "start_time": "2022-07-15T09:35:52.798Z"
   },
   {
    "duration": 11,
    "start_time": "2022-07-15T09:35:52.807Z"
   },
   {
    "duration": 14,
    "start_time": "2022-07-15T09:35:52.847Z"
   },
   {
    "duration": 11,
    "start_time": "2022-07-15T09:35:52.863Z"
   },
   {
    "duration": 12,
    "start_time": "2022-07-15T09:35:52.876Z"
   },
   {
    "duration": 26,
    "start_time": "2022-07-15T09:35:52.890Z"
   },
   {
    "duration": 33,
    "start_time": "2022-07-15T09:35:52.918Z"
   },
   {
    "duration": 48,
    "start_time": "2022-07-15T09:35:52.952Z"
   },
   {
    "duration": 19,
    "start_time": "2022-07-15T09:35:53.002Z"
   },
   {
    "duration": 28,
    "start_time": "2022-07-15T09:35:53.023Z"
   },
   {
    "duration": 5,
    "start_time": "2022-07-15T09:35:53.053Z"
   },
   {
    "duration": 33,
    "start_time": "2022-07-15T09:35:53.060Z"
   },
   {
    "duration": 50,
    "start_time": "2022-07-15T09:35:53.095Z"
   },
   {
    "duration": 20,
    "start_time": "2022-07-15T09:35:53.148Z"
   },
   {
    "duration": 19,
    "start_time": "2022-07-15T09:35:53.170Z"
   },
   {
    "duration": 24,
    "start_time": "2022-07-15T09:35:53.190Z"
   },
   {
    "duration": 49,
    "start_time": "2022-07-15T09:35:53.216Z"
   },
   {
    "duration": 13,
    "start_time": "2022-07-15T09:35:53.267Z"
   },
   {
    "duration": 23,
    "start_time": "2022-07-15T09:35:53.282Z"
   },
   {
    "duration": 39,
    "start_time": "2022-07-15T09:35:53.307Z"
   },
   {
    "duration": 23,
    "start_time": "2022-07-15T09:35:53.348Z"
   },
   {
    "duration": 8,
    "start_time": "2022-07-15T09:35:53.375Z"
   },
   {
    "duration": 10,
    "start_time": "2022-07-15T09:35:53.384Z"
   },
   {
    "duration": 15,
    "start_time": "2022-07-15T09:35:53.396Z"
   },
   {
    "duration": 50,
    "start_time": "2022-07-15T09:35:53.413Z"
   },
   {
    "duration": 167,
    "start_time": "2022-07-15T09:35:53.465Z"
   },
   {
    "duration": 22,
    "start_time": "2022-07-15T09:35:53.634Z"
   },
   {
    "duration": 6,
    "start_time": "2022-07-15T09:35:53.657Z"
   },
   {
    "duration": 179,
    "start_time": "2022-07-15T09:35:53.664Z"
   },
   {
    "duration": 246,
    "start_time": "2022-07-15T09:35:53.845Z"
   },
   {
    "duration": 12,
    "start_time": "2022-07-15T09:35:54.092Z"
   },
   {
    "duration": 12,
    "start_time": "2022-07-15T09:35:54.105Z"
   },
   {
    "duration": 290,
    "start_time": "2022-07-15T09:35:54.119Z"
   },
   {
    "duration": 12,
    "start_time": "2022-07-15T09:35:54.412Z"
   },
   {
    "duration": 275,
    "start_time": "2022-07-15T09:35:54.426Z"
   },
   {
    "duration": 11,
    "start_time": "2022-07-15T09:35:54.703Z"
   },
   {
    "duration": 255,
    "start_time": "2022-07-15T09:35:54.716Z"
   },
   {
    "duration": 4,
    "start_time": "2022-07-15T09:35:54.973Z"
   },
   {
    "duration": 15,
    "start_time": "2022-07-15T09:35:54.979Z"
   },
   {
    "duration": 5,
    "start_time": "2022-07-15T09:35:54.996Z"
   },
   {
    "duration": 12,
    "start_time": "2022-07-15T09:35:55.002Z"
   },
   {
    "duration": 28,
    "start_time": "2022-07-15T09:35:55.016Z"
   },
   {
    "duration": 15,
    "start_time": "2022-07-15T09:35:55.045Z"
   },
   {
    "duration": 6,
    "start_time": "2022-07-15T09:35:55.062Z"
   },
   {
    "duration": 874,
    "start_time": "2022-07-15T09:37:22.429Z"
   },
   {
    "duration": 3,
    "start_time": "2022-07-15T09:39:26.455Z"
   },
   {
    "duration": 520,
    "start_time": "2022-07-15T09:39:26.460Z"
   },
   {
    "duration": 12,
    "start_time": "2022-07-15T09:39:26.982Z"
   },
   {
    "duration": 40,
    "start_time": "2022-07-15T09:39:26.996Z"
   },
   {
    "duration": 28,
    "start_time": "2022-07-15T09:39:27.038Z"
   },
   {
    "duration": 32,
    "start_time": "2022-07-15T09:39:27.067Z"
   },
   {
    "duration": 21,
    "start_time": "2022-07-15T09:39:27.100Z"
   },
   {
    "duration": 25,
    "start_time": "2022-07-15T09:39:27.123Z"
   },
   {
    "duration": 59,
    "start_time": "2022-07-15T09:39:27.150Z"
   },
   {
    "duration": 54,
    "start_time": "2022-07-15T09:39:27.211Z"
   },
   {
    "duration": 27,
    "start_time": "2022-07-15T09:39:27.267Z"
   },
   {
    "duration": 10,
    "start_time": "2022-07-15T09:39:27.295Z"
   },
   {
    "duration": 23,
    "start_time": "2022-07-15T09:39:27.308Z"
   },
   {
    "duration": 53,
    "start_time": "2022-07-15T09:39:27.332Z"
   },
   {
    "duration": 8,
    "start_time": "2022-07-15T09:39:27.387Z"
   },
   {
    "duration": 23,
    "start_time": "2022-07-15T09:39:27.396Z"
   },
   {
    "duration": 38,
    "start_time": "2022-07-15T09:39:27.420Z"
   },
   {
    "duration": 49,
    "start_time": "2022-07-15T09:39:27.460Z"
   },
   {
    "duration": 19,
    "start_time": "2022-07-15T09:39:27.511Z"
   },
   {
    "duration": 30,
    "start_time": "2022-07-15T09:39:27.532Z"
   },
   {
    "duration": 34,
    "start_time": "2022-07-15T09:39:27.564Z"
   },
   {
    "duration": 19,
    "start_time": "2022-07-15T09:39:27.600Z"
   },
   {
    "duration": 26,
    "start_time": "2022-07-15T09:39:27.620Z"
   },
   {
    "duration": 15,
    "start_time": "2022-07-15T09:39:27.647Z"
   },
   {
    "duration": 30,
    "start_time": "2022-07-15T09:39:27.663Z"
   },
   {
    "duration": 15,
    "start_time": "2022-07-15T09:39:27.695Z"
   },
   {
    "duration": 72,
    "start_time": "2022-07-15T09:39:27.712Z"
   },
   {
    "duration": 18,
    "start_time": "2022-07-15T09:39:27.786Z"
   },
   {
    "duration": 14,
    "start_time": "2022-07-15T09:39:27.806Z"
   },
   {
    "duration": 21,
    "start_time": "2022-07-15T09:39:27.822Z"
   },
   {
    "duration": 53,
    "start_time": "2022-07-15T09:39:27.845Z"
   },
   {
    "duration": 28,
    "start_time": "2022-07-15T09:39:27.900Z"
   },
   {
    "duration": 20,
    "start_time": "2022-07-15T09:39:27.930Z"
   },
   {
    "duration": 19,
    "start_time": "2022-07-15T09:39:27.952Z"
   },
   {
    "duration": 22,
    "start_time": "2022-07-15T09:39:27.973Z"
   },
   {
    "duration": 21,
    "start_time": "2022-07-15T09:39:27.997Z"
   },
   {
    "duration": 16,
    "start_time": "2022-07-15T09:39:28.045Z"
   },
   {
    "duration": 32,
    "start_time": "2022-07-15T09:39:28.063Z"
   },
   {
    "duration": 22,
    "start_time": "2022-07-15T09:39:28.097Z"
   },
   {
    "duration": 26,
    "start_time": "2022-07-15T09:39:28.121Z"
   },
   {
    "duration": 18,
    "start_time": "2022-07-15T09:39:28.149Z"
   },
   {
    "duration": 16,
    "start_time": "2022-07-15T09:39:28.168Z"
   },
   {
    "duration": 9,
    "start_time": "2022-07-15T09:39:28.185Z"
   },
   {
    "duration": 18,
    "start_time": "2022-07-15T09:39:28.196Z"
   },
   {
    "duration": 129,
    "start_time": "2022-07-15T09:39:28.216Z"
   },
   {
    "duration": 16,
    "start_time": "2022-07-15T09:39:28.347Z"
   },
   {
    "duration": 5,
    "start_time": "2022-07-15T09:39:28.365Z"
   },
   {
    "duration": 193,
    "start_time": "2022-07-15T09:39:28.372Z"
   },
   {
    "duration": 235,
    "start_time": "2022-07-15T09:39:28.567Z"
   },
   {
    "duration": 11,
    "start_time": "2022-07-15T09:39:28.804Z"
   },
   {
    "duration": 30,
    "start_time": "2022-07-15T09:39:28.817Z"
   },
   {
    "duration": 340,
    "start_time": "2022-07-15T09:39:28.849Z"
   },
   {
    "duration": 11,
    "start_time": "2022-07-15T09:39:29.190Z"
   },
   {
    "duration": 251,
    "start_time": "2022-07-15T09:39:29.203Z"
   },
   {
    "duration": 14,
    "start_time": "2022-07-15T09:39:29.456Z"
   },
   {
    "duration": 397,
    "start_time": "2022-07-15T09:39:29.473Z"
   },
   {
    "duration": 4,
    "start_time": "2022-07-15T09:39:29.872Z"
   },
   {
    "duration": 41,
    "start_time": "2022-07-15T09:39:29.878Z"
   },
   {
    "duration": 12,
    "start_time": "2022-07-15T09:39:29.921Z"
   },
   {
    "duration": 23,
    "start_time": "2022-07-15T09:39:29.935Z"
   },
   {
    "duration": 843,
    "start_time": "2022-07-15T09:39:29.961Z"
   },
   {
    "duration": 0,
    "start_time": "2022-07-15T09:39:30.806Z"
   },
   {
    "duration": 0,
    "start_time": "2022-07-15T09:39:30.807Z"
   },
   {
    "duration": 22,
    "start_time": "2022-07-15T09:40:01.939Z"
   },
   {
    "duration": 3,
    "start_time": "2022-07-15T09:40:18.181Z"
   },
   {
    "duration": 487,
    "start_time": "2022-07-15T09:40:18.186Z"
   },
   {
    "duration": 11,
    "start_time": "2022-07-15T09:40:18.675Z"
   },
   {
    "duration": 9,
    "start_time": "2022-07-15T09:40:18.689Z"
   },
   {
    "duration": 15,
    "start_time": "2022-07-15T09:40:18.700Z"
   },
   {
    "duration": 20,
    "start_time": "2022-07-15T09:40:18.717Z"
   },
   {
    "duration": 13,
    "start_time": "2022-07-15T09:40:18.745Z"
   },
   {
    "duration": 15,
    "start_time": "2022-07-15T09:40:18.760Z"
   },
   {
    "duration": 30,
    "start_time": "2022-07-15T09:40:18.779Z"
   },
   {
    "duration": 81,
    "start_time": "2022-07-15T09:40:18.811Z"
   },
   {
    "duration": 33,
    "start_time": "2022-07-15T09:40:18.895Z"
   },
   {
    "duration": 28,
    "start_time": "2022-07-15T09:40:18.929Z"
   },
   {
    "duration": 20,
    "start_time": "2022-07-15T09:40:18.959Z"
   },
   {
    "duration": 36,
    "start_time": "2022-07-15T09:40:18.981Z"
   },
   {
    "duration": 34,
    "start_time": "2022-07-15T09:40:19.020Z"
   },
   {
    "duration": 21,
    "start_time": "2022-07-15T09:40:19.056Z"
   },
   {
    "duration": 43,
    "start_time": "2022-07-15T09:40:19.079Z"
   },
   {
    "duration": 56,
    "start_time": "2022-07-15T09:40:19.124Z"
   },
   {
    "duration": 14,
    "start_time": "2022-07-15T09:40:19.182Z"
   },
   {
    "duration": 8,
    "start_time": "2022-07-15T09:40:19.198Z"
   },
   {
    "duration": 17,
    "start_time": "2022-07-15T09:40:19.209Z"
   },
   {
    "duration": 33,
    "start_time": "2022-07-15T09:40:19.227Z"
   },
   {
    "duration": 14,
    "start_time": "2022-07-15T09:40:19.262Z"
   },
   {
    "duration": 7,
    "start_time": "2022-07-15T09:40:19.281Z"
   },
   {
    "duration": 27,
    "start_time": "2022-07-15T09:40:19.290Z"
   },
   {
    "duration": 32,
    "start_time": "2022-07-15T09:40:19.319Z"
   },
   {
    "duration": 48,
    "start_time": "2022-07-15T09:40:19.353Z"
   },
   {
    "duration": 19,
    "start_time": "2022-07-15T09:40:19.403Z"
   },
   {
    "duration": 25,
    "start_time": "2022-07-15T09:40:19.423Z"
   },
   {
    "duration": 3,
    "start_time": "2022-07-15T09:40:19.450Z"
   },
   {
    "duration": 33,
    "start_time": "2022-07-15T09:40:19.455Z"
   },
   {
    "duration": 32,
    "start_time": "2022-07-15T09:40:19.490Z"
   },
   {
    "duration": 22,
    "start_time": "2022-07-15T09:40:19.547Z"
   },
   {
    "duration": 19,
    "start_time": "2022-07-15T09:40:19.571Z"
   },
   {
    "duration": 25,
    "start_time": "2022-07-15T09:40:19.592Z"
   },
   {
    "duration": 44,
    "start_time": "2022-07-15T09:40:19.618Z"
   },
   {
    "duration": 15,
    "start_time": "2022-07-15T09:40:19.664Z"
   },
   {
    "duration": 15,
    "start_time": "2022-07-15T09:40:19.680Z"
   },
   {
    "duration": 17,
    "start_time": "2022-07-15T09:40:19.697Z"
   },
   {
    "duration": 48,
    "start_time": "2022-07-15T09:40:19.716Z"
   },
   {
    "duration": 19,
    "start_time": "2022-07-15T09:40:19.766Z"
   },
   {
    "duration": 12,
    "start_time": "2022-07-15T09:40:19.787Z"
   },
   {
    "duration": 9,
    "start_time": "2022-07-15T09:40:19.801Z"
   },
   {
    "duration": 45,
    "start_time": "2022-07-15T09:40:19.812Z"
   },
   {
    "duration": 136,
    "start_time": "2022-07-15T09:40:19.859Z"
   },
   {
    "duration": 15,
    "start_time": "2022-07-15T09:40:19.997Z"
   },
   {
    "duration": 6,
    "start_time": "2022-07-15T09:40:20.014Z"
   },
   {
    "duration": 193,
    "start_time": "2022-07-15T09:40:20.021Z"
   },
   {
    "duration": 249,
    "start_time": "2022-07-15T09:40:20.216Z"
   },
   {
    "duration": 13,
    "start_time": "2022-07-15T09:40:20.467Z"
   },
   {
    "duration": 12,
    "start_time": "2022-07-15T09:40:20.481Z"
   },
   {
    "duration": 268,
    "start_time": "2022-07-15T09:40:20.495Z"
   },
   {
    "duration": 12,
    "start_time": "2022-07-15T09:40:20.765Z"
   },
   {
    "duration": 263,
    "start_time": "2022-07-15T09:40:20.778Z"
   },
   {
    "duration": 11,
    "start_time": "2022-07-15T09:40:21.046Z"
   },
   {
    "duration": 264,
    "start_time": "2022-07-15T09:40:21.059Z"
   },
   {
    "duration": 5,
    "start_time": "2022-07-15T09:40:21.326Z"
   },
   {
    "duration": 17,
    "start_time": "2022-07-15T09:40:21.332Z"
   },
   {
    "duration": 5,
    "start_time": "2022-07-15T09:40:21.351Z"
   },
   {
    "duration": 6,
    "start_time": "2022-07-15T09:40:21.358Z"
   },
   {
    "duration": 9,
    "start_time": "2022-07-15T09:40:21.366Z"
   },
   {
    "duration": 14,
    "start_time": "2022-07-15T09:40:21.376Z"
   },
   {
    "duration": 5,
    "start_time": "2022-07-15T09:40:21.391Z"
   },
   {
    "duration": 10,
    "start_time": "2022-07-15T09:43:24.246Z"
   },
   {
    "duration": 8,
    "start_time": "2022-07-15T09:43:29.083Z"
   },
   {
    "duration": 17,
    "start_time": "2022-07-15T09:44:49.744Z"
   },
   {
    "duration": 3,
    "start_time": "2022-07-15T09:45:40.809Z"
   },
   {
    "duration": 435,
    "start_time": "2022-07-15T09:45:40.814Z"
   },
   {
    "duration": 11,
    "start_time": "2022-07-15T09:45:41.251Z"
   },
   {
    "duration": 14,
    "start_time": "2022-07-15T09:45:41.263Z"
   },
   {
    "duration": 17,
    "start_time": "2022-07-15T09:45:41.280Z"
   },
   {
    "duration": 17,
    "start_time": "2022-07-15T09:45:41.298Z"
   },
   {
    "duration": 10,
    "start_time": "2022-07-15T09:45:41.317Z"
   },
   {
    "duration": 28,
    "start_time": "2022-07-15T09:45:41.329Z"
   },
   {
    "duration": 32,
    "start_time": "2022-07-15T09:45:41.359Z"
   },
   {
    "duration": 63,
    "start_time": "2022-07-15T09:45:41.392Z"
   },
   {
    "duration": 31,
    "start_time": "2022-07-15T09:45:41.457Z"
   },
   {
    "duration": 19,
    "start_time": "2022-07-15T09:45:41.489Z"
   },
   {
    "duration": 12,
    "start_time": "2022-07-15T09:45:41.510Z"
   },
   {
    "duration": 44,
    "start_time": "2022-07-15T09:45:41.524Z"
   },
   {
    "duration": 11,
    "start_time": "2022-07-15T09:45:41.569Z"
   },
   {
    "duration": 9,
    "start_time": "2022-07-15T09:45:41.581Z"
   },
   {
    "duration": 20,
    "start_time": "2022-07-15T09:45:41.591Z"
   },
   {
    "duration": 58,
    "start_time": "2022-07-15T09:45:41.613Z"
   },
   {
    "duration": 14,
    "start_time": "2022-07-15T09:45:41.673Z"
   },
   {
    "duration": 8,
    "start_time": "2022-07-15T09:45:41.688Z"
   },
   {
    "duration": 10,
    "start_time": "2022-07-15T09:45:41.698Z"
   },
   {
    "duration": 37,
    "start_time": "2022-07-15T09:45:41.710Z"
   },
   {
    "duration": 10,
    "start_time": "2022-07-15T09:45:41.749Z"
   },
   {
    "duration": 13,
    "start_time": "2022-07-15T09:45:41.761Z"
   },
   {
    "duration": 24,
    "start_time": "2022-07-15T09:45:41.776Z"
   },
   {
    "duration": 15,
    "start_time": "2022-07-15T09:45:41.801Z"
   },
   {
    "duration": 60,
    "start_time": "2022-07-15T09:45:41.818Z"
   },
   {
    "duration": 19,
    "start_time": "2022-07-15T09:45:41.879Z"
   },
   {
    "duration": 11,
    "start_time": "2022-07-15T09:45:41.902Z"
   },
   {
    "duration": 8,
    "start_time": "2022-07-15T09:45:41.915Z"
   },
   {
    "duration": 46,
    "start_time": "2022-07-15T09:45:41.925Z"
   },
   {
    "duration": 29,
    "start_time": "2022-07-15T09:45:41.973Z"
   },
   {
    "duration": 19,
    "start_time": "2022-07-15T09:45:42.004Z"
   },
   {
    "duration": 19,
    "start_time": "2022-07-15T09:45:42.045Z"
   },
   {
    "duration": 25,
    "start_time": "2022-07-15T09:45:42.066Z"
   },
   {
    "duration": 25,
    "start_time": "2022-07-15T09:45:42.093Z"
   },
   {
    "duration": 41,
    "start_time": "2022-07-15T09:45:42.120Z"
   },
   {
    "duration": 16,
    "start_time": "2022-07-15T09:45:42.163Z"
   },
   {
    "duration": 21,
    "start_time": "2022-07-15T09:45:42.180Z"
   },
   {
    "duration": 51,
    "start_time": "2022-07-15T09:45:42.203Z"
   },
   {
    "duration": 8,
    "start_time": "2022-07-15T09:45:42.256Z"
   },
   {
    "duration": 25,
    "start_time": "2022-07-15T09:45:42.266Z"
   },
   {
    "duration": 11,
    "start_time": "2022-07-15T09:45:42.292Z"
   },
   {
    "duration": 42,
    "start_time": "2022-07-15T09:45:42.305Z"
   },
   {
    "duration": 18,
    "start_time": "2022-07-15T09:45:42.349Z"
   },
   {
    "duration": 147,
    "start_time": "2022-07-15T09:45:42.369Z"
   },
   {
    "duration": 29,
    "start_time": "2022-07-15T09:45:42.518Z"
   },
   {
    "duration": 7,
    "start_time": "2022-07-15T09:45:42.548Z"
   },
   {
    "duration": 192,
    "start_time": "2022-07-15T09:45:42.557Z"
   },
   {
    "duration": 217,
    "start_time": "2022-07-15T09:45:42.751Z"
   },
   {
    "duration": 11,
    "start_time": "2022-07-15T09:45:42.970Z"
   },
   {
    "duration": 11,
    "start_time": "2022-07-15T09:45:42.983Z"
   },
   {
    "duration": 275,
    "start_time": "2022-07-15T09:45:42.996Z"
   },
   {
    "duration": 12,
    "start_time": "2022-07-15T09:45:43.273Z"
   },
   {
    "duration": 270,
    "start_time": "2022-07-15T09:45:43.287Z"
   },
   {
    "duration": 11,
    "start_time": "2022-07-15T09:45:43.559Z"
   },
   {
    "duration": 447,
    "start_time": "2022-07-15T09:45:43.572Z"
   },
   {
    "duration": 5,
    "start_time": "2022-07-15T09:45:44.021Z"
   },
   {
    "duration": 24,
    "start_time": "2022-07-15T09:45:44.028Z"
   },
   {
    "duration": 34,
    "start_time": "2022-07-15T09:45:44.054Z"
   },
   {
    "duration": 20,
    "start_time": "2022-07-15T09:45:44.089Z"
   },
   {
    "duration": 26,
    "start_time": "2022-07-15T09:45:44.111Z"
   },
   {
    "duration": 27,
    "start_time": "2022-07-15T09:45:44.139Z"
   },
   {
    "duration": 25,
    "start_time": "2022-07-15T09:45:44.167Z"
   },
   {
    "duration": 19,
    "start_time": "2022-07-15T09:46:33.569Z"
   },
   {
    "duration": 3,
    "start_time": "2022-07-15T09:47:42.846Z"
   },
   {
    "duration": 450,
    "start_time": "2022-07-15T09:47:42.852Z"
   },
   {
    "duration": 11,
    "start_time": "2022-07-15T09:47:43.304Z"
   },
   {
    "duration": 9,
    "start_time": "2022-07-15T09:47:43.316Z"
   },
   {
    "duration": 18,
    "start_time": "2022-07-15T09:47:43.328Z"
   },
   {
    "duration": 18,
    "start_time": "2022-07-15T09:47:43.348Z"
   },
   {
    "duration": 13,
    "start_time": "2022-07-15T09:47:43.368Z"
   },
   {
    "duration": 18,
    "start_time": "2022-07-15T09:47:43.383Z"
   },
   {
    "duration": 33,
    "start_time": "2022-07-15T09:47:43.403Z"
   },
   {
    "duration": 53,
    "start_time": "2022-07-15T09:47:43.446Z"
   },
   {
    "duration": 46,
    "start_time": "2022-07-15T09:47:43.501Z"
   },
   {
    "duration": 9,
    "start_time": "2022-07-15T09:47:43.549Z"
   },
   {
    "duration": 13,
    "start_time": "2022-07-15T09:47:43.561Z"
   },
   {
    "duration": 34,
    "start_time": "2022-07-15T09:47:43.576Z"
   },
   {
    "duration": 12,
    "start_time": "2022-07-15T09:47:43.612Z"
   },
   {
    "duration": 10,
    "start_time": "2022-07-15T09:47:43.646Z"
   },
   {
    "duration": 28,
    "start_time": "2022-07-15T09:47:43.658Z"
   },
   {
    "duration": 35,
    "start_time": "2022-07-15T09:47:43.688Z"
   },
   {
    "duration": 34,
    "start_time": "2022-07-15T09:47:43.725Z"
   },
   {
    "duration": 8,
    "start_time": "2022-07-15T09:47:43.761Z"
   },
   {
    "duration": 9,
    "start_time": "2022-07-15T09:47:43.771Z"
   },
   {
    "duration": 20,
    "start_time": "2022-07-15T09:47:43.781Z"
   },
   {
    "duration": 14,
    "start_time": "2022-07-15T09:47:43.803Z"
   },
   {
    "duration": 8,
    "start_time": "2022-07-15T09:47:43.846Z"
   },
   {
    "duration": 25,
    "start_time": "2022-07-15T09:47:43.856Z"
   },
   {
    "duration": 15,
    "start_time": "2022-07-15T09:47:43.883Z"
   },
   {
    "duration": 71,
    "start_time": "2022-07-15T09:47:43.900Z"
   },
   {
    "duration": 23,
    "start_time": "2022-07-15T09:47:43.973Z"
   },
   {
    "duration": 13,
    "start_time": "2022-07-15T09:47:43.997Z"
   },
   {
    "duration": 6,
    "start_time": "2022-07-15T09:47:44.012Z"
   },
   {
    "duration": 45,
    "start_time": "2022-07-15T09:47:44.020Z"
   },
   {
    "duration": 34,
    "start_time": "2022-07-15T09:47:44.067Z"
   },
   {
    "duration": 19,
    "start_time": "2022-07-15T09:47:44.103Z"
   },
   {
    "duration": 20,
    "start_time": "2022-07-15T09:47:44.146Z"
   },
   {
    "duration": 23,
    "start_time": "2022-07-15T09:47:44.167Z"
   },
   {
    "duration": 22,
    "start_time": "2022-07-15T09:47:44.192Z"
   },
   {
    "duration": 15,
    "start_time": "2022-07-15T09:47:44.245Z"
   },
   {
    "duration": 15,
    "start_time": "2022-07-15T09:47:44.262Z"
   },
   {
    "duration": 17,
    "start_time": "2022-07-15T09:47:44.279Z"
   },
   {
    "duration": 51,
    "start_time": "2022-07-15T09:47:44.297Z"
   },
   {
    "duration": 9,
    "start_time": "2022-07-15T09:47:44.350Z"
   },
   {
    "duration": 15,
    "start_time": "2022-07-15T09:47:44.361Z"
   },
   {
    "duration": 22,
    "start_time": "2022-07-15T09:47:44.378Z"
   },
   {
    "duration": 10,
    "start_time": "2022-07-15T09:47:44.402Z"
   },
   {
    "duration": 45,
    "start_time": "2022-07-15T09:47:44.413Z"
   },
   {
    "duration": 169,
    "start_time": "2022-07-15T09:47:44.460Z"
   },
   {
    "duration": 25,
    "start_time": "2022-07-15T09:47:44.630Z"
   },
   {
    "duration": 10,
    "start_time": "2022-07-15T09:47:44.656Z"
   },
   {
    "duration": 174,
    "start_time": "2022-07-15T09:47:44.667Z"
   },
   {
    "duration": 212,
    "start_time": "2022-07-15T09:47:44.846Z"
   },
   {
    "duration": 10,
    "start_time": "2022-07-15T09:47:45.060Z"
   },
   {
    "duration": 10,
    "start_time": "2022-07-15T09:47:45.071Z"
   },
   {
    "duration": 276,
    "start_time": "2022-07-15T09:47:45.082Z"
   },
   {
    "duration": 12,
    "start_time": "2022-07-15T09:47:45.360Z"
   },
   {
    "duration": 258,
    "start_time": "2022-07-15T09:47:45.374Z"
   },
   {
    "duration": 18,
    "start_time": "2022-07-15T09:47:45.635Z"
   },
   {
    "duration": 256,
    "start_time": "2022-07-15T09:47:45.655Z"
   },
   {
    "duration": 6,
    "start_time": "2022-07-15T09:47:45.913Z"
   },
   {
    "duration": 12,
    "start_time": "2022-07-15T09:47:45.921Z"
   },
   {
    "duration": 12,
    "start_time": "2022-07-15T09:47:45.935Z"
   },
   {
    "duration": 14,
    "start_time": "2022-07-15T09:47:45.948Z"
   },
   {
    "duration": 8,
    "start_time": "2022-07-15T09:47:45.964Z"
   },
   {
    "duration": 24,
    "start_time": "2022-07-15T09:47:45.975Z"
   },
   {
    "duration": 5,
    "start_time": "2022-07-15T09:47:46.001Z"
   },
   {
    "duration": 3,
    "start_time": "2022-07-15T09:48:23.776Z"
   },
   {
    "duration": 519,
    "start_time": "2022-07-15T09:48:23.782Z"
   },
   {
    "duration": 15,
    "start_time": "2022-07-15T09:48:24.303Z"
   },
   {
    "duration": 12,
    "start_time": "2022-07-15T09:48:24.319Z"
   },
   {
    "duration": 19,
    "start_time": "2022-07-15T09:48:24.333Z"
   },
   {
    "duration": 27,
    "start_time": "2022-07-15T09:48:24.354Z"
   },
   {
    "duration": 23,
    "start_time": "2022-07-15T09:48:24.383Z"
   },
   {
    "duration": 19,
    "start_time": "2022-07-15T09:48:24.408Z"
   },
   {
    "duration": 36,
    "start_time": "2022-07-15T09:48:24.429Z"
   },
   {
    "duration": 49,
    "start_time": "2022-07-15T09:48:24.467Z"
   },
   {
    "duration": 47,
    "start_time": "2022-07-15T09:48:24.518Z"
   },
   {
    "duration": 10,
    "start_time": "2022-07-15T09:48:24.568Z"
   },
   {
    "duration": 14,
    "start_time": "2022-07-15T09:48:24.581Z"
   },
   {
    "duration": 50,
    "start_time": "2022-07-15T09:48:24.596Z"
   },
   {
    "duration": 8,
    "start_time": "2022-07-15T09:48:24.648Z"
   },
   {
    "duration": 17,
    "start_time": "2022-07-15T09:48:24.657Z"
   },
   {
    "duration": 39,
    "start_time": "2022-07-15T09:48:24.676Z"
   },
   {
    "duration": 62,
    "start_time": "2022-07-15T09:48:24.717Z"
   },
   {
    "duration": 14,
    "start_time": "2022-07-15T09:48:24.782Z"
   },
   {
    "duration": 8,
    "start_time": "2022-07-15T09:48:24.798Z"
   },
   {
    "duration": 11,
    "start_time": "2022-07-15T09:48:24.808Z"
   },
   {
    "duration": 35,
    "start_time": "2022-07-15T09:48:24.821Z"
   },
   {
    "duration": 11,
    "start_time": "2022-07-15T09:48:24.858Z"
   },
   {
    "duration": 10,
    "start_time": "2022-07-15T09:48:24.871Z"
   },
   {
    "duration": 25,
    "start_time": "2022-07-15T09:48:24.882Z"
   },
   {
    "duration": 40,
    "start_time": "2022-07-15T09:48:24.909Z"
   },
   {
    "duration": 44,
    "start_time": "2022-07-15T09:48:24.951Z"
   },
   {
    "duration": 19,
    "start_time": "2022-07-15T09:48:24.996Z"
   },
   {
    "duration": 29,
    "start_time": "2022-07-15T09:48:25.017Z"
   },
   {
    "duration": 9,
    "start_time": "2022-07-15T09:48:25.048Z"
   },
   {
    "duration": 38,
    "start_time": "2022-07-15T09:48:25.059Z"
   },
   {
    "duration": 48,
    "start_time": "2022-07-15T09:48:25.098Z"
   },
   {
    "duration": 28,
    "start_time": "2022-07-15T09:48:25.148Z"
   },
   {
    "duration": 27,
    "start_time": "2022-07-15T09:48:25.178Z"
   },
   {
    "duration": 48,
    "start_time": "2022-07-15T09:48:25.207Z"
   },
   {
    "duration": 21,
    "start_time": "2022-07-15T09:48:25.257Z"
   },
   {
    "duration": 15,
    "start_time": "2022-07-15T09:48:25.283Z"
   },
   {
    "duration": 16,
    "start_time": "2022-07-15T09:48:25.299Z"
   },
   {
    "duration": 22,
    "start_time": "2022-07-15T09:48:25.345Z"
   },
   {
    "duration": 21,
    "start_time": "2022-07-15T09:48:25.368Z"
   },
   {
    "duration": 9,
    "start_time": "2022-07-15T09:48:25.390Z"
   },
   {
    "duration": 15,
    "start_time": "2022-07-15T09:48:25.401Z"
   },
   {
    "duration": 42,
    "start_time": "2022-07-15T09:48:25.418Z"
   },
   {
    "duration": 9,
    "start_time": "2022-07-15T09:48:25.462Z"
   },
   {
    "duration": 18,
    "start_time": "2022-07-15T09:48:25.473Z"
   },
   {
    "duration": 162,
    "start_time": "2022-07-15T09:48:25.493Z"
   },
   {
    "duration": 16,
    "start_time": "2022-07-15T09:48:25.657Z"
   },
   {
    "duration": 5,
    "start_time": "2022-07-15T09:48:25.674Z"
   },
   {
    "duration": 179,
    "start_time": "2022-07-15T09:48:25.681Z"
   },
   {
    "duration": 215,
    "start_time": "2022-07-15T09:48:25.862Z"
   },
   {
    "duration": 10,
    "start_time": "2022-07-15T09:48:26.078Z"
   },
   {
    "duration": 10,
    "start_time": "2022-07-15T09:48:26.090Z"
   },
   {
    "duration": 247,
    "start_time": "2022-07-15T09:48:26.101Z"
   },
   {
    "duration": 10,
    "start_time": "2022-07-15T09:48:26.350Z"
   },
   {
    "duration": 245,
    "start_time": "2022-07-15T09:48:26.362Z"
   },
   {
    "duration": 11,
    "start_time": "2022-07-15T09:48:26.609Z"
   },
   {
    "duration": 238,
    "start_time": "2022-07-15T09:48:26.622Z"
   },
   {
    "duration": 5,
    "start_time": "2022-07-15T09:48:26.862Z"
   },
   {
    "duration": 10,
    "start_time": "2022-07-15T09:48:26.868Z"
   },
   {
    "duration": 5,
    "start_time": "2022-07-15T09:48:26.879Z"
   },
   {
    "duration": 8,
    "start_time": "2022-07-15T09:48:26.885Z"
   },
   {
    "duration": 6,
    "start_time": "2022-07-15T09:48:26.894Z"
   },
   {
    "duration": 13,
    "start_time": "2022-07-15T09:48:26.902Z"
   },
   {
    "duration": 33,
    "start_time": "2022-07-15T09:48:26.917Z"
   },
   {
    "duration": 9,
    "start_time": "2022-07-15T09:49:24.819Z"
   },
   {
    "duration": 8,
    "start_time": "2022-07-15T09:49:35.873Z"
   },
   {
    "duration": 7,
    "start_time": "2022-07-15T09:52:54.696Z"
   },
   {
    "duration": 6,
    "start_time": "2022-07-15T09:54:37.026Z"
   },
   {
    "duration": 8,
    "start_time": "2022-07-15T09:54:47.971Z"
   },
   {
    "duration": 25,
    "start_time": "2022-07-15T09:54:59.023Z"
   },
   {
    "duration": 4,
    "start_time": "2022-07-15T10:52:20.770Z"
   },
   {
    "duration": 3,
    "start_time": "2022-07-15T10:52:31.008Z"
   },
   {
    "duration": 542,
    "start_time": "2022-07-15T10:52:31.013Z"
   },
   {
    "duration": 13,
    "start_time": "2022-07-15T10:52:31.560Z"
   },
   {
    "duration": 13,
    "start_time": "2022-07-15T10:52:31.575Z"
   },
   {
    "duration": 29,
    "start_time": "2022-07-15T10:52:31.590Z"
   },
   {
    "duration": 23,
    "start_time": "2022-07-15T10:52:31.620Z"
   },
   {
    "duration": 30,
    "start_time": "2022-07-15T10:52:31.644Z"
   },
   {
    "duration": 30,
    "start_time": "2022-07-15T10:52:31.676Z"
   },
   {
    "duration": 34,
    "start_time": "2022-07-15T10:52:31.709Z"
   },
   {
    "duration": 246,
    "start_time": "2022-07-15T10:52:31.745Z"
   },
   {
    "duration": 26,
    "start_time": "2022-07-15T10:52:31.993Z"
   },
   {
    "duration": 9,
    "start_time": "2022-07-15T10:52:32.021Z"
   },
   {
    "duration": 26,
    "start_time": "2022-07-15T10:52:32.031Z"
   },
   {
    "duration": 35,
    "start_time": "2022-07-15T10:52:32.058Z"
   },
   {
    "duration": 18,
    "start_time": "2022-07-15T10:52:32.095Z"
   },
   {
    "duration": 21,
    "start_time": "2022-07-15T10:52:32.115Z"
   },
   {
    "duration": 51,
    "start_time": "2022-07-15T10:52:32.138Z"
   },
   {
    "duration": 34,
    "start_time": "2022-07-15T10:52:32.192Z"
   },
   {
    "duration": 17,
    "start_time": "2022-07-15T10:52:32.228Z"
   },
   {
    "duration": 14,
    "start_time": "2022-07-15T10:52:32.247Z"
   },
   {
    "duration": 15,
    "start_time": "2022-07-15T10:52:32.262Z"
   },
   {
    "duration": 15,
    "start_time": "2022-07-15T10:52:32.279Z"
   },
   {
    "duration": 9,
    "start_time": "2022-07-15T10:52:32.296Z"
   },
   {
    "duration": 7,
    "start_time": "2022-07-15T10:52:32.309Z"
   },
   {
    "duration": 48,
    "start_time": "2022-07-15T10:52:32.317Z"
   },
   {
    "duration": 15,
    "start_time": "2022-07-15T10:52:32.366Z"
   },
   {
    "duration": 43,
    "start_time": "2022-07-15T10:52:32.382Z"
   },
   {
    "duration": 41,
    "start_time": "2022-07-15T10:52:32.427Z"
   },
   {
    "duration": 13,
    "start_time": "2022-07-15T10:52:32.470Z"
   },
   {
    "duration": 5,
    "start_time": "2022-07-15T10:52:32.485Z"
   },
   {
    "duration": 30,
    "start_time": "2022-07-15T10:52:32.492Z"
   },
   {
    "duration": 34,
    "start_time": "2022-07-15T10:52:32.547Z"
   },
   {
    "duration": 20,
    "start_time": "2022-07-15T10:52:32.583Z"
   },
   {
    "duration": 51,
    "start_time": "2022-07-15T10:52:32.605Z"
   },
   {
    "duration": 23,
    "start_time": "2022-07-15T10:52:32.659Z"
   },
   {
    "duration": 20,
    "start_time": "2022-07-15T10:52:32.684Z"
   },
   {
    "duration": 13,
    "start_time": "2022-07-15T10:52:32.706Z"
   },
   {
    "duration": 40,
    "start_time": "2022-07-15T10:52:32.721Z"
   },
   {
    "duration": 18,
    "start_time": "2022-07-15T10:52:32.763Z"
   },
   {
    "duration": 17,
    "start_time": "2022-07-15T10:52:32.783Z"
   },
   {
    "duration": 7,
    "start_time": "2022-07-15T10:52:32.802Z"
   },
   {
    "duration": 10,
    "start_time": "2022-07-15T10:52:32.811Z"
   },
   {
    "duration": 17,
    "start_time": "2022-07-15T10:52:32.855Z"
   },
   {
    "duration": 3,
    "start_time": "2022-07-15T10:52:32.874Z"
   },
   {
    "duration": 12,
    "start_time": "2022-07-15T10:52:32.878Z"
   },
   {
    "duration": 16,
    "start_time": "2022-07-15T10:52:32.891Z"
   },
   {
    "duration": 153,
    "start_time": "2022-07-15T10:52:32.909Z"
   },
   {
    "duration": 16,
    "start_time": "2022-07-15T10:52:33.064Z"
   },
   {
    "duration": 6,
    "start_time": "2022-07-15T10:52:33.082Z"
   },
   {
    "duration": 200,
    "start_time": "2022-07-15T10:52:33.090Z"
   },
   {
    "duration": 235,
    "start_time": "2022-07-15T10:52:33.292Z"
   },
   {
    "duration": 28,
    "start_time": "2022-07-15T10:52:33.529Z"
   },
   {
    "duration": 13,
    "start_time": "2022-07-15T10:52:33.559Z"
   },
   {
    "duration": 247,
    "start_time": "2022-07-15T10:52:33.573Z"
   },
   {
    "duration": 11,
    "start_time": "2022-07-15T10:52:33.822Z"
   },
   {
    "duration": 255,
    "start_time": "2022-07-15T10:52:33.845Z"
   },
   {
    "duration": 11,
    "start_time": "2022-07-15T10:52:34.101Z"
   },
   {
    "duration": 259,
    "start_time": "2022-07-15T10:52:34.114Z"
   },
   {
    "duration": 4,
    "start_time": "2022-07-15T10:52:34.375Z"
   },
   {
    "duration": 12,
    "start_time": "2022-07-15T10:52:34.381Z"
   },
   {
    "duration": 13,
    "start_time": "2022-07-15T10:52:34.395Z"
   },
   {
    "duration": 7,
    "start_time": "2022-07-15T10:52:34.410Z"
   },
   {
    "duration": 9,
    "start_time": "2022-07-15T10:52:34.419Z"
   },
   {
    "duration": 32,
    "start_time": "2022-07-15T10:52:34.429Z"
   },
   {
    "duration": 7,
    "start_time": "2022-07-15T10:52:34.464Z"
   },
   {
    "duration": 7,
    "start_time": "2022-07-15T10:53:04.475Z"
   },
   {
    "duration": 4,
    "start_time": "2022-07-15T11:13:23.292Z"
   },
   {
    "duration": 4,
    "start_time": "2022-07-15T11:13:49.052Z"
   },
   {
    "duration": 501,
    "start_time": "2022-07-15T11:13:49.059Z"
   },
   {
    "duration": 11,
    "start_time": "2022-07-15T11:13:49.563Z"
   },
   {
    "duration": 6,
    "start_time": "2022-07-15T11:13:49.576Z"
   },
   {
    "duration": 19,
    "start_time": "2022-07-15T11:13:49.584Z"
   },
   {
    "duration": 18,
    "start_time": "2022-07-15T11:13:49.605Z"
   },
   {
    "duration": 11,
    "start_time": "2022-07-15T11:13:49.625Z"
   },
   {
    "duration": 18,
    "start_time": "2022-07-15T11:13:49.638Z"
   },
   {
    "duration": 26,
    "start_time": "2022-07-15T11:13:49.658Z"
   },
   {
    "duration": 64,
    "start_time": "2022-07-15T11:13:49.686Z"
   },
   {
    "duration": 27,
    "start_time": "2022-07-15T11:13:49.751Z"
   },
   {
    "duration": 8,
    "start_time": "2022-07-15T11:13:49.780Z"
   },
   {
    "duration": 10,
    "start_time": "2022-07-15T11:13:49.789Z"
   },
   {
    "duration": 51,
    "start_time": "2022-07-15T11:13:49.800Z"
   },
   {
    "duration": 8,
    "start_time": "2022-07-15T11:13:49.852Z"
   },
   {
    "duration": 10,
    "start_time": "2022-07-15T11:13:49.862Z"
   },
   {
    "duration": 21,
    "start_time": "2022-07-15T11:13:49.873Z"
   },
   {
    "duration": 53,
    "start_time": "2022-07-15T11:13:49.896Z"
   },
   {
    "duration": 16,
    "start_time": "2022-07-15T11:13:49.951Z"
   },
   {
    "duration": 9,
    "start_time": "2022-07-15T11:13:49.969Z"
   },
   {
    "duration": 12,
    "start_time": "2022-07-15T11:13:49.980Z"
   },
   {
    "duration": 19,
    "start_time": "2022-07-15T11:13:49.995Z"
   },
   {
    "duration": 31,
    "start_time": "2022-07-15T11:13:50.015Z"
   },
   {
    "duration": 11,
    "start_time": "2022-07-15T11:13:50.053Z"
   },
   {
    "duration": 24,
    "start_time": "2022-07-15T11:13:50.066Z"
   },
   {
    "duration": 13,
    "start_time": "2022-07-15T11:13:50.092Z"
   },
   {
    "duration": 63,
    "start_time": "2022-07-15T11:13:50.106Z"
   },
   {
    "duration": 18,
    "start_time": "2022-07-15T11:13:50.171Z"
   },
   {
    "duration": 19,
    "start_time": "2022-07-15T11:13:50.191Z"
   },
   {
    "duration": 6,
    "start_time": "2022-07-15T11:13:50.212Z"
   },
   {
    "duration": 41,
    "start_time": "2022-07-15T11:13:50.220Z"
   },
   {
    "duration": 28,
    "start_time": "2022-07-15T11:13:50.263Z"
   },
   {
    "duration": 21,
    "start_time": "2022-07-15T11:13:50.293Z"
   },
   {
    "duration": 39,
    "start_time": "2022-07-15T11:13:50.316Z"
   },
   {
    "duration": 24,
    "start_time": "2022-07-15T11:13:50.356Z"
   },
   {
    "duration": 25,
    "start_time": "2022-07-15T11:13:50.382Z"
   },
   {
    "duration": 46,
    "start_time": "2022-07-15T11:13:50.410Z"
   },
   {
    "duration": 8,
    "start_time": "2022-07-15T11:13:50.459Z"
   },
   {
    "duration": 20,
    "start_time": "2022-07-15T11:13:50.468Z"
   },
   {
    "duration": 4,
    "start_time": "2022-07-15T11:13:50.490Z"
   },
   {
    "duration": 27,
    "start_time": "2022-07-15T11:13:50.498Z"
   },
   {
    "duration": 19,
    "start_time": "2022-07-15T11:13:50.527Z"
   },
   {
    "duration": 32,
    "start_time": "2022-07-15T11:13:50.548Z"
   },
   {
    "duration": 12,
    "start_time": "2022-07-15T11:13:50.581Z"
   },
   {
    "duration": 10,
    "start_time": "2022-07-15T11:13:50.595Z"
   },
   {
    "duration": 18,
    "start_time": "2022-07-15T11:13:50.607Z"
   },
   {
    "duration": 3,
    "start_time": "2022-07-15T11:13:50.646Z"
   },
   {
    "duration": 14,
    "start_time": "2022-07-15T11:13:50.651Z"
   },
   {
    "duration": 13,
    "start_time": "2022-07-15T11:13:50.668Z"
   },
   {
    "duration": 17,
    "start_time": "2022-07-15T11:13:50.683Z"
   },
   {
    "duration": 170,
    "start_time": "2022-07-15T11:13:50.701Z"
   },
   {
    "duration": 15,
    "start_time": "2022-07-15T11:13:50.873Z"
   },
   {
    "duration": 10,
    "start_time": "2022-07-15T11:13:50.890Z"
   },
   {
    "duration": 202,
    "start_time": "2022-07-15T11:13:50.902Z"
   },
   {
    "duration": 209,
    "start_time": "2022-07-15T11:13:51.106Z"
   },
   {
    "duration": 10,
    "start_time": "2022-07-15T11:13:51.317Z"
   },
   {
    "duration": 24,
    "start_time": "2022-07-15T11:13:51.329Z"
   },
   {
    "duration": 249,
    "start_time": "2022-07-15T11:13:51.354Z"
   },
   {
    "duration": 11,
    "start_time": "2022-07-15T11:13:51.605Z"
   },
   {
    "duration": 306,
    "start_time": "2022-07-15T11:13:51.617Z"
   },
   {
    "duration": 24,
    "start_time": "2022-07-15T11:13:51.926Z"
   },
   {
    "duration": 332,
    "start_time": "2022-07-15T11:13:51.952Z"
   },
   {
    "duration": 5,
    "start_time": "2022-07-15T11:13:52.286Z"
   },
   {
    "duration": 24,
    "start_time": "2022-07-15T11:13:52.293Z"
   },
   {
    "duration": 19,
    "start_time": "2022-07-15T11:13:52.319Z"
   },
   {
    "duration": 19,
    "start_time": "2022-07-15T11:13:52.340Z"
   },
   {
    "duration": 22,
    "start_time": "2022-07-15T11:13:52.362Z"
   },
   {
    "duration": 32,
    "start_time": "2022-07-15T11:13:52.386Z"
   },
   {
    "duration": 11,
    "start_time": "2022-07-15T11:13:52.424Z"
   },
   {
    "duration": 17,
    "start_time": "2022-07-15T11:15:09.182Z"
   },
   {
    "duration": 47,
    "start_time": "2022-07-15T11:15:19.427Z"
   },
   {
    "duration": 3,
    "start_time": "2022-07-15T11:15:24.992Z"
   },
   {
    "duration": 567,
    "start_time": "2022-07-15T11:15:24.997Z"
   },
   {
    "duration": 12,
    "start_time": "2022-07-15T11:15:25.566Z"
   },
   {
    "duration": 12,
    "start_time": "2022-07-15T11:15:25.580Z"
   },
   {
    "duration": 14,
    "start_time": "2022-07-15T11:15:25.594Z"
   },
   {
    "duration": 18,
    "start_time": "2022-07-15T11:15:25.610Z"
   },
   {
    "duration": 15,
    "start_time": "2022-07-15T11:15:25.630Z"
   },
   {
    "duration": 30,
    "start_time": "2022-07-15T11:15:25.647Z"
   },
   {
    "duration": 31,
    "start_time": "2022-07-15T11:15:25.680Z"
   },
   {
    "duration": 64,
    "start_time": "2022-07-15T11:15:25.713Z"
   },
   {
    "duration": 30,
    "start_time": "2022-07-15T11:15:25.778Z"
   },
   {
    "duration": 10,
    "start_time": "2022-07-15T11:15:25.809Z"
   },
   {
    "duration": 40,
    "start_time": "2022-07-15T11:15:25.821Z"
   },
   {
    "duration": 30,
    "start_time": "2022-07-15T11:15:25.864Z"
   },
   {
    "duration": 9,
    "start_time": "2022-07-15T11:15:25.896Z"
   },
   {
    "duration": 11,
    "start_time": "2022-07-15T11:15:25.907Z"
   },
   {
    "duration": 51,
    "start_time": "2022-07-15T11:15:25.920Z"
   },
   {
    "duration": 33,
    "start_time": "2022-07-15T11:15:25.973Z"
   },
   {
    "duration": 14,
    "start_time": "2022-07-15T11:15:26.008Z"
   },
   {
    "duration": 36,
    "start_time": "2022-07-15T11:15:26.024Z"
   },
   {
    "duration": 20,
    "start_time": "2022-07-15T11:15:26.062Z"
   },
   {
    "duration": 18,
    "start_time": "2022-07-15T11:15:26.084Z"
   },
   {
    "duration": 11,
    "start_time": "2022-07-15T11:15:26.104Z"
   },
   {
    "duration": 11,
    "start_time": "2022-07-15T11:15:26.119Z"
   },
   {
    "duration": 42,
    "start_time": "2022-07-15T11:15:26.132Z"
   },
   {
    "duration": 14,
    "start_time": "2022-07-15T11:15:26.175Z"
   },
   {
    "duration": 66,
    "start_time": "2022-07-15T11:15:26.190Z"
   },
   {
    "duration": 19,
    "start_time": "2022-07-15T11:15:26.264Z"
   },
   {
    "duration": 11,
    "start_time": "2022-07-15T11:15:26.285Z"
   },
   {
    "duration": 9,
    "start_time": "2022-07-15T11:15:26.298Z"
   },
   {
    "duration": 48,
    "start_time": "2022-07-15T11:15:26.308Z"
   },
   {
    "duration": 32,
    "start_time": "2022-07-15T11:15:26.358Z"
   },
   {
    "duration": 21,
    "start_time": "2022-07-15T11:15:26.392Z"
   },
   {
    "duration": 57,
    "start_time": "2022-07-15T11:15:26.414Z"
   },
   {
    "duration": 23,
    "start_time": "2022-07-15T11:15:26.473Z"
   },
   {
    "duration": 23,
    "start_time": "2022-07-15T11:15:26.498Z"
   },
   {
    "duration": 44,
    "start_time": "2022-07-15T11:15:26.523Z"
   },
   {
    "duration": 5,
    "start_time": "2022-07-15T11:15:26.569Z"
   },
   {
    "duration": 25,
    "start_time": "2022-07-15T11:15:26.576Z"
   },
   {
    "duration": 5,
    "start_time": "2022-07-15T11:15:26.602Z"
   },
   {
    "duration": 38,
    "start_time": "2022-07-15T11:15:26.608Z"
   },
   {
    "duration": 912,
    "start_time": "2022-07-15T11:15:26.650Z"
   },
   {
    "duration": 0,
    "start_time": "2022-07-15T11:15:27.564Z"
   },
   {
    "duration": 0,
    "start_time": "2022-07-15T11:15:27.566Z"
   },
   {
    "duration": 0,
    "start_time": "2022-07-15T11:15:27.568Z"
   },
   {
    "duration": 0,
    "start_time": "2022-07-15T11:15:27.569Z"
   },
   {
    "duration": 0,
    "start_time": "2022-07-15T11:15:27.571Z"
   },
   {
    "duration": 0,
    "start_time": "2022-07-15T11:15:27.573Z"
   },
   {
    "duration": 0,
    "start_time": "2022-07-15T11:15:27.575Z"
   },
   {
    "duration": 0,
    "start_time": "2022-07-15T11:15:27.576Z"
   },
   {
    "duration": 0,
    "start_time": "2022-07-15T11:15:27.577Z"
   },
   {
    "duration": 0,
    "start_time": "2022-07-15T11:15:27.578Z"
   },
   {
    "duration": 0,
    "start_time": "2022-07-15T11:15:27.579Z"
   },
   {
    "duration": 0,
    "start_time": "2022-07-15T11:15:27.580Z"
   },
   {
    "duration": 0,
    "start_time": "2022-07-15T11:15:27.581Z"
   },
   {
    "duration": 0,
    "start_time": "2022-07-15T11:15:27.582Z"
   },
   {
    "duration": 0,
    "start_time": "2022-07-15T11:15:27.583Z"
   },
   {
    "duration": 0,
    "start_time": "2022-07-15T11:15:27.584Z"
   },
   {
    "duration": 0,
    "start_time": "2022-07-15T11:15:27.585Z"
   },
   {
    "duration": 0,
    "start_time": "2022-07-15T11:15:27.586Z"
   },
   {
    "duration": 0,
    "start_time": "2022-07-15T11:15:27.587Z"
   },
   {
    "duration": 0,
    "start_time": "2022-07-15T11:15:27.588Z"
   },
   {
    "duration": 0,
    "start_time": "2022-07-15T11:15:27.589Z"
   },
   {
    "duration": 0,
    "start_time": "2022-07-15T11:15:27.590Z"
   },
   {
    "duration": 0,
    "start_time": "2022-07-15T11:15:27.591Z"
   },
   {
    "duration": 0,
    "start_time": "2022-07-15T11:15:27.592Z"
   },
   {
    "duration": 0,
    "start_time": "2022-07-15T11:15:27.594Z"
   },
   {
    "duration": 0,
    "start_time": "2022-07-15T11:15:27.594Z"
   },
   {
    "duration": 0,
    "start_time": "2022-07-15T11:15:27.595Z"
   },
   {
    "duration": 8,
    "start_time": "2022-07-15T11:21:45.267Z"
   },
   {
    "duration": 11,
    "start_time": "2022-07-15T11:21:56.344Z"
   },
   {
    "duration": 3,
    "start_time": "2022-07-15T11:22:23.650Z"
   },
   {
    "duration": 488,
    "start_time": "2022-07-15T11:22:23.655Z"
   },
   {
    "duration": 10,
    "start_time": "2022-07-15T11:22:24.145Z"
   },
   {
    "duration": 11,
    "start_time": "2022-07-15T11:22:24.156Z"
   },
   {
    "duration": 28,
    "start_time": "2022-07-15T11:22:24.169Z"
   },
   {
    "duration": 21,
    "start_time": "2022-07-15T11:22:24.199Z"
   },
   {
    "duration": 14,
    "start_time": "2022-07-15T11:22:24.221Z"
   },
   {
    "duration": 17,
    "start_time": "2022-07-15T11:22:24.246Z"
   },
   {
    "duration": 31,
    "start_time": "2022-07-15T11:22:24.265Z"
   },
   {
    "duration": 58,
    "start_time": "2022-07-15T11:22:24.297Z"
   },
   {
    "duration": 27,
    "start_time": "2022-07-15T11:22:24.357Z"
   },
   {
    "duration": 9,
    "start_time": "2022-07-15T11:22:24.386Z"
   },
   {
    "duration": 16,
    "start_time": "2022-07-15T11:22:24.396Z"
   },
   {
    "duration": 52,
    "start_time": "2022-07-15T11:22:24.416Z"
   },
   {
    "duration": 9,
    "start_time": "2022-07-15T11:22:24.470Z"
   },
   {
    "duration": 10,
    "start_time": "2022-07-15T11:22:24.480Z"
   },
   {
    "duration": 24,
    "start_time": "2022-07-15T11:22:24.492Z"
   },
   {
    "duration": 52,
    "start_time": "2022-07-15T11:22:24.518Z"
   },
   {
    "duration": 15,
    "start_time": "2022-07-15T11:22:24.572Z"
   },
   {
    "duration": 8,
    "start_time": "2022-07-15T11:22:24.589Z"
   },
   {
    "duration": 16,
    "start_time": "2022-07-15T11:22:24.599Z"
   },
   {
    "duration": 45,
    "start_time": "2022-07-15T11:22:24.618Z"
   },
   {
    "duration": 24,
    "start_time": "2022-07-15T11:22:24.665Z"
   },
   {
    "duration": 16,
    "start_time": "2022-07-15T11:22:24.691Z"
   },
   {
    "duration": 39,
    "start_time": "2022-07-15T11:22:24.710Z"
   },
   {
    "duration": 18,
    "start_time": "2022-07-15T11:22:24.751Z"
   },
   {
    "duration": 49,
    "start_time": "2022-07-15T11:22:24.771Z"
   },
   {
    "duration": 39,
    "start_time": "2022-07-15T11:22:24.822Z"
   },
   {
    "duration": 21,
    "start_time": "2022-07-15T11:22:24.863Z"
   },
   {
    "duration": 8,
    "start_time": "2022-07-15T11:22:24.886Z"
   },
   {
    "duration": 38,
    "start_time": "2022-07-15T11:22:24.895Z"
   },
   {
    "duration": 36,
    "start_time": "2022-07-15T11:22:24.934Z"
   },
   {
    "duration": 21,
    "start_time": "2022-07-15T11:22:24.972Z"
   },
   {
    "duration": 23,
    "start_time": "2022-07-15T11:22:24.994Z"
   },
   {
    "duration": 46,
    "start_time": "2022-07-15T11:22:25.018Z"
   },
   {
    "duration": 21,
    "start_time": "2022-07-15T11:22:25.066Z"
   },
   {
    "duration": 13,
    "start_time": "2022-07-15T11:22:25.089Z"
   },
   {
    "duration": 4,
    "start_time": "2022-07-15T11:22:25.104Z"
   },
   {
    "duration": 47,
    "start_time": "2022-07-15T11:22:25.110Z"
   },
   {
    "duration": 6,
    "start_time": "2022-07-15T11:22:25.158Z"
   },
   {
    "duration": 849,
    "start_time": "2022-07-15T11:22:25.171Z"
   },
   {
    "duration": 0,
    "start_time": "2022-07-15T11:22:26.023Z"
   },
   {
    "duration": 0,
    "start_time": "2022-07-15T11:22:26.024Z"
   },
   {
    "duration": 0,
    "start_time": "2022-07-15T11:22:26.026Z"
   },
   {
    "duration": 0,
    "start_time": "2022-07-15T11:22:26.027Z"
   },
   {
    "duration": 0,
    "start_time": "2022-07-15T11:22:26.029Z"
   },
   {
    "duration": 0,
    "start_time": "2022-07-15T11:22:26.030Z"
   },
   {
    "duration": 0,
    "start_time": "2022-07-15T11:22:26.034Z"
   },
   {
    "duration": 0,
    "start_time": "2022-07-15T11:22:26.035Z"
   },
   {
    "duration": 0,
    "start_time": "2022-07-15T11:22:26.037Z"
   },
   {
    "duration": 0,
    "start_time": "2022-07-15T11:22:26.042Z"
   },
   {
    "duration": 0,
    "start_time": "2022-07-15T11:22:26.043Z"
   },
   {
    "duration": 0,
    "start_time": "2022-07-15T11:22:26.045Z"
   },
   {
    "duration": 0,
    "start_time": "2022-07-15T11:22:26.046Z"
   },
   {
    "duration": 0,
    "start_time": "2022-07-15T11:22:26.047Z"
   },
   {
    "duration": 0,
    "start_time": "2022-07-15T11:22:26.049Z"
   },
   {
    "duration": 0,
    "start_time": "2022-07-15T11:22:26.050Z"
   },
   {
    "duration": 0,
    "start_time": "2022-07-15T11:22:26.060Z"
   },
   {
    "duration": 0,
    "start_time": "2022-07-15T11:22:26.063Z"
   },
   {
    "duration": 0,
    "start_time": "2022-07-15T11:22:26.065Z"
   },
   {
    "duration": 0,
    "start_time": "2022-07-15T11:22:26.066Z"
   },
   {
    "duration": 0,
    "start_time": "2022-07-15T11:22:26.067Z"
   },
   {
    "duration": 0,
    "start_time": "2022-07-15T11:22:26.069Z"
   },
   {
    "duration": 0,
    "start_time": "2022-07-15T11:22:26.070Z"
   },
   {
    "duration": 0,
    "start_time": "2022-07-15T11:22:26.071Z"
   },
   {
    "duration": 0,
    "start_time": "2022-07-15T11:22:26.072Z"
   },
   {
    "duration": 0,
    "start_time": "2022-07-15T11:22:26.074Z"
   },
   {
    "duration": 0,
    "start_time": "2022-07-15T11:22:26.075Z"
   },
   {
    "duration": 0,
    "start_time": "2022-07-15T11:22:26.076Z"
   },
   {
    "duration": 1278,
    "start_time": "2022-07-15T11:23:18.859Z"
   },
   {
    "duration": 7,
    "start_time": "2022-07-15T11:25:07.896Z"
   },
   {
    "duration": 3,
    "start_time": "2022-07-15T11:27:24.117Z"
   },
   {
    "duration": 490,
    "start_time": "2022-07-15T11:27:24.122Z"
   },
   {
    "duration": 11,
    "start_time": "2022-07-15T11:27:24.614Z"
   },
   {
    "duration": 14,
    "start_time": "2022-07-15T11:27:24.627Z"
   },
   {
    "duration": 27,
    "start_time": "2022-07-15T11:27:24.643Z"
   },
   {
    "duration": 20,
    "start_time": "2022-07-15T11:27:24.674Z"
   },
   {
    "duration": 15,
    "start_time": "2022-07-15T11:27:24.696Z"
   },
   {
    "duration": 17,
    "start_time": "2022-07-15T11:27:24.713Z"
   },
   {
    "duration": 44,
    "start_time": "2022-07-15T11:27:24.734Z"
   },
   {
    "duration": 50,
    "start_time": "2022-07-15T11:27:24.780Z"
   },
   {
    "duration": 47,
    "start_time": "2022-07-15T11:27:24.831Z"
   },
   {
    "duration": 8,
    "start_time": "2022-07-15T11:27:24.880Z"
   },
   {
    "duration": 11,
    "start_time": "2022-07-15T11:27:24.890Z"
   },
   {
    "duration": 55,
    "start_time": "2022-07-15T11:27:24.903Z"
   },
   {
    "duration": 10,
    "start_time": "2022-07-15T11:27:24.960Z"
   },
   {
    "duration": 9,
    "start_time": "2022-07-15T11:27:24.972Z"
   },
   {
    "duration": 22,
    "start_time": "2022-07-15T11:27:24.982Z"
   },
   {
    "duration": 67,
    "start_time": "2022-07-15T11:27:25.005Z"
   },
   {
    "duration": 13,
    "start_time": "2022-07-15T11:27:25.073Z"
   },
   {
    "duration": 7,
    "start_time": "2022-07-15T11:27:25.088Z"
   },
   {
    "duration": 12,
    "start_time": "2022-07-15T11:27:25.097Z"
   },
   {
    "duration": 40,
    "start_time": "2022-07-15T11:27:25.111Z"
   },
   {
    "duration": 23,
    "start_time": "2022-07-15T11:27:25.154Z"
   },
   {
    "duration": 7,
    "start_time": "2022-07-15T11:27:25.181Z"
   },
   {
    "duration": 23,
    "start_time": "2022-07-15T11:27:25.190Z"
   },
   {
    "duration": 14,
    "start_time": "2022-07-15T11:27:25.214Z"
   },
   {
    "duration": 68,
    "start_time": "2022-07-15T11:27:25.229Z"
   },
   {
    "duration": 19,
    "start_time": "2022-07-15T11:27:25.299Z"
   },
   {
    "duration": 30,
    "start_time": "2022-07-15T11:27:25.320Z"
   },
   {
    "duration": 12,
    "start_time": "2022-07-15T11:27:25.353Z"
   },
   {
    "duration": 30,
    "start_time": "2022-07-15T11:27:25.367Z"
   },
   {
    "duration": 29,
    "start_time": "2022-07-15T11:27:25.399Z"
   },
   {
    "duration": 41,
    "start_time": "2022-07-15T11:27:25.430Z"
   },
   {
    "duration": 19,
    "start_time": "2022-07-15T11:27:25.473Z"
   },
   {
    "duration": 23,
    "start_time": "2022-07-15T11:27:25.494Z"
   },
   {
    "duration": 50,
    "start_time": "2022-07-15T11:27:25.519Z"
   },
   {
    "duration": 15,
    "start_time": "2022-07-15T11:27:25.571Z"
   },
   {
    "duration": 14,
    "start_time": "2022-07-15T11:27:25.588Z"
   },
   {
    "duration": 57,
    "start_time": "2022-07-15T11:27:25.604Z"
   },
   {
    "duration": 22,
    "start_time": "2022-07-15T11:27:25.663Z"
   },
   {
    "duration": 8,
    "start_time": "2022-07-15T11:27:25.687Z"
   },
   {
    "duration": 10,
    "start_time": "2022-07-15T11:27:25.697Z"
   },
   {
    "duration": 3,
    "start_time": "2022-07-15T11:27:25.708Z"
   },
   {
    "duration": 47,
    "start_time": "2022-07-15T11:27:25.713Z"
   },
   {
    "duration": 19,
    "start_time": "2022-07-15T11:27:25.761Z"
   },
   {
    "duration": 165,
    "start_time": "2022-07-15T11:27:25.782Z"
   },
   {
    "duration": 19,
    "start_time": "2022-07-15T11:27:25.949Z"
   },
   {
    "duration": 5,
    "start_time": "2022-07-15T11:27:25.970Z"
   },
   {
    "duration": 188,
    "start_time": "2022-07-15T11:27:25.976Z"
   },
   {
    "duration": 234,
    "start_time": "2022-07-15T11:27:26.166Z"
   },
   {
    "duration": 10,
    "start_time": "2022-07-15T11:27:26.402Z"
   },
   {
    "duration": 11,
    "start_time": "2022-07-15T11:27:26.414Z"
   },
   {
    "duration": 498,
    "start_time": "2022-07-15T11:27:26.427Z"
   },
   {
    "duration": 20,
    "start_time": "2022-07-15T11:27:26.927Z"
   },
   {
    "duration": 251,
    "start_time": "2022-07-15T11:27:26.950Z"
   },
   {
    "duration": 12,
    "start_time": "2022-07-15T11:27:27.203Z"
   },
   {
    "duration": 265,
    "start_time": "2022-07-15T11:27:27.216Z"
   },
   {
    "duration": 17,
    "start_time": "2022-07-15T11:27:27.483Z"
   },
   {
    "duration": 10,
    "start_time": "2022-07-15T11:27:27.502Z"
   },
   {
    "duration": 5,
    "start_time": "2022-07-15T11:27:27.514Z"
   },
   {
    "duration": 7,
    "start_time": "2022-07-15T11:27:27.521Z"
   },
   {
    "duration": 9,
    "start_time": "2022-07-15T11:27:27.530Z"
   },
   {
    "duration": 27,
    "start_time": "2022-07-15T11:27:27.540Z"
   },
   {
    "duration": 4,
    "start_time": "2022-07-15T11:27:27.569Z"
   },
   {
    "duration": 4,
    "start_time": "2022-07-15T11:30:40.204Z"
   },
   {
    "duration": 477,
    "start_time": "2022-07-15T11:30:40.210Z"
   },
   {
    "duration": 15,
    "start_time": "2022-07-15T11:30:40.689Z"
   },
   {
    "duration": 12,
    "start_time": "2022-07-15T11:30:40.706Z"
   },
   {
    "duration": 20,
    "start_time": "2022-07-15T11:30:40.720Z"
   },
   {
    "duration": 21,
    "start_time": "2022-07-15T11:30:40.742Z"
   },
   {
    "duration": 16,
    "start_time": "2022-07-15T11:30:40.765Z"
   },
   {
    "duration": 15,
    "start_time": "2022-07-15T11:30:40.783Z"
   },
   {
    "duration": 30,
    "start_time": "2022-07-15T11:30:40.801Z"
   },
   {
    "duration": 59,
    "start_time": "2022-07-15T11:30:40.833Z"
   },
   {
    "duration": 26,
    "start_time": "2022-07-15T11:30:40.894Z"
   },
   {
    "duration": 25,
    "start_time": "2022-07-15T11:30:40.922Z"
   },
   {
    "duration": 12,
    "start_time": "2022-07-15T11:30:40.949Z"
   },
   {
    "duration": 30,
    "start_time": "2022-07-15T11:30:40.963Z"
   },
   {
    "duration": 8,
    "start_time": "2022-07-15T11:30:40.995Z"
   },
   {
    "duration": 11,
    "start_time": "2022-07-15T11:30:41.005Z"
   },
   {
    "duration": 45,
    "start_time": "2022-07-15T11:30:41.018Z"
   },
   {
    "duration": 32,
    "start_time": "2022-07-15T11:30:41.065Z"
   },
   {
    "duration": 13,
    "start_time": "2022-07-15T11:30:41.099Z"
   },
   {
    "duration": 32,
    "start_time": "2022-07-15T11:30:41.114Z"
   },
   {
    "duration": 8,
    "start_time": "2022-07-15T11:30:41.148Z"
   },
   {
    "duration": 17,
    "start_time": "2022-07-15T11:30:41.158Z"
   },
   {
    "duration": 10,
    "start_time": "2022-07-15T11:30:41.177Z"
   },
   {
    "duration": 8,
    "start_time": "2022-07-15T11:30:41.191Z"
   },
   {
    "duration": 48,
    "start_time": "2022-07-15T11:30:41.200Z"
   },
   {
    "duration": 15,
    "start_time": "2022-07-15T11:30:41.249Z"
   },
   {
    "duration": 45,
    "start_time": "2022-07-15T11:30:41.266Z"
   },
   {
    "duration": 39,
    "start_time": "2022-07-15T11:30:41.312Z"
   },
   {
    "duration": 14,
    "start_time": "2022-07-15T11:30:41.353Z"
   },
   {
    "duration": 8,
    "start_time": "2022-07-15T11:30:41.369Z"
   },
   {
    "duration": 32,
    "start_time": "2022-07-15T11:30:41.378Z"
   },
   {
    "duration": 49,
    "start_time": "2022-07-15T11:30:41.412Z"
   },
   {
    "duration": 21,
    "start_time": "2022-07-15T11:30:41.463Z"
   },
   {
    "duration": 19,
    "start_time": "2022-07-15T11:30:41.486Z"
   },
   {
    "duration": 48,
    "start_time": "2022-07-15T11:30:41.507Z"
   },
   {
    "duration": 21,
    "start_time": "2022-07-15T11:30:41.557Z"
   },
   {
    "duration": 16,
    "start_time": "2022-07-15T11:30:41.580Z"
   },
   {
    "duration": 15,
    "start_time": "2022-07-15T11:30:41.598Z"
   },
   {
    "duration": 44,
    "start_time": "2022-07-15T11:30:41.615Z"
   },
   {
    "duration": 17,
    "start_time": "2022-07-15T11:30:41.661Z"
   },
   {
    "duration": 0,
    "start_time": "2022-07-15T11:30:41.680Z"
   },
   {
    "duration": 0,
    "start_time": "2022-07-15T11:30:41.682Z"
   },
   {
    "duration": 0,
    "start_time": "2022-07-15T11:30:41.684Z"
   },
   {
    "duration": 0,
    "start_time": "2022-07-15T11:30:41.685Z"
   },
   {
    "duration": 0,
    "start_time": "2022-07-15T11:30:41.687Z"
   },
   {
    "duration": 0,
    "start_time": "2022-07-15T11:30:41.688Z"
   },
   {
    "duration": 0,
    "start_time": "2022-07-15T11:30:41.689Z"
   },
   {
    "duration": 0,
    "start_time": "2022-07-15T11:30:41.691Z"
   },
   {
    "duration": 0,
    "start_time": "2022-07-15T11:30:41.692Z"
   },
   {
    "duration": 0,
    "start_time": "2022-07-15T11:30:41.694Z"
   },
   {
    "duration": 0,
    "start_time": "2022-07-15T11:30:41.696Z"
   },
   {
    "duration": 0,
    "start_time": "2022-07-15T11:30:41.697Z"
   },
   {
    "duration": 0,
    "start_time": "2022-07-15T11:30:41.698Z"
   },
   {
    "duration": 0,
    "start_time": "2022-07-15T11:30:41.700Z"
   },
   {
    "duration": 0,
    "start_time": "2022-07-15T11:30:41.701Z"
   },
   {
    "duration": 0,
    "start_time": "2022-07-15T11:30:41.703Z"
   },
   {
    "duration": 0,
    "start_time": "2022-07-15T11:30:41.747Z"
   },
   {
    "duration": 0,
    "start_time": "2022-07-15T11:30:41.748Z"
   },
   {
    "duration": 0,
    "start_time": "2022-07-15T11:30:41.750Z"
   },
   {
    "duration": 0,
    "start_time": "2022-07-15T11:30:41.752Z"
   },
   {
    "duration": 0,
    "start_time": "2022-07-15T11:30:41.753Z"
   },
   {
    "duration": 0,
    "start_time": "2022-07-15T11:30:41.755Z"
   },
   {
    "duration": 0,
    "start_time": "2022-07-15T11:30:41.756Z"
   },
   {
    "duration": 0,
    "start_time": "2022-07-15T11:30:41.758Z"
   },
   {
    "duration": 4,
    "start_time": "2022-07-15T11:31:03.884Z"
   },
   {
    "duration": 487,
    "start_time": "2022-07-15T11:31:03.892Z"
   },
   {
    "duration": 12,
    "start_time": "2022-07-15T11:31:04.381Z"
   },
   {
    "duration": 15,
    "start_time": "2022-07-15T11:31:04.394Z"
   },
   {
    "duration": 19,
    "start_time": "2022-07-15T11:31:04.411Z"
   },
   {
    "duration": 24,
    "start_time": "2022-07-15T11:31:04.432Z"
   },
   {
    "duration": 16,
    "start_time": "2022-07-15T11:31:04.458Z"
   },
   {
    "duration": 17,
    "start_time": "2022-07-15T11:31:04.475Z"
   },
   {
    "duration": 30,
    "start_time": "2022-07-15T11:31:04.494Z"
   },
   {
    "duration": 71,
    "start_time": "2022-07-15T11:31:04.526Z"
   },
   {
    "duration": 46,
    "start_time": "2022-07-15T11:31:04.601Z"
   },
   {
    "duration": 10,
    "start_time": "2022-07-15T11:31:04.649Z"
   },
   {
    "duration": 25,
    "start_time": "2022-07-15T11:31:04.661Z"
   },
   {
    "duration": 31,
    "start_time": "2022-07-15T11:31:04.688Z"
   },
   {
    "duration": 8,
    "start_time": "2022-07-15T11:31:04.720Z"
   },
   {
    "duration": 21,
    "start_time": "2022-07-15T11:31:04.730Z"
   },
   {
    "duration": 20,
    "start_time": "2022-07-15T11:31:04.753Z"
   },
   {
    "duration": 35,
    "start_time": "2022-07-15T11:31:04.775Z"
   },
   {
    "duration": 42,
    "start_time": "2022-07-15T11:31:04.811Z"
   },
   {
    "duration": 8,
    "start_time": "2022-07-15T11:31:04.855Z"
   },
   {
    "duration": 12,
    "start_time": "2022-07-15T11:31:04.865Z"
   },
   {
    "duration": 21,
    "start_time": "2022-07-15T11:31:04.879Z"
   },
   {
    "duration": 11,
    "start_time": "2022-07-15T11:31:04.902Z"
   },
   {
    "duration": 33,
    "start_time": "2022-07-15T11:31:04.915Z"
   },
   {
    "duration": 26,
    "start_time": "2022-07-15T11:31:04.950Z"
   },
   {
    "duration": 15,
    "start_time": "2022-07-15T11:31:04.977Z"
   },
   {
    "duration": 65,
    "start_time": "2022-07-15T11:31:04.993Z"
   },
   {
    "duration": 19,
    "start_time": "2022-07-15T11:31:05.060Z"
   },
   {
    "duration": 16,
    "start_time": "2022-07-15T11:31:05.084Z"
   },
   {
    "duration": 11,
    "start_time": "2022-07-15T11:31:05.102Z"
   },
   {
    "duration": 44,
    "start_time": "2022-07-15T11:31:05.114Z"
   },
   {
    "duration": 28,
    "start_time": "2022-07-15T11:31:05.160Z"
   },
   {
    "duration": 21,
    "start_time": "2022-07-15T11:31:05.190Z"
   },
   {
    "duration": 47,
    "start_time": "2022-07-15T11:31:05.213Z"
   },
   {
    "duration": 24,
    "start_time": "2022-07-15T11:31:05.261Z"
   },
   {
    "duration": 22,
    "start_time": "2022-07-15T11:31:05.287Z"
   },
   {
    "duration": 38,
    "start_time": "2022-07-15T11:31:05.311Z"
   },
   {
    "duration": 18,
    "start_time": "2022-07-15T11:31:05.351Z"
   },
   {
    "duration": 21,
    "start_time": "2022-07-15T11:31:05.370Z"
   },
   {
    "duration": 14,
    "start_time": "2022-07-15T11:31:05.393Z"
   },
   {
    "duration": 0,
    "start_time": "2022-07-15T11:31:05.408Z"
   },
   {
    "duration": 0,
    "start_time": "2022-07-15T11:31:05.410Z"
   },
   {
    "duration": 0,
    "start_time": "2022-07-15T11:31:05.411Z"
   },
   {
    "duration": 0,
    "start_time": "2022-07-15T11:31:05.446Z"
   },
   {
    "duration": 0,
    "start_time": "2022-07-15T11:31:05.448Z"
   },
   {
    "duration": 0,
    "start_time": "2022-07-15T11:31:05.449Z"
   },
   {
    "duration": 0,
    "start_time": "2022-07-15T11:31:05.450Z"
   },
   {
    "duration": 0,
    "start_time": "2022-07-15T11:31:05.451Z"
   },
   {
    "duration": 0,
    "start_time": "2022-07-15T11:31:05.452Z"
   },
   {
    "duration": 0,
    "start_time": "2022-07-15T11:31:05.453Z"
   },
   {
    "duration": 0,
    "start_time": "2022-07-15T11:31:05.454Z"
   },
   {
    "duration": 0,
    "start_time": "2022-07-15T11:31:05.456Z"
   },
   {
    "duration": 0,
    "start_time": "2022-07-15T11:31:05.457Z"
   },
   {
    "duration": 0,
    "start_time": "2022-07-15T11:31:05.458Z"
   },
   {
    "duration": 0,
    "start_time": "2022-07-15T11:31:05.459Z"
   },
   {
    "duration": 0,
    "start_time": "2022-07-15T11:31:05.460Z"
   },
   {
    "duration": 0,
    "start_time": "2022-07-15T11:31:05.461Z"
   },
   {
    "duration": 0,
    "start_time": "2022-07-15T11:31:05.463Z"
   },
   {
    "duration": 0,
    "start_time": "2022-07-15T11:31:05.464Z"
   },
   {
    "duration": 0,
    "start_time": "2022-07-15T11:31:05.465Z"
   },
   {
    "duration": 0,
    "start_time": "2022-07-15T11:31:05.466Z"
   },
   {
    "duration": 0,
    "start_time": "2022-07-15T11:31:05.466Z"
   },
   {
    "duration": 0,
    "start_time": "2022-07-15T11:31:05.468Z"
   },
   {
    "duration": 0,
    "start_time": "2022-07-15T11:31:05.469Z"
   },
   {
    "duration": 2,
    "start_time": "2022-07-15T11:31:40.516Z"
   },
   {
    "duration": 450,
    "start_time": "2022-07-15T11:31:40.520Z"
   },
   {
    "duration": 10,
    "start_time": "2022-07-15T11:31:40.972Z"
   },
   {
    "duration": 11,
    "start_time": "2022-07-15T11:31:40.984Z"
   },
   {
    "duration": 19,
    "start_time": "2022-07-15T11:31:40.996Z"
   },
   {
    "duration": 19,
    "start_time": "2022-07-15T11:31:41.017Z"
   },
   {
    "duration": 16,
    "start_time": "2022-07-15T11:31:41.038Z"
   },
   {
    "duration": 12,
    "start_time": "2022-07-15T11:31:41.056Z"
   },
   {
    "duration": 29,
    "start_time": "2022-07-15T11:31:41.070Z"
   },
   {
    "duration": 65,
    "start_time": "2022-07-15T11:31:41.100Z"
   },
   {
    "duration": 26,
    "start_time": "2022-07-15T11:31:41.167Z"
   },
   {
    "duration": 10,
    "start_time": "2022-07-15T11:31:41.195Z"
   },
   {
    "duration": 13,
    "start_time": "2022-07-15T11:31:41.208Z"
   },
   {
    "duration": 30,
    "start_time": "2022-07-15T11:31:41.246Z"
   },
   {
    "duration": 12,
    "start_time": "2022-07-15T11:31:41.278Z"
   },
   {
    "duration": 12,
    "start_time": "2022-07-15T11:31:41.291Z"
   },
   {
    "duration": 45,
    "start_time": "2022-07-15T11:31:41.305Z"
   },
   {
    "duration": 31,
    "start_time": "2022-07-15T11:31:41.352Z"
   },
   {
    "duration": 16,
    "start_time": "2022-07-15T11:31:41.385Z"
   },
   {
    "duration": 9,
    "start_time": "2022-07-15T11:31:41.403Z"
   },
   {
    "duration": 38,
    "start_time": "2022-07-15T11:31:41.414Z"
   },
   {
    "duration": 17,
    "start_time": "2022-07-15T11:31:41.454Z"
   },
   {
    "duration": 19,
    "start_time": "2022-07-15T11:31:41.473Z"
   },
   {
    "duration": 10,
    "start_time": "2022-07-15T11:31:41.496Z"
   },
   {
    "duration": 38,
    "start_time": "2022-07-15T11:31:41.508Z"
   },
   {
    "duration": 14,
    "start_time": "2022-07-15T11:31:41.548Z"
   },
   {
    "duration": 44,
    "start_time": "2022-07-15T11:31:41.564Z"
   },
   {
    "duration": 36,
    "start_time": "2022-07-15T11:31:41.609Z"
   },
   {
    "duration": 11,
    "start_time": "2022-07-15T11:31:41.647Z"
   },
   {
    "duration": 5,
    "start_time": "2022-07-15T11:31:41.660Z"
   },
   {
    "duration": 31,
    "start_time": "2022-07-15T11:31:41.667Z"
   },
   {
    "duration": 46,
    "start_time": "2022-07-15T11:31:41.700Z"
   },
   {
    "duration": 20,
    "start_time": "2022-07-15T11:31:41.748Z"
   },
   {
    "duration": 19,
    "start_time": "2022-07-15T11:31:41.769Z"
   },
   {
    "duration": 23,
    "start_time": "2022-07-15T11:31:41.790Z"
   },
   {
    "duration": 48,
    "start_time": "2022-07-15T11:31:41.815Z"
   },
   {
    "duration": 13,
    "start_time": "2022-07-15T11:31:41.865Z"
   },
   {
    "duration": 13,
    "start_time": "2022-07-15T11:31:41.880Z"
   },
   {
    "duration": 16,
    "start_time": "2022-07-15T11:31:41.894Z"
   },
   {
    "duration": 44,
    "start_time": "2022-07-15T11:31:41.912Z"
   },
   {
    "duration": 6,
    "start_time": "2022-07-15T11:31:41.958Z"
   },
   {
    "duration": 11,
    "start_time": "2022-07-15T11:31:41.966Z"
   },
   {
    "duration": 3,
    "start_time": "2022-07-15T11:31:41.978Z"
   },
   {
    "duration": 11,
    "start_time": "2022-07-15T11:31:41.983Z"
   },
   {
    "duration": 15,
    "start_time": "2022-07-15T11:31:41.996Z"
   },
   {
    "duration": 175,
    "start_time": "2022-07-15T11:31:42.013Z"
   },
   {
    "duration": 14,
    "start_time": "2022-07-15T11:31:42.190Z"
   },
   {
    "duration": 5,
    "start_time": "2022-07-15T11:31:42.206Z"
   },
   {
    "duration": 191,
    "start_time": "2022-07-15T11:31:42.213Z"
   },
   {
    "duration": 220,
    "start_time": "2022-07-15T11:31:42.406Z"
   },
   {
    "duration": 19,
    "start_time": "2022-07-15T11:31:42.627Z"
   },
   {
    "duration": 10,
    "start_time": "2022-07-15T11:31:42.647Z"
   },
   {
    "duration": 234,
    "start_time": "2022-07-15T11:31:42.659Z"
   },
   {
    "duration": 10,
    "start_time": "2022-07-15T11:31:42.895Z"
   },
   {
    "duration": 246,
    "start_time": "2022-07-15T11:31:42.907Z"
   },
   {
    "duration": 10,
    "start_time": "2022-07-15T11:31:43.155Z"
   },
   {
    "duration": 252,
    "start_time": "2022-07-15T11:31:43.167Z"
   },
   {
    "duration": 4,
    "start_time": "2022-07-15T11:31:43.422Z"
   },
   {
    "duration": 20,
    "start_time": "2022-07-15T11:31:43.428Z"
   },
   {
    "duration": 4,
    "start_time": "2022-07-15T11:31:43.450Z"
   },
   {
    "duration": 7,
    "start_time": "2022-07-15T11:31:43.456Z"
   },
   {
    "duration": 8,
    "start_time": "2022-07-15T11:31:43.465Z"
   },
   {
    "duration": 15,
    "start_time": "2022-07-15T11:31:43.474Z"
   },
   {
    "duration": 5,
    "start_time": "2022-07-15T11:31:43.491Z"
   },
   {
    "duration": 8,
    "start_time": "2022-07-15T11:33:05.453Z"
   },
   {
    "duration": 26,
    "start_time": "2022-07-15T11:47:39.108Z"
   },
   {
    "duration": 1299,
    "start_time": "2022-07-15T14:46:56.388Z"
   },
   {
    "duration": 1449,
    "start_time": "2022-07-15T14:46:57.689Z"
   },
   {
    "duration": 24,
    "start_time": "2022-07-15T14:46:59.139Z"
   },
   {
    "duration": 23,
    "start_time": "2022-07-15T14:46:59.168Z"
   },
   {
    "duration": 24,
    "start_time": "2022-07-15T14:46:59.194Z"
   },
   {
    "duration": 41,
    "start_time": "2022-07-15T14:46:59.220Z"
   },
   {
    "duration": 22,
    "start_time": "2022-07-15T14:46:59.264Z"
   },
   {
    "duration": 21,
    "start_time": "2022-07-15T14:46:59.288Z"
   },
   {
    "duration": 38,
    "start_time": "2022-07-15T14:46:59.310Z"
   },
   {
    "duration": 49,
    "start_time": "2022-07-15T14:46:59.353Z"
   },
   {
    "duration": 43,
    "start_time": "2022-07-15T14:46:59.405Z"
   },
   {
    "duration": 13,
    "start_time": "2022-07-15T14:46:59.452Z"
   },
   {
    "duration": 14,
    "start_time": "2022-07-15T14:46:59.466Z"
   },
   {
    "duration": 50,
    "start_time": "2022-07-15T14:46:59.484Z"
   },
   {
    "duration": 9,
    "start_time": "2022-07-15T14:46:59.537Z"
   },
   {
    "duration": 24,
    "start_time": "2022-07-15T14:46:59.547Z"
   },
   {
    "duration": 19,
    "start_time": "2022-07-15T14:46:59.573Z"
   },
   {
    "duration": 39,
    "start_time": "2022-07-15T14:46:59.594Z"
   },
   {
    "duration": 15,
    "start_time": "2022-07-15T14:46:59.634Z"
   },
   {
    "duration": 15,
    "start_time": "2022-07-15T14:46:59.652Z"
   },
   {
    "duration": 10,
    "start_time": "2022-07-15T14:46:59.668Z"
   },
   {
    "duration": 15,
    "start_time": "2022-07-15T14:46:59.680Z"
   },
   {
    "duration": 10,
    "start_time": "2022-07-15T14:46:59.696Z"
   },
   {
    "duration": 31,
    "start_time": "2022-07-15T14:46:59.707Z"
   },
   {
    "duration": 33,
    "start_time": "2022-07-15T14:46:59.739Z"
   },
   {
    "duration": 18,
    "start_time": "2022-07-15T14:46:59.775Z"
   },
   {
    "duration": 64,
    "start_time": "2022-07-15T14:46:59.795Z"
   },
   {
    "duration": 19,
    "start_time": "2022-07-15T14:46:59.861Z"
   },
   {
    "duration": 11,
    "start_time": "2022-07-15T14:46:59.881Z"
   },
   {
    "duration": 5,
    "start_time": "2022-07-15T14:46:59.893Z"
   },
   {
    "duration": 51,
    "start_time": "2022-07-15T14:46:59.899Z"
   },
   {
    "duration": 28,
    "start_time": "2022-07-15T14:46:59.952Z"
   },
   {
    "duration": 20,
    "start_time": "2022-07-15T14:46:59.982Z"
   },
   {
    "duration": 35,
    "start_time": "2022-07-15T14:47:00.023Z"
   },
   {
    "duration": 28,
    "start_time": "2022-07-15T14:47:00.060Z"
   },
   {
    "duration": 22,
    "start_time": "2022-07-15T14:47:00.089Z"
   },
   {
    "duration": 34,
    "start_time": "2022-07-15T14:47:00.113Z"
   },
   {
    "duration": 26,
    "start_time": "2022-07-15T14:47:00.149Z"
   },
   {
    "duration": 17,
    "start_time": "2022-07-15T14:47:00.177Z"
   },
   {
    "duration": 24,
    "start_time": "2022-07-15T14:47:00.195Z"
   },
   {
    "duration": 29,
    "start_time": "2022-07-15T14:47:00.223Z"
   },
   {
    "duration": 32,
    "start_time": "2022-07-15T14:47:00.254Z"
   },
   {
    "duration": 14,
    "start_time": "2022-07-15T14:47:00.288Z"
   },
   {
    "duration": 22,
    "start_time": "2022-07-15T14:47:00.303Z"
   },
   {
    "duration": 38,
    "start_time": "2022-07-15T14:47:00.335Z"
   },
   {
    "duration": 47,
    "start_time": "2022-07-15T14:47:00.375Z"
   },
   {
    "duration": 296,
    "start_time": "2022-07-15T14:47:00.423Z"
   },
   {
    "duration": 0,
    "start_time": "2022-07-15T14:47:00.721Z"
   },
   {
    "duration": 0,
    "start_time": "2022-07-15T14:47:00.725Z"
   },
   {
    "duration": 0,
    "start_time": "2022-07-15T14:47:00.726Z"
   },
   {
    "duration": 0,
    "start_time": "2022-07-15T14:47:00.727Z"
   },
   {
    "duration": 1,
    "start_time": "2022-07-15T14:47:00.728Z"
   },
   {
    "duration": 0,
    "start_time": "2022-07-15T14:47:00.729Z"
   },
   {
    "duration": 0,
    "start_time": "2022-07-15T14:47:00.730Z"
   },
   {
    "duration": 0,
    "start_time": "2022-07-15T14:47:00.730Z"
   },
   {
    "duration": 0,
    "start_time": "2022-07-15T14:47:00.732Z"
   },
   {
    "duration": 0,
    "start_time": "2022-07-15T14:47:00.733Z"
   },
   {
    "duration": 0,
    "start_time": "2022-07-15T14:47:00.735Z"
   },
   {
    "duration": 0,
    "start_time": "2022-07-15T14:47:00.736Z"
   },
   {
    "duration": 0,
    "start_time": "2022-07-15T14:47:00.737Z"
   },
   {
    "duration": 0,
    "start_time": "2022-07-15T14:47:00.738Z"
   },
   {
    "duration": 0,
    "start_time": "2022-07-15T14:47:00.739Z"
   },
   {
    "duration": 0,
    "start_time": "2022-07-15T14:47:00.740Z"
   },
   {
    "duration": 0,
    "start_time": "2022-07-15T14:47:00.740Z"
   },
   {
    "duration": 0,
    "start_time": "2022-07-15T14:47:00.741Z"
   },
   {
    "duration": 0,
    "start_time": "2022-07-15T14:47:00.742Z"
   },
   {
    "duration": 3,
    "start_time": "2022-07-15T14:47:25.462Z"
   },
   {
    "duration": 500,
    "start_time": "2022-07-15T14:47:25.467Z"
   },
   {
    "duration": 14,
    "start_time": "2022-07-15T14:47:25.970Z"
   },
   {
    "duration": 16,
    "start_time": "2022-07-15T14:47:25.986Z"
   },
   {
    "duration": 16,
    "start_time": "2022-07-15T14:47:26.004Z"
   },
   {
    "duration": 59,
    "start_time": "2022-07-15T14:47:26.022Z"
   },
   {
    "duration": 12,
    "start_time": "2022-07-15T14:47:26.083Z"
   },
   {
    "duration": 13,
    "start_time": "2022-07-15T14:47:26.096Z"
   },
   {
    "duration": 37,
    "start_time": "2022-07-15T14:47:26.110Z"
   },
   {
    "duration": 47,
    "start_time": "2022-07-15T14:47:26.150Z"
   },
   {
    "duration": 50,
    "start_time": "2022-07-15T14:47:26.200Z"
   },
   {
    "duration": 10,
    "start_time": "2022-07-15T14:47:26.258Z"
   },
   {
    "duration": 12,
    "start_time": "2022-07-15T14:47:26.270Z"
   },
   {
    "duration": 26,
    "start_time": "2022-07-15T14:47:26.284Z"
   },
   {
    "duration": 38,
    "start_time": "2022-07-15T14:47:26.312Z"
   },
   {
    "duration": 15,
    "start_time": "2022-07-15T14:47:26.351Z"
   },
   {
    "duration": 18,
    "start_time": "2022-07-15T14:47:26.368Z"
   },
   {
    "duration": 29,
    "start_time": "2022-07-15T14:47:26.388Z"
   },
   {
    "duration": 34,
    "start_time": "2022-07-15T14:47:26.419Z"
   },
   {
    "duration": 11,
    "start_time": "2022-07-15T14:47:26.455Z"
   },
   {
    "duration": 11,
    "start_time": "2022-07-15T14:47:26.467Z"
   },
   {
    "duration": 14,
    "start_time": "2022-07-15T14:47:26.480Z"
   },
   {
    "duration": 9,
    "start_time": "2022-07-15T14:47:26.496Z"
   },
   {
    "duration": 30,
    "start_time": "2022-07-15T14:47:26.507Z"
   },
   {
    "duration": 29,
    "start_time": "2022-07-15T14:47:26.541Z"
   },
   {
    "duration": 18,
    "start_time": "2022-07-15T14:47:26.572Z"
   },
   {
    "duration": 59,
    "start_time": "2022-07-15T14:47:26.592Z"
   },
   {
    "duration": 17,
    "start_time": "2022-07-15T14:47:26.656Z"
   },
   {
    "duration": 10,
    "start_time": "2022-07-15T14:47:26.677Z"
   },
   {
    "duration": 4,
    "start_time": "2022-07-15T14:47:26.689Z"
   },
   {
    "duration": 59,
    "start_time": "2022-07-15T14:47:26.695Z"
   },
   {
    "duration": 27,
    "start_time": "2022-07-15T14:47:26.757Z"
   },
   {
    "duration": 24,
    "start_time": "2022-07-15T14:47:26.786Z"
   },
   {
    "duration": 47,
    "start_time": "2022-07-15T14:47:26.811Z"
   },
   {
    "duration": 25,
    "start_time": "2022-07-15T14:47:26.869Z"
   },
   {
    "duration": 24,
    "start_time": "2022-07-15T14:47:26.896Z"
   },
   {
    "duration": 29,
    "start_time": "2022-07-15T14:47:26.923Z"
   },
   {
    "duration": 42,
    "start_time": "2022-07-15T14:47:26.954Z"
   },
   {
    "duration": 18,
    "start_time": "2022-07-15T14:47:26.998Z"
   },
   {
    "duration": 38,
    "start_time": "2022-07-15T14:47:27.018Z"
   },
   {
    "duration": 13,
    "start_time": "2022-07-15T14:47:27.057Z"
   },
   {
    "duration": 14,
    "start_time": "2022-07-15T14:47:27.072Z"
   },
   {
    "duration": 3,
    "start_time": "2022-07-15T14:47:27.088Z"
   },
   {
    "duration": 9,
    "start_time": "2022-07-15T14:47:27.093Z"
   },
   {
    "duration": 9,
    "start_time": "2022-07-15T14:47:27.104Z"
   },
   {
    "duration": 25,
    "start_time": "2022-07-15T14:47:27.123Z"
   },
   {
    "duration": 163,
    "start_time": "2022-07-15T14:47:27.151Z"
   },
   {
    "duration": 36,
    "start_time": "2022-07-15T14:47:27.316Z"
   },
   {
    "duration": 26,
    "start_time": "2022-07-15T14:47:27.354Z"
   },
   {
    "duration": 0,
    "start_time": "2022-07-15T14:47:27.382Z"
   },
   {
    "duration": 0,
    "start_time": "2022-07-15T14:47:27.384Z"
   },
   {
    "duration": 0,
    "start_time": "2022-07-15T14:47:27.385Z"
   },
   {
    "duration": 0,
    "start_time": "2022-07-15T14:47:27.387Z"
   },
   {
    "duration": 0,
    "start_time": "2022-07-15T14:47:27.388Z"
   },
   {
    "duration": 0,
    "start_time": "2022-07-15T14:47:27.390Z"
   },
   {
    "duration": 0,
    "start_time": "2022-07-15T14:47:27.391Z"
   },
   {
    "duration": 0,
    "start_time": "2022-07-15T14:47:27.392Z"
   },
   {
    "duration": 0,
    "start_time": "2022-07-15T14:47:27.394Z"
   },
   {
    "duration": 0,
    "start_time": "2022-07-15T14:47:27.395Z"
   },
   {
    "duration": 0,
    "start_time": "2022-07-15T14:47:27.397Z"
   },
   {
    "duration": 0,
    "start_time": "2022-07-15T14:47:27.399Z"
   },
   {
    "duration": 0,
    "start_time": "2022-07-15T14:47:27.401Z"
   },
   {
    "duration": 0,
    "start_time": "2022-07-15T14:47:27.428Z"
   },
   {
    "duration": 0,
    "start_time": "2022-07-15T14:47:27.429Z"
   },
   {
    "duration": 0,
    "start_time": "2022-07-15T14:47:27.430Z"
   },
   {
    "duration": 0,
    "start_time": "2022-07-15T14:47:27.431Z"
   },
   {
    "duration": 3,
    "start_time": "2022-07-15T14:48:27.082Z"
   },
   {
    "duration": 467,
    "start_time": "2022-07-15T14:48:27.087Z"
   },
   {
    "duration": 11,
    "start_time": "2022-07-15T14:48:27.556Z"
   },
   {
    "duration": 8,
    "start_time": "2022-07-15T14:48:27.569Z"
   },
   {
    "duration": 15,
    "start_time": "2022-07-15T14:48:27.579Z"
   },
   {
    "duration": 26,
    "start_time": "2022-07-15T14:48:27.595Z"
   },
   {
    "duration": 45,
    "start_time": "2022-07-15T14:48:27.625Z"
   },
   {
    "duration": 16,
    "start_time": "2022-07-15T14:48:27.672Z"
   },
   {
    "duration": 32,
    "start_time": "2022-07-15T14:48:27.689Z"
   },
   {
    "duration": 56,
    "start_time": "2022-07-15T14:48:27.723Z"
   },
   {
    "duration": 26,
    "start_time": "2022-07-15T14:48:27.780Z"
   },
   {
    "duration": 29,
    "start_time": "2022-07-15T14:48:27.807Z"
   },
   {
    "duration": 29,
    "start_time": "2022-07-15T14:48:27.837Z"
   },
   {
    "duration": 27,
    "start_time": "2022-07-15T14:48:27.870Z"
   },
   {
    "duration": 7,
    "start_time": "2022-07-15T14:48:27.899Z"
   },
   {
    "duration": 12,
    "start_time": "2022-07-15T14:48:27.908Z"
   },
   {
    "duration": 51,
    "start_time": "2022-07-15T14:48:27.922Z"
   },
   {
    "duration": 38,
    "start_time": "2022-07-15T14:48:27.975Z"
   },
   {
    "duration": 19,
    "start_time": "2022-07-15T14:48:28.015Z"
   },
   {
    "duration": 28,
    "start_time": "2022-07-15T14:48:28.040Z"
   },
   {
    "duration": 12,
    "start_time": "2022-07-15T14:48:28.069Z"
   },
   {
    "duration": 16,
    "start_time": "2022-07-15T14:48:28.082Z"
   },
   {
    "duration": 9,
    "start_time": "2022-07-15T14:48:28.099Z"
   },
   {
    "duration": 11,
    "start_time": "2022-07-15T14:48:28.110Z"
   },
   {
    "duration": 59,
    "start_time": "2022-07-15T14:48:28.128Z"
   },
   {
    "duration": 12,
    "start_time": "2022-07-15T14:48:28.189Z"
   },
   {
    "duration": 39,
    "start_time": "2022-07-15T14:48:28.203Z"
   },
   {
    "duration": 24,
    "start_time": "2022-07-15T14:48:28.243Z"
   },
   {
    "duration": 16,
    "start_time": "2022-07-15T14:48:28.269Z"
   },
   {
    "duration": 8,
    "start_time": "2022-07-15T14:48:28.286Z"
   },
   {
    "duration": 52,
    "start_time": "2022-07-15T14:48:28.296Z"
   },
   {
    "duration": 38,
    "start_time": "2022-07-15T14:48:28.349Z"
   },
   {
    "duration": 24,
    "start_time": "2022-07-15T14:48:28.390Z"
   },
   {
    "duration": 31,
    "start_time": "2022-07-15T14:48:28.423Z"
   },
   {
    "duration": 44,
    "start_time": "2022-07-15T14:48:28.456Z"
   },
   {
    "duration": 27,
    "start_time": "2022-07-15T14:48:28.502Z"
   },
   {
    "duration": 18,
    "start_time": "2022-07-15T14:48:28.531Z"
   },
   {
    "duration": 28,
    "start_time": "2022-07-15T14:48:28.550Z"
   },
   {
    "duration": 16,
    "start_time": "2022-07-15T14:48:28.579Z"
   },
   {
    "duration": 17,
    "start_time": "2022-07-15T14:48:28.597Z"
   },
   {
    "duration": 20,
    "start_time": "2022-07-15T14:48:28.618Z"
   },
   {
    "duration": 42,
    "start_time": "2022-07-15T14:48:28.639Z"
   },
   {
    "duration": 3,
    "start_time": "2022-07-15T14:48:28.683Z"
   },
   {
    "duration": 10,
    "start_time": "2022-07-15T14:48:28.688Z"
   },
   {
    "duration": 9,
    "start_time": "2022-07-15T14:48:28.699Z"
   },
   {
    "duration": 29,
    "start_time": "2022-07-15T14:48:28.710Z"
   },
   {
    "duration": 168,
    "start_time": "2022-07-15T14:48:28.741Z"
   },
   {
    "duration": 35,
    "start_time": "2022-07-15T14:48:28.912Z"
   },
   {
    "duration": 50,
    "start_time": "2022-07-15T14:48:28.952Z"
   },
   {
    "duration": 0,
    "start_time": "2022-07-15T14:48:29.005Z"
   },
   {
    "duration": 0,
    "start_time": "2022-07-15T14:48:29.007Z"
   },
   {
    "duration": 0,
    "start_time": "2022-07-15T14:48:29.009Z"
   },
   {
    "duration": 0,
    "start_time": "2022-07-15T14:48:29.010Z"
   },
   {
    "duration": 0,
    "start_time": "2022-07-15T14:48:29.012Z"
   },
   {
    "duration": 0,
    "start_time": "2022-07-15T14:48:29.013Z"
   },
   {
    "duration": 0,
    "start_time": "2022-07-15T14:48:29.015Z"
   },
   {
    "duration": 0,
    "start_time": "2022-07-15T14:48:29.016Z"
   },
   {
    "duration": 0,
    "start_time": "2022-07-15T14:48:29.018Z"
   },
   {
    "duration": 0,
    "start_time": "2022-07-15T14:48:29.019Z"
   },
   {
    "duration": 0,
    "start_time": "2022-07-15T14:48:29.021Z"
   },
   {
    "duration": 0,
    "start_time": "2022-07-15T14:48:29.022Z"
   },
   {
    "duration": 0,
    "start_time": "2022-07-15T14:48:29.028Z"
   },
   {
    "duration": 0,
    "start_time": "2022-07-15T14:48:29.029Z"
   },
   {
    "duration": 0,
    "start_time": "2022-07-15T14:48:29.029Z"
   },
   {
    "duration": 0,
    "start_time": "2022-07-15T14:48:29.030Z"
   },
   {
    "duration": 0,
    "start_time": "2022-07-15T14:48:29.030Z"
   },
   {
    "duration": 2,
    "start_time": "2022-07-15T14:48:49.283Z"
   },
   {
    "duration": 514,
    "start_time": "2022-07-15T14:48:49.287Z"
   },
   {
    "duration": 11,
    "start_time": "2022-07-15T14:48:49.803Z"
   },
   {
    "duration": 29,
    "start_time": "2022-07-15T14:48:49.817Z"
   },
   {
    "duration": 30,
    "start_time": "2022-07-15T14:48:49.850Z"
   },
   {
    "duration": 18,
    "start_time": "2022-07-15T14:48:49.882Z"
   },
   {
    "duration": 11,
    "start_time": "2022-07-15T14:48:49.902Z"
   },
   {
    "duration": 30,
    "start_time": "2022-07-15T14:48:49.915Z"
   },
   {
    "duration": 27,
    "start_time": "2022-07-15T14:48:49.951Z"
   },
   {
    "duration": 64,
    "start_time": "2022-07-15T14:48:49.980Z"
   },
   {
    "duration": 29,
    "start_time": "2022-07-15T14:48:50.052Z"
   },
   {
    "duration": 9,
    "start_time": "2022-07-15T14:48:50.082Z"
   },
   {
    "duration": 12,
    "start_time": "2022-07-15T14:48:50.093Z"
   },
   {
    "duration": 37,
    "start_time": "2022-07-15T14:48:50.107Z"
   },
   {
    "duration": 22,
    "start_time": "2022-07-15T14:48:50.145Z"
   },
   {
    "duration": 13,
    "start_time": "2022-07-15T14:48:50.169Z"
   },
   {
    "duration": 19,
    "start_time": "2022-07-15T14:48:50.184Z"
   },
   {
    "duration": 41,
    "start_time": "2022-07-15T14:48:50.205Z"
   },
   {
    "duration": 18,
    "start_time": "2022-07-15T14:48:50.249Z"
   },
   {
    "duration": 7,
    "start_time": "2022-07-15T14:48:50.268Z"
   },
   {
    "duration": 12,
    "start_time": "2022-07-15T14:48:50.277Z"
   },
   {
    "duration": 19,
    "start_time": "2022-07-15T14:48:50.291Z"
   },
   {
    "duration": 47,
    "start_time": "2022-07-15T14:48:50.311Z"
   },
   {
    "duration": 8,
    "start_time": "2022-07-15T14:48:50.363Z"
   },
   {
    "duration": 21,
    "start_time": "2022-07-15T14:48:50.373Z"
   },
   {
    "duration": 13,
    "start_time": "2022-07-15T14:48:50.396Z"
   },
   {
    "duration": 56,
    "start_time": "2022-07-15T14:48:50.411Z"
   },
   {
    "duration": 19,
    "start_time": "2022-07-15T14:48:50.469Z"
   },
   {
    "duration": 14,
    "start_time": "2022-07-15T14:48:50.490Z"
   },
   {
    "duration": 22,
    "start_time": "2022-07-15T14:48:50.506Z"
   },
   {
    "duration": 50,
    "start_time": "2022-07-15T14:48:50.537Z"
   },
   {
    "duration": 27,
    "start_time": "2022-07-15T14:48:50.589Z"
   },
   {
    "duration": 32,
    "start_time": "2022-07-15T14:48:50.618Z"
   },
   {
    "duration": 24,
    "start_time": "2022-07-15T14:48:50.655Z"
   },
   {
    "duration": 23,
    "start_time": "2022-07-15T14:48:50.681Z"
   },
   {
    "duration": 37,
    "start_time": "2022-07-15T14:48:50.706Z"
   },
   {
    "duration": 20,
    "start_time": "2022-07-15T14:48:50.745Z"
   },
   {
    "duration": 14,
    "start_time": "2022-07-15T14:48:50.767Z"
   },
   {
    "duration": 48,
    "start_time": "2022-07-15T14:48:50.782Z"
   },
   {
    "duration": 22,
    "start_time": "2022-07-15T14:48:50.835Z"
   },
   {
    "duration": 13,
    "start_time": "2022-07-15T14:48:50.859Z"
   },
   {
    "duration": 9,
    "start_time": "2022-07-15T14:48:50.873Z"
   },
   {
    "duration": 5,
    "start_time": "2022-07-15T14:48:50.884Z"
   },
   {
    "duration": 11,
    "start_time": "2022-07-15T14:48:50.891Z"
   },
   {
    "duration": 10,
    "start_time": "2022-07-15T14:48:50.904Z"
   },
   {
    "duration": 31,
    "start_time": "2022-07-15T14:48:50.915Z"
   },
   {
    "duration": 182,
    "start_time": "2022-07-15T14:48:50.948Z"
   },
   {
    "duration": 25,
    "start_time": "2022-07-15T14:48:51.131Z"
   },
   {
    "duration": 15,
    "start_time": "2022-07-15T14:48:51.157Z"
   },
   {
    "duration": 58,
    "start_time": "2022-07-15T14:48:51.174Z"
   },
   {
    "duration": 353,
    "start_time": "2022-07-15T14:48:51.237Z"
   },
   {
    "duration": 0,
    "start_time": "2022-07-15T14:48:51.591Z"
   },
   {
    "duration": 0,
    "start_time": "2022-07-15T14:48:51.593Z"
   },
   {
    "duration": 0,
    "start_time": "2022-07-15T14:48:51.594Z"
   },
   {
    "duration": 0,
    "start_time": "2022-07-15T14:48:51.595Z"
   },
   {
    "duration": 0,
    "start_time": "2022-07-15T14:48:51.596Z"
   },
   {
    "duration": 0,
    "start_time": "2022-07-15T14:48:51.625Z"
   },
   {
    "duration": 0,
    "start_time": "2022-07-15T14:48:51.626Z"
   },
   {
    "duration": 0,
    "start_time": "2022-07-15T14:48:51.630Z"
   },
   {
    "duration": 0,
    "start_time": "2022-07-15T14:48:51.630Z"
   },
   {
    "duration": 0,
    "start_time": "2022-07-15T14:48:51.631Z"
   },
   {
    "duration": 0,
    "start_time": "2022-07-15T14:48:51.633Z"
   },
   {
    "duration": 0,
    "start_time": "2022-07-15T14:48:51.633Z"
   },
   {
    "duration": 0,
    "start_time": "2022-07-15T14:48:51.634Z"
   },
   {
    "duration": 0,
    "start_time": "2022-07-15T14:48:51.635Z"
   },
   {
    "duration": 0,
    "start_time": "2022-07-15T14:48:51.636Z"
   },
   {
    "duration": 3,
    "start_time": "2022-07-15T14:49:56.091Z"
   },
   {
    "duration": 464,
    "start_time": "2022-07-15T14:49:56.097Z"
   },
   {
    "duration": 12,
    "start_time": "2022-07-15T14:49:56.563Z"
   },
   {
    "duration": 8,
    "start_time": "2022-07-15T14:49:56.578Z"
   },
   {
    "duration": 14,
    "start_time": "2022-07-15T14:49:56.588Z"
   },
   {
    "duration": 17,
    "start_time": "2022-07-15T14:49:56.604Z"
   },
   {
    "duration": 48,
    "start_time": "2022-07-15T14:49:56.631Z"
   },
   {
    "duration": 15,
    "start_time": "2022-07-15T14:49:56.681Z"
   },
   {
    "duration": 30,
    "start_time": "2022-07-15T14:49:56.699Z"
   },
   {
    "duration": 52,
    "start_time": "2022-07-15T14:49:56.735Z"
   },
   {
    "duration": 28,
    "start_time": "2022-07-15T14:49:56.789Z"
   },
   {
    "duration": 11,
    "start_time": "2022-07-15T14:49:56.823Z"
   },
   {
    "duration": 36,
    "start_time": "2022-07-15T14:49:56.836Z"
   },
   {
    "duration": 31,
    "start_time": "2022-07-15T14:49:56.873Z"
   },
   {
    "duration": 9,
    "start_time": "2022-07-15T14:49:56.905Z"
   },
   {
    "duration": 19,
    "start_time": "2022-07-15T14:49:56.916Z"
   },
   {
    "duration": 54,
    "start_time": "2022-07-15T14:49:56.936Z"
   },
   {
    "duration": 31,
    "start_time": "2022-07-15T14:49:56.991Z"
   },
   {
    "duration": 25,
    "start_time": "2022-07-15T14:49:57.026Z"
   },
   {
    "duration": 27,
    "start_time": "2022-07-15T14:49:57.054Z"
   },
   {
    "duration": 11,
    "start_time": "2022-07-15T14:49:57.083Z"
   },
   {
    "duration": 26,
    "start_time": "2022-07-15T14:49:57.096Z"
   },
   {
    "duration": 36,
    "start_time": "2022-07-15T14:49:57.129Z"
   },
   {
    "duration": 8,
    "start_time": "2022-07-15T14:49:57.170Z"
   },
   {
    "duration": 19,
    "start_time": "2022-07-15T14:49:57.180Z"
   },
   {
    "duration": 13,
    "start_time": "2022-07-15T14:49:57.201Z"
   },
   {
    "duration": 74,
    "start_time": "2022-07-15T14:49:57.216Z"
   },
   {
    "duration": 17,
    "start_time": "2022-07-15T14:49:57.292Z"
   },
   {
    "duration": 18,
    "start_time": "2022-07-15T14:49:57.312Z"
   },
   {
    "duration": 21,
    "start_time": "2022-07-15T14:49:57.344Z"
   },
   {
    "duration": 33,
    "start_time": "2022-07-15T14:49:57.367Z"
   },
   {
    "duration": 37,
    "start_time": "2022-07-15T14:49:57.401Z"
   },
   {
    "duration": 26,
    "start_time": "2022-07-15T14:49:57.440Z"
   },
   {
    "duration": 25,
    "start_time": "2022-07-15T14:49:57.468Z"
   },
   {
    "duration": 44,
    "start_time": "2022-07-15T14:49:57.495Z"
   },
   {
    "duration": 26,
    "start_time": "2022-07-15T14:49:57.541Z"
   },
   {
    "duration": 18,
    "start_time": "2022-07-15T14:49:57.569Z"
   },
   {
    "duration": 15,
    "start_time": "2022-07-15T14:49:57.588Z"
   },
   {
    "duration": 48,
    "start_time": "2022-07-15T14:49:57.604Z"
   },
   {
    "duration": 29,
    "start_time": "2022-07-15T14:49:57.654Z"
   },
   {
    "duration": 7,
    "start_time": "2022-07-15T14:49:57.685Z"
   },
   {
    "duration": 9,
    "start_time": "2022-07-15T14:49:57.694Z"
   },
   {
    "duration": 26,
    "start_time": "2022-07-15T14:49:57.704Z"
   },
   {
    "duration": 22,
    "start_time": "2022-07-15T14:49:57.737Z"
   },
   {
    "duration": 9,
    "start_time": "2022-07-15T14:49:57.761Z"
   },
   {
    "duration": 16,
    "start_time": "2022-07-15T14:49:57.772Z"
   },
   {
    "duration": 146,
    "start_time": "2022-07-15T14:49:57.790Z"
   },
   {
    "duration": 20,
    "start_time": "2022-07-15T14:49:57.937Z"
   },
   {
    "duration": 17,
    "start_time": "2022-07-15T14:49:57.958Z"
   },
   {
    "duration": 5,
    "start_time": "2022-07-15T14:49:57.977Z"
   },
   {
    "duration": 187,
    "start_time": "2022-07-15T14:49:57.984Z"
   },
   {
    "duration": 1275,
    "start_time": "2022-07-15T14:49:58.173Z"
   },
   {
    "duration": 0,
    "start_time": "2022-07-15T14:49:59.454Z"
   },
   {
    "duration": 0,
    "start_time": "2022-07-15T14:49:59.456Z"
   },
   {
    "duration": 0,
    "start_time": "2022-07-15T14:49:59.457Z"
   },
   {
    "duration": 0,
    "start_time": "2022-07-15T14:49:59.459Z"
   },
   {
    "duration": 0,
    "start_time": "2022-07-15T14:49:59.460Z"
   },
   {
    "duration": 0,
    "start_time": "2022-07-15T14:49:59.463Z"
   },
   {
    "duration": 0,
    "start_time": "2022-07-15T14:49:59.465Z"
   },
   {
    "duration": 0,
    "start_time": "2022-07-15T14:49:59.466Z"
   },
   {
    "duration": 0,
    "start_time": "2022-07-15T14:49:59.467Z"
   },
   {
    "duration": 0,
    "start_time": "2022-07-15T14:49:59.469Z"
   },
   {
    "duration": 0,
    "start_time": "2022-07-15T14:49:59.470Z"
   },
   {
    "duration": 0,
    "start_time": "2022-07-15T14:49:59.472Z"
   },
   {
    "duration": 0,
    "start_time": "2022-07-15T14:49:59.473Z"
   },
   {
    "duration": 0,
    "start_time": "2022-07-15T14:49:59.475Z"
   },
   {
    "duration": 3,
    "start_time": "2022-07-15T14:50:26.192Z"
   },
   {
    "duration": 505,
    "start_time": "2022-07-15T14:50:26.198Z"
   },
   {
    "duration": 12,
    "start_time": "2022-07-15T14:50:26.705Z"
   },
   {
    "duration": 40,
    "start_time": "2022-07-15T14:50:26.718Z"
   },
   {
    "duration": 14,
    "start_time": "2022-07-15T14:50:26.760Z"
   },
   {
    "duration": 18,
    "start_time": "2022-07-15T14:50:26.775Z"
   },
   {
    "duration": 15,
    "start_time": "2022-07-15T14:50:26.795Z"
   },
   {
    "duration": 34,
    "start_time": "2022-07-15T14:50:26.812Z"
   },
   {
    "duration": 42,
    "start_time": "2022-07-15T14:50:26.848Z"
   },
   {
    "duration": 90,
    "start_time": "2022-07-15T14:50:26.891Z"
   },
   {
    "duration": 46,
    "start_time": "2022-07-15T14:50:26.990Z"
   },
   {
    "duration": 35,
    "start_time": "2022-07-15T14:50:27.037Z"
   },
   {
    "duration": 39,
    "start_time": "2022-07-15T14:50:27.074Z"
   },
   {
    "duration": 87,
    "start_time": "2022-07-15T14:50:27.115Z"
   },
   {
    "duration": 30,
    "start_time": "2022-07-15T14:50:27.204Z"
   },
   {
    "duration": 45,
    "start_time": "2022-07-15T14:50:27.236Z"
   },
   {
    "duration": 44,
    "start_time": "2022-07-15T14:50:27.282Z"
   },
   {
    "duration": 81,
    "start_time": "2022-07-15T14:50:27.331Z"
   },
   {
    "duration": 23,
    "start_time": "2022-07-15T14:50:27.413Z"
   },
   {
    "duration": 46,
    "start_time": "2022-07-15T14:50:27.442Z"
   },
   {
    "duration": 71,
    "start_time": "2022-07-15T14:50:27.490Z"
   },
   {
    "duration": 46,
    "start_time": "2022-07-15T14:50:27.562Z"
   },
   {
    "duration": 49,
    "start_time": "2022-07-15T14:50:27.610Z"
   },
   {
    "duration": 34,
    "start_time": "2022-07-15T14:50:27.661Z"
   },
   {
    "duration": 57,
    "start_time": "2022-07-15T14:50:27.698Z"
   },
   {
    "duration": 49,
    "start_time": "2022-07-15T14:50:27.759Z"
   },
   {
    "duration": 66,
    "start_time": "2022-07-15T14:50:27.810Z"
   },
   {
    "duration": 16,
    "start_time": "2022-07-15T14:50:27.878Z"
   },
   {
    "duration": 24,
    "start_time": "2022-07-15T14:50:27.898Z"
   },
   {
    "duration": 58,
    "start_time": "2022-07-15T14:50:27.924Z"
   },
   {
    "duration": 59,
    "start_time": "2022-07-15T14:50:27.983Z"
   },
   {
    "duration": 40,
    "start_time": "2022-07-15T14:50:28.043Z"
   },
   {
    "duration": 27,
    "start_time": "2022-07-15T14:50:28.084Z"
   },
   {
    "duration": 35,
    "start_time": "2022-07-15T14:50:28.113Z"
   },
   {
    "duration": 49,
    "start_time": "2022-07-15T14:50:28.154Z"
   },
   {
    "duration": 43,
    "start_time": "2022-07-15T14:50:28.205Z"
   },
   {
    "duration": 25,
    "start_time": "2022-07-15T14:50:28.256Z"
   },
   {
    "duration": 42,
    "start_time": "2022-07-15T14:50:28.283Z"
   },
   {
    "duration": 53,
    "start_time": "2022-07-15T14:50:28.326Z"
   },
   {
    "duration": 33,
    "start_time": "2022-07-15T14:50:28.382Z"
   },
   {
    "duration": 13,
    "start_time": "2022-07-15T14:50:28.417Z"
   },
   {
    "duration": 52,
    "start_time": "2022-07-15T14:50:28.433Z"
   },
   {
    "duration": 12,
    "start_time": "2022-07-15T14:50:28.486Z"
   },
   {
    "duration": 37,
    "start_time": "2022-07-15T14:50:28.499Z"
   },
   {
    "duration": 36,
    "start_time": "2022-07-15T14:50:28.537Z"
   },
   {
    "duration": 21,
    "start_time": "2022-07-15T14:50:28.575Z"
   },
   {
    "duration": 178,
    "start_time": "2022-07-15T14:50:28.597Z"
   },
   {
    "duration": 17,
    "start_time": "2022-07-15T14:50:28.777Z"
   },
   {
    "duration": 39,
    "start_time": "2022-07-15T14:50:28.795Z"
   },
   {
    "duration": 70,
    "start_time": "2022-07-15T14:50:28.840Z"
   },
   {
    "duration": 300,
    "start_time": "2022-07-15T14:50:28.912Z"
   },
   {
    "duration": 251,
    "start_time": "2022-07-15T14:50:29.214Z"
   },
   {
    "duration": 45,
    "start_time": "2022-07-15T14:50:29.467Z"
   },
   {
    "duration": 25,
    "start_time": "2022-07-15T14:50:29.527Z"
   },
   {
    "duration": 263,
    "start_time": "2022-07-15T14:50:29.554Z"
   },
   {
    "duration": 18,
    "start_time": "2022-07-15T14:50:29.819Z"
   },
   {
    "duration": 261,
    "start_time": "2022-07-15T14:50:29.846Z"
   },
   {
    "duration": 28,
    "start_time": "2022-07-15T14:50:30.109Z"
   },
   {
    "duration": 357,
    "start_time": "2022-07-15T14:50:30.139Z"
   },
   {
    "duration": 4,
    "start_time": "2022-07-15T14:50:30.498Z"
   },
   {
    "duration": 77,
    "start_time": "2022-07-15T14:50:30.503Z"
   },
   {
    "duration": 71,
    "start_time": "2022-07-15T14:50:30.582Z"
   },
   {
    "duration": 27,
    "start_time": "2022-07-15T14:50:30.655Z"
   },
   {
    "duration": 27,
    "start_time": "2022-07-15T14:50:30.684Z"
   },
   {
    "duration": 56,
    "start_time": "2022-07-15T14:50:30.713Z"
   },
   {
    "duration": 25,
    "start_time": "2022-07-15T14:50:30.771Z"
   },
   {
    "duration": 3,
    "start_time": "2022-07-15T14:52:34.200Z"
   },
   {
    "duration": 477,
    "start_time": "2022-07-15T14:52:34.205Z"
   },
   {
    "duration": 11,
    "start_time": "2022-07-15T14:52:34.684Z"
   },
   {
    "duration": 9,
    "start_time": "2022-07-15T14:52:34.697Z"
   },
   {
    "duration": 13,
    "start_time": "2022-07-15T14:52:34.709Z"
   },
   {
    "duration": 43,
    "start_time": "2022-07-15T14:52:34.724Z"
   },
   {
    "duration": 11,
    "start_time": "2022-07-15T14:52:34.769Z"
   },
   {
    "duration": 14,
    "start_time": "2022-07-15T14:52:34.781Z"
   },
   {
    "duration": 23,
    "start_time": "2022-07-15T14:52:34.797Z"
   },
   {
    "duration": 54,
    "start_time": "2022-07-15T14:52:34.822Z"
   },
   {
    "duration": 26,
    "start_time": "2022-07-15T14:52:34.879Z"
   },
   {
    "duration": 43,
    "start_time": "2022-07-15T14:52:34.906Z"
   },
   {
    "duration": 19,
    "start_time": "2022-07-15T14:52:34.954Z"
   },
   {
    "duration": 28,
    "start_time": "2022-07-15T14:52:34.975Z"
   },
   {
    "duration": 8,
    "start_time": "2022-07-15T14:52:35.006Z"
   },
   {
    "duration": 46,
    "start_time": "2022-07-15T14:52:35.016Z"
   },
   {
    "duration": 21,
    "start_time": "2022-07-15T14:52:35.064Z"
   },
   {
    "duration": 30,
    "start_time": "2022-07-15T14:52:35.086Z"
   },
   {
    "duration": 36,
    "start_time": "2022-07-15T14:52:35.118Z"
   },
   {
    "duration": 15,
    "start_time": "2022-07-15T14:52:35.157Z"
   },
   {
    "duration": 26,
    "start_time": "2022-07-15T14:52:35.174Z"
   },
   {
    "duration": 18,
    "start_time": "2022-07-15T14:52:35.202Z"
   },
   {
    "duration": 40,
    "start_time": "2022-07-15T14:52:35.221Z"
   },
   {
    "duration": 18,
    "start_time": "2022-07-15T14:52:35.263Z"
   },
   {
    "duration": 31,
    "start_time": "2022-07-15T14:52:35.283Z"
   },
   {
    "duration": 30,
    "start_time": "2022-07-15T14:52:35.317Z"
   },
   {
    "duration": 49,
    "start_time": "2022-07-15T14:52:35.351Z"
   },
   {
    "duration": 19,
    "start_time": "2022-07-15T14:52:35.402Z"
   },
   {
    "duration": 38,
    "start_time": "2022-07-15T14:52:35.426Z"
   },
   {
    "duration": 7,
    "start_time": "2022-07-15T14:52:35.466Z"
   },
   {
    "duration": 32,
    "start_time": "2022-07-15T14:52:35.474Z"
   },
   {
    "duration": 40,
    "start_time": "2022-07-15T14:52:35.507Z"
   },
   {
    "duration": 20,
    "start_time": "2022-07-15T14:52:35.552Z"
   },
   {
    "duration": 19,
    "start_time": "2022-07-15T14:52:35.574Z"
   },
   {
    "duration": 33,
    "start_time": "2022-07-15T14:52:35.595Z"
   },
   {
    "duration": 29,
    "start_time": "2022-07-15T14:52:35.632Z"
   },
   {
    "duration": 16,
    "start_time": "2022-07-15T14:52:35.662Z"
   },
   {
    "duration": 16,
    "start_time": "2022-07-15T14:52:35.680Z"
   },
   {
    "duration": 48,
    "start_time": "2022-07-15T14:52:35.697Z"
   },
   {
    "duration": 32,
    "start_time": "2022-07-15T14:52:35.746Z"
   },
   {
    "duration": 8,
    "start_time": "2022-07-15T14:52:35.780Z"
   },
   {
    "duration": 10,
    "start_time": "2022-07-15T14:52:35.789Z"
   },
   {
    "duration": 6,
    "start_time": "2022-07-15T14:52:35.801Z"
   },
   {
    "duration": 35,
    "start_time": "2022-07-15T14:52:35.823Z"
   },
   {
    "duration": 10,
    "start_time": "2022-07-15T14:52:35.860Z"
   },
   {
    "duration": 24,
    "start_time": "2022-07-15T14:52:35.873Z"
   },
   {
    "duration": 188,
    "start_time": "2022-07-15T14:52:35.899Z"
   },
   {
    "duration": 17,
    "start_time": "2022-07-15T14:52:36.090Z"
   },
   {
    "duration": 33,
    "start_time": "2022-07-15T14:52:36.110Z"
   },
   {
    "duration": 11,
    "start_time": "2022-07-15T14:52:36.148Z"
   },
   {
    "duration": 204,
    "start_time": "2022-07-15T14:52:36.161Z"
   },
   {
    "duration": 234,
    "start_time": "2022-07-15T14:52:36.366Z"
   },
   {
    "duration": 10,
    "start_time": "2022-07-15T14:52:36.602Z"
   },
   {
    "duration": 12,
    "start_time": "2022-07-15T14:52:36.630Z"
   },
   {
    "duration": 263,
    "start_time": "2022-07-15T14:52:36.644Z"
   },
   {
    "duration": 39,
    "start_time": "2022-07-15T14:52:36.909Z"
   },
   {
    "duration": 275,
    "start_time": "2022-07-15T14:52:36.953Z"
   },
   {
    "duration": 23,
    "start_time": "2022-07-15T14:52:37.233Z"
   },
   {
    "duration": 261,
    "start_time": "2022-07-15T14:52:37.258Z"
   },
   {
    "duration": 10,
    "start_time": "2022-07-15T14:52:37.523Z"
   },
   {
    "duration": 22,
    "start_time": "2022-07-15T14:52:37.540Z"
   },
   {
    "duration": 4,
    "start_time": "2022-07-15T14:52:37.563Z"
   },
   {
    "duration": 7,
    "start_time": "2022-07-15T14:52:37.569Z"
   },
   {
    "duration": 6,
    "start_time": "2022-07-15T14:52:37.578Z"
   },
   {
    "duration": 8,
    "start_time": "2022-07-15T14:52:37.586Z"
   },
   {
    "duration": 6,
    "start_time": "2022-07-15T14:52:37.596Z"
   },
   {
    "duration": 4,
    "start_time": "2022-07-15T14:55:18.355Z"
   },
   {
    "duration": 502,
    "start_time": "2022-07-15T14:55:18.361Z"
   },
   {
    "duration": 16,
    "start_time": "2022-07-15T14:55:18.866Z"
   },
   {
    "duration": 12,
    "start_time": "2022-07-15T14:55:18.886Z"
   },
   {
    "duration": 20,
    "start_time": "2022-07-15T14:55:18.901Z"
   },
   {
    "duration": 68,
    "start_time": "2022-07-15T14:55:18.923Z"
   },
   {
    "duration": 12,
    "start_time": "2022-07-15T14:55:18.993Z"
   },
   {
    "duration": 32,
    "start_time": "2022-07-15T14:55:19.007Z"
   },
   {
    "duration": 71,
    "start_time": "2022-07-15T14:55:19.043Z"
   },
   {
    "duration": 62,
    "start_time": "2022-07-15T14:55:19.116Z"
   },
   {
    "duration": 61,
    "start_time": "2022-07-15T14:55:19.185Z"
   },
   {
    "duration": 38,
    "start_time": "2022-07-15T14:55:19.248Z"
   },
   {
    "duration": 39,
    "start_time": "2022-07-15T14:55:19.289Z"
   },
   {
    "duration": 45,
    "start_time": "2022-07-15T14:55:19.330Z"
   },
   {
    "duration": 14,
    "start_time": "2022-07-15T14:55:19.377Z"
   },
   {
    "duration": 21,
    "start_time": "2022-07-15T14:55:19.393Z"
   },
   {
    "duration": 61,
    "start_time": "2022-07-15T14:55:19.424Z"
   },
   {
    "duration": 31,
    "start_time": "2022-07-15T14:55:19.487Z"
   },
   {
    "duration": 27,
    "start_time": "2022-07-15T14:55:19.519Z"
   },
   {
    "duration": 17,
    "start_time": "2022-07-15T14:55:19.551Z"
   },
   {
    "duration": 16,
    "start_time": "2022-07-15T14:55:19.570Z"
   },
   {
    "duration": 19,
    "start_time": "2022-07-15T14:55:19.588Z"
   },
   {
    "duration": 29,
    "start_time": "2022-07-15T14:55:19.609Z"
   },
   {
    "duration": 26,
    "start_time": "2022-07-15T14:55:19.639Z"
   },
   {
    "duration": 21,
    "start_time": "2022-07-15T14:55:19.667Z"
   },
   {
    "duration": 14,
    "start_time": "2022-07-15T14:55:19.690Z"
   },
   {
    "duration": 52,
    "start_time": "2022-07-15T14:55:19.706Z"
   },
   {
    "duration": 26,
    "start_time": "2022-07-15T14:55:19.760Z"
   },
   {
    "duration": 15,
    "start_time": "2022-07-15T14:55:19.792Z"
   },
   {
    "duration": 57,
    "start_time": "2022-07-15T14:55:19.809Z"
   },
   {
    "duration": 33,
    "start_time": "2022-07-15T14:55:19.868Z"
   },
   {
    "duration": 42,
    "start_time": "2022-07-15T14:55:19.903Z"
   },
   {
    "duration": 22,
    "start_time": "2022-07-15T14:55:19.946Z"
   },
   {
    "duration": 22,
    "start_time": "2022-07-15T14:55:19.970Z"
   },
   {
    "duration": 39,
    "start_time": "2022-07-15T14:55:19.994Z"
   },
   {
    "duration": 26,
    "start_time": "2022-07-15T14:55:20.036Z"
   },
   {
    "duration": 15,
    "start_time": "2022-07-15T14:55:20.063Z"
   },
   {
    "duration": 15,
    "start_time": "2022-07-15T14:55:20.080Z"
   },
   {
    "duration": 58,
    "start_time": "2022-07-15T14:55:20.097Z"
   },
   {
    "duration": 21,
    "start_time": "2022-07-15T14:55:20.157Z"
   },
   {
    "duration": 9,
    "start_time": "2022-07-15T14:55:20.180Z"
   },
   {
    "duration": 18,
    "start_time": "2022-07-15T14:55:20.190Z"
   },
   {
    "duration": 4,
    "start_time": "2022-07-15T14:55:20.210Z"
   },
   {
    "duration": 16,
    "start_time": "2022-07-15T14:55:20.215Z"
   },
   {
    "duration": 29,
    "start_time": "2022-07-15T14:55:20.235Z"
   },
   {
    "duration": 17,
    "start_time": "2022-07-15T14:55:20.266Z"
   },
   {
    "duration": 167,
    "start_time": "2022-07-15T14:55:20.285Z"
   },
   {
    "duration": 17,
    "start_time": "2022-07-15T14:55:20.454Z"
   },
   {
    "duration": 9,
    "start_time": "2022-07-15T14:55:20.473Z"
   },
   {
    "duration": 5,
    "start_time": "2022-07-15T14:55:20.484Z"
   },
   {
    "duration": 194,
    "start_time": "2022-07-15T14:55:20.491Z"
   },
   {
    "duration": 222,
    "start_time": "2022-07-15T14:55:20.687Z"
   },
   {
    "duration": 55,
    "start_time": "2022-07-15T14:55:20.911Z"
   },
   {
    "duration": 16,
    "start_time": "2022-07-15T14:55:20.969Z"
   },
   {
    "duration": 251,
    "start_time": "2022-07-15T14:55:20.986Z"
   },
   {
    "duration": 18,
    "start_time": "2022-07-15T14:55:21.241Z"
   },
   {
    "duration": 243,
    "start_time": "2022-07-15T14:55:21.261Z"
   },
   {
    "duration": 21,
    "start_time": "2022-07-15T14:55:21.506Z"
   },
   {
    "duration": 251,
    "start_time": "2022-07-15T14:55:21.529Z"
   },
   {
    "duration": 4,
    "start_time": "2022-07-15T14:55:21.783Z"
   },
   {
    "duration": 8,
    "start_time": "2022-07-15T14:55:21.789Z"
   },
   {
    "duration": 4,
    "start_time": "2022-07-15T14:55:21.798Z"
   },
   {
    "duration": 54,
    "start_time": "2022-07-15T14:55:21.803Z"
   },
   {
    "duration": 11,
    "start_time": "2022-07-15T14:55:21.858Z"
   },
   {
    "duration": 7,
    "start_time": "2022-07-15T14:55:21.870Z"
   },
   {
    "duration": 5,
    "start_time": "2022-07-15T14:55:21.879Z"
   },
   {
    "duration": 3,
    "start_time": "2022-07-15T14:56:51.689Z"
   },
   {
    "duration": 513,
    "start_time": "2022-07-15T14:56:51.694Z"
   },
   {
    "duration": 11,
    "start_time": "2022-07-15T14:56:52.209Z"
   },
   {
    "duration": 44,
    "start_time": "2022-07-15T14:56:52.222Z"
   },
   {
    "duration": 14,
    "start_time": "2022-07-15T14:56:52.268Z"
   },
   {
    "duration": 18,
    "start_time": "2022-07-15T14:56:52.284Z"
   },
   {
    "duration": 14,
    "start_time": "2022-07-15T14:56:52.304Z"
   },
   {
    "duration": 34,
    "start_time": "2022-07-15T14:56:52.320Z"
   },
   {
    "duration": 38,
    "start_time": "2022-07-15T14:56:52.358Z"
   },
   {
    "duration": 59,
    "start_time": "2022-07-15T14:56:52.397Z"
   },
   {
    "duration": 146,
    "start_time": "2022-07-15T14:56:52.459Z"
   },
   {
    "duration": 26,
    "start_time": "2022-07-15T14:56:52.607Z"
   },
   {
    "duration": 35,
    "start_time": "2022-07-15T14:56:52.636Z"
   },
   {
    "duration": 32,
    "start_time": "2022-07-15T14:56:52.673Z"
   },
   {
    "duration": 9,
    "start_time": "2022-07-15T14:56:52.707Z"
   },
   {
    "duration": 45,
    "start_time": "2022-07-15T14:56:52.718Z"
   },
   {
    "duration": 20,
    "start_time": "2022-07-15T14:56:52.764Z"
   },
   {
    "duration": 35,
    "start_time": "2022-07-15T14:56:52.786Z"
   },
   {
    "duration": 24,
    "start_time": "2022-07-15T14:56:52.823Z"
   },
   {
    "duration": 21,
    "start_time": "2022-07-15T14:56:52.848Z"
   },
   {
    "duration": 13,
    "start_time": "2022-07-15T14:56:52.871Z"
   },
   {
    "duration": 15,
    "start_time": "2022-07-15T14:56:52.886Z"
   },
   {
    "duration": 14,
    "start_time": "2022-07-15T14:56:52.902Z"
   },
   {
    "duration": 48,
    "start_time": "2022-07-15T14:56:52.926Z"
   },
   {
    "duration": 24,
    "start_time": "2022-07-15T14:56:52.976Z"
   },
   {
    "duration": 13,
    "start_time": "2022-07-15T14:56:53.001Z"
   },
   {
    "duration": 53,
    "start_time": "2022-07-15T14:56:53.016Z"
   },
   {
    "duration": 18,
    "start_time": "2022-07-15T14:56:53.071Z"
   },
   {
    "duration": 13,
    "start_time": "2022-07-15T14:56:53.091Z"
   },
   {
    "duration": 4,
    "start_time": "2022-07-15T14:56:53.106Z"
   },
   {
    "duration": 68,
    "start_time": "2022-07-15T14:56:53.111Z"
   },
   {
    "duration": 26,
    "start_time": "2022-07-15T14:56:53.181Z"
   },
   {
    "duration": 28,
    "start_time": "2022-07-15T14:56:53.209Z"
   },
   {
    "duration": 25,
    "start_time": "2022-07-15T14:56:53.244Z"
   },
   {
    "duration": 23,
    "start_time": "2022-07-15T14:56:53.270Z"
   },
   {
    "duration": 20,
    "start_time": "2022-07-15T14:56:53.295Z"
   },
   {
    "duration": 38,
    "start_time": "2022-07-15T14:56:53.316Z"
   },
   {
    "duration": 18,
    "start_time": "2022-07-15T14:56:53.355Z"
   },
   {
    "duration": 18,
    "start_time": "2022-07-15T14:56:53.375Z"
   },
   {
    "duration": 37,
    "start_time": "2022-07-15T14:56:53.395Z"
   },
   {
    "duration": 13,
    "start_time": "2022-07-15T14:56:53.441Z"
   },
   {
    "duration": 12,
    "start_time": "2022-07-15T14:56:53.455Z"
   },
   {
    "duration": 4,
    "start_time": "2022-07-15T14:56:53.469Z"
   },
   {
    "duration": 10,
    "start_time": "2022-07-15T14:56:53.474Z"
   },
   {
    "duration": 10,
    "start_time": "2022-07-15T14:56:53.486Z"
   },
   {
    "duration": 31,
    "start_time": "2022-07-15T14:56:53.497Z"
   },
   {
    "duration": 162,
    "start_time": "2022-07-15T14:56:53.530Z"
   },
   {
    "duration": 18,
    "start_time": "2022-07-15T14:56:53.693Z"
   },
   {
    "duration": 13,
    "start_time": "2022-07-15T14:56:53.725Z"
   },
   {
    "duration": 34,
    "start_time": "2022-07-15T14:56:53.740Z"
   },
   {
    "duration": 190,
    "start_time": "2022-07-15T14:56:53.776Z"
   },
   {
    "duration": 249,
    "start_time": "2022-07-15T14:56:53.968Z"
   },
   {
    "duration": 20,
    "start_time": "2022-07-15T14:56:54.218Z"
   },
   {
    "duration": 37,
    "start_time": "2022-07-15T14:56:54.246Z"
   },
   {
    "duration": 256,
    "start_time": "2022-07-15T14:56:54.285Z"
   },
   {
    "duration": 19,
    "start_time": "2022-07-15T14:56:54.550Z"
   },
   {
    "duration": 247,
    "start_time": "2022-07-15T14:56:54.571Z"
   },
   {
    "duration": 22,
    "start_time": "2022-07-15T14:56:54.820Z"
   },
   {
    "duration": 274,
    "start_time": "2022-07-15T14:56:54.844Z"
   },
   {
    "duration": 7,
    "start_time": "2022-07-15T14:56:55.120Z"
   },
   {
    "duration": 32,
    "start_time": "2022-07-15T14:56:55.132Z"
   },
   {
    "duration": 4,
    "start_time": "2022-07-15T14:56:55.166Z"
   },
   {
    "duration": 6,
    "start_time": "2022-07-15T14:56:55.172Z"
   },
   {
    "duration": 8,
    "start_time": "2022-07-15T14:56:55.180Z"
   },
   {
    "duration": 8,
    "start_time": "2022-07-15T14:56:55.190Z"
   },
   {
    "duration": 5,
    "start_time": "2022-07-15T14:56:55.199Z"
   },
   {
    "duration": 3,
    "start_time": "2022-07-15T14:57:36.486Z"
   },
   {
    "duration": 466,
    "start_time": "2022-07-15T14:57:36.491Z"
   },
   {
    "duration": 11,
    "start_time": "2022-07-15T14:57:36.959Z"
   },
   {
    "duration": 23,
    "start_time": "2022-07-15T14:57:36.973Z"
   },
   {
    "duration": 52,
    "start_time": "2022-07-15T14:57:36.998Z"
   },
   {
    "duration": 29,
    "start_time": "2022-07-15T14:57:37.051Z"
   },
   {
    "duration": 27,
    "start_time": "2022-07-15T14:57:37.082Z"
   },
   {
    "duration": 57,
    "start_time": "2022-07-15T14:57:37.111Z"
   },
   {
    "duration": 45,
    "start_time": "2022-07-15T14:57:37.171Z"
   },
   {
    "duration": 58,
    "start_time": "2022-07-15T14:57:37.219Z"
   },
   {
    "duration": 26,
    "start_time": "2022-07-15T14:57:37.279Z"
   },
   {
    "duration": 10,
    "start_time": "2022-07-15T14:57:37.307Z"
   },
   {
    "duration": 34,
    "start_time": "2022-07-15T14:57:37.326Z"
   },
   {
    "duration": 54,
    "start_time": "2022-07-15T14:57:37.362Z"
   },
   {
    "duration": 14,
    "start_time": "2022-07-15T14:57:37.418Z"
   },
   {
    "duration": 35,
    "start_time": "2022-07-15T14:57:37.437Z"
   },
   {
    "duration": 40,
    "start_time": "2022-07-15T14:57:37.474Z"
   },
   {
    "duration": 74,
    "start_time": "2022-07-15T14:57:37.516Z"
   },
   {
    "duration": 14,
    "start_time": "2022-07-15T14:57:37.592Z"
   },
   {
    "duration": 23,
    "start_time": "2022-07-15T14:57:37.607Z"
   },
   {
    "duration": 33,
    "start_time": "2022-07-15T14:57:37.632Z"
   },
   {
    "duration": 25,
    "start_time": "2022-07-15T14:57:37.666Z"
   },
   {
    "duration": 64,
    "start_time": "2022-07-15T14:57:37.692Z"
   },
   {
    "duration": 28,
    "start_time": "2022-07-15T14:57:37.761Z"
   },
   {
    "duration": 46,
    "start_time": "2022-07-15T14:57:37.791Z"
   },
   {
    "duration": 41,
    "start_time": "2022-07-15T14:57:37.838Z"
   },
   {
    "duration": 64,
    "start_time": "2022-07-15T14:57:37.880Z"
   },
   {
    "duration": 25,
    "start_time": "2022-07-15T14:57:37.946Z"
   },
   {
    "duration": 29,
    "start_time": "2022-07-15T14:57:37.972Z"
   },
   {
    "duration": 41,
    "start_time": "2022-07-15T14:57:38.003Z"
   },
   {
    "duration": 53,
    "start_time": "2022-07-15T14:57:38.046Z"
   },
   {
    "duration": 35,
    "start_time": "2022-07-15T14:57:38.101Z"
   },
   {
    "duration": 20,
    "start_time": "2022-07-15T14:57:38.139Z"
   },
   {
    "duration": 38,
    "start_time": "2022-07-15T14:57:38.160Z"
   },
   {
    "duration": 46,
    "start_time": "2022-07-15T14:57:38.200Z"
   },
   {
    "duration": 34,
    "start_time": "2022-07-15T14:57:38.247Z"
   },
   {
    "duration": 25,
    "start_time": "2022-07-15T14:57:38.283Z"
   },
   {
    "duration": 51,
    "start_time": "2022-07-15T14:57:38.310Z"
   },
   {
    "duration": 22,
    "start_time": "2022-07-15T14:57:38.363Z"
   },
   {
    "duration": 34,
    "start_time": "2022-07-15T14:57:38.387Z"
   },
   {
    "duration": 38,
    "start_time": "2022-07-15T14:57:38.423Z"
   },
   {
    "duration": 31,
    "start_time": "2022-07-15T14:57:38.463Z"
   },
   {
    "duration": 22,
    "start_time": "2022-07-15T14:57:38.496Z"
   },
   {
    "duration": 46,
    "start_time": "2022-07-15T14:57:38.520Z"
   },
   {
    "duration": 24,
    "start_time": "2022-07-15T14:57:38.568Z"
   },
   {
    "duration": 28,
    "start_time": "2022-07-15T14:57:38.594Z"
   },
   {
    "duration": 191,
    "start_time": "2022-07-15T14:57:38.628Z"
   },
   {
    "duration": 31,
    "start_time": "2022-07-15T14:57:38.820Z"
   },
   {
    "duration": 34,
    "start_time": "2022-07-15T14:57:38.853Z"
   },
   {
    "duration": 24,
    "start_time": "2022-07-15T14:57:38.889Z"
   },
   {
    "duration": 268,
    "start_time": "2022-07-15T14:57:38.915Z"
   },
   {
    "duration": 298,
    "start_time": "2022-07-15T14:57:39.185Z"
   },
   {
    "duration": 11,
    "start_time": "2022-07-15T14:57:39.486Z"
   },
   {
    "duration": 43,
    "start_time": "2022-07-15T14:57:39.499Z"
   },
   {
    "duration": 253,
    "start_time": "2022-07-15T14:57:39.544Z"
   },
   {
    "duration": 11,
    "start_time": "2022-07-15T14:57:39.799Z"
   },
   {
    "duration": 294,
    "start_time": "2022-07-15T14:57:39.812Z"
   },
   {
    "duration": 31,
    "start_time": "2022-07-15T14:57:40.108Z"
   },
   {
    "duration": 258,
    "start_time": "2022-07-15T14:57:40.140Z"
   },
   {
    "duration": 4,
    "start_time": "2022-07-15T14:57:40.400Z"
   },
   {
    "duration": 41,
    "start_time": "2022-07-15T14:57:40.405Z"
   },
   {
    "duration": 18,
    "start_time": "2022-07-15T14:57:40.448Z"
   },
   {
    "duration": 20,
    "start_time": "2022-07-15T14:57:40.468Z"
   },
   {
    "duration": 51,
    "start_time": "2022-07-15T14:57:40.490Z"
   },
   {
    "duration": 20,
    "start_time": "2022-07-15T14:57:40.543Z"
   },
   {
    "duration": 27,
    "start_time": "2022-07-15T14:57:40.565Z"
   },
   {
    "duration": 1196,
    "start_time": "2022-07-16T07:23:49.640Z"
   },
   {
    "duration": 897,
    "start_time": "2022-07-16T07:23:50.838Z"
   },
   {
    "duration": 11,
    "start_time": "2022-07-16T07:23:51.737Z"
   },
   {
    "duration": 9,
    "start_time": "2022-07-16T07:23:51.750Z"
   },
   {
    "duration": 12,
    "start_time": "2022-07-16T07:23:51.761Z"
   },
   {
    "duration": 17,
    "start_time": "2022-07-16T07:23:51.774Z"
   },
   {
    "duration": 12,
    "start_time": "2022-07-16T07:23:51.793Z"
   },
   {
    "duration": 15,
    "start_time": "2022-07-16T07:23:51.806Z"
   },
   {
    "duration": 27,
    "start_time": "2022-07-16T07:23:51.823Z"
   },
   {
    "duration": 55,
    "start_time": "2022-07-16T07:23:51.854Z"
   },
   {
    "duration": 27,
    "start_time": "2022-07-16T07:23:51.911Z"
   },
   {
    "duration": 9,
    "start_time": "2022-07-16T07:23:51.940Z"
   },
   {
    "duration": 10,
    "start_time": "2022-07-16T07:23:51.951Z"
   },
   {
    "duration": 50,
    "start_time": "2022-07-16T07:23:51.963Z"
   },
   {
    "duration": 8,
    "start_time": "2022-07-16T07:23:52.014Z"
   },
   {
    "duration": 9,
    "start_time": "2022-07-16T07:23:52.023Z"
   },
   {
    "duration": 22,
    "start_time": "2022-07-16T07:23:52.034Z"
   },
   {
    "duration": 47,
    "start_time": "2022-07-16T07:23:52.057Z"
   },
   {
    "duration": 14,
    "start_time": "2022-07-16T07:23:52.106Z"
   },
   {
    "duration": 8,
    "start_time": "2022-07-16T07:23:52.121Z"
   },
   {
    "duration": 10,
    "start_time": "2022-07-16T07:23:52.131Z"
   },
   {
    "duration": 21,
    "start_time": "2022-07-16T07:23:52.143Z"
   },
   {
    "duration": 11,
    "start_time": "2022-07-16T07:23:52.166Z"
   },
   {
    "duration": 25,
    "start_time": "2022-07-16T07:23:52.179Z"
   },
   {
    "duration": 22,
    "start_time": "2022-07-16T07:23:52.206Z"
   },
   {
    "duration": 12,
    "start_time": "2022-07-16T07:23:52.229Z"
   },
   {
    "duration": 40,
    "start_time": "2022-07-16T07:23:52.243Z"
   },
   {
    "duration": 18,
    "start_time": "2022-07-16T07:23:52.300Z"
   },
   {
    "duration": 9,
    "start_time": "2022-07-16T07:23:52.320Z"
   },
   {
    "duration": 7,
    "start_time": "2022-07-16T07:23:52.331Z"
   },
   {
    "duration": 29,
    "start_time": "2022-07-16T07:23:52.341Z"
   },
   {
    "duration": 47,
    "start_time": "2022-07-16T07:23:52.372Z"
   },
   {
    "duration": 19,
    "start_time": "2022-07-16T07:23:52.420Z"
   },
   {
    "duration": 17,
    "start_time": "2022-07-16T07:23:52.440Z"
   },
   {
    "duration": 42,
    "start_time": "2022-07-16T07:23:52.459Z"
   },
   {
    "duration": 20,
    "start_time": "2022-07-16T07:23:52.502Z"
   },
   {
    "duration": 15,
    "start_time": "2022-07-16T07:23:52.524Z"
   },
   {
    "duration": 14,
    "start_time": "2022-07-16T07:23:52.541Z"
   },
   {
    "duration": 44,
    "start_time": "2022-07-16T07:23:52.557Z"
   },
   {
    "duration": 16,
    "start_time": "2022-07-16T07:23:52.603Z"
   },
   {
    "duration": 6,
    "start_time": "2022-07-16T07:23:52.621Z"
   },
   {
    "duration": 7,
    "start_time": "2022-07-16T07:23:52.628Z"
   },
   {
    "duration": 3,
    "start_time": "2022-07-16T07:23:52.637Z"
   },
   {
    "duration": 15,
    "start_time": "2022-07-16T07:23:52.641Z"
   },
   {
    "duration": 8,
    "start_time": "2022-07-16T07:23:52.657Z"
   },
   {
    "duration": 44,
    "start_time": "2022-07-16T07:23:52.666Z"
   },
   {
    "duration": 142,
    "start_time": "2022-07-16T07:23:52.712Z"
   },
   {
    "duration": 16,
    "start_time": "2022-07-16T07:23:52.855Z"
   },
   {
    "duration": 8,
    "start_time": "2022-07-16T07:23:52.872Z"
   },
   {
    "duration": 22,
    "start_time": "2022-07-16T07:23:52.881Z"
   },
   {
    "duration": 169,
    "start_time": "2022-07-16T07:23:52.904Z"
   },
   {
    "duration": 199,
    "start_time": "2022-07-16T07:23:53.075Z"
   },
   {
    "duration": 48,
    "start_time": "2022-07-16T07:23:53.275Z"
   },
   {
    "duration": 10,
    "start_time": "2022-07-16T07:23:53.325Z"
   },
   {
    "duration": 242,
    "start_time": "2022-07-16T07:23:53.337Z"
   },
   {
    "duration": 20,
    "start_time": "2022-07-16T07:23:53.581Z"
   },
   {
    "duration": 220,
    "start_time": "2022-07-16T07:23:53.602Z"
   },
   {
    "duration": 9,
    "start_time": "2022-07-16T07:23:53.824Z"
   },
   {
    "duration": 257,
    "start_time": "2022-07-16T07:23:53.835Z"
   },
   {
    "duration": 8,
    "start_time": "2022-07-16T07:23:54.093Z"
   },
   {
    "duration": 7,
    "start_time": "2022-07-16T07:23:54.102Z"
   },
   {
    "duration": 5,
    "start_time": "2022-07-16T07:23:54.110Z"
   },
   {
    "duration": 11,
    "start_time": "2022-07-16T07:23:54.116Z"
   },
   {
    "duration": 5,
    "start_time": "2022-07-16T07:23:54.128Z"
   },
   {
    "duration": 8,
    "start_time": "2022-07-16T07:23:54.134Z"
   },
   {
    "duration": 5,
    "start_time": "2022-07-16T07:23:54.143Z"
   },
   {
    "duration": 988,
    "start_time": "2022-07-16T07:24:46.351Z"
   },
   {
    "duration": 406,
    "start_time": "2022-07-16T07:24:47.340Z"
   },
   {
    "duration": 11,
    "start_time": "2022-07-16T07:24:47.748Z"
   },
   {
    "duration": 9,
    "start_time": "2022-07-16T07:24:47.760Z"
   },
   {
    "duration": 14,
    "start_time": "2022-07-16T07:24:47.770Z"
   },
   {
    "duration": 19,
    "start_time": "2022-07-16T07:24:47.785Z"
   },
   {
    "duration": 11,
    "start_time": "2022-07-16T07:24:47.805Z"
   },
   {
    "duration": 11,
    "start_time": "2022-07-16T07:24:47.818Z"
   },
   {
    "duration": 24,
    "start_time": "2022-07-16T07:24:47.831Z"
   },
   {
    "duration": 64,
    "start_time": "2022-07-16T07:24:47.857Z"
   },
   {
    "duration": 29,
    "start_time": "2022-07-16T07:24:47.923Z"
   },
   {
    "duration": 10,
    "start_time": "2022-07-16T07:24:47.953Z"
   },
   {
    "duration": 12,
    "start_time": "2022-07-16T07:24:47.965Z"
   },
   {
    "duration": 43,
    "start_time": "2022-07-16T07:24:47.979Z"
   },
   {
    "duration": 9,
    "start_time": "2022-07-16T07:24:48.023Z"
   },
   {
    "duration": 12,
    "start_time": "2022-07-16T07:24:48.034Z"
   },
   {
    "duration": 22,
    "start_time": "2022-07-16T07:24:48.047Z"
   },
   {
    "duration": 45,
    "start_time": "2022-07-16T07:24:48.070Z"
   },
   {
    "duration": 13,
    "start_time": "2022-07-16T07:24:48.116Z"
   },
   {
    "duration": 7,
    "start_time": "2022-07-16T07:24:48.130Z"
   },
   {
    "duration": 16,
    "start_time": "2022-07-16T07:24:48.138Z"
   },
   {
    "duration": 16,
    "start_time": "2022-07-16T07:24:48.155Z"
   },
   {
    "duration": 13,
    "start_time": "2022-07-16T07:24:48.172Z"
   },
   {
    "duration": 18,
    "start_time": "2022-07-16T07:24:48.186Z"
   },
   {
    "duration": 18,
    "start_time": "2022-07-16T07:24:48.205Z"
   },
   {
    "duration": 13,
    "start_time": "2022-07-16T07:24:48.224Z"
   },
   {
    "duration": 38,
    "start_time": "2022-07-16T07:24:48.238Z"
   },
   {
    "duration": 23,
    "start_time": "2022-07-16T07:24:48.301Z"
   },
   {
    "duration": 14,
    "start_time": "2022-07-16T07:24:48.326Z"
   },
   {
    "duration": 14,
    "start_time": "2022-07-16T07:24:48.341Z"
   },
   {
    "duration": 37,
    "start_time": "2022-07-16T07:24:48.357Z"
   },
   {
    "duration": 24,
    "start_time": "2022-07-16T07:24:48.395Z"
   },
   {
    "duration": 18,
    "start_time": "2022-07-16T07:24:48.421Z"
   },
   {
    "duration": 15,
    "start_time": "2022-07-16T07:24:48.441Z"
   },
   {
    "duration": 20,
    "start_time": "2022-07-16T07:24:48.458Z"
   },
   {
    "duration": 36,
    "start_time": "2022-07-16T07:24:48.480Z"
   },
   {
    "duration": 13,
    "start_time": "2022-07-16T07:24:48.517Z"
   },
   {
    "duration": 13,
    "start_time": "2022-07-16T07:24:48.531Z"
   },
   {
    "duration": 14,
    "start_time": "2022-07-16T07:24:48.546Z"
   },
   {
    "duration": 45,
    "start_time": "2022-07-16T07:24:48.561Z"
   },
   {
    "duration": 6,
    "start_time": "2022-07-16T07:24:48.607Z"
   },
   {
    "duration": 10,
    "start_time": "2022-07-16T07:24:48.614Z"
   },
   {
    "duration": 3,
    "start_time": "2022-07-16T07:24:48.625Z"
   },
   {
    "duration": 9,
    "start_time": "2022-07-16T07:24:48.629Z"
   },
   {
    "duration": 9,
    "start_time": "2022-07-16T07:24:48.639Z"
   },
   {
    "duration": 19,
    "start_time": "2022-07-16T07:24:48.649Z"
   },
   {
    "duration": 158,
    "start_time": "2022-07-16T07:24:48.669Z"
   },
   {
    "duration": 19,
    "start_time": "2022-07-16T07:24:48.829Z"
   },
   {
    "duration": 7,
    "start_time": "2022-07-16T07:24:48.850Z"
   },
   {
    "duration": 11,
    "start_time": "2022-07-16T07:24:48.858Z"
   },
   {
    "duration": 177,
    "start_time": "2022-07-16T07:24:48.870Z"
   },
   {
    "duration": 199,
    "start_time": "2022-07-16T07:24:49.049Z"
   },
   {
    "duration": 52,
    "start_time": "2022-07-16T07:24:49.249Z"
   },
   {
    "duration": 10,
    "start_time": "2022-07-16T07:24:49.302Z"
   },
   {
    "duration": 230,
    "start_time": "2022-07-16T07:24:49.313Z"
   },
   {
    "duration": 11,
    "start_time": "2022-07-16T07:24:49.544Z"
   },
   {
    "duration": 231,
    "start_time": "2022-07-16T07:24:49.557Z"
   },
   {
    "duration": 15,
    "start_time": "2022-07-16T07:24:49.789Z"
   },
   {
    "duration": 225,
    "start_time": "2022-07-16T07:24:49.805Z"
   },
   {
    "duration": 4,
    "start_time": "2022-07-16T07:24:50.032Z"
   },
   {
    "duration": 18,
    "start_time": "2022-07-16T07:24:50.037Z"
   },
   {
    "duration": 6,
    "start_time": "2022-07-16T07:24:50.056Z"
   },
   {
    "duration": 8,
    "start_time": "2022-07-16T07:24:50.064Z"
   },
   {
    "duration": 11,
    "start_time": "2022-07-16T07:24:50.073Z"
   },
   {
    "duration": 8,
    "start_time": "2022-07-16T07:24:50.086Z"
   },
   {
    "duration": 6,
    "start_time": "2022-07-16T07:24:50.096Z"
   }
  ],
  "kernelspec": {
   "display_name": "Python 3 (ipykernel)",
   "language": "python",
   "name": "python3"
  },
  "language_info": {
   "codemirror_mode": {
    "name": "ipython",
    "version": 3
   },
   "file_extension": ".py",
   "mimetype": "text/x-python",
   "name": "python",
   "nbconvert_exporter": "python",
   "pygments_lexer": "ipython3",
   "version": "3.9.5"
  },
  "toc": {
   "base_numbering": 1,
   "nav_menu": {},
   "number_sections": true,
   "sideBar": true,
   "skip_h1_title": true,
   "title_cell": "Table of Contents",
   "title_sidebar": "Contents",
   "toc_cell": false,
   "toc_position": {},
   "toc_section_display": true,
   "toc_window_display": false
  }
 },
 "nbformat": 4,
 "nbformat_minor": 2
}
