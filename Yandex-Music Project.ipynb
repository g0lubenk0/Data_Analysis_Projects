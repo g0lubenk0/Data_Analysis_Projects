{
 "cells": [
  {
   "attachments": {},
   "cell_type": "markdown",
   "metadata": {
    "id": "E0vqbgi9ay0H"
   },
   "source": [
    "# Яндекс.Музыка"
   ]
  },
  {
   "attachments": {},
   "cell_type": "markdown",
   "metadata": {
    "id": "VUC88oWjTJw2"
   },
   "source": [
    "Сравнение Москвы и Петербурга окружено мифами. Например:\n",
    " * Москва — мегаполис, подчинённый жёсткому ритму рабочей недели;\n",
    " * Петербург — культурная столица, со своими вкусами.\n",
    "\n",
    "На данных Яндекс.Музыки вы сравните поведение пользователей двух столиц.\n",
    "\n",
    "**Цель исследования** — проверьте три гипотезы:\n",
    "1. Активность пользователей зависит от дня недели. Причём в Москве и Петербурге это проявляется по-разному.\n",
    "2. В понедельник утром в Москве преобладают одни жанры, а в Петербурге — другие. Так же и вечером пятницы преобладают разные жанры — в зависимости от города. \n",
    "3. Москва и Петербург предпочитают разные жанры музыки. В Москве чаще слушают поп-музыку, в Петербурге — русский рэп.\n",
    "\n",
    "**Ход исследования**\n",
    "\n",
    "Данные о поведении пользователей вы получите из файла `yandex_music_project.csv`. О качестве данных ничего не известно. Поэтому перед проверкой гипотез понадобится обзор данных. \n",
    "\n",
    "Вы проверите данные на ошибки и оцените их влияние на исследование. Затем, на этапе предобработки вы поищете возможность исправить самые критичные ошибки данных.\n",
    " \n",
    "Таким образом, исследование пройдёт в три этапа:\n",
    " 1. Обзор данных.\n",
    " 2. Предобработка данных.\n",
    " 3. Проверка гипотез.\n",
    "\n"
   ]
  },
  {
   "attachments": {},
   "cell_type": "markdown",
   "metadata": {
    "id": "Ml1hmfXC_Zcs"
   },
   "source": [
    "## Обзор данных\n",
    "\n",
    "Составьте первое представление о данных Яндекс.Музыки.\n",
    "\n",
    "\n"
   ]
  },
  {
   "attachments": {},
   "cell_type": "markdown",
   "metadata": {
    "id": "57eAOGIz_Zcs"
   },
   "source": [
    "Основной инструмент аналитика — `pandas`. Импортируйте эту библиотеку."
   ]
  },
  {
   "cell_type": "code",
   "execution_count": 98,
   "metadata": {
    "id": "AXN7PHPN_Zcs"
   },
   "outputs": [],
   "source": [
    "import pandas as pd"
   ]
  },
  {
   "attachments": {},
   "cell_type": "markdown",
   "metadata": {
    "id": "SG23P8tt_Zcs"
   },
   "source": [
    "Прочитайте файл `yandex_music_project.csv` из папки `/datasets` и сохраните его в переменной `df`:"
   ]
  },
  {
   "cell_type": "code",
   "execution_count": 99,
   "metadata": {
    "id": "fFVu7vqh_Zct"
   },
   "outputs": [],
   "source": [
    "df = pd.read_csv('/datasets/yandex_music_project.csv')\n",
    "df.to_csv('yandex_music_project.csv', index=False) "
   ]
  },
  {
   "attachments": {},
   "cell_type": "markdown",
   "metadata": {
    "id": "rDoOMd3uTqnZ"
   },
   "source": [
    "Выведите на экран первые десять строк таблицы:"
   ]
  },
  {
   "cell_type": "code",
   "execution_count": 100,
   "metadata": {
    "id": "oWTVX3gW_Zct"
   },
   "outputs": [
    {
     "data": {
      "text/html": [
       "<div>\n",
       "<style scoped>\n",
       "    .dataframe tbody tr th:only-of-type {\n",
       "        vertical-align: middle;\n",
       "    }\n",
       "\n",
       "    .dataframe tbody tr th {\n",
       "        vertical-align: top;\n",
       "    }\n",
       "\n",
       "    .dataframe thead th {\n",
       "        text-align: right;\n",
       "    }\n",
       "</style>\n",
       "<table border=\"1\" class=\"dataframe\">\n",
       "  <thead>\n",
       "    <tr style=\"text-align: right;\">\n",
       "      <th></th>\n",
       "      <th>userID</th>\n",
       "      <th>Track</th>\n",
       "      <th>artist</th>\n",
       "      <th>genre</th>\n",
       "      <th>City</th>\n",
       "      <th>time</th>\n",
       "      <th>Day</th>\n",
       "    </tr>\n",
       "  </thead>\n",
       "  <tbody>\n",
       "    <tr>\n",
       "      <td>0</td>\n",
       "      <td>FFB692EC</td>\n",
       "      <td>Kamigata To Boots</td>\n",
       "      <td>The Mass Missile</td>\n",
       "      <td>rock</td>\n",
       "      <td>Saint-Petersburg</td>\n",
       "      <td>20:28:33</td>\n",
       "      <td>Wednesday</td>\n",
       "    </tr>\n",
       "    <tr>\n",
       "      <td>1</td>\n",
       "      <td>55204538</td>\n",
       "      <td>Delayed Because of Accident</td>\n",
       "      <td>Andreas Rönnberg</td>\n",
       "      <td>rock</td>\n",
       "      <td>Moscow</td>\n",
       "      <td>14:07:09</td>\n",
       "      <td>Friday</td>\n",
       "    </tr>\n",
       "    <tr>\n",
       "      <td>2</td>\n",
       "      <td>20EC38</td>\n",
       "      <td>Funiculì funiculà</td>\n",
       "      <td>Mario Lanza</td>\n",
       "      <td>pop</td>\n",
       "      <td>Saint-Petersburg</td>\n",
       "      <td>20:58:07</td>\n",
       "      <td>Wednesday</td>\n",
       "    </tr>\n",
       "    <tr>\n",
       "      <td>3</td>\n",
       "      <td>A3DD03C9</td>\n",
       "      <td>Dragons in the Sunset</td>\n",
       "      <td>Fire + Ice</td>\n",
       "      <td>folk</td>\n",
       "      <td>Saint-Petersburg</td>\n",
       "      <td>08:37:09</td>\n",
       "      <td>Monday</td>\n",
       "    </tr>\n",
       "    <tr>\n",
       "      <td>4</td>\n",
       "      <td>E2DC1FAE</td>\n",
       "      <td>Soul People</td>\n",
       "      <td>Space Echo</td>\n",
       "      <td>dance</td>\n",
       "      <td>Moscow</td>\n",
       "      <td>08:34:34</td>\n",
       "      <td>Monday</td>\n",
       "    </tr>\n",
       "    <tr>\n",
       "      <td>5</td>\n",
       "      <td>842029A1</td>\n",
       "      <td>Преданная</td>\n",
       "      <td>IMPERVTOR</td>\n",
       "      <td>rusrap</td>\n",
       "      <td>Saint-Petersburg</td>\n",
       "      <td>13:09:41</td>\n",
       "      <td>Friday</td>\n",
       "    </tr>\n",
       "    <tr>\n",
       "      <td>6</td>\n",
       "      <td>4CB90AA5</td>\n",
       "      <td>True</td>\n",
       "      <td>Roman Messer</td>\n",
       "      <td>dance</td>\n",
       "      <td>Moscow</td>\n",
       "      <td>13:00:07</td>\n",
       "      <td>Wednesday</td>\n",
       "    </tr>\n",
       "    <tr>\n",
       "      <td>7</td>\n",
       "      <td>F03E1C1F</td>\n",
       "      <td>Feeling This Way</td>\n",
       "      <td>Polina Griffith</td>\n",
       "      <td>dance</td>\n",
       "      <td>Moscow</td>\n",
       "      <td>20:47:49</td>\n",
       "      <td>Wednesday</td>\n",
       "    </tr>\n",
       "    <tr>\n",
       "      <td>8</td>\n",
       "      <td>8FA1D3BE</td>\n",
       "      <td>И вновь продолжается бой</td>\n",
       "      <td>NaN</td>\n",
       "      <td>ruspop</td>\n",
       "      <td>Moscow</td>\n",
       "      <td>09:17:40</td>\n",
       "      <td>Friday</td>\n",
       "    </tr>\n",
       "    <tr>\n",
       "      <td>9</td>\n",
       "      <td>E772D5C0</td>\n",
       "      <td>Pessimist</td>\n",
       "      <td>NaN</td>\n",
       "      <td>dance</td>\n",
       "      <td>Saint-Petersburg</td>\n",
       "      <td>21:20:49</td>\n",
       "      <td>Wednesday</td>\n",
       "    </tr>\n",
       "  </tbody>\n",
       "</table>\n",
       "</div>"
      ],
      "text/plain": [
       "     userID                        Track            artist   genre  \\\n",
       "0  FFB692EC            Kamigata To Boots  The Mass Missile    rock   \n",
       "1  55204538  Delayed Because of Accident  Andreas Rönnberg    rock   \n",
       "2    20EC38            Funiculì funiculà       Mario Lanza     pop   \n",
       "3  A3DD03C9        Dragons in the Sunset        Fire + Ice    folk   \n",
       "4  E2DC1FAE                  Soul People        Space Echo   dance   \n",
       "5  842029A1                    Преданная         IMPERVTOR  rusrap   \n",
       "6  4CB90AA5                         True      Roman Messer   dance   \n",
       "7  F03E1C1F             Feeling This Way   Polina Griffith   dance   \n",
       "8  8FA1D3BE     И вновь продолжается бой               NaN  ruspop   \n",
       "9  E772D5C0                    Pessimist               NaN   dance   \n",
       "\n",
       "             City        time        Day  \n",
       "0  Saint-Petersburg  20:28:33  Wednesday  \n",
       "1            Moscow  14:07:09     Friday  \n",
       "2  Saint-Petersburg  20:58:07  Wednesday  \n",
       "3  Saint-Petersburg  08:37:09     Monday  \n",
       "4            Moscow  08:34:34     Monday  \n",
       "5  Saint-Petersburg  13:09:41     Friday  \n",
       "6            Moscow  13:00:07  Wednesday  \n",
       "7            Moscow  20:47:49  Wednesday  \n",
       "8            Moscow  09:17:40     Friday  \n",
       "9  Saint-Petersburg  21:20:49  Wednesday  "
      ]
     },
     "metadata": {},
     "output_type": "display_data"
    }
   ],
   "source": [
    "display(df.head(10))"
   ]
  },
  {
   "attachments": {},
   "cell_type": "markdown",
   "metadata": {
    "id": "EO73Kwic_Zct"
   },
   "source": [
    "Одной командой получить общую информацию о таблице:"
   ]
  },
  {
   "cell_type": "code",
   "execution_count": 101,
   "metadata": {
    "id": "DSf2kIb-_Zct"
   },
   "outputs": [
    {
     "name": "stdout",
     "output_type": "stream",
     "text": [
      "<class 'pandas.core.frame.DataFrame'>\n",
      "RangeIndex: 65079 entries, 0 to 65078\n",
      "Data columns (total 7 columns):\n",
      "  userID    65079 non-null object\n",
      "Track       63848 non-null object\n",
      "artist      57876 non-null object\n",
      "genre       63881 non-null object\n",
      "  City      65079 non-null object\n",
      "time        65079 non-null object\n",
      "Day         65079 non-null object\n",
      "dtypes: object(7)\n",
      "memory usage: 3.5+ MB\n"
     ]
    }
   ],
   "source": [
    "df.info()"
   ]
  },
  {
   "attachments": {},
   "cell_type": "markdown",
   "metadata": {
    "id": "TaQ2Iwbr_Zct"
   },
   "source": [
    "Итак, в таблице семь столбцов. Тип данных во всех столбцах — `object`.\n",
    "\n",
    "Согласно документации к данным:\n",
    "* `userID` — идентификатор пользователя;\n",
    "* `Track` — название трека;  \n",
    "* `artist` — имя исполнителя;\n",
    "* `genre` — название жанра;\n",
    "* `City` — город пользователя;\n",
    "* `time` — время начала прослушивания;\n",
    "* `Day` — день недели.\n",
    "\n",
    "В названиях колонок видны три нарушения стиля:\n",
    "1. Строчные буквы сочетаются с прописными.\n",
    "2. Встречаются пробелы.\n",
    "3. Используется camelcase в userID(нужно user_id)\n",
    "\n",
    "\n",
    "\n",
    "Количество значений в столбцах различается. Значит, в данных есть пропущенные значения.\n"
   ]
  },
  {
   "attachments": {},
   "cell_type": "markdown",
   "metadata": {
    "id": "MCB6-dXG_Zct"
   },
   "source": [
    "**Выводы**\n",
    "\n",
    "В каждой строке таблицы — данные о прослушанном треке. Часть колонок описывает саму композицию: название, исполнителя и жанр. Остальные данные рассказывают о пользователе: из какого он города, когда он слушал музыку. \n",
    "\n",
    "Предварительно можно утверждать, что, данных достаточно для проверки гипотез. Но встречаются пропуски в данных, а в названиях колонок — расхождения с хорошим стилем.\n",
    "\n",
    "Чтобы двигаться дальше, нужно устранить проблемы в данных."
   ]
  },
  {
   "attachments": {},
   "cell_type": "markdown",
   "metadata": {
    "id": "SjYF6Ub9_Zct"
   },
   "source": [
    "## Предобработка данных\n",
    "Исправьте стиль в заголовках столбцов, исключите пропуски. Затем проверьте данные на дубликаты."
   ]
  },
  {
   "attachments": {},
   "cell_type": "markdown",
   "metadata": {
    "id": "dIaKXr29_Zct"
   },
   "source": [
    "### Стиль заголовков\n",
    "Выведите на экран названия столбцов:"
   ]
  },
  {
   "cell_type": "code",
   "execution_count": 102,
   "metadata": {
    "id": "oKOTdF_Q_Zct"
   },
   "outputs": [
    {
     "name": "stdout",
     "output_type": "stream",
     "text": [
      "Index(['  userID', 'Track', 'artist', 'genre', '  City  ', 'time', 'Day'], dtype='object')\n"
     ]
    }
   ],
   "source": [
    "print(df.columns)"
   ]
  },
  {
   "attachments": {},
   "cell_type": "markdown",
   "metadata": {
    "id": "zj5534cv_Zct"
   },
   "source": [
    "Приведите названия в соответствие с хорошим стилем:\n",
    "* несколько слов в названии запишите в «змеином_регистре»,\n",
    "* все символы сделайте строчными,\n",
    "* устраните пробелы.\n",
    "\n",
    "Для этого переименуйте колонки так:\n",
    "* `'  userID'` → `'user_id'`;\n",
    "* `'Track'` → `'track'`;\n",
    "* `'  City  '` → `'city'`;\n",
    "* `'Day'` → `'day'`."
   ]
  },
  {
   "cell_type": "code",
   "execution_count": 103,
   "metadata": {
    "id": "ISlFqs5y_Zct"
   },
   "outputs": [],
   "source": [
    "df = df.rename(columns = {'  userID':'user_id','Track':'track','  City  ':'city', 'Day':'day'})"
   ]
  },
  {
   "attachments": {},
   "cell_type": "markdown",
   "metadata": {
    "id": "1dqbh00J_Zct"
   },
   "source": [
    "Проверьте результат. Для этого ещё раз выведите на экран названия столбцов:"
   ]
  },
  {
   "cell_type": "code",
   "execution_count": 104,
   "metadata": {
    "id": "d4NOAmTW_Zct"
   },
   "outputs": [
    {
     "name": "stdout",
     "output_type": "stream",
     "text": [
      "Index(['user_id', 'track', 'artist', 'genre', 'city', 'time', 'day'], dtype='object')\n"
     ]
    }
   ],
   "source": [
    "print(df.columns)"
   ]
  },
  {
   "attachments": {},
   "cell_type": "markdown",
   "metadata": {
    "id": "5ISfbcfY_Zct"
   },
   "source": [
    "### Пропуски значений\n",
    "Сначала посчитайте, сколько в таблице пропущенных значений. Для этого достаточно двух методов `pandas`:"
   ]
  },
  {
   "cell_type": "code",
   "execution_count": 105,
   "metadata": {
    "id": "RskX29qr_Zct"
   },
   "outputs": [
    {
     "data": {
      "text/plain": [
       "user_id       0\n",
       "track      1231\n",
       "artist     7203\n",
       "genre      1198\n",
       "city          0\n",
       "time          0\n",
       "day           0\n",
       "dtype: int64"
      ]
     },
     "execution_count": 105,
     "metadata": {},
     "output_type": "execute_result"
    }
   ],
   "source": [
    "df.isna().sum()"
   ]
  },
  {
   "attachments": {},
   "cell_type": "markdown",
   "metadata": {
    "id": "qubhgnlO_Zct"
   },
   "source": [
    "Не все пропущенные значения влияют на исследование. Так в `track` и `artist` пропуски не важны для вашей работы. Достаточно заменить их явными обозначениями.\n",
    "\n",
    "Но пропуски в `genre` могут помешать сравнению музыкальных вкусов в Москве и Санкт-Петербурге. На практике было бы правильно установить причину пропусков и восстановить данные. Такой возможности нет в учебном проекте. Придётся:\n",
    "* заполнить и эти пропуски явными обозначениями,\n",
    "* оценить, насколько они повредят расчётам. "
   ]
  },
  {
   "attachments": {},
   "cell_type": "markdown",
   "metadata": {
    "id": "fSv2laPA_Zct"
   },
   "source": [
    "Замените пропущенные значения в столбцах `track`, `artist` и `genre` на строку `'unknown'`. Для этого создайте список `columns_to_replace`, переберите его элементы циклом `for` и для каждого столбца выполните замену пропущенных значений:"
   ]
  },
  {
   "cell_type": "code",
   "execution_count": 106,
   "metadata": {
    "id": "KplB5qWs_Zct"
   },
   "outputs": [],
   "source": [
    "columns_to_replace = ['track', 'artist', 'genre']\n",
    "for column in columns_to_replace:\n",
    "    df[column] = df[column].fillna('unknown')"
   ]
  },
  {
   "attachments": {},
   "cell_type": "markdown",
   "metadata": {
    "id": "Ilsm-MZo_Zct"
   },
   "source": [
    "Убедитесь, что в таблице не осталось пропусков. Для этого ещё раз посчитайте пропущенные значения."
   ]
  },
  {
   "cell_type": "code",
   "execution_count": 107,
   "metadata": {
    "id": "Tq4nYRX4_Zct"
   },
   "outputs": [
    {
     "data": {
      "text/plain": [
       "user_id    0\n",
       "track      0\n",
       "artist     0\n",
       "genre      0\n",
       "city       0\n",
       "time       0\n",
       "day        0\n",
       "dtype: int64"
      ]
     },
     "execution_count": 107,
     "metadata": {},
     "output_type": "execute_result"
    }
   ],
   "source": [
    "df.isna().sum()"
   ]
  },
  {
   "attachments": {},
   "cell_type": "markdown",
   "metadata": {
    "id": "BWKRtBJ3_Zct"
   },
   "source": [
    "### Дубликаты\n",
    "Посчитайте явные дубликаты в таблице одной командой:"
   ]
  },
  {
   "cell_type": "code",
   "execution_count": 108,
   "metadata": {
    "id": "36eES_S0_Zct"
   },
   "outputs": [
    {
     "data": {
      "text/plain": [
       "3826"
      ]
     },
     "execution_count": 108,
     "metadata": {},
     "output_type": "execute_result"
    }
   ],
   "source": [
    "df.duplicated().sum() "
   ]
  },
  {
   "attachments": {},
   "cell_type": "markdown",
   "metadata": {
    "id": "Ot25h6XR_Zct"
   },
   "source": [
    "Вызовите специальный метод `pandas`, чтобы удалить явные дубликаты:"
   ]
  },
  {
   "cell_type": "code",
   "execution_count": 109,
   "metadata": {
    "id": "exFHq6tt_Zct"
   },
   "outputs": [],
   "source": [
    "df = df.drop_duplicates().reset_index(drop=True)"
   ]
  },
  {
   "attachments": {},
   "cell_type": "markdown",
   "metadata": {
    "id": "Im2YwBEG_Zct"
   },
   "source": [
    "Ещё раз посчитайте явные дубликаты в таблице — убедитесь, что полностью от них избавились:"
   ]
  },
  {
   "cell_type": "code",
   "execution_count": 110,
   "metadata": {
    "id": "-8PuNWQ0_Zct"
   },
   "outputs": [
    {
     "data": {
      "text/plain": [
       "0"
      ]
     },
     "execution_count": 110,
     "metadata": {},
     "output_type": "execute_result"
    }
   ],
   "source": [
    "df.duplicated().sum()"
   ]
  },
  {
   "attachments": {},
   "cell_type": "markdown",
   "metadata": {
    "id": "QlFBsxAr_Zct"
   },
   "source": [
    "Теперь избавьтесь от неявных дубликатов в колонке `genre`. Например, название одного и того же жанра может быть записано немного по-разному. Такие ошибки тоже повлияют на результат исследования."
   ]
  },
  {
   "cell_type": "code",
   "execution_count": 111,
   "metadata": {
    "id": "JIUcqzZN_Zct"
   },
   "outputs": [
    {
     "name": "stdout",
     "output_type": "stream",
     "text": [
      "['acid' 'acoustic' 'action' 'adult' 'africa' 'afrikaans' 'alternative'\n",
      " 'alternativepunk' 'ambient' 'americana' 'animated' 'anime' 'arabesk'\n",
      " 'arabic' 'arena' 'argentinetango' 'art' 'audiobook' 'author' 'avantgarde'\n",
      " 'axé' 'baile' 'balkan' 'beats' 'bigroom' 'black' 'bluegrass' 'blues'\n",
      " 'bollywood' 'bossa' 'brazilian' 'breakbeat' 'breaks' 'broadway'\n",
      " 'cantautori' 'cantopop' 'canzone' 'caribbean' 'caucasian' 'celtic'\n",
      " 'chamber' 'chanson' 'children' 'chill' 'chinese' 'choral' 'christian'\n",
      " 'christmas' 'classical' 'classicmetal' 'club' 'colombian' 'comedy'\n",
      " 'conjazz' 'contemporary' 'country' 'cuban' 'dance' 'dancehall' 'dancepop'\n",
      " 'dark' 'death' 'deep' 'deutschrock' 'deutschspr' 'dirty' 'disco' 'dnb'\n",
      " 'documentary' 'downbeat' 'downtempo' 'drum' 'dub' 'dubstep' 'eastern'\n",
      " 'easy' 'electronic' 'electropop' 'emo' 'entehno' 'epicmetal' 'estrada'\n",
      " 'ethnic' 'eurofolk' 'european' 'experimental' 'extrememetal' 'fado'\n",
      " 'fairytail' 'film' 'fitness' 'flamenco' 'folk' 'folklore' 'folkmetal'\n",
      " 'folkrock' 'folktronica' 'forró' 'frankreich' 'französisch' 'french'\n",
      " 'funk' 'future' 'gangsta' 'garage' 'german' 'ghazal' 'gitarre' 'glitch'\n",
      " 'gospel' 'gothic' 'grime' 'grunge' 'gypsy' 'handsup' \"hard'n'heavy\"\n",
      " 'hardcore' 'hardstyle' 'hardtechno' 'hip' 'hip-hop' 'hiphop' 'historisch'\n",
      " 'holiday' 'hop' 'horror' 'house' 'hymn' 'idm' 'independent' 'indian'\n",
      " 'indie' 'indipop' 'industrial' 'inspirational' 'instrumental'\n",
      " 'international' 'irish' 'jam' 'japanese' 'jazz' 'jewish' 'jpop' 'jungle'\n",
      " 'k-pop' 'karadeniz' 'karaoke' 'kayokyoku' 'korean' 'laiko' 'latin'\n",
      " 'latino' 'leftfield' 'local' 'lounge' 'loungeelectronic' 'lovers'\n",
      " 'malaysian' 'mandopop' 'marschmusik' 'meditative' 'mediterranean'\n",
      " 'melodic' 'metal' 'metalcore' 'mexican' 'middle' 'minimal'\n",
      " 'miscellaneous' 'modern' 'mood' 'mpb' 'muslim' 'native' 'neoklassik'\n",
      " 'neue' 'new' 'newage' 'newwave' 'nu' 'nujazz' 'numetal' 'oceania' 'old'\n",
      " 'opera' 'orchestral' 'other' 'piano' 'podcasts' 'pop' 'popdance'\n",
      " 'popelectronic' 'popeurodance' 'poprussian' 'post' 'posthardcore'\n",
      " 'postrock' 'power' 'progmetal' 'progressive' 'psychedelic' 'punjabi'\n",
      " 'punk' 'quebecois' 'ragga' 'ram' 'rancheras' 'rap' 'rave' 'reggae'\n",
      " 'reggaeton' 'regional' 'relax' 'religious' 'retro' 'rhythm' 'rnb' 'rnr'\n",
      " 'rock' 'rockabilly' 'rockalternative' 'rockindie' 'rockother' 'romance'\n",
      " 'roots' 'ruspop' 'rusrap' 'rusrock' 'russian' 'salsa' 'samba' 'scenic'\n",
      " 'schlager' 'self' 'sertanejo' 'shanson' 'shoegazing' 'showtunes' 'singer'\n",
      " 'ska' 'skarock' 'slow' 'smooth' 'soft' 'soul' 'soulful' 'sound'\n",
      " 'soundtrack' 'southern' 'specialty' 'speech' 'spiritual' 'sport'\n",
      " 'stonerrock' 'surf' 'swing' 'synthpop' 'synthrock' 'sängerportrait'\n",
      " 'tango' 'tanzorchester' 'taraftar' 'tatar' 'tech' 'techno' 'teen'\n",
      " 'thrash' 'top' 'traditional' 'tradjazz' 'trance' 'tribal' 'trip'\n",
      " 'triphop' 'tropical' 'türk' 'türkçe' 'ukrrock' 'unknown' 'urban' 'uzbek'\n",
      " 'variété' 'vi' 'videogame' 'vocal' 'western' 'world' 'worldbeat' 'ïîï'\n",
      " 'электроника']\n"
     ]
    }
   ],
   "source": [
    "genres_list = df['genre']\n",
    "genres_list = genres_list.sort_values(ascending = True)\n",
    "print(genres_list.unique())"
   ]
  },
  {
   "attachments": {},
   "cell_type": "markdown",
   "metadata": {
    "id": "qej-Qmuo_Zct"
   },
   "source": [
    "Просмотрите список и найдите неявные дубликаты названия `hiphop`. Это могут быть названия с ошибками или альтернативные названия того же жанра.\n",
    "\n",
    "Вы увидите следующие неявные дубликаты:\n",
    "* *hip*,\n",
    "* *hop*,\n",
    "* *hip-hop*.\n",
    "\n",
    "Чтобы очистить от них таблицу, напишите функцию `replace_wrong_genres()` с двумя параметрами: \n",
    "* `wrong_genres` — список дубликатов,\n",
    "* `correct_genre` — строка с правильным значением.\n",
    "\n",
    "Функция должна исправить колонку `genre` в таблице `df`: заменить каждое значение из списка `wrong_genres` на значение из `correct_genre`."
   ]
  },
  {
   "cell_type": "code",
   "execution_count": 112,
   "metadata": {
    "id": "ErNDkmns_Zct"
   },
   "outputs": [],
   "source": [
    "def replace_wrong_genres(wrong_genres, correct_genre):\n",
    "    for wrong_genre in wrong_genres:\n",
    "        df['genre'] = df['genre'].replace(wrong_genre, correct_genre)"
   ]
  },
  {
   "attachments": {},
   "cell_type": "markdown",
   "metadata": {
    "id": "aDoBJxbA_Zct"
   },
   "source": [
    "Вызовите `replace_wrong_genres()` и передайте ей такие аргументы, чтобы она устранила неявные дубликаты: вместо `hip`, `hop` и `hip-hop` в таблице должно быть значение `hiphop`:"
   ]
  },
  {
   "cell_type": "code",
   "execution_count": 113,
   "metadata": {
    "id": "YN5i2hpmSo09"
   },
   "outputs": [],
   "source": [
    "wrong = ['hip', 'hop', 'hip-hop']\n",
    "correct = 'hiphop'\n",
    "replace_wrong_genres(wrong, correct)"
   ]
  },
  {
   "attachments": {},
   "cell_type": "markdown",
   "metadata": {
    "id": "zQKF16_RG15m"
   },
   "source": [
    "Проверьте, что заменили неправильные названия:\n",
    "\n",
    "*   hip\n",
    "*   hop\n",
    "*   hip-hop\n",
    "\n",
    "Выведите отсортированный список уникальных значений столбца `genre`:"
   ]
  },
  {
   "cell_type": "code",
   "execution_count": 114,
   "metadata": {
    "id": "wvixALnFG15m"
   },
   "outputs": [
    {
     "name": "stdout",
     "output_type": "stream",
     "text": [
      "['acid' 'acoustic' 'action' 'adult' 'africa' 'afrikaans' 'alternative'\n",
      " 'alternativepunk' 'ambient' 'americana' 'animated' 'anime' 'arabesk'\n",
      " 'arabic' 'arena' 'argentinetango' 'art' 'audiobook' 'author' 'avantgarde'\n",
      " 'axé' 'baile' 'balkan' 'beats' 'bigroom' 'black' 'bluegrass' 'blues'\n",
      " 'bollywood' 'bossa' 'brazilian' 'breakbeat' 'breaks' 'broadway'\n",
      " 'cantautori' 'cantopop' 'canzone' 'caribbean' 'caucasian' 'celtic'\n",
      " 'chamber' 'chanson' 'children' 'chill' 'chinese' 'choral' 'christian'\n",
      " 'christmas' 'classical' 'classicmetal' 'club' 'colombian' 'comedy'\n",
      " 'conjazz' 'contemporary' 'country' 'cuban' 'dance' 'dancehall' 'dancepop'\n",
      " 'dark' 'death' 'deep' 'deutschrock' 'deutschspr' 'dirty' 'disco' 'dnb'\n",
      " 'documentary' 'downbeat' 'downtempo' 'drum' 'dub' 'dubstep' 'eastern'\n",
      " 'easy' 'electronic' 'electropop' 'emo' 'entehno' 'epicmetal' 'estrada'\n",
      " 'ethnic' 'eurofolk' 'european' 'experimental' 'extrememetal' 'fado'\n",
      " 'fairytail' 'film' 'fitness' 'flamenco' 'folk' 'folklore' 'folkmetal'\n",
      " 'folkrock' 'folktronica' 'forró' 'frankreich' 'französisch' 'french'\n",
      " 'funk' 'future' 'gangsta' 'garage' 'german' 'ghazal' 'gitarre' 'glitch'\n",
      " 'gospel' 'gothic' 'grime' 'grunge' 'gypsy' 'handsup' \"hard'n'heavy\"\n",
      " 'hardcore' 'hardstyle' 'hardtechno' 'hiphop' 'historisch' 'holiday'\n",
      " 'horror' 'house' 'hymn' 'idm' 'independent' 'indian' 'indie' 'indipop'\n",
      " 'industrial' 'inspirational' 'instrumental' 'international' 'irish' 'jam'\n",
      " 'japanese' 'jazz' 'jewish' 'jpop' 'jungle' 'k-pop' 'karadeniz' 'karaoke'\n",
      " 'kayokyoku' 'korean' 'laiko' 'latin' 'latino' 'leftfield' 'local'\n",
      " 'lounge' 'loungeelectronic' 'lovers' 'malaysian' 'mandopop' 'marschmusik'\n",
      " 'meditative' 'mediterranean' 'melodic' 'metal' 'metalcore' 'mexican'\n",
      " 'middle' 'minimal' 'miscellaneous' 'modern' 'mood' 'mpb' 'muslim'\n",
      " 'native' 'neoklassik' 'neue' 'new' 'newage' 'newwave' 'nu' 'nujazz'\n",
      " 'numetal' 'oceania' 'old' 'opera' 'orchestral' 'other' 'piano' 'podcasts'\n",
      " 'pop' 'popdance' 'popelectronic' 'popeurodance' 'poprussian' 'post'\n",
      " 'posthardcore' 'postrock' 'power' 'progmetal' 'progressive' 'psychedelic'\n",
      " 'punjabi' 'punk' 'quebecois' 'ragga' 'ram' 'rancheras' 'rap' 'rave'\n",
      " 'reggae' 'reggaeton' 'regional' 'relax' 'religious' 'retro' 'rhythm'\n",
      " 'rnb' 'rnr' 'rock' 'rockabilly' 'rockalternative' 'rockindie' 'rockother'\n",
      " 'romance' 'roots' 'ruspop' 'rusrap' 'rusrock' 'russian' 'salsa' 'samba'\n",
      " 'scenic' 'schlager' 'self' 'sertanejo' 'shanson' 'shoegazing' 'showtunes'\n",
      " 'singer' 'ska' 'skarock' 'slow' 'smooth' 'soft' 'soul' 'soulful' 'sound'\n",
      " 'soundtrack' 'southern' 'specialty' 'speech' 'spiritual' 'sport'\n",
      " 'stonerrock' 'surf' 'swing' 'synthpop' 'synthrock' 'sängerportrait'\n",
      " 'tango' 'tanzorchester' 'taraftar' 'tatar' 'tech' 'techno' 'teen'\n",
      " 'thrash' 'top' 'traditional' 'tradjazz' 'trance' 'tribal' 'trip'\n",
      " 'triphop' 'tropical' 'türk' 'türkçe' 'ukrrock' 'unknown' 'urban' 'uzbek'\n",
      " 'variété' 'vi' 'videogame' 'vocal' 'western' 'world' 'worldbeat' 'ïîï'\n",
      " 'электроника']\n"
     ]
    }
   ],
   "source": [
    "print(df['genre'].sort_values(ascending = True).unique())"
   ]
  },
  {
   "attachments": {},
   "cell_type": "markdown",
   "metadata": {
    "id": "jz6a9-7HQUDd"
   },
   "source": [
    "**Выводы**\n",
    "\n",
    "Предобработка обнаружила три проблемы в данных:\n",
    "\n",
    "- нарушения в стиле заголовков,\n",
    "- пропущенные значения,\n",
    "- дубликаты — явные и неявные.\n",
    "\n",
    "Вы исправили заголовки, чтобы упростить работу с таблицей. Без дубликатов исследование станет более точным.\n",
    "\n",
    "Пропущенные значения вы заменили на `'unknown'`. Ещё предстоит увидеть, не повредят ли исследованию пропуски в колонке `genre`.\n",
    "\n",
    "Теперь можно перейти к проверке гипотез. "
   ]
  },
  {
   "attachments": {},
   "cell_type": "markdown",
   "metadata": {
    "id": "WttZHXH0SqKk"
   },
   "source": [
    "## Проверка гипотез"
   ]
  },
  {
   "attachments": {},
   "cell_type": "markdown",
   "metadata": {
    "id": "Im936VVi_Zcu"
   },
   "source": [
    "### Сравнение поведения пользователей двух столиц"
   ]
  },
  {
   "attachments": {},
   "cell_type": "markdown",
   "metadata": {
    "id": "nwt_MuaL_Zcu"
   },
   "source": [
    "Первая гипотеза утверждает, что пользователи по-разному слушают музыку в Москве и Санкт-Петербурге. Проверьте это предположение по данным о трёх днях недели — понедельнике, среде и пятнице. Для этого:\n",
    "\n",
    "* Разделите пользователей Москвы и Санкт-Петербурга\n",
    "* Сравните, сколько треков послушала каждая группа пользователей в понедельник, среду и пятницу.\n"
   ]
  },
  {
   "attachments": {},
   "cell_type": "markdown",
   "metadata": {
    "id": "8Dw_YMmT_Zcu"
   },
   "source": [
    "Для тренировки сначала выполните каждый из расчётов по отдельности. \n",
    "\n",
    "Оцените активность пользователей в каждом городе. Сгруппируйте данные по городу и посчитайте прослушивания в каждой группе.\n",
    "\n"
   ]
  },
  {
   "cell_type": "code",
   "execution_count": 115,
   "metadata": {
    "id": "0_Qs96oh_Zcu"
   },
   "outputs": [
    {
     "data": {
      "text/plain": [
       "city\n",
       "Moscow              42741\n",
       "Saint-Petersburg    18512\n",
       "Name: genre, dtype: int64"
      ]
     },
     "execution_count": 115,
     "metadata": {},
     "output_type": "execute_result"
    }
   ],
   "source": [
    "df.groupby('city')['genre'].count()"
   ]
  },
  {
   "attachments": {},
   "cell_type": "markdown",
   "metadata": {
    "id": "dzli3w8o_Zcu"
   },
   "source": [
    "В Москве прослушиваний больше, чем в Петербурге. Из этого не следует, что московские пользователи чаще слушают музыку. Просто самих пользователей в Москве больше.\n",
    "\n",
    "Теперь сгруппируйте данные по дню недели и подсчитайте прослушивания в понедельник, среду и пятницу. Учтите, что в данных есть информация только о прослушиваниях только за эти дни.\n"
   ]
  },
  {
   "cell_type": "code",
   "execution_count": 116,
   "metadata": {
    "id": "uZMKjiJz_Zcu"
   },
   "outputs": [
    {
     "data": {
      "text/plain": [
       "day\n",
       "Friday       21840\n",
       "Monday       21354\n",
       "Wednesday    18059\n",
       "Name: genre, dtype: int64"
      ]
     },
     "execution_count": 116,
     "metadata": {},
     "output_type": "execute_result"
    }
   ],
   "source": [
    "df.groupby('day')['genre'].count()"
   ]
  },
  {
   "attachments": {},
   "cell_type": "markdown",
   "metadata": {
    "id": "cC2tNrlL_Zcu"
   },
   "source": [
    "В среднем пользователи из двух городов менее активны по средам. Но картина может измениться, если рассмотреть каждый город в отдельности."
   ]
  },
  {
   "attachments": {},
   "cell_type": "markdown",
   "metadata": {
    "id": "POzs8bGa_Zcu"
   },
   "source": [
    "Вы видели, как работает группировка по городу и по дням недели. Теперь напишите функцию, которая объединит два эти расчёта.\n",
    "\n",
    "Создайте функцию `number_tracks()`, которая посчитает прослушивания для заданного дня и города. Ей понадобятся два параметра:\n",
    "* день недели,\n",
    "* название города.\n",
    "\n",
    "В функции сохраните в переменную строки исходной таблицы, у которых значение:\n",
    "  * в колонке `day` равно параметру `day`,\n",
    "  * в колонке `city` равно параметру `city`.\n",
    "\n",
    "Для этого примените последовательную фильтрацию с логической индексацией.\n",
    "\n",
    "Затем посчитайте значения в столбце `user_id` получившейся таблицы. Результат сохраните в новую переменную. Верните эту переменную из функции."
   ]
  },
  {
   "cell_type": "code",
   "execution_count": 117,
   "metadata": {
    "id": "Nz3GdQB1_Zcu"
   },
   "outputs": [],
   "source": [
    "def number_tracks(day, city):\n",
    "    track_list = df[(df['day'] == day) & (df['city'] == city)]\n",
    "# В переменной track_list сохраняются те строки таблицы df, для которых \n",
    "# значение в столбце 'day' равно параметру day и одновременно значение\n",
    "# в столбце 'city' равно параметру city (используйте последовательную фильтрацию\n",
    "# с помощью логической индексации).\n",
    "    track_list_count = track_list['user_id'].count()\n",
    "# В переменной track_list_count сохраняется число значений столбца 'user_id',\n",
    "# рассчитанное методом count() для таблицы track_list.\n",
    "# Функция возвращает число - значение track_list_count.\n",
    "    return track_list_count\n",
    "# Функция для подсчёта прослушиваний для конкретного города и дня.\n",
    "# С помощью последовательной фильтрации с логической индексацией она \n",
    "# сначала получит из исходной таблицы строки с нужным днём,\n",
    "# затем из результата отфильтрует строки с нужным городом,\n",
    "# методом count() посчитает количество значений в колонке user_id. \n",
    "# Это количество функция вернёт в качестве результата"
   ]
  },
  {
   "attachments": {},
   "cell_type": "markdown",
   "metadata": {
    "id": "ytf7xFrFJQ2r"
   },
   "source": [
    "Вызовите `number_tracks()` шесть раз, меняя значение параметров — так, чтобы получить данные для каждого города в каждый из трёх дней."
   ]
  },
  {
   "cell_type": "code",
   "execution_count": 118,
   "metadata": {
    "id": "rJcRATNQ_Zcu"
   },
   "outputs": [
    {
     "data": {
      "text/plain": [
       "15740"
      ]
     },
     "execution_count": 118,
     "metadata": {},
     "output_type": "execute_result"
    }
   ],
   "source": [
    "number_tracks('Monday', 'Moscow')"
   ]
  },
  {
   "cell_type": "code",
   "execution_count": 119,
   "metadata": {
    "id": "hq_ncZ5T_Zcu"
   },
   "outputs": [
    {
     "data": {
      "text/plain": [
       "5614"
      ]
     },
     "execution_count": 119,
     "metadata": {},
     "output_type": "execute_result"
    }
   ],
   "source": [
    "number_tracks('Monday', 'Saint-Petersburg')"
   ]
  },
  {
   "cell_type": "code",
   "execution_count": 120,
   "metadata": {
    "id": "_NTy2VPU_Zcu"
   },
   "outputs": [
    {
     "data": {
      "text/plain": [
       "11056"
      ]
     },
     "execution_count": 120,
     "metadata": {},
     "output_type": "execute_result"
    }
   ],
   "source": [
    "number_tracks('Wednesday', 'Moscow')"
   ]
  },
  {
   "cell_type": "code",
   "execution_count": 121,
   "metadata": {
    "id": "j2y3TAwo_Zcu"
   },
   "outputs": [
    {
     "data": {
      "text/plain": [
       "7003"
      ]
     },
     "execution_count": 121,
     "metadata": {},
     "output_type": "execute_result"
    }
   ],
   "source": [
    "number_tracks('Wednesday', 'Saint-Petersburg')"
   ]
  },
  {
   "cell_type": "code",
   "execution_count": 122,
   "metadata": {
    "id": "vYDw5u_K_Zcu"
   },
   "outputs": [
    {
     "data": {
      "text/plain": [
       "15945"
      ]
     },
     "execution_count": 122,
     "metadata": {},
     "output_type": "execute_result"
    }
   ],
   "source": [
    "number_tracks('Friday', 'Moscow')"
   ]
  },
  {
   "cell_type": "code",
   "execution_count": 123,
   "metadata": {
    "id": "8_yzFtW3_Zcu"
   },
   "outputs": [
    {
     "data": {
      "text/plain": [
       "5895"
      ]
     },
     "execution_count": 123,
     "metadata": {},
     "output_type": "execute_result"
    }
   ],
   "source": [
    "number_tracks('Friday', 'Saint-Petersburg')"
   ]
  },
  {
   "attachments": {},
   "cell_type": "markdown",
   "metadata": {
    "id": "7QXffbO-_Zcu"
   },
   "source": [
    "Создайте c помощью конструктора `pd.DataFrame` таблицу, где\n",
    "* названия колонок — `['city', 'monday', 'wednesday', 'friday']`;\n",
    "* данные — результаты, которые вы получили с помощью `number_tracks`."
   ]
  },
  {
   "cell_type": "code",
   "execution_count": 124,
   "metadata": {
    "id": "APAcLpOr_Zcu"
   },
   "outputs": [
    {
     "data": {
      "text/html": [
       "<div>\n",
       "<style scoped>\n",
       "    .dataframe tbody tr th:only-of-type {\n",
       "        vertical-align: middle;\n",
       "    }\n",
       "\n",
       "    .dataframe tbody tr th {\n",
       "        vertical-align: top;\n",
       "    }\n",
       "\n",
       "    .dataframe thead th {\n",
       "        text-align: right;\n",
       "    }\n",
       "</style>\n",
       "<table border=\"1\" class=\"dataframe\">\n",
       "  <thead>\n",
       "    <tr style=\"text-align: right;\">\n",
       "      <th></th>\n",
       "      <th>city</th>\n",
       "      <th>monday</th>\n",
       "      <th>wednesday</th>\n",
       "      <th>friday</th>\n",
       "    </tr>\n",
       "  </thead>\n",
       "  <tbody>\n",
       "    <tr>\n",
       "      <td>0</td>\n",
       "      <td>Moscow</td>\n",
       "      <td>15740</td>\n",
       "      <td>11056</td>\n",
       "      <td>15945</td>\n",
       "    </tr>\n",
       "    <tr>\n",
       "      <td>1</td>\n",
       "      <td>Saint-Petersburg</td>\n",
       "      <td>5614</td>\n",
       "      <td>7003</td>\n",
       "      <td>5895</td>\n",
       "    </tr>\n",
       "  </tbody>\n",
       "</table>\n",
       "</div>"
      ],
      "text/plain": [
       "               city  monday  wednesday  friday\n",
       "0            Moscow   15740      11056   15945\n",
       "1  Saint-Petersburg    5614       7003    5895"
      ]
     },
     "execution_count": 124,
     "metadata": {},
     "output_type": "execute_result"
    }
   ],
   "source": [
    "data = [['Moscow', 15740, 11056, 15945],\n",
    "       ['Saint-Petersburg', 5614, 7003, 5895]]\n",
    "\n",
    "columns = ['city','monday','wednesday','friday']\n",
    "\n",
    "table = pd.DataFrame(data = data, columns = columns)\n",
    "\n",
    "table"
   ]
  },
  {
   "attachments": {},
   "cell_type": "markdown",
   "metadata": {
    "id": "-EgPIHYu_Zcu"
   },
   "source": [
    "**Выводы**\n",
    "\n",
    "Данные показывают разницу поведения пользователей:\n",
    "\n",
    "- В Москве пик прослушиваний приходится на понедельник и пятницу, а в среду заметен спад.\n",
    "- В Петербурге, наоборот, больше слушают музыку по средам. Активность в понедельник и пятницу здесь почти в равной мере уступает среде.\n",
    "\n",
    "Значит, данные говорят в пользу первой гипотезы."
   ]
  },
  {
   "attachments": {},
   "cell_type": "markdown",
   "metadata": {
    "id": "atZAxtq4_Zcu"
   },
   "source": [
    "### Музыка в начале и в конце недели"
   ]
  },
  {
   "attachments": {},
   "cell_type": "markdown",
   "metadata": {
    "id": "eXrQqXFH_Zcu"
   },
   "source": [
    "Согласно второй гипотезе, утром в понедельник в Москве преобладают одни жанры, а в Петербурге — другие. Так же и вечером пятницы преобладают разные жанры — в зависимости от города."
   ]
  },
  {
   "attachments": {},
   "cell_type": "markdown",
   "metadata": {
    "id": "S8UcW6Hw_Zcu"
   },
   "source": [
    "Сохраните таблицы с данными в две переменные:\n",
    "* по Москве — в `moscow_general`;\n",
    "* по Санкт-Петербургу — в `spb_general`."
   ]
  },
  {
   "cell_type": "code",
   "execution_count": 125,
   "metadata": {
    "id": "qeaFfM_P_Zcu"
   },
   "outputs": [],
   "source": [
    "# получение таблицы moscow_general из тех строк таблицы df, \n",
    "# для которых значение в столбце 'city' равно 'Moscow'\n",
    "moscow_general = df[df['city'] == 'Moscow']\n"
   ]
  },
  {
   "cell_type": "code",
   "execution_count": 126,
   "metadata": {
    "id": "ORaVRKto_Zcu"
   },
   "outputs": [],
   "source": [
    "# получение таблицы spb_general из тех строк таблицы df,\n",
    "# для которых значение в столбце 'city' равно 'Saint-Petersburg'\n",
    "spb_general = df[df['city'] == 'Saint-Petersburg']\n"
   ]
  },
  {
   "attachments": {},
   "cell_type": "markdown",
   "metadata": {
    "id": "MEJV-CX2_Zcu"
   },
   "source": [
    "Создайте функцию `genre_weekday()` с четырьмя параметрами:\n",
    "* таблица (датафрейм) с данными,\n",
    "* день недели,\n",
    "* начальная временная метка в формате 'hh:mm', \n",
    "* последняя временная метка в формате 'hh:mm'.\n",
    "\n",
    "Функция должна вернуть информацию о топ-10 жанров тех треков, которые прослушивали в указанный день, в промежутке между двумя отметками времени."
   ]
  },
  {
   "cell_type": "code",
   "execution_count": 127,
   "metadata": {
    "id": "laJT9BYl_Zcu"
   },
   "outputs": [],
   "source": [
    "# Объявление функции genre_weekday() с параметрами table, day, time1, time2,\n",
    "# которая возвращает информацию о самых популярных жанрах в указанный день в\n",
    "# заданное время:\n",
    "def genre_weekday(table, day, time1, time2):\n",
    "    genre_df = table[(table['day'] == day) & (table['time'] > time1) & (table['time'] < time2)]\n",
    "    genre_df_count = genre_df.groupby('genre')['genre'].count()\n",
    "    return genre_df_count.sort_values(ascending = False).head(10)\n",
    "# 1) в переменную genre_df сохраняются те строки переданного датафрейма table, для\n",
    "#    которых одновременно:\n",
    "#    - значение в столбце day равно значению аргумента day\n",
    "#    - значение в столбце time больше значения аргумента time1\n",
    "#    - значение в столбце time меньше значения аргумента time2\n",
    "#    Используйте последовательную фильтрацию с помощью логической индексации.\n",
    "# 2) сгруппировать датафрейм genre_df по столбцу genre, взять один из его\n",
    "#    столбцов и посчитать методом count() количество записей для каждого из\n",
    "#    присутствующих жанров, получившийся Series записать в переменную\n",
    "#    genre_df_count\n",
    "# 3) отсортировать genre_df_count по убыванию встречаемости и сохранить\n",
    "#    в переменную genre_df_sorted\n",
    "# 4) вернуть Series из 10 первых значений genre_df_sorted, это будут топ-10\n",
    "#    популярных жанров (в указанный день, в заданное время)"
   ]
  },
  {
   "attachments": {},
   "cell_type": "markdown",
   "metadata": {
    "id": "la2s2_PF_Zcu"
   },
   "source": [
    "Cравните результаты функции `genre_weekday()` для Москвы и Санкт-Петербурга в понедельник утром (с 7:00 до 11:00) и в пятницу вечером (с 17:00 до 23:00):"
   ]
  },
  {
   "cell_type": "code",
   "execution_count": 128,
   "metadata": {
    "id": "yz7itPUQ_Zcu"
   },
   "outputs": [
    {
     "data": {
      "text/plain": [
       "genre\n",
       "pop            781\n",
       "dance          549\n",
       "electronic     480\n",
       "rock           474\n",
       "hiphop         286\n",
       "ruspop         186\n",
       "world          181\n",
       "rusrap         175\n",
       "alternative    164\n",
       "unknown        161\n",
       "Name: genre, dtype: int64"
      ]
     },
     "execution_count": 128,
     "metadata": {},
     "output_type": "execute_result"
    }
   ],
   "source": [
    "genre_weekday(moscow_general, 'Monday', '07:00', '11:00')"
   ]
  },
  {
   "cell_type": "code",
   "execution_count": 129,
   "metadata": {
    "id": "kwUcHPdy_Zcu"
   },
   "outputs": [
    {
     "data": {
      "text/plain": [
       "Series([], Name: genre, dtype: int64)"
      ]
     },
     "execution_count": 129,
     "metadata": {},
     "output_type": "execute_result"
    }
   ],
   "source": [
    "genre_weekday(spb_general, 'Monday', '7:00', '11:00')"
   ]
  },
  {
   "cell_type": "code",
   "execution_count": 130,
   "metadata": {
    "id": "EzXVRE1o_Zcu"
   },
   "outputs": [
    {
     "data": {
      "text/plain": [
       "genre\n",
       "pop            713\n",
       "rock           517\n",
       "dance          495\n",
       "electronic     482\n",
       "hiphop         273\n",
       "world          208\n",
       "ruspop         170\n",
       "alternative    163\n",
       "classical      163\n",
       "rusrap         142\n",
       "Name: genre, dtype: int64"
      ]
     },
     "execution_count": 130,
     "metadata": {},
     "output_type": "execute_result"
    }
   ],
   "source": [
    "genre_weekday(moscow_general, 'Friday', '17:00', '23:00')"
   ]
  },
  {
   "cell_type": "code",
   "execution_count": 131,
   "metadata": {
    "id": "JZaEKu5v_Zcu"
   },
   "outputs": [
    {
     "data": {
      "text/plain": [
       "genre\n",
       "pop            256\n",
       "rock           216\n",
       "electronic     216\n",
       "dance          210\n",
       "hiphop          97\n",
       "alternative     63\n",
       "jazz            61\n",
       "classical       60\n",
       "rusrap          59\n",
       "world           54\n",
       "Name: genre, dtype: int64"
      ]
     },
     "execution_count": 131,
     "metadata": {},
     "output_type": "execute_result"
    }
   ],
   "source": [
    "genre_weekday(spb_general, 'Friday', '17:00', '23:00')"
   ]
  },
  {
   "attachments": {},
   "cell_type": "markdown",
   "metadata": {
    "id": "wrCe4MNX_Zcu"
   },
   "source": [
    "**Выводы**\n",
    "\n",
    "Если сравнить топ-10 жанров в понедельник утром, можно сделать такие выводы:\n",
    "\n",
    "1. В Москве и Петербурге слушают похожую музыку. Единственное отличие — в московский рейтинг вошёл жанр “world”, а в петербургский — джаз и классика.\n",
    "\n",
    "2. В Москве пропущенных значений оказалось так много, что значение `'unknown'` заняло десятое место среди самых популярных жанров. Значит, пропущенные значения занимают существенную долю в данных и угрожают достоверности исследования.\n",
    "\n",
    "Вечер пятницы не меняет эту картину. Некоторые жанры поднимаются немного выше, другие спускаются, но в целом топ-10 остаётся тем же самым.\n",
    "\n",
    "Таким образом, вторая гипотеза подтвердилась лишь частично:\n",
    "* Пользователи слушают похожую музыку в начале недели и в конце.\n",
    "* Разница между Москвой и Петербургом не слишком выражена. В Москве чаще слушают русскую популярную музыку, в Петербурге — джаз.\n",
    "\n",
    "Однако пропуски в данных ставят под сомнение этот результат. В Москве их так много, что рейтинг топ-10 мог бы выглядеть иначе, если бы не утерянные  данные о жанрах."
   ]
  },
  {
   "attachments": {},
   "cell_type": "markdown",
   "metadata": {
    "id": "JolODAqr_Zcu"
   },
   "source": [
    "### Жанровые предпочтения в Москве и Петербурге\n",
    "\n",
    "Гипотеза: Петербург — столица рэпа, музыку этого жанра там слушают чаще, чем в Москве.  А Москва — город контрастов, в котором, тем не менее, преобладает поп-музыка."
   ]
  },
  {
   "attachments": {},
   "cell_type": "markdown",
   "metadata": {
    "id": "DlegSvaT_Zcu"
   },
   "source": [
    "Сгруппируйте таблицу `moscow_general` по жанру и посчитайте прослушивания треков каждого жанра методом `count()`. Затем отсортируйте результат в порядке убывания и сохраните его в таблице `moscow_genres`."
   ]
  },
  {
   "cell_type": "code",
   "execution_count": 132,
   "metadata": {
    "id": "r19lIPke_Zcu"
   },
   "outputs": [],
   "source": [
    "# одной строкой: группировка таблицы moscow_general по столбцу 'genre', \n",
    "# подсчёт числа значений 'genre' в этой группировке методом count(), \n",
    "# сортировка получившегося Series в порядке убывания и сохранение в moscow_genres\n",
    "moscow_genres = moscow_general.groupby('genre')['genre'].count().sort_values(ascending = False)"
   ]
  },
  {
   "attachments": {},
   "cell_type": "markdown",
   "metadata": {
    "id": "6kMuomxTiIr8"
   },
   "source": [
    "Выведите на экран первые десять строк `moscow_genres`:"
   ]
  },
  {
   "cell_type": "code",
   "execution_count": 133,
   "metadata": {
    "id": "WhCSooF8_Zcv"
   },
   "outputs": [
    {
     "data": {
      "text/plain": [
       "genre\n",
       "pop            5892\n",
       "dance          4435\n",
       "rock           3965\n",
       "electronic     3786\n",
       "hiphop         2096\n",
       "classical      1616\n",
       "world          1432\n",
       "alternative    1379\n",
       "ruspop         1372\n",
       "rusrap         1161\n",
       "Name: genre, dtype: int64"
      ]
     },
     "execution_count": 133,
     "metadata": {},
     "output_type": "execute_result"
    }
   ],
   "source": [
    "moscow_genres.head(10)"
   ]
  },
  {
   "attachments": {},
   "cell_type": "markdown",
   "metadata": {
    "id": "cnPG2vnN_Zcv"
   },
   "source": [
    "Теперь повторите то же и для Петербурга.\n",
    "\n",
    "Сгруппируйте таблицу `spb_general` по жанру. Посчитайте прослушивания треков каждого жанра. Результат отсортируйте в порядке убывания и сохраните в таблице `spb_genres`:\n"
   ]
  },
  {
   "cell_type": "code",
   "execution_count": 134,
   "metadata": {
    "id": "gluLIpE7_Zcv"
   },
   "outputs": [],
   "source": [
    "# одной строкой: группировка таблицы spb_general по столбцу 'genre', \n",
    "# подсчёт числа значений 'genre' в этой группировке методом count(), \n",
    "# сортировка получившегося Series в порядке убывания и сохранение в spb_genres\n",
    "spb_genres = spb_general.groupby('genre')['genre'].count().sort_values(ascending = False)"
   ]
  },
  {
   "attachments": {},
   "cell_type": "markdown",
   "metadata": {
    "id": "5Doha_ODgyQ8"
   },
   "source": [
    "Выведите на экран первые десять строк `spb_genres`:"
   ]
  },
  {
   "cell_type": "code",
   "execution_count": 135,
   "metadata": {
    "id": "uaGJHjVU_Zcv"
   },
   "outputs": [
    {
     "data": {
      "text/plain": [
       "genre\n",
       "pop            2431\n",
       "dance          1932\n",
       "rock           1879\n",
       "electronic     1736\n",
       "hiphop          960\n",
       "alternative     649\n",
       "classical       646\n",
       "rusrap          564\n",
       "ruspop          538\n",
       "world           515\n",
       "Name: genre, dtype: int64"
      ]
     },
     "execution_count": 135,
     "metadata": {},
     "output_type": "execute_result"
    }
   ],
   "source": [
    "spb_genres.head(10)"
   ]
  },
  {
   "attachments": {},
   "cell_type": "markdown",
   "metadata": {
    "id": "RY51YJYu_Zcv"
   },
   "source": [
    "**Выводы**"
   ]
  },
  {
   "attachments": {},
   "cell_type": "markdown",
   "metadata": {
    "id": "nVhnJEm__Zcv"
   },
   "source": [
    "Гипотеза частично подтвердилась:\n",
    "* Поп-музыка — самый популярный жанр в Москве, как и предполагала гипотеза. Более того, в топ-10 жанров встречается близкий жанр — русская популярная музыка.\n",
    "* Вопреки ожиданиям, рэп одинаково популярен в Москве и Петербурге. \n"
   ]
  },
  {
   "attachments": {},
   "cell_type": "markdown",
   "metadata": {
    "id": "ykKQ0N65_Zcv"
   },
   "source": [
    "## Итоги исследования"
   ]
  },
  {
   "attachments": {},
   "cell_type": "markdown",
   "metadata": {
    "id": "tjUwbHb3_Zcv"
   },
   "source": [
    "Вы проверили три гипотезы и установили:\n",
    "\n",
    "1. День недели по-разному влияет на активность пользователей в Москве и Петербурге. \n",
    "\n",
    "Первая гипотеза полностью подтвердилась.\n",
    "\n",
    "2. Музыкальные предпочтения не сильно меняются в течение недели — будь то Москва или Петербург. Небольшие различия заметны в начале недели, по понедельникам:\n",
    "* в Москве слушают музыку жанра “world”,\n",
    "* в Петербурге — джаз и классику.\n",
    "\n",
    "Таким образом, вторая гипотеза подтвердилась лишь отчасти. Этот результат мог оказаться иным, если бы не пропуски в данных.\n",
    "\n",
    "3. Во вкусах пользователей Москвы и Петербурга больше общего чем различий. Вопреки ожиданиям, предпочтения жанров в Петербурге напоминают московские.\n",
    "\n",
    "Третья гипотеза не подтвердилась. Если различия в предпочтениях и существуют, на основной массе пользователей они незаметны.\n",
    "\n",
    "**На практике исследования содержат проверки статистических гипотез.**\n",
    "Из данных одного сервиса не всегда можно сделать вывод о всех жителях города.\n",
    "Проверки статистических гипотез покажут, насколько они достоверны, исходя из имеющихся данных. \n",
    "С методами проверок гипотез вы ещё познакомитесь в следующих темах."
   ]
  }
 ],
 "metadata": {
  "ExecuteTimeLog": [
   {
    "duration": 338,
    "start_time": "2022-02-16T14:43:29.296Z"
   },
   {
    "duration": 709,
    "start_time": "2022-02-16T14:43:36.579Z"
   },
   {
    "duration": 184,
    "start_time": "2022-02-16T14:43:39.984Z"
   },
   {
    "duration": 25,
    "start_time": "2022-02-16T14:43:41.416Z"
   },
   {
    "duration": 13,
    "start_time": "2022-02-16T14:44:04.802Z"
   },
   {
    "duration": 6,
    "start_time": "2022-02-16T14:45:18.874Z"
   },
   {
    "duration": 4,
    "start_time": "2022-02-16T14:49:13.879Z"
   },
   {
    "duration": 25,
    "start_time": "2022-02-16T14:49:16.548Z"
   },
   {
    "duration": 5,
    "start_time": "2022-02-16T14:49:17.857Z"
   },
   {
    "duration": 5,
    "start_time": "2022-02-16T14:49:27.023Z"
   },
   {
    "duration": 28,
    "start_time": "2022-02-16T14:49:30.190Z"
   },
   {
    "duration": 5,
    "start_time": "2022-02-16T14:49:31.445Z"
   },
   {
    "duration": 33,
    "start_time": "2022-02-16T14:51:02.778Z"
   },
   {
    "duration": 29,
    "start_time": "2022-02-16T14:51:15.891Z"
   },
   {
    "duration": 33,
    "start_time": "2022-02-16T14:51:53.006Z"
   },
   {
    "duration": 34,
    "start_time": "2022-02-16T14:51:58.362Z"
   },
   {
    "duration": 29,
    "start_time": "2022-02-16T14:52:45.732Z"
   },
   {
    "duration": 23,
    "start_time": "2022-02-16T14:56:17.708Z"
   },
   {
    "duration": 28,
    "start_time": "2022-02-16T14:56:19.034Z"
   },
   {
    "duration": 80,
    "start_time": "2022-02-16T14:57:09.498Z"
   },
   {
    "duration": 83,
    "start_time": "2022-02-16T14:57:34.064Z"
   },
   {
    "duration": 75,
    "start_time": "2022-02-16T14:57:46.786Z"
   },
   {
    "duration": 12,
    "start_time": "2022-02-16T14:58:56.946Z"
   },
   {
    "duration": 4,
    "start_time": "2022-02-16T15:10:12.234Z"
   },
   {
    "duration": 14,
    "start_time": "2022-02-16T15:11:58.805Z"
   },
   {
    "duration": 303,
    "start_time": "2022-02-16T15:12:31.176Z"
   },
   {
    "duration": 10,
    "start_time": "2022-02-16T15:12:42.989Z"
   },
   {
    "duration": 8,
    "start_time": "2022-02-16T15:13:41.790Z"
   },
   {
    "duration": 8,
    "start_time": "2022-02-16T15:13:50.139Z"
   },
   {
    "duration": 9,
    "start_time": "2022-02-16T15:13:58.436Z"
   },
   {
    "duration": 259,
    "start_time": "2022-02-16T15:14:22.032Z"
   },
   {
    "duration": 272,
    "start_time": "2022-02-16T15:20:34.466Z"
   },
   {
    "duration": 309,
    "start_time": "2022-02-16T15:20:52.984Z"
   },
   {
    "duration": 100,
    "start_time": "2022-02-16T15:21:40.166Z"
   },
   {
    "duration": 375,
    "start_time": "2022-02-16T15:21:44.269Z"
   },
   {
    "duration": 78,
    "start_time": "2022-02-16T15:23:15.208Z"
   },
   {
    "duration": 324,
    "start_time": "2022-02-16T15:23:35.060Z"
   },
   {
    "duration": 76,
    "start_time": "2022-02-16T15:24:09.083Z"
   },
   {
    "duration": 71,
    "start_time": "2022-02-16T15:24:14.308Z"
   },
   {
    "duration": 319,
    "start_time": "2022-02-16T15:27:38.203Z"
   },
   {
    "duration": 49,
    "start_time": "2022-02-16T15:27:48.074Z"
   },
   {
    "duration": 60,
    "start_time": "2022-02-16T15:28:41.390Z"
   },
   {
    "duration": 172,
    "start_time": "2022-02-16T15:28:51.122Z"
   },
   {
    "duration": 177,
    "start_time": "2022-02-16T15:29:01.425Z"
   },
   {
    "duration": 302,
    "start_time": "2022-02-16T15:29:13.120Z"
   },
   {
    "duration": 176,
    "start_time": "2022-02-16T15:29:18.194Z"
   },
   {
    "duration": 4,
    "start_time": "2022-02-16T15:31:16.908Z"
   },
   {
    "duration": 6,
    "start_time": "2022-02-16T15:31:27.962Z"
   },
   {
    "duration": 48,
    "start_time": "2022-02-16T15:33:47.215Z"
   },
   {
    "duration": 8,
    "start_time": "2022-02-16T15:33:59.112Z"
   },
   {
    "duration": 47,
    "start_time": "2022-02-16T15:34:45.161Z"
   },
   {
    "duration": 51,
    "start_time": "2022-02-16T15:34:46.699Z"
   },
   {
    "duration": 50,
    "start_time": "2022-02-16T15:34:46.928Z"
   },
   {
    "duration": 12,
    "start_time": "2022-02-16T15:34:58.006Z"
   },
   {
    "duration": 12,
    "start_time": "2022-02-16T15:34:59.883Z"
   },
   {
    "duration": 337,
    "start_time": "2022-02-17T17:10:24.644Z"
   },
   {
    "duration": 272,
    "start_time": "2022-02-17T17:14:14.880Z"
   },
   {
    "duration": 307,
    "start_time": "2022-02-17T17:14:26.279Z"
   },
   {
    "duration": 267,
    "start_time": "2022-02-17T17:14:29.791Z"
   },
   {
    "duration": 625,
    "start_time": "2022-02-17T17:14:35.183Z"
   },
   {
    "duration": 163,
    "start_time": "2022-02-17T17:14:35.810Z"
   },
   {
    "duration": 22,
    "start_time": "2022-02-17T17:14:35.977Z"
   },
   {
    "duration": 11,
    "start_time": "2022-02-17T17:14:36.001Z"
   },
   {
    "duration": 11,
    "start_time": "2022-02-17T17:14:36.014Z"
   },
   {
    "duration": 48,
    "start_time": "2022-02-17T17:14:36.027Z"
   },
   {
    "duration": 4,
    "start_time": "2022-02-17T17:14:36.078Z"
   },
   {
    "duration": 28,
    "start_time": "2022-02-17T17:14:36.084Z"
   },
   {
    "duration": 19,
    "start_time": "2022-02-17T17:14:36.115Z"
   },
   {
    "duration": 55,
    "start_time": "2022-02-17T17:14:36.136Z"
   },
   {
    "duration": 89,
    "start_time": "2022-02-17T17:14:36.193Z"
   },
   {
    "duration": 87,
    "start_time": "2022-02-17T17:14:36.284Z"
   },
   {
    "duration": 58,
    "start_time": "2022-02-17T17:14:36.373Z"
   },
   {
    "duration": 54,
    "start_time": "2022-02-17T17:14:36.433Z"
   },
   {
    "duration": 3,
    "start_time": "2022-02-17T17:14:36.490Z"
   },
   {
    "duration": 14,
    "start_time": "2022-02-17T17:14:36.495Z"
   },
   {
    "duration": 7,
    "start_time": "2022-02-17T17:14:36.510Z"
   },
   {
    "duration": 306,
    "start_time": "2022-02-17T17:14:36.519Z"
   },
   {
    "duration": -45517,
    "start_time": "2022-02-17T17:15:22.344Z"
   },
   {
    "duration": -45518,
    "start_time": "2022-02-17T17:15:22.346Z"
   },
   {
    "duration": -45519,
    "start_time": "2022-02-17T17:15:22.348Z"
   },
   {
    "duration": -45520,
    "start_time": "2022-02-17T17:15:22.350Z"
   },
   {
    "duration": -45519,
    "start_time": "2022-02-17T17:15:22.351Z"
   },
   {
    "duration": -45526,
    "start_time": "2022-02-17T17:15:22.359Z"
   },
   {
    "duration": -45527,
    "start_time": "2022-02-17T17:15:22.361Z"
   },
   {
    "duration": -45528,
    "start_time": "2022-02-17T17:15:22.363Z"
   },
   {
    "duration": -45529,
    "start_time": "2022-02-17T17:15:22.365Z"
   },
   {
    "duration": -45529,
    "start_time": "2022-02-17T17:15:22.367Z"
   },
   {
    "duration": -45529,
    "start_time": "2022-02-17T17:15:22.368Z"
   },
   {
    "duration": -45530,
    "start_time": "2022-02-17T17:15:22.370Z"
   },
   {
    "duration": -45531,
    "start_time": "2022-02-17T17:15:22.372Z"
   },
   {
    "duration": -45535,
    "start_time": "2022-02-17T17:15:22.377Z"
   },
   {
    "duration": -45536,
    "start_time": "2022-02-17T17:15:22.379Z"
   },
   {
    "duration": -45537,
    "start_time": "2022-02-17T17:15:22.381Z"
   },
   {
    "duration": -45538,
    "start_time": "2022-02-17T17:15:22.383Z"
   },
   {
    "duration": -45539,
    "start_time": "2022-02-17T17:15:22.385Z"
   },
   {
    "duration": -45539,
    "start_time": "2022-02-17T17:15:22.386Z"
   },
   {
    "duration": -45539,
    "start_time": "2022-02-17T17:15:22.388Z"
   },
   {
    "duration": 2,
    "start_time": "2022-02-17T17:14:46.400Z"
   },
   {
    "duration": 156,
    "start_time": "2022-02-17T17:14:46.405Z"
   },
   {
    "duration": 12,
    "start_time": "2022-02-17T17:14:46.564Z"
   },
   {
    "duration": 13,
    "start_time": "2022-02-17T17:14:46.578Z"
   },
   {
    "duration": 6,
    "start_time": "2022-02-17T17:14:46.593Z"
   },
   {
    "duration": 26,
    "start_time": "2022-02-17T17:14:46.601Z"
   },
   {
    "duration": 4,
    "start_time": "2022-02-17T17:14:46.629Z"
   },
   {
    "duration": 54,
    "start_time": "2022-02-17T17:14:46.635Z"
   },
   {
    "duration": 23,
    "start_time": "2022-02-17T17:14:46.692Z"
   },
   {
    "duration": 27,
    "start_time": "2022-02-17T17:14:46.717Z"
   },
   {
    "duration": 84,
    "start_time": "2022-02-17T17:14:46.746Z"
   },
   {
    "duration": 84,
    "start_time": "2022-02-17T17:14:46.833Z"
   },
   {
    "duration": 62,
    "start_time": "2022-02-17T17:14:46.919Z"
   },
   {
    "duration": 54,
    "start_time": "2022-02-17T17:14:46.983Z"
   },
   {
    "duration": 3,
    "start_time": "2022-02-17T17:14:47.039Z"
   },
   {
    "duration": 31,
    "start_time": "2022-02-17T17:14:47.044Z"
   },
   {
    "duration": 11,
    "start_time": "2022-02-17T17:14:47.077Z"
   },
   {
    "duration": 11,
    "start_time": "2022-02-17T17:14:47.090Z"
   },
   {
    "duration": 3,
    "start_time": "2022-02-17T17:14:47.103Z"
   },
   {
    "duration": 6,
    "start_time": "2022-02-17T17:14:47.107Z"
   },
   {
    "duration": 9,
    "start_time": "2022-02-17T17:14:47.115Z"
   },
   {
    "duration": 4,
    "start_time": "2022-02-17T17:14:47.126Z"
   },
   {
    "duration": 36,
    "start_time": "2022-02-17T17:14:47.133Z"
   },
   {
    "duration": 6,
    "start_time": "2022-02-17T17:14:47.172Z"
   },
   {
    "duration": 5,
    "start_time": "2022-02-17T17:14:47.180Z"
   },
   {
    "duration": 5,
    "start_time": "2022-02-17T17:14:47.187Z"
   },
   {
    "duration": 5,
    "start_time": "2022-02-17T17:14:47.194Z"
   },
   {
    "duration": 6,
    "start_time": "2022-02-17T17:14:47.201Z"
   },
   {
    "duration": 5,
    "start_time": "2022-02-17T17:14:47.209Z"
   },
   {
    "duration": 6,
    "start_time": "2022-02-17T17:14:47.216Z"
   },
   {
    "duration": 10,
    "start_time": "2022-02-17T17:14:47.223Z"
   },
   {
    "duration": 6,
    "start_time": "2022-02-17T17:14:47.234Z"
   },
   {
    "duration": 9,
    "start_time": "2022-02-17T17:14:47.242Z"
   },
   {
    "duration": 16,
    "start_time": "2022-02-17T17:14:47.253Z"
   },
   {
    "duration": 5,
    "start_time": "2022-02-17T17:14:47.271Z"
   },
   {
    "duration": 5,
    "start_time": "2022-02-17T17:14:47.278Z"
   },
   {
    "duration": 6,
    "start_time": "2022-02-17T17:14:47.285Z"
   },
   {
    "duration": 5,
    "start_time": "2022-02-17T17:14:47.293Z"
   },
   {
    "duration": 11,
    "start_time": "2022-02-17T17:18:04.556Z"
   },
   {
    "duration": 4,
    "start_time": "2022-02-17T17:58:21.968Z"
   },
   {
    "duration": 18,
    "start_time": "2022-02-17T17:58:26.574Z"
   },
   {
    "duration": 16,
    "start_time": "2022-02-17T17:58:27.858Z"
   },
   {
    "duration": 17,
    "start_time": "2022-02-17T17:58:28.924Z"
   },
   {
    "duration": 16,
    "start_time": "2022-02-17T17:58:30.121Z"
   },
   {
    "duration": 19,
    "start_time": "2022-02-17T17:58:30.761Z"
   },
   {
    "duration": 15,
    "start_time": "2022-02-17T17:58:31.467Z"
   },
   {
    "duration": 4,
    "start_time": "2022-02-17T17:58:37.209Z"
   },
   {
    "duration": 12,
    "start_time": "2022-02-17T17:58:40.708Z"
   },
   {
    "duration": 12,
    "start_time": "2022-02-17T17:58:41.661Z"
   },
   {
    "duration": 6,
    "start_time": "2022-02-17T17:58:47.798Z"
   },
   {
    "duration": 10,
    "start_time": "2022-02-17T17:58:48.833Z"
   },
   {
    "duration": 3,
    "start_time": "2022-02-17T17:58:51.725Z"
   },
   {
    "duration": 45,
    "start_time": "2022-02-17T17:58:53.213Z"
   },
   {
    "duration": 56,
    "start_time": "2022-02-17T17:58:54.122Z"
   },
   {
    "duration": 63,
    "start_time": "2022-02-17T17:58:54.771Z"
   },
   {
    "duration": 65,
    "start_time": "2022-02-17T17:58:56.068Z"
   },
   {
    "duration": 56,
    "start_time": "2022-02-17T17:58:56.514Z"
   },
   {
    "duration": 24,
    "start_time": "2022-02-17T17:58:57.109Z"
   },
   {
    "duration": 248,
    "start_time": "2022-02-18T14:46:39.775Z"
   },
   {
    "duration": 594,
    "start_time": "2022-02-18T14:46:54.879Z"
   },
   {
    "duration": 147,
    "start_time": "2022-02-18T14:46:55.475Z"
   },
   {
    "duration": 18,
    "start_time": "2022-02-18T14:46:55.625Z"
   },
   {
    "duration": 21,
    "start_time": "2022-02-18T14:46:55.645Z"
   },
   {
    "duration": 8,
    "start_time": "2022-02-18T14:46:55.667Z"
   },
   {
    "duration": 24,
    "start_time": "2022-02-18T14:46:55.677Z"
   },
   {
    "duration": 7,
    "start_time": "2022-02-18T14:46:55.703Z"
   },
   {
    "duration": 27,
    "start_time": "2022-02-18T14:46:55.712Z"
   },
   {
    "duration": 20,
    "start_time": "2022-02-18T14:46:55.760Z"
   },
   {
    "duration": 23,
    "start_time": "2022-02-18T14:46:55.782Z"
   },
   {
    "duration": 79,
    "start_time": "2022-02-18T14:46:55.807Z"
   },
   {
    "duration": 72,
    "start_time": "2022-02-18T14:46:55.888Z"
   },
   {
    "duration": 65,
    "start_time": "2022-02-18T14:46:55.962Z"
   },
   {
    "duration": 54,
    "start_time": "2022-02-18T14:46:56.029Z"
   },
   {
    "duration": 3,
    "start_time": "2022-02-18T14:46:56.085Z"
   },
   {
    "duration": 17,
    "start_time": "2022-02-18T14:46:56.090Z"
   },
   {
    "duration": 8,
    "start_time": "2022-02-18T14:46:56.109Z"
   },
   {
    "duration": 10,
    "start_time": "2022-02-18T14:46:56.118Z"
   },
   {
    "duration": 36,
    "start_time": "2022-02-18T14:46:56.129Z"
   },
   {
    "duration": 4,
    "start_time": "2022-02-18T14:46:56.167Z"
   },
   {
    "duration": 23,
    "start_time": "2022-02-18T14:46:56.172Z"
   },
   {
    "duration": 14,
    "start_time": "2022-02-18T14:46:56.196Z"
   },
   {
    "duration": 19,
    "start_time": "2022-02-18T14:46:56.211Z"
   },
   {
    "duration": 34,
    "start_time": "2022-02-18T14:46:56.231Z"
   },
   {
    "duration": 17,
    "start_time": "2022-02-18T14:46:56.266Z"
   },
   {
    "duration": 13,
    "start_time": "2022-02-18T14:46:56.285Z"
   },
   {
    "duration": 9,
    "start_time": "2022-02-18T14:46:56.301Z"
   },
   {
    "duration": 7,
    "start_time": "2022-02-18T14:46:56.312Z"
   },
   {
    "duration": 11,
    "start_time": "2022-02-18T14:46:56.321Z"
   },
   {
    "duration": 3,
    "start_time": "2022-02-18T14:46:56.359Z"
   },
   {
    "duration": 9,
    "start_time": "2022-02-18T14:46:56.364Z"
   },
   {
    "duration": 5,
    "start_time": "2022-02-18T14:46:56.375Z"
   },
   {
    "duration": 11,
    "start_time": "2022-02-18T14:46:56.382Z"
   },
   {
    "duration": 7,
    "start_time": "2022-02-18T14:46:56.394Z"
   },
   {
    "duration": 18,
    "start_time": "2022-02-18T14:46:56.402Z"
   },
   {
    "duration": 10,
    "start_time": "2022-02-18T14:46:56.422Z"
   },
   {
    "duration": 9,
    "start_time": "2022-02-18T14:46:56.433Z"
   },
   {
    "duration": 8,
    "start_time": "2022-02-18T14:46:56.444Z"
   },
   {
    "duration": 3,
    "start_time": "2022-02-18T14:59:29.856Z"
   },
   {
    "duration": 176,
    "start_time": "2022-02-18T14:59:29.861Z"
   },
   {
    "duration": 12,
    "start_time": "2022-02-18T14:59:30.039Z"
   },
   {
    "duration": 15,
    "start_time": "2022-02-18T14:59:30.053Z"
   },
   {
    "duration": 11,
    "start_time": "2022-02-18T14:59:30.073Z"
   },
   {
    "duration": 24,
    "start_time": "2022-02-18T14:59:30.086Z"
   },
   {
    "duration": 3,
    "start_time": "2022-02-18T14:59:30.113Z"
   },
   {
    "duration": 51,
    "start_time": "2022-02-18T14:59:30.118Z"
   },
   {
    "duration": 23,
    "start_time": "2022-02-18T14:59:30.172Z"
   },
   {
    "duration": 24,
    "start_time": "2022-02-18T14:59:30.197Z"
   },
   {
    "duration": 98,
    "start_time": "2022-02-18T14:59:30.223Z"
   },
   {
    "duration": 99,
    "start_time": "2022-02-18T14:59:30.322Z"
   },
   {
    "duration": 66,
    "start_time": "2022-02-18T14:59:30.424Z"
   },
   {
    "duration": 41,
    "start_time": "2022-02-18T14:59:30.492Z"
   },
   {
    "duration": 6,
    "start_time": "2022-02-18T14:59:30.535Z"
   },
   {
    "duration": 26,
    "start_time": "2022-02-18T14:59:30.543Z"
   },
   {
    "duration": 7,
    "start_time": "2022-02-18T14:59:30.574Z"
   },
   {
    "duration": 18,
    "start_time": "2022-02-18T14:59:30.582Z"
   },
   {
    "duration": 10,
    "start_time": "2022-02-18T14:59:30.602Z"
   },
   {
    "duration": 5,
    "start_time": "2022-02-18T14:59:30.614Z"
   },
   {
    "duration": 54,
    "start_time": "2022-02-18T14:59:30.621Z"
   },
   {
    "duration": 19,
    "start_time": "2022-02-18T14:59:30.677Z"
   },
   {
    "duration": 18,
    "start_time": "2022-02-18T14:59:30.698Z"
   },
   {
    "duration": 15,
    "start_time": "2022-02-18T14:59:30.717Z"
   },
   {
    "duration": 52,
    "start_time": "2022-02-18T14:59:30.733Z"
   },
   {
    "duration": 15,
    "start_time": "2022-02-18T14:59:30.787Z"
   },
   {
    "duration": 19,
    "start_time": "2022-02-18T14:59:30.803Z"
   },
   {
    "duration": 13,
    "start_time": "2022-02-18T14:59:30.825Z"
   },
   {
    "duration": 73,
    "start_time": "2022-02-18T14:59:30.859Z"
   },
   {
    "duration": -44538,
    "start_time": "2022-02-18T15:00:15.472Z"
   },
   {
    "duration": -44557,
    "start_time": "2022-02-18T15:00:15.492Z"
   },
   {
    "duration": -44558,
    "start_time": "2022-02-18T15:00:15.494Z"
   },
   {
    "duration": -44559,
    "start_time": "2022-02-18T15:00:15.496Z"
   },
   {
    "duration": -44564,
    "start_time": "2022-02-18T15:00:15.502Z"
   },
   {
    "duration": -44565,
    "start_time": "2022-02-18T15:00:15.504Z"
   },
   {
    "duration": -44566,
    "start_time": "2022-02-18T15:00:15.506Z"
   },
   {
    "duration": -44567,
    "start_time": "2022-02-18T15:00:15.508Z"
   },
   {
    "duration": -44607,
    "start_time": "2022-02-18T15:00:15.549Z"
   },
   {
    "duration": 3,
    "start_time": "2022-02-18T14:59:59.110Z"
   },
   {
    "duration": 159,
    "start_time": "2022-02-18T14:59:59.114Z"
   },
   {
    "duration": 16,
    "start_time": "2022-02-18T14:59:59.276Z"
   },
   {
    "duration": 11,
    "start_time": "2022-02-18T14:59:59.293Z"
   },
   {
    "duration": 4,
    "start_time": "2022-02-18T14:59:59.306Z"
   },
   {
    "duration": 17,
    "start_time": "2022-02-18T14:59:59.312Z"
   },
   {
    "duration": 4,
    "start_time": "2022-02-18T14:59:59.331Z"
   },
   {
    "duration": 26,
    "start_time": "2022-02-18T14:59:59.361Z"
   },
   {
    "duration": 17,
    "start_time": "2022-02-18T14:59:59.389Z"
   },
   {
    "duration": 21,
    "start_time": "2022-02-18T14:59:59.408Z"
   },
   {
    "duration": 92,
    "start_time": "2022-02-18T14:59:59.431Z"
   },
   {
    "duration": 90,
    "start_time": "2022-02-18T14:59:59.525Z"
   },
   {
    "duration": 57,
    "start_time": "2022-02-18T14:59:59.616Z"
   },
   {
    "duration": 39,
    "start_time": "2022-02-18T14:59:59.675Z"
   },
   {
    "duration": 4,
    "start_time": "2022-02-18T14:59:59.716Z"
   },
   {
    "duration": 11,
    "start_time": "2022-02-18T14:59:59.721Z"
   },
   {
    "duration": 26,
    "start_time": "2022-02-18T14:59:59.734Z"
   },
   {
    "duration": 18,
    "start_time": "2022-02-18T14:59:59.762Z"
   },
   {
    "duration": 13,
    "start_time": "2022-02-18T14:59:59.783Z"
   },
   {
    "duration": 6,
    "start_time": "2022-02-18T14:59:59.798Z"
   },
   {
    "duration": 23,
    "start_time": "2022-02-18T14:59:59.805Z"
   },
   {
    "duration": 45,
    "start_time": "2022-02-18T14:59:59.830Z"
   },
   {
    "duration": 18,
    "start_time": "2022-02-18T14:59:59.892Z"
   },
   {
    "duration": 17,
    "start_time": "2022-02-18T14:59:59.912Z"
   },
   {
    "duration": 37,
    "start_time": "2022-02-18T14:59:59.931Z"
   },
   {
    "duration": 23,
    "start_time": "2022-02-18T14:59:59.969Z"
   },
   {
    "duration": 12,
    "start_time": "2022-02-18T14:59:59.994Z"
   },
   {
    "duration": 23,
    "start_time": "2022-02-18T15:00:00.008Z"
   },
   {
    "duration": 26,
    "start_time": "2022-02-18T15:00:00.033Z"
   },
   {
    "duration": 7,
    "start_time": "2022-02-18T15:00:00.061Z"
   },
   {
    "duration": 422,
    "start_time": "2022-02-18T15:00:00.071Z"
   },
   {
    "duration": -44442,
    "start_time": "2022-02-18T15:00:44.937Z"
   },
   {
    "duration": -44443,
    "start_time": "2022-02-18T15:00:44.939Z"
   },
   {
    "duration": -44443,
    "start_time": "2022-02-18T15:00:44.941Z"
   },
   {
    "duration": -44455,
    "start_time": "2022-02-18T15:00:44.954Z"
   },
   {
    "duration": -44456,
    "start_time": "2022-02-18T15:00:44.956Z"
   },
   {
    "duration": -44457,
    "start_time": "2022-02-18T15:00:44.958Z"
   },
   {
    "duration": -44458,
    "start_time": "2022-02-18T15:00:44.960Z"
   },
   {
    "duration": 558,
    "start_time": "2022-02-18T15:00:32.518Z"
   },
   {
    "duration": 149,
    "start_time": "2022-02-18T15:00:33.078Z"
   },
   {
    "duration": 17,
    "start_time": "2022-02-18T15:00:33.229Z"
   },
   {
    "duration": 26,
    "start_time": "2022-02-18T15:00:33.248Z"
   },
   {
    "duration": 5,
    "start_time": "2022-02-18T15:00:33.277Z"
   },
   {
    "duration": 24,
    "start_time": "2022-02-18T15:00:33.283Z"
   },
   {
    "duration": 6,
    "start_time": "2022-02-18T15:00:33.309Z"
   },
   {
    "duration": 43,
    "start_time": "2022-02-18T15:00:33.317Z"
   },
   {
    "duration": 20,
    "start_time": "2022-02-18T15:00:33.363Z"
   },
   {
    "duration": 23,
    "start_time": "2022-02-18T15:00:33.385Z"
   },
   {
    "duration": 84,
    "start_time": "2022-02-18T15:00:33.410Z"
   },
   {
    "duration": 69,
    "start_time": "2022-02-18T15:00:33.495Z"
   },
   {
    "duration": 53,
    "start_time": "2022-02-18T15:00:33.567Z"
   },
   {
    "duration": 57,
    "start_time": "2022-02-18T15:00:33.621Z"
   },
   {
    "duration": 13,
    "start_time": "2022-02-18T15:00:33.679Z"
   },
   {
    "duration": 15,
    "start_time": "2022-02-18T15:00:33.694Z"
   },
   {
    "duration": 7,
    "start_time": "2022-02-18T15:00:33.711Z"
   },
   {
    "duration": 12,
    "start_time": "2022-02-18T15:00:33.719Z"
   },
   {
    "duration": 27,
    "start_time": "2022-02-18T15:00:33.733Z"
   },
   {
    "duration": 4,
    "start_time": "2022-02-18T15:00:33.762Z"
   },
   {
    "duration": 29,
    "start_time": "2022-02-18T15:00:33.769Z"
   },
   {
    "duration": 14,
    "start_time": "2022-02-18T15:00:33.800Z"
   },
   {
    "duration": 15,
    "start_time": "2022-02-18T15:00:33.818Z"
   },
   {
    "duration": 41,
    "start_time": "2022-02-18T15:00:33.835Z"
   },
   {
    "duration": 15,
    "start_time": "2022-02-18T15:00:33.879Z"
   },
   {
    "duration": 14,
    "start_time": "2022-02-18T15:00:33.896Z"
   },
   {
    "duration": 8,
    "start_time": "2022-02-18T15:00:33.911Z"
   },
   {
    "duration": 46,
    "start_time": "2022-02-18T15:00:33.920Z"
   },
   {
    "duration": 11,
    "start_time": "2022-02-18T15:00:33.968Z"
   },
   {
    "duration": 8,
    "start_time": "2022-02-18T15:00:33.981Z"
   },
   {
    "duration": 461,
    "start_time": "2022-02-18T15:00:33.991Z"
   },
   {
    "duration": -44432,
    "start_time": "2022-02-18T15:01:18.886Z"
   },
   {
    "duration": -44433,
    "start_time": "2022-02-18T15:01:18.888Z"
   },
   {
    "duration": -44434,
    "start_time": "2022-02-18T15:01:18.890Z"
   },
   {
    "duration": -44435,
    "start_time": "2022-02-18T15:01:18.892Z"
   },
   {
    "duration": -44435,
    "start_time": "2022-02-18T15:01:18.894Z"
   },
   {
    "duration": -44435,
    "start_time": "2022-02-18T15:01:18.896Z"
   },
   {
    "duration": -44436,
    "start_time": "2022-02-18T15:01:18.898Z"
   },
   {
    "duration": 609,
    "start_time": "2022-02-18T15:01:35.039Z"
   },
   {
    "duration": 145,
    "start_time": "2022-02-18T15:01:35.650Z"
   },
   {
    "duration": 17,
    "start_time": "2022-02-18T15:01:35.797Z"
   },
   {
    "duration": 17,
    "start_time": "2022-02-18T15:01:35.816Z"
   },
   {
    "duration": 12,
    "start_time": "2022-02-18T15:01:35.834Z"
   },
   {
    "duration": 28,
    "start_time": "2022-02-18T15:01:35.848Z"
   },
   {
    "duration": 10,
    "start_time": "2022-02-18T15:01:35.878Z"
   },
   {
    "duration": 43,
    "start_time": "2022-02-18T15:01:35.889Z"
   },
   {
    "duration": 21,
    "start_time": "2022-02-18T15:01:35.935Z"
   },
   {
    "duration": 36,
    "start_time": "2022-02-18T15:01:35.959Z"
   },
   {
    "duration": 85,
    "start_time": "2022-02-18T15:01:35.997Z"
   },
   {
    "duration": 75,
    "start_time": "2022-02-18T15:01:36.085Z"
   },
   {
    "duration": 62,
    "start_time": "2022-02-18T15:01:36.163Z"
   },
   {
    "duration": 68,
    "start_time": "2022-02-18T15:01:36.227Z"
   },
   {
    "duration": 3,
    "start_time": "2022-02-18T15:01:36.297Z"
   },
   {
    "duration": 12,
    "start_time": "2022-02-18T15:01:36.302Z"
   },
   {
    "duration": 6,
    "start_time": "2022-02-18T15:01:36.316Z"
   },
   {
    "duration": 12,
    "start_time": "2022-02-18T15:01:36.323Z"
   },
   {
    "duration": 14,
    "start_time": "2022-02-18T15:01:36.359Z"
   },
   {
    "duration": 14,
    "start_time": "2022-02-18T15:01:36.377Z"
   },
   {
    "duration": 28,
    "start_time": "2022-02-18T15:01:36.393Z"
   },
   {
    "duration": 15,
    "start_time": "2022-02-18T15:01:36.423Z"
   },
   {
    "duration": 31,
    "start_time": "2022-02-18T15:01:36.440Z"
   },
   {
    "duration": 18,
    "start_time": "2022-02-18T15:01:36.473Z"
   },
   {
    "duration": 16,
    "start_time": "2022-02-18T15:01:36.493Z"
   },
   {
    "duration": 15,
    "start_time": "2022-02-18T15:01:36.510Z"
   },
   {
    "duration": 51,
    "start_time": "2022-02-18T15:01:36.528Z"
   },
   {
    "duration": 15,
    "start_time": "2022-02-18T15:01:36.582Z"
   },
   {
    "duration": 9,
    "start_time": "2022-02-18T15:01:36.599Z"
   },
   {
    "duration": 8,
    "start_time": "2022-02-18T15:01:36.609Z"
   },
   {
    "duration": 31,
    "start_time": "2022-02-18T15:01:36.618Z"
   },
   {
    "duration": 16,
    "start_time": "2022-02-18T15:01:36.650Z"
   },
   {
    "duration": 116,
    "start_time": "2022-02-18T15:01:36.669Z"
   },
   {
    "duration": 104,
    "start_time": "2022-02-18T15:01:36.791Z"
   },
   {
    "duration": 404,
    "start_time": "2022-02-18T15:01:36.904Z"
   },
   {
    "duration": -44431,
    "start_time": "2022-02-18T15:02:21.742Z"
   },
   {
    "duration": -44439,
    "start_time": "2022-02-18T15:02:21.751Z"
   },
   {
    "duration": -44472,
    "start_time": "2022-02-18T15:02:21.785Z"
   },
   {
    "duration": 584,
    "start_time": "2022-02-18T15:04:10.285Z"
   },
   {
    "duration": 151,
    "start_time": "2022-02-18T15:04:10.872Z"
   },
   {
    "duration": 32,
    "start_time": "2022-02-18T15:04:11.028Z"
   },
   {
    "duration": 10,
    "start_time": "2022-02-18T15:04:11.063Z"
   },
   {
    "duration": 10,
    "start_time": "2022-02-18T15:04:11.076Z"
   },
   {
    "duration": 27,
    "start_time": "2022-02-18T15:04:11.089Z"
   },
   {
    "duration": 9,
    "start_time": "2022-02-18T15:04:11.118Z"
   },
   {
    "duration": 61,
    "start_time": "2022-02-18T15:04:11.131Z"
   },
   {
    "duration": 19,
    "start_time": "2022-02-18T15:04:11.194Z"
   },
   {
    "duration": 46,
    "start_time": "2022-02-18T15:04:11.215Z"
   },
   {
    "duration": 67,
    "start_time": "2022-02-18T15:04:11.263Z"
   },
   {
    "duration": 98,
    "start_time": "2022-02-18T15:04:11.332Z"
   },
   {
    "duration": 72,
    "start_time": "2022-02-18T15:04:11.432Z"
   },
   {
    "duration": 37,
    "start_time": "2022-02-18T15:04:11.506Z"
   },
   {
    "duration": 23,
    "start_time": "2022-02-18T15:04:11.545Z"
   },
   {
    "duration": 15,
    "start_time": "2022-02-18T15:04:11.571Z"
   },
   {
    "duration": 10,
    "start_time": "2022-02-18T15:04:11.588Z"
   },
   {
    "duration": 17,
    "start_time": "2022-02-18T15:04:11.599Z"
   },
   {
    "duration": 9,
    "start_time": "2022-02-18T15:04:11.618Z"
   },
   {
    "duration": 3,
    "start_time": "2022-02-18T15:04:11.629Z"
   },
   {
    "duration": 48,
    "start_time": "2022-02-18T15:04:11.633Z"
   },
   {
    "duration": 15,
    "start_time": "2022-02-18T15:04:11.684Z"
   },
   {
    "duration": 14,
    "start_time": "2022-02-18T15:04:11.700Z"
   },
   {
    "duration": 45,
    "start_time": "2022-02-18T15:04:11.716Z"
   },
   {
    "duration": 24,
    "start_time": "2022-02-18T15:04:11.765Z"
   },
   {
    "duration": 12,
    "start_time": "2022-02-18T15:04:11.793Z"
   },
   {
    "duration": 8,
    "start_time": "2022-02-18T15:04:11.807Z"
   },
   {
    "duration": 47,
    "start_time": "2022-02-18T15:04:11.817Z"
   },
   {
    "duration": 18,
    "start_time": "2022-02-18T15:04:11.867Z"
   },
   {
    "duration": 5,
    "start_time": "2022-02-18T15:04:11.887Z"
   },
   {
    "duration": 25,
    "start_time": "2022-02-18T15:04:11.894Z"
   },
   {
    "duration": 13,
    "start_time": "2022-02-18T15:04:11.921Z"
   },
   {
    "duration": 53,
    "start_time": "2022-02-18T15:04:11.935Z"
   },
   {
    "duration": 12,
    "start_time": "2022-02-18T15:04:11.989Z"
   },
   {
    "duration": 7,
    "start_time": "2022-02-18T15:04:12.003Z"
   },
   {
    "duration": 5,
    "start_time": "2022-02-18T15:04:12.011Z"
   },
   {
    "duration": 263,
    "start_time": "2022-02-18T15:04:12.017Z"
   },
   {
    "duration": -44423,
    "start_time": "2022-02-18T15:04:56.705Z"
   },
   {
    "duration": 602,
    "start_time": "2022-02-18T15:04:28.957Z"
   },
   {
    "duration": 159,
    "start_time": "2022-02-18T15:04:29.563Z"
   },
   {
    "duration": 17,
    "start_time": "2022-02-18T15:04:29.724Z"
   },
   {
    "duration": 33,
    "start_time": "2022-02-18T15:04:29.743Z"
   },
   {
    "duration": 10,
    "start_time": "2022-02-18T15:04:29.778Z"
   },
   {
    "duration": 25,
    "start_time": "2022-02-18T15:04:29.791Z"
   },
   {
    "duration": 10,
    "start_time": "2022-02-18T15:04:29.818Z"
   },
   {
    "duration": 62,
    "start_time": "2022-02-18T15:04:29.831Z"
   },
   {
    "duration": 21,
    "start_time": "2022-02-18T15:04:29.896Z"
   },
   {
    "duration": 42,
    "start_time": "2022-02-18T15:04:29.919Z"
   },
   {
    "duration": 69,
    "start_time": "2022-02-18T15:04:29.967Z"
   },
   {
    "duration": 98,
    "start_time": "2022-02-18T15:04:30.038Z"
   },
   {
    "duration": 79,
    "start_time": "2022-02-18T15:04:30.138Z"
   },
   {
    "duration": 63,
    "start_time": "2022-02-18T15:04:30.219Z"
   },
   {
    "duration": 8,
    "start_time": "2022-02-18T15:04:30.284Z"
   },
   {
    "duration": 21,
    "start_time": "2022-02-18T15:04:30.293Z"
   },
   {
    "duration": 27,
    "start_time": "2022-02-18T15:04:30.316Z"
   },
   {
    "duration": 15,
    "start_time": "2022-02-18T15:04:30.345Z"
   },
   {
    "duration": 24,
    "start_time": "2022-02-18T15:04:30.363Z"
   },
   {
    "duration": 4,
    "start_time": "2022-02-18T15:04:30.389Z"
   },
   {
    "duration": 20,
    "start_time": "2022-02-18T15:04:30.395Z"
   },
   {
    "duration": 14,
    "start_time": "2022-02-18T15:04:30.417Z"
   },
   {
    "duration": 45,
    "start_time": "2022-02-18T15:04:30.435Z"
   },
   {
    "duration": 13,
    "start_time": "2022-02-18T15:04:30.484Z"
   },
   {
    "duration": 16,
    "start_time": "2022-02-18T15:04:30.498Z"
   },
   {
    "duration": 45,
    "start_time": "2022-02-18T15:04:30.516Z"
   },
   {
    "duration": 17,
    "start_time": "2022-02-18T15:04:30.565Z"
   },
   {
    "duration": 20,
    "start_time": "2022-02-18T15:04:30.584Z"
   },
   {
    "duration": 12,
    "start_time": "2022-02-18T15:04:30.605Z"
   },
   {
    "duration": 8,
    "start_time": "2022-02-18T15:04:30.618Z"
   },
   {
    "duration": 43,
    "start_time": "2022-02-18T15:04:30.627Z"
   },
   {
    "duration": 18,
    "start_time": "2022-02-18T15:04:30.673Z"
   },
   {
    "duration": 20,
    "start_time": "2022-02-18T15:04:30.692Z"
   },
   {
    "duration": 12,
    "start_time": "2022-02-18T15:04:30.714Z"
   },
   {
    "duration": 53,
    "start_time": "2022-02-18T15:04:30.728Z"
   },
   {
    "duration": 18,
    "start_time": "2022-02-18T15:04:30.783Z"
   },
   {
    "duration": 13,
    "start_time": "2022-02-18T15:04:30.802Z"
   },
   {
    "duration": 23,
    "start_time": "2022-02-18T15:04:30.817Z"
   },
   {
    "duration": 527,
    "start_time": "2022-02-28T06:12:27.579Z"
   },
   {
    "duration": 137,
    "start_time": "2022-02-28T06:12:28.107Z"
   },
   {
    "duration": 18,
    "start_time": "2022-02-28T06:12:28.246Z"
   },
   {
    "duration": 8,
    "start_time": "2022-02-28T06:12:28.265Z"
   },
   {
    "duration": 5,
    "start_time": "2022-02-28T06:12:28.275Z"
   },
   {
    "duration": 22,
    "start_time": "2022-02-28T06:12:28.282Z"
   },
   {
    "duration": 7,
    "start_time": "2022-02-28T06:12:28.305Z"
   },
   {
    "duration": 40,
    "start_time": "2022-02-28T06:12:28.314Z"
   },
   {
    "duration": 16,
    "start_time": "2022-02-28T06:12:28.356Z"
   },
   {
    "duration": 22,
    "start_time": "2022-02-28T06:12:28.374Z"
   },
   {
    "duration": 75,
    "start_time": "2022-02-28T06:12:28.397Z"
   },
   {
    "duration": 66,
    "start_time": "2022-02-28T06:12:28.473Z"
   },
   {
    "duration": 46,
    "start_time": "2022-02-28T06:12:28.541Z"
   },
   {
    "duration": 50,
    "start_time": "2022-02-28T06:12:28.589Z"
   },
   {
    "duration": 3,
    "start_time": "2022-02-28T06:12:28.640Z"
   },
   {
    "duration": 11,
    "start_time": "2022-02-28T06:12:28.644Z"
   },
   {
    "duration": 5,
    "start_time": "2022-02-28T06:12:28.656Z"
   },
   {
    "duration": 9,
    "start_time": "2022-02-28T06:12:28.663Z"
   },
   {
    "duration": 8,
    "start_time": "2022-02-28T06:12:28.673Z"
   },
   {
    "duration": 3,
    "start_time": "2022-02-28T06:12:28.683Z"
   },
   {
    "duration": 49,
    "start_time": "2022-02-28T06:12:28.687Z"
   },
   {
    "duration": 13,
    "start_time": "2022-02-28T06:12:28.737Z"
   },
   {
    "duration": 13,
    "start_time": "2022-02-28T06:12:28.753Z"
   },
   {
    "duration": 12,
    "start_time": "2022-02-28T06:12:28.768Z"
   },
   {
    "duration": 16,
    "start_time": "2022-02-28T06:12:28.781Z"
   },
   {
    "duration": 41,
    "start_time": "2022-02-28T06:12:28.798Z"
   },
   {
    "duration": 7,
    "start_time": "2022-02-28T06:12:28.841Z"
   },
   {
    "duration": 13,
    "start_time": "2022-02-28T06:12:28.849Z"
   },
   {
    "duration": 8,
    "start_time": "2022-02-28T06:12:28.864Z"
   },
   {
    "duration": 10,
    "start_time": "2022-02-28T06:12:28.873Z"
   },
   {
    "duration": 21,
    "start_time": "2022-02-28T06:12:28.884Z"
   },
   {
    "duration": 31,
    "start_time": "2022-02-28T06:12:28.906Z"
   },
   {
    "duration": 16,
    "start_time": "2022-02-28T06:12:28.938Z"
   },
   {
    "duration": 12,
    "start_time": "2022-02-28T06:12:28.955Z"
   },
   {
    "duration": 7,
    "start_time": "2022-02-28T06:12:28.968Z"
   },
   {
    "duration": 4,
    "start_time": "2022-02-28T06:12:28.977Z"
   },
   {
    "duration": 9,
    "start_time": "2022-02-28T06:12:28.982Z"
   },
   {
    "duration": 4,
    "start_time": "2022-02-28T06:12:28.993Z"
   },
   {
    "duration": 724,
    "start_time": "2022-02-28T20:20:16.168Z"
   },
   {
    "duration": 264,
    "start_time": "2022-02-28T20:21:41.259Z"
   },
   {
    "duration": 624,
    "start_time": "2022-02-28T20:21:45.335Z"
   },
   {
    "duration": 161,
    "start_time": "2022-02-28T20:21:45.961Z"
   },
   {
    "duration": 20,
    "start_time": "2022-02-28T20:21:46.125Z"
   },
   {
    "duration": 36,
    "start_time": "2022-02-28T20:21:46.147Z"
   },
   {
    "duration": 4,
    "start_time": "2022-02-28T20:21:46.185Z"
   },
   {
    "duration": 28,
    "start_time": "2022-02-28T20:21:46.190Z"
   },
   {
    "duration": 4,
    "start_time": "2022-02-28T20:21:46.219Z"
   },
   {
    "duration": 53,
    "start_time": "2022-02-28T20:21:46.225Z"
   },
   {
    "duration": 19,
    "start_time": "2022-02-28T20:21:46.280Z"
   },
   {
    "duration": 27,
    "start_time": "2022-02-28T20:21:46.300Z"
   },
   {
    "duration": 83,
    "start_time": "2022-02-28T20:21:46.328Z"
   },
   {
    "duration": 75,
    "start_time": "2022-02-28T20:21:46.413Z"
   },
   {
    "duration": 57,
    "start_time": "2022-02-28T20:21:46.490Z"
   },
   {
    "duration": 56,
    "start_time": "2022-02-28T20:21:46.549Z"
   },
   {
    "duration": 3,
    "start_time": "2022-02-28T20:21:46.607Z"
   },
   {
    "duration": 14,
    "start_time": "2022-02-28T20:21:46.612Z"
   },
   {
    "duration": 60,
    "start_time": "2022-02-28T20:21:46.628Z"
   },
   {
    "duration": 11,
    "start_time": "2022-02-28T20:21:46.690Z"
   },
   {
    "duration": 11,
    "start_time": "2022-02-28T20:21:46.703Z"
   },
   {
    "duration": 4,
    "start_time": "2022-02-28T20:21:46.716Z"
   },
   {
    "duration": 22,
    "start_time": "2022-02-28T20:21:46.722Z"
   },
   {
    "duration": 46,
    "start_time": "2022-02-28T20:21:46.746Z"
   },
   {
    "duration": 17,
    "start_time": "2022-02-28T20:21:46.795Z"
   },
   {
    "duration": 16,
    "start_time": "2022-02-28T20:21:46.814Z"
   },
   {
    "duration": 52,
    "start_time": "2022-02-28T20:21:46.831Z"
   },
   {
    "duration": 15,
    "start_time": "2022-02-28T20:21:46.885Z"
   },
   {
    "duration": 13,
    "start_time": "2022-02-28T20:21:46.902Z"
   },
   {
    "duration": 17,
    "start_time": "2022-02-28T20:21:46.917Z"
   },
   {
    "duration": 10,
    "start_time": "2022-02-28T20:21:46.936Z"
   },
   {
    "duration": 4,
    "start_time": "2022-02-28T20:21:46.948Z"
   },
   {
    "duration": 42,
    "start_time": "2022-02-28T20:21:46.953Z"
   },
   {
    "duration": 13,
    "start_time": "2022-02-28T20:21:46.997Z"
   },
   {
    "duration": 23,
    "start_time": "2022-02-28T20:21:47.012Z"
   },
   {
    "duration": 42,
    "start_time": "2022-02-28T20:21:47.037Z"
   },
   {
    "duration": 9,
    "start_time": "2022-02-28T20:21:47.081Z"
   },
   {
    "duration": 5,
    "start_time": "2022-02-28T20:21:47.092Z"
   },
   {
    "duration": 7,
    "start_time": "2022-02-28T20:21:47.099Z"
   },
   {
    "duration": 6,
    "start_time": "2022-02-28T20:21:47.108Z"
   },
   {
    "duration": 3,
    "start_time": "2022-02-28T20:23:59.556Z"
   },
   {
    "duration": 295,
    "start_time": "2022-02-28T20:23:59.562Z"
   },
   {
    "duration": 11,
    "start_time": "2022-02-28T20:23:59.860Z"
   },
   {
    "duration": 14,
    "start_time": "2022-02-28T20:23:59.873Z"
   },
   {
    "duration": 13,
    "start_time": "2022-02-28T20:23:59.889Z"
   },
   {
    "duration": 23,
    "start_time": "2022-02-28T20:23:59.904Z"
   },
   {
    "duration": 7,
    "start_time": "2022-02-28T20:23:59.930Z"
   },
   {
    "duration": 38,
    "start_time": "2022-02-28T20:23:59.939Z"
   },
   {
    "duration": 30,
    "start_time": "2022-02-28T20:23:59.979Z"
   },
   {
    "duration": 28,
    "start_time": "2022-02-28T20:24:00.013Z"
   },
   {
    "duration": 76,
    "start_time": "2022-02-28T20:24:00.043Z"
   },
   {
    "duration": 74,
    "start_time": "2022-02-28T20:24:00.120Z"
   },
   {
    "duration": 57,
    "start_time": "2022-02-28T20:24:00.197Z"
   },
   {
    "duration": 60,
    "start_time": "2022-02-28T20:24:00.257Z"
   },
   {
    "duration": 4,
    "start_time": "2022-02-28T20:24:00.319Z"
   },
   {
    "duration": 13,
    "start_time": "2022-02-28T20:24:00.325Z"
   },
   {
    "duration": 67,
    "start_time": "2022-02-28T20:24:00.340Z"
   },
   {
    "duration": 31,
    "start_time": "2022-02-28T20:24:00.409Z"
   },
   {
    "duration": 14,
    "start_time": "2022-02-28T20:24:00.442Z"
   },
   {
    "duration": 9,
    "start_time": "2022-02-28T20:24:00.458Z"
   },
   {
    "duration": 28,
    "start_time": "2022-02-28T20:24:00.469Z"
   },
   {
    "duration": 18,
    "start_time": "2022-02-28T20:24:00.499Z"
   },
   {
    "duration": 34,
    "start_time": "2022-02-28T20:24:00.519Z"
   },
   {
    "duration": 22,
    "start_time": "2022-02-28T20:24:00.555Z"
   },
   {
    "duration": 32,
    "start_time": "2022-02-28T20:24:00.579Z"
   },
   {
    "duration": 16,
    "start_time": "2022-02-28T20:24:00.613Z"
   },
   {
    "duration": 24,
    "start_time": "2022-02-28T20:24:00.631Z"
   },
   {
    "duration": 25,
    "start_time": "2022-02-28T20:24:00.659Z"
   },
   {
    "duration": 24,
    "start_time": "2022-02-28T20:24:00.687Z"
   },
   {
    "duration": 4,
    "start_time": "2022-02-28T20:24:00.713Z"
   },
   {
    "duration": 26,
    "start_time": "2022-02-28T20:24:00.719Z"
   },
   {
    "duration": 14,
    "start_time": "2022-02-28T20:24:00.748Z"
   },
   {
    "duration": 95,
    "start_time": "2022-02-28T20:24:00.764Z"
   },
   {
    "duration": 16,
    "start_time": "2022-02-28T20:24:00.862Z"
   },
   {
    "duration": 13,
    "start_time": "2022-02-28T20:24:00.880Z"
   },
   {
    "duration": 8,
    "start_time": "2022-02-28T20:24:00.895Z"
   },
   {
    "duration": 15,
    "start_time": "2022-02-28T20:24:00.905Z"
   },
   {
    "duration": 33,
    "start_time": "2022-02-28T20:24:00.922Z"
   },
   {
    "duration": 300,
    "start_time": "2022-02-28T20:25:31.026Z"
   },
   {
    "duration": 3,
    "start_time": "2022-02-28T20:25:34.587Z"
   },
   {
    "duration": 202,
    "start_time": "2022-02-28T20:25:34.594Z"
   },
   {
    "duration": 11,
    "start_time": "2022-02-28T20:25:34.798Z"
   },
   {
    "duration": 70,
    "start_time": "2022-02-28T20:25:34.811Z"
   },
   {
    "duration": 36,
    "start_time": "2022-02-28T20:25:34.883Z"
   },
   {
    "duration": 36,
    "start_time": "2022-02-28T20:25:34.920Z"
   },
   {
    "duration": 19,
    "start_time": "2022-02-28T20:25:34.957Z"
   },
   {
    "duration": 72,
    "start_time": "2022-02-28T20:25:34.977Z"
   },
   {
    "duration": 39,
    "start_time": "2022-02-28T20:25:35.053Z"
   },
   {
    "duration": 82,
    "start_time": "2022-02-28T20:25:35.095Z"
   },
   {
    "duration": 90,
    "start_time": "2022-02-28T20:25:35.179Z"
   },
   {
    "duration": 72,
    "start_time": "2022-02-28T20:25:35.271Z"
   },
   {
    "duration": 69,
    "start_time": "2022-02-28T20:25:35.345Z"
   },
   {
    "duration": 46,
    "start_time": "2022-02-28T20:25:35.416Z"
   },
   {
    "duration": 4,
    "start_time": "2022-02-28T20:25:35.478Z"
   },
   {
    "duration": 44,
    "start_time": "2022-02-28T20:25:35.484Z"
   },
   {
    "duration": 321,
    "start_time": "2022-02-28T20:25:35.530Z"
   },
   {
    "duration": -42653,
    "start_time": "2022-02-28T20:26:18.506Z"
   },
   {
    "duration": -42664,
    "start_time": "2022-02-28T20:26:18.519Z"
   },
   {
    "duration": -42668,
    "start_time": "2022-02-28T20:26:18.524Z"
   },
   {
    "duration": -42671,
    "start_time": "2022-02-28T20:26:18.528Z"
   },
   {
    "duration": -42674,
    "start_time": "2022-02-28T20:26:18.532Z"
   },
   {
    "duration": -42678,
    "start_time": "2022-02-28T20:26:18.537Z"
   },
   {
    "duration": -42682,
    "start_time": "2022-02-28T20:26:18.542Z"
   },
   {
    "duration": -42691,
    "start_time": "2022-02-28T20:26:18.552Z"
   },
   {
    "duration": -42694,
    "start_time": "2022-02-28T20:26:18.556Z"
   },
   {
    "duration": -42699,
    "start_time": "2022-02-28T20:26:18.562Z"
   },
   {
    "duration": -42708,
    "start_time": "2022-02-28T20:26:18.572Z"
   },
   {
    "duration": -42712,
    "start_time": "2022-02-28T20:26:18.577Z"
   },
   {
    "duration": -42717,
    "start_time": "2022-02-28T20:26:18.582Z"
   },
   {
    "duration": -42721,
    "start_time": "2022-02-28T20:26:18.587Z"
   },
   {
    "duration": -42724,
    "start_time": "2022-02-28T20:26:18.591Z"
   },
   {
    "duration": -42728,
    "start_time": "2022-02-28T20:26:18.596Z"
   },
   {
    "duration": -42737,
    "start_time": "2022-02-28T20:26:18.606Z"
   },
   {
    "duration": -42740,
    "start_time": "2022-02-28T20:26:18.610Z"
   },
   {
    "duration": -42744,
    "start_time": "2022-02-28T20:26:18.615Z"
   },
   {
    "duration": -42747,
    "start_time": "2022-02-28T20:26:18.619Z"
   },
   {
    "duration": -42750,
    "start_time": "2022-02-28T20:26:18.623Z"
   },
   {
    "duration": 42,
    "start_time": "2022-02-28T20:26:26.305Z"
   },
   {
    "duration": 3,
    "start_time": "2022-02-28T20:27:09.554Z"
   },
   {
    "duration": 173,
    "start_time": "2022-02-28T20:27:09.559Z"
   },
   {
    "duration": 11,
    "start_time": "2022-02-28T20:27:09.735Z"
   },
   {
    "duration": 44,
    "start_time": "2022-02-28T20:27:09.748Z"
   },
   {
    "duration": 5,
    "start_time": "2022-02-28T20:27:09.794Z"
   },
   {
    "duration": 15,
    "start_time": "2022-02-28T20:27:09.801Z"
   },
   {
    "duration": 4,
    "start_time": "2022-02-28T20:27:09.818Z"
   },
   {
    "duration": 61,
    "start_time": "2022-02-28T20:27:09.824Z"
   },
   {
    "duration": 20,
    "start_time": "2022-02-28T20:27:09.890Z"
   },
   {
    "duration": 26,
    "start_time": "2022-02-28T20:27:09.912Z"
   },
   {
    "duration": 88,
    "start_time": "2022-02-28T20:27:09.940Z"
   },
   {
    "duration": 90,
    "start_time": "2022-02-28T20:27:10.031Z"
   },
   {
    "duration": 66,
    "start_time": "2022-02-28T20:27:10.123Z"
   },
   {
    "duration": 46,
    "start_time": "2022-02-28T20:27:10.191Z"
   },
   {
    "duration": 4,
    "start_time": "2022-02-28T20:27:10.240Z"
   },
   {
    "duration": 35,
    "start_time": "2022-02-28T20:27:10.246Z"
   },
   {
    "duration": 45,
    "start_time": "2022-02-28T20:27:10.283Z"
   },
   {
    "duration": 13,
    "start_time": "2022-02-28T20:27:10.330Z"
   },
   {
    "duration": 39,
    "start_time": "2022-02-28T20:27:10.346Z"
   },
   {
    "duration": 5,
    "start_time": "2022-02-28T20:27:10.387Z"
   },
   {
    "duration": 25,
    "start_time": "2022-02-28T20:27:10.394Z"
   },
   {
    "duration": 19,
    "start_time": "2022-02-28T20:27:10.420Z"
   },
   {
    "duration": 44,
    "start_time": "2022-02-28T20:27:10.440Z"
   },
   {
    "duration": 16,
    "start_time": "2022-02-28T20:27:10.485Z"
   },
   {
    "duration": 22,
    "start_time": "2022-02-28T20:27:10.502Z"
   },
   {
    "duration": 16,
    "start_time": "2022-02-28T20:27:10.526Z"
   },
   {
    "duration": 32,
    "start_time": "2022-02-28T20:27:10.546Z"
   },
   {
    "duration": 13,
    "start_time": "2022-02-28T20:27:10.580Z"
   },
   {
    "duration": 11,
    "start_time": "2022-02-28T20:27:10.595Z"
   },
   {
    "duration": 4,
    "start_time": "2022-02-28T20:27:10.608Z"
   },
   {
    "duration": 24,
    "start_time": "2022-02-28T20:27:10.614Z"
   },
   {
    "duration": 43,
    "start_time": "2022-02-28T20:27:10.640Z"
   },
   {
    "duration": 23,
    "start_time": "2022-02-28T20:27:10.684Z"
   },
   {
    "duration": 13,
    "start_time": "2022-02-28T20:27:10.708Z"
   },
   {
    "duration": 9,
    "start_time": "2022-02-28T20:27:10.723Z"
   },
   {
    "duration": 4,
    "start_time": "2022-02-28T20:27:10.734Z"
   },
   {
    "duration": 42,
    "start_time": "2022-02-28T20:27:10.740Z"
   },
   {
    "duration": 6,
    "start_time": "2022-02-28T20:27:10.783Z"
   }
  ],
  "colab": {
   "collapsed_sections": [
    "E0vqbgi9ay0H",
    "VUC88oWjTJw2"
   ],
   "name": "yandex_music_project_2021.2.ipynb",
   "provenance": []
  },
  "kernelspec": {
   "display_name": "Python 3 (ipykernel)",
   "language": "python",
   "name": "python3"
  },
  "language_info": {
   "codemirror_mode": {
    "name": "ipython",
    "version": 3
   },
   "file_extension": ".py",
   "mimetype": "text/x-python",
   "name": "python",
   "nbconvert_exporter": "python",
   "pygments_lexer": "ipython3",
   "version": "3.9.5"
  },
  "toc": {
   "base_numbering": 1,
   "nav_menu": {},
   "number_sections": true,
   "sideBar": true,
   "skip_h1_title": true,
   "title_cell": "Table of Contents",
   "title_sidebar": "Contents",
   "toc_cell": false,
   "toc_position": {
    "height": "calc(100% - 180px)",
    "left": "10px",
    "top": "150px",
    "width": "193.6px"
   },
   "toc_section_display": true,
   "toc_window_display": true
  }
 },
 "nbformat": 4,
 "nbformat_minor": 1
}
